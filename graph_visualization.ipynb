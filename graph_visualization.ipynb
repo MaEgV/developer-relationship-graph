{
 "cells": [
  {
   "cell_type": "markdown",
   "id": "married-mistake",
   "metadata": {},
   "source": [
    "# Developer social graph vizualization"
   ]
  },
  {
   "cell_type": "markdown",
   "id": "multiple-lloyd",
   "metadata": {},
   "source": [
    "This code builds and visualizes the social graph of developers based on data in .csv format  \n",
    "\n",
    "* **Networkx** is used to create and process the graph  \n",
    "* **Plotly** is used for visualization. It can be combined with the Dash web framework"
   ]
  },
  {
   "cell_type": "markdown",
   "id": "olive-component",
   "metadata": {},
   "source": [
    "## 1) Import, helper functions implementation and constants defining"
   ]
  },
  {
   "cell_type": "code",
   "execution_count": 404,
   "id": "preliminary-mediterranean",
   "metadata": {},
   "outputs": [],
   "source": [
    "import plotly.graph_objects as go\n",
    "import plotly.express as px\n",
    "import pandas as pd\n",
    "import networkx as nx\n",
    "import numpy as np\n",
    "from itertools import combinations\n",
    "from sklearn import preprocessing\n",
    "from ast import literal_eval as le\n",
    "import math\n",
    "\n",
    "\n",
    "# Parameters:\n",
    "min_value_for_edge = 0.6\n",
    "weights_params = {'file_coef': 1, 'time_coef': -0.5}  # Parameters for edges creating\n",
    "node_size_coef, edge_width_coef = 40, 1\n",
    "\n",
    "# Constants:\n",
    "first_date = [2013, 5, 26]  # repository was created (min date)\n",
    "last_date = [2021, 4, 7]  # data was loaded (max date)\n",
    "sigma_num = 2  # number of sigma in time interval\n",
    "users_filename = 'data/users/users.csv'  # A file that contains information about developers\n",
    "changes_path = 'data/files/'  # Information about changes in files from each developer\n",
    "commits_path = 'data/commits/'  # Information about commits of developers\n",
    "\n",
    "# Helper functions\n",
    "def min_max(iterable):\n",
    "    # minmax normalization\n",
    "    m, M = min(iterable), max(iterable)\n",
    "    denominator = (M - m)\n",
    "    return list(map(lambda x: (x - m) / denominator, iterable))\n",
    "\n",
    "def get_min_max(m: float, M: float):\n",
    "    # Returns minmax function for non iterable object (it should be used in map function)\n",
    "    denominator = (M - m)\n",
    "    return lambda x: (x - m) / denominator\n",
    "\n",
    "def get_interval(sigmas_num: float, data):\n",
    "    # Returns (mean - std, mean + std) interval\n",
    "    sigma = np.std(data) * sigmas_num\n",
    "    mean = np.mean(data)\n",
    "    return np.array([max(mean - sigma, 0), min(mean + sigma, 1)])"
   ]
  },
  {
   "cell_type": "markdown",
   "id": "after-caribbean",
   "metadata": {},
   "source": [
    "## 2) Graph creating"
   ]
  },
  {
   "cell_type": "code",
   "execution_count": 405,
   "id": "pressed-taylor",
   "metadata": {},
   "outputs": [],
   "source": [
    "G = nx.Graph()\n",
    "\n",
    "users = pd.read_csv(users_filename)['login']\n",
    "G.add_nodes_from(users)"
   ]
  },
  {
   "cell_type": "markdown",
   "id": "ongoing-maintenance",
   "metadata": {},
   "source": [
    "## 3) Data proccessing"
   ]
  },
  {
   "cell_type": "code",
   "execution_count": 406,
   "id": "announced-toner",
   "metadata": {},
   "outputs": [],
   "source": [
    "# Weights creating:\n",
    "edges = [edge for edge in combinations(users, 2)]  # Pairs of users"
   ]
  },
  {
   "cell_type": "markdown",
   "id": "engaging-founder",
   "metadata": {},
   "source": [
    "### 3.1) Data reading, parsing and converting in *pre-feature* condition"
   ]
  },
  {
   "cell_type": "code",
   "execution_count": 407,
   "id": "worse-johnston",
   "metadata": {},
   "outputs": [],
   "source": [
    "# Files intersections:\n",
    "users_changes = dict()\n",
    "files_frequency = dict()\n",
    "for user in users:\n",
    "    users_changes[user] = set(pd.read_csv(changes_path + user + '_files.csv')['filename'])  # Load changes and link them with author\n",
    "    for file in users_changes[user]:\n",
    "        files_frequency[file] = files_frequency.get(file, 0) + 1  # Count frequency to reduce the impact of popular files(like tests, docx or readme)\n",
    "\n",
    "        \n",
    "# Dates intersections:\n",
    "to_days = lambda x: round(x[0] * 365.25 + x[1] * 30 + x[2])  # approximate number of days since the birth of Christ\n",
    "custom_min_max = get_min_max(to_days(first_date), to_days(last_date))\n",
    "\n",
    "main_activity_interval = dict()\n",
    "for user in users:\n",
    "    commits_in_str = list(pd.read_csv(commits_path + user + '_commits.csv')['commit'])  # Long string from the file\n",
    "    commits_in_dict = list(map(le, commits_in_str))  # ---------------------------------- Dictionary representation\n",
    "    times = list(map(lambda x: x['author']['date'], commits_in_dict))  # ---------------- Get time: ---------------- 2019-08-29T23:04:47Z\n",
    "    dates = list(map(lambda x: x.split('T')[0], times))  # ------------------------------ Just date: --------------- 2019-08-29T23:04:47Z -> 2019-08-29\n",
    "    splited_dates = list(map(lambda x: [int(elem) for elem in x.split('-')], dates))  # - Date in a convenient form: 2019-08-29 -> [2019, 8, 29]\n",
    "    date_in_days = list(map(to_days, splited_dates))  # --------------------------------- Date in days form: ------- [2019, 8, 29] -> 737709\n",
    "    normilized_date = list(map(custom_min_max, date_in_days))\n",
    "    main_activity_interval[user] = get_interval(sigma_num, normilized_date)\n"
   ]
  },
  {
   "cell_type": "markdown",
   "id": "better-treat",
   "metadata": {},
   "source": [
    "### 3.2) Feature creating"
   ]
  },
  {
   "cell_type": "code",
   "execution_count": 408,
   "id": "atmospheric-twelve",
   "metadata": {},
   "outputs": [],
   "source": [
    "features_matrix = list()\n",
    "# Files feature:\n",
    "file_feature = list()\n",
    "for edge in edges:\n",
    "    files_intersection = users_changes[edge[0]].intersection(users_changes[edge[1]])  # Overlapping files for a pair of developers\n",
    "    if files_intersection:\n",
    "        file_feature.append(len(files_intersection) / sum([files_frequency[file] for file in files_intersection]))  # Remember about the frequency of files from prev block\n",
    "    else:\n",
    "        file_feature.append(0)  # No intersections = no links\n",
    "                                                             \n",
    "features_matrix.append(min_max(file_feature))\n",
    "                       \n",
    "    \n",
    "# Time feature:\n",
    "time_feature = list()\n",
    "for edge in edges:\n",
    "    time_intersection = np.absolute(main_activity_interval[edge[0]] - main_activity_interval[edge[1]])\n",
    "    time_feature.append(sum(time_intersection))\n",
    "                                                        \n",
    "features_matrix.append(min_max(time_feature))"
   ]
  },
  {
   "cell_type": "markdown",
   "id": "imported-photographer",
   "metadata": {},
   "source": [
    "## 4) Adding fetures in graph"
   ]
  },
  {
   "cell_type": "code",
   "execution_count": 409,
   "id": "dated-course",
   "metadata": {},
   "outputs": [],
   "source": [
    "# Weights creating:\n",
    "weights_vector = np.array(list(weights_params.values())).dot(np.array(features_matrix))\n",
    "                                                         \n",
    "# Weights normalization:\n",
    "normilized_weights = min_max(weights_vector)\n",
    "    \n",
    "# Edges creating:\n",
    "for pair in zip(edges, normilized_weights):\n",
    "    edge, weight = pair\n",
    "    if weight > min_value_for_edge:  # Сheck discards minor links from the graff\n",
    "        G.add_edge(edge[0], edge[1], weight=weight)"
   ]
  },
  {
   "cell_type": "markdown",
   "id": "natural-empty",
   "metadata": {},
   "source": [
    "## 5) Graph rendering"
   ]
  },
  {
   "cell_type": "code",
   "execution_count": 410,
   "id": "criminal-triangle",
   "metadata": {},
   "outputs": [],
   "source": [
    "pos = nx.drawing.nx_agraph.graphviz_layout(G, prog='fdp')  # Nodes positions\n",
    "trace = []  # Traces container"
   ]
  },
  {
   "cell_type": "markdown",
   "id": "golden-ordering",
   "metadata": {},
   "source": [
    "### 5.1) Edge proccessing"
   ]
  },
  {
   "cell_type": "code",
   "execution_count": 411,
   "id": "decent-transaction",
   "metadata": {},
   "outputs": [],
   "source": [
    "for edge in G.edges():\n",
    "    x0, y0 = pos[edge[0]]\n",
    "    x1, y1 = pos[edge[1]]\n",
    "    x=np.linspace(x0*2, x1*2, 15)\n",
    "    y=np.linspace(y0*2, y1*2, 15)\n",
    "    # x=tuple([x0*2, x1*2, None]), y=tuple([y0*2, y1*2, None]),\n",
    "    weight = G.edges[edge]['weight']\n",
    "    edge_trace = go.Scatter(x=x, y=y,\n",
    "                            opacity=weight,\n",
    "                            name=str(weight),\n",
    "                            hoverinfo='text',\n",
    "                            mode='lines',\n",
    "                            line={'width': weight * edge_width_coef, 'color': 'brown'})\n",
    "    edge_trace.text = \\\n",
    "    f'Edge: {edge}\\\n",
    "    <br>Weight: {round(weight, 2)}'\n",
    "    \n",
    "    trace.append(edge_trace)\n",
    "    \n",
    "    "
   ]
  },
  {
   "cell_type": "markdown",
   "id": "matched-hotel",
   "metadata": {},
   "source": [
    "### 5.2) Nodes proccessing"
   ]
  },
  {
   "cell_type": "code",
   "execution_count": 412,
   "id": "matched-intelligence",
   "metadata": {},
   "outputs": [],
   "source": [
    "node_x = []\n",
    "node_y = []\n",
    "for node in G.nodes():\n",
    "    x, y = pos[node]\n",
    "    node_x.append(x*2)\n",
    "    node_y.append(y*2)\n",
    "    \n",
    "# Creating sizes for nodes\n",
    "size_list = list(map(len, users_changes.values()))\n",
    "normilized_sizes = np.array(list(map(lambda x: max(0.3, x), min_max(size_list))))\n",
    "\n",
    "node_trace = go.Scatter(\n",
    "    x=node_x, y=node_y,\n",
    "    mode='markers',\n",
    "    hoverinfo='text',\n",
    "    marker=dict(\n",
    "        showscale=True,\n",
    "        colorscale='deep',\n",
    "        size=normilized_sizes * node_size_coef,\n",
    "        colorbar=dict(\n",
    "            thickness=15,\n",
    "            title='Adjacency num',\n",
    "            xanchor='left',\n",
    "            titleside='right'\n",
    "        ),\n",
    "        line_width=1, line_color='red'))\n",
    "\n",
    "trace.append(node_trace)\n",
    "\n",
    "# Hover label creating:\n",
    "node_adjacencies = []\n",
    "node_text = []\n",
    "for node, adjacencies in enumerate(G.adjacency()):\n",
    "    node_adjacencies.append(len(adjacencies[1]))\n",
    "    node_text.append(f'Username: {adjacencies[0]}\\\n",
    "                     <br>Files changed: {len(users_changes[adjacencies[0]])}\\\n",
    "                     <br>Activity interval: {np.round(main_activity_interval[adjacencies[0]] * (last_date[0] - first_date[0]) + first_date[0])}\\\n",
    "                     <br>Adjacency num: {len(adjacencies[1])}')\n",
    "\n",
    "# Hover label adding:\n",
    "node_trace.marker.color = node_adjacencies\n",
    "node_trace.text = node_text"
   ]
  },
  {
   "cell_type": "markdown",
   "id": "adverse-evening",
   "metadata": {},
   "source": [
    "### 5.3) Figure creating and rendering"
   ]
  },
  {
   "cell_type": "code",
   "execution_count": 413,
   "id": "anonymous-buffalo",
   "metadata": {},
   "outputs": [
    {
     "data": {
      "application/vnd.plotly.v1+json": {
       "config": {
        "plotlyServerURL": "https://plot.ly"
       },
       "data": [
        {
         "hoverinfo": "text",
         "line": {
          "color": "brown",
          "width": 0.721866504926751
         },
         "mode": "lines",
         "name": "0.721866504926751",
         "opacity": 0.721866504926751,
         "text": "Edge: ('zpao', 'sophiebits')    <br>Weight: 0.72",
         "type": "scatter",
         "x": [
          1349.08,
          1387.1457142857141,
          1425.2114285714285,
          1463.2771428571427,
          1501.3428571428572,
          1539.4085714285713,
          1577.4742857142858,
          1615.54,
          1653.6057142857144,
          1691.6714285714286,
          1729.7371428571428,
          1767.8028571428572,
          1805.8685714285714,
          1843.9342857142858,
          1882
         ],
         "y": [
          1168.58,
          1176,
          1183.4199999999998,
          1190.84,
          1198.26,
          1205.68,
          1213.1,
          1220.52,
          1227.94,
          1235.36,
          1242.78,
          1250.2,
          1257.6200000000001,
          1265.04,
          1272.46
         ]
        },
        {
         "hoverinfo": "text",
         "line": {
          "color": "brown",
          "width": 0.6730728622454369
         },
         "mode": "lines",
         "name": "0.6730728622454369",
         "opacity": 0.6730728622454369,
         "text": "Edge: ('zpao', 'jimfb')    <br>Weight: 0.67",
         "type": "scatter",
         "x": [
          1349.08,
          1358.0771428571427,
          1367.0742857142857,
          1376.0714285714284,
          1385.0685714285714,
          1394.0657142857142,
          1403.0628571428572,
          1412.06,
          1421.0571428571427,
          1430.0542857142857,
          1439.0514285714285,
          1448.0485714285714,
          1457.0457142857142,
          1466.0428571428572,
          1475.04
         ],
         "y": [
          1168.58,
          1137.7571428571428,
          1106.9342857142856,
          1076.1114285714284,
          1045.2885714285715,
          1014.4657142857143,
          983.6428571428571,
          952.8199999999999,
          921.9971428571428,
          891.1742857142856,
          860.3514285714285,
          829.5285714285714,
          798.7057142857143,
          767.8828571428571,
          737.06
         ]
        },
        {
         "hoverinfo": "text",
         "line": {
          "color": "brown",
          "width": 0.7980304576724391
         },
         "mode": "lines",
         "name": "0.7980304576724391",
         "opacity": 0.7980304576724391,
         "text": "Edge: ('zpao', 'petehunt')    <br>Weight: 0.8",
         "type": "scatter",
         "x": [
          1349.08,
          1337.2871428571427,
          1325.4942857142858,
          1313.7014285714286,
          1301.9085714285713,
          1290.1157142857141,
          1278.3228571428572,
          1266.53,
          1254.7371428571428,
          1242.9442857142858,
          1231.1514285714286,
          1219.3585714285714,
          1207.5657142857144,
          1195.7728571428572,
          1183.98
         ],
         "y": [
          1168.58,
          1188.3385714285714,
          1208.097142857143,
          1227.8557142857142,
          1247.6142857142856,
          1267.3728571428571,
          1287.1314285714286,
          1306.8899999999999,
          1326.6485714285714,
          1346.4071428571428,
          1366.1657142857143,
          1385.9242857142858,
          1405.682857142857,
          1425.4414285714286,
          1445.2
         ]
        },
        {
         "hoverinfo": "text",
         "line": {
          "color": "brown",
          "width": 0.6759632329197748
         },
         "mode": "lines",
         "name": "0.6759632329197748",
         "opacity": 0.6759632329197748,
         "text": "Edge: ('zpao', 'chenglou')    <br>Weight: 0.68",
         "type": "scatter",
         "x": [
          1349.08,
          1366.0828571428572,
          1383.0857142857142,
          1400.0885714285714,
          1417.0914285714284,
          1434.0942857142857,
          1451.097142857143,
          1468.1,
          1485.1028571428571,
          1502.1057142857142,
          1519.1085714285714,
          1536.1114285714284,
          1553.1142857142856,
          1570.1171428571429,
          1587.12
         ],
         "y": [
          1168.58,
          1185.4457142857143,
          1202.3114285714285,
          1219.1771428571428,
          1236.0428571428572,
          1252.9085714285713,
          1269.7742857142857,
          1286.6399999999999,
          1303.5057142857142,
          1320.3714285714286,
          1337.2371428571428,
          1354.1028571428571,
          1370.9685714285715,
          1387.8342857142857,
          1404.7
         ]
        },
        {
         "hoverinfo": "text",
         "line": {
          "color": "brown",
          "width": 0.6576017037405144
         },
         "mode": "lines",
         "name": "0.6576017037405144",
         "opacity": 0.6576017037405144,
         "text": "Edge: ('zpao', 'vjeux')    <br>Weight: 0.66",
         "type": "scatter",
         "x": [
          1349.08,
          1374.972857142857,
          1400.8657142857141,
          1426.7585714285713,
          1452.6514285714286,
          1478.5442857142857,
          1504.4371428571428,
          1530.33,
          1556.222857142857,
          1582.1157142857141,
          1608.0085714285715,
          1633.9014285714284,
          1659.7942857142857,
          1685.6871428571428,
          1711.58
         ],
         "y": [
          1168.58,
          1163.5942857142857,
          1158.6085714285714,
          1153.6228571428571,
          1148.6371428571429,
          1143.6514285714286,
          1138.6657142857143,
          1133.6799999999998,
          1128.6942857142856,
          1123.7085714285713,
          1118.722857142857,
          1113.7371428571428,
          1108.7514285714285,
          1103.7657142857142,
          1098.78
         ]
        },
        {
         "hoverinfo": "text",
         "line": {
          "color": "brown",
          "width": 0.6787780236818317
         },
         "mode": "lines",
         "name": "0.6787780236818317",
         "opacity": 0.6787780236818317,
         "text": "Edge: ('zpao', 'benjamn')    <br>Weight: 0.68",
         "type": "scatter",
         "x": [
          1349.08,
          1337.3028571428572,
          1325.5257142857142,
          1313.7485714285713,
          1301.9714285714285,
          1290.1942857142858,
          1278.4171428571428,
          1266.6399999999999,
          1254.8628571428571,
          1243.0857142857144,
          1231.3085714285714,
          1219.5314285714285,
          1207.7542857142857,
          1195.977142857143,
          1184.2
         ],
         "y": [
          1168.58,
          1212.21,
          1255.84,
          1299.47,
          1343.1,
          1386.73,
          1430.3600000000001,
          1473.99,
          1517.62,
          1561.25,
          1604.88,
          1648.51,
          1692.14,
          1735.77,
          1779.4
         ]
        },
        {
         "hoverinfo": "text",
         "line": {
          "color": "brown",
          "width": 0.8236385310379191
         },
         "mode": "lines",
         "name": "0.8236385310379191",
         "opacity": 0.8236385310379191,
         "text": "Edge: ('zpao', 'yungsters')    <br>Weight: 0.82",
         "type": "scatter",
         "x": [
          1349.08,
          1371.6057142857142,
          1394.1314285714286,
          1416.6571428571428,
          1439.182857142857,
          1461.7085714285713,
          1484.2342857142858,
          1506.76,
          1529.2857142857142,
          1551.8114285714287,
          1574.337142857143,
          1596.8628571428571,
          1619.3885714285716,
          1641.9142857142858,
          1664.44
         ],
         "y": [
          1168.58,
          1202.22,
          1235.86,
          1269.5,
          1303.1399999999999,
          1336.78,
          1370.4199999999998,
          1404.06,
          1437.6999999999998,
          1471.34,
          1504.98,
          1538.62,
          1572.26,
          1605.8999999999999,
          1639.54
         ]
        },
        {
         "hoverinfo": "text",
         "line": {
          "color": "brown",
          "width": 0.6468822877047982
         },
         "mode": "lines",
         "name": "0.6468822877047982",
         "opacity": 0.6468822877047982,
         "text": "Edge: ('zpao', 'subtleGradient')    <br>Weight: 0.65",
         "type": "scatter",
         "x": [
          1349.08,
          1303.8899999999999,
          1258.6999999999998,
          1213.51,
          1168.32,
          1123.1299999999999,
          1077.94,
          1032.75,
          987.56,
          942.3699999999999,
          897.18,
          851.99,
          806.8,
          761.6099999999999,
          716.42
         ],
         "y": [
          1168.58,
          1201.6214285714286,
          1234.662857142857,
          1267.7042857142856,
          1300.7457142857143,
          1333.787142857143,
          1366.8285714285714,
          1399.87,
          1432.9114285714286,
          1465.9528571428573,
          1498.9942857142858,
          1532.0357142857142,
          1565.077142857143,
          1598.1185714285716,
          1631.16
         ]
        },
        {
         "hoverinfo": "text",
         "line": {
          "color": "brown",
          "width": 0.6446083235864589
         },
         "mode": "lines",
         "name": "0.6446083235864589",
         "opacity": 0.6446083235864589,
         "text": "Edge: ('zpao', 'syranide')    <br>Weight: 0.64",
         "type": "scatter",
         "x": [
          1349.08,
          1341.6185714285714,
          1334.1571428571428,
          1326.6957142857143,
          1319.2342857142855,
          1311.772857142857,
          1304.3114285714285,
          1296.85,
          1289.3885714285714,
          1281.9271428571428,
          1274.4657142857143,
          1267.0042857142855,
          1259.542857142857,
          1252.0814285714284,
          1244.62
         ],
         "y": [
          1168.58,
          1205.2114285714285,
          1241.8428571428572,
          1278.4742857142855,
          1315.1057142857142,
          1351.7371428571428,
          1388.3685714285714,
          1425,
          1461.6314285714286,
          1498.2628571428572,
          1534.8942857142856,
          1571.5257142857142,
          1608.1571428571428,
          1644.7885714285715,
          1681.42
         ]
        },
        {
         "hoverinfo": "text",
         "line": {
          "color": "brown",
          "width": 0.6249196275914777
         },
         "mode": "lines",
         "name": "0.6249196275914777",
         "opacity": 0.6249196275914777,
         "text": "Edge: ('zpao', 'cpojer')    <br>Weight: 0.62",
         "type": "scatter",
         "x": [
          1349.08,
          1375.5557142857142,
          1402.0314285714285,
          1428.5071428571428,
          1454.982857142857,
          1481.4585714285713,
          1507.9342857142856,
          1534.4099999999999,
          1560.8857142857144,
          1587.3614285714286,
          1613.837142857143,
          1640.3128571428572,
          1666.7885714285715,
          1693.2642857142857,
          1719.74
         ],
         "y": [
          1168.58,
          1145.992857142857,
          1123.405714285714,
          1100.8185714285714,
          1078.2314285714285,
          1055.6442857142856,
          1033.057142857143,
          1010.47,
          987.8828571428571,
          965.2957142857142,
          942.7085714285714,
          920.1214285714286,
          897.5342857142857,
          874.9471428571428,
          852.36
         ]
        },
        {
         "hoverinfo": "text",
         "line": {
          "color": "brown",
          "width": 0.7214208481489884
         },
         "mode": "lines",
         "name": "0.7214208481489884",
         "opacity": 0.7214208481489884,
         "text": "Edge: ('zpao', 'marocchino')    <br>Weight: 0.72",
         "type": "scatter",
         "x": [
          1349.08,
          1324.32,
          1299.56,
          1274.8,
          1250.04,
          1225.28,
          1200.52,
          1175.76,
          1151,
          1126.24,
          1101.48,
          1076.72,
          1051.96,
          1027.2,
          1002.44
         ],
         "y": [
          1168.58,
          1140.34,
          1112.1,
          1083.86,
          1055.62,
          1027.3799999999999,
          999.14,
          970.9,
          942.66,
          914.4200000000001,
          886.1800000000001,
          857.94,
          829.7,
          801.46,
          773.22
         ]
        },
        {
         "hoverinfo": "text",
         "line": {
          "color": "brown",
          "width": 0.6907012468238405
         },
         "mode": "lines",
         "name": "0.6907012468238405",
         "opacity": 0.6907012468238405,
         "text": "Edge: ('zpao', 'kohei-takata')    <br>Weight: 0.69",
         "type": "scatter",
         "x": [
          1349.08,
          1344.1985714285713,
          1339.3171428571427,
          1334.4357142857143,
          1329.5542857142857,
          1324.672857142857,
          1319.7914285714285,
          1314.9099999999999,
          1310.0285714285715,
          1305.1471428571429,
          1300.2657142857142,
          1295.3842857142856,
          1290.5028571428572,
          1285.6214285714286,
          1280.74
         ],
         "y": [
          1168.58,
          1127.7385714285713,
          1086.8971428571429,
          1046.0557142857142,
          1005.2142857142857,
          964.3728571428571,
          923.5314285714285,
          882.6899999999999,
          841.8485714285714,
          801.0071428571428,
          760.1657142857142,
          719.3242857142857,
          678.482857142857,
          637.6414285714285,
          596.8
         ]
        },
        {
         "hoverinfo": "text",
         "line": {
          "color": "brown",
          "width": 0.6800999356858285
         },
         "mode": "lines",
         "name": "0.6800999356858285",
         "opacity": 0.6800999356858285,
         "text": "Edge: ('zpao', 'chicoxyzzy')    <br>Weight: 0.68",
         "type": "scatter",
         "x": [
          1349.08,
          1317.01,
          1284.94,
          1252.87,
          1220.8,
          1188.73,
          1156.6599999999999,
          1124.59,
          1092.52,
          1060.45,
          1028.38,
          996.31,
          964.24,
          932.1700000000001,
          900.1
         ],
         "y": [
          1168.58,
          1170.357142857143,
          1172.1342857142856,
          1173.9114285714286,
          1175.6885714285713,
          1177.4657142857143,
          1179.242857142857,
          1181.02,
          1182.797142857143,
          1184.5742857142857,
          1186.3514285714286,
          1188.1285714285714,
          1189.9057142857143,
          1191.682857142857,
          1193.46
         ]
        },
        {
         "hoverinfo": "text",
         "line": {
          "color": "brown",
          "width": 0.6202442472137893
         },
         "mode": "lines",
         "name": "0.6202442472137893",
         "opacity": 0.6202442472137893,
         "text": "Edge: ('zpao', 'mcsheffrey')    <br>Weight: 0.62",
         "type": "scatter",
         "x": [
          1349.08,
          1326.4442857142856,
          1303.8085714285714,
          1281.172857142857,
          1258.5371428571427,
          1235.9014285714286,
          1213.2657142857142,
          1190.63,
          1167.9942857142858,
          1145.3585714285714,
          1122.7228571428573,
          1100.087142857143,
          1077.4514285714286,
          1054.8157142857144,
          1032.18
         ],
         "y": [
          1168.58,
          1199.3799999999999,
          1230.1799999999998,
          1260.98,
          1291.78,
          1322.58,
          1353.3799999999999,
          1384.1799999999998,
          1414.98,
          1445.78,
          1476.58,
          1507.38,
          1538.1799999999998,
          1568.98,
          1599.78
         ]
        },
        {
         "hoverinfo": "text",
         "line": {
          "color": "brown",
          "width": 0.7027394419160228
         },
         "mode": "lines",
         "name": "0.7027394419160228",
         "opacity": 0.7027394419160228,
         "text": "Edge: ('zpao', 'joshduck')    <br>Weight: 0.7",
         "type": "scatter",
         "x": [
          1349.08,
          1350.7557142857142,
          1352.4314285714286,
          1354.107142857143,
          1355.782857142857,
          1357.4585714285713,
          1359.1342857142856,
          1360.81,
          1362.4857142857143,
          1364.1614285714286,
          1365.837142857143,
          1367.512857142857,
          1369.1885714285713,
          1370.8642857142856,
          1372.54
         ],
         "y": [
          1168.58,
          1183.9885714285713,
          1199.3971428571429,
          1214.8057142857142,
          1230.2142857142856,
          1245.6228571428571,
          1261.0314285714285,
          1276.44,
          1291.8485714285714,
          1307.2571428571428,
          1322.6657142857143,
          1338.0742857142857,
          1353.482857142857,
          1368.8914285714286,
          1384.3
         ]
        },
        {
         "hoverinfo": "text",
         "line": {
          "color": "brown",
          "width": 0.7856565277083414
         },
         "mode": "lines",
         "name": "0.7856565277083414",
         "opacity": 0.7856565277083414,
         "text": "Edge: ('zpao', 'Daniel15')    <br>Weight: 0.79",
         "type": "scatter",
         "x": [
          1349.08,
          1330.3771428571429,
          1311.6742857142856,
          1292.9714285714285,
          1274.2685714285715,
          1255.5657142857142,
          1236.8628571428571,
          1218.1599999999999,
          1199.4571428571428,
          1180.7542857142857,
          1162.0514285714285,
          1143.3485714285714,
          1124.6457142857143,
          1105.942857142857,
          1087.24
         ],
         "y": [
          1168.58,
          1152.242857142857,
          1135.905714285714,
          1119.5685714285714,
          1103.2314285714285,
          1086.8942857142856,
          1070.557142857143,
          1054.22,
          1037.8828571428571,
          1021.5457142857142,
          1005.2085714285714,
          988.8714285714286,
          972.5342857142857,
          956.1971428571428,
          939.86
         ]
        },
        {
         "hoverinfo": "text",
         "line": {
          "color": "brown",
          "width": 0.7449017988477188
         },
         "mode": "lines",
         "name": "0.7449017988477188",
         "opacity": 0.7449017988477188,
         "text": "Edge: ('zpao', 'fisherwebdev')    <br>Weight: 0.74",
         "type": "scatter",
         "x": [
          1349.08,
          1353.1757142857143,
          1357.2714285714285,
          1361.3671428571429,
          1365.462857142857,
          1369.5585714285714,
          1373.6542857142856,
          1377.75,
          1381.8457142857144,
          1385.9414285714286,
          1390.037142857143,
          1394.1328571428571,
          1398.2285714285715,
          1402.3242857142857,
          1406.42
         ],
         "y": [
          1168.58,
          1192.9199999999998,
          1217.26,
          1241.6,
          1265.9399999999998,
          1290.28,
          1314.62,
          1338.96,
          1363.3,
          1387.6399999999999,
          1411.98,
          1436.32,
          1460.6599999999999,
          1485,
          1509.34
         ]
        },
        {
         "hoverinfo": "text",
         "line": {
          "color": "brown",
          "width": 0.6363878725694069
         },
         "mode": "lines",
         "name": "0.6363878725694069",
         "opacity": 0.6363878725694069,
         "text": "Edge: ('zpao', 'jordwalke')    <br>Weight: 0.64",
         "type": "scatter",
         "x": [
          1349.08,
          1317.6299999999999,
          1286.1799999999998,
          1254.73,
          1223.28,
          1191.83,
          1160.3799999999999,
          1128.9299999999998,
          1097.48,
          1066.03,
          1034.58,
          1003.13,
          971.68,
          940.23,
          908.78
         ],
         "y": [
          1168.58,
          1191.2571428571428,
          1213.9342857142856,
          1236.6114285714284,
          1259.2885714285715,
          1281.9657142857143,
          1304.642857142857,
          1327.32,
          1349.9971428571428,
          1372.6742857142856,
          1395.3514285714284,
          1418.0285714285715,
          1440.7057142857143,
          1463.3828571428571,
          1486.06
         ]
        },
        {
         "hoverinfo": "text",
         "line": {
          "color": "brown",
          "width": 0.7288981690527697
         },
         "mode": "lines",
         "name": "0.7288981690527697",
         "opacity": 0.7288981690527697,
         "text": "Edge: ('zpao', 'arkist')    <br>Weight: 0.73",
         "type": "scatter",
         "x": [
          1349.08,
          1349.1671428571428,
          1349.2542857142857,
          1349.3414285714284,
          1349.4285714285713,
          1349.5157142857142,
          1349.6028571428571,
          1349.69,
          1349.7771428571427,
          1349.8642857142856,
          1349.9514285714286,
          1350.0385714285715,
          1350.1257142857141,
          1350.212857142857,
          1350.3
         ],
         "y": [
          1168.58,
          1154.1,
          1139.62,
          1125.1399999999999,
          1110.6599999999999,
          1096.18,
          1081.7,
          1067.22,
          1052.74,
          1038.26,
          1023.78,
          1009.3,
          994.8199999999999,
          980.34,
          965.86
         ]
        },
        {
         "hoverinfo": "text",
         "line": {
          "color": "brown",
          "width": 0.6756027458310533
         },
         "mode": "lines",
         "name": "0.6756027458310533",
         "opacity": 0.6756027458310533,
         "text": "Edge: ('zpao', 'cody')    <br>Weight: 0.68",
         "type": "scatter",
         "x": [
          1349.08,
          1396.4171428571428,
          1443.7542857142857,
          1491.0914285714284,
          1538.4285714285713,
          1585.7657142857142,
          1633.1028571428571,
          1680.44,
          1727.7771428571427,
          1775.1142857142856,
          1822.4514285714286,
          1869.7885714285712,
          1917.1257142857144,
          1964.462857142857,
          2011.8
         ],
         "y": [
          1168.58,
          1149.5828571428572,
          1130.5857142857142,
          1111.5885714285714,
          1092.5914285714284,
          1073.5942857142857,
          1054.597142857143,
          1035.6,
          1016.6028571428571,
          997.6057142857143,
          978.6085714285714,
          959.6114285714286,
          940.6142857142856,
          921.6171428571429,
          902.62
         ]
        },
        {
         "hoverinfo": "text",
         "line": {
          "color": "brown",
          "width": 0.6154271552102899
         },
         "mode": "lines",
         "name": "0.6154271552102899",
         "opacity": 0.6154271552102899,
         "text": "Edge: ('zpao', 'iamchenxin')    <br>Weight: 0.62",
         "type": "scatter",
         "x": [
          1349.08,
          1326.6871428571428,
          1304.2942857142857,
          1281.9014285714286,
          1259.5085714285713,
          1237.1157142857141,
          1214.722857142857,
          1192.33,
          1169.9371428571428,
          1147.5442857142857,
          1125.1514285714286,
          1102.7585714285715,
          1080.3657142857141,
          1057.972857142857,
          1035.58
         ],
         "y": [
          1168.58,
          1124.7042857142856,
          1080.8285714285714,
          1036.952857142857,
          993.0771428571428,
          949.2014285714286,
          905.3257142857143,
          861.45,
          817.5742857142857,
          773.6985714285715,
          729.8228571428572,
          685.9471428571429,
          642.0714285714287,
          598.1957142857144,
          554.32
         ]
        },
        {
         "hoverinfo": "text",
         "line": {
          "color": "brown",
          "width": 0.7001388023593837
         },
         "mode": "lines",
         "name": "0.7001388023593837",
         "opacity": 0.7001388023593837,
         "text": "Edge: ('gaearon', 'bvaughn')    <br>Weight: 0.7",
         "type": "scatter",
         "x": [
          3809,
          3820.5857142857144,
          3832.1714285714284,
          3843.7571428571428,
          3855.342857142857,
          3866.9285714285716,
          3878.5142857142855,
          3890.1,
          3901.6857142857143,
          3913.2714285714283,
          3924.8571428571427,
          3936.442857142857,
          3948.0285714285715,
          3959.6142857142854,
          3971.2
         ],
         "y": [
          1400.34,
          1423.7085714285713,
          1447.0771428571427,
          1470.4457142857143,
          1493.8142857142857,
          1517.182857142857,
          1540.5514285714285,
          1563.92,
          1587.2885714285715,
          1610.6571428571428,
          1634.0257142857142,
          1657.3942857142856,
          1680.7628571428572,
          1704.1314285714286,
          1727.5
         ]
        },
        {
         "hoverinfo": "text",
         "line": {
          "color": "brown",
          "width": 0.7425489766109225
         },
         "mode": "lines",
         "name": "0.7425489766109225",
         "opacity": 0.7425489766109225,
         "text": "Edge: ('gaearon', 'acdlite')    <br>Weight: 0.74",
         "type": "scatter",
         "x": [
          3809,
          3806.0285714285715,
          3803.057142857143,
          3800.0857142857144,
          3797.114285714286,
          3794.1428571428573,
          3791.171428571429,
          3788.2,
          3785.2285714285713,
          3782.2571428571428,
          3779.285714285714,
          3776.3142857142857,
          3773.342857142857,
          3770.3714285714286,
          3767.4
         ],
         "y": [
          1400.34,
          1411.812857142857,
          1423.2857142857142,
          1434.7585714285715,
          1446.2314285714285,
          1457.7042857142856,
          1469.1771428571428,
          1480.65,
          1492.1228571428571,
          1503.5957142857142,
          1515.0685714285714,
          1526.5414285714287,
          1538.0142857142857,
          1549.4871428571428,
          1560.96
         ]
        },
        {
         "hoverinfo": "text",
         "line": {
          "color": "brown",
          "width": 0.7205017800684788
         },
         "mode": "lines",
         "name": "0.7205017800684788",
         "opacity": 0.7205017800684788,
         "text": "Edge: ('gaearon', 'sebmarkbage')    <br>Weight: 0.72",
         "type": "scatter",
         "x": [
          3809,
          3759.342857142857,
          3709.6857142857143,
          3660.0285714285715,
          3610.3714285714286,
          3560.714285714286,
          3511.057142857143,
          3461.4,
          3411.7428571428572,
          3362.0857142857144,
          3312.4285714285716,
          3262.7714285714287,
          3213.114285714286,
          3163.457142857143,
          3113.8
         ],
         "y": [
          1400.34,
          1403.4071428571428,
          1406.4742857142855,
          1409.5414285714285,
          1412.6085714285714,
          1415.6757142857143,
          1418.742857142857,
          1421.81,
          1424.8771428571429,
          1427.9442857142856,
          1431.0114285714285,
          1434.0785714285714,
          1437.1457142857143,
          1440.212857142857,
          1443.28
         ]
        },
        {
         "hoverinfo": "text",
         "line": {
          "color": "brown",
          "width": 0.6962116636437916
         },
         "mode": "lines",
         "name": "0.6962116636437916",
         "opacity": 0.6962116636437916,
         "text": "Edge: ('gaearon', 'trueadm')    <br>Weight: 0.7",
         "type": "scatter",
         "x": [
          3809,
          3811.7714285714287,
          3814.542857142857,
          3817.3142857142857,
          3820.0857142857144,
          3822.857142857143,
          3825.6285714285714,
          3828.4,
          3831.171428571429,
          3833.942857142857,
          3836.714285714286,
          3839.4857142857145,
          3842.257142857143,
          3845.0285714285715,
          3847.8
         ],
         "y": [
          1400.34,
          1393.5171428571427,
          1386.6942857142856,
          1379.8714285714284,
          1373.0485714285714,
          1366.2257142857143,
          1359.402857142857,
          1352.58,
          1345.7571428571428,
          1338.9342857142856,
          1332.1114285714284,
          1325.2885714285715,
          1318.4657142857143,
          1311.642857142857,
          1304.82
         ]
        },
        {
         "hoverinfo": "text",
         "line": {
          "color": "brown",
          "width": 0.706258242403718
         },
         "mode": "lines",
         "name": "0.706258242403718",
         "opacity": 0.706258242403718,
         "text": "Edge: ('gaearon', 'nhunzaker')    <br>Weight: 0.71",
         "type": "scatter",
         "x": [
          3809,
          3789.4714285714285,
          3769.942857142857,
          3750.4142857142856,
          3730.885714285714,
          3711.3571428571427,
          3691.828571428571,
          3672.3,
          3652.7714285714287,
          3633.2428571428572,
          3613.714285714286,
          3594.1857142857143,
          3574.657142857143,
          3555.1285714285714,
          3535.6
         ],
         "y": [
          1400.34,
          1364.9099999999999,
          1329.48,
          1294.05,
          1258.62,
          1223.19,
          1187.76,
          1152.33,
          1116.9,
          1081.47,
          1046.04,
          1010.61,
          975.1800000000001,
          939.75,
          904.32
         ]
        },
        {
         "hoverinfo": "text",
         "line": {
          "color": "brown",
          "width": 0.6090473160656117
         },
         "mode": "lines",
         "name": "0.6090473160656117",
         "opacity": 0.6090473160656117,
         "text": "Edge: ('gaearon', 'necolas')    <br>Weight: 0.61",
         "type": "scatter",
         "x": [
          3809,
          3839.157142857143,
          3869.3142857142857,
          3899.4714285714285,
          3929.6285714285714,
          3959.785714285714,
          3989.942857142857,
          4020.1,
          4050.2571428571428,
          4080.4142857142856,
          4110.571428571428,
          4140.728571428572,
          4170.885714285714,
          4201.0428571428565,
          4231.2
         ],
         "y": [
          1400.34,
          1397.3814285714284,
          1394.422857142857,
          1391.4642857142858,
          1388.5057142857142,
          1385.5471428571427,
          1382.5885714285714,
          1379.63,
          1376.6714285714286,
          1373.712857142857,
          1370.7542857142857,
          1367.7957142857144,
          1364.837142857143,
          1361.8785714285714,
          1358.92
         ]
        },
        {
         "hoverinfo": "text",
         "line": {
          "color": "brown",
          "width": 0.6725490578179311
         },
         "mode": "lines",
         "name": "0.6725490578179311",
         "opacity": 0.6725490578179311,
         "text": "Edge: ('gaearon', 'aweary')    <br>Weight: 0.67",
         "type": "scatter",
         "x": [
          3809,
          3782.6285714285714,
          3756.2571428571428,
          3729.885714285714,
          3703.514285714286,
          3677.1428571428573,
          3650.7714285714287,
          3624.4,
          3598.0285714285715,
          3571.657142857143,
          3545.285714285714,
          3518.914285714286,
          3492.5428571428574,
          3466.171428571429,
          3439.8
         ],
         "y": [
          1400.34,
          1372.4671428571428,
          1344.5942857142857,
          1316.7214285714285,
          1288.8485714285714,
          1260.9757142857143,
          1233.1028571428571,
          1205.23,
          1177.357142857143,
          1149.4842857142858,
          1121.6114285714286,
          1093.7385714285715,
          1065.8657142857141,
          1037.9928571428572,
          1010.12
         ]
        },
        {
         "hoverinfo": "text",
         "line": {
          "color": "brown",
          "width": 0.656140059493398
         },
         "mode": "lines",
         "name": "0.656140059493398",
         "opacity": 0.656140059493398,
         "text": "Edge: ('gaearon', 'eps1lon')    <br>Weight: 0.66",
         "type": "scatter",
         "x": [
          3809,
          3836.3714285714286,
          3863.7428571428572,
          3891.114285714286,
          3918.485714285714,
          3945.8571428571427,
          3973.2285714285713,
          4000.6,
          4027.9714285714285,
          4055.342857142857,
          4082.714285714286,
          4110.085714285714,
          4137.457142857143,
          4164.828571428571,
          4192.2
         ],
         "y": [
          1400.34,
          1414.8,
          1429.26,
          1443.72,
          1458.1799999999998,
          1472.6399999999999,
          1487.1,
          1501.56,
          1516.02,
          1530.48,
          1544.94,
          1559.4,
          1573.86,
          1588.32,
          1602.78
         ]
        },
        {
         "hoverinfo": "text",
         "line": {
          "color": "brown",
          "width": 0.6974702436453097
         },
         "mode": "lines",
         "name": "0.6974702436453097",
         "opacity": 0.6974702436453097,
         "text": "Edge: ('gaearon', 'SimenB')    <br>Weight: 0.7",
         "type": "scatter",
         "x": [
          3809,
          3830.3571428571427,
          3851.714285714286,
          3873.0714285714284,
          3894.4285714285716,
          3915.785714285714,
          3937.1428571428573,
          3958.5,
          3979.8571428571427,
          4001.214285714286,
          4022.5714285714284,
          4043.9285714285716,
          4065.285714285714,
          4086.6428571428573,
          4108
         ],
         "y": [
          1400.34,
          1379.8071428571427,
          1359.2742857142857,
          1338.7414285714285,
          1318.2085714285713,
          1297.6757142857143,
          1277.142857142857,
          1256.6100000000001,
          1236.077142857143,
          1215.5442857142857,
          1195.0114285714287,
          1174.4785714285715,
          1153.9457142857143,
          1133.4128571428573,
          1112.88
         ]
        },
        {
         "hoverinfo": "text",
         "line": {
          "color": "brown",
          "width": 0.6082307888038548
         },
         "mode": "lines",
         "name": "0.6082307888038548",
         "opacity": 0.6082307888038548,
         "text": "Edge: ('gaearon', 'iamdustan')    <br>Weight: 0.61",
         "type": "scatter",
         "x": [
          3809,
          3800.3,
          3791.6,
          3782.9,
          3774.2,
          3765.5,
          3756.7999999999997,
          3748.1,
          3739.4,
          3730.7,
          3722,
          3713.2999999999997,
          3704.6,
          3695.8999999999996,
          3687.2
         ],
         "y": [
          1400.34,
          1441.02,
          1481.6999999999998,
          1522.3799999999999,
          1563.06,
          1603.74,
          1644.4199999999998,
          1685.1,
          1725.78,
          1766.46,
          1807.1399999999999,
          1847.82,
          1888.5,
          1929.1799999999998,
          1969.86
         ]
        },
        {
         "hoverinfo": "text",
         "line": {
          "color": "brown",
          "width": 0.6833957441320856
         },
         "mode": "lines",
         "name": "0.6833957441320856",
         "opacity": 0.6833957441320856,
         "text": "Edge: ('gaearon', 'sompylasar')    <br>Weight: 0.68",
         "type": "scatter",
         "x": [
          3809,
          3856.8285714285716,
          3904.657142857143,
          3952.4857142857145,
          4000.3142857142857,
          4048.1428571428573,
          4095.971428571429,
          4143.8,
          4191.628571428571,
          4239.4571428571435,
          4287.285714285715,
          4335.114285714286,
          4382.942857142858,
          4430.771428571429,
          4478.6
         ],
         "y": [
          1400.34,
          1403.1299999999999,
          1405.9199999999998,
          1408.71,
          1411.5,
          1414.29,
          1417.08,
          1419.87,
          1422.66,
          1425.45,
          1428.24,
          1431.03,
          1433.8200000000002,
          1436.6100000000001,
          1439.4
         ]
        },
        {
         "hoverinfo": "text",
         "line": {
          "color": "brown",
          "width": 0.7365183618438045
         },
         "mode": "lines",
         "name": "0.7365183618438045",
         "opacity": 0.7365183618438045,
         "text": "Edge: ('gaearon', 'raphamorim')    <br>Weight: 0.74",
         "type": "scatter",
         "x": [
          3809,
          3816.442857142857,
          3823.885714285714,
          3831.328571428571,
          3838.7714285714287,
          3846.214285714286,
          3853.657142857143,
          3861.1,
          3868.542857142857,
          3875.985714285714,
          3883.428571428571,
          3890.8714285714286,
          3898.3142857142857,
          3905.7571428571428,
          3913.2
         ],
         "y": [
          1400.34,
          1351.7871428571427,
          1303.2342857142858,
          1254.6814285714286,
          1206.1285714285714,
          1157.5757142857142,
          1109.022857142857,
          1060.47,
          1011.9171428571428,
          963.3642857142856,
          914.8114285714286,
          866.2585714285715,
          817.7057142857143,
          769.1528571428571,
          720.6
         ]
        },
        {
         "hoverinfo": "text",
         "line": {
          "color": "brown",
          "width": 0.6249689160064585
         },
         "mode": "lines",
         "name": "0.6249689160064585",
         "opacity": 0.6249689160064585,
         "text": "Edge: ('gaearon', 'bl00mber')    <br>Weight: 0.62",
         "type": "scatter",
         "x": [
          3809,
          3825.6428571428573,
          3842.285714285714,
          3858.9285714285716,
          3875.5714285714284,
          3892.214285714286,
          3908.8571428571427,
          3925.5,
          3942.1428571428573,
          3958.785714285714,
          3975.4285714285716,
          3992.0714285714284,
          4008.714285714286,
          4025.3571428571427,
          4042
         ],
         "y": [
          1400.34,
          1438.0985714285714,
          1475.857142857143,
          1513.6157142857141,
          1551.3742857142856,
          1589.1328571428571,
          1626.8914285714286,
          1664.65,
          1702.4085714285713,
          1740.1671428571428,
          1777.9257142857143,
          1815.6842857142856,
          1853.442857142857,
          1891.2014285714286,
          1928.96
         ]
        },
        {
         "hoverinfo": "text",
         "line": {
          "color": "brown",
          "width": 0.6200369432494158
         },
         "mode": "lines",
         "name": "0.6200369432494158",
         "opacity": 0.6200369432494158,
         "text": "Edge: ('bvaughn', 'acdlite')    <br>Weight: 0.62",
         "type": "scatter",
         "x": [
          3971.2,
          3956.642857142857,
          3942.085714285714,
          3927.5285714285715,
          3912.9714285714285,
          3898.4142857142856,
          3883.8571428571427,
          3869.3,
          3854.7428571428572,
          3840.1857142857143,
          3825.6285714285714,
          3811.0714285714284,
          3796.514285714286,
          3781.957142857143,
          3767.4
         ],
         "y": [
          1727.5,
          1715.6042857142857,
          1703.7085714285715,
          1691.8128571428572,
          1679.9171428571428,
          1668.0214285714285,
          1656.1257142857144,
          1644.23,
          1632.3342857142857,
          1620.4385714285715,
          1608.5428571428572,
          1596.6471428571429,
          1584.7514285714287,
          1572.8557142857144,
          1560.96
         ]
        },
        {
         "hoverinfo": "text",
         "line": {
          "color": "brown",
          "width": 0.6254127642857159
         },
         "mode": "lines",
         "name": "0.6254127642857159",
         "opacity": 0.6254127642857159,
         "text": "Edge: ('bvaughn', 'sebmarkbage')    <br>Weight: 0.63",
         "type": "scatter",
         "x": [
          3971.2,
          3909.9571428571426,
          3848.714285714286,
          3787.4714285714285,
          3726.2285714285713,
          3664.985714285714,
          3603.7428571428572,
          3542.5,
          3481.2571428571428,
          3420.0142857142855,
          3358.7714285714287,
          3297.5285714285715,
          3236.2857142857147,
          3175.0428571428574,
          3113.8
         ],
         "y": [
          1727.5,
          1707.1985714285715,
          1686.8971428571429,
          1666.5957142857142,
          1646.2942857142857,
          1625.9928571428572,
          1605.6914285714286,
          1585.3899999999999,
          1565.0885714285714,
          1544.787142857143,
          1524.4857142857143,
          1504.1842857142856,
          1483.8828571428571,
          1463.5814285714287,
          1443.28
         ]
        },
        {
         "hoverinfo": "text",
         "line": {
          "color": "brown",
          "width": 0.6337269605495808
         },
         "mode": "lines",
         "name": "0.6337269605495808",
         "opacity": 0.6337269605495808,
         "text": "Edge: ('bvaughn', 'trueadm')    <br>Weight: 0.63",
         "type": "scatter",
         "x": [
          3971.2,
          3962.385714285714,
          3953.5714285714284,
          3944.7571428571428,
          3935.942857142857,
          3927.1285714285714,
          3918.3142857142857,
          3909.5,
          3900.6857142857143,
          3891.8714285714286,
          3883.057142857143,
          3874.2428571428572,
          3865.4285714285716,
          3856.614285714286,
          3847.8
         ],
         "y": [
          1727.5,
          1697.3085714285714,
          1667.1171428571429,
          1636.9257142857143,
          1606.7342857142858,
          1576.5428571428572,
          1546.3514285714286,
          1516.1599999999999,
          1485.9685714285713,
          1455.7771428571427,
          1425.5857142857142,
          1395.3942857142856,
          1365.202857142857,
          1335.0114285714285,
          1304.82
         ]
        },
        {
         "hoverinfo": "text",
         "line": {
          "color": "brown",
          "width": 0.6927009619223248
         },
         "mode": "lines",
         "name": "0.6927009619223248",
         "opacity": 0.6927009619223248,
         "text": "Edge: ('bvaughn', 'necolas')    <br>Weight: 0.69",
         "type": "scatter",
         "x": [
          3971.2,
          3989.7714285714283,
          4008.342857142857,
          4026.9142857142856,
          4045.485714285714,
          4064.0571428571425,
          4082.6285714285714,
          4101.2,
          4119.771428571428,
          4138.342857142857,
          4156.914285714285,
          4175.4857142857145,
          4194.057142857143,
          4212.628571428571,
          4231.2
         ],
         "y": [
          1727.5,
          1701.172857142857,
          1674.8457142857144,
          1648.5185714285715,
          1622.1914285714286,
          1595.8642857142856,
          1569.537142857143,
          1543.21,
          1516.8828571428571,
          1490.5557142857142,
          1464.2285714285715,
          1437.9014285714286,
          1411.574285714286,
          1385.247142857143,
          1358.92
         ]
        },
        {
         "hoverinfo": "text",
         "line": {
          "color": "brown",
          "width": 0.6580529010954961
         },
         "mode": "lines",
         "name": "0.6580529010954961",
         "opacity": 0.6580529010954961,
         "text": "Edge: ('bvaughn', 'rickhanlonii')    <br>Weight: 0.66",
         "type": "scatter",
         "x": [
          3971.2,
          3993.657142857143,
          4016.1142857142854,
          4038.5714285714284,
          4061.0285714285715,
          4083.4857142857145,
          4105.942857142857,
          4128.4,
          4150.857142857143,
          4173.314285714286,
          4195.771428571429,
          4218.228571428572,
          4240.685714285714,
          4263.142857142858,
          4285.6
         ],
         "y": [
          1727.5,
          1735.2171428571428,
          1742.9342857142858,
          1750.6514285714286,
          1758.3685714285714,
          1766.0857142857142,
          1773.8028571428572,
          1781.52,
          1789.2371428571428,
          1796.9542857142858,
          1804.6714285714286,
          1812.3885714285714,
          1820.1057142857142,
          1827.8228571428572,
          1835.54
         ]
        },
        {
         "hoverinfo": "text",
         "line": {
          "color": "brown",
          "width": 0.6193920458860286
         },
         "mode": "lines",
         "name": "0.6193920458860286",
         "opacity": 0.6193920458860286,
         "text": "Edge: ('bvaughn', 'lunaruan')    <br>Weight: 0.62",
         "type": "scatter",
         "x": [
          3971.2,
          3989.442857142857,
          4007.6857142857143,
          4025.9285714285716,
          4044.1714285714284,
          4062.4142857142856,
          4080.657142857143,
          4098.9,
          4117.142857142857,
          4135.385714285714,
          4153.628571428571,
          4171.871428571429,
          4190.114285714286,
          4208.357142857143,
          4226.6
         ],
         "y": [
          1727.5,
          1768.0928571428572,
          1808.6857142857143,
          1849.2785714285715,
          1889.8714285714286,
          1930.4642857142858,
          1971.057142857143,
          2011.65,
          2052.2428571428572,
          2092.8357142857144,
          2133.4285714285716,
          2174.0214285714287,
          2214.614285714286,
          2255.207142857143,
          2295.8
         ]
        },
        {
         "hoverinfo": "text",
         "line": {
          "color": "brown",
          "width": 0.8149671979115443
         },
         "mode": "lines",
         "name": "0.8149671979115443",
         "opacity": 0.8149671979115443,
         "text": "Edge: ('bvaughn', 'eps1lon')    <br>Weight: 0.81",
         "type": "scatter",
         "x": [
          3971.2,
          3986.985714285714,
          4002.7714285714283,
          4018.5571428571425,
          4034.342857142857,
          4050.1285714285714,
          4065.9142857142856,
          4081.7,
          4097.4857142857145,
          4113.271428571428,
          4129.057142857143,
          4144.842857142857,
          4160.628571428571,
          4176.414285714285,
          4192.2
         ],
         "y": [
          1727.5,
          1718.5914285714287,
          1709.682857142857,
          1700.7742857142857,
          1691.8657142857144,
          1682.9571428571428,
          1674.0485714285714,
          1665.1399999999999,
          1656.2314285714285,
          1647.3228571428572,
          1638.4142857142856,
          1629.5057142857142,
          1620.597142857143,
          1611.6885714285713,
          1602.78
         ]
        },
        {
         "hoverinfo": "text",
         "line": {
          "color": "brown",
          "width": 0.783367131449665
         },
         "mode": "lines",
         "name": "0.783367131449665",
         "opacity": 0.783367131449665,
         "text": "Edge: ('bvaughn', 'threepointone')    <br>Weight: 0.78",
         "type": "scatter",
         "x": [
          3971.2,
          4014.8571428571427,
          4058.5142857142855,
          4102.171428571428,
          4145.828571428571,
          4189.4857142857145,
          4233.142857142857,
          4276.799999999999,
          4320.457142857143,
          4364.114285714286,
          4407.771428571428,
          4451.428571428571,
          4495.085714285714,
          4538.742857142857,
          4582.4
         ],
         "y": [
          1727.5,
          1741.6557142857143,
          1755.8114285714287,
          1769.9671428571428,
          1784.1228571428571,
          1798.2785714285715,
          1812.4342857142858,
          1826.5900000000001,
          1840.7457142857143,
          1854.9014285714286,
          1869.057142857143,
          1883.2128571428573,
          1897.3685714285716,
          1911.5242857142857,
          1925.68
         ]
        },
        {
         "hoverinfo": "text",
         "line": {
          "color": "brown",
          "width": 0.9461247482828622
         },
         "mode": "lines",
         "name": "0.9461247482828622",
         "opacity": 0.9461247482828622,
         "text": "Edge: ('bvaughn', 'sompylasar')    <br>Weight: 0.95",
         "type": "scatter",
         "x": [
          3971.2,
          4007.442857142857,
          4043.6857142857143,
          4079.9285714285716,
          4116.171428571429,
          4152.414285714286,
          4188.657142857143,
          4224.9,
          4261.142857142857,
          4297.385714285714,
          4333.628571428571,
          4369.871428571429,
          4406.114285714286,
          4442.357142857143,
          4478.6
         ],
         "y": [
          1727.5,
          1706.9214285714286,
          1686.3428571428572,
          1665.7642857142857,
          1645.1857142857143,
          1624.607142857143,
          1604.0285714285715,
          1583.45,
          1562.8714285714286,
          1542.2928571428572,
          1521.7142857142858,
          1501.1357142857144,
          1480.557142857143,
          1459.9785714285715,
          1439.4
         ]
        },
        {
         "hoverinfo": "text",
         "line": {
          "color": "brown",
          "width": 0.8302387433430958
         },
         "mode": "lines",
         "name": "0.8302387433430958",
         "opacity": 0.8302387433430958,
         "text": "Edge: ('bvaughn', 'bl00mber')    <br>Weight: 0.83",
         "type": "scatter",
         "x": [
          3971.2,
          3976.2571428571428,
          3981.3142857142857,
          3986.3714285714286,
          3991.428571428571,
          3996.485714285714,
          4001.542857142857,
          4006.6,
          4011.657142857143,
          4016.714285714286,
          4021.7714285714287,
          4026.828571428571,
          4031.885714285714,
          4036.942857142857,
          4042
         ],
         "y": [
          1727.5,
          1741.89,
          1756.28,
          1770.67,
          1785.06,
          1799.45,
          1813.84,
          1828.23,
          1842.6200000000001,
          1857.01,
          1871.4,
          1885.79,
          1900.18,
          1914.57,
          1928.96
         ]
        },
        {
         "hoverinfo": "text",
         "line": {
          "color": "brown",
          "width": 0.6239722624771209
         },
         "mode": "lines",
         "name": "0.6239722624771209",
         "opacity": 0.6239722624771209,
         "text": "Edge: ('sophiebits', 'sebmarkbage')    <br>Weight: 0.62",
         "type": "scatter",
         "x": [
          1882,
          1969.9857142857143,
          2057.9714285714285,
          2145.957142857143,
          2233.942857142857,
          2321.9285714285716,
          2409.914285714286,
          2497.9,
          2585.885714285714,
          2673.8714285714286,
          2761.857142857143,
          2849.842857142857,
          2937.8285714285716,
          3025.8142857142857,
          3113.8
         ],
         "y": [
          1272.46,
          1284.6614285714286,
          1296.8628571428571,
          1309.0642857142857,
          1321.2657142857142,
          1333.4671428571428,
          1345.6685714285713,
          1357.87,
          1370.0714285714287,
          1382.2728571428572,
          1394.4742857142858,
          1406.6757142857143,
          1418.8771428571429,
          1431.0785714285714,
          1443.28
         ]
        },
        {
         "hoverinfo": "text",
         "line": {
          "color": "brown",
          "width": 0.6178758136482333
         },
         "mode": "lines",
         "name": "0.6178758136482333",
         "opacity": 0.6178758136482333,
         "text": "Edge: ('sophiebits', 'petehunt')    <br>Weight: 0.62",
         "type": "scatter",
         "x": [
          1882,
          1832.1414285714286,
          1782.2828571428572,
          1732.4242857142858,
          1682.5657142857142,
          1632.7071428571428,
          1582.8485714285714,
          1532.99,
          1483.1314285714286,
          1433.272857142857,
          1383.4142857142856,
          1333.5557142857142,
          1283.6971428571428,
          1233.8385714285714,
          1183.98
         ],
         "y": [
          1272.46,
          1284.7985714285714,
          1297.1371428571429,
          1309.4757142857143,
          1321.8142857142857,
          1334.152857142857,
          1346.4914285714285,
          1358.83,
          1371.1685714285716,
          1383.507142857143,
          1395.8457142857144,
          1408.1842857142858,
          1420.5228571428572,
          1432.8614285714286,
          1445.2
         ]
        },
        {
         "hoverinfo": "text",
         "line": {
          "color": "brown",
          "width": 0.6007779103686233
         },
         "mode": "lines",
         "name": "0.6007779103686233",
         "opacity": 0.6007779103686233,
         "text": "Edge: ('sophiebits', 'chenglou')    <br>Weight: 0.6",
         "type": "scatter",
         "x": [
          1882,
          1860.9371428571428,
          1839.8742857142856,
          1818.8114285714285,
          1797.7485714285715,
          1776.6857142857143,
          1755.6228571428571,
          1734.56,
          1713.4971428571428,
          1692.4342857142856,
          1671.3714285714284,
          1650.3085714285712,
          1629.2457142857143,
          1608.182857142857,
          1587.12
         ],
         "y": [
          1272.46,
          1281.9057142857143,
          1291.3514285714286,
          1300.797142857143,
          1310.2428571428572,
          1319.6885714285715,
          1329.1342857142859,
          1338.58,
          1348.0257142857142,
          1357.4714285714285,
          1366.9171428571428,
          1376.3628571428571,
          1385.8085714285714,
          1395.2542857142857,
          1404.7
         ]
        },
        {
         "hoverinfo": "text",
         "line": {
          "color": "brown",
          "width": 0.6485151689048804
         },
         "mode": "lines",
         "name": "0.6485151689048804",
         "opacity": 0.6485151689048804,
         "text": "Edge: ('sophiebits', 'vjeux')    <br>Weight: 0.65",
         "type": "scatter",
         "x": [
          1882,
          1869.827142857143,
          1857.6542857142856,
          1845.4814285714285,
          1833.3085714285714,
          1821.1357142857144,
          1808.962857142857,
          1796.79,
          1784.6171428571429,
          1772.4442857142856,
          1760.2714285714285,
          1748.0985714285714,
          1735.925714285714,
          1723.752857142857,
          1711.58
         ],
         "y": [
          1272.46,
          1260.0542857142857,
          1247.6485714285714,
          1235.2428571428572,
          1222.837142857143,
          1210.4314285714286,
          1198.0257142857142,
          1185.62,
          1173.2142857142858,
          1160.8085714285714,
          1148.402857142857,
          1135.9971428571428,
          1123.5914285714284,
          1111.1857142857143,
          1098.78
         ]
        },
        {
         "hoverinfo": "text",
         "line": {
          "color": "brown",
          "width": 0.6607861083325806
         },
         "mode": "lines",
         "name": "0.6607861083325806",
         "opacity": 0.6607861083325806,
         "text": "Edge: ('sophiebits', 'yungsters')    <br>Weight: 0.66",
         "type": "scatter",
         "x": [
          1882,
          1866.46,
          1850.92,
          1835.38,
          1819.84,
          1804.3,
          1788.76,
          1773.22,
          1757.68,
          1742.14,
          1726.6000000000001,
          1711.06,
          1695.52,
          1679.98,
          1664.44
         ],
         "y": [
          1272.46,
          1298.68,
          1324.9,
          1351.1200000000001,
          1377.34,
          1403.56,
          1429.78,
          1456,
          1482.22,
          1508.44,
          1534.6599999999999,
          1560.88,
          1587.1,
          1613.32,
          1639.54
         ]
        },
        {
         "hoverinfo": "text",
         "line": {
          "color": "brown",
          "width": 0.6085369075709081
         },
         "mode": "lines",
         "name": "0.6085369075709081",
         "opacity": 0.6085369075709081,
         "text": "Edge: ('sophiebits', 'cpojer')    <br>Weight: 0.61",
         "type": "scatter",
         "x": [
          1882,
          1870.41,
          1858.82,
          1847.23,
          1835.64,
          1824.05,
          1812.46,
          1800.87,
          1789.28,
          1777.69,
          1766.1,
          1754.51,
          1742.92,
          1731.33,
          1719.74
         ],
         "y": [
          1272.46,
          1242.4528571428573,
          1212.4457142857143,
          1182.4385714285715,
          1152.4314285714286,
          1122.4242857142858,
          1092.4171428571428,
          1062.41,
          1032.402857142857,
          1002.3957142857143,
          972.3885714285714,
          942.3814285714286,
          912.3742857142857,
          882.3671428571429,
          852.36
         ]
        },
        {
         "hoverinfo": "text",
         "line": {
          "color": "brown",
          "width": 0.6553080930080228
         },
         "mode": "lines",
         "name": "0.6553080930080228",
         "opacity": 0.6553080930080228,
         "text": "Edge: ('sophiebits', 'joshduck')    <br>Weight: 0.66",
         "type": "scatter",
         "x": [
          1882,
          1845.61,
          1809.22,
          1772.83,
          1736.44,
          1700.05,
          1663.66,
          1627.27,
          1590.88,
          1554.49,
          1518.1,
          1481.71,
          1445.32,
          1408.93,
          1372.54
         ],
         "y": [
          1272.46,
          1280.4485714285715,
          1288.4371428571428,
          1296.4257142857143,
          1304.4142857142858,
          1312.402857142857,
          1320.3914285714286,
          1328.38,
          1336.3685714285714,
          1344.357142857143,
          1352.3457142857142,
          1360.3342857142857,
          1368.3228571428572,
          1376.3114285714285,
          1384.3
         ]
        },
        {
         "hoverinfo": "text",
         "line": {
          "color": "brown",
          "width": 0.6462699842898603
         },
         "mode": "lines",
         "name": "0.6462699842898603",
         "opacity": 0.6462699842898603,
         "text": "Edge: ('sophiebits', 'Daniel15')    <br>Weight: 0.65",
         "type": "scatter",
         "x": [
          1882,
          1825.2314285714285,
          1768.462857142857,
          1711.6942857142858,
          1654.9257142857143,
          1598.1571428571428,
          1541.3885714285714,
          1484.62,
          1427.8514285714286,
          1371.0828571428572,
          1314.3142857142857,
          1257.5457142857144,
          1200.7771428571427,
          1144.0085714285715,
          1087.24
         ],
         "y": [
          1272.46,
          1248.7028571428573,
          1224.9457142857143,
          1201.1885714285715,
          1177.4314285714286,
          1153.6742857142858,
          1129.9171428571428,
          1106.16,
          1082.402857142857,
          1058.6457142857143,
          1034.8885714285714,
          1011.1314285714286,
          987.3742857142857,
          963.6171428571429,
          939.86
         ]
        },
        {
         "hoverinfo": "text",
         "line": {
          "color": "brown",
          "width": 0.7025262450944673
         },
         "mode": "lines",
         "name": "0.7025262450944673",
         "opacity": 0.7025262450944673,
         "text": "Edge: ('sophiebits', 'fisherwebdev')    <br>Weight: 0.7",
         "type": "scatter",
         "x": [
          1882,
          1848.03,
          1814.06,
          1780.0900000000001,
          1746.1200000000001,
          1712.15,
          1678.18,
          1644.21,
          1610.24,
          1576.27,
          1542.3000000000002,
          1508.3300000000002,
          1474.3600000000001,
          1440.39,
          1406.42
         ],
         "y": [
          1272.46,
          1289.38,
          1306.3,
          1323.22,
          1340.14,
          1357.06,
          1373.98,
          1390.9,
          1407.82,
          1424.74,
          1441.6599999999999,
          1458.58,
          1475.5,
          1492.4199999999998,
          1509.34
         ]
        },
        {
         "hoverinfo": "text",
         "line": {
          "color": "brown",
          "width": 0.6149804156647043
         },
         "mode": "lines",
         "name": "0.6149804156647043",
         "opacity": 0.6149804156647043,
         "text": "Edge: ('sophiebits', 'arkist')    <br>Weight: 0.61",
         "type": "scatter",
         "x": [
          1882,
          1844.0214285714285,
          1806.0428571428572,
          1768.0642857142857,
          1730.0857142857142,
          1692.107142857143,
          1654.1285714285714,
          1616.15,
          1578.1714285714286,
          1540.192857142857,
          1502.2142857142858,
          1464.2357142857143,
          1426.2571428571428,
          1388.2785714285715,
          1350.3
         ],
         "y": [
          1272.46,
          1250.56,
          1228.66,
          1206.76,
          1184.8600000000001,
          1162.96,
          1141.06,
          1119.16,
          1097.26,
          1075.3600000000001,
          1053.46,
          1031.56,
          1009.6600000000001,
          987.76,
          965.86
         ]
        },
        {
         "hoverinfo": "text",
         "line": {
          "color": "brown",
          "width": 0.676529445173782
         },
         "mode": "lines",
         "name": "0.676529445173782",
         "opacity": 0.676529445173782,
         "text": "Edge: ('acdlite', 'sebmarkbage')    <br>Weight: 0.68",
         "type": "scatter",
         "x": [
          3767.4,
          3720.714285714286,
          3674.0285714285715,
          3627.342857142857,
          3580.657142857143,
          3533.9714285714285,
          3487.2857142857147,
          3440.6000000000004,
          3393.914285714286,
          3347.2285714285717,
          3300.5428571428574,
          3253.857142857143,
          3207.171428571429,
          3160.4857142857145,
          3113.8
         ],
         "y": [
          1560.96,
          1552.5542857142857,
          1544.1485714285714,
          1535.7428571428572,
          1527.337142857143,
          1518.9314285714286,
          1510.5257142857142,
          1502.12,
          1493.7142857142858,
          1485.3085714285714,
          1476.902857142857,
          1468.4971428571428,
          1460.0914285714284,
          1451.6857142857143,
          1443.28
         ]
        },
        {
         "hoverinfo": "text",
         "line": {
          "color": "brown",
          "width": 0.6363572165525118
         },
         "mode": "lines",
         "name": "0.6363572165525118",
         "opacity": 0.6363572165525118,
         "text": "Edge: ('acdlite', 'trueadm')    <br>Weight: 0.64",
         "type": "scatter",
         "x": [
          3767.4,
          3773.1428571428573,
          3778.8857142857146,
          3784.6285714285714,
          3790.3714285714286,
          3796.114285714286,
          3801.857142857143,
          3807.6000000000004,
          3813.342857142857,
          3819.0857142857144,
          3824.8285714285716,
          3830.571428571429,
          3836.3142857142857,
          3842.057142857143,
          3847.8
         ],
         "y": [
          1560.96,
          1542.6642857142858,
          1524.3685714285714,
          1506.0728571428572,
          1487.777142857143,
          1469.4814285714285,
          1451.1857142857143,
          1432.8899999999999,
          1414.5942857142857,
          1396.2985714285714,
          1378.002857142857,
          1359.7071428571428,
          1341.4114285714286,
          1323.1157142857141,
          1304.82
         ]
        },
        {
         "hoverinfo": "text",
         "line": {
          "color": "brown",
          "width": 0.6229615154740459
         },
         "mode": "lines",
         "name": "0.6229615154740459",
         "opacity": 0.6229615154740459,
         "text": "Edge: ('acdlite', 'rickhanlonii')    <br>Weight: 0.62",
         "type": "scatter",
         "x": [
          3767.4,
          3804.414285714286,
          3841.4285714285716,
          3878.442857142857,
          3915.457142857143,
          3952.471428571429,
          3989.4857142857145,
          4026.5,
          4063.514285714286,
          4100.528571428572,
          4137.542857142857,
          4174.557142857143,
          4211.571428571429,
          4248.585714285715,
          4285.6
         ],
         "y": [
          1560.96,
          1580.5728571428572,
          1600.1857142857143,
          1619.7985714285714,
          1639.4114285714286,
          1659.0242857142857,
          1678.6371428571429,
          1698.25,
          1717.8628571428571,
          1737.4757142857143,
          1757.0885714285714,
          1776.7014285714286,
          1796.3142857142857,
          1815.9271428571428,
          1835.54
         ]
        },
        {
         "hoverinfo": "text",
         "line": {
          "color": "brown",
          "width": 0.6570431385057813
         },
         "mode": "lines",
         "name": "0.6570431385057813",
         "opacity": 0.6570431385057813,
         "text": "Edge: ('acdlite', 'SimenB')    <br>Weight: 0.66",
         "type": "scatter",
         "x": [
          3767.4,
          3791.7285714285717,
          3816.057142857143,
          3840.385714285714,
          3864.714285714286,
          3889.0428571428574,
          3913.3714285714286,
          3937.7,
          3962.0285714285715,
          3986.357142857143,
          4010.6857142857143,
          4035.0142857142855,
          4059.342857142857,
          4083.671428571429,
          4108
         ],
         "y": [
          1560.96,
          1528.9542857142858,
          1496.9485714285715,
          1464.942857142857,
          1432.9371428571428,
          1400.9314285714286,
          1368.9257142857143,
          1336.92,
          1304.9142857142858,
          1272.9085714285716,
          1240.902857142857,
          1208.8971428571429,
          1176.8914285714286,
          1144.8857142857144,
          1112.88
         ]
        },
        {
         "hoverinfo": "text",
         "line": {
          "color": "brown",
          "width": 0.6027800986849603
         },
         "mode": "lines",
         "name": "0.6027800986849603",
         "opacity": 0.6027800986849603,
         "text": "Edge: ('sebmarkbage', 'trueadm')    <br>Weight: 0.6",
         "type": "scatter",
         "x": [
          3113.8,
          3166.2285714285717,
          3218.657142857143,
          3271.0857142857144,
          3323.514285714286,
          3375.9428571428575,
          3428.3714285714286,
          3480.8,
          3533.2285714285717,
          3585.6571428571433,
          3638.0857142857144,
          3690.514285714286,
          3742.942857142857,
          3795.3714285714286,
          3847.8
         ],
         "y": [
          1443.28,
          1433.3899999999999,
          1423.5,
          1413.61,
          1403.72,
          1393.83,
          1383.94,
          1374.05,
          1364.1599999999999,
          1354.27,
          1344.3799999999999,
          1334.49,
          1324.6,
          1314.71,
          1304.82
         ]
        },
        {
         "hoverinfo": "text",
         "line": {
          "color": "brown",
          "width": 0.7352475401324551
         },
         "mode": "lines",
         "name": "0.7352475401324551",
         "opacity": 0.7352475401324551,
         "text": "Edge: ('jimfb', 'marocchino')    <br>Weight: 0.74",
         "type": "scatter",
         "x": [
          1475.04,
          1441.2828571428572,
          1407.5257142857142,
          1373.7685714285715,
          1340.0114285714285,
          1306.2542857142857,
          1272.4971428571428,
          1238.74,
          1204.982857142857,
          1171.2257142857143,
          1137.4685714285715,
          1103.7114285714285,
          1069.9542857142858,
          1036.1971428571428,
          1002.44
         ],
         "y": [
          737.06,
          739.6428571428571,
          742.2257142857143,
          744.8085714285714,
          747.3914285714285,
          749.9742857142857,
          752.5571428571428,
          755.14,
          757.7228571428572,
          760.3057142857143,
          762.8885714285715,
          765.4714285714285,
          768.0542857142857,
          770.6371428571429,
          773.22
         ]
        },
        {
         "hoverinfo": "text",
         "line": {
          "color": "brown",
          "width": 0.7278998522107025
         },
         "mode": "lines",
         "name": "0.7278998522107025",
         "opacity": 0.7278998522107025,
         "text": "Edge: ('jimfb', 'kohei-takata')    <br>Weight: 0.73",
         "type": "scatter",
         "x": [
          1475.04,
          1461.1614285714286,
          1447.2828571428572,
          1433.4042857142856,
          1419.5257142857142,
          1405.6471428571429,
          1391.7685714285715,
          1377.8899999999999,
          1364.0114285714285,
          1350.1328571428571,
          1336.2542857142857,
          1322.3757142857144,
          1308.497142857143,
          1294.6185714285714,
          1280.74
         ],
         "y": [
          737.06,
          727.0414285714285,
          717.0228571428571,
          707.0042857142856,
          696.9857142857143,
          686.9671428571428,
          676.9485714285713,
          666.93,
          656.9114285714285,
          646.8928571428571,
          636.8742857142856,
          626.8557142857143,
          616.8371428571428,
          606.8185714285714,
          596.8
         ]
        },
        {
         "hoverinfo": "text",
         "line": {
          "color": "brown",
          "width": 0.68098890139367
         },
         "mode": "lines",
         "name": "0.68098890139367",
         "opacity": 0.68098890139367,
         "text": "Edge: ('jimfb', 'Daniel15')    <br>Weight: 0.68",
         "type": "scatter",
         "x": [
          1475.04,
          1447.34,
          1419.6399999999999,
          1391.94,
          1364.24,
          1336.54,
          1308.84,
          1281.1399999999999,
          1253.44,
          1225.74,
          1198.04,
          1170.3400000000001,
          1142.6399999999999,
          1114.94,
          1087.24
         ],
         "y": [
          737.06,
          751.5457142857142,
          766.0314285714285,
          780.5171428571429,
          795.0028571428571,
          809.4885714285714,
          823.9742857142857,
          838.46,
          852.9457142857143,
          867.4314285714286,
          881.9171428571428,
          896.4028571428571,
          910.8885714285714,
          925.3742857142857,
          939.86
         ]
        },
        {
         "hoverinfo": "text",
         "line": {
          "color": "brown",
          "width": 0.763726549262467
         },
         "mode": "lines",
         "name": "0.763726549262467",
         "opacity": 0.763726549262467,
         "text": "Edge: ('jimfb', 'arkist')    <br>Weight: 0.76",
         "type": "scatter",
         "x": [
          1475.04,
          1466.1299999999999,
          1457.22,
          1448.31,
          1439.3999999999999,
          1430.49,
          1421.58,
          1412.67,
          1403.76,
          1394.85,
          1385.94,
          1377.03,
          1368.12,
          1359.21,
          1350.3
         ],
         "y": [
          737.06,
          753.4028571428571,
          769.7457142857143,
          786.0885714285714,
          802.4314285714286,
          818.7742857142857,
          835.1171428571429,
          851.46,
          867.8028571428572,
          884.1457142857143,
          900.4885714285715,
          916.8314285714285,
          933.1742857142857,
          949.5171428571429,
          965.86
         ]
        },
        {
         "hoverinfo": "text",
         "line": {
          "color": "brown",
          "width": 0.6560048263496235
         },
         "mode": "lines",
         "name": "0.6560048263496235",
         "opacity": 0.6560048263496235,
         "text": "Edge: ('jimfb', 'cody')    <br>Weight: 0.66",
         "type": "scatter",
         "x": [
          1475.04,
          1513.3799999999999,
          1551.72,
          1590.06,
          1628.3999999999999,
          1666.74,
          1705.08,
          1743.42,
          1781.76,
          1820.1,
          1858.44,
          1896.78,
          1935.12,
          1973.46,
          2011.8
         ],
         "y": [
          737.06,
          748.8857142857142,
          760.7114285714285,
          772.5371428571428,
          784.3628571428571,
          796.1885714285714,
          808.0142857142857,
          819.8399999999999,
          831.6657142857142,
          843.4914285714285,
          855.3171428571428,
          867.1428571428571,
          878.9685714285714,
          890.7942857142857,
          902.62
         ]
        },
        {
         "hoverinfo": "text",
         "line": {
          "color": "brown",
          "width": 0.6305128598152162
         },
         "mode": "lines",
         "name": "0.6305128598152162",
         "opacity": 0.6305128598152162,
         "text": "Edge: ('jimfb', 'iamchenxin')    <br>Weight: 0.63",
         "type": "scatter",
         "x": [
          1475.04,
          1443.6499999999999,
          1412.26,
          1380.87,
          1349.48,
          1318.09,
          1286.6999999999998,
          1255.31,
          1223.9199999999998,
          1192.53,
          1161.1399999999999,
          1129.75,
          1098.36,
          1066.9699999999998,
          1035.58
         ],
         "y": [
          737.06,
          724.0071428571428,
          710.9542857142857,
          697.9014285714286,
          684.8485714285714,
          671.7957142857142,
          658.7428571428571,
          645.69,
          632.6371428571429,
          619.5842857142857,
          606.5314285714286,
          593.4785714285715,
          580.4257142857143,
          567.3728571428571,
          554.32
         ]
        },
        {
         "hoverinfo": "text",
         "line": {
          "color": "brown",
          "width": 0.7236797531172205
         },
         "mode": "lines",
         "name": "0.7236797531172205",
         "opacity": 0.7236797531172205,
         "text": "Edge: ('trueadm', 'necolas')    <br>Weight: 0.72",
         "type": "scatter",
         "x": [
          3847.8,
          3875.1857142857143,
          3902.571428571429,
          3929.957142857143,
          3957.342857142857,
          3984.7285714285713,
          4012.114285714286,
          4039.5,
          4066.885714285714,
          4094.2714285714287,
          4121.657142857142,
          4149.042857142857,
          4176.428571428572,
          4203.814285714286,
          4231.2
         ],
         "y": [
          1304.82,
          1308.6842857142856,
          1312.5485714285714,
          1316.412857142857,
          1320.2771428571427,
          1324.1414285714286,
          1328.0057142857142,
          1331.87,
          1335.7342857142858,
          1339.5985714285714,
          1343.4628571428573,
          1347.327142857143,
          1351.1914285714286,
          1355.0557142857144,
          1358.92
         ]
        },
        {
         "hoverinfo": "text",
         "line": {
          "color": "brown",
          "width": 0.653014756817781
         },
         "mode": "lines",
         "name": "0.653014756817781",
         "opacity": 0.653014756817781,
         "text": "Edge: ('trueadm', 'aweary')    <br>Weight: 0.65",
         "type": "scatter",
         "x": [
          3847.8,
          3818.657142857143,
          3789.514285714286,
          3760.3714285714286,
          3731.2285714285717,
          3702.0857142857144,
          3672.9428571428575,
          3643.8,
          3614.657142857143,
          3585.514285714286,
          3556.3714285714286,
          3527.2285714285717,
          3498.0857142857144,
          3468.9428571428575,
          3439.8
         ],
         "y": [
          1304.82,
          1283.77,
          1262.72,
          1241.67,
          1220.62,
          1199.57,
          1178.52,
          1157.47,
          1136.42,
          1115.37,
          1094.32,
          1073.27,
          1052.22,
          1031.17,
          1010.12
         ]
        },
        {
         "hoverinfo": "text",
         "line": {
          "color": "brown",
          "width": 0.6021469042245009
         },
         "mode": "lines",
         "name": "0.6021469042245009",
         "opacity": 0.6021469042245009,
         "text": "Edge: ('trueadm', 'eps1lon')    <br>Weight: 0.6",
         "type": "scatter",
         "x": [
          3847.8,
          3872.4,
          3897,
          3921.6,
          3946.2000000000003,
          3970.8,
          3995.4,
          4020,
          4044.6,
          4069.2,
          4093.7999999999997,
          4118.4,
          4143,
          4167.599999999999,
          4192.2
         ],
         "y": [
          1304.82,
          1326.1028571428571,
          1347.3857142857141,
          1368.6685714285713,
          1389.9514285714286,
          1411.2342857142858,
          1432.5171428571427,
          1453.8,
          1475.0828571428572,
          1496.3657142857141,
          1517.6485714285714,
          1538.9314285714286,
          1560.2142857142858,
          1581.4971428571428,
          1602.78
         ]
        },
        {
         "hoverinfo": "text",
         "line": {
          "color": "brown",
          "width": 0.6168766405174038
         },
         "mode": "lines",
         "name": "0.6168766405174038",
         "opacity": 0.6168766405174038,
         "text": "Edge: ('trueadm', 'sompylasar')    <br>Weight: 0.62",
         "type": "scatter",
         "x": [
          3847.8,
          3892.857142857143,
          3937.914285714286,
          3982.971428571429,
          4028.0285714285715,
          4073.0857142857144,
          4118.142857142858,
          4163.200000000001,
          4208.257142857143,
          4253.314285714286,
          4298.371428571429,
          4343.428571428572,
          4388.4857142857145,
          4433.542857142857,
          4478.6
         ],
         "y": [
          1304.82,
          1314.432857142857,
          1324.0457142857142,
          1333.6585714285713,
          1343.2714285714285,
          1352.8842857142856,
          1362.4971428571428,
          1372.1100000000001,
          1381.7228571428573,
          1391.3357142857144,
          1400.9485714285715,
          1410.5614285714287,
          1420.1742857142858,
          1429.787142857143,
          1439.4
         ]
        },
        {
         "hoverinfo": "text",
         "line": {
          "color": "brown",
          "width": 0.681448374139174
         },
         "mode": "lines",
         "name": "0.681448374139174",
         "opacity": 0.681448374139174,
         "text": "Edge: ('petehunt', 'chenglou')    <br>Weight: 0.68",
         "type": "scatter",
         "x": [
          1183.98,
          1212.7757142857142,
          1241.5714285714287,
          1270.3671428571429,
          1299.162857142857,
          1327.9585714285713,
          1356.7542857142857,
          1385.55,
          1414.3457142857142,
          1443.1414285714286,
          1471.9371428571428,
          1500.732857142857,
          1529.5285714285715,
          1558.3242857142857,
          1587.12
         ],
         "y": [
          1445.2,
          1442.307142857143,
          1439.4142857142858,
          1436.5214285714287,
          1433.6285714285714,
          1430.7357142857143,
          1427.8428571428572,
          1424.95,
          1422.057142857143,
          1419.1642857142858,
          1416.2714285714287,
          1413.3785714285714,
          1410.4857142857143,
          1407.5928571428572,
          1404.7
         ]
        },
        {
         "hoverinfo": "text",
         "line": {
          "color": "brown",
          "width": 0.6342076750358349
         },
         "mode": "lines",
         "name": "0.6342076750358349",
         "opacity": 0.6342076750358349,
         "text": "Edge: ('petehunt', 'benjamn')    <br>Weight: 0.63",
         "type": "scatter",
         "x": [
          1183.98,
          1183.9957142857143,
          1184.0114285714285,
          1184.027142857143,
          1184.0428571428572,
          1184.0585714285714,
          1184.0742857142857,
          1184.09,
          1184.1057142857144,
          1184.1214285714286,
          1184.1371428571429,
          1184.152857142857,
          1184.1685714285716,
          1184.1842857142858,
          1184.2
         ],
         "y": [
          1445.2,
          1469.0714285714287,
          1492.9428571428573,
          1516.8142857142857,
          1540.6857142857143,
          1564.557142857143,
          1588.4285714285716,
          1612.3000000000002,
          1636.1714285714286,
          1660.0428571428572,
          1683.9142857142858,
          1707.7857142857142,
          1731.6571428571428,
          1755.5285714285715,
          1779.4
         ]
        },
        {
         "hoverinfo": "text",
         "line": {
          "color": "brown",
          "width": 0.6779944236156472
         },
         "mode": "lines",
         "name": "0.6779944236156472",
         "opacity": 0.6779944236156472,
         "text": "Edge: ('petehunt', 'subtleGradient')    <br>Weight: 0.68",
         "type": "scatter",
         "x": [
          1183.98,
          1150.5828571428572,
          1117.1857142857143,
          1083.7885714285715,
          1050.3914285714286,
          1016.9942857142858,
          983.5971428571429,
          950.2,
          916.8028571428572,
          883.4057142857143,
          850.0085714285715,
          816.6114285714286,
          783.2142857142857,
          749.8171428571428,
          716.42
         ],
         "y": [
          1445.2,
          1458.4828571428573,
          1471.7657142857142,
          1485.0485714285714,
          1498.3314285714287,
          1511.6142857142859,
          1524.8971428571429,
          1538.18,
          1551.4628571428573,
          1564.7457142857143,
          1578.0285714285715,
          1591.3114285714287,
          1604.594285714286,
          1617.8771428571429,
          1631.16
         ]
        },
        {
         "hoverinfo": "text",
         "line": {
          "color": "brown",
          "width": 0.6269304830837928
         },
         "mode": "lines",
         "name": "0.6269304830837928",
         "opacity": 0.6269304830837928,
         "text": "Edge: ('petehunt', 'syranide')    <br>Weight: 0.63",
         "type": "scatter",
         "x": [
          1183.98,
          1188.3114285714287,
          1192.642857142857,
          1196.9742857142858,
          1201.3057142857142,
          1205.6371428571429,
          1209.9685714285713,
          1214.3,
          1218.6314285714286,
          1222.962857142857,
          1227.2942857142857,
          1231.6257142857141,
          1235.9571428571428,
          1240.2885714285712,
          1244.62
         ],
         "y": [
          1445.2,
          1462.0728571428572,
          1478.9457142857143,
          1495.8185714285714,
          1512.6914285714286,
          1529.5642857142857,
          1546.437142857143,
          1563.3100000000002,
          1580.1828571428573,
          1597.0557142857144,
          1613.9285714285716,
          1630.8014285714287,
          1647.6742857142858,
          1664.547142857143,
          1681.42
         ]
        },
        {
         "hoverinfo": "text",
         "line": {
          "color": "brown",
          "width": 0.6733060561003386
         },
         "mode": "lines",
         "name": "0.6733060561003386",
         "opacity": 0.6733060561003386,
         "text": "Edge: ('petehunt', 'joshduck')    <br>Weight: 0.67",
         "type": "scatter",
         "x": [
          1183.98,
          1197.4485714285715,
          1210.9171428571428,
          1224.3857142857144,
          1237.8542857142857,
          1251.3228571428572,
          1264.7914285714285,
          1278.26,
          1291.7285714285715,
          1305.1971428571428,
          1318.6657142857143,
          1332.1342857142856,
          1345.6028571428571,
          1359.0714285714284,
          1372.54
         ],
         "y": [
          1445.2,
          1440.8500000000001,
          1436.5,
          1432.15,
          1427.8,
          1423.45,
          1419.1,
          1414.75,
          1410.4,
          1406.05,
          1401.7,
          1397.35,
          1393,
          1388.6499999999999,
          1384.3
         ]
        },
        {
         "hoverinfo": "text",
         "line": {
          "color": "brown",
          "width": 0.6343896697657267
         },
         "mode": "lines",
         "name": "0.6343896697657267",
         "opacity": 0.6343896697657267,
         "text": "Edge: ('petehunt', 'jordwalke')    <br>Weight: 0.63",
         "type": "scatter",
         "x": [
          1183.98,
          1164.3228571428572,
          1144.6657142857143,
          1125.0085714285715,
          1105.3514285714286,
          1085.6942857142858,
          1066.037142857143,
          1046.38,
          1026.722857142857,
          1007.0657142857142,
          987.4085714285713,
          967.7514285714285,
          948.0942857142857,
          928.4371428571428,
          908.78
         ],
         "y": [
          1445.2,
          1448.1185714285714,
          1451.037142857143,
          1453.9557142857143,
          1456.8742857142856,
          1459.7928571428572,
          1462.7114285714285,
          1465.63,
          1468.5485714285714,
          1471.4671428571428,
          1474.3857142857144,
          1477.3042857142857,
          1480.222857142857,
          1483.1414285714286,
          1486.06
         ]
        },
        {
         "hoverinfo": "text",
         "line": {
          "color": "brown",
          "width": 0.6225073783176072
         },
         "mode": "lines",
         "name": "0.6225073783176072",
         "opacity": 0.6225073783176072,
         "text": "Edge: ('chenglou', 'syranide')    <br>Weight: 0.62",
         "type": "scatter",
         "x": [
          1587.12,
          1562.655714285714,
          1538.1914285714286,
          1513.7271428571428,
          1489.262857142857,
          1464.7985714285712,
          1440.3342857142857,
          1415.87,
          1391.405714285714,
          1366.9414285714283,
          1342.4771428571428,
          1318.012857142857,
          1293.5485714285714,
          1269.0842857142857,
          1244.62
         ],
         "y": [
          1404.7,
          1424.4657142857143,
          1444.2314285714285,
          1463.997142857143,
          1483.7628571428572,
          1503.5285714285715,
          1523.2942857142857,
          1543.06,
          1562.8257142857144,
          1582.5914285714287,
          1602.357142857143,
          1622.1228571428571,
          1641.8885714285716,
          1661.6542857142858,
          1681.42
         ]
        },
        {
         "hoverinfo": "text",
         "line": {
          "color": "brown",
          "width": 0.9532896875453069
         },
         "mode": "lines",
         "name": "0.9532896875453069",
         "opacity": 0.9532896875453069,
         "text": "Edge: ('chenglou', 'mcsheffrey')    <br>Weight: 0.95",
         "type": "scatter",
         "x": [
          1587.12,
          1547.4814285714285,
          1507.8428571428572,
          1468.2042857142856,
          1428.5657142857142,
          1388.9271428571428,
          1349.2885714285715,
          1309.65,
          1270.0114285714285,
          1230.3728571428571,
          1190.7342857142858,
          1151.0957142857142,
          1111.457142857143,
          1071.8185714285714,
          1032.18
         ],
         "y": [
          1404.7,
          1418.6342857142859,
          1432.5685714285714,
          1446.5028571428572,
          1460.4371428571428,
          1474.3714285714286,
          1488.3057142857142,
          1502.24,
          1516.1742857142858,
          1530.1085714285714,
          1544.0428571428572,
          1557.9771428571428,
          1571.9114285714286,
          1585.8457142857142,
          1599.78
         ]
        },
        {
         "hoverinfo": "text",
         "line": {
          "color": "brown",
          "width": 0.6302124989422783
         },
         "mode": "lines",
         "name": "0.6302124989422783",
         "opacity": 0.6302124989422783,
         "text": "Edge: ('chenglou', 'arkist')    <br>Weight: 0.63",
         "type": "scatter",
         "x": [
          1587.12,
          1570.2042857142856,
          1553.2885714285712,
          1536.3728571428571,
          1519.4571428571428,
          1502.5414285714285,
          1485.6257142857141,
          1468.71,
          1451.7942857142857,
          1434.8785714285714,
          1417.962857142857,
          1401.0471428571427,
          1384.1314285714286,
          1367.2157142857143,
          1350.3
         ],
         "y": [
          1404.7,
          1373.3542857142857,
          1342.0085714285715,
          1310.662857142857,
          1279.317142857143,
          1247.9714285714285,
          1216.6257142857144,
          1185.28,
          1153.9342857142858,
          1122.5885714285714,
          1091.2428571428572,
          1059.8971428571429,
          1028.5514285714285,
          997.2057142857143,
          965.86
         ]
        },
        {
         "hoverinfo": "text",
         "line": {
          "color": "brown",
          "width": 0.6552678181367331
         },
         "mode": "lines",
         "name": "0.6552678181367331",
         "opacity": 0.6552678181367331,
         "text": "Edge: ('vjeux', 'joshduck')    <br>Weight: 0.66",
         "type": "scatter",
         "x": [
          1711.58,
          1687.3628571428571,
          1663.1457142857141,
          1638.9285714285713,
          1614.7114285714285,
          1590.4942857142858,
          1566.2771428571427,
          1542.06,
          1517.8428571428572,
          1493.6257142857144,
          1469.4085714285713,
          1445.1914285714286,
          1420.9742857142855,
          1396.7571428571428,
          1372.54
         ],
         "y": [
          1098.78,
          1119.1742857142856,
          1139.5685714285714,
          1159.962857142857,
          1180.357142857143,
          1200.7514285714285,
          1221.1457142857143,
          1241.54,
          1261.9342857142856,
          1282.3285714285714,
          1302.722857142857,
          1323.1171428571429,
          1343.5114285714285,
          1363.905714285714,
          1384.3
         ]
        },
        {
         "hoverinfo": "text",
         "line": {
          "color": "brown",
          "width": 0.6691374456174527
         },
         "mode": "lines",
         "name": "0.6691374456174527",
         "opacity": 0.6691374456174527,
         "text": "Edge: ('vjeux', 'cody')    <br>Weight: 0.67",
         "type": "scatter",
         "x": [
          1711.58,
          1733.0242857142857,
          1754.4685714285713,
          1775.912857142857,
          1797.357142857143,
          1818.8014285714285,
          1840.2457142857143,
          1861.69,
          1883.1342857142856,
          1904.5785714285714,
          1926.022857142857,
          1947.4671428571428,
          1968.9114285714286,
          1990.3557142857142,
          2011.8
         ],
         "y": [
          1098.78,
          1084.7685714285715,
          1070.7571428571428,
          1056.7457142857143,
          1042.7342857142858,
          1028.722857142857,
          1014.7114285714285,
          1000.7,
          986.6885714285714,
          972.6771428571428,
          958.6657142857143,
          944.6542857142857,
          930.6428571428571,
          916.6314285714286,
          902.62
         ]
        },
        {
         "hoverinfo": "text",
         "line": {
          "color": "brown",
          "width": 0.6769140757530065
         },
         "mode": "lines",
         "name": "0.6769140757530065",
         "opacity": 0.6769140757530065,
         "text": "Edge: ('benjamn', 'subtleGradient')    <br>Weight: 0.68",
         "type": "scatter",
         "x": [
          1184.2,
          1150.787142857143,
          1117.3742857142856,
          1083.9614285714285,
          1050.5485714285714,
          1017.1357142857144,
          983.7228571428572,
          950.31,
          916.8971428571429,
          883.4842857142858,
          850.0714285714286,
          816.6585714285713,
          783.2457142857143,
          749.8328571428572,
          716.42
         ],
         "y": [
          1779.4,
          1768.8114285714287,
          1758.2228571428573,
          1747.6342857142859,
          1737.0457142857144,
          1726.457142857143,
          1715.8685714285716,
          1705.2800000000002,
          1694.6914285714286,
          1684.1028571428571,
          1673.5142857142857,
          1662.9257142857143,
          1652.337142857143,
          1641.7485714285715,
          1631.16
         ]
        },
        {
         "hoverinfo": "text",
         "line": {
          "color": "brown",
          "width": 0.6145350648903352
         },
         "mode": "lines",
         "name": "0.6145350648903352",
         "opacity": 0.6145350648903352,
         "text": "Edge: ('benjamn', 'joshduck')    <br>Weight: 0.61",
         "type": "scatter",
         "x": [
          1184.2,
          1197.652857142857,
          1211.1057142857144,
          1224.5585714285714,
          1238.0114285714285,
          1251.4642857142858,
          1264.9171428571428,
          1278.37,
          1291.8228571428572,
          1305.2757142857142,
          1318.7285714285715,
          1332.1814285714286,
          1345.6342857142856,
          1359.087142857143,
          1372.54
         ],
         "y": [
          1779.4,
          1751.1785714285716,
          1722.957142857143,
          1694.7357142857143,
          1666.5142857142857,
          1638.2928571428572,
          1610.0714285714287,
          1581.85,
          1553.6285714285714,
          1525.4071428571428,
          1497.1857142857143,
          1468.9642857142858,
          1440.7428571428572,
          1412.5214285714285,
          1384.3
         ]
        },
        {
         "hoverinfo": "text",
         "line": {
          "color": "brown",
          "width": 0.6067825669403287
         },
         "mode": "lines",
         "name": "0.6067825669403287",
         "opacity": 0.6067825669403287,
         "text": "Edge: ('benjamn', 'jordwalke')    <br>Weight: 0.61",
         "type": "scatter",
         "x": [
          1184.2,
          1164.527142857143,
          1144.8542857142857,
          1125.1814285714286,
          1105.5085714285715,
          1085.8357142857144,
          1066.162857142857,
          1046.49,
          1026.817142857143,
          1007.1442857142857,
          987.4714285714285,
          967.7985714285714,
          948.1257142857143,
          928.4528571428572,
          908.78
         ],
         "y": [
          1779.4,
          1758.447142857143,
          1737.4942857142858,
          1716.5414285714287,
          1695.5885714285714,
          1674.6357142857144,
          1653.6828571428573,
          1632.73,
          1611.777142857143,
          1590.8242857142857,
          1569.8714285714286,
          1548.9185714285713,
          1527.9657142857143,
          1507.0128571428572,
          1486.06
         ]
        },
        {
         "hoverinfo": "text",
         "line": {
          "color": "brown",
          "width": 0.6281691998316704
         },
         "mode": "lines",
         "name": "0.6281691998316704",
         "opacity": 0.6281691998316704,
         "text": "Edge: ('yungsters', 'joshduck')    <br>Weight: 0.63",
         "type": "scatter",
         "x": [
          1664.44,
          1643.5900000000001,
          1622.74,
          1601.89,
          1581.04,
          1560.19,
          1539.3400000000001,
          1518.49,
          1497.64,
          1476.79,
          1455.94,
          1435.09,
          1414.24,
          1393.3899999999999,
          1372.54
         ],
         "y": [
          1639.54,
          1621.3085714285714,
          1603.077142857143,
          1584.8457142857142,
          1566.6142857142856,
          1548.3828571428571,
          1530.1514285714286,
          1511.92,
          1493.6885714285713,
          1475.4571428571428,
          1457.2257142857143,
          1438.9942857142858,
          1420.762857142857,
          1402.5314285714285,
          1384.3
         ]
        },
        {
         "hoverinfo": "text",
         "line": {
          "color": "brown",
          "width": 0.6105263131452907
         },
         "mode": "lines",
         "name": "0.6105263131452907",
         "opacity": 0.6105263131452907,
         "text": "Edge: ('subtleGradient', 'chicoxyzzy')    <br>Weight: 0.61",
         "type": "scatter",
         "x": [
          716.42,
          729.54,
          742.66,
          755.78,
          768.9,
          782.02,
          795.14,
          808.26,
          821.38,
          834.5,
          847.62,
          860.74,
          873.86,
          886.98,
          900.1
         ],
         "y": [
          1631.16,
          1599.8957142857143,
          1568.6314285714286,
          1537.3671428571429,
          1506.1028571428571,
          1474.8385714285714,
          1443.574285714286,
          1412.31,
          1381.0457142857144,
          1349.7814285714287,
          1318.517142857143,
          1287.2528571428572,
          1255.9885714285715,
          1224.7242857142858,
          1193.46
         ]
        },
        {
         "hoverinfo": "text",
         "line": {
          "color": "brown",
          "width": 0.6041681947049306
         },
         "mode": "lines",
         "name": "0.6041681947049306",
         "opacity": 0.6041681947049306,
         "text": "Edge: ('subtleGradient', 'fabiomcosta')    <br>Weight: 0.6",
         "type": "scatter",
         "x": [
          716.42,
          673.2987142857143,
          630.1774285714285,
          587.0561428571428,
          543.9348571428571,
          500.81357142857144,
          457.6922857142857,
          414.57099999999997,
          371.44971428571426,
          328.32842857142856,
          285.20714285714286,
          242.08585714285715,
          198.9645714285714,
          155.84328571428568,
          112.722
         ],
         "y": [
          1631.16,
          1656.2957142857144,
          1681.4314285714286,
          1706.567142857143,
          1731.7028571428573,
          1756.8385714285714,
          1781.9742857142858,
          1807.1100000000001,
          1832.2457142857143,
          1857.3814285714286,
          1882.5171428571427,
          1907.652857142857,
          1932.7885714285715,
          1957.9242857142856,
          1983.06
         ]
        },
        {
         "hoverinfo": "text",
         "line": {
          "color": "brown",
          "width": 0.7227812322991857
         },
         "mode": "lines",
         "name": "0.7227812322991857",
         "opacity": 0.7227812322991857,
         "text": "Edge: ('subtleGradient', 'jordwalke')    <br>Weight: 0.72",
         "type": "scatter",
         "x": [
          716.42,
          730.16,
          743.9,
          757.64,
          771.38,
          785.12,
          798.8599999999999,
          812.5999999999999,
          826.3399999999999,
          840.0799999999999,
          853.8199999999999,
          867.56,
          881.3,
          895.04,
          908.78
         ],
         "y": [
          1631.16,
          1620.7957142857144,
          1610.4314285714286,
          1600.067142857143,
          1589.7028571428573,
          1579.3385714285714,
          1568.9742857142858,
          1558.6100000000001,
          1548.2457142857143,
          1537.8814285714286,
          1527.5171428571427,
          1517.152857142857,
          1506.7885714285715,
          1496.4242857142856,
          1486.06
         ]
        },
        {
         "hoverinfo": "text",
         "line": {
          "color": "brown",
          "width": 0.7446507496988276
         },
         "mode": "lines",
         "name": "0.7446507496988276",
         "opacity": 0.7446507496988276,
         "text": "Edge: ('nhunzaker', 'aweary')    <br>Weight: 0.74",
         "type": "scatter",
         "x": [
          3535.6,
          3528.7571428571428,
          3521.9142857142856,
          3515.0714285714284,
          3508.2285714285713,
          3501.385714285714,
          3494.542857142857,
          3487.7,
          3480.857142857143,
          3474.014285714286,
          3467.171428571429,
          3460.3285714285716,
          3453.4857142857145,
          3446.6428571428573,
          3439.8
         ],
         "y": [
          904.32,
          911.8771428571429,
          919.4342857142858,
          926.9914285714286,
          934.5485714285714,
          942.1057142857143,
          949.6628571428572,
          957.22,
          964.7771428571428,
          972.3342857142858,
          979.8914285714286,
          987.4485714285714,
          995.0057142857142,
          1002.5628571428572,
          1010.12
         ]
        },
        {
         "hoverinfo": "text",
         "line": {
          "color": "brown",
          "width": 0.7332922125341923
         },
         "mode": "lines",
         "name": "0.7332922125341923",
         "opacity": 0.7332922125341923,
         "text": "Edge: ('nhunzaker', 'jquense')    <br>Weight: 0.73",
         "type": "scatter",
         "x": [
          3535.6,
          3486.2714285714283,
          3436.942857142857,
          3387.614285714286,
          3338.285714285714,
          3288.9571428571426,
          3239.6285714285714,
          3190.3,
          3140.9714285714285,
          3091.642857142857,
          3042.3142857142857,
          2992.9857142857145,
          2943.657142857143,
          2894.328571428571,
          2845
         ],
         "y": [
          904.32,
          902.1828571428572,
          900.0457142857143,
          897.9085714285715,
          895.7714285714286,
          893.6342857142857,
          891.4971428571429,
          889.36,
          887.2228571428572,
          885.0857142857143,
          882.9485714285714,
          880.8114285714286,
          878.6742857142857,
          876.5371428571428,
          874.4
         ]
        },
        {
         "hoverinfo": "text",
         "line": {
          "color": "brown",
          "width": 0.6153685646300352
         },
         "mode": "lines",
         "name": "0.6153685646300352",
         "opacity": 0.6153685646300352,
         "text": "Edge: ('nhunzaker', 'SimenB')    <br>Weight: 0.62",
         "type": "scatter",
         "x": [
          3535.6,
          3576.485714285714,
          3617.3714285714286,
          3658.2571428571428,
          3699.142857142857,
          3740.0285714285715,
          3780.9142857142856,
          3821.8,
          3862.6857142857143,
          3903.5714285714284,
          3944.457142857143,
          3985.342857142857,
          4026.2285714285713,
          4067.114285714286,
          4108
         ],
         "y": [
          904.32,
          919.2171428571429,
          934.1142857142858,
          949.0114285714286,
          963.9085714285715,
          978.8057142857143,
          993.7028571428573,
          1008.6000000000001,
          1023.497142857143,
          1038.3942857142858,
          1053.2914285714287,
          1068.1885714285715,
          1083.0857142857144,
          1097.9828571428573,
          1112.88
         ]
        },
        {
         "hoverinfo": "text",
         "line": {
          "color": "brown",
          "width": 0.6119337770480838
         },
         "mode": "lines",
         "name": "0.6119337770480838",
         "opacity": 0.6119337770480838,
         "text": "Edge: ('nhunzaker', 'raphamorim')    <br>Weight: 0.61",
         "type": "scatter",
         "x": [
          3535.6,
          3562.5714285714284,
          3589.542857142857,
          3616.5142857142855,
          3643.485714285714,
          3670.4571428571426,
          3697.428571428571,
          3724.3999999999996,
          3751.3714285714286,
          3778.342857142857,
          3805.3142857142857,
          3832.285714285714,
          3859.2571428571428,
          3886.2285714285713,
          3913.2
         ],
         "y": [
          904.32,
          891.1971428571429,
          878.0742857142858,
          864.9514285714287,
          851.8285714285714,
          838.7057142857143,
          825.5828571428572,
          812.46,
          799.3371428571429,
          786.2142857142858,
          773.0914285714287,
          759.9685714285715,
          746.8457142857143,
          733.7228571428572,
          720.6
         ]
        },
        {
         "hoverinfo": "text",
         "line": {
          "color": "brown",
          "width": 0.6551396817404147
         },
         "mode": "lines",
         "name": "0.6551396817404147",
         "opacity": 0.6551396817404147,
         "text": "Edge: ('syranide', 'joshduck')    <br>Weight: 0.66",
         "type": "scatter",
         "x": [
          1244.62,
          1253.7571428571428,
          1262.8942857142856,
          1272.0314285714285,
          1281.1685714285713,
          1290.3057142857142,
          1299.442857142857,
          1308.58,
          1317.7171428571428,
          1326.8542857142857,
          1335.9914285714285,
          1345.1285714285714,
          1354.2657142857142,
          1363.402857142857,
          1372.54
         ],
         "y": [
          1681.42,
          1660.1971428571428,
          1638.9742857142858,
          1617.7514285714287,
          1596.5285714285715,
          1575.3057142857142,
          1554.0828571428572,
          1532.8600000000001,
          1511.6371428571429,
          1490.4142857142856,
          1469.1914285714286,
          1447.9685714285715,
          1426.7457142857143,
          1405.522857142857,
          1384.3
         ]
        },
        {
         "hoverinfo": "text",
         "line": {
          "color": "brown",
          "width": 0.6053392751621074
         },
         "mode": "lines",
         "name": "0.6053392751621074",
         "opacity": 0.6053392751621074,
         "text": "Edge: ('syranide', 'jordwalke')    <br>Weight: 0.61",
         "type": "scatter",
         "x": [
          1244.62,
          1220.6314285714284,
          1196.642857142857,
          1172.6542857142856,
          1148.665714285714,
          1124.6771428571428,
          1100.6885714285713,
          1076.6999999999998,
          1052.7114285714285,
          1028.722857142857,
          1004.7342857142856,
          980.7457142857143,
          956.7571428571428,
          932.7685714285715,
          908.78
         ],
         "y": [
          1681.42,
          1667.4657142857143,
          1653.5114285714287,
          1639.557142857143,
          1625.6028571428571,
          1611.6485714285714,
          1597.6942857142858,
          1583.74,
          1569.7857142857142,
          1555.8314285714287,
          1541.8771428571429,
          1527.922857142857,
          1513.9685714285715,
          1500.0142857142857,
          1486.06
         ]
        },
        {
         "hoverinfo": "text",
         "line": {
          "color": "brown",
          "width": 0.8924655965786988
         },
         "mode": "lines",
         "name": "0.8924655965786988",
         "opacity": 0.8924655965786988,
         "text": "Edge: ('flarnie', 'sompylasar')    <br>Weight: 0.89",
         "type": "scatter",
         "x": [
          5076.4,
          5033.7,
          4991,
          4948.3,
          4905.599999999999,
          4862.9,
          4820.2,
          4777.5,
          4734.8,
          4692.1,
          4649.400000000001,
          4606.7,
          4564,
          4521.3,
          4478.6
         ],
         "y": [
          1325.4,
          1333.5428571428572,
          1341.6857142857143,
          1349.8285714285714,
          1357.9714285714288,
          1366.1142857142859,
          1374.257142857143,
          1382.4,
          1390.5428571428572,
          1398.6857142857143,
          1406.8285714285714,
          1414.9714285714288,
          1423.1142857142859,
          1431.257142857143,
          1439.4
         ]
        },
        {
         "hoverinfo": "text",
         "line": {
          "color": "brown",
          "width": 0.6398925493336245
         },
         "mode": "lines",
         "name": "0.6398925493336245",
         "opacity": 0.6398925493336245,
         "text": "Edge: ('koba04', 'Daniel15')    <br>Weight: 0.64",
         "type": "scatter",
         "x": [
          562.24,
          599.74,
          637.24,
          674.74,
          712.24,
          749.74,
          787.24,
          824.74,
          862.24,
          899.74,
          937.24,
          974.74,
          1012.24,
          1049.74,
          1087.24
         ],
         "y": [
          571.18,
          597.5142857142856,
          623.8485714285714,
          650.1828571428571,
          676.5171428571429,
          702.8514285714285,
          729.1857142857143,
          755.52,
          781.8542857142857,
          808.1885714285714,
          834.5228571428572,
          860.8571428571429,
          887.1914285714286,
          913.5257142857142,
          939.86
         ]
        },
        {
         "hoverinfo": "text",
         "line": {
          "color": "brown",
          "width": 0.7082083861295889
         },
         "mode": "lines",
         "name": "0.7082083861295889",
         "opacity": 0.7082083861295889,
         "text": "Edge: ('aweary', 'jquense')    <br>Weight: 0.71",
         "type": "scatter",
         "x": [
          3439.8,
          3397.3142857142857,
          3354.8285714285716,
          3312.342857142857,
          3269.857142857143,
          3227.3714285714286,
          3184.885714285714,
          3142.4,
          3099.9142857142856,
          3057.4285714285716,
          3014.942857142857,
          2972.457142857143,
          2929.9714285714285,
          2887.4857142857145,
          2845
         ],
         "y": [
          1010.12,
          1000.4257142857143,
          990.7314285714285,
          981.0371428571428,
          971.3428571428572,
          961.6485714285715,
          951.9542857142857,
          942.26,
          932.5657142857143,
          922.8714285714286,
          913.1771428571428,
          903.4828571428571,
          893.7885714285715,
          884.0942857142857,
          874.4
         ]
        },
        {
         "hoverinfo": "text",
         "line": {
          "color": "brown",
          "width": 0.6042189106972743
         },
         "mode": "lines",
         "name": "0.6042189106972743",
         "opacity": 0.6042189106972743,
         "text": "Edge: ('aweary', 'raphamorim')    <br>Weight: 0.6",
         "type": "scatter",
         "x": [
          3439.8,
          3473.614285714286,
          3507.4285714285716,
          3541.2428571428572,
          3575.057142857143,
          3608.8714285714286,
          3642.6857142857143,
          3676.5,
          3710.3142857142857,
          3744.1285714285714,
          3777.942857142857,
          3811.7571428571428,
          3845.5714285714284,
          3879.385714285714,
          3913.2
         ],
         "y": [
          1010.12,
          989.44,
          968.76,
          948.08,
          927.4,
          906.72,
          886.04,
          865.36,
          844.6800000000001,
          824,
          803.3199999999999,
          782.64,
          761.96,
          741.28,
          720.6
         ]
        },
        {
         "hoverinfo": "text",
         "line": {
          "color": "brown",
          "width": 0.7247467994025996
         },
         "mode": "lines",
         "name": "0.7247467994025996",
         "opacity": 0.7247467994025996,
         "text": "Edge: ('rickhanlonii', 'eps1lon')    <br>Weight: 0.72",
         "type": "scatter",
         "x": [
          4285.6,
          4278.928571428572,
          4272.257142857143,
          4265.585714285715,
          4258.914285714286,
          4252.242857142857,
          4245.571428571428,
          4238.9,
          4232.228571428572,
          4225.557142857143,
          4218.885714285714,
          4212.214285714285,
          4205.542857142857,
          4198.871428571429,
          4192.2
         ],
         "y": [
          1835.54,
          1818.9142857142856,
          1802.2885714285715,
          1785.662857142857,
          1769.0371428571427,
          1752.4114285714286,
          1735.7857142857142,
          1719.1599999999999,
          1702.5342857142857,
          1685.9085714285713,
          1669.2828571428572,
          1652.6571428571428,
          1636.0314285714285,
          1619.4057142857143,
          1602.78
         ]
        },
        {
         "hoverinfo": "text",
         "line": {
          "color": "brown",
          "width": 0.6664018888107169
         },
         "mode": "lines",
         "name": "0.6664018888107169",
         "opacity": 0.6664018888107169,
         "text": "Edge: ('rickhanlonii', 'sompylasar')    <br>Weight: 0.67",
         "type": "scatter",
         "x": [
          4285.6,
          4299.385714285715,
          4313.171428571429,
          4326.9571428571435,
          4340.742857142857,
          4354.528571428572,
          4368.314285714286,
          4382.1,
          4395.885714285715,
          4409.671428571429,
          4423.4571428571435,
          4437.242857142857,
          4451.028571428572,
          4464.814285714286,
          4478.6
         ],
         "y": [
          1835.54,
          1807.2442857142858,
          1778.9485714285713,
          1750.652857142857,
          1722.357142857143,
          1694.0614285714287,
          1665.7657142857142,
          1637.47,
          1609.1742857142858,
          1580.8785714285714,
          1552.5828571428572,
          1524.287142857143,
          1495.9914285714285,
          1467.6957142857143,
          1439.4
         ]
        },
        {
         "hoverinfo": "text",
         "line": {
          "color": "brown",
          "width": 0.6775859470363493
         },
         "mode": "lines",
         "name": "0.6775859470363493",
         "opacity": 0.6775859470363493,
         "text": "Edge: ('marocchino', 'kohei-takata')    <br>Weight: 0.68",
         "type": "scatter",
         "x": [
          1002.44,
          1022.3185714285714,
          1042.1971428571428,
          1062.0757142857144,
          1081.9542857142858,
          1101.8328571428572,
          1121.7114285714285,
          1141.5900000000001,
          1161.4685714285715,
          1181.347142857143,
          1201.2257142857143,
          1221.1042857142857,
          1240.9828571428573,
          1260.8614285714286,
          1280.74
         ],
         "y": [
          773.22,
          760.6185714285715,
          748.0171428571429,
          735.4157142857143,
          722.8142857142857,
          710.2128571428572,
          697.6114285714286,
          685.01,
          672.4085714285715,
          659.8071428571428,
          647.2057142857143,
          634.6042857142857,
          622.0028571428571,
          609.4014285714286,
          596.8
         ]
        },
        {
         "hoverinfo": "text",
         "line": {
          "color": "brown",
          "width": 0.6782237511368694
         },
         "mode": "lines",
         "name": "0.6782237511368694",
         "opacity": 0.6782237511368694,
         "text": "Edge: ('marocchino', 'chicoxyzzy')    <br>Weight: 0.68",
         "type": "scatter",
         "x": [
          1002.44,
          995.1300000000001,
          987.82,
          980.51,
          973.2,
          965.8900000000001,
          958.58,
          951.27,
          943.96,
          936.6500000000001,
          929.34,
          922.03,
          914.72,
          907.4100000000001,
          900.1
         ],
         "y": [
          773.22,
          803.2371428571429,
          833.2542857142857,
          863.2714285714286,
          893.2885714285715,
          923.3057142857143,
          953.3228571428572,
          983.34,
          1013.3571428571429,
          1043.3742857142856,
          1073.3914285714286,
          1103.4085714285716,
          1133.4257142857143,
          1163.442857142857,
          1193.46
         ]
        },
        {
         "hoverinfo": "text",
         "line": {
          "color": "brown",
          "width": 0.6625097589747317
         },
         "mode": "lines",
         "name": "0.6625097589747317",
         "opacity": 0.6625097589747317,
         "text": "Edge: ('marocchino', 'Daniel15')    <br>Weight: 0.66",
         "type": "scatter",
         "x": [
          1002.44,
          1008.4971428571429,
          1014.5542857142858,
          1020.6114285714286,
          1026.6685714285716,
          1032.7257142857143,
          1038.7828571428572,
          1044.8400000000001,
          1050.8971428571429,
          1056.9542857142858,
          1063.0114285714285,
          1069.0685714285714,
          1075.1257142857144,
          1081.182857142857,
          1087.24
         ],
         "y": [
          773.22,
          785.1228571428571,
          797.0257142857143,
          808.9285714285714,
          820.8314285714285,
          832.7342857142858,
          844.6371428571429,
          856.54,
          868.4428571428572,
          880.3457142857143,
          892.2485714285715,
          904.1514285714286,
          916.0542857142857,
          927.9571428571429,
          939.86
         ]
        },
        {
         "hoverinfo": "text",
         "line": {
          "color": "brown",
          "width": 0.7712415791181313
         },
         "mode": "lines",
         "name": "0.7712415791181313",
         "opacity": 0.7712415791181313,
         "text": "Edge: ('marocchino', 'arkist')    <br>Weight: 0.77",
         "type": "scatter",
         "x": [
          1002.44,
          1027.287142857143,
          1052.1342857142859,
          1076.9814285714285,
          1101.8285714285714,
          1126.6757142857143,
          1151.5228571428572,
          1176.37,
          1201.2171428571428,
          1226.0642857142857,
          1250.9114285714286,
          1275.7585714285715,
          1300.6057142857144,
          1325.452857142857,
          1350.3
         ],
         "y": [
          773.22,
          786.98,
          800.74,
          814.5,
          828.26,
          842.02,
          855.78,
          869.54,
          883.3000000000001,
          897.0600000000001,
          910.82,
          924.58,
          938.34,
          952.1,
          965.86
         ]
        },
        {
         "hoverinfo": "text",
         "line": {
          "color": "brown",
          "width": 0.6406444540421773
         },
         "mode": "lines",
         "name": "0.6406444540421773",
         "opacity": 0.6406444540421773,
         "text": "Edge: ('kohei-takata', 'Daniel15')    <br>Weight: 0.64",
         "type": "scatter",
         "x": [
          1280.74,
          1266.9185714285713,
          1253.097142857143,
          1239.2757142857142,
          1225.4542857142858,
          1211.6328571428571,
          1197.8114285714287,
          1183.99,
          1170.1685714285713,
          1156.347142857143,
          1142.5257142857142,
          1128.7042857142858,
          1114.8828571428571,
          1101.0614285714287,
          1087.24
         ],
         "y": [
          596.8,
          621.3042857142857,
          645.8085714285714,
          670.3128571428571,
          694.8171428571428,
          719.3214285714286,
          743.8257142857143,
          768.3299999999999,
          792.8342857142857,
          817.3385714285714,
          841.8428571428572,
          866.3471428571429,
          890.8514285714286,
          915.3557142857143,
          939.86
         ]
        },
        {
         "hoverinfo": "text",
         "line": {
          "color": "brown",
          "width": 0.6970907800360665
         },
         "mode": "lines",
         "name": "0.6970907800360665",
         "opacity": 0.6970907800360665,
         "text": "Edge: ('kohei-takata', 'arkist')    <br>Weight: 0.7",
         "type": "scatter",
         "x": [
          1280.74,
          1285.7085714285715,
          1290.6771428571428,
          1295.6457142857143,
          1300.6142857142856,
          1305.5828571428572,
          1310.5514285714285,
          1315.52,
          1320.4885714285715,
          1325.4571428571428,
          1330.4257142857143,
          1335.3942857142856,
          1340.3628571428571,
          1345.3314285714284,
          1350.3
         ],
         "y": [
          596.8,
          623.1614285714286,
          649.5228571428571,
          675.8842857142856,
          702.2457142857143,
          728.6071428571429,
          754.9685714285714,
          781.3299999999999,
          807.6914285714286,
          834.0528571428572,
          860.4142857142857,
          886.7757142857142,
          913.1371428571429,
          939.4985714285715,
          965.86
         ]
        },
        {
         "hoverinfo": "text",
         "line": {
          "color": "brown",
          "width": 0.6107921942382658
         },
         "mode": "lines",
         "name": "0.6107921942382658",
         "opacity": 0.6107921942382658,
         "text": "Edge: ('kohei-takata', 'iamchenxin')    <br>Weight: 0.61",
         "type": "scatter",
         "x": [
          1280.74,
          1263.2285714285715,
          1245.7171428571428,
          1228.2057142857143,
          1210.6942857142858,
          1193.182857142857,
          1175.6714285714286,
          1158.1599999999999,
          1140.6485714285714,
          1123.1371428571429,
          1105.6257142857141,
          1088.1142857142856,
          1070.6028571428571,
          1053.0914285714284,
          1035.58
         ],
         "y": [
          596.8,
          593.7657142857142,
          590.7314285714285,
          587.6971428571428,
          584.6628571428571,
          581.6285714285714,
          578.5942857142857,
          575.56,
          572.5257142857143,
          569.4914285714286,
          566.4571428571429,
          563.4228571428572,
          560.3885714285715,
          557.3542857142858,
          554.32
         ]
        },
        {
         "hoverinfo": "text",
         "line": {
          "color": "brown",
          "width": 0.6456493367707559
         },
         "mode": "lines",
         "name": "0.6456493367707559",
         "opacity": 0.6456493367707559,
         "text": "Edge: ('TheSavior', 'raphamorim')    <br>Weight: 0.65",
         "type": "scatter",
         "x": [
          4245,
          4221.3,
          4197.6,
          4173.9,
          4150.2,
          4126.5,
          4102.8,
          4079.1,
          4055.4,
          4031.7,
          4008,
          3984.2999999999997,
          3960.6,
          3936.8999999999996,
          3913.2
         ],
         "y": [
          189.576,
          227.5062857142857,
          265.4365714285714,
          303.36685714285716,
          341.29714285714283,
          379.2274285714286,
          417.1577142857143,
          455.08799999999997,
          493.01828571428575,
          530.9485714285714,
          568.8788571428572,
          606.8091428571429,
          644.7394285714286,
          682.6697142857143,
          720.6
         ]
        },
        {
         "hoverinfo": "text",
         "line": {
          "color": "brown",
          "width": 1
         },
         "mode": "lines",
         "name": "1.0",
         "opacity": 1,
         "text": "Edge: ('chicoxyzzy', 'mcsheffrey')    <br>Weight: 1.0",
         "type": "scatter",
         "x": [
          900.1,
          909.5342857142857,
          918.9685714285714,
          928.4028571428572,
          937.8371428571429,
          947.2714285714286,
          956.7057142857143,
          966.1400000000001,
          975.5742857142858,
          985.0085714285715,
          994.4428571428572,
          1003.8771428571429,
          1013.3114285714287,
          1022.7457142857144,
          1032.18
         ],
         "y": [
          1193.46,
          1222.4828571428573,
          1251.5057142857142,
          1280.5285714285715,
          1309.5514285714287,
          1338.5742857142857,
          1367.597142857143,
          1396.62,
          1425.642857142857,
          1454.6657142857143,
          1483.6885714285713,
          1512.7114285714285,
          1541.7342857142858,
          1570.7571428571428,
          1599.78
         ]
        },
        {
         "hoverinfo": "text",
         "line": {
          "color": "brown",
          "width": 0.7171561820021768
         },
         "mode": "lines",
         "name": "0.7171561820021768",
         "opacity": 0.7171561820021768,
         "text": "Edge: ('chicoxyzzy', 'joshduck')    <br>Weight: 0.72",
         "type": "scatter",
         "x": [
          900.1,
          933.8457142857143,
          967.5914285714285,
          1001.3371428571429,
          1035.0828571428572,
          1068.8285714285714,
          1102.5742857142857,
          1136.32,
          1170.0657142857142,
          1203.8114285714285,
          1237.557142857143,
          1271.3028571428572,
          1305.0485714285714,
          1338.7942857142857,
          1372.54
         ],
         "y": [
          1193.46,
          1207.0914285714287,
          1220.7228571428573,
          1234.3542857142857,
          1247.9857142857143,
          1261.6171428571429,
          1275.2485714285715,
          1288.88,
          1302.5114285714285,
          1316.142857142857,
          1329.7742857142857,
          1343.4057142857143,
          1357.037142857143,
          1370.6685714285713,
          1384.3
         ]
        },
        {
         "hoverinfo": "text",
         "line": {
          "color": "brown",
          "width": 0.6274624018723586
         },
         "mode": "lines",
         "name": "0.6274624018723586",
         "opacity": 0.6274624018723586,
         "text": "Edge: ('chicoxyzzy', 'jordwalke')    <br>Weight: 0.63",
         "type": "scatter",
         "x": [
          900.1,
          900.72,
          901.34,
          901.96,
          902.58,
          903.2,
          903.82,
          904.44,
          905.06,
          905.68,
          906.3,
          906.92,
          907.54,
          908.16,
          908.78
         ],
         "y": [
          1193.46,
          1214.3600000000001,
          1235.26,
          1256.16,
          1277.06,
          1297.96,
          1318.8600000000001,
          1339.76,
          1360.66,
          1381.56,
          1402.46,
          1423.36,
          1444.26,
          1465.1599999999999,
          1486.06
         ]
        },
        {
         "hoverinfo": "text",
         "line": {
          "color": "brown",
          "width": 0.6809733171404255
         },
         "mode": "lines",
         "name": "0.6809733171404255",
         "opacity": 0.6809733171404255,
         "text": "Edge: ('chicoxyzzy', 'arkist')    <br>Weight: 0.68",
         "type": "scatter",
         "x": [
          900.1,
          932.2571428571429,
          964.4142857142857,
          996.5714285714286,
          1028.7285714285715,
          1060.8857142857144,
          1093.0428571428572,
          1125.2,
          1157.357142857143,
          1189.5142857142857,
          1221.6714285714286,
          1253.8285714285714,
          1285.9857142857143,
          1318.142857142857,
          1350.3
         ],
         "y": [
          1193.46,
          1177.2028571428573,
          1160.9457142857143,
          1144.6885714285715,
          1128.4314285714286,
          1112.1742857142858,
          1095.9171428571428,
          1079.66,
          1063.402857142857,
          1047.1457142857143,
          1030.8885714285714,
          1014.6314285714286,
          998.3742857142857,
          982.1171428571429,
          965.86
         ]
        },
        {
         "hoverinfo": "text",
         "line": {
          "color": "brown",
          "width": 0.6332116010375535
         },
         "mode": "lines",
         "name": "0.6332116010375535",
         "opacity": 0.6332116010375535,
         "text": "Edge: ('keyz', 'Daniel15')    <br>Weight: 0.63",
         "type": "scatter",
         "x": [
          485.56,
          528.5371428571428,
          571.5142857142857,
          614.4914285714285,
          657.4685714285714,
          700.4457142857143,
          743.4228571428571,
          786.4000000000001,
          829.3771428571429,
          872.3542857142857,
          915.3314285714287,
          958.3085714285714,
          1001.2857142857142,
          1044.2628571428572,
          1087.24
         ],
         "y": [
          833.14,
          840.7628571428571,
          848.3857142857142,
          856.0085714285714,
          863.6314285714286,
          871.2542857142857,
          878.8771428571429,
          886.5,
          894.1228571428571,
          901.7457142857143,
          909.3685714285714,
          916.9914285714285,
          924.6142857142858,
          932.2371428571429,
          939.86
         ]
        },
        {
         "hoverinfo": "text",
         "line": {
          "color": "brown",
          "width": 0.7530103295252888
         },
         "mode": "lines",
         "name": "0.7530103295252888",
         "opacity": 0.7530103295252888,
         "text": "Edge: ('eps1lon', 'bl00mber')    <br>Weight: 0.75",
         "type": "scatter",
         "x": [
          4192.2,
          4181.471428571428,
          4170.742857142857,
          4160.0142857142855,
          4149.285714285714,
          4138.557142857143,
          4127.828571428571,
          4117.1,
          4106.371428571429,
          4095.642857142857,
          4084.9142857142856,
          4074.1857142857143,
          4063.457142857143,
          4052.7285714285713,
          4042
         ],
         "y": [
          1602.78,
          1626.0785714285714,
          1649.3771428571429,
          1672.6757142857143,
          1695.9742857142858,
          1719.2728571428572,
          1742.5714285714284,
          1765.87,
          1789.1685714285713,
          1812.4671428571428,
          1835.7657142857142,
          1859.0642857142857,
          1882.3628571428571,
          1905.6614285714286,
          1928.96
         ]
        },
        {
         "hoverinfo": "text",
         "line": {
          "color": "brown",
          "width": 0.6146924090600359
         },
         "mode": "lines",
         "name": "0.6146924090600359",
         "opacity": 0.6146924090600359,
         "text": "Edge: ('bgw', 'iamchenxin')    <br>Weight: 0.61",
         "type": "scatter",
         "x": [
          706.78,
          730.2657142857142,
          753.7514285714285,
          777.2371428571428,
          800.7228571428572,
          824.2085714285714,
          847.6942857142857,
          871.18,
          894.6657142857142,
          918.1514285714286,
          941.6371428571429,
          965.1228571428571,
          988.6085714285714,
          1012.0942857142857,
          1035.58
         ],
         "y": [
          35.45,
          72.51214285714286,
          109.57428571428572,
          146.63642857142858,
          183.69857142857143,
          220.7607142857143,
          257.8228571428572,
          294.885,
          331.94714285714286,
          369.00928571428574,
          406.0714285714286,
          443.13357142857143,
          480.1957142857143,
          517.2578571428572,
          554.32
         ]
        },
        {
         "hoverinfo": "text",
         "line": {
          "color": "brown",
          "width": 0.6103364575126095
         },
         "mode": "lines",
         "name": "0.6103364575126095",
         "opacity": 0.6103364575126095,
         "text": "Edge: ('NE-SmallTown', 'SimenB')    <br>Weight: 0.61",
         "type": "scatter",
         "x": [
          4684,
          4642.857142857143,
          4601.714285714285,
          4560.571428571428,
          4519.428571428572,
          4478.285714285715,
          4437.142857142857,
          4396,
          4354.857142857143,
          4313.714285714285,
          4272.571428571428,
          4231.428571428572,
          4190.285714285714,
          4149.142857142857,
          4108
         ],
         "y": [
          961.62,
          972.4242857142857,
          983.2285714285714,
          994.0328571428572,
          1004.8371428571429,
          1015.6414285714286,
          1026.4457142857143,
          1037.25,
          1048.0542857142857,
          1058.8585714285714,
          1069.6628571428573,
          1080.467142857143,
          1091.2714285714287,
          1102.0757142857144,
          1112.88
         ]
        },
        {
         "hoverinfo": "text",
         "line": {
          "color": "brown",
          "width": 0.792226780072224
         },
         "mode": "lines",
         "name": "0.792226780072224",
         "opacity": 0.792226780072224,
         "text": "Edge: ('NE-SmallTown', 'sompylasar')    <br>Weight: 0.79",
         "type": "scatter",
         "x": [
          4684,
          4669.328571428571,
          4654.657142857143,
          4639.9857142857145,
          4625.314285714286,
          4610.642857142857,
          4595.971428571429,
          4581.3,
          4566.628571428571,
          4551.9571428571435,
          4537.285714285715,
          4522.614285714286,
          4507.942857142857,
          4493.271428571429,
          4478.6
         ],
         "y": [
          961.62,
          995.7471428571429,
          1029.8742857142856,
          1064.0014285714285,
          1098.1285714285714,
          1132.2557142857142,
          1166.3828571428571,
          1200.51,
          1234.6371428571429,
          1268.7642857142857,
          1302.8914285714286,
          1337.0185714285715,
          1371.1457142857143,
          1405.2728571428572,
          1439.4
         ]
        },
        {
         "hoverinfo": "text",
         "line": {
          "color": "brown",
          "width": 0.6142326156891721
         },
         "mode": "lines",
         "name": "0.6142326156891721",
         "opacity": 0.6142326156891721,
         "text": "Edge: ('joshduck', 'jordwalke')    <br>Weight: 0.61",
         "type": "scatter",
         "x": [
          1372.54,
          1339.4142857142856,
          1306.2885714285715,
          1273.162857142857,
          1240.0371428571427,
          1206.9114285714286,
          1173.7857142857142,
          1140.6599999999999,
          1107.5342857142857,
          1074.4085714285713,
          1041.2828571428572,
          1008.1571428571428,
          975.0314285714285,
          941.9057142857142,
          908.78
         ],
         "y": [
          1384.3,
          1391.5685714285714,
          1398.837142857143,
          1406.1057142857142,
          1413.3742857142856,
          1420.642857142857,
          1427.9114285714286,
          1435.1799999999998,
          1442.4485714285713,
          1449.7171428571428,
          1456.9857142857143,
          1464.2542857142857,
          1471.522857142857,
          1478.7914285714285,
          1486.06
         ]
        },
        {
         "hoverinfo": "text",
         "line": {
          "color": "brown",
          "width": 0.9917356337607353
         },
         "mode": "lines",
         "name": "0.9917356337607353",
         "opacity": 0.9917356337607353,
         "text": "Edge: ('jquense', 'cody')    <br>Weight: 0.99",
         "type": "scatter",
         "x": [
          2845,
          2785.4857142857145,
          2725.9714285714285,
          2666.457142857143,
          2606.942857142857,
          2547.4285714285716,
          2487.9142857142856,
          2428.4,
          2368.885714285714,
          2309.3714285714286,
          2249.8571428571427,
          2190.342857142857,
          2130.828571428571,
          2071.3142857142857,
          2011.8
         ],
         "y": [
          874.4,
          876.4157142857142,
          878.4314285714286,
          880.4471428571428,
          882.4628571428572,
          884.4785714285714,
          886.4942857142858,
          888.51,
          890.5257142857142,
          892.5414285714286,
          894.5571428571428,
          896.5728571428572,
          898.5885714285714,
          900.6042857142858,
          902.62
         ]
        },
        {
         "hoverinfo": "text",
         "line": {
          "color": "brown",
          "width": 0.6326456243993493
         },
         "mode": "lines",
         "name": "0.6326456243993493",
         "opacity": 0.6326456243993493,
         "text": "Edge: ('SimenB', 'sompylasar')    <br>Weight: 0.63",
         "type": "scatter",
         "x": [
          4108,
          4134.471428571429,
          4160.942857142857,
          4187.414285714286,
          4213.885714285714,
          4240.357142857143,
          4266.828571428571,
          4293.3,
          4319.771428571429,
          4346.242857142857,
          4372.714285714286,
          4399.185714285714,
          4425.657142857143,
          4452.128571428571,
          4478.6
         ],
         "y": [
          1112.88,
          1136.2028571428573,
          1159.5257142857145,
          1182.8485714285716,
          1206.1714285714286,
          1229.4942857142858,
          1252.817142857143,
          1276.14,
          1299.4628571428573,
          1322.7857142857144,
          1346.1085714285716,
          1369.4314285714286,
          1392.7542857142857,
          1416.077142857143,
          1439.4
         ]
        },
        {
         "hoverinfo": "text",
         "line": {
          "color": "brown",
          "width": 0.7034210554503234
         },
         "mode": "lines",
         "name": "0.7034210554503234",
         "opacity": 0.7034210554503234,
         "text": "Edge: ('philipp-spiess', 'sompylasar')    <br>Weight: 0.7",
         "type": "scatter",
         "x": [
          5148.4,
          5100.557142857143,
          5052.714285714285,
          5004.871428571429,
          4957.028571428571,
          4909.185714285714,
          4861.342857142857,
          4813.5,
          4765.657142857143,
          4717.814285714286,
          4669.971428571429,
          4622.128571428571,
          4574.285714285715,
          4526.442857142857,
          4478.6
         ],
         "y": [
          1614.86,
          1602.3271428571427,
          1589.7942857142857,
          1577.2614285714285,
          1564.7285714285713,
          1552.1957142857143,
          1539.662857142857,
          1527.13,
          1514.597142857143,
          1502.0642857142857,
          1489.5314285714287,
          1476.9985714285715,
          1464.4657142857143,
          1451.9328571428573,
          1439.4
         ]
        },
        {
         "hoverinfo": "text",
         "line": {
          "color": "brown",
          "width": 0.603784340975915
         },
         "mode": "lines",
         "name": "0.603784340975915",
         "opacity": 0.603784340975915,
         "text": "Edge: ('Daniel15', 'fisherwebdev')    <br>Weight: 0.6",
         "type": "scatter",
         "x": [
          1087.24,
          1110.0385714285715,
          1132.837142857143,
          1155.6357142857144,
          1178.4342857142858,
          1201.2328571428573,
          1224.0314285714285,
          1246.83,
          1269.6285714285714,
          1292.4271428571428,
          1315.2257142857143,
          1338.0242857142857,
          1360.8228571428572,
          1383.6214285714286,
          1406.42
         ],
         "y": [
          939.86,
          980.5371428571428,
          1021.2142857142857,
          1061.8914285714286,
          1102.5685714285714,
          1143.2457142857143,
          1183.922857142857,
          1224.6,
          1265.2771428571427,
          1305.9542857142856,
          1346.6314285714284,
          1387.3085714285712,
          1427.985714285714,
          1468.6628571428569,
          1509.34
         ]
        },
        {
         "hoverinfo": "text",
         "line": {
          "color": "brown",
          "width": 0.6577912265852228
         },
         "mode": "lines",
         "name": "0.6577912265852228",
         "opacity": 0.6577912265852228,
         "text": "Edge: ('Daniel15', 'arkist')    <br>Weight: 0.66",
         "type": "scatter",
         "x": [
          1087.24,
          1106.03,
          1124.82,
          1143.61,
          1162.4,
          1181.19,
          1199.98,
          1218.77,
          1237.56,
          1256.35,
          1275.1399999999999,
          1293.9299999999998,
          1312.72,
          1331.51,
          1350.3
         ],
         "y": [
          939.86,
          941.7171428571429,
          943.5742857142857,
          945.4314285714286,
          947.2885714285715,
          949.1457142857143,
          951.0028571428571,
          952.86,
          954.7171428571429,
          956.5742857142857,
          958.4314285714286,
          960.2885714285715,
          962.1457142857143,
          964.0028571428571,
          965.86
         ]
        },
        {
         "hoverinfo": "text",
         "line": {
          "color": "brown",
          "width": 0.6080354169991918
         },
         "mode": "lines",
         "name": "0.6080354169991918",
         "opacity": 0.6080354169991918,
         "text": "Edge: ('Daniel15', 'iamchenxin')    <br>Weight: 0.61",
         "type": "scatter",
         "x": [
          1087.24,
          1083.55,
          1079.86,
          1076.17,
          1072.48,
          1068.79,
          1065.1,
          1061.4099999999999,
          1057.72,
          1054.03,
          1050.34,
          1046.6499999999999,
          1042.96,
          1039.27,
          1035.58
         ],
         "y": [
          939.86,
          912.3214285714286,
          884.7828571428572,
          857.2442857142858,
          829.7057142857143,
          802.1671428571428,
          774.6285714285715,
          747.09,
          719.5514285714286,
          692.0128571428572,
          664.4742857142858,
          636.9357142857143,
          609.3971428571429,
          581.8585714285714,
          554.32
         ]
        },
        {
         "hoverinfo": "text",
         "line": {
          "color": "brown",
          "width": 0.9057542432250564
         },
         "mode": "lines",
         "name": "0.9057542432250564",
         "opacity": 0.9057542432250564,
         "text": "Edge: ('threepointone', 'sompylasar')    <br>Weight: 0.91",
         "type": "scatter",
         "x": [
          4582.4,
          4574.985714285714,
          4567.571428571428,
          4560.157142857142,
          4552.742857142857,
          4545.328571428571,
          4537.914285714286,
          4530.5,
          4523.085714285714,
          4515.671428571429,
          4508.257142857143,
          4500.842857142858,
          4493.428571428572,
          4486.014285714286,
          4478.6
         ],
         "y": [
          1925.68,
          1890.9457142857143,
          1856.2114285714285,
          1821.477142857143,
          1786.7428571428572,
          1752.0085714285715,
          1717.2742857142857,
          1682.54,
          1647.8057142857144,
          1613.0714285714287,
          1578.337142857143,
          1543.6028571428574,
          1508.8685714285716,
          1474.1342857142859,
          1439.4
         ]
        },
        {
         "hoverinfo": "text",
         "line": {
          "color": "brown",
          "width": 0.7712126638082482
         },
         "mode": "lines",
         "name": "0.7712126638082482",
         "opacity": 0.7712126638082482,
         "text": "Edge: ('arkist', 'iamchenxin')    <br>Weight: 0.77",
         "type": "scatter",
         "x": [
          1350.3,
          1327.82,
          1305.34,
          1282.86,
          1260.3799999999999,
          1237.8999999999999,
          1215.42,
          1192.94,
          1170.46,
          1147.98,
          1125.5,
          1103.02,
          1080.54,
          1058.06,
          1035.58
         ],
         "y": [
          965.86,
          936.4642857142858,
          907.0685714285714,
          877.6728571428572,
          848.2771428571428,
          818.8814285714286,
          789.4857142857143,
          760.09,
          730.6942857142858,
          701.2985714285714,
          671.9028571428571,
          642.5071428571429,
          613.1114285714286,
          583.7157142857143,
          554.32
         ]
        },
        {
         "hoverinfo": "text",
         "marker": {
          "color": [
           21,
           13,
           11,
           11,
           6,
           5,
           7,
           8,
           8,
           6,
           4,
           5,
           3,
           6,
           5,
           3,
           5,
           2,
           1,
           1,
           5,
           4,
           6,
           6,
           1,
           1,
           7,
           1,
           3,
           5,
           1,
           2,
           9,
           0,
           3,
           5,
           1,
           10,
           1,
           2,
           0,
           3,
           1,
           9,
           7,
           4,
           9,
           4,
           6,
           3
          ],
          "colorbar": {
           "thickness": 15,
           "title": {
            "side": "right",
            "text": "Adjacency num"
           },
           "xanchor": "left"
          },
          "colorscale": [
           [
            0,
            "rgb(253, 253, 204)"
           ],
           [
            0.09090909090909091,
            "rgb(206, 236, 179)"
           ],
           [
            0.18181818181818182,
            "rgb(156, 219, 165)"
           ],
           [
            0.2727272727272727,
            "rgb(111, 201, 163)"
           ],
           [
            0.36363636363636365,
            "rgb(86, 177, 163)"
           ],
           [
            0.45454545454545453,
            "rgb(76, 153, 160)"
           ],
           [
            0.5454545454545454,
            "rgb(68, 130, 155)"
           ],
           [
            0.6363636363636364,
            "rgb(62, 108, 150)"
           ],
           [
            0.7272727272727273,
            "rgb(62, 82, 143)"
           ],
           [
            0.8181818181818182,
            "rgb(64, 60, 115)"
           ],
           [
            0.9090909090909091,
            "rgb(54, 43, 77)"
           ],
           [
            1,
            "rgb(39, 26, 44)"
           ]
          ],
          "line": {
           "color": "red",
           "width": 1
          },
          "showscale": true,
          "size": [
           31.168048229088168,
           40,
           19.72871137905049,
           21.26601356443105,
           13.805576488319517,
           32.56970610399397,
           12,
           16.51846269781462,
           12,
           12,
           12,
           12,
           12,
           12,
           12,
           12,
           12,
           12,
           12,
           12,
           12,
           12,
           12,
           12,
           12,
           12,
           12,
           12,
           12,
           12,
           12,
           12,
           12,
           12,
           12,
           12,
           12,
           12,
           12,
           12,
           12,
           12,
           12,
           12,
           12,
           12,
           12,
           12,
           12,
           12
          ]
         },
         "mode": "markers",
         "text": [
          "Username: zpao                     <br>Files changed: 2086                     <br>Activity interval: [2013. 2016.]                     <br>Adjacency num: 21",
          "Username: gaearon                     <br>Files changed: 2672                     <br>Activity interval: [2015. 2021.]                     <br>Adjacency num: 13",
          "Username: bvaughn                     <br>Files changed: 1327                     <br>Activity interval: [2018. 2020.]                     <br>Adjacency num: 11",
          "Username: sophiebits                     <br>Files changed: 1429                     <br>Activity interval: [2013. 2017.]                     <br>Adjacency num: 11",
          "Username: acdlite                     <br>Files changed: 934                     <br>Activity interval: [2015. 2021.]                     <br>Adjacency num: 6",
          "Username: sebmarkbage                     <br>Files changed: 2179                     <br>Activity interval: [2013 2021]                     <br>Adjacency num: 5",
          "Username: jimfb                     <br>Files changed: 489                     <br>Activity interval: [2014. 2016.]                     <br>Adjacency num: 7",
          "Username: trueadm                     <br>Files changed: 1114                     <br>Activity interval: [2017. 2021.]                     <br>Adjacency num: 8",
          "Username: petehunt                     <br>Files changed: 594                     <br>Activity interval: [2013. 2014.]                     <br>Adjacency num: 8",
          "Username: chenglou                     <br>Files changed: 279                     <br>Activity interval: [2013. 2015.]                     <br>Adjacency num: 6",
          "Username: vjeux                     <br>Files changed: 392                     <br>Activity interval: [2013. 2017.]                     <br>Adjacency num: 4",
          "Username: benjamn                     <br>Files changed: 106                     <br>Activity interval: [2013. 2014.]                     <br>Adjacency num: 5",
          "Username: yungsters                     <br>Files changed: 350                     <br>Activity interval: [2013. 2018.]                     <br>Adjacency num: 3",
          "Username: subtleGradient                     <br>Files changed: 70                     <br>Activity interval: [2013. 2014.]                     <br>Adjacency num: 6",
          "Username: nhunzaker                     <br>Files changed: 244                     <br>Activity interval: [2015. 2019.]                     <br>Adjacency num: 5",
          "Username: necolas                     <br>Files changed: 181                     <br>Activity interval: [2019. 2020.]                     <br>Adjacency num: 3",
          "Username: syranide                     <br>Files changed: 99                     <br>Activity interval: [2013. 2015.]                     <br>Adjacency num: 5",
          "Username: cpojer                     <br>Files changed: 213                     <br>Activity interval: [2013. 2018.]                     <br>Adjacency num: 2",
          "Username: flarnie                     <br>Files changed: 139                     <br>Activity interval: [2016. 2018.]                     <br>Adjacency num: 1",
          "Username: koba04                     <br>Files changed: 116                     <br>Activity interval: [2014. 2020.]                     <br>Adjacency num: 1",
          "Username: aweary                     <br>Files changed: 229                     <br>Activity interval: [2016. 2019.]                     <br>Adjacency num: 5",
          "Username: rickhanlonii                     <br>Files changed: 227                     <br>Activity interval: [2019. 2021.]                     <br>Adjacency num: 4",
          "Username: marocchino                     <br>Files changed: 51                     <br>Activity interval: [2015. 2015.]                     <br>Adjacency num: 6",
          "Username: kohei-takata                     <br>Files changed: 43                     <br>Activity interval: [2015. 2015.]                     <br>Adjacency num: 6",
          "Username: lunaruan                     <br>Files changed: 134                     <br>Activity interval: [2019. 2021.]                     <br>Adjacency num: 1",
          "Username: TheSavior                     <br>Files changed: 43                     <br>Activity interval: [2018. 2020.]                     <br>Adjacency num: 1",
          "Username: chicoxyzzy                     <br>Files changed: 118                     <br>Activity interval: [2014. 2016.]                     <br>Adjacency num: 7",
          "Username: keyz                     <br>Files changed: 120                     <br>Activity interval: [2015. 2017.]                     <br>Adjacency num: 1",
          "Username: mcsheffrey                     <br>Files changed: 89                     <br>Activity interval: [2013. 2013.]                     <br>Adjacency num: 3",
          "Username: eps1lon                     <br>Files changed: 108                     <br>Activity interval: [2019. 2021.]                     <br>Adjacency num: 5",
          "Username: bgw                     <br>Files changed: 237                     <br>Activity interval: [2015. 2015.]                     <br>Adjacency num: 1",
          "Username: NE-SmallTown                     <br>Files changed: 22                     <br>Activity interval: [2017. 2020.]                     <br>Adjacency num: 2",
          "Username: joshduck                     <br>Files changed: 25                     <br>Activity interval: [2013. 2014.]                     <br>Adjacency num: 9",
          "Username: aickin                     <br>Files changed: 29                     <br>Activity interval: [2016. 2018.]                     <br>Adjacency num: 0",
          "Username: jquense                     <br>Files changed: 67                     <br>Activity interval: [2015. 2019.]                     <br>Adjacency num: 3",
          "Username: SimenB                     <br>Files changed: 70                     <br>Activity interval: [2015. 2021.]                     <br>Adjacency num: 5",
          "Username: philipp-spiess                     <br>Files changed: 96                     <br>Activity interval: [2017. 2020.]                     <br>Adjacency num: 1",
          "Username: Daniel15                     <br>Files changed: 268                     <br>Activity interval: [2013. 2019.]                     <br>Adjacency num: 10",
          "Username: iamdustan                     <br>Files changed: 98                     <br>Activity interval: [2015. 2019.]                     <br>Adjacency num: 1",
          "Username: threepointone                     <br>Files changed: 169                     <br>Activity interval: [2019. 2020.]                     <br>Adjacency num: 2",
          "Username: Simek                     <br>Files changed: 18                     <br>Activity interval: [2013. 2018.]                     <br>Adjacency num: 0",
          "Username: fisherwebdev                     <br>Files changed: 32                     <br>Activity interval: [2014. 2015.]                     <br>Adjacency num: 3",
          "Username: fabiomcosta                     <br>Files changed: 18                     <br>Activity interval: [2013. 2015.]                     <br>Adjacency num: 1",
          "Username: sompylasar                     <br>Files changed: 46                     <br>Activity interval: [2018. 2020.]                     <br>Adjacency num: 9",
          "Username: jordwalke                     <br>Files changed: 42                     <br>Activity interval: [2013. 2014.]                     <br>Adjacency num: 7",
          "Username: raphamorim                     <br>Files changed: 269                     <br>Activity interval: [2018. 2018.]                     <br>Adjacency num: 4",
          "Username: arkist                     <br>Files changed: 41                     <br>Activity interval: [2015. 2015.]                     <br>Adjacency num: 9",
          "Username: cody                     <br>Files changed: 21                     <br>Activity interval: [2014. 2016.]                     <br>Adjacency num: 4",
          "Username: iamchenxin                     <br>Files changed: 343                     <br>Activity interval: [2015. 2016.]                     <br>Adjacency num: 6",
          "Username: bl00mber                     <br>Files changed: 52                     <br>Activity interval: [2018. 2021.]                     <br>Adjacency num: 3"
         ],
         "type": "scatter",
         "x": [
          1349.08,
          3809,
          3971.2,
          1882,
          3767.4,
          3113.8,
          1475.04,
          3847.8,
          1183.98,
          1587.12,
          1711.58,
          1184.2,
          1664.44,
          716.42,
          3535.6,
          4231.2,
          1244.62,
          1719.74,
          5076.4,
          562.24,
          3439.8,
          4285.6,
          1002.44,
          1280.74,
          4226.6,
          4245,
          900.1,
          485.56,
          1032.18,
          4192.2,
          706.78,
          4684,
          1372.54,
          2440.2,
          2845,
          4108,
          5148.4,
          1087.24,
          3687.2,
          4582.4,
          2874.2,
          1406.42,
          112.722,
          4478.6,
          908.78,
          3913.2,
          1350.3,
          2011.8,
          1035.58,
          4042
         ],
         "y": [
          1168.58,
          1400.34,
          1727.5,
          1272.46,
          1560.96,
          1443.28,
          737.06,
          1304.82,
          1445.2,
          1404.7,
          1098.78,
          1779.4,
          1639.54,
          1631.16,
          904.32,
          1358.92,
          1681.42,
          852.36,
          1325.4,
          571.18,
          1010.12,
          1835.54,
          773.22,
          596.8,
          2295.8,
          189.576,
          1193.46,
          833.14,
          1599.78,
          1602.78,
          35.45,
          961.62,
          1384.3,
          684.6,
          874.4,
          1112.88,
          1614.86,
          939.86,
          1969.86,
          1925.68,
          468.6,
          1509.34,
          1983.06,
          1439.4,
          1486.06,
          720.6,
          965.86,
          902.62,
          554.32,
          1928.96
         ]
        }
       ],
       "layout": {
        "annotations": [
         {
          "showarrow": false,
          "text": "Params: {'file_coef': 1, 'time_coef': -0.5}, min_value_for_edge: 0.6",
          "x": 0.005,
          "xref": "paper",
          "y": -0.002,
          "yref": "paper"
         }
        ],
        "autosize": true,
        "margin": {
         "b": 20,
         "l": 5,
         "r": 5,
         "t": 40
        },
        "plot_bgcolor": "whitesmoke",
        "showlegend": false,
        "template": {
         "data": {
          "bar": [
           {
            "error_x": {
             "color": "#2a3f5f"
            },
            "error_y": {
             "color": "#2a3f5f"
            },
            "marker": {
             "line": {
              "color": "#E5ECF6",
              "width": 0.5
             }
            },
            "type": "bar"
           }
          ],
          "barpolar": [
           {
            "marker": {
             "line": {
              "color": "#E5ECF6",
              "width": 0.5
             }
            },
            "type": "barpolar"
           }
          ],
          "carpet": [
           {
            "aaxis": {
             "endlinecolor": "#2a3f5f",
             "gridcolor": "white",
             "linecolor": "white",
             "minorgridcolor": "white",
             "startlinecolor": "#2a3f5f"
            },
            "baxis": {
             "endlinecolor": "#2a3f5f",
             "gridcolor": "white",
             "linecolor": "white",
             "minorgridcolor": "white",
             "startlinecolor": "#2a3f5f"
            },
            "type": "carpet"
           }
          ],
          "choropleth": [
           {
            "colorbar": {
             "outlinewidth": 0,
             "ticks": ""
            },
            "type": "choropleth"
           }
          ],
          "contour": [
           {
            "colorbar": {
             "outlinewidth": 0,
             "ticks": ""
            },
            "colorscale": [
             [
              0,
              "#0d0887"
             ],
             [
              0.1111111111111111,
              "#46039f"
             ],
             [
              0.2222222222222222,
              "#7201a8"
             ],
             [
              0.3333333333333333,
              "#9c179e"
             ],
             [
              0.4444444444444444,
              "#bd3786"
             ],
             [
              0.5555555555555556,
              "#d8576b"
             ],
             [
              0.6666666666666666,
              "#ed7953"
             ],
             [
              0.7777777777777778,
              "#fb9f3a"
             ],
             [
              0.8888888888888888,
              "#fdca26"
             ],
             [
              1,
              "#f0f921"
             ]
            ],
            "type": "contour"
           }
          ],
          "contourcarpet": [
           {
            "colorbar": {
             "outlinewidth": 0,
             "ticks": ""
            },
            "type": "contourcarpet"
           }
          ],
          "heatmap": [
           {
            "colorbar": {
             "outlinewidth": 0,
             "ticks": ""
            },
            "colorscale": [
             [
              0,
              "#0d0887"
             ],
             [
              0.1111111111111111,
              "#46039f"
             ],
             [
              0.2222222222222222,
              "#7201a8"
             ],
             [
              0.3333333333333333,
              "#9c179e"
             ],
             [
              0.4444444444444444,
              "#bd3786"
             ],
             [
              0.5555555555555556,
              "#d8576b"
             ],
             [
              0.6666666666666666,
              "#ed7953"
             ],
             [
              0.7777777777777778,
              "#fb9f3a"
             ],
             [
              0.8888888888888888,
              "#fdca26"
             ],
             [
              1,
              "#f0f921"
             ]
            ],
            "type": "heatmap"
           }
          ],
          "heatmapgl": [
           {
            "colorbar": {
             "outlinewidth": 0,
             "ticks": ""
            },
            "colorscale": [
             [
              0,
              "#0d0887"
             ],
             [
              0.1111111111111111,
              "#46039f"
             ],
             [
              0.2222222222222222,
              "#7201a8"
             ],
             [
              0.3333333333333333,
              "#9c179e"
             ],
             [
              0.4444444444444444,
              "#bd3786"
             ],
             [
              0.5555555555555556,
              "#d8576b"
             ],
             [
              0.6666666666666666,
              "#ed7953"
             ],
             [
              0.7777777777777778,
              "#fb9f3a"
             ],
             [
              0.8888888888888888,
              "#fdca26"
             ],
             [
              1,
              "#f0f921"
             ]
            ],
            "type": "heatmapgl"
           }
          ],
          "histogram": [
           {
            "marker": {
             "colorbar": {
              "outlinewidth": 0,
              "ticks": ""
             }
            },
            "type": "histogram"
           }
          ],
          "histogram2d": [
           {
            "colorbar": {
             "outlinewidth": 0,
             "ticks": ""
            },
            "colorscale": [
             [
              0,
              "#0d0887"
             ],
             [
              0.1111111111111111,
              "#46039f"
             ],
             [
              0.2222222222222222,
              "#7201a8"
             ],
             [
              0.3333333333333333,
              "#9c179e"
             ],
             [
              0.4444444444444444,
              "#bd3786"
             ],
             [
              0.5555555555555556,
              "#d8576b"
             ],
             [
              0.6666666666666666,
              "#ed7953"
             ],
             [
              0.7777777777777778,
              "#fb9f3a"
             ],
             [
              0.8888888888888888,
              "#fdca26"
             ],
             [
              1,
              "#f0f921"
             ]
            ],
            "type": "histogram2d"
           }
          ],
          "histogram2dcontour": [
           {
            "colorbar": {
             "outlinewidth": 0,
             "ticks": ""
            },
            "colorscale": [
             [
              0,
              "#0d0887"
             ],
             [
              0.1111111111111111,
              "#46039f"
             ],
             [
              0.2222222222222222,
              "#7201a8"
             ],
             [
              0.3333333333333333,
              "#9c179e"
             ],
             [
              0.4444444444444444,
              "#bd3786"
             ],
             [
              0.5555555555555556,
              "#d8576b"
             ],
             [
              0.6666666666666666,
              "#ed7953"
             ],
             [
              0.7777777777777778,
              "#fb9f3a"
             ],
             [
              0.8888888888888888,
              "#fdca26"
             ],
             [
              1,
              "#f0f921"
             ]
            ],
            "type": "histogram2dcontour"
           }
          ],
          "mesh3d": [
           {
            "colorbar": {
             "outlinewidth": 0,
             "ticks": ""
            },
            "type": "mesh3d"
           }
          ],
          "parcoords": [
           {
            "line": {
             "colorbar": {
              "outlinewidth": 0,
              "ticks": ""
             }
            },
            "type": "parcoords"
           }
          ],
          "pie": [
           {
            "automargin": true,
            "type": "pie"
           }
          ],
          "scatter": [
           {
            "marker": {
             "colorbar": {
              "outlinewidth": 0,
              "ticks": ""
             }
            },
            "type": "scatter"
           }
          ],
          "scatter3d": [
           {
            "line": {
             "colorbar": {
              "outlinewidth": 0,
              "ticks": ""
             }
            },
            "marker": {
             "colorbar": {
              "outlinewidth": 0,
              "ticks": ""
             }
            },
            "type": "scatter3d"
           }
          ],
          "scattercarpet": [
           {
            "marker": {
             "colorbar": {
              "outlinewidth": 0,
              "ticks": ""
             }
            },
            "type": "scattercarpet"
           }
          ],
          "scattergeo": [
           {
            "marker": {
             "colorbar": {
              "outlinewidth": 0,
              "ticks": ""
             }
            },
            "type": "scattergeo"
           }
          ],
          "scattergl": [
           {
            "marker": {
             "colorbar": {
              "outlinewidth": 0,
              "ticks": ""
             }
            },
            "type": "scattergl"
           }
          ],
          "scattermapbox": [
           {
            "marker": {
             "colorbar": {
              "outlinewidth": 0,
              "ticks": ""
             }
            },
            "type": "scattermapbox"
           }
          ],
          "scatterpolar": [
           {
            "marker": {
             "colorbar": {
              "outlinewidth": 0,
              "ticks": ""
             }
            },
            "type": "scatterpolar"
           }
          ],
          "scatterpolargl": [
           {
            "marker": {
             "colorbar": {
              "outlinewidth": 0,
              "ticks": ""
             }
            },
            "type": "scatterpolargl"
           }
          ],
          "scatterternary": [
           {
            "marker": {
             "colorbar": {
              "outlinewidth": 0,
              "ticks": ""
             }
            },
            "type": "scatterternary"
           }
          ],
          "surface": [
           {
            "colorbar": {
             "outlinewidth": 0,
             "ticks": ""
            },
            "colorscale": [
             [
              0,
              "#0d0887"
             ],
             [
              0.1111111111111111,
              "#46039f"
             ],
             [
              0.2222222222222222,
              "#7201a8"
             ],
             [
              0.3333333333333333,
              "#9c179e"
             ],
             [
              0.4444444444444444,
              "#bd3786"
             ],
             [
              0.5555555555555556,
              "#d8576b"
             ],
             [
              0.6666666666666666,
              "#ed7953"
             ],
             [
              0.7777777777777778,
              "#fb9f3a"
             ],
             [
              0.8888888888888888,
              "#fdca26"
             ],
             [
              1,
              "#f0f921"
             ]
            ],
            "type": "surface"
           }
          ],
          "table": [
           {
            "cells": {
             "fill": {
              "color": "#EBF0F8"
             },
             "line": {
              "color": "white"
             }
            },
            "header": {
             "fill": {
              "color": "#C8D4E3"
             },
             "line": {
              "color": "white"
             }
            },
            "type": "table"
           }
          ]
         },
         "layout": {
          "annotationdefaults": {
           "arrowcolor": "#2a3f5f",
           "arrowhead": 0,
           "arrowwidth": 1
          },
          "autotypenumbers": "strict",
          "coloraxis": {
           "colorbar": {
            "outlinewidth": 0,
            "ticks": ""
           }
          },
          "colorscale": {
           "diverging": [
            [
             0,
             "#8e0152"
            ],
            [
             0.1,
             "#c51b7d"
            ],
            [
             0.2,
             "#de77ae"
            ],
            [
             0.3,
             "#f1b6da"
            ],
            [
             0.4,
             "#fde0ef"
            ],
            [
             0.5,
             "#f7f7f7"
            ],
            [
             0.6,
             "#e6f5d0"
            ],
            [
             0.7,
             "#b8e186"
            ],
            [
             0.8,
             "#7fbc41"
            ],
            [
             0.9,
             "#4d9221"
            ],
            [
             1,
             "#276419"
            ]
           ],
           "sequential": [
            [
             0,
             "#0d0887"
            ],
            [
             0.1111111111111111,
             "#46039f"
            ],
            [
             0.2222222222222222,
             "#7201a8"
            ],
            [
             0.3333333333333333,
             "#9c179e"
            ],
            [
             0.4444444444444444,
             "#bd3786"
            ],
            [
             0.5555555555555556,
             "#d8576b"
            ],
            [
             0.6666666666666666,
             "#ed7953"
            ],
            [
             0.7777777777777778,
             "#fb9f3a"
            ],
            [
             0.8888888888888888,
             "#fdca26"
            ],
            [
             1,
             "#f0f921"
            ]
           ],
           "sequentialminus": [
            [
             0,
             "#0d0887"
            ],
            [
             0.1111111111111111,
             "#46039f"
            ],
            [
             0.2222222222222222,
             "#7201a8"
            ],
            [
             0.3333333333333333,
             "#9c179e"
            ],
            [
             0.4444444444444444,
             "#bd3786"
            ],
            [
             0.5555555555555556,
             "#d8576b"
            ],
            [
             0.6666666666666666,
             "#ed7953"
            ],
            [
             0.7777777777777778,
             "#fb9f3a"
            ],
            [
             0.8888888888888888,
             "#fdca26"
            ],
            [
             1,
             "#f0f921"
            ]
           ]
          },
          "colorway": [
           "#636efa",
           "#EF553B",
           "#00cc96",
           "#ab63fa",
           "#FFA15A",
           "#19d3f3",
           "#FF6692",
           "#B6E880",
           "#FF97FF",
           "#FECB52"
          ],
          "font": {
           "color": "#2a3f5f"
          },
          "geo": {
           "bgcolor": "white",
           "lakecolor": "white",
           "landcolor": "#E5ECF6",
           "showlakes": true,
           "showland": true,
           "subunitcolor": "white"
          },
          "hoverlabel": {
           "align": "left"
          },
          "hovermode": "closest",
          "mapbox": {
           "style": "light"
          },
          "paper_bgcolor": "white",
          "plot_bgcolor": "#E5ECF6",
          "polar": {
           "angularaxis": {
            "gridcolor": "white",
            "linecolor": "white",
            "ticks": ""
           },
           "bgcolor": "#E5ECF6",
           "radialaxis": {
            "gridcolor": "white",
            "linecolor": "white",
            "ticks": ""
           }
          },
          "scene": {
           "xaxis": {
            "backgroundcolor": "#E5ECF6",
            "gridcolor": "white",
            "gridwidth": 2,
            "linecolor": "white",
            "showbackground": true,
            "ticks": "",
            "zerolinecolor": "white"
           },
           "yaxis": {
            "backgroundcolor": "#E5ECF6",
            "gridcolor": "white",
            "gridwidth": 2,
            "linecolor": "white",
            "showbackground": true,
            "ticks": "",
            "zerolinecolor": "white"
           },
           "zaxis": {
            "backgroundcolor": "#E5ECF6",
            "gridcolor": "white",
            "gridwidth": 2,
            "linecolor": "white",
            "showbackground": true,
            "ticks": "",
            "zerolinecolor": "white"
           }
          },
          "shapedefaults": {
           "line": {
            "color": "#2a3f5f"
           }
          },
          "ternary": {
           "aaxis": {
            "gridcolor": "white",
            "linecolor": "white",
            "ticks": ""
           },
           "baxis": {
            "gridcolor": "white",
            "linecolor": "white",
            "ticks": ""
           },
           "bgcolor": "#E5ECF6",
           "caxis": {
            "gridcolor": "white",
            "linecolor": "white",
            "ticks": ""
           }
          },
          "title": {
           "x": 0.05
          },
          "xaxis": {
           "automargin": true,
           "gridcolor": "white",
           "linecolor": "white",
           "ticks": "",
           "title": {
            "standoff": 15
           },
           "zerolinecolor": "white",
           "zerolinewidth": 2
          },
          "yaxis": {
           "automargin": true,
           "gridcolor": "white",
           "linecolor": "white",
           "ticks": "",
           "title": {
            "standoff": 15
           },
           "zerolinecolor": "white",
           "zerolinewidth": 2
          }
         }
        },
        "title": {
         "font": {
          "size": 16
         },
         "text": "Social graph of React developers"
        },
        "xaxis": {
         "autorange": true,
         "range": [
          -205.68943474256247,
          5466.811434742562
         ],
         "showgrid": false,
         "showticklabels": false,
         "type": "linear",
         "zeroline": false
        },
        "yaxis": {
         "autorange": true,
         "range": [
          -146.1852678571429,
          2477.435267857143
         ],
         "showgrid": false,
         "showticklabels": false,
         "type": "linear",
         "zeroline": false
        }
       }
      },
      "image/png": "[encoded data removed]",
      "text/html": [
       "<div>                            <div id=\"d26084ce-9feb-4cf1-b233-0e6eabf88429\" class=\"plotly-graph-div\" style=\"height:525px; width:100%;\"></div>            <script type=\"text/javascript\">                require([\"plotly\"], function(Plotly) {                    window.PLOTLYENV=window.PLOTLYENV || {};                                    if (document.getElementById(\"d26084ce-9feb-4cf1-b233-0e6eabf88429\")) {                    Plotly.newPlot(                        \"d26084ce-9feb-4cf1-b233-0e6eabf88429\",                        [{\"hoverinfo\": \"text\", \"line\": {\"color\": \"brown\", \"width\": 0.721866504926751}, \"mode\": \"lines\", \"name\": \"0.721866504926751\", \"opacity\": 0.721866504926751, \"text\": \"Edge: ('zpao', 'sophiebits')    <br>Weight: 0.72\", \"type\": \"scatter\", \"x\": [1349.08, 1387.1457142857141, 1425.2114285714285, 1463.2771428571427, 1501.3428571428572, 1539.4085714285713, 1577.4742857142858, 1615.54, 1653.6057142857144, 1691.6714285714286, 1729.7371428571428, 1767.8028571428572, 1805.8685714285714, 1843.9342857142858, 1882.0], \"y\": [1168.58, 1176.0, 1183.4199999999998, 1190.84, 1198.26, 1205.68, 1213.1, 1220.52, 1227.94, 1235.36, 1242.78, 1250.2, 1257.6200000000001, 1265.04, 1272.46]}, {\"hoverinfo\": \"text\", \"line\": {\"color\": \"brown\", \"width\": 0.6730728622454369}, \"mode\": \"lines\", \"name\": \"0.6730728622454369\", \"opacity\": 0.6730728622454369, \"text\": \"Edge: ('zpao', 'jimfb')    <br>Weight: 0.67\", \"type\": \"scatter\", \"x\": [1349.08, 1358.0771428571427, 1367.0742857142857, 1376.0714285714284, 1385.0685714285714, 1394.0657142857142, 1403.0628571428572, 1412.06, 1421.0571428571427, 1430.0542857142857, 1439.0514285714285, 1448.0485714285714, 1457.0457142857142, 1466.0428571428572, 1475.04], \"y\": [1168.58, 1137.7571428571428, 1106.9342857142856, 1076.1114285714284, 1045.2885714285715, 1014.4657142857143, 983.6428571428571, 952.8199999999999, 921.9971428571428, 891.1742857142856, 860.3514285714285, 829.5285714285714, 798.7057142857143, 767.8828571428571, 737.06]}, {\"hoverinfo\": \"text\", \"line\": {\"color\": \"brown\", \"width\": 0.7980304576724391}, \"mode\": \"lines\", \"name\": \"0.7980304576724391\", \"opacity\": 0.7980304576724391, \"text\": \"Edge: ('zpao', 'petehunt')    <br>Weight: 0.8\", \"type\": \"scatter\", \"x\": [1349.08, 1337.2871428571427, 1325.4942857142858, 1313.7014285714286, 1301.9085714285713, 1290.1157142857141, 1278.3228571428572, 1266.53, 1254.7371428571428, 1242.9442857142858, 1231.1514285714286, 1219.3585714285714, 1207.5657142857144, 1195.7728571428572, 1183.98], \"y\": [1168.58, 1188.3385714285714, 1208.097142857143, 1227.8557142857142, 1247.6142857142856, 1267.3728571428571, 1287.1314285714286, 1306.8899999999999, 1326.6485714285714, 1346.4071428571428, 1366.1657142857143, 1385.9242857142858, 1405.682857142857, 1425.4414285714286, 1445.2]}, {\"hoverinfo\": \"text\", \"line\": {\"color\": \"brown\", \"width\": 0.6759632329197748}, \"mode\": \"lines\", \"name\": \"0.6759632329197748\", \"opacity\": 0.6759632329197748, \"text\": \"Edge: ('zpao', 'chenglou')    <br>Weight: 0.68\", \"type\": \"scatter\", \"x\": [1349.08, 1366.0828571428572, 1383.0857142857142, 1400.0885714285714, 1417.0914285714284, 1434.0942857142857, 1451.097142857143, 1468.1, 1485.1028571428571, 1502.1057142857142, 1519.1085714285714, 1536.1114285714284, 1553.1142857142856, 1570.1171428571429, 1587.12], \"y\": [1168.58, 1185.4457142857143, 1202.3114285714285, 1219.1771428571428, 1236.0428571428572, 1252.9085714285713, 1269.7742857142857, 1286.6399999999999, 1303.5057142857142, 1320.3714285714286, 1337.2371428571428, 1354.1028571428571, 1370.9685714285715, 1387.8342857142857, 1404.7]}, {\"hoverinfo\": \"text\", \"line\": {\"color\": \"brown\", \"width\": 0.6576017037405144}, \"mode\": \"lines\", \"name\": \"0.6576017037405144\", \"opacity\": 0.6576017037405144, \"text\": \"Edge: ('zpao', 'vjeux')    <br>Weight: 0.66\", \"type\": \"scatter\", \"x\": [1349.08, 1374.972857142857, 1400.8657142857141, 1426.7585714285713, 1452.6514285714286, 1478.5442857142857, 1504.4371428571428, 1530.33, 1556.222857142857, 1582.1157142857141, 1608.0085714285715, 1633.9014285714284, 1659.7942857142857, 1685.6871428571428, 1711.58], \"y\": [1168.58, 1163.5942857142857, 1158.6085714285714, 1153.6228571428571, 1148.6371428571429, 1143.6514285714286, 1138.6657142857143, 1133.6799999999998, 1128.6942857142856, 1123.7085714285713, 1118.722857142857, 1113.7371428571428, 1108.7514285714285, 1103.7657142857142, 1098.78]}, {\"hoverinfo\": \"text\", \"line\": {\"color\": \"brown\", \"width\": 0.6787780236818317}, \"mode\": \"lines\", \"name\": \"0.6787780236818317\", \"opacity\": 0.6787780236818317, \"text\": \"Edge: ('zpao', 'benjamn')    <br>Weight: 0.68\", \"type\": \"scatter\", \"x\": [1349.08, 1337.3028571428572, 1325.5257142857142, 1313.7485714285713, 1301.9714285714285, 1290.1942857142858, 1278.4171428571428, 1266.6399999999999, 1254.8628571428571, 1243.0857142857144, 1231.3085714285714, 1219.5314285714285, 1207.7542857142857, 1195.977142857143, 1184.2], \"y\": [1168.58, 1212.21, 1255.84, 1299.47, 1343.1, 1386.73, 1430.3600000000001, 1473.99, 1517.62, 1561.25, 1604.88, 1648.51, 1692.14, 1735.77, 1779.4]}, {\"hoverinfo\": \"text\", \"line\": {\"color\": \"brown\", \"width\": 0.8236385310379191}, \"mode\": \"lines\", \"name\": \"0.8236385310379191\", \"opacity\": 0.8236385310379191, \"text\": \"Edge: ('zpao', 'yungsters')    <br>Weight: 0.82\", \"type\": \"scatter\", \"x\": [1349.08, 1371.6057142857142, 1394.1314285714286, 1416.6571428571428, 1439.182857142857, 1461.7085714285713, 1484.2342857142858, 1506.76, 1529.2857142857142, 1551.8114285714287, 1574.337142857143, 1596.8628571428571, 1619.3885714285716, 1641.9142857142858, 1664.44], \"y\": [1168.58, 1202.22, 1235.86, 1269.5, 1303.1399999999999, 1336.78, 1370.4199999999998, 1404.06, 1437.6999999999998, 1471.34, 1504.98, 1538.62, 1572.26, 1605.8999999999999, 1639.54]}, {\"hoverinfo\": \"text\", \"line\": {\"color\": \"brown\", \"width\": 0.6468822877047982}, \"mode\": \"lines\", \"name\": \"0.6468822877047982\", \"opacity\": 0.6468822877047982, \"text\": \"Edge: ('zpao', 'subtleGradient')    <br>Weight: 0.65\", \"type\": \"scatter\", \"x\": [1349.08, 1303.8899999999999, 1258.6999999999998, 1213.51, 1168.32, 1123.1299999999999, 1077.94, 1032.75, 987.56, 942.3699999999999, 897.18, 851.99, 806.8, 761.6099999999999, 716.42], \"y\": [1168.58, 1201.6214285714286, 1234.662857142857, 1267.7042857142856, 1300.7457142857143, 1333.787142857143, 1366.8285714285714, 1399.87, 1432.9114285714286, 1465.9528571428573, 1498.9942857142858, 1532.0357142857142, 1565.077142857143, 1598.1185714285716, 1631.16]}, {\"hoverinfo\": \"text\", \"line\": {\"color\": \"brown\", \"width\": 0.6446083235864589}, \"mode\": \"lines\", \"name\": \"0.6446083235864589\", \"opacity\": 0.6446083235864589, \"text\": \"Edge: ('zpao', 'syranide')    <br>Weight: 0.64\", \"type\": \"scatter\", \"x\": [1349.08, 1341.6185714285714, 1334.1571428571428, 1326.6957142857143, 1319.2342857142855, 1311.772857142857, 1304.3114285714285, 1296.85, 1289.3885714285714, 1281.9271428571428, 1274.4657142857143, 1267.0042857142855, 1259.542857142857, 1252.0814285714284, 1244.62], \"y\": [1168.58, 1205.2114285714285, 1241.8428571428572, 1278.4742857142855, 1315.1057142857142, 1351.7371428571428, 1388.3685714285714, 1425.0, 1461.6314285714286, 1498.2628571428572, 1534.8942857142856, 1571.5257142857142, 1608.1571428571428, 1644.7885714285715, 1681.42]}, {\"hoverinfo\": \"text\", \"line\": {\"color\": \"brown\", \"width\": 0.6249196275914777}, \"mode\": \"lines\", \"name\": \"0.6249196275914777\", \"opacity\": 0.6249196275914777, \"text\": \"Edge: ('zpao', 'cpojer')    <br>Weight: 0.62\", \"type\": \"scatter\", \"x\": [1349.08, 1375.5557142857142, 1402.0314285714285, 1428.5071428571428, 1454.982857142857, 1481.4585714285713, 1507.9342857142856, 1534.4099999999999, 1560.8857142857144, 1587.3614285714286, 1613.837142857143, 1640.3128571428572, 1666.7885714285715, 1693.2642857142857, 1719.74], \"y\": [1168.58, 1145.992857142857, 1123.405714285714, 1100.8185714285714, 1078.2314285714285, 1055.6442857142856, 1033.057142857143, 1010.47, 987.8828571428571, 965.2957142857142, 942.7085714285714, 920.1214285714286, 897.5342857142857, 874.9471428571428, 852.36]}, {\"hoverinfo\": \"text\", \"line\": {\"color\": \"brown\", \"width\": 0.7214208481489884}, \"mode\": \"lines\", \"name\": \"0.7214208481489884\", \"opacity\": 0.7214208481489884, \"text\": \"Edge: ('zpao', 'marocchino')    <br>Weight: 0.72\", \"type\": \"scatter\", \"x\": [1349.08, 1324.32, 1299.56, 1274.8, 1250.04, 1225.28, 1200.52, 1175.76, 1151.0, 1126.24, 1101.48, 1076.72, 1051.96, 1027.2, 1002.44], \"y\": [1168.58, 1140.34, 1112.1, 1083.86, 1055.62, 1027.3799999999999, 999.14, 970.9, 942.66, 914.4200000000001, 886.1800000000001, 857.94, 829.7, 801.46, 773.22]}, {\"hoverinfo\": \"text\", \"line\": {\"color\": \"brown\", \"width\": 0.6907012468238405}, \"mode\": \"lines\", \"name\": \"0.6907012468238405\", \"opacity\": 0.6907012468238405, \"text\": \"Edge: ('zpao', 'kohei-takata')    <br>Weight: 0.69\", \"type\": \"scatter\", \"x\": [1349.08, 1344.1985714285713, 1339.3171428571427, 1334.4357142857143, 1329.5542857142857, 1324.672857142857, 1319.7914285714285, 1314.9099999999999, 1310.0285714285715, 1305.1471428571429, 1300.2657142857142, 1295.3842857142856, 1290.5028571428572, 1285.6214285714286, 1280.74], \"y\": [1168.58, 1127.7385714285713, 1086.8971428571429, 1046.0557142857142, 1005.2142857142857, 964.3728571428571, 923.5314285714285, 882.6899999999999, 841.8485714285714, 801.0071428571428, 760.1657142857142, 719.3242857142857, 678.482857142857, 637.6414285714285, 596.8]}, {\"hoverinfo\": \"text\", \"line\": {\"color\": \"brown\", \"width\": 0.6800999356858285}, \"mode\": \"lines\", \"name\": \"0.6800999356858285\", \"opacity\": 0.6800999356858285, \"text\": \"Edge: ('zpao', 'chicoxyzzy')    <br>Weight: 0.68\", \"type\": \"scatter\", \"x\": [1349.08, 1317.01, 1284.94, 1252.87, 1220.8, 1188.73, 1156.6599999999999, 1124.59, 1092.52, 1060.45, 1028.38, 996.31, 964.24, 932.1700000000001, 900.1], \"y\": [1168.58, 1170.357142857143, 1172.1342857142856, 1173.9114285714286, 1175.6885714285713, 1177.4657142857143, 1179.242857142857, 1181.02, 1182.797142857143, 1184.5742857142857, 1186.3514285714286, 1188.1285714285714, 1189.9057142857143, 1191.682857142857, 1193.46]}, {\"hoverinfo\": \"text\", \"line\": {\"color\": \"brown\", \"width\": 0.6202442472137893}, \"mode\": \"lines\", \"name\": \"0.6202442472137893\", \"opacity\": 0.6202442472137893, \"text\": \"Edge: ('zpao', 'mcsheffrey')    <br>Weight: 0.62\", \"type\": \"scatter\", \"x\": [1349.08, 1326.4442857142856, 1303.8085714285714, 1281.172857142857, 1258.5371428571427, 1235.9014285714286, 1213.2657142857142, 1190.63, 1167.9942857142858, 1145.3585714285714, 1122.7228571428573, 1100.087142857143, 1077.4514285714286, 1054.8157142857144, 1032.18], \"y\": [1168.58, 1199.3799999999999, 1230.1799999999998, 1260.98, 1291.78, 1322.58, 1353.3799999999999, 1384.1799999999998, 1414.98, 1445.78, 1476.58, 1507.38, 1538.1799999999998, 1568.98, 1599.78]}, {\"hoverinfo\": \"text\", \"line\": {\"color\": \"brown\", \"width\": 0.7027394419160228}, \"mode\": \"lines\", \"name\": \"0.7027394419160228\", \"opacity\": 0.7027394419160228, \"text\": \"Edge: ('zpao', 'joshduck')    <br>Weight: 0.7\", \"type\": \"scatter\", \"x\": [1349.08, 1350.7557142857142, 1352.4314285714286, 1354.107142857143, 1355.782857142857, 1357.4585714285713, 1359.1342857142856, 1360.81, 1362.4857142857143, 1364.1614285714286, 1365.837142857143, 1367.512857142857, 1369.1885714285713, 1370.8642857142856, 1372.54], \"y\": [1168.58, 1183.9885714285713, 1199.3971428571429, 1214.8057142857142, 1230.2142857142856, 1245.6228571428571, 1261.0314285714285, 1276.44, 1291.8485714285714, 1307.2571428571428, 1322.6657142857143, 1338.0742857142857, 1353.482857142857, 1368.8914285714286, 1384.3]}, {\"hoverinfo\": \"text\", \"line\": {\"color\": \"brown\", \"width\": 0.7856565277083414}, \"mode\": \"lines\", \"name\": \"0.7856565277083414\", \"opacity\": 0.7856565277083414, \"text\": \"Edge: ('zpao', 'Daniel15')    <br>Weight: 0.79\", \"type\": \"scatter\", \"x\": [1349.08, 1330.3771428571429, 1311.6742857142856, 1292.9714285714285, 1274.2685714285715, 1255.5657142857142, 1236.8628571428571, 1218.1599999999999, 1199.4571428571428, 1180.7542857142857, 1162.0514285714285, 1143.3485714285714, 1124.6457142857143, 1105.942857142857, 1087.24], \"y\": [1168.58, 1152.242857142857, 1135.905714285714, 1119.5685714285714, 1103.2314285714285, 1086.8942857142856, 1070.557142857143, 1054.22, 1037.8828571428571, 1021.5457142857142, 1005.2085714285714, 988.8714285714286, 972.5342857142857, 956.1971428571428, 939.86]}, {\"hoverinfo\": \"text\", \"line\": {\"color\": \"brown\", \"width\": 0.7449017988477188}, \"mode\": \"lines\", \"name\": \"0.7449017988477188\", \"opacity\": 0.7449017988477188, \"text\": \"Edge: ('zpao', 'fisherwebdev')    <br>Weight: 0.74\", \"type\": \"scatter\", \"x\": [1349.08, 1353.1757142857143, 1357.2714285714285, 1361.3671428571429, 1365.462857142857, 1369.5585714285714, 1373.6542857142856, 1377.75, 1381.8457142857144, 1385.9414285714286, 1390.037142857143, 1394.1328571428571, 1398.2285714285715, 1402.3242857142857, 1406.42], \"y\": [1168.58, 1192.9199999999998, 1217.26, 1241.6, 1265.9399999999998, 1290.28, 1314.62, 1338.96, 1363.3, 1387.6399999999999, 1411.98, 1436.32, 1460.6599999999999, 1485.0, 1509.34]}, {\"hoverinfo\": \"text\", \"line\": {\"color\": \"brown\", \"width\": 0.6363878725694069}, \"mode\": \"lines\", \"name\": \"0.6363878725694069\", \"opacity\": 0.6363878725694069, \"text\": \"Edge: ('zpao', 'jordwalke')    <br>Weight: 0.64\", \"type\": \"scatter\", \"x\": [1349.08, 1317.6299999999999, 1286.1799999999998, 1254.73, 1223.28, 1191.83, 1160.3799999999999, 1128.9299999999998, 1097.48, 1066.03, 1034.58, 1003.13, 971.68, 940.23, 908.78], \"y\": [1168.58, 1191.2571428571428, 1213.9342857142856, 1236.6114285714284, 1259.2885714285715, 1281.9657142857143, 1304.642857142857, 1327.32, 1349.9971428571428, 1372.6742857142856, 1395.3514285714284, 1418.0285714285715, 1440.7057142857143, 1463.3828571428571, 1486.06]}, {\"hoverinfo\": \"text\", \"line\": {\"color\": \"brown\", \"width\": 0.7288981690527697}, \"mode\": \"lines\", \"name\": \"0.7288981690527697\", \"opacity\": 0.7288981690527697, \"text\": \"Edge: ('zpao', 'arkist')    <br>Weight: 0.73\", \"type\": \"scatter\", \"x\": [1349.08, 1349.1671428571428, 1349.2542857142857, 1349.3414285714284, 1349.4285714285713, 1349.5157142857142, 1349.6028571428571, 1349.69, 1349.7771428571427, 1349.8642857142856, 1349.9514285714286, 1350.0385714285715, 1350.1257142857141, 1350.212857142857, 1350.3], \"y\": [1168.58, 1154.1, 1139.62, 1125.1399999999999, 1110.6599999999999, 1096.18, 1081.7, 1067.22, 1052.74, 1038.26, 1023.78, 1009.3, 994.8199999999999, 980.34, 965.86]}, {\"hoverinfo\": \"text\", \"line\": {\"color\": \"brown\", \"width\": 0.6756027458310533}, \"mode\": \"lines\", \"name\": \"0.6756027458310533\", \"opacity\": 0.6756027458310533, \"text\": \"Edge: ('zpao', 'cody')    <br>Weight: 0.68\", \"type\": \"scatter\", \"x\": [1349.08, 1396.4171428571428, 1443.7542857142857, 1491.0914285714284, 1538.4285714285713, 1585.7657142857142, 1633.1028571428571, 1680.44, 1727.7771428571427, 1775.1142857142856, 1822.4514285714286, 1869.7885714285712, 1917.1257142857144, 1964.462857142857, 2011.8], \"y\": [1168.58, 1149.5828571428572, 1130.5857142857142, 1111.5885714285714, 1092.5914285714284, 1073.5942857142857, 1054.597142857143, 1035.6, 1016.6028571428571, 997.6057142857143, 978.6085714285714, 959.6114285714286, 940.6142857142856, 921.6171428571429, 902.62]}, {\"hoverinfo\": \"text\", \"line\": {\"color\": \"brown\", \"width\": 0.6154271552102899}, \"mode\": \"lines\", \"name\": \"0.6154271552102899\", \"opacity\": 0.6154271552102899, \"text\": \"Edge: ('zpao', 'iamchenxin')    <br>Weight: 0.62\", \"type\": \"scatter\", \"x\": [1349.08, 1326.6871428571428, 1304.2942857142857, 1281.9014285714286, 1259.5085714285713, 1237.1157142857141, 1214.722857142857, 1192.33, 1169.9371428571428, 1147.5442857142857, 1125.1514285714286, 1102.7585714285715, 1080.3657142857141, 1057.972857142857, 1035.58], \"y\": [1168.58, 1124.7042857142856, 1080.8285714285714, 1036.952857142857, 993.0771428571428, 949.2014285714286, 905.3257142857143, 861.45, 817.5742857142857, 773.6985714285715, 729.8228571428572, 685.9471428571429, 642.0714285714287, 598.1957142857144, 554.32]}, {\"hoverinfo\": \"text\", \"line\": {\"color\": \"brown\", \"width\": 0.7001388023593837}, \"mode\": \"lines\", \"name\": \"0.7001388023593837\", \"opacity\": 0.7001388023593837, \"text\": \"Edge: ('gaearon', 'bvaughn')    <br>Weight: 0.7\", \"type\": \"scatter\", \"x\": [3809.0, 3820.5857142857144, 3832.1714285714284, 3843.7571428571428, 3855.342857142857, 3866.9285714285716, 3878.5142857142855, 3890.1, 3901.6857142857143, 3913.2714285714283, 3924.8571428571427, 3936.442857142857, 3948.0285714285715, 3959.6142857142854, 3971.2], \"y\": [1400.34, 1423.7085714285713, 1447.0771428571427, 1470.4457142857143, 1493.8142857142857, 1517.182857142857, 1540.5514285714285, 1563.92, 1587.2885714285715, 1610.6571428571428, 1634.0257142857142, 1657.3942857142856, 1680.7628571428572, 1704.1314285714286, 1727.5]}, {\"hoverinfo\": \"text\", \"line\": {\"color\": \"brown\", \"width\": 0.7425489766109225}, \"mode\": \"lines\", \"name\": \"0.7425489766109225\", \"opacity\": 0.7425489766109225, \"text\": \"Edge: ('gaearon', 'acdlite')    <br>Weight: 0.74\", \"type\": \"scatter\", \"x\": [3809.0, 3806.0285714285715, 3803.057142857143, 3800.0857142857144, 3797.114285714286, 3794.1428571428573, 3791.171428571429, 3788.2, 3785.2285714285713, 3782.2571428571428, 3779.285714285714, 3776.3142857142857, 3773.342857142857, 3770.3714285714286, 3767.4], \"y\": [1400.34, 1411.812857142857, 1423.2857142857142, 1434.7585714285715, 1446.2314285714285, 1457.7042857142856, 1469.1771428571428, 1480.65, 1492.1228571428571, 1503.5957142857142, 1515.0685714285714, 1526.5414285714287, 1538.0142857142857, 1549.4871428571428, 1560.96]}, {\"hoverinfo\": \"text\", \"line\": {\"color\": \"brown\", \"width\": 0.7205017800684788}, \"mode\": \"lines\", \"name\": \"0.7205017800684788\", \"opacity\": 0.7205017800684788, \"text\": \"Edge: ('gaearon', 'sebmarkbage')    <br>Weight: 0.72\", \"type\": \"scatter\", \"x\": [3809.0, 3759.342857142857, 3709.6857142857143, 3660.0285714285715, 3610.3714285714286, 3560.714285714286, 3511.057142857143, 3461.4, 3411.7428571428572, 3362.0857142857144, 3312.4285714285716, 3262.7714285714287, 3213.114285714286, 3163.457142857143, 3113.8], \"y\": [1400.34, 1403.4071428571428, 1406.4742857142855, 1409.5414285714285, 1412.6085714285714, 1415.6757142857143, 1418.742857142857, 1421.81, 1424.8771428571429, 1427.9442857142856, 1431.0114285714285, 1434.0785714285714, 1437.1457142857143, 1440.212857142857, 1443.28]}, {\"hoverinfo\": \"text\", \"line\": {\"color\": \"brown\", \"width\": 0.6962116636437916}, \"mode\": \"lines\", \"name\": \"0.6962116636437916\", \"opacity\": 0.6962116636437916, \"text\": \"Edge: ('gaearon', 'trueadm')    <br>Weight: 0.7\", \"type\": \"scatter\", \"x\": [3809.0, 3811.7714285714287, 3814.542857142857, 3817.3142857142857, 3820.0857142857144, 3822.857142857143, 3825.6285714285714, 3828.4, 3831.171428571429, 3833.942857142857, 3836.714285714286, 3839.4857142857145, 3842.257142857143, 3845.0285714285715, 3847.8], \"y\": [1400.34, 1393.5171428571427, 1386.6942857142856, 1379.8714285714284, 1373.0485714285714, 1366.2257142857143, 1359.402857142857, 1352.58, 1345.7571428571428, 1338.9342857142856, 1332.1114285714284, 1325.2885714285715, 1318.4657142857143, 1311.642857142857, 1304.82]}, {\"hoverinfo\": \"text\", \"line\": {\"color\": \"brown\", \"width\": 0.706258242403718}, \"mode\": \"lines\", \"name\": \"0.706258242403718\", \"opacity\": 0.706258242403718, \"text\": \"Edge: ('gaearon', 'nhunzaker')    <br>Weight: 0.71\", \"type\": \"scatter\", \"x\": [3809.0, 3789.4714285714285, 3769.942857142857, 3750.4142857142856, 3730.885714285714, 3711.3571428571427, 3691.828571428571, 3672.3, 3652.7714285714287, 3633.2428571428572, 3613.714285714286, 3594.1857142857143, 3574.657142857143, 3555.1285714285714, 3535.6], \"y\": [1400.34, 1364.9099999999999, 1329.48, 1294.05, 1258.62, 1223.19, 1187.76, 1152.33, 1116.9, 1081.47, 1046.04, 1010.61, 975.1800000000001, 939.75, 904.32]}, {\"hoverinfo\": \"text\", \"line\": {\"color\": \"brown\", \"width\": 0.6090473160656117}, \"mode\": \"lines\", \"name\": \"0.6090473160656117\", \"opacity\": 0.6090473160656117, \"text\": \"Edge: ('gaearon', 'necolas')    <br>Weight: 0.61\", \"type\": \"scatter\", \"x\": [3809.0, 3839.157142857143, 3869.3142857142857, 3899.4714285714285, 3929.6285714285714, 3959.785714285714, 3989.942857142857, 4020.1, 4050.2571428571428, 4080.4142857142856, 4110.571428571428, 4140.728571428572, 4170.885714285714, 4201.0428571428565, 4231.2], \"y\": [1400.34, 1397.3814285714284, 1394.422857142857, 1391.4642857142858, 1388.5057142857142, 1385.5471428571427, 1382.5885714285714, 1379.63, 1376.6714285714286, 1373.712857142857, 1370.7542857142857, 1367.7957142857144, 1364.837142857143, 1361.8785714285714, 1358.92]}, {\"hoverinfo\": \"text\", \"line\": {\"color\": \"brown\", \"width\": 0.6725490578179311}, \"mode\": \"lines\", \"name\": \"0.6725490578179311\", \"opacity\": 0.6725490578179311, \"text\": \"Edge: ('gaearon', 'aweary')    <br>Weight: 0.67\", \"type\": \"scatter\", \"x\": [3809.0, 3782.6285714285714, 3756.2571428571428, 3729.885714285714, 3703.514285714286, 3677.1428571428573, 3650.7714285714287, 3624.4, 3598.0285714285715, 3571.657142857143, 3545.285714285714, 3518.914285714286, 3492.5428571428574, 3466.171428571429, 3439.8], \"y\": [1400.34, 1372.4671428571428, 1344.5942857142857, 1316.7214285714285, 1288.8485714285714, 1260.9757142857143, 1233.1028571428571, 1205.23, 1177.357142857143, 1149.4842857142858, 1121.6114285714286, 1093.7385714285715, 1065.8657142857141, 1037.9928571428572, 1010.12]}, {\"hoverinfo\": \"text\", \"line\": {\"color\": \"brown\", \"width\": 0.656140059493398}, \"mode\": \"lines\", \"name\": \"0.656140059493398\", \"opacity\": 0.656140059493398, \"text\": \"Edge: ('gaearon', 'eps1lon')    <br>Weight: 0.66\", \"type\": \"scatter\", \"x\": [3809.0, 3836.3714285714286, 3863.7428571428572, 3891.114285714286, 3918.485714285714, 3945.8571428571427, 3973.2285714285713, 4000.6, 4027.9714285714285, 4055.342857142857, 4082.714285714286, 4110.085714285714, 4137.457142857143, 4164.828571428571, 4192.2], \"y\": [1400.34, 1414.8, 1429.26, 1443.72, 1458.1799999999998, 1472.6399999999999, 1487.1, 1501.56, 1516.02, 1530.48, 1544.94, 1559.4, 1573.86, 1588.32, 1602.78]}, {\"hoverinfo\": \"text\", \"line\": {\"color\": \"brown\", \"width\": 0.6974702436453097}, \"mode\": \"lines\", \"name\": \"0.6974702436453097\", \"opacity\": 0.6974702436453097, \"text\": \"Edge: ('gaearon', 'SimenB')    <br>Weight: 0.7\", \"type\": \"scatter\", \"x\": [3809.0, 3830.3571428571427, 3851.714285714286, 3873.0714285714284, 3894.4285714285716, 3915.785714285714, 3937.1428571428573, 3958.5, 3979.8571428571427, 4001.214285714286, 4022.5714285714284, 4043.9285714285716, 4065.285714285714, 4086.6428571428573, 4108.0], \"y\": [1400.34, 1379.8071428571427, 1359.2742857142857, 1338.7414285714285, 1318.2085714285713, 1297.6757142857143, 1277.142857142857, 1256.6100000000001, 1236.077142857143, 1215.5442857142857, 1195.0114285714287, 1174.4785714285715, 1153.9457142857143, 1133.4128571428573, 1112.88]}, {\"hoverinfo\": \"text\", \"line\": {\"color\": \"brown\", \"width\": 0.6082307888038548}, \"mode\": \"lines\", \"name\": \"0.6082307888038548\", \"opacity\": 0.6082307888038548, \"text\": \"Edge: ('gaearon', 'iamdustan')    <br>Weight: 0.61\", \"type\": \"scatter\", \"x\": [3809.0, 3800.3, 3791.6, 3782.9, 3774.2, 3765.5, 3756.7999999999997, 3748.1, 3739.4, 3730.7, 3722.0, 3713.2999999999997, 3704.6, 3695.8999999999996, 3687.2], \"y\": [1400.34, 1441.02, 1481.6999999999998, 1522.3799999999999, 1563.06, 1603.74, 1644.4199999999998, 1685.1, 1725.78, 1766.46, 1807.1399999999999, 1847.82, 1888.5, 1929.1799999999998, 1969.86]}, {\"hoverinfo\": \"text\", \"line\": {\"color\": \"brown\", \"width\": 0.6833957441320856}, \"mode\": \"lines\", \"name\": \"0.6833957441320856\", \"opacity\": 0.6833957441320856, \"text\": \"Edge: ('gaearon', 'sompylasar')    <br>Weight: 0.68\", \"type\": \"scatter\", \"x\": [3809.0, 3856.8285714285716, 3904.657142857143, 3952.4857142857145, 4000.3142857142857, 4048.1428571428573, 4095.971428571429, 4143.8, 4191.628571428571, 4239.4571428571435, 4287.285714285715, 4335.114285714286, 4382.942857142858, 4430.771428571429, 4478.6], \"y\": [1400.34, 1403.1299999999999, 1405.9199999999998, 1408.71, 1411.5, 1414.29, 1417.08, 1419.87, 1422.66, 1425.45, 1428.24, 1431.03, 1433.8200000000002, 1436.6100000000001, 1439.4]}, {\"hoverinfo\": \"text\", \"line\": {\"color\": \"brown\", \"width\": 0.7365183618438045}, \"mode\": \"lines\", \"name\": \"0.7365183618438045\", \"opacity\": 0.7365183618438045, \"text\": \"Edge: ('gaearon', 'raphamorim')    <br>Weight: 0.74\", \"type\": \"scatter\", \"x\": [3809.0, 3816.442857142857, 3823.885714285714, 3831.328571428571, 3838.7714285714287, 3846.214285714286, 3853.657142857143, 3861.1, 3868.542857142857, 3875.985714285714, 3883.428571428571, 3890.8714285714286, 3898.3142857142857, 3905.7571428571428, 3913.2], \"y\": [1400.34, 1351.7871428571427, 1303.2342857142858, 1254.6814285714286, 1206.1285714285714, 1157.5757142857142, 1109.022857142857, 1060.47, 1011.9171428571428, 963.3642857142856, 914.8114285714286, 866.2585714285715, 817.7057142857143, 769.1528571428571, 720.6]}, {\"hoverinfo\": \"text\", \"line\": {\"color\": \"brown\", \"width\": 0.6249689160064585}, \"mode\": \"lines\", \"name\": \"0.6249689160064585\", \"opacity\": 0.6249689160064585, \"text\": \"Edge: ('gaearon', 'bl00mber')    <br>Weight: 0.62\", \"type\": \"scatter\", \"x\": [3809.0, 3825.6428571428573, 3842.285714285714, 3858.9285714285716, 3875.5714285714284, 3892.214285714286, 3908.8571428571427, 3925.5, 3942.1428571428573, 3958.785714285714, 3975.4285714285716, 3992.0714285714284, 4008.714285714286, 4025.3571428571427, 4042.0], \"y\": [1400.34, 1438.0985714285714, 1475.857142857143, 1513.6157142857141, 1551.3742857142856, 1589.1328571428571, 1626.8914285714286, 1664.65, 1702.4085714285713, 1740.1671428571428, 1777.9257142857143, 1815.6842857142856, 1853.442857142857, 1891.2014285714286, 1928.96]}, {\"hoverinfo\": \"text\", \"line\": {\"color\": \"brown\", \"width\": 0.6200369432494158}, \"mode\": \"lines\", \"name\": \"0.6200369432494158\", \"opacity\": 0.6200369432494158, \"text\": \"Edge: ('bvaughn', 'acdlite')    <br>Weight: 0.62\", \"type\": \"scatter\", \"x\": [3971.2, 3956.642857142857, 3942.085714285714, 3927.5285714285715, 3912.9714285714285, 3898.4142857142856, 3883.8571428571427, 3869.3, 3854.7428571428572, 3840.1857142857143, 3825.6285714285714, 3811.0714285714284, 3796.514285714286, 3781.957142857143, 3767.4], \"y\": [1727.5, 1715.6042857142857, 1703.7085714285715, 1691.8128571428572, 1679.9171428571428, 1668.0214285714285, 1656.1257142857144, 1644.23, 1632.3342857142857, 1620.4385714285715, 1608.5428571428572, 1596.6471428571429, 1584.7514285714287, 1572.8557142857144, 1560.96]}, {\"hoverinfo\": \"text\", \"line\": {\"color\": \"brown\", \"width\": 0.6254127642857159}, \"mode\": \"lines\", \"name\": \"0.6254127642857159\", \"opacity\": 0.6254127642857159, \"text\": \"Edge: ('bvaughn', 'sebmarkbage')    <br>Weight: 0.63\", \"type\": \"scatter\", \"x\": [3971.2, 3909.9571428571426, 3848.714285714286, 3787.4714285714285, 3726.2285714285713, 3664.985714285714, 3603.7428571428572, 3542.5, 3481.2571428571428, 3420.0142857142855, 3358.7714285714287, 3297.5285714285715, 3236.2857142857147, 3175.0428571428574, 3113.8], \"y\": [1727.5, 1707.1985714285715, 1686.8971428571429, 1666.5957142857142, 1646.2942857142857, 1625.9928571428572, 1605.6914285714286, 1585.3899999999999, 1565.0885714285714, 1544.787142857143, 1524.4857142857143, 1504.1842857142856, 1483.8828571428571, 1463.5814285714287, 1443.28]}, {\"hoverinfo\": \"text\", \"line\": {\"color\": \"brown\", \"width\": 0.6337269605495808}, \"mode\": \"lines\", \"name\": \"0.6337269605495808\", \"opacity\": 0.6337269605495808, \"text\": \"Edge: ('bvaughn', 'trueadm')    <br>Weight: 0.63\", \"type\": \"scatter\", \"x\": [3971.2, 3962.385714285714, 3953.5714285714284, 3944.7571428571428, 3935.942857142857, 3927.1285714285714, 3918.3142857142857, 3909.5, 3900.6857142857143, 3891.8714285714286, 3883.057142857143, 3874.2428571428572, 3865.4285714285716, 3856.614285714286, 3847.8], \"y\": [1727.5, 1697.3085714285714, 1667.1171428571429, 1636.9257142857143, 1606.7342857142858, 1576.5428571428572, 1546.3514285714286, 1516.1599999999999, 1485.9685714285713, 1455.7771428571427, 1425.5857142857142, 1395.3942857142856, 1365.202857142857, 1335.0114285714285, 1304.82]}, {\"hoverinfo\": \"text\", \"line\": {\"color\": \"brown\", \"width\": 0.6927009619223248}, \"mode\": \"lines\", \"name\": \"0.6927009619223248\", \"opacity\": 0.6927009619223248, \"text\": \"Edge: ('bvaughn', 'necolas')    <br>Weight: 0.69\", \"type\": \"scatter\", \"x\": [3971.2, 3989.7714285714283, 4008.342857142857, 4026.9142857142856, 4045.485714285714, 4064.0571428571425, 4082.6285714285714, 4101.2, 4119.771428571428, 4138.342857142857, 4156.914285714285, 4175.4857142857145, 4194.057142857143, 4212.628571428571, 4231.2], \"y\": [1727.5, 1701.172857142857, 1674.8457142857144, 1648.5185714285715, 1622.1914285714286, 1595.8642857142856, 1569.537142857143, 1543.21, 1516.8828571428571, 1490.5557142857142, 1464.2285714285715, 1437.9014285714286, 1411.574285714286, 1385.247142857143, 1358.92]}, {\"hoverinfo\": \"text\", \"line\": {\"color\": \"brown\", \"width\": 0.6580529010954961}, \"mode\": \"lines\", \"name\": \"0.6580529010954961\", \"opacity\": 0.6580529010954961, \"text\": \"Edge: ('bvaughn', 'rickhanlonii')    <br>Weight: 0.66\", \"type\": \"scatter\", \"x\": [3971.2, 3993.657142857143, 4016.1142857142854, 4038.5714285714284, 4061.0285714285715, 4083.4857142857145, 4105.942857142857, 4128.4, 4150.857142857143, 4173.314285714286, 4195.771428571429, 4218.228571428572, 4240.685714285714, 4263.142857142858, 4285.6], \"y\": [1727.5, 1735.2171428571428, 1742.9342857142858, 1750.6514285714286, 1758.3685714285714, 1766.0857142857142, 1773.8028571428572, 1781.52, 1789.2371428571428, 1796.9542857142858, 1804.6714285714286, 1812.3885714285714, 1820.1057142857142, 1827.8228571428572, 1835.54]}, {\"hoverinfo\": \"text\", \"line\": {\"color\": \"brown\", \"width\": 0.6193920458860286}, \"mode\": \"lines\", \"name\": \"0.6193920458860286\", \"opacity\": 0.6193920458860286, \"text\": \"Edge: ('bvaughn', 'lunaruan')    <br>Weight: 0.62\", \"type\": \"scatter\", \"x\": [3971.2, 3989.442857142857, 4007.6857142857143, 4025.9285714285716, 4044.1714285714284, 4062.4142857142856, 4080.657142857143, 4098.9, 4117.142857142857, 4135.385714285714, 4153.628571428571, 4171.871428571429, 4190.114285714286, 4208.357142857143, 4226.6], \"y\": [1727.5, 1768.0928571428572, 1808.6857142857143, 1849.2785714285715, 1889.8714285714286, 1930.4642857142858, 1971.057142857143, 2011.65, 2052.2428571428572, 2092.8357142857144, 2133.4285714285716, 2174.0214285714287, 2214.614285714286, 2255.207142857143, 2295.8]}, {\"hoverinfo\": \"text\", \"line\": {\"color\": \"brown\", \"width\": 0.8149671979115443}, \"mode\": \"lines\", \"name\": \"0.8149671979115443\", \"opacity\": 0.8149671979115443, \"text\": \"Edge: ('bvaughn', 'eps1lon')    <br>Weight: 0.81\", \"type\": \"scatter\", \"x\": [3971.2, 3986.985714285714, 4002.7714285714283, 4018.5571428571425, 4034.342857142857, 4050.1285714285714, 4065.9142857142856, 4081.7, 4097.4857142857145, 4113.271428571428, 4129.057142857143, 4144.842857142857, 4160.628571428571, 4176.414285714285, 4192.2], \"y\": [1727.5, 1718.5914285714287, 1709.682857142857, 1700.7742857142857, 1691.8657142857144, 1682.9571428571428, 1674.0485714285714, 1665.1399999999999, 1656.2314285714285, 1647.3228571428572, 1638.4142857142856, 1629.5057142857142, 1620.597142857143, 1611.6885714285713, 1602.78]}, {\"hoverinfo\": \"text\", \"line\": {\"color\": \"brown\", \"width\": 0.783367131449665}, \"mode\": \"lines\", \"name\": \"0.783367131449665\", \"opacity\": 0.783367131449665, \"text\": \"Edge: ('bvaughn', 'threepointone')    <br>Weight: 0.78\", \"type\": \"scatter\", \"x\": [3971.2, 4014.8571428571427, 4058.5142857142855, 4102.171428571428, 4145.828571428571, 4189.4857142857145, 4233.142857142857, 4276.799999999999, 4320.457142857143, 4364.114285714286, 4407.771428571428, 4451.428571428571, 4495.085714285714, 4538.742857142857, 4582.4], \"y\": [1727.5, 1741.6557142857143, 1755.8114285714287, 1769.9671428571428, 1784.1228571428571, 1798.2785714285715, 1812.4342857142858, 1826.5900000000001, 1840.7457142857143, 1854.9014285714286, 1869.057142857143, 1883.2128571428573, 1897.3685714285716, 1911.5242857142857, 1925.68]}, {\"hoverinfo\": \"text\", \"line\": {\"color\": \"brown\", \"width\": 0.9461247482828622}, \"mode\": \"lines\", \"name\": \"0.9461247482828622\", \"opacity\": 0.9461247482828622, \"text\": \"Edge: ('bvaughn', 'sompylasar')    <br>Weight: 0.95\", \"type\": \"scatter\", \"x\": [3971.2, 4007.442857142857, 4043.6857142857143, 4079.9285714285716, 4116.171428571429, 4152.414285714286, 4188.657142857143, 4224.9, 4261.142857142857, 4297.385714285714, 4333.628571428571, 4369.871428571429, 4406.114285714286, 4442.357142857143, 4478.6], \"y\": [1727.5, 1706.9214285714286, 1686.3428571428572, 1665.7642857142857, 1645.1857142857143, 1624.607142857143, 1604.0285714285715, 1583.45, 1562.8714285714286, 1542.2928571428572, 1521.7142857142858, 1501.1357142857144, 1480.557142857143, 1459.9785714285715, 1439.4]}, {\"hoverinfo\": \"text\", \"line\": {\"color\": \"brown\", \"width\": 0.8302387433430958}, \"mode\": \"lines\", \"name\": \"0.8302387433430958\", \"opacity\": 0.8302387433430958, \"text\": \"Edge: ('bvaughn', 'bl00mber')    <br>Weight: 0.83\", \"type\": \"scatter\", \"x\": [3971.2, 3976.2571428571428, 3981.3142857142857, 3986.3714285714286, 3991.428571428571, 3996.485714285714, 4001.542857142857, 4006.6, 4011.657142857143, 4016.714285714286, 4021.7714285714287, 4026.828571428571, 4031.885714285714, 4036.942857142857, 4042.0], \"y\": [1727.5, 1741.89, 1756.28, 1770.67, 1785.06, 1799.45, 1813.84, 1828.23, 1842.6200000000001, 1857.01, 1871.4, 1885.79, 1900.18, 1914.57, 1928.96]}, {\"hoverinfo\": \"text\", \"line\": {\"color\": \"brown\", \"width\": 0.6239722624771209}, \"mode\": \"lines\", \"name\": \"0.6239722624771209\", \"opacity\": 0.6239722624771209, \"text\": \"Edge: ('sophiebits', 'sebmarkbage')    <br>Weight: 0.62\", \"type\": \"scatter\", \"x\": [1882.0, 1969.9857142857143, 2057.9714285714285, 2145.957142857143, 2233.942857142857, 2321.9285714285716, 2409.914285714286, 2497.9, 2585.885714285714, 2673.8714285714286, 2761.857142857143, 2849.842857142857, 2937.8285714285716, 3025.8142857142857, 3113.8], \"y\": [1272.46, 1284.6614285714286, 1296.8628571428571, 1309.0642857142857, 1321.2657142857142, 1333.4671428571428, 1345.6685714285713, 1357.87, 1370.0714285714287, 1382.2728571428572, 1394.4742857142858, 1406.6757142857143, 1418.8771428571429, 1431.0785714285714, 1443.28]}, {\"hoverinfo\": \"text\", \"line\": {\"color\": \"brown\", \"width\": 0.6178758136482333}, \"mode\": \"lines\", \"name\": \"0.6178758136482333\", \"opacity\": 0.6178758136482333, \"text\": \"Edge: ('sophiebits', 'petehunt')    <br>Weight: 0.62\", \"type\": \"scatter\", \"x\": [1882.0, 1832.1414285714286, 1782.2828571428572, 1732.4242857142858, 1682.5657142857142, 1632.7071428571428, 1582.8485714285714, 1532.99, 1483.1314285714286, 1433.272857142857, 1383.4142857142856, 1333.5557142857142, 1283.6971428571428, 1233.8385714285714, 1183.98], \"y\": [1272.46, 1284.7985714285714, 1297.1371428571429, 1309.4757142857143, 1321.8142857142857, 1334.152857142857, 1346.4914285714285, 1358.83, 1371.1685714285716, 1383.507142857143, 1395.8457142857144, 1408.1842857142858, 1420.5228571428572, 1432.8614285714286, 1445.2]}, {\"hoverinfo\": \"text\", \"line\": {\"color\": \"brown\", \"width\": 0.6007779103686233}, \"mode\": \"lines\", \"name\": \"0.6007779103686233\", \"opacity\": 0.6007779103686233, \"text\": \"Edge: ('sophiebits', 'chenglou')    <br>Weight: 0.6\", \"type\": \"scatter\", \"x\": [1882.0, 1860.9371428571428, 1839.8742857142856, 1818.8114285714285, 1797.7485714285715, 1776.6857142857143, 1755.6228571428571, 1734.56, 1713.4971428571428, 1692.4342857142856, 1671.3714285714284, 1650.3085714285712, 1629.2457142857143, 1608.182857142857, 1587.12], \"y\": [1272.46, 1281.9057142857143, 1291.3514285714286, 1300.797142857143, 1310.2428571428572, 1319.6885714285715, 1329.1342857142859, 1338.58, 1348.0257142857142, 1357.4714285714285, 1366.9171428571428, 1376.3628571428571, 1385.8085714285714, 1395.2542857142857, 1404.7]}, {\"hoverinfo\": \"text\", \"line\": {\"color\": \"brown\", \"width\": 0.6485151689048804}, \"mode\": \"lines\", \"name\": \"0.6485151689048804\", \"opacity\": 0.6485151689048804, \"text\": \"Edge: ('sophiebits', 'vjeux')    <br>Weight: 0.65\", \"type\": \"scatter\", \"x\": [1882.0, 1869.827142857143, 1857.6542857142856, 1845.4814285714285, 1833.3085714285714, 1821.1357142857144, 1808.962857142857, 1796.79, 1784.6171428571429, 1772.4442857142856, 1760.2714285714285, 1748.0985714285714, 1735.925714285714, 1723.752857142857, 1711.58], \"y\": [1272.46, 1260.0542857142857, 1247.6485714285714, 1235.2428571428572, 1222.837142857143, 1210.4314285714286, 1198.0257142857142, 1185.62, 1173.2142857142858, 1160.8085714285714, 1148.402857142857, 1135.9971428571428, 1123.5914285714284, 1111.1857142857143, 1098.78]}, {\"hoverinfo\": \"text\", \"line\": {\"color\": \"brown\", \"width\": 0.6607861083325806}, \"mode\": \"lines\", \"name\": \"0.6607861083325806\", \"opacity\": 0.6607861083325806, \"text\": \"Edge: ('sophiebits', 'yungsters')    <br>Weight: 0.66\", \"type\": \"scatter\", \"x\": [1882.0, 1866.46, 1850.92, 1835.38, 1819.84, 1804.3, 1788.76, 1773.22, 1757.68, 1742.14, 1726.6000000000001, 1711.06, 1695.52, 1679.98, 1664.44], \"y\": [1272.46, 1298.68, 1324.9, 1351.1200000000001, 1377.34, 1403.56, 1429.78, 1456.0, 1482.22, 1508.44, 1534.6599999999999, 1560.88, 1587.1, 1613.32, 1639.54]}, {\"hoverinfo\": \"text\", \"line\": {\"color\": \"brown\", \"width\": 0.6085369075709081}, \"mode\": \"lines\", \"name\": \"0.6085369075709081\", \"opacity\": 0.6085369075709081, \"text\": \"Edge: ('sophiebits', 'cpojer')    <br>Weight: 0.61\", \"type\": \"scatter\", \"x\": [1882.0, 1870.41, 1858.82, 1847.23, 1835.64, 1824.05, 1812.46, 1800.87, 1789.28, 1777.69, 1766.1, 1754.51, 1742.92, 1731.33, 1719.74], \"y\": [1272.46, 1242.4528571428573, 1212.4457142857143, 1182.4385714285715, 1152.4314285714286, 1122.4242857142858, 1092.4171428571428, 1062.41, 1032.402857142857, 1002.3957142857143, 972.3885714285714, 942.3814285714286, 912.3742857142857, 882.3671428571429, 852.36]}, {\"hoverinfo\": \"text\", \"line\": {\"color\": \"brown\", \"width\": 0.6553080930080228}, \"mode\": \"lines\", \"name\": \"0.6553080930080228\", \"opacity\": 0.6553080930080228, \"text\": \"Edge: ('sophiebits', 'joshduck')    <br>Weight: 0.66\", \"type\": \"scatter\", \"x\": [1882.0, 1845.61, 1809.22, 1772.83, 1736.44, 1700.05, 1663.66, 1627.27, 1590.88, 1554.49, 1518.1, 1481.71, 1445.32, 1408.93, 1372.54], \"y\": [1272.46, 1280.4485714285715, 1288.4371428571428, 1296.4257142857143, 1304.4142857142858, 1312.402857142857, 1320.3914285714286, 1328.38, 1336.3685714285714, 1344.357142857143, 1352.3457142857142, 1360.3342857142857, 1368.3228571428572, 1376.3114285714285, 1384.3]}, {\"hoverinfo\": \"text\", \"line\": {\"color\": \"brown\", \"width\": 0.6462699842898603}, \"mode\": \"lines\", \"name\": \"0.6462699842898603\", \"opacity\": 0.6462699842898603, \"text\": \"Edge: ('sophiebits', 'Daniel15')    <br>Weight: 0.65\", \"type\": \"scatter\", \"x\": [1882.0, 1825.2314285714285, 1768.462857142857, 1711.6942857142858, 1654.9257142857143, 1598.1571428571428, 1541.3885714285714, 1484.62, 1427.8514285714286, 1371.0828571428572, 1314.3142857142857, 1257.5457142857144, 1200.7771428571427, 1144.0085714285715, 1087.24], \"y\": [1272.46, 1248.7028571428573, 1224.9457142857143, 1201.1885714285715, 1177.4314285714286, 1153.6742857142858, 1129.9171428571428, 1106.16, 1082.402857142857, 1058.6457142857143, 1034.8885714285714, 1011.1314285714286, 987.3742857142857, 963.6171428571429, 939.86]}, {\"hoverinfo\": \"text\", \"line\": {\"color\": \"brown\", \"width\": 0.7025262450944673}, \"mode\": \"lines\", \"name\": \"0.7025262450944673\", \"opacity\": 0.7025262450944673, \"text\": \"Edge: ('sophiebits', 'fisherwebdev')    <br>Weight: 0.7\", \"type\": \"scatter\", \"x\": [1882.0, 1848.03, 1814.06, 1780.0900000000001, 1746.1200000000001, 1712.15, 1678.18, 1644.21, 1610.24, 1576.27, 1542.3000000000002, 1508.3300000000002, 1474.3600000000001, 1440.39, 1406.42], \"y\": [1272.46, 1289.38, 1306.3, 1323.22, 1340.14, 1357.06, 1373.98, 1390.9, 1407.82, 1424.74, 1441.6599999999999, 1458.58, 1475.5, 1492.4199999999998, 1509.34]}, {\"hoverinfo\": \"text\", \"line\": {\"color\": \"brown\", \"width\": 0.6149804156647043}, \"mode\": \"lines\", \"name\": \"0.6149804156647043\", \"opacity\": 0.6149804156647043, \"text\": \"Edge: ('sophiebits', 'arkist')    <br>Weight: 0.61\", \"type\": \"scatter\", \"x\": [1882.0, 1844.0214285714285, 1806.0428571428572, 1768.0642857142857, 1730.0857142857142, 1692.107142857143, 1654.1285714285714, 1616.15, 1578.1714285714286, 1540.192857142857, 1502.2142857142858, 1464.2357142857143, 1426.2571428571428, 1388.2785714285715, 1350.3], \"y\": [1272.46, 1250.56, 1228.66, 1206.76, 1184.8600000000001, 1162.96, 1141.06, 1119.16, 1097.26, 1075.3600000000001, 1053.46, 1031.56, 1009.6600000000001, 987.76, 965.86]}, {\"hoverinfo\": \"text\", \"line\": {\"color\": \"brown\", \"width\": 0.676529445173782}, \"mode\": \"lines\", \"name\": \"0.676529445173782\", \"opacity\": 0.676529445173782, \"text\": \"Edge: ('acdlite', 'sebmarkbage')    <br>Weight: 0.68\", \"type\": \"scatter\", \"x\": [3767.4, 3720.714285714286, 3674.0285714285715, 3627.342857142857, 3580.657142857143, 3533.9714285714285, 3487.2857142857147, 3440.6000000000004, 3393.914285714286, 3347.2285714285717, 3300.5428571428574, 3253.857142857143, 3207.171428571429, 3160.4857142857145, 3113.8], \"y\": [1560.96, 1552.5542857142857, 1544.1485714285714, 1535.7428571428572, 1527.337142857143, 1518.9314285714286, 1510.5257142857142, 1502.12, 1493.7142857142858, 1485.3085714285714, 1476.902857142857, 1468.4971428571428, 1460.0914285714284, 1451.6857142857143, 1443.28]}, {\"hoverinfo\": \"text\", \"line\": {\"color\": \"brown\", \"width\": 0.6363572165525118}, \"mode\": \"lines\", \"name\": \"0.6363572165525118\", \"opacity\": 0.6363572165525118, \"text\": \"Edge: ('acdlite', 'trueadm')    <br>Weight: 0.64\", \"type\": \"scatter\", \"x\": [3767.4, 3773.1428571428573, 3778.8857142857146, 3784.6285714285714, 3790.3714285714286, 3796.114285714286, 3801.857142857143, 3807.6000000000004, 3813.342857142857, 3819.0857142857144, 3824.8285714285716, 3830.571428571429, 3836.3142857142857, 3842.057142857143, 3847.8], \"y\": [1560.96, 1542.6642857142858, 1524.3685714285714, 1506.0728571428572, 1487.777142857143, 1469.4814285714285, 1451.1857142857143, 1432.8899999999999, 1414.5942857142857, 1396.2985714285714, 1378.002857142857, 1359.7071428571428, 1341.4114285714286, 1323.1157142857141, 1304.82]}, {\"hoverinfo\": \"text\", \"line\": {\"color\": \"brown\", \"width\": 0.6229615154740459}, \"mode\": \"lines\", \"name\": \"0.6229615154740459\", \"opacity\": 0.6229615154740459, \"text\": \"Edge: ('acdlite', 'rickhanlonii')    <br>Weight: 0.62\", \"type\": \"scatter\", \"x\": [3767.4, 3804.414285714286, 3841.4285714285716, 3878.442857142857, 3915.457142857143, 3952.471428571429, 3989.4857142857145, 4026.5, 4063.514285714286, 4100.528571428572, 4137.542857142857, 4174.557142857143, 4211.571428571429, 4248.585714285715, 4285.6], \"y\": [1560.96, 1580.5728571428572, 1600.1857142857143, 1619.7985714285714, 1639.4114285714286, 1659.0242857142857, 1678.6371428571429, 1698.25, 1717.8628571428571, 1737.4757142857143, 1757.0885714285714, 1776.7014285714286, 1796.3142857142857, 1815.9271428571428, 1835.54]}, {\"hoverinfo\": \"text\", \"line\": {\"color\": \"brown\", \"width\": 0.6570431385057813}, \"mode\": \"lines\", \"name\": \"0.6570431385057813\", \"opacity\": 0.6570431385057813, \"text\": \"Edge: ('acdlite', 'SimenB')    <br>Weight: 0.66\", \"type\": \"scatter\", \"x\": [3767.4, 3791.7285714285717, 3816.057142857143, 3840.385714285714, 3864.714285714286, 3889.0428571428574, 3913.3714285714286, 3937.7, 3962.0285714285715, 3986.357142857143, 4010.6857142857143, 4035.0142857142855, 4059.342857142857, 4083.671428571429, 4108.0], \"y\": [1560.96, 1528.9542857142858, 1496.9485714285715, 1464.942857142857, 1432.9371428571428, 1400.9314285714286, 1368.9257142857143, 1336.92, 1304.9142857142858, 1272.9085714285716, 1240.902857142857, 1208.8971428571429, 1176.8914285714286, 1144.8857142857144, 1112.88]}, {\"hoverinfo\": \"text\", \"line\": {\"color\": \"brown\", \"width\": 0.6027800986849603}, \"mode\": \"lines\", \"name\": \"0.6027800986849603\", \"opacity\": 0.6027800986849603, \"text\": \"Edge: ('sebmarkbage', 'trueadm')    <br>Weight: 0.6\", \"type\": \"scatter\", \"x\": [3113.8, 3166.2285714285717, 3218.657142857143, 3271.0857142857144, 3323.514285714286, 3375.9428571428575, 3428.3714285714286, 3480.8, 3533.2285714285717, 3585.6571428571433, 3638.0857142857144, 3690.514285714286, 3742.942857142857, 3795.3714285714286, 3847.8], \"y\": [1443.28, 1433.3899999999999, 1423.5, 1413.61, 1403.72, 1393.83, 1383.94, 1374.05, 1364.1599999999999, 1354.27, 1344.3799999999999, 1334.49, 1324.6, 1314.71, 1304.82]}, {\"hoverinfo\": \"text\", \"line\": {\"color\": \"brown\", \"width\": 0.7352475401324551}, \"mode\": \"lines\", \"name\": \"0.7352475401324551\", \"opacity\": 0.7352475401324551, \"text\": \"Edge: ('jimfb', 'marocchino')    <br>Weight: 0.74\", \"type\": \"scatter\", \"x\": [1475.04, 1441.2828571428572, 1407.5257142857142, 1373.7685714285715, 1340.0114285714285, 1306.2542857142857, 1272.4971428571428, 1238.74, 1204.982857142857, 1171.2257142857143, 1137.4685714285715, 1103.7114285714285, 1069.9542857142858, 1036.1971428571428, 1002.44], \"y\": [737.06, 739.6428571428571, 742.2257142857143, 744.8085714285714, 747.3914285714285, 749.9742857142857, 752.5571428571428, 755.14, 757.7228571428572, 760.3057142857143, 762.8885714285715, 765.4714285714285, 768.0542857142857, 770.6371428571429, 773.22]}, {\"hoverinfo\": \"text\", \"line\": {\"color\": \"brown\", \"width\": 0.7278998522107025}, \"mode\": \"lines\", \"name\": \"0.7278998522107025\", \"opacity\": 0.7278998522107025, \"text\": \"Edge: ('jimfb', 'kohei-takata')    <br>Weight: 0.73\", \"type\": \"scatter\", \"x\": [1475.04, 1461.1614285714286, 1447.2828571428572, 1433.4042857142856, 1419.5257142857142, 1405.6471428571429, 1391.7685714285715, 1377.8899999999999, 1364.0114285714285, 1350.1328571428571, 1336.2542857142857, 1322.3757142857144, 1308.497142857143, 1294.6185714285714, 1280.74], \"y\": [737.06, 727.0414285714285, 717.0228571428571, 707.0042857142856, 696.9857142857143, 686.9671428571428, 676.9485714285713, 666.93, 656.9114285714285, 646.8928571428571, 636.8742857142856, 626.8557142857143, 616.8371428571428, 606.8185714285714, 596.8]}, {\"hoverinfo\": \"text\", \"line\": {\"color\": \"brown\", \"width\": 0.68098890139367}, \"mode\": \"lines\", \"name\": \"0.68098890139367\", \"opacity\": 0.68098890139367, \"text\": \"Edge: ('jimfb', 'Daniel15')    <br>Weight: 0.68\", \"type\": \"scatter\", \"x\": [1475.04, 1447.34, 1419.6399999999999, 1391.94, 1364.24, 1336.54, 1308.84, 1281.1399999999999, 1253.44, 1225.74, 1198.04, 1170.3400000000001, 1142.6399999999999, 1114.94, 1087.24], \"y\": [737.06, 751.5457142857142, 766.0314285714285, 780.5171428571429, 795.0028571428571, 809.4885714285714, 823.9742857142857, 838.46, 852.9457142857143, 867.4314285714286, 881.9171428571428, 896.4028571428571, 910.8885714285714, 925.3742857142857, 939.86]}, {\"hoverinfo\": \"text\", \"line\": {\"color\": \"brown\", \"width\": 0.763726549262467}, \"mode\": \"lines\", \"name\": \"0.763726549262467\", \"opacity\": 0.763726549262467, \"text\": \"Edge: ('jimfb', 'arkist')    <br>Weight: 0.76\", \"type\": \"scatter\", \"x\": [1475.04, 1466.1299999999999, 1457.22, 1448.31, 1439.3999999999999, 1430.49, 1421.58, 1412.67, 1403.76, 1394.85, 1385.94, 1377.03, 1368.12, 1359.21, 1350.3], \"y\": [737.06, 753.4028571428571, 769.7457142857143, 786.0885714285714, 802.4314285714286, 818.7742857142857, 835.1171428571429, 851.46, 867.8028571428572, 884.1457142857143, 900.4885714285715, 916.8314285714285, 933.1742857142857, 949.5171428571429, 965.86]}, {\"hoverinfo\": \"text\", \"line\": {\"color\": \"brown\", \"width\": 0.6560048263496235}, \"mode\": \"lines\", \"name\": \"0.6560048263496235\", \"opacity\": 0.6560048263496235, \"text\": \"Edge: ('jimfb', 'cody')    <br>Weight: 0.66\", \"type\": \"scatter\", \"x\": [1475.04, 1513.3799999999999, 1551.72, 1590.06, 1628.3999999999999, 1666.74, 1705.08, 1743.42, 1781.76, 1820.1, 1858.44, 1896.78, 1935.12, 1973.46, 2011.8], \"y\": [737.06, 748.8857142857142, 760.7114285714285, 772.5371428571428, 784.3628571428571, 796.1885714285714, 808.0142857142857, 819.8399999999999, 831.6657142857142, 843.4914285714285, 855.3171428571428, 867.1428571428571, 878.9685714285714, 890.7942857142857, 902.62]}, {\"hoverinfo\": \"text\", \"line\": {\"color\": \"brown\", \"width\": 0.6305128598152162}, \"mode\": \"lines\", \"name\": \"0.6305128598152162\", \"opacity\": 0.6305128598152162, \"text\": \"Edge: ('jimfb', 'iamchenxin')    <br>Weight: 0.63\", \"type\": \"scatter\", \"x\": [1475.04, 1443.6499999999999, 1412.26, 1380.87, 1349.48, 1318.09, 1286.6999999999998, 1255.31, 1223.9199999999998, 1192.53, 1161.1399999999999, 1129.75, 1098.36, 1066.9699999999998, 1035.58], \"y\": [737.06, 724.0071428571428, 710.9542857142857, 697.9014285714286, 684.8485714285714, 671.7957142857142, 658.7428571428571, 645.69, 632.6371428571429, 619.5842857142857, 606.5314285714286, 593.4785714285715, 580.4257142857143, 567.3728571428571, 554.32]}, {\"hoverinfo\": \"text\", \"line\": {\"color\": \"brown\", \"width\": 0.7236797531172205}, \"mode\": \"lines\", \"name\": \"0.7236797531172205\", \"opacity\": 0.7236797531172205, \"text\": \"Edge: ('trueadm', 'necolas')    <br>Weight: 0.72\", \"type\": \"scatter\", \"x\": [3847.8, 3875.1857142857143, 3902.571428571429, 3929.957142857143, 3957.342857142857, 3984.7285714285713, 4012.114285714286, 4039.5, 4066.885714285714, 4094.2714285714287, 4121.657142857142, 4149.042857142857, 4176.428571428572, 4203.814285714286, 4231.2], \"y\": [1304.82, 1308.6842857142856, 1312.5485714285714, 1316.412857142857, 1320.2771428571427, 1324.1414285714286, 1328.0057142857142, 1331.87, 1335.7342857142858, 1339.5985714285714, 1343.4628571428573, 1347.327142857143, 1351.1914285714286, 1355.0557142857144, 1358.92]}, {\"hoverinfo\": \"text\", \"line\": {\"color\": \"brown\", \"width\": 0.653014756817781}, \"mode\": \"lines\", \"name\": \"0.653014756817781\", \"opacity\": 0.653014756817781, \"text\": \"Edge: ('trueadm', 'aweary')    <br>Weight: 0.65\", \"type\": \"scatter\", \"x\": [3847.8, 3818.657142857143, 3789.514285714286, 3760.3714285714286, 3731.2285714285717, 3702.0857142857144, 3672.9428571428575, 3643.8, 3614.657142857143, 3585.514285714286, 3556.3714285714286, 3527.2285714285717, 3498.0857142857144, 3468.9428571428575, 3439.8], \"y\": [1304.82, 1283.77, 1262.72, 1241.67, 1220.62, 1199.57, 1178.52, 1157.47, 1136.42, 1115.37, 1094.32, 1073.27, 1052.22, 1031.17, 1010.12]}, {\"hoverinfo\": \"text\", \"line\": {\"color\": \"brown\", \"width\": 0.6021469042245009}, \"mode\": \"lines\", \"name\": \"0.6021469042245009\", \"opacity\": 0.6021469042245009, \"text\": \"Edge: ('trueadm', 'eps1lon')    <br>Weight: 0.6\", \"type\": \"scatter\", \"x\": [3847.8, 3872.4, 3897.0, 3921.6, 3946.2000000000003, 3970.8, 3995.4, 4020.0, 4044.6, 4069.2, 4093.7999999999997, 4118.4, 4143.0, 4167.599999999999, 4192.2], \"y\": [1304.82, 1326.1028571428571, 1347.3857142857141, 1368.6685714285713, 1389.9514285714286, 1411.2342857142858, 1432.5171428571427, 1453.8, 1475.0828571428572, 1496.3657142857141, 1517.6485714285714, 1538.9314285714286, 1560.2142857142858, 1581.4971428571428, 1602.78]}, {\"hoverinfo\": \"text\", \"line\": {\"color\": \"brown\", \"width\": 0.6168766405174038}, \"mode\": \"lines\", \"name\": \"0.6168766405174038\", \"opacity\": 0.6168766405174038, \"text\": \"Edge: ('trueadm', 'sompylasar')    <br>Weight: 0.62\", \"type\": \"scatter\", \"x\": [3847.8, 3892.857142857143, 3937.914285714286, 3982.971428571429, 4028.0285714285715, 4073.0857142857144, 4118.142857142858, 4163.200000000001, 4208.257142857143, 4253.314285714286, 4298.371428571429, 4343.428571428572, 4388.4857142857145, 4433.542857142857, 4478.6], \"y\": [1304.82, 1314.432857142857, 1324.0457142857142, 1333.6585714285713, 1343.2714285714285, 1352.8842857142856, 1362.4971428571428, 1372.1100000000001, 1381.7228571428573, 1391.3357142857144, 1400.9485714285715, 1410.5614285714287, 1420.1742857142858, 1429.787142857143, 1439.4]}, {\"hoverinfo\": \"text\", \"line\": {\"color\": \"brown\", \"width\": 0.681448374139174}, \"mode\": \"lines\", \"name\": \"0.681448374139174\", \"opacity\": 0.681448374139174, \"text\": \"Edge: ('petehunt', 'chenglou')    <br>Weight: 0.68\", \"type\": \"scatter\", \"x\": [1183.98, 1212.7757142857142, 1241.5714285714287, 1270.3671428571429, 1299.162857142857, 1327.9585714285713, 1356.7542857142857, 1385.55, 1414.3457142857142, 1443.1414285714286, 1471.9371428571428, 1500.732857142857, 1529.5285714285715, 1558.3242857142857, 1587.12], \"y\": [1445.2, 1442.307142857143, 1439.4142857142858, 1436.5214285714287, 1433.6285714285714, 1430.7357142857143, 1427.8428571428572, 1424.95, 1422.057142857143, 1419.1642857142858, 1416.2714285714287, 1413.3785714285714, 1410.4857142857143, 1407.5928571428572, 1404.7]}, {\"hoverinfo\": \"text\", \"line\": {\"color\": \"brown\", \"width\": 0.6342076750358349}, \"mode\": \"lines\", \"name\": \"0.6342076750358349\", \"opacity\": 0.6342076750358349, \"text\": \"Edge: ('petehunt', 'benjamn')    <br>Weight: 0.63\", \"type\": \"scatter\", \"x\": [1183.98, 1183.9957142857143, 1184.0114285714285, 1184.027142857143, 1184.0428571428572, 1184.0585714285714, 1184.0742857142857, 1184.09, 1184.1057142857144, 1184.1214285714286, 1184.1371428571429, 1184.152857142857, 1184.1685714285716, 1184.1842857142858, 1184.2], \"y\": [1445.2, 1469.0714285714287, 1492.9428571428573, 1516.8142857142857, 1540.6857142857143, 1564.557142857143, 1588.4285714285716, 1612.3000000000002, 1636.1714285714286, 1660.0428571428572, 1683.9142857142858, 1707.7857142857142, 1731.6571428571428, 1755.5285714285715, 1779.4]}, {\"hoverinfo\": \"text\", \"line\": {\"color\": \"brown\", \"width\": 0.6779944236156472}, \"mode\": \"lines\", \"name\": \"0.6779944236156472\", \"opacity\": 0.6779944236156472, \"text\": \"Edge: ('petehunt', 'subtleGradient')    <br>Weight: 0.68\", \"type\": \"scatter\", \"x\": [1183.98, 1150.5828571428572, 1117.1857142857143, 1083.7885714285715, 1050.3914285714286, 1016.9942857142858, 983.5971428571429, 950.2, 916.8028571428572, 883.4057142857143, 850.0085714285715, 816.6114285714286, 783.2142857142857, 749.8171428571428, 716.42], \"y\": [1445.2, 1458.4828571428573, 1471.7657142857142, 1485.0485714285714, 1498.3314285714287, 1511.6142857142859, 1524.8971428571429, 1538.18, 1551.4628571428573, 1564.7457142857143, 1578.0285714285715, 1591.3114285714287, 1604.594285714286, 1617.8771428571429, 1631.16]}, {\"hoverinfo\": \"text\", \"line\": {\"color\": \"brown\", \"width\": 0.6269304830837928}, \"mode\": \"lines\", \"name\": \"0.6269304830837928\", \"opacity\": 0.6269304830837928, \"text\": \"Edge: ('petehunt', 'syranide')    <br>Weight: 0.63\", \"type\": \"scatter\", \"x\": [1183.98, 1188.3114285714287, 1192.642857142857, 1196.9742857142858, 1201.3057142857142, 1205.6371428571429, 1209.9685714285713, 1214.3, 1218.6314285714286, 1222.962857142857, 1227.2942857142857, 1231.6257142857141, 1235.9571428571428, 1240.2885714285712, 1244.62], \"y\": [1445.2, 1462.0728571428572, 1478.9457142857143, 1495.8185714285714, 1512.6914285714286, 1529.5642857142857, 1546.437142857143, 1563.3100000000002, 1580.1828571428573, 1597.0557142857144, 1613.9285714285716, 1630.8014285714287, 1647.6742857142858, 1664.547142857143, 1681.42]}, {\"hoverinfo\": \"text\", \"line\": {\"color\": \"brown\", \"width\": 0.6733060561003386}, \"mode\": \"lines\", \"name\": \"0.6733060561003386\", \"opacity\": 0.6733060561003386, \"text\": \"Edge: ('petehunt', 'joshduck')    <br>Weight: 0.67\", \"type\": \"scatter\", \"x\": [1183.98, 1197.4485714285715, 1210.9171428571428, 1224.3857142857144, 1237.8542857142857, 1251.3228571428572, 1264.7914285714285, 1278.26, 1291.7285714285715, 1305.1971428571428, 1318.6657142857143, 1332.1342857142856, 1345.6028571428571, 1359.0714285714284, 1372.54], \"y\": [1445.2, 1440.8500000000001, 1436.5, 1432.15, 1427.8, 1423.45, 1419.1, 1414.75, 1410.4, 1406.05, 1401.7, 1397.35, 1393.0, 1388.6499999999999, 1384.3]}, {\"hoverinfo\": \"text\", \"line\": {\"color\": \"brown\", \"width\": 0.6343896697657267}, \"mode\": \"lines\", \"name\": \"0.6343896697657267\", \"opacity\": 0.6343896697657267, \"text\": \"Edge: ('petehunt', 'jordwalke')    <br>Weight: 0.63\", \"type\": \"scatter\", \"x\": [1183.98, 1164.3228571428572, 1144.6657142857143, 1125.0085714285715, 1105.3514285714286, 1085.6942857142858, 1066.037142857143, 1046.38, 1026.722857142857, 1007.0657142857142, 987.4085714285713, 967.7514285714285, 948.0942857142857, 928.4371428571428, 908.78], \"y\": [1445.2, 1448.1185714285714, 1451.037142857143, 1453.9557142857143, 1456.8742857142856, 1459.7928571428572, 1462.7114285714285, 1465.63, 1468.5485714285714, 1471.4671428571428, 1474.3857142857144, 1477.3042857142857, 1480.222857142857, 1483.1414285714286, 1486.06]}, {\"hoverinfo\": \"text\", \"line\": {\"color\": \"brown\", \"width\": 0.6225073783176072}, \"mode\": \"lines\", \"name\": \"0.6225073783176072\", \"opacity\": 0.6225073783176072, \"text\": \"Edge: ('chenglou', 'syranide')    <br>Weight: 0.62\", \"type\": \"scatter\", \"x\": [1587.12, 1562.655714285714, 1538.1914285714286, 1513.7271428571428, 1489.262857142857, 1464.7985714285712, 1440.3342857142857, 1415.87, 1391.405714285714, 1366.9414285714283, 1342.4771428571428, 1318.012857142857, 1293.5485714285714, 1269.0842857142857, 1244.62], \"y\": [1404.7, 1424.4657142857143, 1444.2314285714285, 1463.997142857143, 1483.7628571428572, 1503.5285714285715, 1523.2942857142857, 1543.06, 1562.8257142857144, 1582.5914285714287, 1602.357142857143, 1622.1228571428571, 1641.8885714285716, 1661.6542857142858, 1681.42]}, {\"hoverinfo\": \"text\", \"line\": {\"color\": \"brown\", \"width\": 0.9532896875453069}, \"mode\": \"lines\", \"name\": \"0.9532896875453069\", \"opacity\": 0.9532896875453069, \"text\": \"Edge: ('chenglou', 'mcsheffrey')    <br>Weight: 0.95\", \"type\": \"scatter\", \"x\": [1587.12, 1547.4814285714285, 1507.8428571428572, 1468.2042857142856, 1428.5657142857142, 1388.9271428571428, 1349.2885714285715, 1309.65, 1270.0114285714285, 1230.3728571428571, 1190.7342857142858, 1151.0957142857142, 1111.457142857143, 1071.8185714285714, 1032.18], \"y\": [1404.7, 1418.6342857142859, 1432.5685714285714, 1446.5028571428572, 1460.4371428571428, 1474.3714285714286, 1488.3057142857142, 1502.24, 1516.1742857142858, 1530.1085714285714, 1544.0428571428572, 1557.9771428571428, 1571.9114285714286, 1585.8457142857142, 1599.78]}, {\"hoverinfo\": \"text\", \"line\": {\"color\": \"brown\", \"width\": 0.6302124989422783}, \"mode\": \"lines\", \"name\": \"0.6302124989422783\", \"opacity\": 0.6302124989422783, \"text\": \"Edge: ('chenglou', 'arkist')    <br>Weight: 0.63\", \"type\": \"scatter\", \"x\": [1587.12, 1570.2042857142856, 1553.2885714285712, 1536.3728571428571, 1519.4571428571428, 1502.5414285714285, 1485.6257142857141, 1468.71, 1451.7942857142857, 1434.8785714285714, 1417.962857142857, 1401.0471428571427, 1384.1314285714286, 1367.2157142857143, 1350.3], \"y\": [1404.7, 1373.3542857142857, 1342.0085714285715, 1310.662857142857, 1279.317142857143, 1247.9714285714285, 1216.6257142857144, 1185.28, 1153.9342857142858, 1122.5885714285714, 1091.2428571428572, 1059.8971428571429, 1028.5514285714285, 997.2057142857143, 965.86]}, {\"hoverinfo\": \"text\", \"line\": {\"color\": \"brown\", \"width\": 0.6552678181367331}, \"mode\": \"lines\", \"name\": \"0.6552678181367331\", \"opacity\": 0.6552678181367331, \"text\": \"Edge: ('vjeux', 'joshduck')    <br>Weight: 0.66\", \"type\": \"scatter\", \"x\": [1711.58, 1687.3628571428571, 1663.1457142857141, 1638.9285714285713, 1614.7114285714285, 1590.4942857142858, 1566.2771428571427, 1542.06, 1517.8428571428572, 1493.6257142857144, 1469.4085714285713, 1445.1914285714286, 1420.9742857142855, 1396.7571428571428, 1372.54], \"y\": [1098.78, 1119.1742857142856, 1139.5685714285714, 1159.962857142857, 1180.357142857143, 1200.7514285714285, 1221.1457142857143, 1241.54, 1261.9342857142856, 1282.3285714285714, 1302.722857142857, 1323.1171428571429, 1343.5114285714285, 1363.905714285714, 1384.3]}, {\"hoverinfo\": \"text\", \"line\": {\"color\": \"brown\", \"width\": 0.6691374456174527}, \"mode\": \"lines\", \"name\": \"0.6691374456174527\", \"opacity\": 0.6691374456174527, \"text\": \"Edge: ('vjeux', 'cody')    <br>Weight: 0.67\", \"type\": \"scatter\", \"x\": [1711.58, 1733.0242857142857, 1754.4685714285713, 1775.912857142857, 1797.357142857143, 1818.8014285714285, 1840.2457142857143, 1861.69, 1883.1342857142856, 1904.5785714285714, 1926.022857142857, 1947.4671428571428, 1968.9114285714286, 1990.3557142857142, 2011.8], \"y\": [1098.78, 1084.7685714285715, 1070.7571428571428, 1056.7457142857143, 1042.7342857142858, 1028.722857142857, 1014.7114285714285, 1000.7, 986.6885714285714, 972.6771428571428, 958.6657142857143, 944.6542857142857, 930.6428571428571, 916.6314285714286, 902.62]}, {\"hoverinfo\": \"text\", \"line\": {\"color\": \"brown\", \"width\": 0.6769140757530065}, \"mode\": \"lines\", \"name\": \"0.6769140757530065\", \"opacity\": 0.6769140757530065, \"text\": \"Edge: ('benjamn', 'subtleGradient')    <br>Weight: 0.68\", \"type\": \"scatter\", \"x\": [1184.2, 1150.787142857143, 1117.3742857142856, 1083.9614285714285, 1050.5485714285714, 1017.1357142857144, 983.7228571428572, 950.31, 916.8971428571429, 883.4842857142858, 850.0714285714286, 816.6585714285713, 783.2457142857143, 749.8328571428572, 716.42], \"y\": [1779.4, 1768.8114285714287, 1758.2228571428573, 1747.6342857142859, 1737.0457142857144, 1726.457142857143, 1715.8685714285716, 1705.2800000000002, 1694.6914285714286, 1684.1028571428571, 1673.5142857142857, 1662.9257142857143, 1652.337142857143, 1641.7485714285715, 1631.16]}, {\"hoverinfo\": \"text\", \"line\": {\"color\": \"brown\", \"width\": 0.6145350648903352}, \"mode\": \"lines\", \"name\": \"0.6145350648903352\", \"opacity\": 0.6145350648903352, \"text\": \"Edge: ('benjamn', 'joshduck')    <br>Weight: 0.61\", \"type\": \"scatter\", \"x\": [1184.2, 1197.652857142857, 1211.1057142857144, 1224.5585714285714, 1238.0114285714285, 1251.4642857142858, 1264.9171428571428, 1278.37, 1291.8228571428572, 1305.2757142857142, 1318.7285714285715, 1332.1814285714286, 1345.6342857142856, 1359.087142857143, 1372.54], \"y\": [1779.4, 1751.1785714285716, 1722.957142857143, 1694.7357142857143, 1666.5142857142857, 1638.2928571428572, 1610.0714285714287, 1581.85, 1553.6285714285714, 1525.4071428571428, 1497.1857142857143, 1468.9642857142858, 1440.7428571428572, 1412.5214285714285, 1384.3]}, {\"hoverinfo\": \"text\", \"line\": {\"color\": \"brown\", \"width\": 0.6067825669403287}, \"mode\": \"lines\", \"name\": \"0.6067825669403287\", \"opacity\": 0.6067825669403287, \"text\": \"Edge: ('benjamn', 'jordwalke')    <br>Weight: 0.61\", \"type\": \"scatter\", \"x\": [1184.2, 1164.527142857143, 1144.8542857142857, 1125.1814285714286, 1105.5085714285715, 1085.8357142857144, 1066.162857142857, 1046.49, 1026.817142857143, 1007.1442857142857, 987.4714285714285, 967.7985714285714, 948.1257142857143, 928.4528571428572, 908.78], \"y\": [1779.4, 1758.447142857143, 1737.4942857142858, 1716.5414285714287, 1695.5885714285714, 1674.6357142857144, 1653.6828571428573, 1632.73, 1611.777142857143, 1590.8242857142857, 1569.8714285714286, 1548.9185714285713, 1527.9657142857143, 1507.0128571428572, 1486.06]}, {\"hoverinfo\": \"text\", \"line\": {\"color\": \"brown\", \"width\": 0.6281691998316704}, \"mode\": \"lines\", \"name\": \"0.6281691998316704\", \"opacity\": 0.6281691998316704, \"text\": \"Edge: ('yungsters', 'joshduck')    <br>Weight: 0.63\", \"type\": \"scatter\", \"x\": [1664.44, 1643.5900000000001, 1622.74, 1601.89, 1581.04, 1560.19, 1539.3400000000001, 1518.49, 1497.64, 1476.79, 1455.94, 1435.09, 1414.24, 1393.3899999999999, 1372.54], \"y\": [1639.54, 1621.3085714285714, 1603.077142857143, 1584.8457142857142, 1566.6142857142856, 1548.3828571428571, 1530.1514285714286, 1511.92, 1493.6885714285713, 1475.4571428571428, 1457.2257142857143, 1438.9942857142858, 1420.762857142857, 1402.5314285714285, 1384.3]}, {\"hoverinfo\": \"text\", \"line\": {\"color\": \"brown\", \"width\": 0.6105263131452907}, \"mode\": \"lines\", \"name\": \"0.6105263131452907\", \"opacity\": 0.6105263131452907, \"text\": \"Edge: ('subtleGradient', 'chicoxyzzy')    <br>Weight: 0.61\", \"type\": \"scatter\", \"x\": [716.42, 729.54, 742.66, 755.78, 768.9, 782.02, 795.14, 808.26, 821.38, 834.5, 847.62, 860.74, 873.86, 886.98, 900.1], \"y\": [1631.16, 1599.8957142857143, 1568.6314285714286, 1537.3671428571429, 1506.1028571428571, 1474.8385714285714, 1443.574285714286, 1412.31, 1381.0457142857144, 1349.7814285714287, 1318.517142857143, 1287.2528571428572, 1255.9885714285715, 1224.7242857142858, 1193.46]}, {\"hoverinfo\": \"text\", \"line\": {\"color\": \"brown\", \"width\": 0.6041681947049306}, \"mode\": \"lines\", \"name\": \"0.6041681947049306\", \"opacity\": 0.6041681947049306, \"text\": \"Edge: ('subtleGradient', 'fabiomcosta')    <br>Weight: 0.6\", \"type\": \"scatter\", \"x\": [716.42, 673.2987142857143, 630.1774285714285, 587.0561428571428, 543.9348571428571, 500.81357142857144, 457.6922857142857, 414.57099999999997, 371.44971428571426, 328.32842857142856, 285.20714285714286, 242.08585714285715, 198.9645714285714, 155.84328571428568, 112.722], \"y\": [1631.16, 1656.2957142857144, 1681.4314285714286, 1706.567142857143, 1731.7028571428573, 1756.8385714285714, 1781.9742857142858, 1807.1100000000001, 1832.2457142857143, 1857.3814285714286, 1882.5171428571427, 1907.652857142857, 1932.7885714285715, 1957.9242857142856, 1983.06]}, {\"hoverinfo\": \"text\", \"line\": {\"color\": \"brown\", \"width\": 0.7227812322991857}, \"mode\": \"lines\", \"name\": \"0.7227812322991857\", \"opacity\": 0.7227812322991857, \"text\": \"Edge: ('subtleGradient', 'jordwalke')    <br>Weight: 0.72\", \"type\": \"scatter\", \"x\": [716.42, 730.16, 743.9, 757.64, 771.38, 785.12, 798.8599999999999, 812.5999999999999, 826.3399999999999, 840.0799999999999, 853.8199999999999, 867.56, 881.3, 895.04, 908.78], \"y\": [1631.16, 1620.7957142857144, 1610.4314285714286, 1600.067142857143, 1589.7028571428573, 1579.3385714285714, 1568.9742857142858, 1558.6100000000001, 1548.2457142857143, 1537.8814285714286, 1527.5171428571427, 1517.152857142857, 1506.7885714285715, 1496.4242857142856, 1486.06]}, {\"hoverinfo\": \"text\", \"line\": {\"color\": \"brown\", \"width\": 0.7446507496988276}, \"mode\": \"lines\", \"name\": \"0.7446507496988276\", \"opacity\": 0.7446507496988276, \"text\": \"Edge: ('nhunzaker', 'aweary')    <br>Weight: 0.74\", \"type\": \"scatter\", \"x\": [3535.6, 3528.7571428571428, 3521.9142857142856, 3515.0714285714284, 3508.2285714285713, 3501.385714285714, 3494.542857142857, 3487.7, 3480.857142857143, 3474.014285714286, 3467.171428571429, 3460.3285714285716, 3453.4857142857145, 3446.6428571428573, 3439.8], \"y\": [904.32, 911.8771428571429, 919.4342857142858, 926.9914285714286, 934.5485714285714, 942.1057142857143, 949.6628571428572, 957.22, 964.7771428571428, 972.3342857142858, 979.8914285714286, 987.4485714285714, 995.0057142857142, 1002.5628571428572, 1010.12]}, {\"hoverinfo\": \"text\", \"line\": {\"color\": \"brown\", \"width\": 0.7332922125341923}, \"mode\": \"lines\", \"name\": \"0.7332922125341923\", \"opacity\": 0.7332922125341923, \"text\": \"Edge: ('nhunzaker', 'jquense')    <br>Weight: 0.73\", \"type\": \"scatter\", \"x\": [3535.6, 3486.2714285714283, 3436.942857142857, 3387.614285714286, 3338.285714285714, 3288.9571428571426, 3239.6285714285714, 3190.3, 3140.9714285714285, 3091.642857142857, 3042.3142857142857, 2992.9857142857145, 2943.657142857143, 2894.328571428571, 2845.0], \"y\": [904.32, 902.1828571428572, 900.0457142857143, 897.9085714285715, 895.7714285714286, 893.6342857142857, 891.4971428571429, 889.36, 887.2228571428572, 885.0857142857143, 882.9485714285714, 880.8114285714286, 878.6742857142857, 876.5371428571428, 874.4]}, {\"hoverinfo\": \"text\", \"line\": {\"color\": \"brown\", \"width\": 0.6153685646300352}, \"mode\": \"lines\", \"name\": \"0.6153685646300352\", \"opacity\": 0.6153685646300352, \"text\": \"Edge: ('nhunzaker', 'SimenB')    <br>Weight: 0.62\", \"type\": \"scatter\", \"x\": [3535.6, 3576.485714285714, 3617.3714285714286, 3658.2571428571428, 3699.142857142857, 3740.0285714285715, 3780.9142857142856, 3821.8, 3862.6857142857143, 3903.5714285714284, 3944.457142857143, 3985.342857142857, 4026.2285714285713, 4067.114285714286, 4108.0], \"y\": [904.32, 919.2171428571429, 934.1142857142858, 949.0114285714286, 963.9085714285715, 978.8057142857143, 993.7028571428573, 1008.6000000000001, 1023.497142857143, 1038.3942857142858, 1053.2914285714287, 1068.1885714285715, 1083.0857142857144, 1097.9828571428573, 1112.88]}, {\"hoverinfo\": \"text\", \"line\": {\"color\": \"brown\", \"width\": 0.6119337770480838}, \"mode\": \"lines\", \"name\": \"0.6119337770480838\", \"opacity\": 0.6119337770480838, \"text\": \"Edge: ('nhunzaker', 'raphamorim')    <br>Weight: 0.61\", \"type\": \"scatter\", \"x\": [3535.6, 3562.5714285714284, 3589.542857142857, 3616.5142857142855, 3643.485714285714, 3670.4571428571426, 3697.428571428571, 3724.3999999999996, 3751.3714285714286, 3778.342857142857, 3805.3142857142857, 3832.285714285714, 3859.2571428571428, 3886.2285714285713, 3913.2], \"y\": [904.32, 891.1971428571429, 878.0742857142858, 864.9514285714287, 851.8285714285714, 838.7057142857143, 825.5828571428572, 812.46, 799.3371428571429, 786.2142857142858, 773.0914285714287, 759.9685714285715, 746.8457142857143, 733.7228571428572, 720.6]}, {\"hoverinfo\": \"text\", \"line\": {\"color\": \"brown\", \"width\": 0.6551396817404147}, \"mode\": \"lines\", \"name\": \"0.6551396817404147\", \"opacity\": 0.6551396817404147, \"text\": \"Edge: ('syranide', 'joshduck')    <br>Weight: 0.66\", \"type\": \"scatter\", \"x\": [1244.62, 1253.7571428571428, 1262.8942857142856, 1272.0314285714285, 1281.1685714285713, 1290.3057142857142, 1299.442857142857, 1308.58, 1317.7171428571428, 1326.8542857142857, 1335.9914285714285, 1345.1285714285714, 1354.2657142857142, 1363.402857142857, 1372.54], \"y\": [1681.42, 1660.1971428571428, 1638.9742857142858, 1617.7514285714287, 1596.5285714285715, 1575.3057142857142, 1554.0828571428572, 1532.8600000000001, 1511.6371428571429, 1490.4142857142856, 1469.1914285714286, 1447.9685714285715, 1426.7457142857143, 1405.522857142857, 1384.3]}, {\"hoverinfo\": \"text\", \"line\": {\"color\": \"brown\", \"width\": 0.6053392751621074}, \"mode\": \"lines\", \"name\": \"0.6053392751621074\", \"opacity\": 0.6053392751621074, \"text\": \"Edge: ('syranide', 'jordwalke')    <br>Weight: 0.61\", \"type\": \"scatter\", \"x\": [1244.62, 1220.6314285714284, 1196.642857142857, 1172.6542857142856, 1148.665714285714, 1124.6771428571428, 1100.6885714285713, 1076.6999999999998, 1052.7114285714285, 1028.722857142857, 1004.7342857142856, 980.7457142857143, 956.7571428571428, 932.7685714285715, 908.78], \"y\": [1681.42, 1667.4657142857143, 1653.5114285714287, 1639.557142857143, 1625.6028571428571, 1611.6485714285714, 1597.6942857142858, 1583.74, 1569.7857142857142, 1555.8314285714287, 1541.8771428571429, 1527.922857142857, 1513.9685714285715, 1500.0142857142857, 1486.06]}, {\"hoverinfo\": \"text\", \"line\": {\"color\": \"brown\", \"width\": 0.8924655965786988}, \"mode\": \"lines\", \"name\": \"0.8924655965786988\", \"opacity\": 0.8924655965786988, \"text\": \"Edge: ('flarnie', 'sompylasar')    <br>Weight: 0.89\", \"type\": \"scatter\", \"x\": [5076.4, 5033.7, 4991.0, 4948.3, 4905.599999999999, 4862.9, 4820.2, 4777.5, 4734.8, 4692.1, 4649.400000000001, 4606.7, 4564.0, 4521.3, 4478.6], \"y\": [1325.4, 1333.5428571428572, 1341.6857142857143, 1349.8285714285714, 1357.9714285714288, 1366.1142857142859, 1374.257142857143, 1382.4, 1390.5428571428572, 1398.6857142857143, 1406.8285714285714, 1414.9714285714288, 1423.1142857142859, 1431.257142857143, 1439.4]}, {\"hoverinfo\": \"text\", \"line\": {\"color\": \"brown\", \"width\": 0.6398925493336245}, \"mode\": \"lines\", \"name\": \"0.6398925493336245\", \"opacity\": 0.6398925493336245, \"text\": \"Edge: ('koba04', 'Daniel15')    <br>Weight: 0.64\", \"type\": \"scatter\", \"x\": [562.24, 599.74, 637.24, 674.74, 712.24, 749.74, 787.24, 824.74, 862.24, 899.74, 937.24, 974.74, 1012.24, 1049.74, 1087.24], \"y\": [571.18, 597.5142857142856, 623.8485714285714, 650.1828571428571, 676.5171428571429, 702.8514285714285, 729.1857142857143, 755.52, 781.8542857142857, 808.1885714285714, 834.5228571428572, 860.8571428571429, 887.1914285714286, 913.5257142857142, 939.86]}, {\"hoverinfo\": \"text\", \"line\": {\"color\": \"brown\", \"width\": 0.7082083861295889}, \"mode\": \"lines\", \"name\": \"0.7082083861295889\", \"opacity\": 0.7082083861295889, \"text\": \"Edge: ('aweary', 'jquense')    <br>Weight: 0.71\", \"type\": \"scatter\", \"x\": [3439.8, 3397.3142857142857, 3354.8285714285716, 3312.342857142857, 3269.857142857143, 3227.3714285714286, 3184.885714285714, 3142.4, 3099.9142857142856, 3057.4285714285716, 3014.942857142857, 2972.457142857143, 2929.9714285714285, 2887.4857142857145, 2845.0], \"y\": [1010.12, 1000.4257142857143, 990.7314285714285, 981.0371428571428, 971.3428571428572, 961.6485714285715, 951.9542857142857, 942.26, 932.5657142857143, 922.8714285714286, 913.1771428571428, 903.4828571428571, 893.7885714285715, 884.0942857142857, 874.4]}, {\"hoverinfo\": \"text\", \"line\": {\"color\": \"brown\", \"width\": 0.6042189106972743}, \"mode\": \"lines\", \"name\": \"0.6042189106972743\", \"opacity\": 0.6042189106972743, \"text\": \"Edge: ('aweary', 'raphamorim')    <br>Weight: 0.6\", \"type\": \"scatter\", \"x\": [3439.8, 3473.614285714286, 3507.4285714285716, 3541.2428571428572, 3575.057142857143, 3608.8714285714286, 3642.6857142857143, 3676.5, 3710.3142857142857, 3744.1285714285714, 3777.942857142857, 3811.7571428571428, 3845.5714285714284, 3879.385714285714, 3913.2], \"y\": [1010.12, 989.44, 968.76, 948.08, 927.4, 906.72, 886.04, 865.36, 844.6800000000001, 824.0, 803.3199999999999, 782.64, 761.96, 741.28, 720.6]}, {\"hoverinfo\": \"text\", \"line\": {\"color\": \"brown\", \"width\": 0.7247467994025996}, \"mode\": \"lines\", \"name\": \"0.7247467994025996\", \"opacity\": 0.7247467994025996, \"text\": \"Edge: ('rickhanlonii', 'eps1lon')    <br>Weight: 0.72\", \"type\": \"scatter\", \"x\": [4285.6, 4278.928571428572, 4272.257142857143, 4265.585714285715, 4258.914285714286, 4252.242857142857, 4245.571428571428, 4238.9, 4232.228571428572, 4225.557142857143, 4218.885714285714, 4212.214285714285, 4205.542857142857, 4198.871428571429, 4192.2], \"y\": [1835.54, 1818.9142857142856, 1802.2885714285715, 1785.662857142857, 1769.0371428571427, 1752.4114285714286, 1735.7857142857142, 1719.1599999999999, 1702.5342857142857, 1685.9085714285713, 1669.2828571428572, 1652.6571428571428, 1636.0314285714285, 1619.4057142857143, 1602.78]}, {\"hoverinfo\": \"text\", \"line\": {\"color\": \"brown\", \"width\": 0.6664018888107169}, \"mode\": \"lines\", \"name\": \"0.6664018888107169\", \"opacity\": 0.6664018888107169, \"text\": \"Edge: ('rickhanlonii', 'sompylasar')    <br>Weight: 0.67\", \"type\": \"scatter\", \"x\": [4285.6, 4299.385714285715, 4313.171428571429, 4326.9571428571435, 4340.742857142857, 4354.528571428572, 4368.314285714286, 4382.1, 4395.885714285715, 4409.671428571429, 4423.4571428571435, 4437.242857142857, 4451.028571428572, 4464.814285714286, 4478.6], \"y\": [1835.54, 1807.2442857142858, 1778.9485714285713, 1750.652857142857, 1722.357142857143, 1694.0614285714287, 1665.7657142857142, 1637.47, 1609.1742857142858, 1580.8785714285714, 1552.5828571428572, 1524.287142857143, 1495.9914285714285, 1467.6957142857143, 1439.4]}, {\"hoverinfo\": \"text\", \"line\": {\"color\": \"brown\", \"width\": 0.6775859470363493}, \"mode\": \"lines\", \"name\": \"0.6775859470363493\", \"opacity\": 0.6775859470363493, \"text\": \"Edge: ('marocchino', 'kohei-takata')    <br>Weight: 0.68\", \"type\": \"scatter\", \"x\": [1002.44, 1022.3185714285714, 1042.1971428571428, 1062.0757142857144, 1081.9542857142858, 1101.8328571428572, 1121.7114285714285, 1141.5900000000001, 1161.4685714285715, 1181.347142857143, 1201.2257142857143, 1221.1042857142857, 1240.9828571428573, 1260.8614285714286, 1280.74], \"y\": [773.22, 760.6185714285715, 748.0171428571429, 735.4157142857143, 722.8142857142857, 710.2128571428572, 697.6114285714286, 685.01, 672.4085714285715, 659.8071428571428, 647.2057142857143, 634.6042857142857, 622.0028571428571, 609.4014285714286, 596.8]}, {\"hoverinfo\": \"text\", \"line\": {\"color\": \"brown\", \"width\": 0.6782237511368694}, \"mode\": \"lines\", \"name\": \"0.6782237511368694\", \"opacity\": 0.6782237511368694, \"text\": \"Edge: ('marocchino', 'chicoxyzzy')    <br>Weight: 0.68\", \"type\": \"scatter\", \"x\": [1002.44, 995.1300000000001, 987.82, 980.51, 973.2, 965.8900000000001, 958.58, 951.27, 943.96, 936.6500000000001, 929.34, 922.03, 914.72, 907.4100000000001, 900.1], \"y\": [773.22, 803.2371428571429, 833.2542857142857, 863.2714285714286, 893.2885714285715, 923.3057142857143, 953.3228571428572, 983.34, 1013.3571428571429, 1043.3742857142856, 1073.3914285714286, 1103.4085714285716, 1133.4257142857143, 1163.442857142857, 1193.46]}, {\"hoverinfo\": \"text\", \"line\": {\"color\": \"brown\", \"width\": 0.6625097589747317}, \"mode\": \"lines\", \"name\": \"0.6625097589747317\", \"opacity\": 0.6625097589747317, \"text\": \"Edge: ('marocchino', 'Daniel15')    <br>Weight: 0.66\", \"type\": \"scatter\", \"x\": [1002.44, 1008.4971428571429, 1014.5542857142858, 1020.6114285714286, 1026.6685714285716, 1032.7257142857143, 1038.7828571428572, 1044.8400000000001, 1050.8971428571429, 1056.9542857142858, 1063.0114285714285, 1069.0685714285714, 1075.1257142857144, 1081.182857142857, 1087.24], \"y\": [773.22, 785.1228571428571, 797.0257142857143, 808.9285714285714, 820.8314285714285, 832.7342857142858, 844.6371428571429, 856.54, 868.4428571428572, 880.3457142857143, 892.2485714285715, 904.1514285714286, 916.0542857142857, 927.9571428571429, 939.86]}, {\"hoverinfo\": \"text\", \"line\": {\"color\": \"brown\", \"width\": 0.7712415791181313}, \"mode\": \"lines\", \"name\": \"0.7712415791181313\", \"opacity\": 0.7712415791181313, \"text\": \"Edge: ('marocchino', 'arkist')    <br>Weight: 0.77\", \"type\": \"scatter\", \"x\": [1002.44, 1027.287142857143, 1052.1342857142859, 1076.9814285714285, 1101.8285714285714, 1126.6757142857143, 1151.5228571428572, 1176.37, 1201.2171428571428, 1226.0642857142857, 1250.9114285714286, 1275.7585714285715, 1300.6057142857144, 1325.452857142857, 1350.3], \"y\": [773.22, 786.98, 800.74, 814.5, 828.26, 842.02, 855.78, 869.54, 883.3000000000001, 897.0600000000001, 910.82, 924.58, 938.34, 952.1, 965.86]}, {\"hoverinfo\": \"text\", \"line\": {\"color\": \"brown\", \"width\": 0.6406444540421773}, \"mode\": \"lines\", \"name\": \"0.6406444540421773\", \"opacity\": 0.6406444540421773, \"text\": \"Edge: ('kohei-takata', 'Daniel15')    <br>Weight: 0.64\", \"type\": \"scatter\", \"x\": [1280.74, 1266.9185714285713, 1253.097142857143, 1239.2757142857142, 1225.4542857142858, 1211.6328571428571, 1197.8114285714287, 1183.99, 1170.1685714285713, 1156.347142857143, 1142.5257142857142, 1128.7042857142858, 1114.8828571428571, 1101.0614285714287, 1087.24], \"y\": [596.8, 621.3042857142857, 645.8085714285714, 670.3128571428571, 694.8171428571428, 719.3214285714286, 743.8257142857143, 768.3299999999999, 792.8342857142857, 817.3385714285714, 841.8428571428572, 866.3471428571429, 890.8514285714286, 915.3557142857143, 939.86]}, {\"hoverinfo\": \"text\", \"line\": {\"color\": \"brown\", \"width\": 0.6970907800360665}, \"mode\": \"lines\", \"name\": \"0.6970907800360665\", \"opacity\": 0.6970907800360665, \"text\": \"Edge: ('kohei-takata', 'arkist')    <br>Weight: 0.7\", \"type\": \"scatter\", \"x\": [1280.74, 1285.7085714285715, 1290.6771428571428, 1295.6457142857143, 1300.6142857142856, 1305.5828571428572, 1310.5514285714285, 1315.52, 1320.4885714285715, 1325.4571428571428, 1330.4257142857143, 1335.3942857142856, 1340.3628571428571, 1345.3314285714284, 1350.3], \"y\": [596.8, 623.1614285714286, 649.5228571428571, 675.8842857142856, 702.2457142857143, 728.6071428571429, 754.9685714285714, 781.3299999999999, 807.6914285714286, 834.0528571428572, 860.4142857142857, 886.7757142857142, 913.1371428571429, 939.4985714285715, 965.86]}, {\"hoverinfo\": \"text\", \"line\": {\"color\": \"brown\", \"width\": 0.6107921942382658}, \"mode\": \"lines\", \"name\": \"0.6107921942382658\", \"opacity\": 0.6107921942382658, \"text\": \"Edge: ('kohei-takata', 'iamchenxin')    <br>Weight: 0.61\", \"type\": \"scatter\", \"x\": [1280.74, 1263.2285714285715, 1245.7171428571428, 1228.2057142857143, 1210.6942857142858, 1193.182857142857, 1175.6714285714286, 1158.1599999999999, 1140.6485714285714, 1123.1371428571429, 1105.6257142857141, 1088.1142857142856, 1070.6028571428571, 1053.0914285714284, 1035.58], \"y\": [596.8, 593.7657142857142, 590.7314285714285, 587.6971428571428, 584.6628571428571, 581.6285714285714, 578.5942857142857, 575.56, 572.5257142857143, 569.4914285714286, 566.4571428571429, 563.4228571428572, 560.3885714285715, 557.3542857142858, 554.32]}, {\"hoverinfo\": \"text\", \"line\": {\"color\": \"brown\", \"width\": 0.6456493367707559}, \"mode\": \"lines\", \"name\": \"0.6456493367707559\", \"opacity\": 0.6456493367707559, \"text\": \"Edge: ('TheSavior', 'raphamorim')    <br>Weight: 0.65\", \"type\": \"scatter\", \"x\": [4245.0, 4221.3, 4197.6, 4173.9, 4150.2, 4126.5, 4102.8, 4079.1, 4055.4, 4031.7, 4008.0, 3984.2999999999997, 3960.6, 3936.8999999999996, 3913.2], \"y\": [189.576, 227.5062857142857, 265.4365714285714, 303.36685714285716, 341.29714285714283, 379.2274285714286, 417.1577142857143, 455.08799999999997, 493.01828571428575, 530.9485714285714, 568.8788571428572, 606.8091428571429, 644.7394285714286, 682.6697142857143, 720.6]}, {\"hoverinfo\": \"text\", \"line\": {\"color\": \"brown\", \"width\": 1.0}, \"mode\": \"lines\", \"name\": \"1.0\", \"opacity\": 1.0, \"text\": \"Edge: ('chicoxyzzy', 'mcsheffrey')    <br>Weight: 1.0\", \"type\": \"scatter\", \"x\": [900.1, 909.5342857142857, 918.9685714285714, 928.4028571428572, 937.8371428571429, 947.2714285714286, 956.7057142857143, 966.1400000000001, 975.5742857142858, 985.0085714285715, 994.4428571428572, 1003.8771428571429, 1013.3114285714287, 1022.7457142857144, 1032.18], \"y\": [1193.46, 1222.4828571428573, 1251.5057142857142, 1280.5285714285715, 1309.5514285714287, 1338.5742857142857, 1367.597142857143, 1396.62, 1425.642857142857, 1454.6657142857143, 1483.6885714285713, 1512.7114285714285, 1541.7342857142858, 1570.7571428571428, 1599.78]}, {\"hoverinfo\": \"text\", \"line\": {\"color\": \"brown\", \"width\": 0.7171561820021768}, \"mode\": \"lines\", \"name\": \"0.7171561820021768\", \"opacity\": 0.7171561820021768, \"text\": \"Edge: ('chicoxyzzy', 'joshduck')    <br>Weight: 0.72\", \"type\": \"scatter\", \"x\": [900.1, 933.8457142857143, 967.5914285714285, 1001.3371428571429, 1035.0828571428572, 1068.8285714285714, 1102.5742857142857, 1136.32, 1170.0657142857142, 1203.8114285714285, 1237.557142857143, 1271.3028571428572, 1305.0485714285714, 1338.7942857142857, 1372.54], \"y\": [1193.46, 1207.0914285714287, 1220.7228571428573, 1234.3542857142857, 1247.9857142857143, 1261.6171428571429, 1275.2485714285715, 1288.88, 1302.5114285714285, 1316.142857142857, 1329.7742857142857, 1343.4057142857143, 1357.037142857143, 1370.6685714285713, 1384.3]}, {\"hoverinfo\": \"text\", \"line\": {\"color\": \"brown\", \"width\": 0.6274624018723586}, \"mode\": \"lines\", \"name\": \"0.6274624018723586\", \"opacity\": 0.6274624018723586, \"text\": \"Edge: ('chicoxyzzy', 'jordwalke')    <br>Weight: 0.63\", \"type\": \"scatter\", \"x\": [900.1, 900.72, 901.34, 901.96, 902.58, 903.2, 903.82, 904.44, 905.06, 905.68, 906.3, 906.92, 907.54, 908.16, 908.78], \"y\": [1193.46, 1214.3600000000001, 1235.26, 1256.16, 1277.06, 1297.96, 1318.8600000000001, 1339.76, 1360.66, 1381.56, 1402.46, 1423.36, 1444.26, 1465.1599999999999, 1486.06]}, {\"hoverinfo\": \"text\", \"line\": {\"color\": \"brown\", \"width\": 0.6809733171404255}, \"mode\": \"lines\", \"name\": \"0.6809733171404255\", \"opacity\": 0.6809733171404255, \"text\": \"Edge: ('chicoxyzzy', 'arkist')    <br>Weight: 0.68\", \"type\": \"scatter\", \"x\": [900.1, 932.2571428571429, 964.4142857142857, 996.5714285714286, 1028.7285714285715, 1060.8857142857144, 1093.0428571428572, 1125.2, 1157.357142857143, 1189.5142857142857, 1221.6714285714286, 1253.8285714285714, 1285.9857142857143, 1318.142857142857, 1350.3], \"y\": [1193.46, 1177.2028571428573, 1160.9457142857143, 1144.6885714285715, 1128.4314285714286, 1112.1742857142858, 1095.9171428571428, 1079.66, 1063.402857142857, 1047.1457142857143, 1030.8885714285714, 1014.6314285714286, 998.3742857142857, 982.1171428571429, 965.86]}, {\"hoverinfo\": \"text\", \"line\": {\"color\": \"brown\", \"width\": 0.6332116010375535}, \"mode\": \"lines\", \"name\": \"0.6332116010375535\", \"opacity\": 0.6332116010375535, \"text\": \"Edge: ('keyz', 'Daniel15')    <br>Weight: 0.63\", \"type\": \"scatter\", \"x\": [485.56, 528.5371428571428, 571.5142857142857, 614.4914285714285, 657.4685714285714, 700.4457142857143, 743.4228571428571, 786.4000000000001, 829.3771428571429, 872.3542857142857, 915.3314285714287, 958.3085714285714, 1001.2857142857142, 1044.2628571428572, 1087.24], \"y\": [833.14, 840.7628571428571, 848.3857142857142, 856.0085714285714, 863.6314285714286, 871.2542857142857, 878.8771428571429, 886.5, 894.1228571428571, 901.7457142857143, 909.3685714285714, 916.9914285714285, 924.6142857142858, 932.2371428571429, 939.86]}, {\"hoverinfo\": \"text\", \"line\": {\"color\": \"brown\", \"width\": 0.7530103295252888}, \"mode\": \"lines\", \"name\": \"0.7530103295252888\", \"opacity\": 0.7530103295252888, \"text\": \"Edge: ('eps1lon', 'bl00mber')    <br>Weight: 0.75\", \"type\": \"scatter\", \"x\": [4192.2, 4181.471428571428, 4170.742857142857, 4160.0142857142855, 4149.285714285714, 4138.557142857143, 4127.828571428571, 4117.1, 4106.371428571429, 4095.642857142857, 4084.9142857142856, 4074.1857142857143, 4063.457142857143, 4052.7285714285713, 4042.0], \"y\": [1602.78, 1626.0785714285714, 1649.3771428571429, 1672.6757142857143, 1695.9742857142858, 1719.2728571428572, 1742.5714285714284, 1765.87, 1789.1685714285713, 1812.4671428571428, 1835.7657142857142, 1859.0642857142857, 1882.3628571428571, 1905.6614285714286, 1928.96]}, {\"hoverinfo\": \"text\", \"line\": {\"color\": \"brown\", \"width\": 0.6146924090600359}, \"mode\": \"lines\", \"name\": \"0.6146924090600359\", \"opacity\": 0.6146924090600359, \"text\": \"Edge: ('bgw', 'iamchenxin')    <br>Weight: 0.61\", \"type\": \"scatter\", \"x\": [706.78, 730.2657142857142, 753.7514285714285, 777.2371428571428, 800.7228571428572, 824.2085714285714, 847.6942857142857, 871.18, 894.6657142857142, 918.1514285714286, 941.6371428571429, 965.1228571428571, 988.6085714285714, 1012.0942857142857, 1035.58], \"y\": [35.45, 72.51214285714286, 109.57428571428572, 146.63642857142858, 183.69857142857143, 220.7607142857143, 257.8228571428572, 294.885, 331.94714285714286, 369.00928571428574, 406.0714285714286, 443.13357142857143, 480.1957142857143, 517.2578571428572, 554.32]}, {\"hoverinfo\": \"text\", \"line\": {\"color\": \"brown\", \"width\": 0.6103364575126095}, \"mode\": \"lines\", \"name\": \"0.6103364575126095\", \"opacity\": 0.6103364575126095, \"text\": \"Edge: ('NE-SmallTown', 'SimenB')    <br>Weight: 0.61\", \"type\": \"scatter\", \"x\": [4684.0, 4642.857142857143, 4601.714285714285, 4560.571428571428, 4519.428571428572, 4478.285714285715, 4437.142857142857, 4396.0, 4354.857142857143, 4313.714285714285, 4272.571428571428, 4231.428571428572, 4190.285714285714, 4149.142857142857, 4108.0], \"y\": [961.62, 972.4242857142857, 983.2285714285714, 994.0328571428572, 1004.8371428571429, 1015.6414285714286, 1026.4457142857143, 1037.25, 1048.0542857142857, 1058.8585714285714, 1069.6628571428573, 1080.467142857143, 1091.2714285714287, 1102.0757142857144, 1112.88]}, {\"hoverinfo\": \"text\", \"line\": {\"color\": \"brown\", \"width\": 0.792226780072224}, \"mode\": \"lines\", \"name\": \"0.792226780072224\", \"opacity\": 0.792226780072224, \"text\": \"Edge: ('NE-SmallTown', 'sompylasar')    <br>Weight: 0.79\", \"type\": \"scatter\", \"x\": [4684.0, 4669.328571428571, 4654.657142857143, 4639.9857142857145, 4625.314285714286, 4610.642857142857, 4595.971428571429, 4581.3, 4566.628571428571, 4551.9571428571435, 4537.285714285715, 4522.614285714286, 4507.942857142857, 4493.271428571429, 4478.6], \"y\": [961.62, 995.7471428571429, 1029.8742857142856, 1064.0014285714285, 1098.1285714285714, 1132.2557142857142, 1166.3828571428571, 1200.51, 1234.6371428571429, 1268.7642857142857, 1302.8914285714286, 1337.0185714285715, 1371.1457142857143, 1405.2728571428572, 1439.4]}, {\"hoverinfo\": \"text\", \"line\": {\"color\": \"brown\", \"width\": 0.6142326156891721}, \"mode\": \"lines\", \"name\": \"0.6142326156891721\", \"opacity\": 0.6142326156891721, \"text\": \"Edge: ('joshduck', 'jordwalke')    <br>Weight: 0.61\", \"type\": \"scatter\", \"x\": [1372.54, 1339.4142857142856, 1306.2885714285715, 1273.162857142857, 1240.0371428571427, 1206.9114285714286, 1173.7857142857142, 1140.6599999999999, 1107.5342857142857, 1074.4085714285713, 1041.2828571428572, 1008.1571428571428, 975.0314285714285, 941.9057142857142, 908.78], \"y\": [1384.3, 1391.5685714285714, 1398.837142857143, 1406.1057142857142, 1413.3742857142856, 1420.642857142857, 1427.9114285714286, 1435.1799999999998, 1442.4485714285713, 1449.7171428571428, 1456.9857142857143, 1464.2542857142857, 1471.522857142857, 1478.7914285714285, 1486.06]}, {\"hoverinfo\": \"text\", \"line\": {\"color\": \"brown\", \"width\": 0.9917356337607353}, \"mode\": \"lines\", \"name\": \"0.9917356337607353\", \"opacity\": 0.9917356337607353, \"text\": \"Edge: ('jquense', 'cody')    <br>Weight: 0.99\", \"type\": \"scatter\", \"x\": [2845.0, 2785.4857142857145, 2725.9714285714285, 2666.457142857143, 2606.942857142857, 2547.4285714285716, 2487.9142857142856, 2428.4, 2368.885714285714, 2309.3714285714286, 2249.8571428571427, 2190.342857142857, 2130.828571428571, 2071.3142857142857, 2011.8], \"y\": [874.4, 876.4157142857142, 878.4314285714286, 880.4471428571428, 882.4628571428572, 884.4785714285714, 886.4942857142858, 888.51, 890.5257142857142, 892.5414285714286, 894.5571428571428, 896.5728571428572, 898.5885714285714, 900.6042857142858, 902.62]}, {\"hoverinfo\": \"text\", \"line\": {\"color\": \"brown\", \"width\": 0.6326456243993493}, \"mode\": \"lines\", \"name\": \"0.6326456243993493\", \"opacity\": 0.6326456243993493, \"text\": \"Edge: ('SimenB', 'sompylasar')    <br>Weight: 0.63\", \"type\": \"scatter\", \"x\": [4108.0, 4134.471428571429, 4160.942857142857, 4187.414285714286, 4213.885714285714, 4240.357142857143, 4266.828571428571, 4293.3, 4319.771428571429, 4346.242857142857, 4372.714285714286, 4399.185714285714, 4425.657142857143, 4452.128571428571, 4478.6], \"y\": [1112.88, 1136.2028571428573, 1159.5257142857145, 1182.8485714285716, 1206.1714285714286, 1229.4942857142858, 1252.817142857143, 1276.14, 1299.4628571428573, 1322.7857142857144, 1346.1085714285716, 1369.4314285714286, 1392.7542857142857, 1416.077142857143, 1439.4]}, {\"hoverinfo\": \"text\", \"line\": {\"color\": \"brown\", \"width\": 0.7034210554503234}, \"mode\": \"lines\", \"name\": \"0.7034210554503234\", \"opacity\": 0.7034210554503234, \"text\": \"Edge: ('philipp-spiess', 'sompylasar')    <br>Weight: 0.7\", \"type\": \"scatter\", \"x\": [5148.4, 5100.557142857143, 5052.714285714285, 5004.871428571429, 4957.028571428571, 4909.185714285714, 4861.342857142857, 4813.5, 4765.657142857143, 4717.814285714286, 4669.971428571429, 4622.128571428571, 4574.285714285715, 4526.442857142857, 4478.6], \"y\": [1614.86, 1602.3271428571427, 1589.7942857142857, 1577.2614285714285, 1564.7285714285713, 1552.1957142857143, 1539.662857142857, 1527.13, 1514.597142857143, 1502.0642857142857, 1489.5314285714287, 1476.9985714285715, 1464.4657142857143, 1451.9328571428573, 1439.4]}, {\"hoverinfo\": \"text\", \"line\": {\"color\": \"brown\", \"width\": 0.603784340975915}, \"mode\": \"lines\", \"name\": \"0.603784340975915\", \"opacity\": 0.603784340975915, \"text\": \"Edge: ('Daniel15', 'fisherwebdev')    <br>Weight: 0.6\", \"type\": \"scatter\", \"x\": [1087.24, 1110.0385714285715, 1132.837142857143, 1155.6357142857144, 1178.4342857142858, 1201.2328571428573, 1224.0314285714285, 1246.83, 1269.6285714285714, 1292.4271428571428, 1315.2257142857143, 1338.0242857142857, 1360.8228571428572, 1383.6214285714286, 1406.42], \"y\": [939.86, 980.5371428571428, 1021.2142857142857, 1061.8914285714286, 1102.5685714285714, 1143.2457142857143, 1183.922857142857, 1224.6, 1265.2771428571427, 1305.9542857142856, 1346.6314285714284, 1387.3085714285712, 1427.985714285714, 1468.6628571428569, 1509.34]}, {\"hoverinfo\": \"text\", \"line\": {\"color\": \"brown\", \"width\": 0.6577912265852228}, \"mode\": \"lines\", \"name\": \"0.6577912265852228\", \"opacity\": 0.6577912265852228, \"text\": \"Edge: ('Daniel15', 'arkist')    <br>Weight: 0.66\", \"type\": \"scatter\", \"x\": [1087.24, 1106.03, 1124.82, 1143.61, 1162.4, 1181.19, 1199.98, 1218.77, 1237.56, 1256.35, 1275.1399999999999, 1293.9299999999998, 1312.72, 1331.51, 1350.3], \"y\": [939.86, 941.7171428571429, 943.5742857142857, 945.4314285714286, 947.2885714285715, 949.1457142857143, 951.0028571428571, 952.86, 954.7171428571429, 956.5742857142857, 958.4314285714286, 960.2885714285715, 962.1457142857143, 964.0028571428571, 965.86]}, {\"hoverinfo\": \"text\", \"line\": {\"color\": \"brown\", \"width\": 0.6080354169991918}, \"mode\": \"lines\", \"name\": \"0.6080354169991918\", \"opacity\": 0.6080354169991918, \"text\": \"Edge: ('Daniel15', 'iamchenxin')    <br>Weight: 0.61\", \"type\": \"scatter\", \"x\": [1087.24, 1083.55, 1079.86, 1076.17, 1072.48, 1068.79, 1065.1, 1061.4099999999999, 1057.72, 1054.03, 1050.34, 1046.6499999999999, 1042.96, 1039.27, 1035.58], \"y\": [939.86, 912.3214285714286, 884.7828571428572, 857.2442857142858, 829.7057142857143, 802.1671428571428, 774.6285714285715, 747.09, 719.5514285714286, 692.0128571428572, 664.4742857142858, 636.9357142857143, 609.3971428571429, 581.8585714285714, 554.32]}, {\"hoverinfo\": \"text\", \"line\": {\"color\": \"brown\", \"width\": 0.9057542432250564}, \"mode\": \"lines\", \"name\": \"0.9057542432250564\", \"opacity\": 0.9057542432250564, \"text\": \"Edge: ('threepointone', 'sompylasar')    <br>Weight: 0.91\", \"type\": \"scatter\", \"x\": [4582.4, 4574.985714285714, 4567.571428571428, 4560.157142857142, 4552.742857142857, 4545.328571428571, 4537.914285714286, 4530.5, 4523.085714285714, 4515.671428571429, 4508.257142857143, 4500.842857142858, 4493.428571428572, 4486.014285714286, 4478.6], \"y\": [1925.68, 1890.9457142857143, 1856.2114285714285, 1821.477142857143, 1786.7428571428572, 1752.0085714285715, 1717.2742857142857, 1682.54, 1647.8057142857144, 1613.0714285714287, 1578.337142857143, 1543.6028571428574, 1508.8685714285716, 1474.1342857142859, 1439.4]}, {\"hoverinfo\": \"text\", \"line\": {\"color\": \"brown\", \"width\": 0.7712126638082482}, \"mode\": \"lines\", \"name\": \"0.7712126638082482\", \"opacity\": 0.7712126638082482, \"text\": \"Edge: ('arkist', 'iamchenxin')    <br>Weight: 0.77\", \"type\": \"scatter\", \"x\": [1350.3, 1327.82, 1305.34, 1282.86, 1260.3799999999999, 1237.8999999999999, 1215.42, 1192.94, 1170.46, 1147.98, 1125.5, 1103.02, 1080.54, 1058.06, 1035.58], \"y\": [965.86, 936.4642857142858, 907.0685714285714, 877.6728571428572, 848.2771428571428, 818.8814285714286, 789.4857142857143, 760.09, 730.6942857142858, 701.2985714285714, 671.9028571428571, 642.5071428571429, 613.1114285714286, 583.7157142857143, 554.32]}, {\"hoverinfo\": \"text\", \"marker\": {\"color\": [21, 13, 11, 11, 6, 5, 7, 8, 8, 6, 4, 5, 3, 6, 5, 3, 5, 2, 1, 1, 5, 4, 6, 6, 1, 1, 7, 1, 3, 5, 1, 2, 9, 0, 3, 5, 1, 10, 1, 2, 0, 3, 1, 9, 7, 4, 9, 4, 6, 3], \"colorbar\": {\"thickness\": 15, \"title\": {\"side\": \"right\", \"text\": \"Adjacency num\"}, \"xanchor\": \"left\"}, \"colorscale\": [[0.0, \"rgb(253, 253, 204)\"], [0.09090909090909091, \"rgb(206, 236, 179)\"], [0.18181818181818182, \"rgb(156, 219, 165)\"], [0.2727272727272727, \"rgb(111, 201, 163)\"], [0.36363636363636365, \"rgb(86, 177, 163)\"], [0.45454545454545453, \"rgb(76, 153, 160)\"], [0.5454545454545454, \"rgb(68, 130, 155)\"], [0.6363636363636364, \"rgb(62, 108, 150)\"], [0.7272727272727273, \"rgb(62, 82, 143)\"], [0.8181818181818182, \"rgb(64, 60, 115)\"], [0.9090909090909091, \"rgb(54, 43, 77)\"], [1.0, \"rgb(39, 26, 44)\"]], \"line\": {\"color\": \"red\", \"width\": 1}, \"showscale\": true, \"size\": [31.168048229088168, 40.0, 19.72871137905049, 21.26601356443105, 13.805576488319517, 32.56970610399397, 12.0, 16.51846269781462, 12.0, 12.0, 12.0, 12.0, 12.0, 12.0, 12.0, 12.0, 12.0, 12.0, 12.0, 12.0, 12.0, 12.0, 12.0, 12.0, 12.0, 12.0, 12.0, 12.0, 12.0, 12.0, 12.0, 12.0, 12.0, 12.0, 12.0, 12.0, 12.0, 12.0, 12.0, 12.0, 12.0, 12.0, 12.0, 12.0, 12.0, 12.0, 12.0, 12.0, 12.0, 12.0]}, \"mode\": \"markers\", \"text\": [\"Username: zpao                     <br>Files changed: 2086                     <br>Activity interval: [2013. 2016.]                     <br>Adjacency num: 21\", \"Username: gaearon                     <br>Files changed: 2672                     <br>Activity interval: [2015. 2021.]                     <br>Adjacency num: 13\", \"Username: bvaughn                     <br>Files changed: 1327                     <br>Activity interval: [2018. 2020.]                     <br>Adjacency num: 11\", \"Username: sophiebits                     <br>Files changed: 1429                     <br>Activity interval: [2013. 2017.]                     <br>Adjacency num: 11\", \"Username: acdlite                     <br>Files changed: 934                     <br>Activity interval: [2015. 2021.]                     <br>Adjacency num: 6\", \"Username: sebmarkbage                     <br>Files changed: 2179                     <br>Activity interval: [2013 2021]                     <br>Adjacency num: 5\", \"Username: jimfb                     <br>Files changed: 489                     <br>Activity interval: [2014. 2016.]                     <br>Adjacency num: 7\", \"Username: trueadm                     <br>Files changed: 1114                     <br>Activity interval: [2017. 2021.]                     <br>Adjacency num: 8\", \"Username: petehunt                     <br>Files changed: 594                     <br>Activity interval: [2013. 2014.]                     <br>Adjacency num: 8\", \"Username: chenglou                     <br>Files changed: 279                     <br>Activity interval: [2013. 2015.]                     <br>Adjacency num: 6\", \"Username: vjeux                     <br>Files changed: 392                     <br>Activity interval: [2013. 2017.]                     <br>Adjacency num: 4\", \"Username: benjamn                     <br>Files changed: 106                     <br>Activity interval: [2013. 2014.]                     <br>Adjacency num: 5\", \"Username: yungsters                     <br>Files changed: 350                     <br>Activity interval: [2013. 2018.]                     <br>Adjacency num: 3\", \"Username: subtleGradient                     <br>Files changed: 70                     <br>Activity interval: [2013. 2014.]                     <br>Adjacency num: 6\", \"Username: nhunzaker                     <br>Files changed: 244                     <br>Activity interval: [2015. 2019.]                     <br>Adjacency num: 5\", \"Username: necolas                     <br>Files changed: 181                     <br>Activity interval: [2019. 2020.]                     <br>Adjacency num: 3\", \"Username: syranide                     <br>Files changed: 99                     <br>Activity interval: [2013. 2015.]                     <br>Adjacency num: 5\", \"Username: cpojer                     <br>Files changed: 213                     <br>Activity interval: [2013. 2018.]                     <br>Adjacency num: 2\", \"Username: flarnie                     <br>Files changed: 139                     <br>Activity interval: [2016. 2018.]                     <br>Adjacency num: 1\", \"Username: koba04                     <br>Files changed: 116                     <br>Activity interval: [2014. 2020.]                     <br>Adjacency num: 1\", \"Username: aweary                     <br>Files changed: 229                     <br>Activity interval: [2016. 2019.]                     <br>Adjacency num: 5\", \"Username: rickhanlonii                     <br>Files changed: 227                     <br>Activity interval: [2019. 2021.]                     <br>Adjacency num: 4\", \"Username: marocchino                     <br>Files changed: 51                     <br>Activity interval: [2015. 2015.]                     <br>Adjacency num: 6\", \"Username: kohei-takata                     <br>Files changed: 43                     <br>Activity interval: [2015. 2015.]                     <br>Adjacency num: 6\", \"Username: lunaruan                     <br>Files changed: 134                     <br>Activity interval: [2019. 2021.]                     <br>Adjacency num: 1\", \"Username: TheSavior                     <br>Files changed: 43                     <br>Activity interval: [2018. 2020.]                     <br>Adjacency num: 1\", \"Username: chicoxyzzy                     <br>Files changed: 118                     <br>Activity interval: [2014. 2016.]                     <br>Adjacency num: 7\", \"Username: keyz                     <br>Files changed: 120                     <br>Activity interval: [2015. 2017.]                     <br>Adjacency num: 1\", \"Username: mcsheffrey                     <br>Files changed: 89                     <br>Activity interval: [2013. 2013.]                     <br>Adjacency num: 3\", \"Username: eps1lon                     <br>Files changed: 108                     <br>Activity interval: [2019. 2021.]                     <br>Adjacency num: 5\", \"Username: bgw                     <br>Files changed: 237                     <br>Activity interval: [2015. 2015.]                     <br>Adjacency num: 1\", \"Username: NE-SmallTown                     <br>Files changed: 22                     <br>Activity interval: [2017. 2020.]                     <br>Adjacency num: 2\", \"Username: joshduck                     <br>Files changed: 25                     <br>Activity interval: [2013. 2014.]                     <br>Adjacency num: 9\", \"Username: aickin                     <br>Files changed: 29                     <br>Activity interval: [2016. 2018.]                     <br>Adjacency num: 0\", \"Username: jquense                     <br>Files changed: 67                     <br>Activity interval: [2015. 2019.]                     <br>Adjacency num: 3\", \"Username: SimenB                     <br>Files changed: 70                     <br>Activity interval: [2015. 2021.]                     <br>Adjacency num: 5\", \"Username: philipp-spiess                     <br>Files changed: 96                     <br>Activity interval: [2017. 2020.]                     <br>Adjacency num: 1\", \"Username: Daniel15                     <br>Files changed: 268                     <br>Activity interval: [2013. 2019.]                     <br>Adjacency num: 10\", \"Username: iamdustan                     <br>Files changed: 98                     <br>Activity interval: [2015. 2019.]                     <br>Adjacency num: 1\", \"Username: threepointone                     <br>Files changed: 169                     <br>Activity interval: [2019. 2020.]                     <br>Adjacency num: 2\", \"Username: Simek                     <br>Files changed: 18                     <br>Activity interval: [2013. 2018.]                     <br>Adjacency num: 0\", \"Username: fisherwebdev                     <br>Files changed: 32                     <br>Activity interval: [2014. 2015.]                     <br>Adjacency num: 3\", \"Username: fabiomcosta                     <br>Files changed: 18                     <br>Activity interval: [2013. 2015.]                     <br>Adjacency num: 1\", \"Username: sompylasar                     <br>Files changed: 46                     <br>Activity interval: [2018. 2020.]                     <br>Adjacency num: 9\", \"Username: jordwalke                     <br>Files changed: 42                     <br>Activity interval: [2013. 2014.]                     <br>Adjacency num: 7\", \"Username: raphamorim                     <br>Files changed: 269                     <br>Activity interval: [2018. 2018.]                     <br>Adjacency num: 4\", \"Username: arkist                     <br>Files changed: 41                     <br>Activity interval: [2015. 2015.]                     <br>Adjacency num: 9\", \"Username: cody                     <br>Files changed: 21                     <br>Activity interval: [2014. 2016.]                     <br>Adjacency num: 4\", \"Username: iamchenxin                     <br>Files changed: 343                     <br>Activity interval: [2015. 2016.]                     <br>Adjacency num: 6\", \"Username: bl00mber                     <br>Files changed: 52                     <br>Activity interval: [2018. 2021.]                     <br>Adjacency num: 3\"], \"type\": \"scatter\", \"x\": [1349.08, 3809.0, 3971.2, 1882.0, 3767.4, 3113.8, 1475.04, 3847.8, 1183.98, 1587.12, 1711.58, 1184.2, 1664.44, 716.42, 3535.6, 4231.2, 1244.62, 1719.74, 5076.4, 562.24, 3439.8, 4285.6, 1002.44, 1280.74, 4226.6, 4245.0, 900.1, 485.56, 1032.18, 4192.2, 706.78, 4684.0, 1372.54, 2440.2, 2845.0, 4108.0, 5148.4, 1087.24, 3687.2, 4582.4, 2874.2, 1406.42, 112.722, 4478.6, 908.78, 3913.2, 1350.3, 2011.8, 1035.58, 4042.0], \"y\": [1168.58, 1400.34, 1727.5, 1272.46, 1560.96, 1443.28, 737.06, 1304.82, 1445.2, 1404.7, 1098.78, 1779.4, 1639.54, 1631.16, 904.32, 1358.92, 1681.42, 852.36, 1325.4, 571.18, 1010.12, 1835.54, 773.22, 596.8, 2295.8, 189.576, 1193.46, 833.14, 1599.78, 1602.78, 35.45, 961.62, 1384.3, 684.6, 874.4, 1112.88, 1614.86, 939.86, 1969.86, 1925.68, 468.6, 1509.34, 1983.06, 1439.4, 1486.06, 720.6, 965.86, 902.62, 554.32, 1928.96]}],                        {\"annotations\": [{\"showarrow\": false, \"text\": \"Params: {'file_coef': 1, 'time_coef': -0.5}, min_value_for_edge: 0.6\", \"x\": 0.005, \"xref\": \"paper\", \"y\": -0.002, \"yref\": \"paper\"}], \"margin\": {\"b\": 20, \"l\": 5, \"r\": 5, \"t\": 40}, \"plot_bgcolor\": \"whitesmoke\", \"showlegend\": false, \"template\": {\"data\": {\"bar\": [{\"error_x\": {\"color\": \"#2a3f5f\"}, \"error_y\": {\"color\": \"#2a3f5f\"}, \"marker\": {\"line\": {\"color\": \"#E5ECF6\", \"width\": 0.5}}, \"type\": \"bar\"}], \"barpolar\": [{\"marker\": {\"line\": {\"color\": \"#E5ECF6\", \"width\": 0.5}}, \"type\": \"barpolar\"}], \"carpet\": [{\"aaxis\": {\"endlinecolor\": \"#2a3f5f\", \"gridcolor\": \"white\", \"linecolor\": \"white\", \"minorgridcolor\": \"white\", \"startlinecolor\": \"#2a3f5f\"}, \"baxis\": {\"endlinecolor\": \"#2a3f5f\", \"gridcolor\": \"white\", \"linecolor\": \"white\", \"minorgridcolor\": \"white\", \"startlinecolor\": \"#2a3f5f\"}, \"type\": \"carpet\"}], \"choropleth\": [{\"colorbar\": {\"outlinewidth\": 0, \"ticks\": \"\"}, \"type\": \"choropleth\"}], \"contour\": [{\"colorbar\": {\"outlinewidth\": 0, \"ticks\": \"\"}, \"colorscale\": [[0.0, \"#0d0887\"], [0.1111111111111111, \"#46039f\"], [0.2222222222222222, \"#7201a8\"], [0.3333333333333333, \"#9c179e\"], [0.4444444444444444, \"#bd3786\"], [0.5555555555555556, \"#d8576b\"], [0.6666666666666666, \"#ed7953\"], [0.7777777777777778, \"#fb9f3a\"], [0.8888888888888888, \"#fdca26\"], [1.0, \"#f0f921\"]], \"type\": \"contour\"}], \"contourcarpet\": [{\"colorbar\": {\"outlinewidth\": 0, \"ticks\": \"\"}, \"type\": \"contourcarpet\"}], \"heatmap\": [{\"colorbar\": {\"outlinewidth\": 0, \"ticks\": \"\"}, \"colorscale\": [[0.0, \"#0d0887\"], [0.1111111111111111, \"#46039f\"], [0.2222222222222222, \"#7201a8\"], [0.3333333333333333, \"#9c179e\"], [0.4444444444444444, \"#bd3786\"], [0.5555555555555556, \"#d8576b\"], [0.6666666666666666, \"#ed7953\"], [0.7777777777777778, \"#fb9f3a\"], [0.8888888888888888, \"#fdca26\"], [1.0, \"#f0f921\"]], \"type\": \"heatmap\"}], \"heatmapgl\": [{\"colorbar\": {\"outlinewidth\": 0, \"ticks\": \"\"}, \"colorscale\": [[0.0, \"#0d0887\"], [0.1111111111111111, \"#46039f\"], [0.2222222222222222, \"#7201a8\"], [0.3333333333333333, \"#9c179e\"], [0.4444444444444444, \"#bd3786\"], [0.5555555555555556, \"#d8576b\"], [0.6666666666666666, \"#ed7953\"], [0.7777777777777778, \"#fb9f3a\"], [0.8888888888888888, \"#fdca26\"], [1.0, \"#f0f921\"]], \"type\": \"heatmapgl\"}], \"histogram\": [{\"marker\": {\"colorbar\": {\"outlinewidth\": 0, \"ticks\": \"\"}}, \"type\": \"histogram\"}], \"histogram2d\": [{\"colorbar\": {\"outlinewidth\": 0, \"ticks\": \"\"}, \"colorscale\": [[0.0, \"#0d0887\"], [0.1111111111111111, \"#46039f\"], [0.2222222222222222, \"#7201a8\"], [0.3333333333333333, \"#9c179e\"], [0.4444444444444444, \"#bd3786\"], [0.5555555555555556, \"#d8576b\"], [0.6666666666666666, \"#ed7953\"], [0.7777777777777778, \"#fb9f3a\"], [0.8888888888888888, \"#fdca26\"], [1.0, \"#f0f921\"]], \"type\": \"histogram2d\"}], \"histogram2dcontour\": [{\"colorbar\": {\"outlinewidth\": 0, \"ticks\": \"\"}, \"colorscale\": [[0.0, \"#0d0887\"], [0.1111111111111111, \"#46039f\"], [0.2222222222222222, \"#7201a8\"], [0.3333333333333333, \"#9c179e\"], [0.4444444444444444, \"#bd3786\"], [0.5555555555555556, \"#d8576b\"], [0.6666666666666666, \"#ed7953\"], [0.7777777777777778, \"#fb9f3a\"], [0.8888888888888888, \"#fdca26\"], [1.0, \"#f0f921\"]], \"type\": \"histogram2dcontour\"}], \"mesh3d\": [{\"colorbar\": {\"outlinewidth\": 0, \"ticks\": \"\"}, \"type\": \"mesh3d\"}], \"parcoords\": [{\"line\": {\"colorbar\": {\"outlinewidth\": 0, \"ticks\": \"\"}}, \"type\": \"parcoords\"}], \"pie\": [{\"automargin\": true, \"type\": \"pie\"}], \"scatter\": [{\"marker\": {\"colorbar\": {\"outlinewidth\": 0, \"ticks\": \"\"}}, \"type\": \"scatter\"}], \"scatter3d\": [{\"line\": {\"colorbar\": {\"outlinewidth\": 0, \"ticks\": \"\"}}, \"marker\": {\"colorbar\": {\"outlinewidth\": 0, \"ticks\": \"\"}}, \"type\": \"scatter3d\"}], \"scattercarpet\": [{\"marker\": {\"colorbar\": {\"outlinewidth\": 0, \"ticks\": \"\"}}, \"type\": \"scattercarpet\"}], \"scattergeo\": [{\"marker\": {\"colorbar\": {\"outlinewidth\": 0, \"ticks\": \"\"}}, \"type\": \"scattergeo\"}], \"scattergl\": [{\"marker\": {\"colorbar\": {\"outlinewidth\": 0, \"ticks\": \"\"}}, \"type\": \"scattergl\"}], \"scattermapbox\": [{\"marker\": {\"colorbar\": {\"outlinewidth\": 0, \"ticks\": \"\"}}, \"type\": \"scattermapbox\"}], \"scatterpolar\": [{\"marker\": {\"colorbar\": {\"outlinewidth\": 0, \"ticks\": \"\"}}, \"type\": \"scatterpolar\"}], \"scatterpolargl\": [{\"marker\": {\"colorbar\": {\"outlinewidth\": 0, \"ticks\": \"\"}}, \"type\": \"scatterpolargl\"}], \"scatterternary\": [{\"marker\": {\"colorbar\": {\"outlinewidth\": 0, \"ticks\": \"\"}}, \"type\": \"scatterternary\"}], \"surface\": [{\"colorbar\": {\"outlinewidth\": 0, \"ticks\": \"\"}, \"colorscale\": [[0.0, \"#0d0887\"], [0.1111111111111111, \"#46039f\"], [0.2222222222222222, \"#7201a8\"], [0.3333333333333333, \"#9c179e\"], [0.4444444444444444, \"#bd3786\"], [0.5555555555555556, \"#d8576b\"], [0.6666666666666666, \"#ed7953\"], [0.7777777777777778, \"#fb9f3a\"], [0.8888888888888888, \"#fdca26\"], [1.0, \"#f0f921\"]], \"type\": \"surface\"}], \"table\": [{\"cells\": {\"fill\": {\"color\": \"#EBF0F8\"}, \"line\": {\"color\": \"white\"}}, \"header\": {\"fill\": {\"color\": \"#C8D4E3\"}, \"line\": {\"color\": \"white\"}}, \"type\": \"table\"}]}, \"layout\": {\"annotationdefaults\": {\"arrowcolor\": \"#2a3f5f\", \"arrowhead\": 0, \"arrowwidth\": 1}, \"autotypenumbers\": \"strict\", \"coloraxis\": {\"colorbar\": {\"outlinewidth\": 0, \"ticks\": \"\"}}, \"colorscale\": {\"diverging\": [[0, \"#8e0152\"], [0.1, \"#c51b7d\"], [0.2, \"#de77ae\"], [0.3, \"#f1b6da\"], [0.4, \"#fde0ef\"], [0.5, \"#f7f7f7\"], [0.6, \"#e6f5d0\"], [0.7, \"#b8e186\"], [0.8, \"#7fbc41\"], [0.9, \"#4d9221\"], [1, \"#276419\"]], \"sequential\": [[0.0, \"#0d0887\"], [0.1111111111111111, \"#46039f\"], [0.2222222222222222, \"#7201a8\"], [0.3333333333333333, \"#9c179e\"], [0.4444444444444444, \"#bd3786\"], [0.5555555555555556, \"#d8576b\"], [0.6666666666666666, \"#ed7953\"], [0.7777777777777778, \"#fb9f3a\"], [0.8888888888888888, \"#fdca26\"], [1.0, \"#f0f921\"]], \"sequentialminus\": [[0.0, \"#0d0887\"], [0.1111111111111111, \"#46039f\"], [0.2222222222222222, \"#7201a8\"], [0.3333333333333333, \"#9c179e\"], [0.4444444444444444, \"#bd3786\"], [0.5555555555555556, \"#d8576b\"], [0.6666666666666666, \"#ed7953\"], [0.7777777777777778, \"#fb9f3a\"], [0.8888888888888888, \"#fdca26\"], [1.0, \"#f0f921\"]]}, \"colorway\": [\"#636efa\", \"#EF553B\", \"#00cc96\", \"#ab63fa\", \"#FFA15A\", \"#19d3f3\", \"#FF6692\", \"#B6E880\", \"#FF97FF\", \"#FECB52\"], \"font\": {\"color\": \"#2a3f5f\"}, \"geo\": {\"bgcolor\": \"white\", \"lakecolor\": \"white\", \"landcolor\": \"#E5ECF6\", \"showlakes\": true, \"showland\": true, \"subunitcolor\": \"white\"}, \"hoverlabel\": {\"align\": \"left\"}, \"hovermode\": \"closest\", \"mapbox\": {\"style\": \"light\"}, \"paper_bgcolor\": \"white\", \"plot_bgcolor\": \"#E5ECF6\", \"polar\": {\"angularaxis\": {\"gridcolor\": \"white\", \"linecolor\": \"white\", \"ticks\": \"\"}, \"bgcolor\": \"#E5ECF6\", \"radialaxis\": {\"gridcolor\": \"white\", \"linecolor\": \"white\", \"ticks\": \"\"}}, \"scene\": {\"xaxis\": {\"backgroundcolor\": \"#E5ECF6\", \"gridcolor\": \"white\", \"gridwidth\": 2, \"linecolor\": \"white\", \"showbackground\": true, \"ticks\": \"\", \"zerolinecolor\": \"white\"}, \"yaxis\": {\"backgroundcolor\": \"#E5ECF6\", \"gridcolor\": \"white\", \"gridwidth\": 2, \"linecolor\": \"white\", \"showbackground\": true, \"ticks\": \"\", \"zerolinecolor\": \"white\"}, \"zaxis\": {\"backgroundcolor\": \"#E5ECF6\", \"gridcolor\": \"white\", \"gridwidth\": 2, \"linecolor\": \"white\", \"showbackground\": true, \"ticks\": \"\", \"zerolinecolor\": \"white\"}}, \"shapedefaults\": {\"line\": {\"color\": \"#2a3f5f\"}}, \"ternary\": {\"aaxis\": {\"gridcolor\": \"white\", \"linecolor\": \"white\", \"ticks\": \"\"}, \"baxis\": {\"gridcolor\": \"white\", \"linecolor\": \"white\", \"ticks\": \"\"}, \"bgcolor\": \"#E5ECF6\", \"caxis\": {\"gridcolor\": \"white\", \"linecolor\": \"white\", \"ticks\": \"\"}}, \"title\": {\"x\": 0.05}, \"xaxis\": {\"automargin\": true, \"gridcolor\": \"white\", \"linecolor\": \"white\", \"ticks\": \"\", \"title\": {\"standoff\": 15}, \"zerolinecolor\": \"white\", \"zerolinewidth\": 2}, \"yaxis\": {\"automargin\": true, \"gridcolor\": \"white\", \"linecolor\": \"white\", \"ticks\": \"\", \"title\": {\"standoff\": 15}, \"zerolinecolor\": \"white\", \"zerolinewidth\": 2}}}, \"title\": {\"font\": {\"size\": 16}, \"text\": \"Social graph of React developers\"}, \"xaxis\": {\"showgrid\": false, \"showticklabels\": false, \"zeroline\": false}, \"yaxis\": {\"showgrid\": false, \"showticklabels\": false, \"zeroline\": false}},                        {\"responsive\": true}                    ).then(function(){\n",
       "                            \n",
       "var gd = document.getElementById('d26084ce-9feb-4cf1-b233-0e6eabf88429');\n",
       "var x = new MutationObserver(function (mutations, observer) {{\n",
       "        var display = window.getComputedStyle(gd).display;\n",
       "        if (!display || display === 'none') {{\n",
       "            console.log([gd, 'removed!']);\n",
       "            Plotly.purge(gd);\n",
       "            observer.disconnect();\n",
       "        }}\n",
       "}});\n",
       "\n",
       "// Listen for the removal of the full notebook cells\n",
       "var notebookContainer = gd.closest('#notebook-container');\n",
       "if (notebookContainer) {{\n",
       "    x.observe(notebookContainer, {childList: true});\n",
       "}}\n",
       "\n",
       "// Listen for the clearing of the current output cell\n",
       "var outputEl = gd.closest('.output');\n",
       "if (outputEl) {{\n",
       "    x.observe(outputEl, {childList: true});\n",
       "}}\n",
       "\n",
       "                        })                };                });            </script>        </div>"
      ]
     },
     "metadata": {},
     "output_type": "display_data"
    }
   ],
   "source": [
    "fig = go.Figure(trace,\n",
    "                layout=go.Layout(\n",
    "                plot_bgcolor='whitesmoke',\n",
    "                title='Social graph of React developers',\n",
    "                titlefont_size=16,\n",
    "                showlegend=False,\n",
    "                margin=dict(b=20,l=5,r=5,t=40),\n",
    "                annotations=[ dict(\n",
    "                    text=f\"Params: {weights_params}, min_value_for_edge: {min_value_for_edge}\",\n",
    "                    showarrow=False,\n",
    "                    xref=\"paper\", yref=\"paper\",\n",
    "                    x=0.005, y=-0.002 ) ],\n",
    "                xaxis=dict(showgrid=False, zeroline=False, showticklabels=False),\n",
    "                yaxis=dict(showgrid=False, zeroline=False, showticklabels=False)))\n",
    "\n",
    "fig"
   ]
  },
  {
   "cell_type": "code",
   "execution_count": null,
   "id": "going-cherry",
   "metadata": {},
   "outputs": [],
   "source": []
  },
  {
   "cell_type": "code",
   "execution_count": null,
   "id": "rising-recruitment",
   "metadata": {},
   "outputs": [],
   "source": []
  }
 ],
 "metadata": {
  "kernelspec": {
   "display_name": "Python 3",
   "language": "python",
   "name": "python3"
  },
  "language_info": {
   "codemirror_mode": {
    "name": "ipython",
    "version": 3
   },
   "file_extension": ".py",
   "mimetype": "text/x-python",
   "name": "python",
   "nbconvert_exporter": "python",
   "pygments_lexer": "ipython3",
   "version": "3.7.4"
  }
 },
 "nbformat": 4,
 "nbformat_minor": 5
}

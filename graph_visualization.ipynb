{
 "cells": [
  {
   "cell_type": "markdown",
   "id": "skilled-circuit",
   "metadata": {},
   "source": [
    "# Developer social graph vizualization"
   ]
  },
  {
   "cell_type": "markdown",
   "id": "boolean-algorithm",
   "metadata": {},
   "source": [
    "This code builds and visualizes the social graph of developers based on data in .csv format  \n",
    "\n",
    "* **Networkx** is used to create and process the graph  \n",
    "* **Plotly** is used for visualization. It can be combined with the Dash web framework"
   ]
  },
  {
   "cell_type": "markdown",
   "id": "hollow-carter",
   "metadata": {},
   "source": [
    "## 1) Import, helper functions and constants defining"
   ]
  },
  {
   "cell_type": "code",
   "execution_count": 331,
   "id": "designed-trigger",
   "metadata": {},
   "outputs": [],
   "source": [
    "import plotly.graph_objects as go\n",
    "import plotly.express as px\n",
    "import pandas as pd\n",
    "import networkx as nx\n",
    "import numpy as np\n",
    "from itertools import combinations\n",
    "from sklearn import preprocessing\n",
    "from ast import literal_eval as le\n",
    "import math\n",
    "\n",
    "\n",
    "# Parameters:\n",
    "min_value_for_edge = 0.6\n",
    "weights_params = {'file_coef': 1, 'time_coef': -0.5}  # Parameters for edges creating\n",
    "node_size_coef, edge_width_coef = 40, 1\n",
    "\n",
    "# Constants:\n",
    "first_date = [2013, 5, 26]  # repository was created (min date)\n",
    "last_date = [2021, 4, 7]  # data was loaded (max date)\n",
    "users_filename = 'data/users/users.csv'  # A file that contains information about developers\n",
    "changes_path = 'data/changes/'  # Information about changes in files from each developer\n",
    "commits_path = 'data/commits/'  # Information about commits of developers\n",
    "\n",
    "# Helper functions\n",
    "def min_max(iterable):\n",
    "    # minmax normalization\n",
    "    m, M = min(iterable), max(iterable)\n",
    "    denominator = (M - m)\n",
    "    return list(map(lambda x: (x - m) / denominator, iterable))\n",
    "\n",
    "def get_min_max(m: float, M: float):\n",
    "    # Returns minmax function for non iterable object (it should be used in map function)\n",
    "    denominator = (M - m)\n",
    "    return lambda x: (x - m) / denominator\n",
    "\n",
    "def get_interval(sigmas_num: float, data):\n",
    "    # Returns (mean - std, mean + std) interval\n",
    "    sigma = np.std(data) * sigmas_num\n",
    "    mean = np.mean(data)\n",
    "    return np.array([max(mean - sigma, 0), min(mean + sigma, 1)])"
   ]
  },
  {
   "cell_type": "markdown",
   "id": "copyrighted-sussex",
   "metadata": {},
   "source": [
    "## 2) Graph creating"
   ]
  },
  {
   "cell_type": "code",
   "execution_count": 332,
   "id": "demanding-scene",
   "metadata": {},
   "outputs": [],
   "source": [
    "G = nx.Graph()\n",
    "\n",
    "users = pd.read_csv(users_filename)['login']\n",
    "G.add_nodes_from(users)"
   ]
  },
  {
   "cell_type": "markdown",
   "id": "sustainable-malaysia",
   "metadata": {},
   "source": [
    "## 3) Data proccessing"
   ]
  },
  {
   "cell_type": "code",
   "execution_count": 333,
   "id": "false-integral",
   "metadata": {},
   "outputs": [],
   "source": [
    "# Weights creating:\n",
    "edges = [edge for edge in combinations(users, 2)]  # Pairs of users"
   ]
  },
  {
   "cell_type": "markdown",
   "id": "actual-maldives",
   "metadata": {},
   "source": [
    "### 3.1) Data loading, parsing and converting in *pre-feature* condition"
   ]
  },
  {
   "cell_type": "code",
   "execution_count": 334,
   "id": "subject-aside",
   "metadata": {},
   "outputs": [],
   "source": [
    "# Files intersections:\n",
    "users_changes = dict()\n",
    "files_frequency = dict()\n",
    "for user in users:\n",
    "    users_changes[user] = set(pd.read_csv(changes_path + user + '_files.csv')['filename'])  # Load changes and link them with author\n",
    "    for file in users_changes[user]:\n",
    "        files_frequency[file] = files_frequency.get(file, 0) + 1  # Count frequency to reduce the impact of popular files(like tests, docx or readme)\n",
    "\n",
    "        \n",
    "# Dates intersections:\n",
    "to_days = lambda x: round(x[0] * 365.25 + x[1] * 30 + x[2])  # approximate number of days since the birth of Christ\n",
    "custom_min_max = get_min_max(to_days(first_date), to_days(last_date))\n",
    "\n",
    "main_activity_interval = dict()\n",
    "for user in users:\n",
    "    commits_in_str = list(pd.read_csv(commits_path + user + '_commits.csv')['commit'])  # Long string from the file\n",
    "    commits_in_dict = list(map(le, commits_in_str))  # ---------------------------------- Dictionary representation\n",
    "    times = list(map(lambda x: x['author']['date'], commits_in_dict))  # ---------------- Get time: ---------------- 2019-08-29T23:04:47Z\n",
    "    dates = list(map(lambda x: x.split('T')[0], times))  # ------------------------------ Just date: --------------- 2019-08-29T23:04:47Z -> 2019-08-29\n",
    "    splited_dates = list(map(lambda x: [int(elem) for elem in x.split('-')], dates))  # - Date in a convenient form: 2019-08-29 -> [2019, 8, 29]\n",
    "    date_in_days = list(map(to_days, splited_dates))  # --------------------------------- Date in days form: ------- [2019, 8, 29] -> 737709\n",
    "    normilized_date = list(map(custom_min_max, date_in_days))\n",
    "    main_activity_interval[user] = get_interval(2, normilized_date)\n"
   ]
  },
  {
   "cell_type": "markdown",
   "id": "forbidden-irrigation",
   "metadata": {},
   "source": [
    "### 3.2) Feature creating"
   ]
  },
  {
   "cell_type": "code",
   "execution_count": 335,
   "id": "forced-press",
   "metadata": {},
   "outputs": [],
   "source": [
    "features_matrix = list()\n",
    "# Files feature:\n",
    "file_feature = list()\n",
    "for edge in edges:\n",
    "    files_intersection = users_changes[edge[0]].intersection(users_changes[edge[1]])  # Overlapping files for a pair of developers\n",
    "    if files_intersection:\n",
    "        file_feature.append(len(files_intersection) / sum([files_frequency[file] for file in files_intersection]))  # Remember about the frequency of files from prev block\n",
    "    else:\n",
    "        file_feature.append(0)  # No intersections = no links\n",
    "                                                             \n",
    "features_matrix.append(min_max(file_feature))\n",
    "                       \n",
    "    \n",
    "# Time feature:\n",
    "time_feature = list()\n",
    "for edge in edges:\n",
    "    time_intersection = np.absolute(main_activity_interval[edge[0]] - main_activity_interval[edge[1]])\n",
    "    time_feature.append(sum(time_intersection))\n",
    "                                                        \n",
    "features_matrix.append(min_max(time_feature))"
   ]
  },
  {
   "cell_type": "markdown",
   "id": "continental-washer",
   "metadata": {},
   "source": [
    "## 4) Adding fetures in graph"
   ]
  },
  {
   "cell_type": "code",
   "execution_count": 336,
   "id": "informative-asset",
   "metadata": {},
   "outputs": [],
   "source": [
    "# Weights creating:\n",
    "weights_vector = np.array(list(weights_params.values())).dot(np.array(features_matrix))  # Ax = b, where A - feature\n",
    "                                                         \n",
    "# Weights normalization:\n",
    "normilized_weights = min_max(weights_vector)\n",
    "    \n",
    "# Edges creating:\n",
    "for pair in zip(edges, normilized_weights):\n",
    "    edge, weight = pair\n",
    "    if weight > min_value_for_edge:  # Сheck discards minor links from the graff\n",
    "        G.add_edge(edge[0], edge[1], weight=weight)"
   ]
  },
  {
   "cell_type": "markdown",
   "id": "intimate-slovakia",
   "metadata": {},
   "source": [
    "## 5) Graph rendering"
   ]
  },
  {
   "cell_type": "code",
   "execution_count": 337,
   "id": "binary-bonus",
   "metadata": {},
   "outputs": [],
   "source": [
    "pos = nx.drawing.nx_agraph.graphviz_layout(G, prog='fdp')  # Nodes positions\n",
    "trace = []  # Traces container"
   ]
  },
  {
   "cell_type": "markdown",
   "id": "brief-satellite",
   "metadata": {},
   "source": [
    "### 5.1) Edge proccessing"
   ]
  },
  {
   "cell_type": "code",
   "execution_count": 338,
   "id": "amino-repository",
   "metadata": {},
   "outputs": [],
   "source": [
    "for edge in G.edges():\n",
    "    x0, y0 = pos[edge[0]]\n",
    "    x1, y1 = pos[edge[1]]\n",
    "    x=np.linspace(x0*2, x1*2, 15)\n",
    "    y=np.linspace(y0*2, y1*2, 15)\n",
    "    # x=tuple([x0*2, x1*2, None]), y=tuple([y0*2, y1*2, None]),\n",
    "    weight = G.edges[edge]['weight']\n",
    "    edge_trace = go.Scatter(x=x, y=y,\n",
    "                            opacity=weight,\n",
    "                            name=str(weight),\n",
    "                            hoverinfo='text',\n",
    "                            mode='lines',\n",
    "                            line={'width': weight * edge_width_coef, 'color': 'brown'})\n",
    "    edge_trace.text = \\\n",
    "    f'Edge: {edge}\\\n",
    "    <br>Weight: {round(weight, 2)}'\n",
    "    \n",
    "    trace.append(edge_trace)\n",
    "    \n",
    "    "
   ]
  },
  {
   "cell_type": "markdown",
   "id": "clinical-calgary",
   "metadata": {},
   "source": [
    "### 5.2) Nodes proccessing"
   ]
  },
  {
   "cell_type": "code",
   "execution_count": 339,
   "id": "exclusive-transportation",
   "metadata": {},
   "outputs": [],
   "source": [
    "node_x = []\n",
    "node_y = []\n",
    "for node in G.nodes():\n",
    "    x, y = pos[node]\n",
    "    node_x.append(x*2)\n",
    "    node_y.append(y*2)\n",
    "    \n",
    "# Creating sizes for nodes\n",
    "size_list = list(map(len, users_changes.values()))\n",
    "normilized_sizes = np.array(list(map(lambda x: max(0.3, x), min_max(size_list))))\n",
    "\n",
    "node_trace = go.Scatter(\n",
    "    x=node_x, y=node_y,\n",
    "    mode='markers',\n",
    "    hoverinfo='text',\n",
    "    marker=dict(\n",
    "        showscale=True,\n",
    "        colorscale='deep',\n",
    "        size=normilized_sizes * node_size_coef,\n",
    "        colorbar=dict(\n",
    "            thickness=15,\n",
    "            title='Adjacency num',\n",
    "            xanchor='left',\n",
    "            titleside='right'\n",
    "        ),\n",
    "        line_width=1, line_color='red'))\n",
    "\n",
    "trace.append(node_trace)\n",
    "\n",
    "# Hover label creating:\n",
    "node_adjacencies = []\n",
    "node_text = []\n",
    "for node, adjacencies in enumerate(G.adjacency()):\n",
    "    node_adjacencies.append(len(adjacencies[1]))\n",
    "    node_text.append(f'Username: {adjacencies[0]}\\\n",
    "                     <br>Files changed: {len(users_changes[adjacencies[0]])}\\\n",
    "                     <br>Activity interval: {np.round(main_activity_interval[adjacencies[0]] * (last_date[0] - first_date[0]) + first_date[0])}\\\n",
    "                     <br>Adjacency num: {len(adjacencies[1])}')\n",
    "\n",
    "# Hover label adding:\n",
    "node_trace.marker.color = node_adjacencies\n",
    "node_trace.text = node_text"
   ]
  },
  {
   "cell_type": "markdown",
   "id": "premier-bidding",
   "metadata": {},
   "source": [
    "### 5.3) Figure creating and rendering"
   ]
  },
  {
   "cell_type": "code",
   "execution_count": 340,
   "id": "middle-procurement",
   "metadata": {},
   "outputs": [
    {
     "data": {
      "application/vnd.plotly.v1+json": {
       "config": {
        "plotlyServerURL": "https://plot.ly"
       },
       "data": [
        {
         "hoverinfo": "text",
         "line": {
          "color": "brown",
          "width": 0.721866504926751
         },
         "mode": "lines",
         "name": "0.721866504926751",
         "opacity": 0.721866504926751,
         "text": "Edge: ('zpao', 'sophiebits')    <br>Weight: 0.72",
         "type": "scatter",
         "x": [
          1177.74,
          1210.3828571428571,
          1243.0257142857142,
          1275.6685714285713,
          1308.3114285714287,
          1340.9542857142858,
          1373.597142857143,
          1406.24,
          1438.8828571428571,
          1471.5257142857145,
          1504.1685714285713,
          1536.8114285714287,
          1569.4542857142858,
          1602.097142857143,
          1634.74
         ],
         "y": [
          1351.8,
          1355.75,
          1359.7,
          1363.6499999999999,
          1367.6,
          1371.55,
          1375.5,
          1379.4499999999998,
          1383.3999999999999,
          1387.35,
          1391.3,
          1395.25,
          1399.1999999999998,
          1403.1499999999999,
          1407.1
         ]
        },
        {
         "hoverinfo": "text",
         "line": {
          "color": "brown",
          "width": 0.6730728622454369
         },
         "mode": "lines",
         "name": "0.6730728622454369",
         "opacity": 0.6730728622454369,
         "text": "Edge: ('zpao', 'jimfb')    <br>Weight: 0.67",
         "type": "scatter",
         "x": [
          1177.74,
          1183.08,
          1188.42,
          1193.76,
          1199.1,
          1204.44,
          1209.78,
          1215.12,
          1220.46,
          1225.8,
          1231.14,
          1236.48,
          1241.82,
          1247.16,
          1252.5
         ],
         "y": [
          1351.8,
          1370.402857142857,
          1389.0057142857142,
          1407.6085714285714,
          1426.2114285714285,
          1444.8142857142857,
          1463.4171428571428,
          1482.02,
          1500.6228571428571,
          1519.2257142857143,
          1537.8285714285714,
          1556.4314285714286,
          1575.0342857142857,
          1593.6371428571429,
          1612.24
         ]
        },
        {
         "hoverinfo": "text",
         "line": {
          "color": "brown",
          "width": 0.7980304576724391
         },
         "mode": "lines",
         "name": "0.7980304576724391",
         "opacity": 0.7980304576724391,
         "text": "Edge: ('zpao', 'petehunt')    <br>Weight: 0.8",
         "type": "scatter",
         "x": [
          1177.74,
          1174.88,
          1172.02,
          1169.16,
          1166.3,
          1163.44,
          1160.58,
          1157.72,
          1154.8600000000001,
          1152,
          1149.14,
          1146.28,
          1143.42,
          1140.56,
          1137.7
         ],
         "y": [
          1351.8,
          1331.1514285714286,
          1310.502857142857,
          1289.8542857142857,
          1269.2057142857143,
          1248.557142857143,
          1227.9085714285713,
          1207.26,
          1186.6114285714286,
          1165.962857142857,
          1145.3142857142857,
          1124.6657142857143,
          1104.017142857143,
          1083.3685714285714,
          1062.72
         ]
        },
        {
         "hoverinfo": "text",
         "line": {
          "color": "brown",
          "width": 0.6759632329197748
         },
         "mode": "lines",
         "name": "0.6759632329197748",
         "opacity": 0.6759632329197748,
         "text": "Edge: ('zpao', 'chenglou')    <br>Weight: 0.68",
         "type": "scatter",
         "x": [
          1177.74,
          1167.6785714285716,
          1157.6171428571429,
          1147.5557142857142,
          1137.4942857142858,
          1127.4328571428573,
          1117.3714285714286,
          1107.31,
          1097.2485714285715,
          1087.187142857143,
          1077.1257142857144,
          1067.0642857142857,
          1057.0028571428572,
          1046.9414285714288,
          1036.88
         ],
         "y": [
          1351.8,
          1345.32,
          1338.84,
          1332.36,
          1325.8799999999999,
          1319.3999999999999,
          1312.9199999999998,
          1306.44,
          1299.96,
          1293.48,
          1287,
          1280.52,
          1274.04,
          1267.56,
          1261.08
         ]
        },
        {
         "hoverinfo": "text",
         "line": {
          "color": "brown",
          "width": 0.6576017037405144
         },
         "mode": "lines",
         "name": "0.6576017037405144",
         "opacity": 0.6576017037405144,
         "text": "Edge: ('zpao', 'vjeux')    <br>Weight: 0.66",
         "type": "scatter",
         "x": [
          1177.74,
          1206.517142857143,
          1235.2942857142857,
          1264.0714285714284,
          1292.8485714285714,
          1321.6257142857144,
          1350.402857142857,
          1379.1799999999998,
          1407.9571428571428,
          1436.7342857142858,
          1465.5114285714285,
          1494.2885714285712,
          1523.0657142857142,
          1551.8428571428572,
          1580.62
         ],
         "y": [
          1351.8,
          1333.8614285714286,
          1315.922857142857,
          1297.9842857142858,
          1280.0457142857142,
          1262.107142857143,
          1244.1685714285713,
          1226.23,
          1208.2914285714287,
          1190.3528571428571,
          1172.4142857142858,
          1154.4757142857143,
          1136.537142857143,
          1118.5985714285716,
          1100.66
         ]
        },
        {
         "hoverinfo": "text",
         "line": {
          "color": "brown",
          "width": 0.6787780236818317
         },
         "mode": "lines",
         "name": "0.6787780236818317",
         "opacity": 0.6787780236818317,
         "text": "Edge: ('zpao', 'benjamn')    <br>Weight: 0.68",
         "type": "scatter",
         "x": [
          1177.74,
          1171.1385714285714,
          1164.537142857143,
          1157.9357142857143,
          1151.3342857142857,
          1144.732857142857,
          1138.1314285714286,
          1131.53,
          1124.9285714285713,
          1118.327142857143,
          1111.7257142857143,
          1105.1242857142856,
          1098.522857142857,
          1091.9214285714286,
          1085.32
         ],
         "y": [
          1351.8,
          1311.152857142857,
          1270.5057142857142,
          1229.8585714285714,
          1189.2114285714285,
          1148.5642857142857,
          1107.9171428571428,
          1067.27,
          1026.6228571428571,
          985.9757142857143,
          945.3285714285714,
          904.6814285714286,
          864.0342857142857,
          823.3871428571429,
          782.74
         ]
        },
        {
         "hoverinfo": "text",
         "line": {
          "color": "brown",
          "width": 0.8236385310379191
         },
         "mode": "lines",
         "name": "0.8236385310379191",
         "opacity": 0.8236385310379191,
         "text": "Edge: ('zpao', 'yungsters')    <br>Weight: 0.82",
         "type": "scatter",
         "x": [
          1177.74,
          1194.5785714285714,
          1211.4171428571428,
          1228.2557142857142,
          1245.0942857142857,
          1261.932857142857,
          1278.7714285714287,
          1295.6100000000001,
          1312.4485714285715,
          1329.287142857143,
          1346.1257142857144,
          1362.9642857142858,
          1379.8028571428572,
          1396.6414285714286,
          1413.48
         ],
         "y": [
          1351.8,
          1331.3528571428571,
          1310.9057142857143,
          1290.4585714285713,
          1270.0114285714285,
          1249.5642857142857,
          1229.1171428571429,
          1208.67,
          1188.222857142857,
          1167.7757142857142,
          1147.3285714285714,
          1126.8814285714286,
          1106.4342857142856,
          1085.9871428571428,
          1065.54
         ]
        },
        {
         "hoverinfo": "text",
         "line": {
          "color": "brown",
          "width": 0.6468822877047982
         },
         "mode": "lines",
         "name": "0.6468822877047982",
         "opacity": 0.6468822877047982,
         "text": "Edge: ('zpao', 'subtleGradient')    <br>Weight: 0.65",
         "type": "scatter",
         "x": [
          1177.74,
          1140.8871428571429,
          1104.0342857142857,
          1067.1814285714286,
          1030.3285714285714,
          993.4757142857143,
          956.6228571428571,
          919.77,
          882.9171428571428,
          846.0642857142857,
          809.2114285714285,
          772.3585714285714,
          735.5057142857142,
          698.6528571428571,
          661.8
         ],
         "y": [
          1351.8,
          1318.4071428571428,
          1285.0142857142857,
          1251.6214285714286,
          1218.2285714285713,
          1184.8357142857142,
          1151.442857142857,
          1118.05,
          1084.6571428571428,
          1051.2642857142855,
          1017.8714285714285,
          984.4785714285713,
          951.0857142857142,
          917.6928571428571,
          884.3
         ]
        },
        {
         "hoverinfo": "text",
         "line": {
          "color": "brown",
          "width": 0.6446083235864589
         },
         "mode": "lines",
         "name": "0.6446083235864589",
         "opacity": 0.6446083235864589,
         "text": "Edge: ('zpao', 'syranide')    <br>Weight: 0.64",
         "type": "scatter",
         "x": [
          1177.74,
          1155.692857142857,
          1133.6457142857143,
          1111.5985714285714,
          1089.5514285714287,
          1067.5042857142857,
          1045.4571428571428,
          1023.4100000000001,
          1001.3628571428571,
          979.3157142857143,
          957.2685714285715,
          935.2214285714285,
          913.1742857142858,
          891.1271428571429,
          869.08
         ],
         "y": [
          1351.8,
          1326.9457142857143,
          1302.0914285714284,
          1277.2371428571428,
          1252.3828571428571,
          1227.5285714285715,
          1202.6742857142858,
          1177.82,
          1152.9657142857143,
          1128.1114285714286,
          1103.2571428571428,
          1078.402857142857,
          1053.5485714285714,
          1028.6942857142858,
          1003.84
         ]
        },
        {
         "hoverinfo": "text",
         "line": {
          "color": "brown",
          "width": 0.6249196275914777
         },
         "mode": "lines",
         "name": "0.6249196275914777",
         "opacity": 0.6249196275914777,
         "text": "Edge: ('zpao', 'cpojer')    <br>Weight: 0.62",
         "type": "scatter",
         "x": [
          1177.74,
          1201.5728571428572,
          1225.4057142857143,
          1249.2385714285715,
          1273.0714285714287,
          1296.9042857142858,
          1320.7371428571428,
          1344.5700000000002,
          1368.402857142857,
          1392.2357142857143,
          1416.0685714285714,
          1439.9014285714286,
          1463.7342857142858,
          1487.567142857143,
          1511.4
         ],
         "y": [
          1351.8,
          1373.8257142857142,
          1395.8514285714286,
          1417.8771428571429,
          1439.902857142857,
          1461.9285714285713,
          1483.9542857142858,
          1505.98,
          1528.0057142857142,
          1550.0314285714285,
          1572.057142857143,
          1594.0828571428572,
          1616.1085714285714,
          1638.1342857142859,
          1660.16
         ]
        },
        {
         "hoverinfo": "text",
         "line": {
          "color": "brown",
          "width": 0.7214208481489884
         },
         "mode": "lines",
         "name": "0.7214208481489884",
         "opacity": 0.7214208481489884,
         "text": "Edge: ('zpao', 'marocchino')    <br>Weight: 0.72",
         "type": "scatter",
         "x": [
          1177.74,
          1153.4542857142858,
          1129.1685714285713,
          1104.8828571428571,
          1080.597142857143,
          1056.3114285714287,
          1032.0257142857142,
          1007.74,
          983.4542857142858,
          959.1685714285715,
          934.8828571428571,
          910.5971428571429,
          886.3114285714286,
          862.0257142857142,
          837.74
         ],
         "y": [
          1351.8,
          1371.2671428571427,
          1390.7342857142858,
          1410.2014285714286,
          1429.6685714285713,
          1449.1357142857141,
          1468.6028571428571,
          1488.07,
          1507.5371428571427,
          1527.0042857142857,
          1546.4714285714285,
          1565.9385714285713,
          1585.405714285714,
          1604.8728571428571,
          1624.34
         ]
        },
        {
         "hoverinfo": "text",
         "line": {
          "color": "brown",
          "width": 0.6907012468238405
         },
         "mode": "lines",
         "name": "0.6907012468238405",
         "opacity": 0.6907012468238405,
         "text": "Edge: ('zpao', 'kohei-takata')    <br>Weight: 0.69",
         "type": "scatter",
         "x": [
          1177.74,
          1160.0085714285715,
          1142.277142857143,
          1124.5457142857142,
          1106.8142857142857,
          1089.0828571428572,
          1071.3514285714286,
          1053.62,
          1035.8885714285714,
          1018.1571428571428,
          1000.4257142857143,
          982.6942857142857,
          964.9628571428572,
          947.2314285714285,
          929.5
         ],
         "y": [
          1351.8,
          1385.3585714285714,
          1418.9171428571428,
          1452.4757142857143,
          1486.0342857142857,
          1519.5928571428572,
          1553.1514285714286,
          1586.71,
          1620.2685714285712,
          1653.827142857143,
          1687.3857142857141,
          1720.9442857142856,
          1754.502857142857,
          1788.0614285714285,
          1821.62
         ]
        },
        {
         "hoverinfo": "text",
         "line": {
          "color": "brown",
          "width": 0.6800999356858285
         },
         "mode": "lines",
         "name": "0.6800999356858285",
         "opacity": 0.6800999356858285,
         "text": "Edge: ('zpao', 'chicoxyzzy')    <br>Weight: 0.68",
         "type": "scatter",
         "x": [
          1177.74,
          1152.8414285714287,
          1127.942857142857,
          1103.0442857142857,
          1078.1457142857143,
          1053.2471428571428,
          1028.3485714285714,
          1003.45,
          978.5514285714286,
          953.6528571428571,
          928.7542857142857,
          903.8557142857143,
          878.9571428571428,
          854.0585714285714,
          829.16
         ],
         "y": [
          1351.8,
          1342.097142857143,
          1332.3942857142856,
          1322.6914285714286,
          1312.9885714285715,
          1303.2857142857142,
          1293.5828571428572,
          1283.88,
          1274.1771428571428,
          1264.4742857142858,
          1254.7714285714285,
          1245.0685714285714,
          1235.3657142857144,
          1225.662857142857,
          1215.96
         ]
        },
        {
         "hoverinfo": "text",
         "line": {
          "color": "brown",
          "width": 0.6202442472137893
         },
         "mode": "lines",
         "name": "0.6202442472137893",
         "opacity": 0.6202442472137893,
         "text": "Edge: ('zpao', 'mcsheffrey')    <br>Weight: 0.62",
         "type": "scatter",
         "x": [
          1177.74,
          1137.4657142857143,
          1097.1914285714286,
          1056.9171428571428,
          1016.6428571428571,
          976.3685714285714,
          936.0942857142857,
          895.8199999999999,
          855.5457142857142,
          815.2714285714285,
          774.9971428571428,
          734.722857142857,
          694.4485714285714,
          654.1742857142857,
          613.9
         ],
         "y": [
          1351.8,
          1350.1914285714286,
          1348.5828571428572,
          1346.9742857142858,
          1345.3657142857141,
          1343.7571428571428,
          1342.1485714285714,
          1340.54,
          1338.9314285714286,
          1337.3228571428572,
          1335.7142857142858,
          1334.1057142857142,
          1332.4971428571428,
          1330.8885714285714,
          1329.28
         ]
        },
        {
         "hoverinfo": "text",
         "line": {
          "color": "brown",
          "width": 0.7027394419160228
         },
         "mode": "lines",
         "name": "0.7027394419160228",
         "opacity": 0.7027394419160228,
         "text": "Edge: ('zpao', 'joshduck')    <br>Weight: 0.7",
         "type": "scatter",
         "x": [
          1177.74,
          1186.0057142857142,
          1194.2714285714285,
          1202.537142857143,
          1210.8028571428572,
          1219.0685714285714,
          1227.3342857142857,
          1235.6,
          1243.8657142857144,
          1252.1314285714286,
          1260.3971428571429,
          1268.662857142857,
          1276.9285714285716,
          1285.1942857142858,
          1293.46
         ],
         "y": [
          1351.8,
          1324.6642857142856,
          1297.5285714285715,
          1270.392857142857,
          1243.2571428571428,
          1216.1214285714286,
          1188.9857142857143,
          1161.85,
          1134.7142857142858,
          1107.5785714285714,
          1080.442857142857,
          1053.307142857143,
          1026.1714285714286,
          999.0357142857142,
          971.9
         ]
        },
        {
         "hoverinfo": "text",
         "line": {
          "color": "brown",
          "width": 0.7856565277083414
         },
         "mode": "lines",
         "name": "0.7856565277083414",
         "opacity": 0.7856565277083414,
         "text": "Edge: ('zpao', 'Daniel15')    <br>Weight: 0.79",
         "type": "scatter",
         "x": [
          1177.74,
          1175.1842857142858,
          1172.6285714285714,
          1170.0728571428572,
          1167.517142857143,
          1164.9614285714285,
          1162.4057142857143,
          1159.85,
          1157.2942857142857,
          1154.7385714285715,
          1152.182857142857,
          1149.6271428571429,
          1147.0714285714287,
          1144.5157142857142,
          1141.96
         ],
         "y": [
          1351.8,
          1391.1971428571428,
          1430.5942857142857,
          1469.9914285714285,
          1509.3885714285714,
          1548.7857142857142,
          1588.182857142857,
          1627.58,
          1666.9771428571428,
          1706.3742857142856,
          1745.7714285714285,
          1785.1685714285713,
          1824.5657142857142,
          1863.962857142857,
          1903.36
         ]
        },
        {
         "hoverinfo": "text",
         "line": {
          "color": "brown",
          "width": 0.7449017988477188
         },
         "mode": "lines",
         "name": "0.7449017988477188",
         "opacity": 0.7449017988477188,
         "text": "Edge: ('zpao', 'fisherwebdev')    <br>Weight: 0.74",
         "type": "scatter",
         "x": [
          1177.74,
          1196.2414285714285,
          1214.7428571428572,
          1233.2442857142858,
          1251.7457142857143,
          1270.2471428571428,
          1288.7485714285715,
          1307.25,
          1325.7514285714285,
          1344.252857142857,
          1362.7542857142857,
          1381.2557142857142,
          1399.7571428571428,
          1418.2585714285715,
          1436.76
         ],
         "y": [
          1351.8,
          1385.837142857143,
          1419.8742857142856,
          1453.9114285714286,
          1487.9485714285713,
          1521.9857142857143,
          1556.022857142857,
          1590.06,
          1624.097142857143,
          1658.1342857142856,
          1692.1714285714284,
          1726.2085714285713,
          1760.2457142857143,
          1794.282857142857,
          1828.32
         ]
        },
        {
         "hoverinfo": "text",
         "line": {
          "color": "brown",
          "width": 0.6363878725694069
         },
         "mode": "lines",
         "name": "0.6363878725694069",
         "opacity": 0.6363878725694069,
         "text": "Edge: ('zpao', 'jordwalke')    <br>Weight: 0.64",
         "type": "scatter",
         "x": [
          1177.74,
          1159.12,
          1140.5,
          1121.88,
          1103.26,
          1084.6399999999999,
          1066.02,
          1047.4,
          1028.78,
          1010.16,
          991.54,
          972.92,
          954.3,
          935.68,
          917.06
         ],
         "y": [
          1351.8,
          1317.4885714285715,
          1283.1771428571428,
          1248.8657142857141,
          1214.5542857142857,
          1180.2428571428572,
          1145.9314285714286,
          1111.62,
          1077.3085714285714,
          1042.997142857143,
          1008.6857142857143,
          974.3742857142857,
          940.0628571428572,
          905.7514285714286,
          871.44
         ]
        },
        {
         "hoverinfo": "text",
         "line": {
          "color": "brown",
          "width": 0.7288981690527697
         },
         "mode": "lines",
         "name": "0.7288981690527697",
         "opacity": 0.7288981690527697,
         "text": "Edge: ('zpao', 'arkist')    <br>Weight: 0.73",
         "type": "scatter",
         "x": [
          1177.74,
          1171.702857142857,
          1165.6657142857143,
          1159.6285714285714,
          1153.5914285714287,
          1147.5542857142857,
          1141.517142857143,
          1135.48,
          1129.442857142857,
          1123.4057142857143,
          1117.3685714285714,
          1111.3314285714287,
          1105.2942857142857,
          1099.257142857143,
          1093.22
         ],
         "y": [
          1351.8,
          1367.07,
          1382.34,
          1397.61,
          1412.8799999999999,
          1428.1499999999999,
          1443.4199999999998,
          1458.69,
          1473.96,
          1489.23,
          1504.5,
          1519.77,
          1535.04,
          1550.31,
          1565.58
         ]
        },
        {
         "hoverinfo": "text",
         "line": {
          "color": "brown",
          "width": 0.6756027458310533
         },
         "mode": "lines",
         "name": "0.6756027458310533",
         "opacity": 0.6756027458310533,
         "text": "Edge: ('zpao', 'cody')    <br>Weight: 0.68",
         "type": "scatter",
         "x": [
          1177.74,
          1220.1142857142856,
          1262.4885714285715,
          1304.8628571428571,
          1347.2371428571428,
          1389.6114285714286,
          1431.9857142857143,
          1474.3600000000001,
          1516.7342857142858,
          1559.1085714285714,
          1601.482857142857,
          1643.857142857143,
          1686.2314285714285,
          1728.6057142857144,
          1770.98
         ],
         "y": [
          1351.8,
          1347.3999999999999,
          1343,
          1338.6,
          1334.2,
          1329.8,
          1325.4,
          1321,
          1316.6,
          1312.2,
          1307.8,
          1303.4,
          1299,
          1294.6000000000001,
          1290.2
         ]
        },
        {
         "hoverinfo": "text",
         "line": {
          "color": "brown",
          "width": 0.6154271552102899
         },
         "mode": "lines",
         "name": "0.6154271552102899",
         "opacity": 0.6154271552102899,
         "text": "Edge: ('zpao', 'iamchenxin')    <br>Weight: 0.62",
         "type": "scatter",
         "x": [
          1177.74,
          1144.9957142857143,
          1112.2514285714285,
          1079.507142857143,
          1046.7628571428572,
          1014.0185714285715,
          981.2742857142857,
          948.53,
          915.7857142857143,
          883.0414285714287,
          850.297142857143,
          817.5528571428572,
          784.8085714285714,
          752.0642857142858,
          719.32
         ],
         "y": [
          1351.8,
          1379.0557142857142,
          1406.3114285714285,
          1433.567142857143,
          1460.8228571428572,
          1488.0785714285714,
          1515.3342857142857,
          1542.5900000000001,
          1569.8457142857144,
          1597.1014285714286,
          1624.357142857143,
          1651.6128571428571,
          1678.8685714285716,
          1706.1242857142859,
          1733.38
         ]
        },
        {
         "hoverinfo": "text",
         "line": {
          "color": "brown",
          "width": 0.7001388023593837
         },
         "mode": "lines",
         "name": "0.7001388023593837",
         "opacity": 0.7001388023593837,
         "text": "Edge: ('gaearon', 'bvaughn')    <br>Weight: 0.7",
         "type": "scatter",
         "x": [
          3417.8,
          3427.6857142857143,
          3437.571428571429,
          3447.457142857143,
          3457.342857142857,
          3467.2285714285713,
          3477.114285714286,
          3487,
          3496.885714285714,
          3506.7714285714287,
          3516.657142857143,
          3526.542857142857,
          3536.428571428571,
          3546.3142857142857,
          3556.2
         ],
         "y": [
          1166.8,
          1188.4457142857143,
          1210.0914285714284,
          1231.7371428571428,
          1253.3828571428571,
          1275.0285714285715,
          1296.6742857142856,
          1318.32,
          1339.9657142857143,
          1361.6114285714284,
          1383.2571428571428,
          1404.902857142857,
          1426.5485714285714,
          1448.1942857142856,
          1469.84
         ]
        },
        {
         "hoverinfo": "text",
         "line": {
          "color": "brown",
          "width": 0.7425489766109225
         },
         "mode": "lines",
         "name": "0.7425489766109225",
         "opacity": 0.7425489766109225,
         "text": "Edge: ('gaearon', 'acdlite')    <br>Weight: 0.74",
         "type": "scatter",
         "x": [
          3417.8,
          3406.1000000000004,
          3394.4,
          3382.7000000000003,
          3371,
          3359.3,
          3347.6,
          3335.9,
          3324.2000000000003,
          3312.5,
          3300.8,
          3289.1,
          3277.4,
          3265.7,
          3254
         ],
         "y": [
          1166.8,
          1170.502857142857,
          1174.2057142857143,
          1177.9085714285713,
          1181.6114285714286,
          1185.3142857142857,
          1189.017142857143,
          1192.72,
          1196.422857142857,
          1200.1257142857144,
          1203.8285714285714,
          1207.5314285714287,
          1211.2342857142858,
          1214.937142857143,
          1218.64
         ]
        },
        {
         "hoverinfo": "text",
         "line": {
          "color": "brown",
          "width": 0.7205017800684788
         },
         "mode": "lines",
         "name": "0.7205017800684788",
         "opacity": 0.7205017800684788,
         "text": "Edge: ('gaearon', 'sebmarkbage')    <br>Weight: 0.72",
         "type": "scatter",
         "x": [
          3417.8,
          3370.9,
          3324,
          3277.1,
          3230.2000000000003,
          3183.3,
          3136.4,
          3089.5,
          3042.6,
          2995.7,
          2948.7999999999997,
          2901.8999999999996,
          2855,
          2808.1,
          2761.2
         ],
         "y": [
          1166.8,
          1181.2957142857142,
          1195.7914285714285,
          1210.2871428571427,
          1224.7828571428572,
          1239.2785714285715,
          1253.7742857142857,
          1268.27,
          1282.7657142857142,
          1297.2614285714285,
          1311.7571428571428,
          1326.252857142857,
          1340.7485714285715,
          1355.2442857142858,
          1369.74
         ]
        },
        {
         "hoverinfo": "text",
         "line": {
          "color": "brown",
          "width": 0.6962116636437916
         },
         "mode": "lines",
         "name": "0.6962116636437916",
         "opacity": 0.6962116636437916,
         "text": "Edge: ('gaearon', 'trueadm')    <br>Weight: 0.7",
         "type": "scatter",
         "x": [
          3417.8,
          3415.7428571428572,
          3413.6857142857143,
          3411.6285714285714,
          3409.571428571429,
          3407.514285714286,
          3405.457142857143,
          3403.4,
          3401.342857142857,
          3399.285714285714,
          3397.2285714285713,
          3395.171428571429,
          3393.114285714286,
          3391.057142857143,
          3389
         ],
         "y": [
          1166.8,
          1176.8414285714284,
          1186.8828571428571,
          1196.9242857142858,
          1206.9657142857143,
          1217.0071428571428,
          1227.0485714285714,
          1237.0900000000001,
          1247.1314285714286,
          1257.172857142857,
          1267.2142857142858,
          1277.2557142857145,
          1287.297142857143,
          1297.3385714285714,
          1307.38
         ]
        },
        {
         "hoverinfo": "text",
         "line": {
          "color": "brown",
          "width": 0.706258242403718
         },
         "mode": "lines",
         "name": "0.706258242403718",
         "opacity": 0.706258242403718,
         "text": "Edge: ('gaearon', 'nhunzaker')    <br>Weight: 0.71",
         "type": "scatter",
         "x": [
          3417.8,
          3393.4,
          3369,
          3344.6,
          3320.2000000000003,
          3295.8,
          3271.4,
          3247,
          3222.6,
          3198.2,
          3173.7999999999997,
          3149.3999999999996,
          3125,
          3100.6,
          3076.2
         ],
         "y": [
          1166.8,
          1143.0785714285714,
          1119.357142857143,
          1095.6357142857144,
          1071.9142857142856,
          1048.192857142857,
          1024.4714285714285,
          1000.75,
          977.0285714285715,
          953.3071428571429,
          929.5857142857143,
          905.8642857142858,
          882.1428571428571,
          858.4214285714286,
          834.7
         ]
        },
        {
         "hoverinfo": "text",
         "line": {
          "color": "brown",
          "width": 0.6090473160656117
         },
         "mode": "lines",
         "name": "0.6090473160656117",
         "opacity": 0.6090473160656117,
         "text": "Edge: ('gaearon', 'necolas')    <br>Weight: 0.61",
         "type": "scatter",
         "x": [
          3417.8,
          3435.357142857143,
          3452.914285714286,
          3470.4714285714285,
          3488.0285714285715,
          3505.5857142857144,
          3523.1428571428573,
          3540.7000000000003,
          3558.2571428571428,
          3575.8142857142857,
          3593.3714285714286,
          3610.9285714285716,
          3628.4857142857145,
          3646.042857142857,
          3663.6
         ],
         "y": [
          1166.8,
          1197.4242857142856,
          1228.0485714285714,
          1258.672857142857,
          1289.2971428571427,
          1319.9214285714286,
          1350.5457142857142,
          1381.17,
          1411.7942857142857,
          1442.4185714285713,
          1473.042857142857,
          1503.6671428571428,
          1534.2914285714285,
          1564.9157142857143,
          1595.54
         ]
        },
        {
         "hoverinfo": "text",
         "line": {
          "color": "brown",
          "width": 0.6725490578179311
         },
         "mode": "lines",
         "name": "0.6725490578179311",
         "opacity": 0.6725490578179311,
         "text": "Edge: ('gaearon', 'aweary')    <br>Weight: 0.67",
         "type": "scatter",
         "x": [
          3417.8,
          3390.6857142857143,
          3363.571428571429,
          3336.457142857143,
          3309.342857142857,
          3282.2285714285713,
          3255.114285714286,
          3228,
          3200.885714285714,
          3173.7714285714287,
          3146.657142857143,
          3119.542857142857,
          3092.4285714285716,
          3065.3142857142857,
          3038.2
         ],
         "y": [
          1166.8,
          1153.2171428571428,
          1139.6342857142856,
          1126.0514285714285,
          1112.4685714285713,
          1098.8857142857144,
          1085.3028571428572,
          1071.72,
          1058.1371428571429,
          1044.5542857142857,
          1030.9714285714285,
          1017.3885714285714,
          1003.8057142857142,
          990.2228571428572,
          976.64
         ]
        },
        {
         "hoverinfo": "text",
         "line": {
          "color": "brown",
          "width": 0.656140059493398
         },
         "mode": "lines",
         "name": "0.656140059493398",
         "opacity": 0.656140059493398,
         "text": "Edge: ('gaearon', 'eps1lon')    <br>Weight: 0.66",
         "type": "scatter",
         "x": [
          3417.8,
          3437.014285714286,
          3456.2285714285717,
          3475.4428571428575,
          3494.657142857143,
          3513.8714285714286,
          3533.0857142857144,
          3552.3,
          3571.514285714286,
          3590.7285714285717,
          3609.9428571428575,
          3629.157142857143,
          3648.3714285714286,
          3667.5857142857144,
          3686.8
         ],
         "y": [
          1166.8,
          1164.9357142857143,
          1163.0714285714284,
          1161.2071428571428,
          1159.3428571428572,
          1157.4785714285715,
          1155.6142857142856,
          1153.75,
          1151.8857142857144,
          1150.0214285714285,
          1148.1571428571428,
          1146.2928571428572,
          1144.4285714285716,
          1142.5642857142857,
          1140.7
         ]
        },
        {
         "hoverinfo": "text",
         "line": {
          "color": "brown",
          "width": 0.6974702436453097
         },
         "mode": "lines",
         "name": "0.6974702436453097",
         "opacity": 0.6974702436453097,
         "text": "Edge: ('gaearon', 'SimenB')    <br>Weight: 0.7",
         "type": "scatter",
         "x": [
          3417.8,
          3432.3285714285716,
          3446.857142857143,
          3461.3857142857146,
          3475.9142857142856,
          3490.442857142857,
          3504.9714285714285,
          3519.5,
          3534.0285714285715,
          3548.557142857143,
          3563.0857142857144,
          3577.6142857142854,
          3592.142857142857,
          3606.6714285714284,
          3621.2
         ],
         "y": [
          1166.8,
          1146.3985714285714,
          1125.9971428571428,
          1105.5957142857142,
          1085.1942857142856,
          1064.7928571428572,
          1044.3914285714286,
          1023.99,
          1003.5885714285714,
          983.1871428571428,
          962.7857142857142,
          942.3842857142856,
          921.982857142857,
          901.5814285714285,
          881.18
         ]
        },
        {
         "hoverinfo": "text",
         "line": {
          "color": "brown",
          "width": 0.6082307888038548
         },
         "mode": "lines",
         "name": "0.6082307888038548",
         "opacity": 0.6082307888038548,
         "text": "Edge: ('gaearon', 'iamdustan')    <br>Weight: 0.61",
         "type": "scatter",
         "x": [
          3417.8,
          3418.071428571429,
          3418.342857142857,
          3418.614285714286,
          3418.8857142857146,
          3419.157142857143,
          3419.4285714285716,
          3419.7,
          3419.9714285714285,
          3420.2428571428572,
          3420.5142857142855,
          3420.785714285714,
          3421.057142857143,
          3421.328571428571,
          3421.6
         ],
         "y": [
          1166.8,
          1206.3657142857141,
          1245.9314285714286,
          1285.4971428571428,
          1325.0628571428572,
          1364.6285714285714,
          1404.1942857142858,
          1443.76,
          1483.3257142857142,
          1522.8914285714286,
          1562.457142857143,
          1602.0228571428572,
          1641.5885714285714,
          1681.1542857142858,
          1720.72
         ]
        },
        {
         "hoverinfo": "text",
         "line": {
          "color": "brown",
          "width": 0.6833957441320856
         },
         "mode": "lines",
         "name": "0.6833957441320856",
         "opacity": 0.6833957441320856,
         "text": "Edge: ('gaearon', 'sompylasar')    <br>Weight: 0.68",
         "type": "scatter",
         "x": [
          3417.8,
          3460.0428571428574,
          3502.285714285714,
          3544.5285714285715,
          3586.7714285714287,
          3629.014285714286,
          3671.2571428571428,
          3713.5,
          3755.7428571428572,
          3797.9857142857145,
          3840.2285714285713,
          3882.4714285714285,
          3924.714285714286,
          3966.9571428571426,
          4009.2
         ],
         "y": [
          1166.8,
          1168.942857142857,
          1171.0857142857142,
          1173.2285714285713,
          1175.3714285714286,
          1177.5142857142857,
          1179.6571428571428,
          1181.8,
          1183.942857142857,
          1186.0857142857142,
          1188.2285714285713,
          1190.3714285714286,
          1192.5142857142857,
          1194.6571428571428,
          1196.8
         ]
        },
        {
         "hoverinfo": "text",
         "line": {
          "color": "brown",
          "width": 0.7365183618438045
         },
         "mode": "lines",
         "name": "0.7365183618438045",
         "opacity": 0.7365183618438045,
         "text": "Edge: ('gaearon', 'raphamorim')    <br>Weight: 0.74",
         "type": "scatter",
         "x": [
          3417.8,
          3415.1000000000004,
          3412.4,
          3409.7000000000003,
          3407,
          3404.3,
          3401.6,
          3398.9,
          3396.2000000000003,
          3393.5,
          3390.8,
          3388.1,
          3385.4,
          3382.7,
          3380
         ],
         "y": [
          1166.8,
          1124.762857142857,
          1082.7257142857143,
          1040.6885714285713,
          998.6514285714286,
          956.6142857142856,
          914.5771428571428,
          872.54,
          830.5028571428571,
          788.4657142857143,
          746.4285714285714,
          704.3914285714286,
          662.3542857142857,
          620.3171428571428,
          578.28
         ]
        },
        {
         "hoverinfo": "text",
         "line": {
          "color": "brown",
          "width": 0.6249689160064585
         },
         "mode": "lines",
         "name": "0.6249689160064585",
         "opacity": 0.6249689160064585,
         "text": "Edge: ('gaearon', 'bl00mber')    <br>Weight: 0.62",
         "type": "scatter",
         "x": [
          3417.8,
          3450.2714285714287,
          3482.7428571428572,
          3515.214285714286,
          3547.6857142857143,
          3580.157142857143,
          3612.6285714285714,
          3645.1000000000004,
          3677.571428571429,
          3710.0428571428574,
          3742.514285714286,
          3774.9857142857145,
          3807.457142857143,
          3839.9285714285716,
          3872.4
         ],
         "y": [
          1166.8,
          1162.5785714285714,
          1158.357142857143,
          1154.1357142857144,
          1149.9142857142856,
          1145.692857142857,
          1141.4714285714285,
          1137.25,
          1133.0285714285715,
          1128.807142857143,
          1124.5857142857144,
          1120.3642857142856,
          1116.142857142857,
          1111.9214285714286,
          1107.7
         ]
        },
        {
         "hoverinfo": "text",
         "line": {
          "color": "brown",
          "width": 0.6200369432494158
         },
         "mode": "lines",
         "name": "0.6200369432494158",
         "opacity": 0.6200369432494158,
         "text": "Edge: ('bvaughn', 'acdlite')    <br>Weight: 0.62",
         "type": "scatter",
         "x": [
          3556.2,
          3534.6142857142854,
          3513.0285714285715,
          3491.442857142857,
          3469.8571428571427,
          3448.2714285714283,
          3426.6857142857143,
          3405.1,
          3383.5142857142855,
          3361.9285714285716,
          3340.342857142857,
          3318.7571428571428,
          3297.171428571429,
          3275.5857142857144,
          3254
         ],
         "y": [
          1469.84,
          1451.8971428571429,
          1433.9542857142856,
          1416.0114285714285,
          1398.0685714285714,
          1380.1257142857144,
          1362.182857142857,
          1344.24,
          1326.297142857143,
          1308.3542857142857,
          1290.4114285714286,
          1272.4685714285715,
          1254.5257142857145,
          1236.5828571428572,
          1218.64
         ]
        },
        {
         "hoverinfo": "text",
         "line": {
          "color": "brown",
          "width": 0.6254127642857159
         },
         "mode": "lines",
         "name": "0.6254127642857159",
         "opacity": 0.6254127642857159,
         "text": "Edge: ('bvaughn', 'sebmarkbage')    <br>Weight: 0.63",
         "type": "scatter",
         "x": [
          3556.2,
          3499.4142857142856,
          3442.6285714285714,
          3385.842857142857,
          3329.0571428571425,
          3272.2714285714283,
          3215.485714285714,
          3158.7,
          3101.9142857142856,
          3045.1285714285714,
          2988.3428571428567,
          2931.557142857143,
          2874.7714285714283,
          2817.985714285714,
          2761.2
         ],
         "y": [
          1469.84,
          1462.6899999999998,
          1455.54,
          1448.3899999999999,
          1441.24,
          1434.09,
          1426.94,
          1419.79,
          1412.6399999999999,
          1405.49,
          1398.34,
          1391.19,
          1384.04,
          1376.89,
          1369.74
         ]
        },
        {
         "hoverinfo": "text",
         "line": {
          "color": "brown",
          "width": 0.6337269605495808
         },
         "mode": "lines",
         "name": "0.6337269605495808",
         "opacity": 0.6337269605495808,
         "text": "Edge: ('bvaughn', 'trueadm')    <br>Weight: 0.63",
         "type": "scatter",
         "x": [
          3556.2,
          3544.2571428571428,
          3532.3142857142857,
          3520.3714285714286,
          3508.428571428571,
          3496.485714285714,
          3484.542857142857,
          3472.6,
          3460.657142857143,
          3448.714285714286,
          3436.7714285714287,
          3424.828571428571,
          3412.885714285714,
          3400.942857142857,
          3389
         ],
         "y": [
          1469.84,
          1458.2357142857143,
          1446.6314285714286,
          1435.0271428571427,
          1423.422857142857,
          1411.8185714285714,
          1400.2142857142858,
          1388.6100000000001,
          1377.0057142857142,
          1365.4014285714286,
          1353.797142857143,
          1342.1928571428573,
          1330.5885714285714,
          1318.9842857142858,
          1307.38
         ]
        },
        {
         "hoverinfo": "text",
         "line": {
          "color": "brown",
          "width": 0.6927009619223248
         },
         "mode": "lines",
         "name": "0.6927009619223248",
         "opacity": 0.6927009619223248,
         "text": "Edge: ('bvaughn', 'necolas')    <br>Weight: 0.69",
         "type": "scatter",
         "x": [
          3556.2,
          3563.8714285714286,
          3571.542857142857,
          3579.2142857142853,
          3586.885714285714,
          3594.557142857143,
          3602.2285714285713,
          3609.8999999999996,
          3617.5714285714284,
          3625.2428571428572,
          3632.9142857142856,
          3640.585714285714,
          3648.2571428571428,
          3655.9285714285716,
          3663.6
         ],
         "y": [
          1469.84,
          1478.8185714285714,
          1487.7971428571427,
          1496.7757142857142,
          1505.7542857142857,
          1514.732857142857,
          1523.7114285714285,
          1532.69,
          1541.6685714285713,
          1550.6471428571429,
          1559.6257142857141,
          1568.6042857142857,
          1577.5828571428572,
          1586.5614285714285,
          1595.54
         ]
        },
        {
         "hoverinfo": "text",
         "line": {
          "color": "brown",
          "width": 0.6580529010954961
         },
         "mode": "lines",
         "name": "0.6580529010954961",
         "opacity": 0.6580529010954961,
         "text": "Edge: ('bvaughn', 'rickhanlonii')    <br>Weight: 0.66",
         "type": "scatter",
         "x": [
          3556.2,
          3571.6285714285714,
          3587.0571428571425,
          3602.485714285714,
          3617.9142857142856,
          3633.342857142857,
          3648.7714285714283,
          3664.2,
          3679.6285714285714,
          3695.0571428571425,
          3710.485714285714,
          3725.9142857142856,
          3741.342857142857,
          3756.7714285714283,
          3772.2
         ],
         "y": [
          1469.84,
          1464.3214285714284,
          1458.802857142857,
          1453.2842857142857,
          1447.7657142857142,
          1442.2471428571428,
          1436.7285714285713,
          1431.21,
          1425.6914285714286,
          1420.172857142857,
          1414.6542857142856,
          1409.1357142857141,
          1403.6171428571429,
          1398.0985714285714,
          1392.58
         ]
        },
        {
         "hoverinfo": "text",
         "line": {
          "color": "brown",
          "width": 0.6193920458860286
         },
         "mode": "lines",
         "name": "0.6193920458860286",
         "opacity": 0.6193920458860286,
         "text": "Edge: ('bvaughn', 'lunaruan')    <br>Weight: 0.62",
         "type": "scatter",
         "x": [
          3556.2,
          3578.828571428571,
          3601.4571428571426,
          3624.085714285714,
          3646.714285714286,
          3669.342857142857,
          3691.9714285714285,
          3714.6,
          3737.2285714285713,
          3759.8571428571427,
          3782.485714285714,
          3805.114285714286,
          3827.7428571428572,
          3850.3714285714286,
          3873
         ],
         "y": [
          1469.84,
          1504.0442857142857,
          1538.2485714285713,
          1572.452857142857,
          1606.6571428571428,
          1640.8614285714286,
          1675.0657142857142,
          1709.27,
          1743.4742857142858,
          1777.6785714285716,
          1811.8828571428571,
          1846.087142857143,
          1880.2914285714287,
          1914.4957142857143,
          1948.7
         ]
        },
        {
         "hoverinfo": "text",
         "line": {
          "color": "brown",
          "width": 0.8149671979115443
         },
         "mode": "lines",
         "name": "0.8149671979115443",
         "opacity": 0.8149671979115443,
         "text": "Edge: ('bvaughn', 'eps1lon')    <br>Weight: 0.81",
         "type": "scatter",
         "x": [
          3556.2,
          3565.5285714285715,
          3574.8571428571427,
          3584.1857142857143,
          3593.5142857142855,
          3602.842857142857,
          3612.1714285714284,
          3621.5,
          3630.8285714285716,
          3640.157142857143,
          3649.4857142857145,
          3658.8142857142857,
          3668.1428571428573,
          3677.4714285714285,
          3686.8
         ],
         "y": [
          1469.84,
          1446.33,
          1422.82,
          1399.31,
          1375.8,
          1352.29,
          1328.78,
          1305.27,
          1281.76,
          1258.25,
          1234.74,
          1211.23,
          1187.72,
          1164.21,
          1140.7
         ]
        },
        {
         "hoverinfo": "text",
         "line": {
          "color": "brown",
          "width": 0.783367131449665
         },
         "mode": "lines",
         "name": "0.783367131449665",
         "opacity": 0.783367131449665,
         "text": "Edge: ('bvaughn', 'threepointone')    <br>Weight: 0.78",
         "type": "scatter",
         "x": [
          3556.2,
          3596.985714285714,
          3637.7714285714283,
          3678.5571428571425,
          3719.342857142857,
          3760.1285714285714,
          3800.9142857142856,
          3841.7,
          3882.485714285714,
          3923.2714285714283,
          3964.0571428571425,
          4004.8428571428567,
          4045.6285714285714,
          4086.4142857142856,
          4127.2
         ],
         "y": [
          1469.84,
          1481.9585714285713,
          1494.0771428571427,
          1506.1957142857143,
          1518.3142857142857,
          1530.432857142857,
          1542.5514285714285,
          1554.67,
          1566.7885714285715,
          1578.9071428571428,
          1591.0257142857142,
          1603.1442857142856,
          1615.2628571428572,
          1627.3814285714286,
          1639.5
         ]
        },
        {
         "hoverinfo": "text",
         "line": {
          "color": "brown",
          "width": 0.9461247482828622
         },
         "mode": "lines",
         "name": "0.9461247482828622",
         "opacity": 0.9461247482828622,
         "text": "Edge: ('bvaughn', 'sompylasar')    <br>Weight: 0.95",
         "type": "scatter",
         "x": [
          3556.2,
          3588.5571428571425,
          3620.9142857142856,
          3653.2714285714283,
          3685.6285714285714,
          3717.985714285714,
          3750.3428571428567,
          3782.7,
          3815.0571428571425,
          3847.4142857142856,
          3879.7714285714283,
          3912.1285714285714,
          3944.485714285714,
          3976.8428571428567,
          4009.2
         ],
         "y": [
          1469.84,
          1450.3371428571427,
          1430.8342857142857,
          1411.3314285714284,
          1391.8285714285714,
          1372.3257142857142,
          1352.8228571428572,
          1333.32,
          1313.8171428571427,
          1294.3142857142857,
          1274.8114285714285,
          1255.3085714285714,
          1235.8057142857142,
          1216.3028571428572,
          1196.8
         ]
        },
        {
         "hoverinfo": "text",
         "line": {
          "color": "brown",
          "width": 0.8302387433430958
         },
         "mode": "lines",
         "name": "0.8302387433430958",
         "opacity": 0.8302387433430958,
         "text": "Edge: ('bvaughn', 'bl00mber')    <br>Weight: 0.83",
         "type": "scatter",
         "x": [
          3556.2,
          3578.785714285714,
          3601.3714285714286,
          3623.9571428571426,
          3646.542857142857,
          3669.1285714285714,
          3691.714285714286,
          3714.3,
          3736.885714285714,
          3759.4714285714285,
          3782.057142857143,
          3804.6428571428573,
          3827.2285714285717,
          3849.8142857142857,
          3872.4
         ],
         "y": [
          1469.84,
          1443.972857142857,
          1418.1057142857142,
          1392.2385714285713,
          1366.3714285714286,
          1340.5042857142857,
          1314.6371428571429,
          1288.77,
          1262.902857142857,
          1237.0357142857142,
          1211.1685714285713,
          1185.3014285714285,
          1159.4342857142858,
          1133.567142857143,
          1107.7
         ]
        },
        {
         "hoverinfo": "text",
         "line": {
          "color": "brown",
          "width": 0.6239722624771209
         },
         "mode": "lines",
         "name": "0.6239722624771209",
         "opacity": 0.6239722624771209,
         "text": "Edge: ('sophiebits', 'sebmarkbage')    <br>Weight: 0.62",
         "type": "scatter",
         "x": [
          1634.74,
          1715.2014285714286,
          1795.662857142857,
          1876.1242857142856,
          1956.5857142857142,
          2037.0471428571427,
          2117.5085714285715,
          2197.97,
          2278.4314285714286,
          2358.892857142857,
          2439.3542857142857,
          2519.815714285714,
          2600.2771428571427,
          2680.738571428571,
          2761.2
         ],
         "y": [
          1407.1,
          1404.4314285714286,
          1401.762857142857,
          1399.0942857142857,
          1396.4257142857143,
          1393.7571428571428,
          1391.0885714285714,
          1388.42,
          1385.7514285714285,
          1383.0828571428572,
          1380.4142857142856,
          1377.7457142857143,
          1375.077142857143,
          1372.4085714285713,
          1369.74
         ]
        },
        {
         "hoverinfo": "text",
         "line": {
          "color": "brown",
          "width": 0.6178758136482333
         },
         "mode": "lines",
         "name": "0.6178758136482333",
         "opacity": 0.6178758136482333,
         "text": "Edge: ('sophiebits', 'petehunt')    <br>Weight: 0.62",
         "type": "scatter",
         "x": [
          1634.74,
          1599.2371428571428,
          1563.7342857142858,
          1528.2314285714285,
          1492.7285714285715,
          1457.2257142857143,
          1421.7228571428573,
          1386.22,
          1350.7171428571428,
          1315.2142857142858,
          1279.7114285714288,
          1244.2085714285715,
          1208.7057142857143,
          1173.2028571428573,
          1137.7
         ],
         "y": [
          1407.1,
          1382.5014285714285,
          1357.902857142857,
          1333.3042857142857,
          1308.7057142857143,
          1284.107142857143,
          1259.5085714285715,
          1234.9099999999999,
          1210.3114285714285,
          1185.712857142857,
          1161.1142857142856,
          1136.5157142857142,
          1111.9171428571428,
          1087.3185714285714,
          1062.72
         ]
        },
        {
         "hoverinfo": "text",
         "line": {
          "color": "brown",
          "width": 0.6007779103686233
         },
         "mode": "lines",
         "name": "0.6007779103686233",
         "opacity": 0.6007779103686233,
         "text": "Edge: ('sophiebits', 'chenglou')    <br>Weight: 0.6",
         "type": "scatter",
         "x": [
          1634.74,
          1592.0357142857142,
          1549.3314285714287,
          1506.6271428571429,
          1463.922857142857,
          1421.2185714285715,
          1378.5142857142857,
          1335.81,
          1293.1057142857144,
          1250.4014285714286,
          1207.6971428571428,
          1164.9928571428572,
          1122.2885714285715,
          1079.5842857142857,
          1036.88
         ],
         "y": [
          1407.1,
          1396.6699999999998,
          1386.24,
          1375.81,
          1365.3799999999999,
          1354.9499999999998,
          1344.52,
          1334.09,
          1323.6599999999999,
          1313.23,
          1302.8,
          1292.37,
          1281.94,
          1271.51,
          1261.08
         ]
        },
        {
         "hoverinfo": "text",
         "line": {
          "color": "brown",
          "width": 0.6485151689048804
         },
         "mode": "lines",
         "name": "0.6485151689048804",
         "opacity": 0.6485151689048804,
         "text": "Edge: ('sophiebits', 'vjeux')    <br>Weight: 0.65",
         "type": "scatter",
         "x": [
          1634.74,
          1630.8742857142856,
          1627.0085714285715,
          1623.142857142857,
          1619.2771428571427,
          1615.4114285714286,
          1611.5457142857142,
          1607.6799999999998,
          1603.8142857142857,
          1599.9485714285713,
          1596.0828571428572,
          1592.2171428571428,
          1588.3514285714284,
          1584.4857142857143,
          1580.62
         ],
         "y": [
          1407.1,
          1385.2114285714285,
          1363.3228571428572,
          1341.4342857142856,
          1319.5457142857142,
          1297.6571428571428,
          1275.7685714285715,
          1253.88,
          1231.9914285714285,
          1210.1028571428571,
          1188.2142857142858,
          1166.3257142857144,
          1144.437142857143,
          1122.5485714285714,
          1100.66
         ]
        },
        {
         "hoverinfo": "text",
         "line": {
          "color": "brown",
          "width": 0.6607861083325806
         },
         "mode": "lines",
         "name": "0.6607861083325806",
         "opacity": 0.6607861083325806,
         "text": "Edge: ('sophiebits', 'yungsters')    <br>Weight: 0.66",
         "type": "scatter",
         "x": [
          1634.74,
          1618.9357142857143,
          1603.1314285714286,
          1587.327142857143,
          1571.5228571428572,
          1555.7185714285715,
          1539.9142857142858,
          1524.1100000000001,
          1508.3057142857142,
          1492.5014285714285,
          1476.6971428571428,
          1460.892857142857,
          1445.0885714285714,
          1429.2842857142857,
          1413.48
         ],
         "y": [
          1407.1,
          1382.702857142857,
          1358.3057142857142,
          1333.9085714285713,
          1309.5114285714285,
          1285.1142857142856,
          1260.7171428571428,
          1236.32,
          1211.922857142857,
          1187.5257142857142,
          1163.1285714285714,
          1138.7314285714285,
          1114.3342857142857,
          1089.9371428571428,
          1065.54
         ]
        },
        {
         "hoverinfo": "text",
         "line": {
          "color": "brown",
          "width": 0.6085369075709081
         },
         "mode": "lines",
         "name": "0.6085369075709081",
         "opacity": 0.6085369075709081,
         "text": "Edge: ('sophiebits', 'cpojer')    <br>Weight: 0.61",
         "type": "scatter",
         "x": [
          1634.74,
          1625.93,
          1617.1200000000001,
          1608.31,
          1599.5,
          1590.69,
          1581.88,
          1573.0700000000002,
          1564.26,
          1555.45,
          1546.64,
          1537.8300000000002,
          1529.02,
          1520.21,
          1511.4
         ],
         "y": [
          1407.1,
          1425.175714285714,
          1443.2514285714285,
          1461.327142857143,
          1479.402857142857,
          1497.4785714285713,
          1515.5542857142857,
          1533.63,
          1551.7057142857143,
          1569.7814285714285,
          1587.857142857143,
          1605.9328571428573,
          1624.0085714285715,
          1642.0842857142857,
          1660.16
         ]
        },
        {
         "hoverinfo": "text",
         "line": {
          "color": "brown",
          "width": 0.6553080930080228
         },
         "mode": "lines",
         "name": "0.6553080930080228",
         "opacity": 0.6553080930080228,
         "text": "Edge: ('sophiebits', 'joshduck')    <br>Weight: 0.66",
         "type": "scatter",
         "x": [
          1634.74,
          1610.3628571428571,
          1585.9857142857143,
          1561.6085714285714,
          1537.2314285714285,
          1512.8542857142857,
          1488.477142857143,
          1464.1,
          1439.7228571428573,
          1415.3457142857144,
          1390.9685714285715,
          1366.5914285714287,
          1342.2142857142858,
          1317.837142857143,
          1293.46
         ],
         "y": [
          1407.1,
          1376.0142857142857,
          1344.9285714285713,
          1313.8428571428572,
          1282.7571428571428,
          1251.6714285714286,
          1220.5857142857142,
          1189.5,
          1158.4142857142856,
          1127.3285714285714,
          1096.242857142857,
          1065.1571428571428,
          1034.0714285714284,
          1002.9857142857143,
          971.9
         ]
        },
        {
         "hoverinfo": "text",
         "line": {
          "color": "brown",
          "width": 0.6462699842898603
         },
         "mode": "lines",
         "name": "0.6462699842898603",
         "opacity": 0.6462699842898603,
         "text": "Edge: ('sophiebits', 'Daniel15')    <br>Weight: 0.65",
         "type": "scatter",
         "x": [
          1634.74,
          1599.5414285714287,
          1564.3428571428572,
          1529.1442857142856,
          1493.9457142857143,
          1458.747142857143,
          1423.5485714285714,
          1388.35,
          1353.1514285714286,
          1317.9528571428573,
          1282.7542857142857,
          1247.5557142857142,
          1212.357142857143,
          1177.1585714285716,
          1141.96
         ],
         "y": [
          1407.1,
          1442.5471428571427,
          1477.9942857142855,
          1513.4414285714286,
          1548.8885714285714,
          1584.3357142857142,
          1619.782857142857,
          1655.23,
          1690.6771428571428,
          1726.1242857142856,
          1761.5714285714284,
          1797.0185714285712,
          1832.465714285714,
          1867.912857142857,
          1903.36
         ]
        },
        {
         "hoverinfo": "text",
         "line": {
          "color": "brown",
          "width": 0.7025262450944673
         },
         "mode": "lines",
         "name": "0.7025262450944673",
         "opacity": 0.7025262450944673,
         "text": "Edge: ('sophiebits', 'fisherwebdev')    <br>Weight: 0.7",
         "type": "scatter",
         "x": [
          1634.74,
          1620.5985714285714,
          1606.4571428571428,
          1592.3157142857142,
          1578.1742857142858,
          1564.0328571428572,
          1549.8914285714286,
          1535.75,
          1521.6085714285714,
          1507.4671428571428,
          1493.3257142857142,
          1479.1842857142856,
          1465.0428571428572,
          1450.9014285714286,
          1436.76
         ],
         "y": [
          1407.1,
          1437.1871428571428,
          1467.2742857142857,
          1497.3614285714284,
          1527.4485714285713,
          1557.5357142857142,
          1587.6228571428571,
          1617.71,
          1647.7971428571427,
          1677.8842857142856,
          1707.9714285714285,
          1738.0585714285712,
          1768.1457142857143,
          1798.232857142857,
          1828.32
         ]
        },
        {
         "hoverinfo": "text",
         "line": {
          "color": "brown",
          "width": 0.6149804156647043
         },
         "mode": "lines",
         "name": "0.6149804156647043",
         "opacity": 0.6149804156647043,
         "text": "Edge: ('sophiebits', 'arkist')    <br>Weight: 0.61",
         "type": "scatter",
         "x": [
          1634.74,
          1596.06,
          1557.38,
          1518.7,
          1480.02,
          1441.34,
          1402.66,
          1363.98,
          1325.3,
          1286.62,
          1247.94,
          1209.26,
          1170.58,
          1131.9,
          1093.22
         ],
         "y": [
          1407.1,
          1418.4199999999998,
          1429.74,
          1441.06,
          1452.3799999999999,
          1463.6999999999998,
          1475.02,
          1486.34,
          1497.6599999999999,
          1508.98,
          1520.3,
          1531.62,
          1542.94,
          1554.26,
          1565.58
         ]
        },
        {
         "hoverinfo": "text",
         "line": {
          "color": "brown",
          "width": 0.676529445173782
         },
         "mode": "lines",
         "name": "0.676529445173782",
         "opacity": 0.676529445173782,
         "text": "Edge: ('acdlite', 'sebmarkbage')    <br>Weight: 0.68",
         "type": "scatter",
         "x": [
          3254,
          3218.8,
          3183.6,
          3148.4,
          3113.2,
          3078,
          3042.8,
          3007.6,
          2972.4,
          2937.2,
          2902,
          2866.7999999999997,
          2831.6,
          2796.3999999999996,
          2761.2
         ],
         "y": [
          1218.64,
          1229.4328571428573,
          1240.2257142857143,
          1251.0185714285715,
          1261.8114285714287,
          1272.6042857142859,
          1283.3971428571429,
          1294.19,
          1304.9828571428573,
          1315.7757142857142,
          1326.5685714285714,
          1337.3614285714286,
          1348.1542857142858,
          1358.9471428571428,
          1369.74
         ]
        },
        {
         "hoverinfo": "text",
         "line": {
          "color": "brown",
          "width": 0.6363572165525118
         },
         "mode": "lines",
         "name": "0.6363572165525118",
         "opacity": 0.6363572165525118,
         "text": "Edge: ('acdlite', 'trueadm')    <br>Weight: 0.64",
         "type": "scatter",
         "x": [
          3254,
          3263.6428571428573,
          3273.285714285714,
          3282.9285714285716,
          3292.5714285714284,
          3302.214285714286,
          3311.8571428571427,
          3321.5,
          3331.1428571428573,
          3340.785714285714,
          3350.4285714285716,
          3360.0714285714284,
          3369.714285714286,
          3379.3571428571427,
          3389
         ],
         "y": [
          1218.64,
          1224.9785714285715,
          1231.317142857143,
          1237.6557142857143,
          1243.9942857142858,
          1250.3328571428572,
          1256.6714285714286,
          1263.0100000000002,
          1269.3485714285716,
          1275.687142857143,
          1282.0257142857145,
          1288.3642857142859,
          1294.7028571428573,
          1301.0414285714287,
          1307.38
         ]
        },
        {
         "hoverinfo": "text",
         "line": {
          "color": "brown",
          "width": 0.6229615154740459
         },
         "mode": "lines",
         "name": "0.6229615154740459",
         "opacity": 0.6229615154740459,
         "text": "Edge: ('acdlite', 'rickhanlonii')    <br>Weight: 0.62",
         "type": "scatter",
         "x": [
          3254,
          3291.0142857142855,
          3328.0285714285715,
          3365.042857142857,
          3402.057142857143,
          3439.0714285714284,
          3476.085714285714,
          3513.1,
          3550.1142857142854,
          3587.1285714285714,
          3624.142857142857,
          3661.157142857143,
          3698.1714285714284,
          3735.1857142857143,
          3772.2
         ],
         "y": [
          1218.64,
          1231.0642857142857,
          1243.4885714285715,
          1255.9128571428573,
          1268.337142857143,
          1280.7614285714285,
          1293.1857142857143,
          1305.6100000000001,
          1318.0342857142857,
          1330.4585714285713,
          1342.8828571428571,
          1355.307142857143,
          1367.7314285714285,
          1380.155714285714,
          1392.58
         ]
        },
        {
         "hoverinfo": "text",
         "line": {
          "color": "brown",
          "width": 0.6570431385057813
         },
         "mode": "lines",
         "name": "0.6570431385057813",
         "opacity": 0.6570431385057813,
         "text": "Edge: ('acdlite', 'SimenB')    <br>Weight: 0.66",
         "type": "scatter",
         "x": [
          3254,
          3280.2285714285713,
          3306.457142857143,
          3332.6857142857143,
          3358.9142857142856,
          3385.142857142857,
          3411.3714285714286,
          3437.6,
          3463.828571428571,
          3490.057142857143,
          3516.285714285714,
          3542.5142857142855,
          3568.7428571428572,
          3594.9714285714285,
          3621.2
         ],
         "y": [
          1218.64,
          1194.5357142857144,
          1170.4314285714286,
          1146.327142857143,
          1122.2228571428573,
          1098.1185714285714,
          1074.0142857142857,
          1049.91,
          1025.8057142857142,
          1001.7014285714286,
          977.5971428571429,
          953.4928571428571,
          929.3885714285714,
          905.2842857142857,
          881.18
         ]
        },
        {
         "hoverinfo": "text",
         "line": {
          "color": "brown",
          "width": 0.6027800986849603
         },
         "mode": "lines",
         "name": "0.6027800986849603",
         "opacity": 0.6027800986849603,
         "text": "Edge: ('sebmarkbage', 'trueadm')    <br>Weight: 0.6",
         "type": "scatter",
         "x": [
          2761.2,
          2806.042857142857,
          2850.885714285714,
          2895.7285714285713,
          2940.5714285714284,
          2985.4142857142856,
          3030.2571428571428,
          3075.1,
          3119.942857142857,
          3164.785714285714,
          3209.6285714285714,
          3254.4714285714285,
          3299.3142857142857,
          3344.157142857143,
          3389
         ],
         "y": [
          1369.74,
          1365.2857142857142,
          1360.8314285714287,
          1356.3771428571429,
          1351.922857142857,
          1347.4685714285715,
          1343.0142857142857,
          1338.56,
          1334.1057142857144,
          1329.6514285714286,
          1325.197142857143,
          1320.7428571428572,
          1316.2885714285715,
          1311.834285714286,
          1307.38
         ]
        },
        {
         "hoverinfo": "text",
         "line": {
          "color": "brown",
          "width": 0.7352475401324551
         },
         "mode": "lines",
         "name": "0.7352475401324551",
         "opacity": 0.7352475401324551,
         "text": "Edge: ('jimfb', 'marocchino')    <br>Weight: 0.74",
         "type": "scatter",
         "x": [
          1252.5,
          1222.8742857142856,
          1193.2485714285715,
          1163.6228571428571,
          1133.9971428571428,
          1104.3714285714286,
          1074.7457142857143,
          1045.12,
          1015.4942857142858,
          985.8685714285714,
          956.2428571428571,
          926.6171428571429,
          896.9914285714285,
          867.3657142857144,
          837.74
         ],
         "y": [
          1612.24,
          1613.1042857142857,
          1613.9685714285715,
          1614.8328571428572,
          1615.6971428571428,
          1616.5614285714285,
          1617.4257142857143,
          1618.29,
          1619.1542857142856,
          1620.0185714285715,
          1620.8828571428571,
          1621.7471428571428,
          1622.6114285714284,
          1623.4757142857143,
          1624.34
         ]
        },
        {
         "hoverinfo": "text",
         "line": {
          "color": "brown",
          "width": 0.7278998522107025
         },
         "mode": "lines",
         "name": "0.7278998522107025",
         "opacity": 0.7278998522107025,
         "text": "Edge: ('jimfb', 'kohei-takata')    <br>Weight: 0.73",
         "type": "scatter",
         "x": [
          1252.5,
          1229.4285714285713,
          1206.357142857143,
          1183.2857142857142,
          1160.2142857142858,
          1137.142857142857,
          1114.0714285714284,
          1091,
          1067.9285714285713,
          1044.857142857143,
          1021.7857142857142,
          998.7142857142857,
          975.6428571428571,
          952.5714285714286,
          929.5
         ],
         "y": [
          1612.24,
          1627.1957142857143,
          1642.1514285714286,
          1657.107142857143,
          1672.0628571428572,
          1687.0185714285715,
          1701.9742857142858,
          1716.9299999999998,
          1731.8857142857141,
          1746.8414285714284,
          1761.7971428571427,
          1776.752857142857,
          1791.7085714285713,
          1806.6642857142856,
          1821.62
         ]
        },
        {
         "hoverinfo": "text",
         "line": {
          "color": "brown",
          "width": 0.68098890139367
         },
         "mode": "lines",
         "name": "0.68098890139367",
         "opacity": 0.68098890139367,
         "text": "Edge: ('jimfb', 'Daniel15')    <br>Weight: 0.68",
         "type": "scatter",
         "x": [
          1252.5,
          1244.6042857142857,
          1236.7085714285715,
          1228.8128571428572,
          1220.9171428571428,
          1213.0214285714285,
          1205.1257142857144,
          1197.23,
          1189.3342857142857,
          1181.4385714285715,
          1173.5428571428572,
          1165.6471428571429,
          1157.7514285714285,
          1149.8557142857144,
          1141.96
         ],
         "y": [
          1612.24,
          1633.0342857142857,
          1653.8285714285714,
          1674.6228571428571,
          1695.4171428571428,
          1716.2114285714285,
          1737.0057142857142,
          1757.8,
          1778.5942857142857,
          1799.3885714285714,
          1820.182857142857,
          1840.9771428571428,
          1861.7714285714285,
          1882.5657142857142,
          1903.36
         ]
        },
        {
         "hoverinfo": "text",
         "line": {
          "color": "brown",
          "width": 0.763726549262467
         },
         "mode": "lines",
         "name": "0.763726549262467",
         "opacity": 0.763726549262467,
         "text": "Edge: ('jimfb', 'arkist')    <br>Weight: 0.76",
         "type": "scatter",
         "x": [
          1252.5,
          1241.1228571428571,
          1229.7457142857143,
          1218.3685714285714,
          1206.9914285714285,
          1195.6142857142856,
          1184.2371428571428,
          1172.8600000000001,
          1161.4828571428573,
          1150.1057142857144,
          1138.7285714285715,
          1127.3514285714286,
          1115.9742857142858,
          1104.597142857143,
          1093.22
         ],
         "y": [
          1612.24,
          1608.9071428571428,
          1605.5742857142857,
          1602.2414285714285,
          1598.9085714285713,
          1595.5757142857142,
          1592.242857142857,
          1588.9099999999999,
          1585.577142857143,
          1582.2442857142858,
          1578.9114285714286,
          1575.5785714285714,
          1572.2457142857143,
          1568.912857142857,
          1565.58
         ]
        },
        {
         "hoverinfo": "text",
         "line": {
          "color": "brown",
          "width": 0.6560048263496235
         },
         "mode": "lines",
         "name": "0.6560048263496235",
         "opacity": 0.6560048263496235,
         "text": "Edge: ('jimfb', 'cody')    <br>Weight: 0.66",
         "type": "scatter",
         "x": [
          1252.5,
          1289.5342857142857,
          1326.5685714285714,
          1363.6028571428571,
          1400.6371428571429,
          1437.6714285714286,
          1474.7057142857143,
          1511.74,
          1548.7742857142857,
          1585.8085714285714,
          1622.8428571428572,
          1659.8771428571429,
          1696.9114285714286,
          1733.9457142857143,
          1770.98
         ],
         "y": [
          1612.24,
          1589.2371428571428,
          1566.2342857142858,
          1543.2314285714285,
          1520.2285714285715,
          1497.2257142857143,
          1474.2228571428573,
          1451.22,
          1428.2171428571428,
          1405.2142857142858,
          1382.2114285714285,
          1359.2085714285715,
          1336.2057142857143,
          1313.2028571428573,
          1290.2
         ]
        },
        {
         "hoverinfo": "text",
         "line": {
          "color": "brown",
          "width": 0.6305128598152162
         },
         "mode": "lines",
         "name": "0.6305128598152162",
         "opacity": 0.6305128598152162,
         "text": "Edge: ('jimfb', 'iamchenxin')    <br>Weight: 0.63",
         "type": "scatter",
         "x": [
          1252.5,
          1214.4157142857143,
          1176.3314285714287,
          1138.2471428571428,
          1100.162857142857,
          1062.0785714285714,
          1023.9942857142858,
          985.9100000000001,
          947.8257142857143,
          909.7414285714285,
          871.6571428571428,
          833.5728571428572,
          795.4885714285715,
          757.4042857142857,
          719.32
         ],
         "y": [
          1612.24,
          1620.892857142857,
          1629.5457142857142,
          1638.1985714285715,
          1646.8514285714286,
          1655.5042857142857,
          1664.1571428571428,
          1672.81,
          1681.4628571428573,
          1690.1157142857144,
          1698.7685714285715,
          1707.4214285714286,
          1716.074285714286,
          1724.727142857143,
          1733.38
         ]
        },
        {
         "hoverinfo": "text",
         "line": {
          "color": "brown",
          "width": 0.7236797531172205
         },
         "mode": "lines",
         "name": "0.7236797531172205",
         "opacity": 0.7236797531172205,
         "text": "Edge: ('trueadm', 'necolas')    <br>Weight: 0.72",
         "type": "scatter",
         "x": [
          3389,
          3408.614285714286,
          3428.2285714285713,
          3447.842857142857,
          3467.457142857143,
          3487.0714285714284,
          3506.6857142857143,
          3526.3,
          3545.9142857142856,
          3565.5285714285715,
          3585.142857142857,
          3604.7571428571428,
          3624.3714285714286,
          3643.985714285714,
          3663.6
         ],
         "y": [
          1307.38,
          1327.9628571428573,
          1348.5457142857144,
          1369.1285714285716,
          1389.7114285714285,
          1410.2942857142857,
          1430.8771428571429,
          1451.46,
          1472.0428571428572,
          1492.6257142857144,
          1513.2085714285715,
          1533.7914285714287,
          1554.3742857142856,
          1574.9571428571428,
          1595.54
         ]
        },
        {
         "hoverinfo": "text",
         "line": {
          "color": "brown",
          "width": 0.653014756817781
         },
         "mode": "lines",
         "name": "0.653014756817781",
         "opacity": 0.653014756817781,
         "text": "Edge: ('trueadm', 'aweary')    <br>Weight: 0.65",
         "type": "scatter",
         "x": [
          3389,
          3363.942857142857,
          3338.885714285714,
          3313.828571428571,
          3288.7714285714287,
          3263.714285714286,
          3238.657142857143,
          3213.6,
          3188.542857142857,
          3163.485714285714,
          3138.428571428571,
          3113.3714285714286,
          3088.3142857142857,
          3063.2571428571428,
          3038.2
         ],
         "y": [
          1307.38,
          1283.7557142857145,
          1260.1314285714286,
          1236.507142857143,
          1212.8828571428571,
          1189.2585714285715,
          1165.6342857142859,
          1142.01,
          1118.3857142857144,
          1094.7614285714285,
          1071.1371428571429,
          1047.5128571428572,
          1023.8885714285714,
          1000.2642857142857,
          976.64
         ]
        },
        {
         "hoverinfo": "text",
         "line": {
          "color": "brown",
          "width": 0.6021469042245009
         },
         "mode": "lines",
         "name": "0.6021469042245009",
         "opacity": 0.6021469042245009,
         "text": "Edge: ('trueadm', 'eps1lon')    <br>Weight: 0.6",
         "type": "scatter",
         "x": [
          3389,
          3410.2714285714287,
          3431.542857142857,
          3452.8142857142857,
          3474.0857142857144,
          3495.357142857143,
          3516.6285714285714,
          3537.9,
          3559.171428571429,
          3580.442857142857,
          3601.714285714286,
          3622.9857142857145,
          3644.2571428571428,
          3665.5285714285715,
          3686.8
         ],
         "y": [
          1307.38,
          1295.4742857142858,
          1283.5685714285714,
          1271.6628571428573,
          1259.757142857143,
          1247.8514285714286,
          1235.9457142857143,
          1224.04,
          1212.1342857142859,
          1200.2285714285715,
          1188.3228571428572,
          1176.4171428571428,
          1164.5114285714285,
          1152.6057142857144,
          1140.7
         ]
        },
        {
         "hoverinfo": "text",
         "line": {
          "color": "brown",
          "width": 0.6168766405174038
         },
         "mode": "lines",
         "name": "0.6168766405174038",
         "opacity": 0.6168766405174038,
         "text": "Edge: ('trueadm', 'sompylasar')    <br>Weight: 0.62",
         "type": "scatter",
         "x": [
          3389,
          3433.3,
          3477.6,
          3521.9,
          3566.2,
          3610.5,
          3654.8,
          3699.1,
          3743.4,
          3787.7,
          3832,
          3876.2999999999997,
          3920.6,
          3964.8999999999996,
          4009.2
         ],
         "y": [
          1307.38,
          1299.4814285714288,
          1291.5828571428572,
          1283.6842857142858,
          1275.7857142857144,
          1267.8871428571429,
          1259.9885714285715,
          1252.0900000000001,
          1244.1914285714286,
          1236.2928571428572,
          1228.3942857142856,
          1220.4957142857143,
          1212.597142857143,
          1204.6985714285713,
          1196.8
         ]
        },
        {
         "hoverinfo": "text",
         "line": {
          "color": "brown",
          "width": 0.681448374139174
         },
         "mode": "lines",
         "name": "0.681448374139174",
         "opacity": 0.681448374139174,
         "text": "Edge: ('petehunt', 'chenglou')    <br>Weight: 0.68",
         "type": "scatter",
         "x": [
          1137.7,
          1130.4985714285715,
          1123.297142857143,
          1116.0957142857144,
          1108.8942857142858,
          1101.6928571428573,
          1094.4914285714287,
          1087.29,
          1080.0885714285714,
          1072.8871428571429,
          1065.6857142857143,
          1058.4842857142858,
          1051.2828571428572,
          1044.0814285714287,
          1036.88
         ],
         "y": [
          1062.72,
          1076.8885714285714,
          1091.057142857143,
          1105.2257142857143,
          1119.3942857142856,
          1133.5628571428572,
          1147.7314285714285,
          1161.9,
          1176.0685714285714,
          1190.2371428571428,
          1204.4057142857143,
          1218.5742857142857,
          1232.742857142857,
          1246.9114285714286,
          1261.08
         ]
        },
        {
         "hoverinfo": "text",
         "line": {
          "color": "brown",
          "width": 0.6342076750358349
         },
         "mode": "lines",
         "name": "0.6342076750358349",
         "opacity": 0.6342076750358349,
         "text": "Edge: ('petehunt', 'benjamn')    <br>Weight: 0.63",
         "type": "scatter",
         "x": [
          1137.7,
          1133.9585714285715,
          1130.2171428571428,
          1126.4757142857143,
          1122.7342857142858,
          1118.9928571428572,
          1115.2514285714285,
          1111.51,
          1107.7685714285715,
          1104.0271428571427,
          1100.2857142857142,
          1096.5442857142857,
          1092.8028571428572,
          1089.0614285714285,
          1085.32
         ],
         "y": [
          1062.72,
          1042.7214285714285,
          1022.7228571428572,
          1002.7242857142858,
          982.7257142857143,
          962.7271428571429,
          942.7285714285714,
          922.73,
          902.7314285714285,
          882.7328571428571,
          862.7342857142858,
          842.7357142857143,
          822.7371428571429,
          802.7385714285715,
          782.74
         ]
        },
        {
         "hoverinfo": "text",
         "line": {
          "color": "brown",
          "width": 0.6779944236156472
         },
         "mode": "lines",
         "name": "0.6779944236156472",
         "opacity": 0.6779944236156472,
         "text": "Edge: ('petehunt', 'subtleGradient')    <br>Weight: 0.68",
         "type": "scatter",
         "x": [
          1137.7,
          1103.7071428571428,
          1069.7142857142858,
          1035.7214285714285,
          1001.7285714285715,
          967.7357142857143,
          933.7428571428571,
          899.75,
          865.7571428571429,
          831.7642857142857,
          797.7714285714286,
          763.7785714285715,
          729.7857142857142,
          695.7928571428572,
          661.8
         ],
         "y": [
          1062.72,
          1049.9757142857143,
          1037.2314285714285,
          1024.4871428571428,
          1011.7428571428571,
          998.9985714285714,
          986.2542857142857,
          973.51,
          960.7657142857142,
          948.0214285714285,
          935.2771428571428,
          922.5328571428571,
          909.7885714285715,
          897.0442857142857,
          884.3
         ]
        },
        {
         "hoverinfo": "text",
         "line": {
          "color": "brown",
          "width": 0.6269304830837928
         },
         "mode": "lines",
         "name": "0.6269304830837928",
         "opacity": 0.6269304830837928,
         "text": "Edge: ('petehunt', 'syranide')    <br>Weight: 0.63",
         "type": "scatter",
         "x": [
          1137.7,
          1118.5128571428572,
          1099.3257142857144,
          1080.1385714285716,
          1060.9514285714286,
          1041.7642857142857,
          1022.5771428571429,
          1003.3900000000001,
          984.2028571428572,
          965.0157142857144,
          945.8285714285714,
          926.6414285714286,
          907.4542857142858,
          888.267142857143,
          869.08
         ],
         "y": [
          1062.72,
          1058.5142857142857,
          1054.3085714285714,
          1050.1028571428571,
          1045.8971428571429,
          1041.6914285714286,
          1037.4857142857143,
          1033.28,
          1029.0742857142857,
          1024.8685714285714,
          1020.6628571428572,
          1016.4571428571429,
          1012.2514285714286,
          1008.0457142857143,
          1003.84
         ]
        },
        {
         "hoverinfo": "text",
         "line": {
          "color": "brown",
          "width": 0.6733060561003386
         },
         "mode": "lines",
         "name": "0.6733060561003386",
         "opacity": 0.6733060561003386,
         "text": "Edge: ('petehunt', 'joshduck')    <br>Weight: 0.67",
         "type": "scatter",
         "x": [
          1137.7,
          1148.8257142857144,
          1159.9514285714286,
          1171.077142857143,
          1182.2028571428573,
          1193.3285714285714,
          1204.4542857142858,
          1215.58,
          1226.7057142857143,
          1237.8314285714287,
          1248.9571428571428,
          1260.0828571428572,
          1271.2085714285715,
          1282.3342857142857,
          1293.46
         ],
         "y": [
          1062.72,
          1056.2328571428573,
          1049.7457142857143,
          1043.2585714285715,
          1036.7714285714285,
          1030.2842857142857,
          1023.7971428571428,
          1017.31,
          1010.8228571428572,
          1004.3357142857143,
          997.8485714285714,
          991.3614285714285,
          984.8742857142856,
          978.3871428571429,
          971.9
         ]
        },
        {
         "hoverinfo": "text",
         "line": {
          "color": "brown",
          "width": 0.6343896697657267
         },
         "mode": "lines",
         "name": "0.6343896697657267",
         "opacity": 0.6343896697657267,
         "text": "Edge: ('petehunt', 'jordwalke')    <br>Weight: 0.63",
         "type": "scatter",
         "x": [
          1137.7,
          1121.94,
          1106.18,
          1090.42,
          1074.66,
          1058.9,
          1043.14,
          1027.38,
          1011.62,
          995.86,
          980.0999999999999,
          964.3399999999999,
          948.5799999999999,
          932.8199999999999,
          917.06
         ],
         "y": [
          1062.72,
          1049.057142857143,
          1035.3942857142858,
          1021.7314285714286,
          1008.0685714285714,
          994.4057142857143,
          980.7428571428572,
          967.08,
          953.417142857143,
          939.7542857142857,
          926.0914285714287,
          912.4285714285714,
          898.7657142857144,
          885.1028571428571,
          871.44
         ]
        },
        {
         "hoverinfo": "text",
         "line": {
          "color": "brown",
          "width": 0.6225073783176072
         },
         "mode": "lines",
         "name": "0.6225073783176072",
         "opacity": 0.6225073783176072,
         "text": "Edge: ('chenglou', 'syranide')    <br>Weight: 0.62",
         "type": "scatter",
         "x": [
          1036.88,
          1024.8942857142858,
          1012.9085714285716,
          1000.9228571428572,
          988.9371428571429,
          976.9514285714287,
          964.9657142857144,
          952.98,
          940.9942857142858,
          929.0085714285715,
          917.0228571428572,
          905.037142857143,
          893.0514285714287,
          881.0657142857143,
          869.08
         ],
         "y": [
          1261.08,
          1242.7057142857143,
          1224.3314285714284,
          1205.9571428571428,
          1187.5828571428572,
          1169.2085714285713,
          1150.8342857142857,
          1132.46,
          1114.0857142857142,
          1095.7114285714285,
          1077.337142857143,
          1058.962857142857,
          1040.5885714285714,
          1022.2142857142858,
          1003.84
         ]
        },
        {
         "hoverinfo": "text",
         "line": {
          "color": "brown",
          "width": 0.9532896875453069
         },
         "mode": "lines",
         "name": "0.9532896875453069",
         "opacity": 0.9532896875453069,
         "text": "Edge: ('chenglou', 'mcsheffrey')    <br>Weight: 0.95",
         "type": "scatter",
         "x": [
          1036.88,
          1006.667142857143,
          976.4542857142858,
          946.2414285714286,
          916.0285714285715,
          885.8157142857143,
          855.6028571428571,
          825.3900000000001,
          795.1771428571428,
          764.9642857142858,
          734.7514285714285,
          704.5385714285715,
          674.3257142857143,
          644.1128571428571,
          613.9
         ],
         "y": [
          1261.08,
          1265.9514285714286,
          1270.8228571428572,
          1275.6942857142856,
          1280.5657142857142,
          1285.4371428571428,
          1290.3085714285714,
          1295.1799999999998,
          1300.0514285714285,
          1304.922857142857,
          1309.7942857142857,
          1314.6657142857143,
          1319.5371428571427,
          1324.4085714285713,
          1329.28
         ]
        },
        {
         "hoverinfo": "text",
         "line": {
          "color": "brown",
          "width": 0.6302124989422783
         },
         "mode": "lines",
         "name": "0.6302124989422783",
         "opacity": 0.6302124989422783,
         "text": "Edge: ('chenglou', 'arkist')    <br>Weight: 0.63",
         "type": "scatter",
         "x": [
          1036.88,
          1040.9042857142858,
          1044.9285714285716,
          1048.9528571428573,
          1052.977142857143,
          1057.0014285714287,
          1061.0257142857145,
          1065.0500000000002,
          1069.0742857142857,
          1073.0985714285714,
          1077.1228571428571,
          1081.1471428571429,
          1085.1714285714286,
          1089.1957142857143,
          1093.22
         ],
         "y": [
          1261.08,
          1282.83,
          1304.58,
          1326.33,
          1348.08,
          1369.83,
          1391.58,
          1413.33,
          1435.08,
          1456.83,
          1478.58,
          1500.33,
          1522.08,
          1543.83,
          1565.58
         ]
        },
        {
         "hoverinfo": "text",
         "line": {
          "color": "brown",
          "width": 0.6552678181367331
         },
         "mode": "lines",
         "name": "0.6552678181367331",
         "opacity": 0.6552678181367331,
         "text": "Edge: ('vjeux', 'joshduck')    <br>Weight: 0.66",
         "type": "scatter",
         "x": [
          1580.62,
          1560.1085714285714,
          1539.5971428571427,
          1519.0857142857142,
          1498.5742857142857,
          1478.0628571428572,
          1457.5514285714285,
          1437.04,
          1416.5285714285715,
          1396.017142857143,
          1375.5057142857142,
          1354.9942857142858,
          1334.4828571428573,
          1313.9714285714285,
          1293.46
         ],
         "y": [
          1100.66,
          1091.4628571428573,
          1082.2657142857142,
          1073.0685714285714,
          1063.8714285714286,
          1054.6742857142858,
          1045.477142857143,
          1036.28,
          1027.0828571428572,
          1017.8857142857144,
          1008.6885714285714,
          999.4914285714285,
          990.2942857142857,
          981.0971428571429,
          971.9
         ]
        },
        {
         "hoverinfo": "text",
         "line": {
          "color": "brown",
          "width": 0.6691374456174527
         },
         "mode": "lines",
         "name": "0.6691374456174527",
         "opacity": 0.6691374456174527,
         "text": "Edge: ('vjeux', 'cody')    <br>Weight: 0.67",
         "type": "scatter",
         "x": [
          1580.62,
          1594.2171428571428,
          1607.8142857142857,
          1621.4114285714286,
          1635.0085714285713,
          1648.6057142857142,
          1662.202857142857,
          1675.8,
          1689.3971428571429,
          1702.9942857142858,
          1716.5914285714287,
          1730.1885714285713,
          1743.7857142857142,
          1757.3828571428571,
          1770.98
         ],
         "y": [
          1100.66,
          1114.1985714285715,
          1127.737142857143,
          1141.2757142857145,
          1154.8142857142857,
          1168.3528571428571,
          1181.8914285714286,
          1195.43,
          1208.9685714285715,
          1222.507142857143,
          1236.0457142857144,
          1249.5842857142857,
          1263.1228571428571,
          1276.6614285714286,
          1290.2
         ]
        },
        {
         "hoverinfo": "text",
         "line": {
          "color": "brown",
          "width": 0.6769140757530065
         },
         "mode": "lines",
         "name": "0.6769140757530065",
         "opacity": 0.6769140757530065,
         "text": "Edge: ('benjamn', 'subtleGradient')    <br>Weight: 0.68",
         "type": "scatter",
         "x": [
          1085.32,
          1055.0685714285714,
          1024.8171428571427,
          994.5657142857142,
          964.3142857142857,
          934.0628571428571,
          903.8114285714285,
          873.56,
          843.3085714285714,
          813.0571428571428,
          782.8057142857142,
          752.5542857142857,
          722.3028571428571,
          692.0514285714285,
          661.8
         ],
         "y": [
          782.74,
          789.9942857142858,
          797.2485714285714,
          804.5028571428571,
          811.7571428571429,
          819.0114285714286,
          826.2657142857142,
          833.52,
          840.7742857142857,
          848.0285714285714,
          855.2828571428571,
          862.5371428571428,
          869.7914285714285,
          877.0457142857142,
          884.3
         ]
        },
        {
         "hoverinfo": "text",
         "line": {
          "color": "brown",
          "width": 0.6145350648903352
         },
         "mode": "lines",
         "name": "0.6145350648903352",
         "opacity": 0.6145350648903352,
         "text": "Edge: ('benjamn', 'joshduck')    <br>Weight: 0.61",
         "type": "scatter",
         "x": [
          1085.32,
          1100.1871428571428,
          1115.0542857142857,
          1129.9214285714286,
          1144.7885714285715,
          1159.6557142857143,
          1174.5228571428572,
          1189.3899999999999,
          1204.2571428571428,
          1219.1242857142856,
          1233.9914285714285,
          1248.8585714285714,
          1263.7257142857143,
          1278.5928571428572,
          1293.46
         ],
         "y": [
          782.74,
          796.2514285714286,
          809.7628571428571,
          823.2742857142857,
          836.7857142857143,
          850.2971428571428,
          863.8085714285714,
          877.3199999999999,
          890.8314285714285,
          904.3428571428572,
          917.8542857142857,
          931.3657142857143,
          944.8771428571429,
          958.3885714285714,
          971.9
         ]
        },
        {
         "hoverinfo": "text",
         "line": {
          "color": "brown",
          "width": 0.6067825669403287
         },
         "mode": "lines",
         "name": "0.6067825669403287",
         "opacity": 0.6067825669403287,
         "text": "Edge: ('benjamn', 'jordwalke')    <br>Weight: 0.61",
         "type": "scatter",
         "x": [
          1085.32,
          1073.3014285714285,
          1061.282857142857,
          1049.2642857142857,
          1037.2457142857143,
          1025.2271428571428,
          1013.2085714285713,
          1001.1899999999999,
          989.1714285714285,
          977.1528571428571,
          965.1342857142856,
          953.1157142857143,
          941.0971428571428,
          929.0785714285714,
          917.06
         ],
         "y": [
          782.74,
          789.0757142857143,
          795.4114285714286,
          801.7471428571429,
          808.0828571428572,
          814.4185714285715,
          820.7542857142857,
          827.09,
          833.4257142857143,
          839.7614285714286,
          846.0971428571429,
          852.4328571428572,
          858.7685714285715,
          865.1042857142858,
          871.44
         ]
        },
        {
         "hoverinfo": "text",
         "line": {
          "color": "brown",
          "width": 0.6281691998316704
         },
         "mode": "lines",
         "name": "0.6281691998316704",
         "opacity": 0.6281691998316704,
         "text": "Edge: ('yungsters', 'joshduck')    <br>Weight: 0.63",
         "type": "scatter",
         "x": [
          1413.48,
          1404.9071428571428,
          1396.3342857142857,
          1387.7614285714285,
          1379.1885714285715,
          1370.6157142857144,
          1362.0428571428572,
          1353.47,
          1344.8971428571429,
          1336.3242857142857,
          1327.7514285714285,
          1319.1785714285716,
          1310.6057142857144,
          1302.0328571428572,
          1293.46
         ],
         "y": [
          1065.54,
          1058.8514285714286,
          1052.162857142857,
          1045.4742857142858,
          1038.7857142857142,
          1032.097142857143,
          1025.4085714285713,
          1018.72,
          1012.0314285714286,
          1005.3428571428572,
          998.6542857142857,
          991.9657142857143,
          985.2771428571428,
          978.5885714285714,
          971.9
         ]
        },
        {
         "hoverinfo": "text",
         "line": {
          "color": "brown",
          "width": 0.6105263131452907
         },
         "mode": "lines",
         "name": "0.6105263131452907",
         "opacity": 0.6105263131452907,
         "text": "Edge: ('subtleGradient', 'chicoxyzzy')    <br>Weight: 0.61",
         "type": "scatter",
         "x": [
          661.8,
          673.7542857142856,
          685.7085714285714,
          697.6628571428571,
          709.6171428571428,
          721.5714285714286,
          733.5257142857142,
          745.48,
          757.4342857142857,
          769.3885714285714,
          781.3428571428572,
          793.2971428571428,
          805.2514285714285,
          817.2057142857143,
          829.16
         ],
         "y": [
          884.3,
          907.99,
          931.68,
          955.37,
          979.06,
          1002.75,
          1026.44,
          1050.13,
          1073.82,
          1097.51,
          1121.2,
          1144.8899999999999,
          1168.58,
          1192.27,
          1215.96
         ]
        },
        {
         "hoverinfo": "text",
         "line": {
          "color": "brown",
          "width": 0.6041681947049306
         },
         "mode": "lines",
         "name": "0.6041681947049306",
         "opacity": 0.6041681947049306,
         "text": "Edge: ('subtleGradient', 'fabiomcosta')    <br>Weight: 0.6",
         "type": "scatter",
         "x": [
          661.8,
          622.5531428571428,
          583.3062857142857,
          544.0594285714285,
          504.8125714285714,
          465.56571428571425,
          426.31885714285715,
          387.072,
          347.82514285714285,
          308.5782857142857,
          269.33142857142855,
          230.08457142857145,
          190.8377142857143,
          151.59085714285715,
          112.344
         ],
         "y": [
          884.3,
          859.18,
          834.06,
          808.9399999999999,
          783.8199999999999,
          758.6999999999999,
          733.5799999999999,
          708.46,
          683.3399999999999,
          658.22,
          633.0999999999999,
          607.98,
          582.86,
          557.74,
          532.62
         ]
        },
        {
         "hoverinfo": "text",
         "line": {
          "color": "brown",
          "width": 0.7227812322991857
         },
         "mode": "lines",
         "name": "0.7227812322991857",
         "opacity": 0.7227812322991857,
         "text": "Edge: ('subtleGradient', 'jordwalke')    <br>Weight: 0.72",
         "type": "scatter",
         "x": [
          661.8,
          680.0328571428571,
          698.2657142857142,
          716.4985714285714,
          734.7314285714285,
          752.9642857142857,
          771.1971428571428,
          789.43,
          807.6628571428571,
          825.8957142857142,
          844.1285714285714,
          862.3614285714285,
          880.5942857142857,
          898.8271428571428,
          917.06
         ],
         "y": [
          884.3,
          883.3814285714285,
          882.4628571428572,
          881.5442857142857,
          880.6257142857143,
          879.7071428571428,
          878.7885714285715,
          877.87,
          876.9514285714286,
          876.0328571428572,
          875.1142857142858,
          874.1957142857143,
          873.2771428571428,
          872.3585714285715,
          871.44
         ]
        },
        {
         "hoverinfo": "text",
         "line": {
          "color": "brown",
          "width": 0.7446507496988276
         },
         "mode": "lines",
         "name": "0.7446507496988276",
         "opacity": 0.7446507496988276,
         "text": "Edge: ('nhunzaker', 'aweary')    <br>Weight: 0.74",
         "type": "scatter",
         "x": [
          3076.2,
          3073.485714285714,
          3070.7714285714283,
          3068.0571428571425,
          3065.342857142857,
          3062.6285714285714,
          3059.9142857142856,
          3057.2,
          3054.485714285714,
          3051.7714285714283,
          3049.0571428571425,
          3046.342857142857,
          3043.6285714285714,
          3040.9142857142856,
          3038.2
         ],
         "y": [
          834.7,
          844.8385714285714,
          854.9771428571429,
          865.1157142857144,
          875.2542857142857,
          885.3928571428571,
          895.5314285714286,
          905.6700000000001,
          915.8085714285714,
          925.9471428571428,
          936.0857142857143,
          946.2242857142858,
          956.3628571428571,
          966.5014285714285,
          976.64
         ]
        },
        {
         "hoverinfo": "text",
         "line": {
          "color": "brown",
          "width": 0.7332922125341923
         },
         "mode": "lines",
         "name": "0.7332922125341923",
         "opacity": 0.7332922125341923,
         "text": "Edge: ('nhunzaker', 'jquense')    <br>Weight: 0.73",
         "type": "scatter",
         "x": [
          3076.2,
          3032.8571428571427,
          2989.5142857142855,
          2946.1714285714284,
          2902.828571428571,
          2859.485714285714,
          2816.142857142857,
          2772.8,
          2729.457142857143,
          2686.114285714286,
          2642.7714285714287,
          2599.4285714285716,
          2556.0857142857144,
          2512.7428571428572,
          2469.4
         ],
         "y": [
          834.7,
          849.61,
          864.5200000000001,
          879.4300000000001,
          894.34,
          909.25,
          924.1600000000001,
          939.07,
          953.98,
          968.8900000000001,
          983.8000000000001,
          998.71,
          1013.6200000000001,
          1028.53,
          1043.44
         ]
        },
        {
         "hoverinfo": "text",
         "line": {
          "color": "brown",
          "width": 0.6153685646300352
         },
         "mode": "lines",
         "name": "0.6153685646300352",
         "opacity": 0.6153685646300352,
         "text": "Edge: ('nhunzaker', 'SimenB')    <br>Weight: 0.62",
         "type": "scatter",
         "x": [
          3076.2,
          3115.1285714285714,
          3154.0571428571425,
          3192.985714285714,
          3231.9142857142856,
          3270.842857142857,
          3309.7714285714283,
          3348.7,
          3387.6285714285714,
          3426.557142857143,
          3465.485714285714,
          3504.4142857142856,
          3543.342857142857,
          3582.2714285714283,
          3621.2
         ],
         "y": [
          834.7,
          838.02,
          841.34,
          844.6600000000001,
          847.98,
          851.3,
          854.62,
          857.94,
          861.26,
          864.5799999999999,
          867.9,
          871.22,
          874.54,
          877.8599999999999,
          881.18
         ]
        },
        {
         "hoverinfo": "text",
         "line": {
          "color": "brown",
          "width": 0.6119337770480838
         },
         "mode": "lines",
         "name": "0.6119337770480838",
         "opacity": 0.6119337770480838,
         "text": "Edge: ('nhunzaker', 'raphamorim')    <br>Weight: 0.61",
         "type": "scatter",
         "x": [
          3076.2,
          3097.8999999999996,
          3119.6,
          3141.2999999999997,
          3163,
          3184.7,
          3206.4,
          3228.1,
          3249.7999999999997,
          3271.5,
          3293.2,
          3314.9,
          3336.6,
          3358.3,
          3380
         ],
         "y": [
          834.7,
          816.3842857142857,
          798.0685714285714,
          779.7528571428572,
          761.4371428571429,
          743.1214285714286,
          724.8057142857143,
          706.49,
          688.1742857142857,
          669.8585714285714,
          651.5428571428572,
          633.2271428571429,
          614.9114285714286,
          596.5957142857143,
          578.28
         ]
        },
        {
         "hoverinfo": "text",
         "line": {
          "color": "brown",
          "width": 0.6551396817404147
         },
         "mode": "lines",
         "name": "0.6551396817404147",
         "opacity": 0.6551396817404147,
         "text": "Edge: ('syranide', 'joshduck')    <br>Weight: 0.66",
         "type": "scatter",
         "x": [
          869.08,
          899.3928571428572,
          929.7057142857143,
          960.0185714285715,
          990.3314285714287,
          1020.6442857142857,
          1050.957142857143,
          1081.27,
          1111.5828571428572,
          1141.8957142857143,
          1172.2085714285715,
          1202.5214285714287,
          1232.8342857142857,
          1263.1471428571429,
          1293.46
         ],
         "y": [
          1003.84,
          1001.5585714285714,
          999.2771428571428,
          996.9957142857143,
          994.7142857142858,
          992.4328571428572,
          990.1514285714286,
          987.87,
          985.5885714285714,
          983.3071428571428,
          981.0257142857142,
          978.7442857142858,
          976.4628571428572,
          974.1814285714286,
          971.9
         ]
        },
        {
         "hoverinfo": "text",
         "line": {
          "color": "brown",
          "width": 0.6053392751621074
         },
         "mode": "lines",
         "name": "0.6053392751621074",
         "opacity": 0.6053392751621074,
         "text": "Edge: ('syranide', 'jordwalke')    <br>Weight: 0.61",
         "type": "scatter",
         "x": [
          869.08,
          872.5071428571429,
          875.9342857142857,
          879.3614285714286,
          882.7885714285715,
          886.2157142857143,
          889.6428571428571,
          893.0699999999999,
          896.4971428571429,
          899.9242857142857,
          903.3514285714285,
          906.7785714285714,
          910.2057142857143,
          913.6328571428571,
          917.06
         ],
         "y": [
          1003.84,
          994.3828571428571,
          984.9257142857143,
          975.4685714285715,
          966.0114285714286,
          956.5542857142857,
          947.0971428571429,
          937.6400000000001,
          928.1828571428572,
          918.7257142857143,
          909.2685714285715,
          899.8114285714287,
          890.3542857142858,
          880.8971428571429,
          871.44
         ]
        },
        {
         "hoverinfo": "text",
         "line": {
          "color": "brown",
          "width": 0.8924655965786988
         },
         "mode": "lines",
         "name": "0.8924655965786988",
         "opacity": 0.8924655965786988,
         "text": "Edge: ('flarnie', 'sompylasar')    <br>Weight: 0.89",
         "type": "scatter",
         "x": [
          4554,
          4515.085714285714,
          4476.171428571429,
          4437.257142857143,
          4398.342857142857,
          4359.428571428572,
          4320.5142857142855,
          4281.6,
          4242.685714285714,
          4203.771428571428,
          4164.857142857143,
          4125.942857142857,
          4087.0285714285715,
          4048.1142857142854,
          4009.2
         ],
         "y": [
          1048.46,
          1059.0557142857142,
          1069.6514285714286,
          1080.247142857143,
          1090.8428571428572,
          1101.4385714285713,
          1112.0342857142857,
          1122.63,
          1133.2257142857143,
          1143.8214285714284,
          1154.4171428571428,
          1165.0128571428572,
          1175.6085714285714,
          1186.2042857142856,
          1196.8
         ]
        },
        {
         "hoverinfo": "text",
         "line": {
          "color": "brown",
          "width": 0.6398925493336245
         },
         "mode": "lines",
         "name": "0.6398925493336245",
         "opacity": 0.6398925493336245,
         "text": "Edge: ('koba04', 'Daniel15')    <br>Weight: 0.64",
         "type": "scatter",
         "x": [
          827.4,
          849.8685714285714,
          872.3371428571428,
          894.8057142857143,
          917.2742857142857,
          939.7428571428571,
          962.2114285714285,
          984.6800000000001,
          1007.1485714285715,
          1029.6171428571429,
          1052.0857142857144,
          1074.5542857142857,
          1097.0228571428572,
          1119.4914285714285,
          1141.96
         ],
         "y": [
          2380.8,
          2346.697142857143,
          2312.594285714286,
          2278.4914285714285,
          2244.3885714285716,
          2210.285714285714,
          2176.1828571428573,
          2142.08,
          2107.977142857143,
          2073.8742857142856,
          2039.7714285714287,
          2005.6685714285713,
          1971.5657142857142,
          1937.462857142857,
          1903.36
         ]
        },
        {
         "hoverinfo": "text",
         "line": {
          "color": "brown",
          "width": 0.7082083861295889
         },
         "mode": "lines",
         "name": "0.7082083861295889",
         "opacity": 0.7082083861295889,
         "text": "Edge: ('aweary', 'jquense')    <br>Weight: 0.71",
         "type": "scatter",
         "x": [
          3038.2,
          2997.5714285714284,
          2956.942857142857,
          2916.3142857142857,
          2875.6857142857143,
          2835.057142857143,
          2794.4285714285716,
          2753.8,
          2713.1714285714284,
          2672.542857142857,
          2631.9142857142856,
          2591.285714285714,
          2550.657142857143,
          2510.0285714285715,
          2469.4
         ],
         "y": [
          976.64,
          981.4114285714286,
          986.1828571428572,
          990.9542857142857,
          995.7257142857143,
          1000.4971428571429,
          1005.2685714285715,
          1010.04,
          1014.8114285714286,
          1019.5828571428572,
          1024.3542857142857,
          1029.1257142857144,
          1033.8971428571429,
          1038.6685714285716,
          1043.44
         ]
        },
        {
         "hoverinfo": "text",
         "line": {
          "color": "brown",
          "width": 0.6042189106972743
         },
         "mode": "lines",
         "name": "0.6042189106972743",
         "opacity": 0.6042189106972743,
         "text": "Edge: ('aweary', 'raphamorim')    <br>Weight: 0.6",
         "type": "scatter",
         "x": [
          3038.2,
          3062.6142857142854,
          3087.0285714285715,
          3111.442857142857,
          3135.8571428571427,
          3160.2714285714283,
          3184.6857142857143,
          3209.1,
          3233.5142857142855,
          3257.9285714285716,
          3282.342857142857,
          3306.7571428571428,
          3331.171428571429,
          3355.5857142857144,
          3380
         ],
         "y": [
          976.64,
          948.1857142857143,
          919.7314285714285,
          891.2771428571428,
          862.8228571428572,
          834.3685714285714,
          805.9142857142857,
          777.46,
          749.0057142857142,
          720.5514285714286,
          692.0971428571429,
          663.6428571428571,
          635.1885714285714,
          606.7342857142858,
          578.28
         ]
        },
        {
         "hoverinfo": "text",
         "line": {
          "color": "brown",
          "width": 0.7247467994025996
         },
         "mode": "lines",
         "name": "0.7247467994025996",
         "opacity": 0.7247467994025996,
         "text": "Edge: ('rickhanlonii', 'eps1lon')    <br>Weight: 0.72",
         "type": "scatter",
         "x": [
          3772.2,
          3766.1,
          3760,
          3753.9,
          3747.7999999999997,
          3741.7,
          3735.6,
          3729.5,
          3723.4,
          3717.3,
          3711.2000000000003,
          3705.1,
          3699,
          3692.9,
          3686.8
         ],
         "y": [
          1392.58,
          1374.5885714285714,
          1356.597142857143,
          1338.6057142857142,
          1320.6142857142856,
          1302.6228571428571,
          1284.6314285714286,
          1266.6399999999999,
          1248.6485714285714,
          1230.6571428571428,
          1212.6657142857143,
          1194.6742857142858,
          1176.682857142857,
          1158.6914285714286,
          1140.7
         ]
        },
        {
         "hoverinfo": "text",
         "line": {
          "color": "brown",
          "width": 0.6664018888107169
         },
         "mode": "lines",
         "name": "0.6664018888107169",
         "opacity": 0.6664018888107169,
         "text": "Edge: ('rickhanlonii', 'sompylasar')    <br>Weight: 0.67",
         "type": "scatter",
         "x": [
          3772.2,
          3789.1285714285714,
          3806.0571428571425,
          3822.985714285714,
          3839.9142857142856,
          3856.842857142857,
          3873.7714285714283,
          3890.7,
          3907.6285714285714,
          3924.5571428571425,
          3941.485714285714,
          3958.4142857142856,
          3975.3428571428567,
          3992.2714285714283,
          4009.2
         ],
         "y": [
          1392.58,
          1378.5957142857142,
          1364.6114285714284,
          1350.6271428571429,
          1336.642857142857,
          1322.6585714285713,
          1308.6742857142856,
          1294.69,
          1280.7057142857143,
          1266.7214285714285,
          1252.7371428571428,
          1238.752857142857,
          1224.7685714285712,
          1210.7842857142857,
          1196.8
         ]
        },
        {
         "hoverinfo": "text",
         "line": {
          "color": "brown",
          "width": 0.6775859470363493
         },
         "mode": "lines",
         "name": "0.6775859470363493",
         "opacity": 0.6775859470363493,
         "text": "Edge: ('marocchino', 'kohei-takata')    <br>Weight: 0.68",
         "type": "scatter",
         "x": [
          837.74,
          844.2942857142857,
          850.8485714285714,
          857.4028571428571,
          863.9571428571429,
          870.5114285714286,
          877.0657142857143,
          883.62,
          890.1742857142857,
          896.7285714285714,
          903.2828571428571,
          909.8371428571429,
          916.3914285714286,
          922.9457142857143,
          929.5
         ],
         "y": [
          1624.34,
          1638.4314285714286,
          1652.522857142857,
          1666.6142857142856,
          1680.7057142857143,
          1694.7971428571427,
          1708.8885714285714,
          1722.98,
          1737.0714285714284,
          1751.162857142857,
          1765.2542857142855,
          1779.3457142857142,
          1793.4371428571428,
          1807.5285714285712,
          1821.62
         ]
        },
        {
         "hoverinfo": "text",
         "line": {
          "color": "brown",
          "width": 0.6782237511368694
         },
         "mode": "lines",
         "name": "0.6782237511368694",
         "opacity": 0.6782237511368694,
         "text": "Edge: ('marocchino', 'chicoxyzzy')    <br>Weight: 0.68",
         "type": "scatter",
         "x": [
          837.74,
          837.1271428571429,
          836.5142857142857,
          835.9014285714286,
          835.2885714285715,
          834.6757142857143,
          834.0628571428572,
          833.45,
          832.8371428571428,
          832.2242857142857,
          831.6114285714285,
          830.9985714285714,
          830.3857142857142,
          829.7728571428571,
          829.16
         ],
         "y": [
          1624.34,
          1595.1699999999998,
          1566,
          1536.83,
          1507.6599999999999,
          1478.49,
          1449.32,
          1420.15,
          1390.98,
          1361.81,
          1332.6399999999999,
          1303.47,
          1274.3,
          1245.13,
          1215.96
         ]
        },
        {
         "hoverinfo": "text",
         "line": {
          "color": "brown",
          "width": 0.6625097589747317
         },
         "mode": "lines",
         "name": "0.6625097589747317",
         "opacity": 0.6625097589747317,
         "text": "Edge: ('marocchino', 'Daniel15')    <br>Weight: 0.66",
         "type": "scatter",
         "x": [
          837.74,
          859.47,
          881.2,
          902.9300000000001,
          924.66,
          946.39,
          968.12,
          989.85,
          1011.58,
          1033.31,
          1055.04,
          1076.77,
          1098.5,
          1120.23,
          1141.96
         ],
         "y": [
          1624.34,
          1644.27,
          1664.1999999999998,
          1684.1299999999999,
          1704.06,
          1723.99,
          1743.9199999999998,
          1763.85,
          1783.78,
          1803.71,
          1823.6399999999999,
          1843.57,
          1863.5,
          1883.4299999999998,
          1903.36
         ]
        },
        {
         "hoverinfo": "text",
         "line": {
          "color": "brown",
          "width": 0.7712415791181313
         },
         "mode": "lines",
         "name": "0.7712415791181313",
         "opacity": 0.7712415791181313,
         "text": "Edge: ('marocchino', 'arkist')    <br>Weight: 0.77",
         "type": "scatter",
         "x": [
          837.74,
          855.9885714285714,
          874.2371428571429,
          892.4857142857143,
          910.7342857142858,
          928.9828571428571,
          947.2314285714286,
          965.48,
          983.7285714285715,
          1001.9771428571429,
          1020.2257142857143,
          1038.4742857142858,
          1056.7228571428573,
          1074.9714285714285,
          1093.22
         ],
         "y": [
          1624.34,
          1620.142857142857,
          1615.9457142857143,
          1611.7485714285713,
          1607.5514285714285,
          1603.3542857142857,
          1599.1571428571428,
          1594.96,
          1590.762857142857,
          1586.5657142857142,
          1582.3685714285714,
          1578.1714285714286,
          1573.9742857142855,
          1569.7771428571427,
          1565.58
         ]
        },
        {
         "hoverinfo": "text",
         "line": {
          "color": "brown",
          "width": 0.6406444540421773
         },
         "mode": "lines",
         "name": "0.6406444540421773",
         "opacity": 0.6406444540421773,
         "text": "Edge: ('kohei-takata', 'Daniel15')    <br>Weight: 0.64",
         "type": "scatter",
         "x": [
          929.5,
          944.6757142857143,
          959.8514285714285,
          975.0271428571428,
          990.2028571428572,
          1005.3785714285715,
          1020.5542857142857,
          1035.73,
          1050.9057142857143,
          1066.0814285714287,
          1081.257142857143,
          1096.4328571428573,
          1111.6085714285714,
          1126.7842857142857,
          1141.96
         ],
         "y": [
          1821.62,
          1827.4585714285713,
          1833.2971428571427,
          1839.1357142857141,
          1844.9742857142855,
          1850.812857142857,
          1856.6514285714284,
          1862.4899999999998,
          1868.3285714285714,
          1874.1671428571428,
          1880.0057142857142,
          1885.8442857142857,
          1891.682857142857,
          1897.5214285714285,
          1903.36
         ]
        },
        {
         "hoverinfo": "text",
         "line": {
          "color": "brown",
          "width": 0.6970907800360665
         },
         "mode": "lines",
         "name": "0.6970907800360665",
         "opacity": 0.6970907800360665,
         "text": "Edge: ('kohei-takata', 'arkist')    <br>Weight: 0.7",
         "type": "scatter",
         "x": [
          929.5,
          941.1942857142857,
          952.8885714285715,
          964.5828571428572,
          976.2771428571428,
          987.9714285714285,
          999.6657142857143,
          1011.36,
          1023.0542857142857,
          1034.7485714285715,
          1046.442857142857,
          1058.1371428571429,
          1069.8314285714287,
          1081.5257142857142,
          1093.22
         ],
         "y": [
          1821.62,
          1803.3314285714284,
          1785.042857142857,
          1766.7542857142855,
          1748.4657142857143,
          1730.1771428571428,
          1711.8885714285714,
          1693.6,
          1675.3114285714285,
          1657.022857142857,
          1638.7342857142855,
          1620.445714285714,
          1602.1571428571428,
          1583.8685714285714,
          1565.58
         ]
        },
        {
         "hoverinfo": "text",
         "line": {
          "color": "brown",
          "width": 0.6107921942382658
         },
         "mode": "lines",
         "name": "0.6107921942382658",
         "opacity": 0.6107921942382658,
         "text": "Edge: ('kohei-takata', 'iamchenxin')    <br>Weight: 0.61",
         "type": "scatter",
         "x": [
          929.5,
          914.4871428571429,
          899.4742857142858,
          884.4614285714285,
          869.4485714285714,
          854.4357142857143,
          839.4228571428572,
          824.4100000000001,
          809.3971428571429,
          794.3842857142857,
          779.3714285714286,
          764.3585714285714,
          749.3457142857144,
          734.3328571428572,
          719.32
         ],
         "y": [
          1821.62,
          1815.3171428571427,
          1809.0142857142857,
          1802.7114285714285,
          1796.4085714285713,
          1790.1057142857142,
          1783.8028571428572,
          1777.5,
          1771.1971428571428,
          1764.8942857142858,
          1758.5914285714287,
          1752.2885714285715,
          1745.9857142857143,
          1739.6828571428573,
          1733.38
         ]
        },
        {
         "hoverinfo": "text",
         "line": {
          "color": "brown",
          "width": 0.6456493367707559
         },
         "mode": "lines",
         "name": "0.6456493367707559",
         "opacity": 0.6456493367707559,
         "text": "Edge: ('TheSavior', 'raphamorim')    <br>Weight: 0.65",
         "type": "scatter",
         "x": [
          3607.2,
          3590.9714285714285,
          3574.742857142857,
          3558.5142857142855,
          3542.285714285714,
          3526.057142857143,
          3509.828571428571,
          3493.6,
          3477.3714285714286,
          3461.142857142857,
          3444.9142857142856,
          3428.6857142857143,
          3412.4571428571426,
          3396.2285714285713,
          3380
         ],
         "y": [
          35.33,
          74.11214285714286,
          112.8942857142857,
          151.67642857142857,
          190.45857142857142,
          229.24071428571426,
          268.0228571428571,
          306.80499999999995,
          345.5871428571428,
          384.36928571428564,
          423.1514285714285,
          461.9335714285713,
          500.7157142857142,
          539.4978571428571,
          578.28
         ]
        },
        {
         "hoverinfo": "text",
         "line": {
          "color": "brown",
          "width": 1
         },
         "mode": "lines",
         "name": "1.0",
         "opacity": 1,
         "text": "Edge: ('chicoxyzzy', 'mcsheffrey')    <br>Weight: 1.0",
         "type": "scatter",
         "x": [
          829.16,
          813.7842857142857,
          798.4085714285713,
          783.0328571428571,
          767.6571428571428,
          752.2814285714286,
          736.9057142857142,
          721.53,
          706.1542857142857,
          690.7785714285715,
          675.4028571428571,
          660.0271428571428,
          644.6514285714286,
          629.2757142857142,
          613.9
         ],
         "y": [
          1215.96,
          1224.0542857142857,
          1232.1485714285714,
          1240.2428571428572,
          1248.337142857143,
          1256.4314285714286,
          1264.5257142857142,
          1272.62,
          1280.7142857142858,
          1288.8085714285714,
          1296.902857142857,
          1304.9971428571428,
          1313.0914285714284,
          1321.1857142857143,
          1329.28
         ]
        },
        {
         "hoverinfo": "text",
         "line": {
          "color": "brown",
          "width": 0.7171561820021768
         },
         "mode": "lines",
         "name": "0.7171561820021768",
         "opacity": 0.7171561820021768,
         "text": "Edge: ('chicoxyzzy', 'joshduck')    <br>Weight: 0.72",
         "type": "scatter",
         "x": [
          829.16,
          862.3242857142857,
          895.4885714285714,
          928.6528571428571,
          961.8171428571428,
          994.9814285714285,
          1028.1457142857143,
          1061.31,
          1094.4742857142858,
          1127.6385714285714,
          1160.8028571428572,
          1193.9671428571428,
          1227.1314285714286,
          1260.2957142857144,
          1293.46
         ],
         "y": [
          1215.96,
          1198.527142857143,
          1181.0942857142857,
          1163.6614285714286,
          1146.2285714285715,
          1128.7957142857142,
          1111.3628571428571,
          1093.93,
          1076.4971428571428,
          1059.0642857142857,
          1041.6314285714286,
          1024.1985714285713,
          1006.7657142857142,
          989.3328571428572,
          971.9
         ]
        },
        {
         "hoverinfo": "text",
         "line": {
          "color": "brown",
          "width": 0.6274624018723586
         },
         "mode": "lines",
         "name": "0.6274624018723586",
         "opacity": 0.6274624018723586,
         "text": "Edge: ('chicoxyzzy', 'jordwalke')    <br>Weight: 0.63",
         "type": "scatter",
         "x": [
          829.16,
          835.4385714285714,
          841.7171428571428,
          847.9957142857143,
          854.2742857142857,
          860.5528571428571,
          866.8314285714285,
          873.1099999999999,
          879.3885714285714,
          885.6671428571428,
          891.9457142857142,
          898.2242857142857,
          904.5028571428571,
          910.7814285714285,
          917.06
         ],
         "y": [
          1215.96,
          1191.3514285714286,
          1166.7428571428572,
          1142.1342857142859,
          1117.5257142857142,
          1092.9171428571428,
          1068.3085714285714,
          1043.7,
          1019.0914285714287,
          994.4828571428573,
          969.8742857142857,
          945.2657142857144,
          920.6571428571428,
          896.0485714285714,
          871.44
         ]
        },
        {
         "hoverinfo": "text",
         "line": {
          "color": "brown",
          "width": 0.6809733171404255
         },
         "mode": "lines",
         "name": "0.6809733171404255",
         "opacity": 0.6809733171404255,
         "text": "Edge: ('chicoxyzzy', 'arkist')    <br>Weight: 0.68",
         "type": "scatter",
         "x": [
          829.16,
          848.0214285714285,
          866.8828571428571,
          885.7442857142858,
          904.6057142857143,
          923.4671428571428,
          942.3285714285714,
          961.19,
          980.0514285714286,
          998.9128571428571,
          1017.7742857142857,
          1036.6357142857144,
          1055.497142857143,
          1074.3585714285714,
          1093.22
         ],
         "y": [
          1215.96,
          1240.932857142857,
          1265.9057142857143,
          1290.8785714285714,
          1315.8514285714286,
          1340.8242857142857,
          1365.7971428571427,
          1390.77,
          1415.742857142857,
          1440.7157142857143,
          1465.6885714285713,
          1490.6614285714286,
          1515.6342857142856,
          1540.6071428571427,
          1565.58
         ]
        },
        {
         "hoverinfo": "text",
         "line": {
          "color": "brown",
          "width": 0.6332116010375535
         },
         "mode": "lines",
         "name": "0.6332116010375535",
         "opacity": 0.6332116010375535,
         "text": "Edge: ('keyz', 'Daniel15')    <br>Weight: 0.63",
         "type": "scatter",
         "x": [
          1077.42,
          1082.03,
          1086.64,
          1091.25,
          1095.8600000000001,
          1100.47,
          1105.0800000000002,
          1109.69,
          1114.3,
          1118.91,
          1123.52,
          1128.13,
          1132.74,
          1137.3500000000001,
          1141.96
         ],
         "y": [
          2431.2,
          2393.4971428571425,
          2355.7942857142857,
          2318.0914285714284,
          2280.388571428571,
          2242.6857142857143,
          2204.982857142857,
          2167.2799999999997,
          2129.577142857143,
          2091.8742857142856,
          2054.1714285714284,
          2016.4685714285713,
          1978.7657142857142,
          1941.062857142857,
          1903.36
         ]
        },
        {
         "hoverinfo": "text",
         "line": {
          "color": "brown",
          "width": 0.7530103295252888
         },
         "mode": "lines",
         "name": "0.7530103295252888",
         "opacity": 0.7530103295252888,
         "text": "Edge: ('eps1lon', 'bl00mber')    <br>Weight: 0.75",
         "type": "scatter",
         "x": [
          3686.8,
          3700.057142857143,
          3713.3142857142857,
          3726.571428571429,
          3739.8285714285716,
          3753.0857142857144,
          3766.342857142857,
          3779.6000000000004,
          3792.857142857143,
          3806.114285714286,
          3819.3714285714286,
          3832.6285714285714,
          3845.8857142857146,
          3859.1428571428573,
          3872.4
         ],
         "y": [
          1140.7,
          1138.3428571428572,
          1135.9857142857143,
          1133.6285714285714,
          1131.2714285714287,
          1128.9142857142858,
          1126.557142857143,
          1124.2,
          1121.8428571428572,
          1119.4857142857143,
          1117.1285714285714,
          1114.7714285714287,
          1112.4142857142858,
          1110.057142857143,
          1107.7
         ]
        },
        {
         "hoverinfo": "text",
         "line": {
          "color": "brown",
          "width": 0.6146924090600359
         },
         "mode": "lines",
         "name": "0.6146924090600359",
         "opacity": 0.6146924090600359,
         "text": "Edge: ('bgw', 'iamchenxin')    <br>Weight: 0.61",
         "type": "scatter",
         "x": [
          213.44,
          249.5742857142857,
          285.7085714285714,
          321.84285714285716,
          357.9771428571429,
          394.1114285714286,
          430.2457142857143,
          466.38,
          502.51428571428573,
          538.6485714285715,
          574.7828571428572,
          610.9171428571428,
          647.0514285714287,
          683.1857142857143,
          719.32
         ],
         "y": [
          1978.74,
          1961.2142857142858,
          1943.6885714285715,
          1926.162857142857,
          1908.6371428571429,
          1891.1114285714286,
          1873.5857142857144,
          1856.06,
          1838.5342857142857,
          1821.0085714285715,
          1803.4828571428573,
          1785.957142857143,
          1768.4314285714286,
          1750.9057142857143,
          1733.38
         ]
        },
        {
         "hoverinfo": "text",
         "line": {
          "color": "brown",
          "width": 0.6103364575126095
         },
         "mode": "lines",
         "name": "0.6103364575126095",
         "opacity": 0.6103364575126095,
         "text": "Edge: ('NE-SmallTown', 'SimenB')    <br>Weight: 0.61",
         "type": "scatter",
         "x": [
          4158.6,
          4120.214285714286,
          4081.8285714285716,
          4043.4428571428575,
          4005.057142857143,
          3966.671428571429,
          3928.2857142857147,
          3889.9,
          3851.514285714286,
          3813.1285714285714,
          3774.7428571428572,
          3736.3571428571427,
          3697.9714285714285,
          3659.585714285714,
          3621.2
         ],
         "y": [
          701.16,
          714.0185714285714,
          726.8771428571429,
          739.7357142857143,
          752.5942857142857,
          765.452857142857,
          778.3114285714286,
          791.17,
          804.0285714285714,
          816.8871428571429,
          829.7457142857143,
          842.6042857142857,
          855.462857142857,
          868.3214285714286,
          881.18
         ]
        },
        {
         "hoverinfo": "text",
         "line": {
          "color": "brown",
          "width": 0.792226780072224
         },
         "mode": "lines",
         "name": "0.792226780072224",
         "opacity": 0.792226780072224,
         "text": "Edge: ('NE-SmallTown', 'sompylasar')    <br>Weight: 0.79",
         "type": "scatter",
         "x": [
          4158.6,
          4147.928571428572,
          4137.257142857143,
          4126.585714285715,
          4115.914285714286,
          4105.242857142857,
          4094.571428571429,
          4083.9,
          4073.2285714285713,
          4062.557142857143,
          4051.885714285714,
          4041.214285714286,
          4030.542857142857,
          4019.8714285714286,
          4009.2
         ],
         "y": [
          701.16,
          736.5628571428571,
          771.9657142857143,
          807.3685714285714,
          842.7714285714285,
          878.1742857142857,
          913.5771428571428,
          948.98,
          984.3828571428571,
          1019.7857142857142,
          1055.1885714285713,
          1090.5914285714284,
          1125.9942857142858,
          1161.3971428571429,
          1196.8
         ]
        },
        {
         "hoverinfo": "text",
         "line": {
          "color": "brown",
          "width": 0.6142326156891721
         },
         "mode": "lines",
         "name": "0.6142326156891721",
         "opacity": 0.6142326156891721,
         "text": "Edge: ('joshduck', 'jordwalke')    <br>Weight: 0.61",
         "type": "scatter",
         "x": [
          1293.46,
          1266.5742857142857,
          1239.6885714285715,
          1212.8028571428572,
          1185.9171428571428,
          1159.0314285714285,
          1132.1457142857143,
          1105.26,
          1078.3742857142856,
          1051.4885714285715,
          1024.6028571428571,
          997.7171428571428,
          970.8314285714285,
          943.9457142857143,
          917.06
         ],
         "y": [
          971.9,
          964.7242857142857,
          957.5485714285714,
          950.3728571428571,
          943.1971428571428,
          936.0214285714286,
          928.8457142857143,
          921.6700000000001,
          914.4942857142858,
          907.3185714285714,
          900.1428571428572,
          892.9671428571429,
          885.7914285714286,
          878.6157142857144,
          871.44
         ]
        },
        {
         "hoverinfo": "text",
         "line": {
          "color": "brown",
          "width": 0.9917356337607353
         },
         "mode": "lines",
         "name": "0.9917356337607353",
         "opacity": 0.9917356337607353,
         "text": "Edge: ('jquense', 'cody')    <br>Weight: 0.99",
         "type": "scatter",
         "x": [
          2469.4,
          2419.5128571428572,
          2369.6257142857144,
          2319.7385714285715,
          2269.8514285714286,
          2219.964285714286,
          2170.077142857143,
          2120.19,
          2070.302857142857,
          2020.4157142857143,
          1970.5285714285715,
          1920.6414285714286,
          1870.7542857142857,
          1820.8671428571429,
          1770.98
         ],
         "y": [
          1043.44,
          1061.0657142857144,
          1078.6914285714286,
          1096.317142857143,
          1113.9428571428573,
          1131.5685714285714,
          1149.1942857142858,
          1166.8200000000002,
          1184.4457142857143,
          1202.0714285714287,
          1219.6971428571428,
          1237.3228571428572,
          1254.9485714285715,
          1272.5742857142857,
          1290.2
         ]
        },
        {
         "hoverinfo": "text",
         "line": {
          "color": "brown",
          "width": 0.6326456243993493
         },
         "mode": "lines",
         "name": "0.6326456243993493",
         "opacity": 0.6326456243993493,
         "text": "Edge: ('SimenB', 'sompylasar')    <br>Weight: 0.63",
         "type": "scatter",
         "x": [
          3621.2,
          3648.9142857142856,
          3676.6285714285714,
          3704.342857142857,
          3732.0571428571425,
          3759.7714285714283,
          3787.485714285714,
          3815.2,
          3842.9142857142856,
          3870.6285714285714,
          3898.342857142857,
          3926.057142857143,
          3953.7714285714283,
          3981.485714285714,
          4009.2
         ],
         "y": [
          881.18,
          903.7242857142857,
          926.2685714285714,
          948.8128571428571,
          971.3571428571428,
          993.9014285714285,
          1016.4457142857143,
          1038.99,
          1061.5342857142857,
          1084.0785714285714,
          1106.6228571428571,
          1129.1671428571428,
          1151.7114285714285,
          1174.2557142857142,
          1196.8
         ]
        },
        {
         "hoverinfo": "text",
         "line": {
          "color": "brown",
          "width": 0.7034210554503234
         },
         "mode": "lines",
         "name": "0.7034210554503234",
         "opacity": 0.7034210554503234,
         "text": "Edge: ('philipp-spiess', 'sompylasar')    <br>Weight: 0.7",
         "type": "scatter",
         "x": [
          4643.6,
          4598.285714285715,
          4552.971428571429,
          4507.657142857143,
          4462.342857142858,
          4417.028571428572,
          4371.714285714286,
          4326.4,
          4281.085714285714,
          4235.771428571428,
          4190.457142857143,
          4145.142857142857,
          4099.828571428571,
          4054.5142857142855,
          4009.2
         ],
         "y": [
          1308.94,
          1300.93,
          1292.92,
          1284.91,
          1276.9,
          1268.89,
          1260.88,
          1252.87,
          1244.86,
          1236.85,
          1228.84,
          1220.83,
          1212.82,
          1204.81,
          1196.8
         ]
        },
        {
         "hoverinfo": "text",
         "line": {
          "color": "brown",
          "width": 0.603784340975915
         },
         "mode": "lines",
         "name": "0.603784340975915",
         "opacity": 0.603784340975915,
         "text": "Edge: ('Daniel15', 'fisherwebdev')    <br>Weight: 0.6",
         "type": "scatter",
         "x": [
          1141.96,
          1163.017142857143,
          1184.0742857142857,
          1205.1314285714286,
          1226.1885714285715,
          1247.2457142857143,
          1268.3028571428572,
          1289.3600000000001,
          1310.4171428571428,
          1331.4742857142858,
          1352.5314285714285,
          1373.5885714285714,
          1394.6457142857143,
          1415.702857142857,
          1436.76
         ],
         "y": [
          1903.36,
          1898,
          1892.6399999999999,
          1887.28,
          1881.9199999999998,
          1876.56,
          1871.1999999999998,
          1865.84,
          1860.48,
          1855.12,
          1849.76,
          1844.3999999999999,
          1839.04,
          1833.6799999999998,
          1828.32
         ]
        },
        {
         "hoverinfo": "text",
         "line": {
          "color": "brown",
          "width": 0.6577912265852228
         },
         "mode": "lines",
         "name": "0.6577912265852228",
         "opacity": 0.6577912265852228,
         "text": "Edge: ('Daniel15', 'arkist')    <br>Weight: 0.66",
         "type": "scatter",
         "x": [
          1141.96,
          1138.4785714285715,
          1134.997142857143,
          1131.5157142857142,
          1128.0342857142857,
          1124.5528571428572,
          1121.0714285714287,
          1117.5900000000001,
          1114.1085714285714,
          1110.6271428571429,
          1107.1457142857143,
          1103.6642857142858,
          1100.182857142857,
          1096.7014285714286,
          1093.22
         ],
         "y": [
          1903.36,
          1879.232857142857,
          1855.1057142857142,
          1830.9785714285713,
          1806.8514285714284,
          1782.7242857142855,
          1758.597142857143,
          1734.4699999999998,
          1710.3428571428572,
          1686.2157142857143,
          1662.0885714285714,
          1637.9614285714285,
          1613.8342857142857,
          1589.7071428571428,
          1565.58
         ]
        },
        {
         "hoverinfo": "text",
         "line": {
          "color": "brown",
          "width": 0.6080354169991918
         },
         "mode": "lines",
         "name": "0.6080354169991918",
         "opacity": 0.6080354169991918,
         "text": "Edge: ('Daniel15', 'iamchenxin')    <br>Weight: 0.61",
         "type": "scatter",
         "x": [
          1141.96,
          1111.7714285714287,
          1081.5828571428572,
          1051.3942857142858,
          1021.2057142857143,
          991.0171428571429,
          960.8285714285714,
          930.6400000000001,
          900.4514285714286,
          870.2628571428572,
          840.0742857142857,
          809.8857142857144,
          779.6971428571429,
          749.5085714285715,
          719.32
         ],
         "y": [
          1903.36,
          1891.2185714285713,
          1879.0771428571427,
          1866.9357142857143,
          1854.7942857142857,
          1842.652857142857,
          1830.5114285714285,
          1818.37,
          1806.2285714285715,
          1794.087142857143,
          1781.9457142857143,
          1769.8042857142857,
          1757.6628571428573,
          1745.5214285714287,
          1733.38
         ]
        },
        {
         "hoverinfo": "text",
         "line": {
          "color": "brown",
          "width": 0.9057542432250564
         },
         "mode": "lines",
         "name": "0.9057542432250564",
         "opacity": 0.9057542432250564,
         "text": "Edge: ('threepointone', 'sompylasar')    <br>Weight: 0.91",
         "type": "scatter",
         "x": [
          4127.2,
          4118.771428571428,
          4110.342857142857,
          4101.914285714285,
          4093.485714285714,
          4085.0571428571425,
          4076.6285714285714,
          4068.2,
          4059.7714285714283,
          4051.342857142857,
          4042.9142857142856,
          4034.485714285714,
          4026.0571428571425,
          4017.6285714285714,
          4009.2
         ],
         "y": [
          1639.5,
          1607.8785714285714,
          1576.2571428571428,
          1544.6357142857144,
          1513.0142857142857,
          1481.392857142857,
          1449.7714285714285,
          1418.15,
          1386.5285714285715,
          1354.9071428571428,
          1323.2857142857142,
          1291.6642857142856,
          1260.042857142857,
          1228.4214285714286,
          1196.8
         ]
        },
        {
         "hoverinfo": "text",
         "line": {
          "color": "brown",
          "width": 0.7712126638082482
         },
         "mode": "lines",
         "name": "0.7712126638082482",
         "opacity": 0.7712126638082482,
         "text": "Edge: ('arkist', 'iamchenxin')    <br>Weight: 0.77",
         "type": "scatter",
         "x": [
          1093.22,
          1066.5128571428572,
          1039.8057142857142,
          1013.0985714285714,
          986.3914285714286,
          959.6842857142858,
          932.9771428571429,
          906.27,
          879.5628571428572,
          852.8557142857144,
          826.1485714285715,
          799.4414285714286,
          772.7342857142858,
          746.027142857143,
          719.32
         ],
         "y": [
          1565.58,
          1577.5657142857142,
          1589.5514285714285,
          1601.5371428571427,
          1613.5228571428572,
          1625.5085714285715,
          1637.4942857142858,
          1649.48,
          1661.4657142857143,
          1673.4514285714286,
          1685.4371428571428,
          1697.422857142857,
          1709.4085714285716,
          1721.3942857142858,
          1733.38
         ]
        },
        {
         "hoverinfo": "text",
         "marker": {
          "color": [
           21,
           13,
           11,
           11,
           6,
           5,
           7,
           8,
           8,
           6,
           4,
           5,
           3,
           6,
           5,
           3,
           5,
           2,
           1,
           1,
           5,
           4,
           6,
           6,
           1,
           1,
           7,
           1,
           3,
           5,
           1,
           2,
           9,
           0,
           3,
           5,
           1,
           10,
           1,
           2,
           0,
           3,
           1,
           9,
           7,
           4,
           9,
           4,
           6,
           3
          ],
          "colorbar": {
           "thickness": 15,
           "title": {
            "side": "right",
            "text": "Adjacency num"
           },
           "xanchor": "left"
          },
          "colorscale": [
           [
            0,
            "rgb(253, 253, 204)"
           ],
           [
            0.09090909090909091,
            "rgb(206, 236, 179)"
           ],
           [
            0.18181818181818182,
            "rgb(156, 219, 165)"
           ],
           [
            0.2727272727272727,
            "rgb(111, 201, 163)"
           ],
           [
            0.36363636363636365,
            "rgb(86, 177, 163)"
           ],
           [
            0.45454545454545453,
            "rgb(76, 153, 160)"
           ],
           [
            0.5454545454545454,
            "rgb(68, 130, 155)"
           ],
           [
            0.6363636363636364,
            "rgb(62, 108, 150)"
           ],
           [
            0.7272727272727273,
            "rgb(62, 82, 143)"
           ],
           [
            0.8181818181818182,
            "rgb(64, 60, 115)"
           ],
           [
            0.9090909090909091,
            "rgb(54, 43, 77)"
           ],
           [
            1,
            "rgb(39, 26, 44)"
           ]
          ],
          "line": {
           "color": "red",
           "width": 1
          },
          "showscale": true,
          "size": [
           31.168048229088168,
           40,
           19.72871137905049,
           21.26601356443105,
           13.805576488319517,
           32.56970610399397,
           12,
           16.51846269781462,
           12,
           12,
           12,
           12,
           12,
           12,
           12,
           12,
           12,
           12,
           12,
           12,
           12,
           12,
           12,
           12,
           12,
           12,
           12,
           12,
           12,
           12,
           12,
           12,
           12,
           12,
           12,
           12,
           12,
           12,
           12,
           12,
           12,
           12,
           12,
           12,
           12,
           12,
           12,
           12,
           12,
           12
          ]
         },
         "mode": "markers",
         "text": [
          "Username: zpao                     <br>Files changed: 2086                     <br>Activity interval: [2013. 2016.]                     <br>Adjacency num: 21",
          "Username: gaearon                     <br>Files changed: 2672                     <br>Activity interval: [2015. 2021.]                     <br>Adjacency num: 13",
          "Username: bvaughn                     <br>Files changed: 1327                     <br>Activity interval: [2018. 2020.]                     <br>Adjacency num: 11",
          "Username: sophiebits                     <br>Files changed: 1429                     <br>Activity interval: [2013. 2017.]                     <br>Adjacency num: 11",
          "Username: acdlite                     <br>Files changed: 934                     <br>Activity interval: [2015. 2021.]                     <br>Adjacency num: 6",
          "Username: sebmarkbage                     <br>Files changed: 2179                     <br>Activity interval: [2013 2021]                     <br>Adjacency num: 5",
          "Username: jimfb                     <br>Files changed: 489                     <br>Activity interval: [2014. 2016.]                     <br>Adjacency num: 7",
          "Username: trueadm                     <br>Files changed: 1114                     <br>Activity interval: [2017. 2021.]                     <br>Adjacency num: 8",
          "Username: petehunt                     <br>Files changed: 594                     <br>Activity interval: [2013. 2014.]                     <br>Adjacency num: 8",
          "Username: chenglou                     <br>Files changed: 279                     <br>Activity interval: [2013. 2015.]                     <br>Adjacency num: 6",
          "Username: vjeux                     <br>Files changed: 392                     <br>Activity interval: [2013. 2017.]                     <br>Adjacency num: 4",
          "Username: benjamn                     <br>Files changed: 106                     <br>Activity interval: [2013. 2014.]                     <br>Adjacency num: 5",
          "Username: yungsters                     <br>Files changed: 350                     <br>Activity interval: [2013. 2018.]                     <br>Adjacency num: 3",
          "Username: subtleGradient                     <br>Files changed: 70                     <br>Activity interval: [2013. 2014.]                     <br>Adjacency num: 6",
          "Username: nhunzaker                     <br>Files changed: 244                     <br>Activity interval: [2015. 2019.]                     <br>Adjacency num: 5",
          "Username: necolas                     <br>Files changed: 181                     <br>Activity interval: [2019. 2020.]                     <br>Adjacency num: 3",
          "Username: syranide                     <br>Files changed: 99                     <br>Activity interval: [2013. 2015.]                     <br>Adjacency num: 5",
          "Username: cpojer                     <br>Files changed: 213                     <br>Activity interval: [2013. 2018.]                     <br>Adjacency num: 2",
          "Username: flarnie                     <br>Files changed: 139                     <br>Activity interval: [2016. 2018.]                     <br>Adjacency num: 1",
          "Username: koba04                     <br>Files changed: 116                     <br>Activity interval: [2014. 2020.]                     <br>Adjacency num: 1",
          "Username: aweary                     <br>Files changed: 229                     <br>Activity interval: [2016. 2019.]                     <br>Adjacency num: 5",
          "Username: rickhanlonii                     <br>Files changed: 227                     <br>Activity interval: [2019. 2021.]                     <br>Adjacency num: 4",
          "Username: marocchino                     <br>Files changed: 51                     <br>Activity interval: [2015. 2015.]                     <br>Adjacency num: 6",
          "Username: kohei-takata                     <br>Files changed: 43                     <br>Activity interval: [2015. 2015.]                     <br>Adjacency num: 6",
          "Username: lunaruan                     <br>Files changed: 134                     <br>Activity interval: [2019. 2021.]                     <br>Adjacency num: 1",
          "Username: TheSavior                     <br>Files changed: 43                     <br>Activity interval: [2018. 2020.]                     <br>Adjacency num: 1",
          "Username: chicoxyzzy                     <br>Files changed: 118                     <br>Activity interval: [2014. 2016.]                     <br>Adjacency num: 7",
          "Username: keyz                     <br>Files changed: 120                     <br>Activity interval: [2015. 2017.]                     <br>Adjacency num: 1",
          "Username: mcsheffrey                     <br>Files changed: 89                     <br>Activity interval: [2013. 2013.]                     <br>Adjacency num: 3",
          "Username: eps1lon                     <br>Files changed: 108                     <br>Activity interval: [2019. 2021.]                     <br>Adjacency num: 5",
          "Username: bgw                     <br>Files changed: 237                     <br>Activity interval: [2015. 2015.]                     <br>Adjacency num: 1",
          "Username: NE-SmallTown                     <br>Files changed: 22                     <br>Activity interval: [2017. 2020.]                     <br>Adjacency num: 2",
          "Username: joshduck                     <br>Files changed: 25                     <br>Activity interval: [2013. 2014.]                     <br>Adjacency num: 9",
          "Username: aickin                     <br>Files changed: 29                     <br>Activity interval: [2016. 2018.]                     <br>Adjacency num: 0",
          "Username: jquense                     <br>Files changed: 67                     <br>Activity interval: [2015. 2019.]                     <br>Adjacency num: 3",
          "Username: SimenB                     <br>Files changed: 70                     <br>Activity interval: [2015. 2021.]                     <br>Adjacency num: 5",
          "Username: philipp-spiess                     <br>Files changed: 96                     <br>Activity interval: [2017. 2020.]                     <br>Adjacency num: 1",
          "Username: Daniel15                     <br>Files changed: 268                     <br>Activity interval: [2013. 2019.]                     <br>Adjacency num: 10",
          "Username: iamdustan                     <br>Files changed: 98                     <br>Activity interval: [2015. 2019.]                     <br>Adjacency num: 1",
          "Username: threepointone                     <br>Files changed: 169                     <br>Activity interval: [2019. 2020.]                     <br>Adjacency num: 2",
          "Username: Simek                     <br>Files changed: 18                     <br>Activity interval: [2013. 2018.]                     <br>Adjacency num: 0",
          "Username: fisherwebdev                     <br>Files changed: 32                     <br>Activity interval: [2014. 2015.]                     <br>Adjacency num: 3",
          "Username: fabiomcosta                     <br>Files changed: 18                     <br>Activity interval: [2013. 2015.]                     <br>Adjacency num: 1",
          "Username: sompylasar                     <br>Files changed: 46                     <br>Activity interval: [2018. 2020.]                     <br>Adjacency num: 9",
          "Username: jordwalke                     <br>Files changed: 42                     <br>Activity interval: [2013. 2014.]                     <br>Adjacency num: 7",
          "Username: raphamorim                     <br>Files changed: 269                     <br>Activity interval: [2018. 2018.]                     <br>Adjacency num: 4",
          "Username: arkist                     <br>Files changed: 41                     <br>Activity interval: [2015. 2015.]                     <br>Adjacency num: 9",
          "Username: cody                     <br>Files changed: 21                     <br>Activity interval: [2014. 2016.]                     <br>Adjacency num: 4",
          "Username: iamchenxin                     <br>Files changed: 343                     <br>Activity interval: [2015. 2016.]                     <br>Adjacency num: 6",
          "Username: bl00mber                     <br>Files changed: 52                     <br>Activity interval: [2018. 2021.]                     <br>Adjacency num: 3"
         ],
         "type": "scatter",
         "x": [
          1177.74,
          3417.8,
          3556.2,
          1634.74,
          3254,
          2761.2,
          1252.5,
          3389,
          1137.7,
          1036.88,
          1580.62,
          1085.32,
          1413.48,
          661.8,
          3076.2,
          3663.6,
          869.08,
          1511.4,
          4554,
          827.4,
          3038.2,
          3772.2,
          837.74,
          929.5,
          3873,
          3607.2,
          829.16,
          1077.42,
          613.9,
          3686.8,
          213.44,
          4158.6,
          1293.46,
          2396.2,
          2469.4,
          3621.2,
          4643.6,
          1141.96,
          3421.6,
          4127.2,
          2822.2,
          1436.76,
          112.344,
          4009.2,
          917.06,
          3380,
          1093.22,
          1770.98,
          719.32,
          3872.4
         ],
         "y": [
          1351.8,
          1166.8,
          1469.84,
          1407.1,
          1218.64,
          1369.74,
          1612.24,
          1307.38,
          1062.72,
          1261.08,
          1100.66,
          782.74,
          1065.54,
          884.3,
          834.7,
          1595.54,
          1003.84,
          1660.16,
          1048.46,
          2380.8,
          976.64,
          1392.58,
          1624.34,
          1821.62,
          1948.7,
          35.33,
          1215.96,
          2431.2,
          1329.28,
          1140.7,
          1978.74,
          701.16,
          971.9,
          1732.6,
          1043.44,
          881.18,
          1308.94,
          1903.36,
          1720.72,
          1639.5,
          1732.6,
          1828.32,
          532.62,
          1196.8,
          871.44,
          578.28,
          1565.58,
          1290.2,
          1733.38,
          1107.7
         ]
        }
       ],
       "layout": {
        "annotations": [
         {
          "showarrow": false,
          "text": "Params: {'file_coef': 1, 'time_coef': -0.5}, min_value_for_edge: 0.6",
          "x": 0.005,
          "xref": "paper",
          "y": -0.002,
          "yref": "paper"
         }
        ],
        "autosize": true,
        "margin": {
         "b": 20,
         "l": 5,
         "r": 5,
         "t": 40
        },
        "plot_bgcolor": "whitesmoke",
        "showlegend": false,
        "template": {
         "data": {
          "bar": [
           {
            "error_x": {
             "color": "#2a3f5f"
            },
            "error_y": {
             "color": "#2a3f5f"
            },
            "marker": {
             "line": {
              "color": "#E5ECF6",
              "width": 0.5
             }
            },
            "type": "bar"
           }
          ],
          "barpolar": [
           {
            "marker": {
             "line": {
              "color": "#E5ECF6",
              "width": 0.5
             }
            },
            "type": "barpolar"
           }
          ],
          "carpet": [
           {
            "aaxis": {
             "endlinecolor": "#2a3f5f",
             "gridcolor": "white",
             "linecolor": "white",
             "minorgridcolor": "white",
             "startlinecolor": "#2a3f5f"
            },
            "baxis": {
             "endlinecolor": "#2a3f5f",
             "gridcolor": "white",
             "linecolor": "white",
             "minorgridcolor": "white",
             "startlinecolor": "#2a3f5f"
            },
            "type": "carpet"
           }
          ],
          "choropleth": [
           {
            "colorbar": {
             "outlinewidth": 0,
             "ticks": ""
            },
            "type": "choropleth"
           }
          ],
          "contour": [
           {
            "colorbar": {
             "outlinewidth": 0,
             "ticks": ""
            },
            "colorscale": [
             [
              0,
              "#0d0887"
             ],
             [
              0.1111111111111111,
              "#46039f"
             ],
             [
              0.2222222222222222,
              "#7201a8"
             ],
             [
              0.3333333333333333,
              "#9c179e"
             ],
             [
              0.4444444444444444,
              "#bd3786"
             ],
             [
              0.5555555555555556,
              "#d8576b"
             ],
             [
              0.6666666666666666,
              "#ed7953"
             ],
             [
              0.7777777777777778,
              "#fb9f3a"
             ],
             [
              0.8888888888888888,
              "#fdca26"
             ],
             [
              1,
              "#f0f921"
             ]
            ],
            "type": "contour"
           }
          ],
          "contourcarpet": [
           {
            "colorbar": {
             "outlinewidth": 0,
             "ticks": ""
            },
            "type": "contourcarpet"
           }
          ],
          "heatmap": [
           {
            "colorbar": {
             "outlinewidth": 0,
             "ticks": ""
            },
            "colorscale": [
             [
              0,
              "#0d0887"
             ],
             [
              0.1111111111111111,
              "#46039f"
             ],
             [
              0.2222222222222222,
              "#7201a8"
             ],
             [
              0.3333333333333333,
              "#9c179e"
             ],
             [
              0.4444444444444444,
              "#bd3786"
             ],
             [
              0.5555555555555556,
              "#d8576b"
             ],
             [
              0.6666666666666666,
              "#ed7953"
             ],
             [
              0.7777777777777778,
              "#fb9f3a"
             ],
             [
              0.8888888888888888,
              "#fdca26"
             ],
             [
              1,
              "#f0f921"
             ]
            ],
            "type": "heatmap"
           }
          ],
          "heatmapgl": [
           {
            "colorbar": {
             "outlinewidth": 0,
             "ticks": ""
            },
            "colorscale": [
             [
              0,
              "#0d0887"
             ],
             [
              0.1111111111111111,
              "#46039f"
             ],
             [
              0.2222222222222222,
              "#7201a8"
             ],
             [
              0.3333333333333333,
              "#9c179e"
             ],
             [
              0.4444444444444444,
              "#bd3786"
             ],
             [
              0.5555555555555556,
              "#d8576b"
             ],
             [
              0.6666666666666666,
              "#ed7953"
             ],
             [
              0.7777777777777778,
              "#fb9f3a"
             ],
             [
              0.8888888888888888,
              "#fdca26"
             ],
             [
              1,
              "#f0f921"
             ]
            ],
            "type": "heatmapgl"
           }
          ],
          "histogram": [
           {
            "marker": {
             "colorbar": {
              "outlinewidth": 0,
              "ticks": ""
             }
            },
            "type": "histogram"
           }
          ],
          "histogram2d": [
           {
            "colorbar": {
             "outlinewidth": 0,
             "ticks": ""
            },
            "colorscale": [
             [
              0,
              "#0d0887"
             ],
             [
              0.1111111111111111,
              "#46039f"
             ],
             [
              0.2222222222222222,
              "#7201a8"
             ],
             [
              0.3333333333333333,
              "#9c179e"
             ],
             [
              0.4444444444444444,
              "#bd3786"
             ],
             [
              0.5555555555555556,
              "#d8576b"
             ],
             [
              0.6666666666666666,
              "#ed7953"
             ],
             [
              0.7777777777777778,
              "#fb9f3a"
             ],
             [
              0.8888888888888888,
              "#fdca26"
             ],
             [
              1,
              "#f0f921"
             ]
            ],
            "type": "histogram2d"
           }
          ],
          "histogram2dcontour": [
           {
            "colorbar": {
             "outlinewidth": 0,
             "ticks": ""
            },
            "colorscale": [
             [
              0,
              "#0d0887"
             ],
             [
              0.1111111111111111,
              "#46039f"
             ],
             [
              0.2222222222222222,
              "#7201a8"
             ],
             [
              0.3333333333333333,
              "#9c179e"
             ],
             [
              0.4444444444444444,
              "#bd3786"
             ],
             [
              0.5555555555555556,
              "#d8576b"
             ],
             [
              0.6666666666666666,
              "#ed7953"
             ],
             [
              0.7777777777777778,
              "#fb9f3a"
             ],
             [
              0.8888888888888888,
              "#fdca26"
             ],
             [
              1,
              "#f0f921"
             ]
            ],
            "type": "histogram2dcontour"
           }
          ],
          "mesh3d": [
           {
            "colorbar": {
             "outlinewidth": 0,
             "ticks": ""
            },
            "type": "mesh3d"
           }
          ],
          "parcoords": [
           {
            "line": {
             "colorbar": {
              "outlinewidth": 0,
              "ticks": ""
             }
            },
            "type": "parcoords"
           }
          ],
          "pie": [
           {
            "automargin": true,
            "type": "pie"
           }
          ],
          "scatter": [
           {
            "marker": {
             "colorbar": {
              "outlinewidth": 0,
              "ticks": ""
             }
            },
            "type": "scatter"
           }
          ],
          "scatter3d": [
           {
            "line": {
             "colorbar": {
              "outlinewidth": 0,
              "ticks": ""
             }
            },
            "marker": {
             "colorbar": {
              "outlinewidth": 0,
              "ticks": ""
             }
            },
            "type": "scatter3d"
           }
          ],
          "scattercarpet": [
           {
            "marker": {
             "colorbar": {
              "outlinewidth": 0,
              "ticks": ""
             }
            },
            "type": "scattercarpet"
           }
          ],
          "scattergeo": [
           {
            "marker": {
             "colorbar": {
              "outlinewidth": 0,
              "ticks": ""
             }
            },
            "type": "scattergeo"
           }
          ],
          "scattergl": [
           {
            "marker": {
             "colorbar": {
              "outlinewidth": 0,
              "ticks": ""
             }
            },
            "type": "scattergl"
           }
          ],
          "scattermapbox": [
           {
            "marker": {
             "colorbar": {
              "outlinewidth": 0,
              "ticks": ""
             }
            },
            "type": "scattermapbox"
           }
          ],
          "scatterpolar": [
           {
            "marker": {
             "colorbar": {
              "outlinewidth": 0,
              "ticks": ""
             }
            },
            "type": "scatterpolar"
           }
          ],
          "scatterpolargl": [
           {
            "marker": {
             "colorbar": {
              "outlinewidth": 0,
              "ticks": ""
             }
            },
            "type": "scatterpolargl"
           }
          ],
          "scatterternary": [
           {
            "marker": {
             "colorbar": {
              "outlinewidth": 0,
              "ticks": ""
             }
            },
            "type": "scatterternary"
           }
          ],
          "surface": [
           {
            "colorbar": {
             "outlinewidth": 0,
             "ticks": ""
            },
            "colorscale": [
             [
              0,
              "#0d0887"
             ],
             [
              0.1111111111111111,
              "#46039f"
             ],
             [
              0.2222222222222222,
              "#7201a8"
             ],
             [
              0.3333333333333333,
              "#9c179e"
             ],
             [
              0.4444444444444444,
              "#bd3786"
             ],
             [
              0.5555555555555556,
              "#d8576b"
             ],
             [
              0.6666666666666666,
              "#ed7953"
             ],
             [
              0.7777777777777778,
              "#fb9f3a"
             ],
             [
              0.8888888888888888,
              "#fdca26"
             ],
             [
              1,
              "#f0f921"
             ]
            ],
            "type": "surface"
           }
          ],
          "table": [
           {
            "cells": {
             "fill": {
              "color": "#EBF0F8"
             },
             "line": {
              "color": "white"
             }
            },
            "header": {
             "fill": {
              "color": "#C8D4E3"
             },
             "line": {
              "color": "white"
             }
            },
            "type": "table"
           }
          ]
         },
         "layout": {
          "annotationdefaults": {
           "arrowcolor": "#2a3f5f",
           "arrowhead": 0,
           "arrowwidth": 1
          },
          "autotypenumbers": "strict",
          "coloraxis": {
           "colorbar": {
            "outlinewidth": 0,
            "ticks": ""
           }
          },
          "colorscale": {
           "diverging": [
            [
             0,
             "#8e0152"
            ],
            [
             0.1,
             "#c51b7d"
            ],
            [
             0.2,
             "#de77ae"
            ],
            [
             0.3,
             "#f1b6da"
            ],
            [
             0.4,
             "#fde0ef"
            ],
            [
             0.5,
             "#f7f7f7"
            ],
            [
             0.6,
             "#e6f5d0"
            ],
            [
             0.7,
             "#b8e186"
            ],
            [
             0.8,
             "#7fbc41"
            ],
            [
             0.9,
             "#4d9221"
            ],
            [
             1,
             "#276419"
            ]
           ],
           "sequential": [
            [
             0,
             "#0d0887"
            ],
            [
             0.1111111111111111,
             "#46039f"
            ],
            [
             0.2222222222222222,
             "#7201a8"
            ],
            [
             0.3333333333333333,
             "#9c179e"
            ],
            [
             0.4444444444444444,
             "#bd3786"
            ],
            [
             0.5555555555555556,
             "#d8576b"
            ],
            [
             0.6666666666666666,
             "#ed7953"
            ],
            [
             0.7777777777777778,
             "#fb9f3a"
            ],
            [
             0.8888888888888888,
             "#fdca26"
            ],
            [
             1,
             "#f0f921"
            ]
           ],
           "sequentialminus": [
            [
             0,
             "#0d0887"
            ],
            [
             0.1111111111111111,
             "#46039f"
            ],
            [
             0.2222222222222222,
             "#7201a8"
            ],
            [
             0.3333333333333333,
             "#9c179e"
            ],
            [
             0.4444444444444444,
             "#bd3786"
            ],
            [
             0.5555555555555556,
             "#d8576b"
            ],
            [
             0.6666666666666666,
             "#ed7953"
            ],
            [
             0.7777777777777778,
             "#fb9f3a"
            ],
            [
             0.8888888888888888,
             "#fdca26"
            ],
            [
             1,
             "#f0f921"
            ]
           ]
          },
          "colorway": [
           "#636efa",
           "#EF553B",
           "#00cc96",
           "#ab63fa",
           "#FFA15A",
           "#19d3f3",
           "#FF6692",
           "#B6E880",
           "#FF97FF",
           "#FECB52"
          ],
          "font": {
           "color": "#2a3f5f"
          },
          "geo": {
           "bgcolor": "white",
           "lakecolor": "white",
           "landcolor": "#E5ECF6",
           "showlakes": true,
           "showland": true,
           "subunitcolor": "white"
          },
          "hoverlabel": {
           "align": "left"
          },
          "hovermode": "closest",
          "mapbox": {
           "style": "light"
          },
          "paper_bgcolor": "white",
          "plot_bgcolor": "#E5ECF6",
          "polar": {
           "angularaxis": {
            "gridcolor": "white",
            "linecolor": "white",
            "ticks": ""
           },
           "bgcolor": "#E5ECF6",
           "radialaxis": {
            "gridcolor": "white",
            "linecolor": "white",
            "ticks": ""
           }
          },
          "scene": {
           "xaxis": {
            "backgroundcolor": "#E5ECF6",
            "gridcolor": "white",
            "gridwidth": 2,
            "linecolor": "white",
            "showbackground": true,
            "ticks": "",
            "zerolinecolor": "white"
           },
           "yaxis": {
            "backgroundcolor": "#E5ECF6",
            "gridcolor": "white",
            "gridwidth": 2,
            "linecolor": "white",
            "showbackground": true,
            "ticks": "",
            "zerolinecolor": "white"
           },
           "zaxis": {
            "backgroundcolor": "#E5ECF6",
            "gridcolor": "white",
            "gridwidth": 2,
            "linecolor": "white",
            "showbackground": true,
            "ticks": "",
            "zerolinecolor": "white"
           }
          },
          "shapedefaults": {
           "line": {
            "color": "#2a3f5f"
           }
          },
          "ternary": {
           "aaxis": {
            "gridcolor": "white",
            "linecolor": "white",
            "ticks": ""
           },
           "baxis": {
            "gridcolor": "white",
            "linecolor": "white",
            "ticks": ""
           },
           "bgcolor": "#E5ECF6",
           "caxis": {
            "gridcolor": "white",
            "linecolor": "white",
            "ticks": ""
           }
          },
          "title": {
           "x": 0.05
          },
          "xaxis": {
           "automargin": true,
           "gridcolor": "white",
           "linecolor": "white",
           "ticks": "",
           "title": {
            "standoff": 15
           },
           "zerolinecolor": "white",
           "zerolinewidth": 2
          },
          "yaxis": {
           "automargin": true,
           "gridcolor": "white",
           "linecolor": "white",
           "ticks": "",
           "title": {
            "standoff": 15
           },
           "zerolinecolor": "white",
           "zerolinewidth": 2
          }
         }
        },
        "title": {
         "font": {
          "size": 16
         },
         "text": "Social graph of React developers"
        },
        "xaxis": {
         "autorange": true,
         "range": [
          -174.17227926683256,
          4930.116279266833
         ],
         "showgrid": false,
         "showticklabels": false,
         "type": "linear",
         "zeroline": false
        },
        "yaxis": {
         "autorange": true,
         "range": [
          -157.19526785714288,
          2623.7252678571426
         ],
         "showgrid": false,
         "showticklabels": false,
         "type": "linear",
         "zeroline": false
        }
       }
      },
      "image/png": "[encoded data removed]",
      "text/html": [
       "<div>                            <div id=\"896bd66f-e7ea-4bae-9da9-13aff88942a8\" class=\"plotly-graph-div\" style=\"height:525px; width:100%;\"></div>            <script type=\"text/javascript\">                require([\"plotly\"], function(Plotly) {                    window.PLOTLYENV=window.PLOTLYENV || {};                                    if (document.getElementById(\"896bd66f-e7ea-4bae-9da9-13aff88942a8\")) {                    Plotly.newPlot(                        \"896bd66f-e7ea-4bae-9da9-13aff88942a8\",                        [{\"hoverinfo\": \"text\", \"line\": {\"color\": \"brown\", \"width\": 0.721866504926751}, \"mode\": \"lines\", \"name\": \"0.721866504926751\", \"opacity\": 0.721866504926751, \"text\": \"Edge: ('zpao', 'sophiebits')    <br>Weight: 0.72\", \"type\": \"scatter\", \"x\": [1177.74, 1210.3828571428571, 1243.0257142857142, 1275.6685714285713, 1308.3114285714287, 1340.9542857142858, 1373.597142857143, 1406.24, 1438.8828571428571, 1471.5257142857145, 1504.1685714285713, 1536.8114285714287, 1569.4542857142858, 1602.097142857143, 1634.74], \"y\": [1351.8, 1355.75, 1359.7, 1363.6499999999999, 1367.6, 1371.55, 1375.5, 1379.4499999999998, 1383.3999999999999, 1387.35, 1391.3, 1395.25, 1399.1999999999998, 1403.1499999999999, 1407.1]}, {\"hoverinfo\": \"text\", \"line\": {\"color\": \"brown\", \"width\": 0.6730728622454369}, \"mode\": \"lines\", \"name\": \"0.6730728622454369\", \"opacity\": 0.6730728622454369, \"text\": \"Edge: ('zpao', 'jimfb')    <br>Weight: 0.67\", \"type\": \"scatter\", \"x\": [1177.74, 1183.08, 1188.42, 1193.76, 1199.1, 1204.44, 1209.78, 1215.12, 1220.46, 1225.8, 1231.14, 1236.48, 1241.82, 1247.16, 1252.5], \"y\": [1351.8, 1370.402857142857, 1389.0057142857142, 1407.6085714285714, 1426.2114285714285, 1444.8142857142857, 1463.4171428571428, 1482.02, 1500.6228571428571, 1519.2257142857143, 1537.8285714285714, 1556.4314285714286, 1575.0342857142857, 1593.6371428571429, 1612.24]}, {\"hoverinfo\": \"text\", \"line\": {\"color\": \"brown\", \"width\": 0.7980304576724391}, \"mode\": \"lines\", \"name\": \"0.7980304576724391\", \"opacity\": 0.7980304576724391, \"text\": \"Edge: ('zpao', 'petehunt')    <br>Weight: 0.8\", \"type\": \"scatter\", \"x\": [1177.74, 1174.88, 1172.02, 1169.16, 1166.3, 1163.44, 1160.58, 1157.72, 1154.8600000000001, 1152.0, 1149.14, 1146.28, 1143.42, 1140.56, 1137.7], \"y\": [1351.8, 1331.1514285714286, 1310.502857142857, 1289.8542857142857, 1269.2057142857143, 1248.557142857143, 1227.9085714285713, 1207.26, 1186.6114285714286, 1165.962857142857, 1145.3142857142857, 1124.6657142857143, 1104.017142857143, 1083.3685714285714, 1062.72]}, {\"hoverinfo\": \"text\", \"line\": {\"color\": \"brown\", \"width\": 0.6759632329197748}, \"mode\": \"lines\", \"name\": \"0.6759632329197748\", \"opacity\": 0.6759632329197748, \"text\": \"Edge: ('zpao', 'chenglou')    <br>Weight: 0.68\", \"type\": \"scatter\", \"x\": [1177.74, 1167.6785714285716, 1157.6171428571429, 1147.5557142857142, 1137.4942857142858, 1127.4328571428573, 1117.3714285714286, 1107.31, 1097.2485714285715, 1087.187142857143, 1077.1257142857144, 1067.0642857142857, 1057.0028571428572, 1046.9414285714288, 1036.88], \"y\": [1351.8, 1345.32, 1338.84, 1332.36, 1325.8799999999999, 1319.3999999999999, 1312.9199999999998, 1306.44, 1299.96, 1293.48, 1287.0, 1280.52, 1274.04, 1267.56, 1261.08]}, {\"hoverinfo\": \"text\", \"line\": {\"color\": \"brown\", \"width\": 0.6576017037405144}, \"mode\": \"lines\", \"name\": \"0.6576017037405144\", \"opacity\": 0.6576017037405144, \"text\": \"Edge: ('zpao', 'vjeux')    <br>Weight: 0.66\", \"type\": \"scatter\", \"x\": [1177.74, 1206.517142857143, 1235.2942857142857, 1264.0714285714284, 1292.8485714285714, 1321.6257142857144, 1350.402857142857, 1379.1799999999998, 1407.9571428571428, 1436.7342857142858, 1465.5114285714285, 1494.2885714285712, 1523.0657142857142, 1551.8428571428572, 1580.62], \"y\": [1351.8, 1333.8614285714286, 1315.922857142857, 1297.9842857142858, 1280.0457142857142, 1262.107142857143, 1244.1685714285713, 1226.23, 1208.2914285714287, 1190.3528571428571, 1172.4142857142858, 1154.4757142857143, 1136.537142857143, 1118.5985714285716, 1100.66]}, {\"hoverinfo\": \"text\", \"line\": {\"color\": \"brown\", \"width\": 0.6787780236818317}, \"mode\": \"lines\", \"name\": \"0.6787780236818317\", \"opacity\": 0.6787780236818317, \"text\": \"Edge: ('zpao', 'benjamn')    <br>Weight: 0.68\", \"type\": \"scatter\", \"x\": [1177.74, 1171.1385714285714, 1164.537142857143, 1157.9357142857143, 1151.3342857142857, 1144.732857142857, 1138.1314285714286, 1131.53, 1124.9285714285713, 1118.327142857143, 1111.7257142857143, 1105.1242857142856, 1098.522857142857, 1091.9214285714286, 1085.32], \"y\": [1351.8, 1311.152857142857, 1270.5057142857142, 1229.8585714285714, 1189.2114285714285, 1148.5642857142857, 1107.9171428571428, 1067.27, 1026.6228571428571, 985.9757142857143, 945.3285714285714, 904.6814285714286, 864.0342857142857, 823.3871428571429, 782.74]}, {\"hoverinfo\": \"text\", \"line\": {\"color\": \"brown\", \"width\": 0.8236385310379191}, \"mode\": \"lines\", \"name\": \"0.8236385310379191\", \"opacity\": 0.8236385310379191, \"text\": \"Edge: ('zpao', 'yungsters')    <br>Weight: 0.82\", \"type\": \"scatter\", \"x\": [1177.74, 1194.5785714285714, 1211.4171428571428, 1228.2557142857142, 1245.0942857142857, 1261.932857142857, 1278.7714285714287, 1295.6100000000001, 1312.4485714285715, 1329.287142857143, 1346.1257142857144, 1362.9642857142858, 1379.8028571428572, 1396.6414285714286, 1413.48], \"y\": [1351.8, 1331.3528571428571, 1310.9057142857143, 1290.4585714285713, 1270.0114285714285, 1249.5642857142857, 1229.1171428571429, 1208.67, 1188.222857142857, 1167.7757142857142, 1147.3285714285714, 1126.8814285714286, 1106.4342857142856, 1085.9871428571428, 1065.54]}, {\"hoverinfo\": \"text\", \"line\": {\"color\": \"brown\", \"width\": 0.6468822877047982}, \"mode\": \"lines\", \"name\": \"0.6468822877047982\", \"opacity\": 0.6468822877047982, \"text\": \"Edge: ('zpao', 'subtleGradient')    <br>Weight: 0.65\", \"type\": \"scatter\", \"x\": [1177.74, 1140.8871428571429, 1104.0342857142857, 1067.1814285714286, 1030.3285714285714, 993.4757142857143, 956.6228571428571, 919.77, 882.9171428571428, 846.0642857142857, 809.2114285714285, 772.3585714285714, 735.5057142857142, 698.6528571428571, 661.8], \"y\": [1351.8, 1318.4071428571428, 1285.0142857142857, 1251.6214285714286, 1218.2285714285713, 1184.8357142857142, 1151.442857142857, 1118.05, 1084.6571428571428, 1051.2642857142855, 1017.8714285714285, 984.4785714285713, 951.0857142857142, 917.6928571428571, 884.3]}, {\"hoverinfo\": \"text\", \"line\": {\"color\": \"brown\", \"width\": 0.6446083235864589}, \"mode\": \"lines\", \"name\": \"0.6446083235864589\", \"opacity\": 0.6446083235864589, \"text\": \"Edge: ('zpao', 'syranide')    <br>Weight: 0.64\", \"type\": \"scatter\", \"x\": [1177.74, 1155.692857142857, 1133.6457142857143, 1111.5985714285714, 1089.5514285714287, 1067.5042857142857, 1045.4571428571428, 1023.4100000000001, 1001.3628571428571, 979.3157142857143, 957.2685714285715, 935.2214285714285, 913.1742857142858, 891.1271428571429, 869.08], \"y\": [1351.8, 1326.9457142857143, 1302.0914285714284, 1277.2371428571428, 1252.3828571428571, 1227.5285714285715, 1202.6742857142858, 1177.82, 1152.9657142857143, 1128.1114285714286, 1103.2571428571428, 1078.402857142857, 1053.5485714285714, 1028.6942857142858, 1003.84]}, {\"hoverinfo\": \"text\", \"line\": {\"color\": \"brown\", \"width\": 0.6249196275914777}, \"mode\": \"lines\", \"name\": \"0.6249196275914777\", \"opacity\": 0.6249196275914777, \"text\": \"Edge: ('zpao', 'cpojer')    <br>Weight: 0.62\", \"type\": \"scatter\", \"x\": [1177.74, 1201.5728571428572, 1225.4057142857143, 1249.2385714285715, 1273.0714285714287, 1296.9042857142858, 1320.7371428571428, 1344.5700000000002, 1368.402857142857, 1392.2357142857143, 1416.0685714285714, 1439.9014285714286, 1463.7342857142858, 1487.567142857143, 1511.4], \"y\": [1351.8, 1373.8257142857142, 1395.8514285714286, 1417.8771428571429, 1439.902857142857, 1461.9285714285713, 1483.9542857142858, 1505.98, 1528.0057142857142, 1550.0314285714285, 1572.057142857143, 1594.0828571428572, 1616.1085714285714, 1638.1342857142859, 1660.16]}, {\"hoverinfo\": \"text\", \"line\": {\"color\": \"brown\", \"width\": 0.7214208481489884}, \"mode\": \"lines\", \"name\": \"0.7214208481489884\", \"opacity\": 0.7214208481489884, \"text\": \"Edge: ('zpao', 'marocchino')    <br>Weight: 0.72\", \"type\": \"scatter\", \"x\": [1177.74, 1153.4542857142858, 1129.1685714285713, 1104.8828571428571, 1080.597142857143, 1056.3114285714287, 1032.0257142857142, 1007.74, 983.4542857142858, 959.1685714285715, 934.8828571428571, 910.5971428571429, 886.3114285714286, 862.0257142857142, 837.74], \"y\": [1351.8, 1371.2671428571427, 1390.7342857142858, 1410.2014285714286, 1429.6685714285713, 1449.1357142857141, 1468.6028571428571, 1488.07, 1507.5371428571427, 1527.0042857142857, 1546.4714285714285, 1565.9385714285713, 1585.405714285714, 1604.8728571428571, 1624.34]}, {\"hoverinfo\": \"text\", \"line\": {\"color\": \"brown\", \"width\": 0.6907012468238405}, \"mode\": \"lines\", \"name\": \"0.6907012468238405\", \"opacity\": 0.6907012468238405, \"text\": \"Edge: ('zpao', 'kohei-takata')    <br>Weight: 0.69\", \"type\": \"scatter\", \"x\": [1177.74, 1160.0085714285715, 1142.277142857143, 1124.5457142857142, 1106.8142857142857, 1089.0828571428572, 1071.3514285714286, 1053.62, 1035.8885714285714, 1018.1571428571428, 1000.4257142857143, 982.6942857142857, 964.9628571428572, 947.2314285714285, 929.5], \"y\": [1351.8, 1385.3585714285714, 1418.9171428571428, 1452.4757142857143, 1486.0342857142857, 1519.5928571428572, 1553.1514285714286, 1586.71, 1620.2685714285712, 1653.827142857143, 1687.3857142857141, 1720.9442857142856, 1754.502857142857, 1788.0614285714285, 1821.62]}, {\"hoverinfo\": \"text\", \"line\": {\"color\": \"brown\", \"width\": 0.6800999356858285}, \"mode\": \"lines\", \"name\": \"0.6800999356858285\", \"opacity\": 0.6800999356858285, \"text\": \"Edge: ('zpao', 'chicoxyzzy')    <br>Weight: 0.68\", \"type\": \"scatter\", \"x\": [1177.74, 1152.8414285714287, 1127.942857142857, 1103.0442857142857, 1078.1457142857143, 1053.2471428571428, 1028.3485714285714, 1003.45, 978.5514285714286, 953.6528571428571, 928.7542857142857, 903.8557142857143, 878.9571428571428, 854.0585714285714, 829.16], \"y\": [1351.8, 1342.097142857143, 1332.3942857142856, 1322.6914285714286, 1312.9885714285715, 1303.2857142857142, 1293.5828571428572, 1283.88, 1274.1771428571428, 1264.4742857142858, 1254.7714285714285, 1245.0685714285714, 1235.3657142857144, 1225.662857142857, 1215.96]}, {\"hoverinfo\": \"text\", \"line\": {\"color\": \"brown\", \"width\": 0.6202442472137893}, \"mode\": \"lines\", \"name\": \"0.6202442472137893\", \"opacity\": 0.6202442472137893, \"text\": \"Edge: ('zpao', 'mcsheffrey')    <br>Weight: 0.62\", \"type\": \"scatter\", \"x\": [1177.74, 1137.4657142857143, 1097.1914285714286, 1056.9171428571428, 1016.6428571428571, 976.3685714285714, 936.0942857142857, 895.8199999999999, 855.5457142857142, 815.2714285714285, 774.9971428571428, 734.722857142857, 694.4485714285714, 654.1742857142857, 613.9], \"y\": [1351.8, 1350.1914285714286, 1348.5828571428572, 1346.9742857142858, 1345.3657142857141, 1343.7571428571428, 1342.1485714285714, 1340.54, 1338.9314285714286, 1337.3228571428572, 1335.7142857142858, 1334.1057142857142, 1332.4971428571428, 1330.8885714285714, 1329.28]}, {\"hoverinfo\": \"text\", \"line\": {\"color\": \"brown\", \"width\": 0.7027394419160228}, \"mode\": \"lines\", \"name\": \"0.7027394419160228\", \"opacity\": 0.7027394419160228, \"text\": \"Edge: ('zpao', 'joshduck')    <br>Weight: 0.7\", \"type\": \"scatter\", \"x\": [1177.74, 1186.0057142857142, 1194.2714285714285, 1202.537142857143, 1210.8028571428572, 1219.0685714285714, 1227.3342857142857, 1235.6, 1243.8657142857144, 1252.1314285714286, 1260.3971428571429, 1268.662857142857, 1276.9285714285716, 1285.1942857142858, 1293.46], \"y\": [1351.8, 1324.6642857142856, 1297.5285714285715, 1270.392857142857, 1243.2571428571428, 1216.1214285714286, 1188.9857142857143, 1161.85, 1134.7142857142858, 1107.5785714285714, 1080.442857142857, 1053.307142857143, 1026.1714285714286, 999.0357142857142, 971.9]}, {\"hoverinfo\": \"text\", \"line\": {\"color\": \"brown\", \"width\": 0.7856565277083414}, \"mode\": \"lines\", \"name\": \"0.7856565277083414\", \"opacity\": 0.7856565277083414, \"text\": \"Edge: ('zpao', 'Daniel15')    <br>Weight: 0.79\", \"type\": \"scatter\", \"x\": [1177.74, 1175.1842857142858, 1172.6285714285714, 1170.0728571428572, 1167.517142857143, 1164.9614285714285, 1162.4057142857143, 1159.85, 1157.2942857142857, 1154.7385714285715, 1152.182857142857, 1149.6271428571429, 1147.0714285714287, 1144.5157142857142, 1141.96], \"y\": [1351.8, 1391.1971428571428, 1430.5942857142857, 1469.9914285714285, 1509.3885714285714, 1548.7857142857142, 1588.182857142857, 1627.58, 1666.9771428571428, 1706.3742857142856, 1745.7714285714285, 1785.1685714285713, 1824.5657142857142, 1863.962857142857, 1903.36]}, {\"hoverinfo\": \"text\", \"line\": {\"color\": \"brown\", \"width\": 0.7449017988477188}, \"mode\": \"lines\", \"name\": \"0.7449017988477188\", \"opacity\": 0.7449017988477188, \"text\": \"Edge: ('zpao', 'fisherwebdev')    <br>Weight: 0.74\", \"type\": \"scatter\", \"x\": [1177.74, 1196.2414285714285, 1214.7428571428572, 1233.2442857142858, 1251.7457142857143, 1270.2471428571428, 1288.7485714285715, 1307.25, 1325.7514285714285, 1344.252857142857, 1362.7542857142857, 1381.2557142857142, 1399.7571428571428, 1418.2585714285715, 1436.76], \"y\": [1351.8, 1385.837142857143, 1419.8742857142856, 1453.9114285714286, 1487.9485714285713, 1521.9857142857143, 1556.022857142857, 1590.06, 1624.097142857143, 1658.1342857142856, 1692.1714285714284, 1726.2085714285713, 1760.2457142857143, 1794.282857142857, 1828.32]}, {\"hoverinfo\": \"text\", \"line\": {\"color\": \"brown\", \"width\": 0.6363878725694069}, \"mode\": \"lines\", \"name\": \"0.6363878725694069\", \"opacity\": 0.6363878725694069, \"text\": \"Edge: ('zpao', 'jordwalke')    <br>Weight: 0.64\", \"type\": \"scatter\", \"x\": [1177.74, 1159.12, 1140.5, 1121.88, 1103.26, 1084.6399999999999, 1066.02, 1047.4, 1028.78, 1010.16, 991.54, 972.92, 954.3, 935.68, 917.06], \"y\": [1351.8, 1317.4885714285715, 1283.1771428571428, 1248.8657142857141, 1214.5542857142857, 1180.2428571428572, 1145.9314285714286, 1111.62, 1077.3085714285714, 1042.997142857143, 1008.6857142857143, 974.3742857142857, 940.0628571428572, 905.7514285714286, 871.44]}, {\"hoverinfo\": \"text\", \"line\": {\"color\": \"brown\", \"width\": 0.7288981690527697}, \"mode\": \"lines\", \"name\": \"0.7288981690527697\", \"opacity\": 0.7288981690527697, \"text\": \"Edge: ('zpao', 'arkist')    <br>Weight: 0.73\", \"type\": \"scatter\", \"x\": [1177.74, 1171.702857142857, 1165.6657142857143, 1159.6285714285714, 1153.5914285714287, 1147.5542857142857, 1141.517142857143, 1135.48, 1129.442857142857, 1123.4057142857143, 1117.3685714285714, 1111.3314285714287, 1105.2942857142857, 1099.257142857143, 1093.22], \"y\": [1351.8, 1367.07, 1382.34, 1397.61, 1412.8799999999999, 1428.1499999999999, 1443.4199999999998, 1458.69, 1473.96, 1489.23, 1504.5, 1519.77, 1535.04, 1550.31, 1565.58]}, {\"hoverinfo\": \"text\", \"line\": {\"color\": \"brown\", \"width\": 0.6756027458310533}, \"mode\": \"lines\", \"name\": \"0.6756027458310533\", \"opacity\": 0.6756027458310533, \"text\": \"Edge: ('zpao', 'cody')    <br>Weight: 0.68\", \"type\": \"scatter\", \"x\": [1177.74, 1220.1142857142856, 1262.4885714285715, 1304.8628571428571, 1347.2371428571428, 1389.6114285714286, 1431.9857142857143, 1474.3600000000001, 1516.7342857142858, 1559.1085714285714, 1601.482857142857, 1643.857142857143, 1686.2314285714285, 1728.6057142857144, 1770.98], \"y\": [1351.8, 1347.3999999999999, 1343.0, 1338.6, 1334.2, 1329.8, 1325.4, 1321.0, 1316.6, 1312.2, 1307.8, 1303.4, 1299.0, 1294.6000000000001, 1290.2]}, {\"hoverinfo\": \"text\", \"line\": {\"color\": \"brown\", \"width\": 0.6154271552102899}, \"mode\": \"lines\", \"name\": \"0.6154271552102899\", \"opacity\": 0.6154271552102899, \"text\": \"Edge: ('zpao', 'iamchenxin')    <br>Weight: 0.62\", \"type\": \"scatter\", \"x\": [1177.74, 1144.9957142857143, 1112.2514285714285, 1079.507142857143, 1046.7628571428572, 1014.0185714285715, 981.2742857142857, 948.53, 915.7857142857143, 883.0414285714287, 850.297142857143, 817.5528571428572, 784.8085714285714, 752.0642857142858, 719.32], \"y\": [1351.8, 1379.0557142857142, 1406.3114285714285, 1433.567142857143, 1460.8228571428572, 1488.0785714285714, 1515.3342857142857, 1542.5900000000001, 1569.8457142857144, 1597.1014285714286, 1624.357142857143, 1651.6128571428571, 1678.8685714285716, 1706.1242857142859, 1733.38]}, {\"hoverinfo\": \"text\", \"line\": {\"color\": \"brown\", \"width\": 0.7001388023593837}, \"mode\": \"lines\", \"name\": \"0.7001388023593837\", \"opacity\": 0.7001388023593837, \"text\": \"Edge: ('gaearon', 'bvaughn')    <br>Weight: 0.7\", \"type\": \"scatter\", \"x\": [3417.8, 3427.6857142857143, 3437.571428571429, 3447.457142857143, 3457.342857142857, 3467.2285714285713, 3477.114285714286, 3487.0, 3496.885714285714, 3506.7714285714287, 3516.657142857143, 3526.542857142857, 3536.428571428571, 3546.3142857142857, 3556.2], \"y\": [1166.8, 1188.4457142857143, 1210.0914285714284, 1231.7371428571428, 1253.3828571428571, 1275.0285714285715, 1296.6742857142856, 1318.32, 1339.9657142857143, 1361.6114285714284, 1383.2571428571428, 1404.902857142857, 1426.5485714285714, 1448.1942857142856, 1469.84]}, {\"hoverinfo\": \"text\", \"line\": {\"color\": \"brown\", \"width\": 0.7425489766109225}, \"mode\": \"lines\", \"name\": \"0.7425489766109225\", \"opacity\": 0.7425489766109225, \"text\": \"Edge: ('gaearon', 'acdlite')    <br>Weight: 0.74\", \"type\": \"scatter\", \"x\": [3417.8, 3406.1000000000004, 3394.4, 3382.7000000000003, 3371.0, 3359.3, 3347.6, 3335.9, 3324.2000000000003, 3312.5, 3300.8, 3289.1, 3277.4, 3265.7, 3254.0], \"y\": [1166.8, 1170.502857142857, 1174.2057142857143, 1177.9085714285713, 1181.6114285714286, 1185.3142857142857, 1189.017142857143, 1192.72, 1196.422857142857, 1200.1257142857144, 1203.8285714285714, 1207.5314285714287, 1211.2342857142858, 1214.937142857143, 1218.64]}, {\"hoverinfo\": \"text\", \"line\": {\"color\": \"brown\", \"width\": 0.7205017800684788}, \"mode\": \"lines\", \"name\": \"0.7205017800684788\", \"opacity\": 0.7205017800684788, \"text\": \"Edge: ('gaearon', 'sebmarkbage')    <br>Weight: 0.72\", \"type\": \"scatter\", \"x\": [3417.8, 3370.9, 3324.0, 3277.1, 3230.2000000000003, 3183.3, 3136.4, 3089.5, 3042.6, 2995.7, 2948.7999999999997, 2901.8999999999996, 2855.0, 2808.1, 2761.2], \"y\": [1166.8, 1181.2957142857142, 1195.7914285714285, 1210.2871428571427, 1224.7828571428572, 1239.2785714285715, 1253.7742857142857, 1268.27, 1282.7657142857142, 1297.2614285714285, 1311.7571428571428, 1326.252857142857, 1340.7485714285715, 1355.2442857142858, 1369.74]}, {\"hoverinfo\": \"text\", \"line\": {\"color\": \"brown\", \"width\": 0.6962116636437916}, \"mode\": \"lines\", \"name\": \"0.6962116636437916\", \"opacity\": 0.6962116636437916, \"text\": \"Edge: ('gaearon', 'trueadm')    <br>Weight: 0.7\", \"type\": \"scatter\", \"x\": [3417.8, 3415.7428571428572, 3413.6857142857143, 3411.6285714285714, 3409.571428571429, 3407.514285714286, 3405.457142857143, 3403.4, 3401.342857142857, 3399.285714285714, 3397.2285714285713, 3395.171428571429, 3393.114285714286, 3391.057142857143, 3389.0], \"y\": [1166.8, 1176.8414285714284, 1186.8828571428571, 1196.9242857142858, 1206.9657142857143, 1217.0071428571428, 1227.0485714285714, 1237.0900000000001, 1247.1314285714286, 1257.172857142857, 1267.2142857142858, 1277.2557142857145, 1287.297142857143, 1297.3385714285714, 1307.38]}, {\"hoverinfo\": \"text\", \"line\": {\"color\": \"brown\", \"width\": 0.706258242403718}, \"mode\": \"lines\", \"name\": \"0.706258242403718\", \"opacity\": 0.706258242403718, \"text\": \"Edge: ('gaearon', 'nhunzaker')    <br>Weight: 0.71\", \"type\": \"scatter\", \"x\": [3417.8, 3393.4, 3369.0, 3344.6, 3320.2000000000003, 3295.8, 3271.4, 3247.0, 3222.6, 3198.2, 3173.7999999999997, 3149.3999999999996, 3125.0, 3100.6, 3076.2], \"y\": [1166.8, 1143.0785714285714, 1119.357142857143, 1095.6357142857144, 1071.9142857142856, 1048.192857142857, 1024.4714285714285, 1000.75, 977.0285714285715, 953.3071428571429, 929.5857142857143, 905.8642857142858, 882.1428571428571, 858.4214285714286, 834.7]}, {\"hoverinfo\": \"text\", \"line\": {\"color\": \"brown\", \"width\": 0.6090473160656117}, \"mode\": \"lines\", \"name\": \"0.6090473160656117\", \"opacity\": 0.6090473160656117, \"text\": \"Edge: ('gaearon', 'necolas')    <br>Weight: 0.61\", \"type\": \"scatter\", \"x\": [3417.8, 3435.357142857143, 3452.914285714286, 3470.4714285714285, 3488.0285714285715, 3505.5857142857144, 3523.1428571428573, 3540.7000000000003, 3558.2571428571428, 3575.8142857142857, 3593.3714285714286, 3610.9285714285716, 3628.4857142857145, 3646.042857142857, 3663.6], \"y\": [1166.8, 1197.4242857142856, 1228.0485714285714, 1258.672857142857, 1289.2971428571427, 1319.9214285714286, 1350.5457142857142, 1381.17, 1411.7942857142857, 1442.4185714285713, 1473.042857142857, 1503.6671428571428, 1534.2914285714285, 1564.9157142857143, 1595.54]}, {\"hoverinfo\": \"text\", \"line\": {\"color\": \"brown\", \"width\": 0.6725490578179311}, \"mode\": \"lines\", \"name\": \"0.6725490578179311\", \"opacity\": 0.6725490578179311, \"text\": \"Edge: ('gaearon', 'aweary')    <br>Weight: 0.67\", \"type\": \"scatter\", \"x\": [3417.8, 3390.6857142857143, 3363.571428571429, 3336.457142857143, 3309.342857142857, 3282.2285714285713, 3255.114285714286, 3228.0, 3200.885714285714, 3173.7714285714287, 3146.657142857143, 3119.542857142857, 3092.4285714285716, 3065.3142857142857, 3038.2], \"y\": [1166.8, 1153.2171428571428, 1139.6342857142856, 1126.0514285714285, 1112.4685714285713, 1098.8857142857144, 1085.3028571428572, 1071.72, 1058.1371428571429, 1044.5542857142857, 1030.9714285714285, 1017.3885714285714, 1003.8057142857142, 990.2228571428572, 976.64]}, {\"hoverinfo\": \"text\", \"line\": {\"color\": \"brown\", \"width\": 0.656140059493398}, \"mode\": \"lines\", \"name\": \"0.656140059493398\", \"opacity\": 0.656140059493398, \"text\": \"Edge: ('gaearon', 'eps1lon')    <br>Weight: 0.66\", \"type\": \"scatter\", \"x\": [3417.8, 3437.014285714286, 3456.2285714285717, 3475.4428571428575, 3494.657142857143, 3513.8714285714286, 3533.0857142857144, 3552.3, 3571.514285714286, 3590.7285714285717, 3609.9428571428575, 3629.157142857143, 3648.3714285714286, 3667.5857142857144, 3686.8], \"y\": [1166.8, 1164.9357142857143, 1163.0714285714284, 1161.2071428571428, 1159.3428571428572, 1157.4785714285715, 1155.6142857142856, 1153.75, 1151.8857142857144, 1150.0214285714285, 1148.1571428571428, 1146.2928571428572, 1144.4285714285716, 1142.5642857142857, 1140.7]}, {\"hoverinfo\": \"text\", \"line\": {\"color\": \"brown\", \"width\": 0.6974702436453097}, \"mode\": \"lines\", \"name\": \"0.6974702436453097\", \"opacity\": 0.6974702436453097, \"text\": \"Edge: ('gaearon', 'SimenB')    <br>Weight: 0.7\", \"type\": \"scatter\", \"x\": [3417.8, 3432.3285714285716, 3446.857142857143, 3461.3857142857146, 3475.9142857142856, 3490.442857142857, 3504.9714285714285, 3519.5, 3534.0285714285715, 3548.557142857143, 3563.0857142857144, 3577.6142857142854, 3592.142857142857, 3606.6714285714284, 3621.2], \"y\": [1166.8, 1146.3985714285714, 1125.9971428571428, 1105.5957142857142, 1085.1942857142856, 1064.7928571428572, 1044.3914285714286, 1023.99, 1003.5885714285714, 983.1871428571428, 962.7857142857142, 942.3842857142856, 921.982857142857, 901.5814285714285, 881.18]}, {\"hoverinfo\": \"text\", \"line\": {\"color\": \"brown\", \"width\": 0.6082307888038548}, \"mode\": \"lines\", \"name\": \"0.6082307888038548\", \"opacity\": 0.6082307888038548, \"text\": \"Edge: ('gaearon', 'iamdustan')    <br>Weight: 0.61\", \"type\": \"scatter\", \"x\": [3417.8, 3418.071428571429, 3418.342857142857, 3418.614285714286, 3418.8857142857146, 3419.157142857143, 3419.4285714285716, 3419.7, 3419.9714285714285, 3420.2428571428572, 3420.5142857142855, 3420.785714285714, 3421.057142857143, 3421.328571428571, 3421.6], \"y\": [1166.8, 1206.3657142857141, 1245.9314285714286, 1285.4971428571428, 1325.0628571428572, 1364.6285714285714, 1404.1942857142858, 1443.76, 1483.3257142857142, 1522.8914285714286, 1562.457142857143, 1602.0228571428572, 1641.5885714285714, 1681.1542857142858, 1720.72]}, {\"hoverinfo\": \"text\", \"line\": {\"color\": \"brown\", \"width\": 0.6833957441320856}, \"mode\": \"lines\", \"name\": \"0.6833957441320856\", \"opacity\": 0.6833957441320856, \"text\": \"Edge: ('gaearon', 'sompylasar')    <br>Weight: 0.68\", \"type\": \"scatter\", \"x\": [3417.8, 3460.0428571428574, 3502.285714285714, 3544.5285714285715, 3586.7714285714287, 3629.014285714286, 3671.2571428571428, 3713.5, 3755.7428571428572, 3797.9857142857145, 3840.2285714285713, 3882.4714285714285, 3924.714285714286, 3966.9571428571426, 4009.2], \"y\": [1166.8, 1168.942857142857, 1171.0857142857142, 1173.2285714285713, 1175.3714285714286, 1177.5142857142857, 1179.6571428571428, 1181.8, 1183.942857142857, 1186.0857142857142, 1188.2285714285713, 1190.3714285714286, 1192.5142857142857, 1194.6571428571428, 1196.8]}, {\"hoverinfo\": \"text\", \"line\": {\"color\": \"brown\", \"width\": 0.7365183618438045}, \"mode\": \"lines\", \"name\": \"0.7365183618438045\", \"opacity\": 0.7365183618438045, \"text\": \"Edge: ('gaearon', 'raphamorim')    <br>Weight: 0.74\", \"type\": \"scatter\", \"x\": [3417.8, 3415.1000000000004, 3412.4, 3409.7000000000003, 3407.0, 3404.3, 3401.6, 3398.9, 3396.2000000000003, 3393.5, 3390.8, 3388.1, 3385.4, 3382.7, 3380.0], \"y\": [1166.8, 1124.762857142857, 1082.7257142857143, 1040.6885714285713, 998.6514285714286, 956.6142857142856, 914.5771428571428, 872.54, 830.5028571428571, 788.4657142857143, 746.4285714285714, 704.3914285714286, 662.3542857142857, 620.3171428571428, 578.28]}, {\"hoverinfo\": \"text\", \"line\": {\"color\": \"brown\", \"width\": 0.6249689160064585}, \"mode\": \"lines\", \"name\": \"0.6249689160064585\", \"opacity\": 0.6249689160064585, \"text\": \"Edge: ('gaearon', 'bl00mber')    <br>Weight: 0.62\", \"type\": \"scatter\", \"x\": [3417.8, 3450.2714285714287, 3482.7428571428572, 3515.214285714286, 3547.6857142857143, 3580.157142857143, 3612.6285714285714, 3645.1000000000004, 3677.571428571429, 3710.0428571428574, 3742.514285714286, 3774.9857142857145, 3807.457142857143, 3839.9285714285716, 3872.4], \"y\": [1166.8, 1162.5785714285714, 1158.357142857143, 1154.1357142857144, 1149.9142857142856, 1145.692857142857, 1141.4714285714285, 1137.25, 1133.0285714285715, 1128.807142857143, 1124.5857142857144, 1120.3642857142856, 1116.142857142857, 1111.9214285714286, 1107.7]}, {\"hoverinfo\": \"text\", \"line\": {\"color\": \"brown\", \"width\": 0.6200369432494158}, \"mode\": \"lines\", \"name\": \"0.6200369432494158\", \"opacity\": 0.6200369432494158, \"text\": \"Edge: ('bvaughn', 'acdlite')    <br>Weight: 0.62\", \"type\": \"scatter\", \"x\": [3556.2, 3534.6142857142854, 3513.0285714285715, 3491.442857142857, 3469.8571428571427, 3448.2714285714283, 3426.6857142857143, 3405.1, 3383.5142857142855, 3361.9285714285716, 3340.342857142857, 3318.7571428571428, 3297.171428571429, 3275.5857142857144, 3254.0], \"y\": [1469.84, 1451.8971428571429, 1433.9542857142856, 1416.0114285714285, 1398.0685714285714, 1380.1257142857144, 1362.182857142857, 1344.24, 1326.297142857143, 1308.3542857142857, 1290.4114285714286, 1272.4685714285715, 1254.5257142857145, 1236.5828571428572, 1218.64]}, {\"hoverinfo\": \"text\", \"line\": {\"color\": \"brown\", \"width\": 0.6254127642857159}, \"mode\": \"lines\", \"name\": \"0.6254127642857159\", \"opacity\": 0.6254127642857159, \"text\": \"Edge: ('bvaughn', 'sebmarkbage')    <br>Weight: 0.63\", \"type\": \"scatter\", \"x\": [3556.2, 3499.4142857142856, 3442.6285714285714, 3385.842857142857, 3329.0571428571425, 3272.2714285714283, 3215.485714285714, 3158.7, 3101.9142857142856, 3045.1285714285714, 2988.3428571428567, 2931.557142857143, 2874.7714285714283, 2817.985714285714, 2761.2], \"y\": [1469.84, 1462.6899999999998, 1455.54, 1448.3899999999999, 1441.24, 1434.09, 1426.94, 1419.79, 1412.6399999999999, 1405.49, 1398.34, 1391.19, 1384.04, 1376.89, 1369.74]}, {\"hoverinfo\": \"text\", \"line\": {\"color\": \"brown\", \"width\": 0.6337269605495808}, \"mode\": \"lines\", \"name\": \"0.6337269605495808\", \"opacity\": 0.6337269605495808, \"text\": \"Edge: ('bvaughn', 'trueadm')    <br>Weight: 0.63\", \"type\": \"scatter\", \"x\": [3556.2, 3544.2571428571428, 3532.3142857142857, 3520.3714285714286, 3508.428571428571, 3496.485714285714, 3484.542857142857, 3472.6, 3460.657142857143, 3448.714285714286, 3436.7714285714287, 3424.828571428571, 3412.885714285714, 3400.942857142857, 3389.0], \"y\": [1469.84, 1458.2357142857143, 1446.6314285714286, 1435.0271428571427, 1423.422857142857, 1411.8185714285714, 1400.2142857142858, 1388.6100000000001, 1377.0057142857142, 1365.4014285714286, 1353.797142857143, 1342.1928571428573, 1330.5885714285714, 1318.9842857142858, 1307.38]}, {\"hoverinfo\": \"text\", \"line\": {\"color\": \"brown\", \"width\": 0.6927009619223248}, \"mode\": \"lines\", \"name\": \"0.6927009619223248\", \"opacity\": 0.6927009619223248, \"text\": \"Edge: ('bvaughn', 'necolas')    <br>Weight: 0.69\", \"type\": \"scatter\", \"x\": [3556.2, 3563.8714285714286, 3571.542857142857, 3579.2142857142853, 3586.885714285714, 3594.557142857143, 3602.2285714285713, 3609.8999999999996, 3617.5714285714284, 3625.2428571428572, 3632.9142857142856, 3640.585714285714, 3648.2571428571428, 3655.9285714285716, 3663.6], \"y\": [1469.84, 1478.8185714285714, 1487.7971428571427, 1496.7757142857142, 1505.7542857142857, 1514.732857142857, 1523.7114285714285, 1532.69, 1541.6685714285713, 1550.6471428571429, 1559.6257142857141, 1568.6042857142857, 1577.5828571428572, 1586.5614285714285, 1595.54]}, {\"hoverinfo\": \"text\", \"line\": {\"color\": \"brown\", \"width\": 0.6580529010954961}, \"mode\": \"lines\", \"name\": \"0.6580529010954961\", \"opacity\": 0.6580529010954961, \"text\": \"Edge: ('bvaughn', 'rickhanlonii')    <br>Weight: 0.66\", \"type\": \"scatter\", \"x\": [3556.2, 3571.6285714285714, 3587.0571428571425, 3602.485714285714, 3617.9142857142856, 3633.342857142857, 3648.7714285714283, 3664.2, 3679.6285714285714, 3695.0571428571425, 3710.485714285714, 3725.9142857142856, 3741.342857142857, 3756.7714285714283, 3772.2], \"y\": [1469.84, 1464.3214285714284, 1458.802857142857, 1453.2842857142857, 1447.7657142857142, 1442.2471428571428, 1436.7285714285713, 1431.21, 1425.6914285714286, 1420.172857142857, 1414.6542857142856, 1409.1357142857141, 1403.6171428571429, 1398.0985714285714, 1392.58]}, {\"hoverinfo\": \"text\", \"line\": {\"color\": \"brown\", \"width\": 0.6193920458860286}, \"mode\": \"lines\", \"name\": \"0.6193920458860286\", \"opacity\": 0.6193920458860286, \"text\": \"Edge: ('bvaughn', 'lunaruan')    <br>Weight: 0.62\", \"type\": \"scatter\", \"x\": [3556.2, 3578.828571428571, 3601.4571428571426, 3624.085714285714, 3646.714285714286, 3669.342857142857, 3691.9714285714285, 3714.6, 3737.2285714285713, 3759.8571428571427, 3782.485714285714, 3805.114285714286, 3827.7428571428572, 3850.3714285714286, 3873.0], \"y\": [1469.84, 1504.0442857142857, 1538.2485714285713, 1572.452857142857, 1606.6571428571428, 1640.8614285714286, 1675.0657142857142, 1709.27, 1743.4742857142858, 1777.6785714285716, 1811.8828571428571, 1846.087142857143, 1880.2914285714287, 1914.4957142857143, 1948.7]}, {\"hoverinfo\": \"text\", \"line\": {\"color\": \"brown\", \"width\": 0.8149671979115443}, \"mode\": \"lines\", \"name\": \"0.8149671979115443\", \"opacity\": 0.8149671979115443, \"text\": \"Edge: ('bvaughn', 'eps1lon')    <br>Weight: 0.81\", \"type\": \"scatter\", \"x\": [3556.2, 3565.5285714285715, 3574.8571428571427, 3584.1857142857143, 3593.5142857142855, 3602.842857142857, 3612.1714285714284, 3621.5, 3630.8285714285716, 3640.157142857143, 3649.4857142857145, 3658.8142857142857, 3668.1428571428573, 3677.4714285714285, 3686.8], \"y\": [1469.84, 1446.33, 1422.82, 1399.31, 1375.8, 1352.29, 1328.78, 1305.27, 1281.76, 1258.25, 1234.74, 1211.23, 1187.72, 1164.21, 1140.7]}, {\"hoverinfo\": \"text\", \"line\": {\"color\": \"brown\", \"width\": 0.783367131449665}, \"mode\": \"lines\", \"name\": \"0.783367131449665\", \"opacity\": 0.783367131449665, \"text\": \"Edge: ('bvaughn', 'threepointone')    <br>Weight: 0.78\", \"type\": \"scatter\", \"x\": [3556.2, 3596.985714285714, 3637.7714285714283, 3678.5571428571425, 3719.342857142857, 3760.1285714285714, 3800.9142857142856, 3841.7, 3882.485714285714, 3923.2714285714283, 3964.0571428571425, 4004.8428571428567, 4045.6285714285714, 4086.4142857142856, 4127.2], \"y\": [1469.84, 1481.9585714285713, 1494.0771428571427, 1506.1957142857143, 1518.3142857142857, 1530.432857142857, 1542.5514285714285, 1554.67, 1566.7885714285715, 1578.9071428571428, 1591.0257142857142, 1603.1442857142856, 1615.2628571428572, 1627.3814285714286, 1639.5]}, {\"hoverinfo\": \"text\", \"line\": {\"color\": \"brown\", \"width\": 0.9461247482828622}, \"mode\": \"lines\", \"name\": \"0.9461247482828622\", \"opacity\": 0.9461247482828622, \"text\": \"Edge: ('bvaughn', 'sompylasar')    <br>Weight: 0.95\", \"type\": \"scatter\", \"x\": [3556.2, 3588.5571428571425, 3620.9142857142856, 3653.2714285714283, 3685.6285714285714, 3717.985714285714, 3750.3428571428567, 3782.7, 3815.0571428571425, 3847.4142857142856, 3879.7714285714283, 3912.1285714285714, 3944.485714285714, 3976.8428571428567, 4009.2], \"y\": [1469.84, 1450.3371428571427, 1430.8342857142857, 1411.3314285714284, 1391.8285714285714, 1372.3257142857142, 1352.8228571428572, 1333.32, 1313.8171428571427, 1294.3142857142857, 1274.8114285714285, 1255.3085714285714, 1235.8057142857142, 1216.3028571428572, 1196.8]}, {\"hoverinfo\": \"text\", \"line\": {\"color\": \"brown\", \"width\": 0.8302387433430958}, \"mode\": \"lines\", \"name\": \"0.8302387433430958\", \"opacity\": 0.8302387433430958, \"text\": \"Edge: ('bvaughn', 'bl00mber')    <br>Weight: 0.83\", \"type\": \"scatter\", \"x\": [3556.2, 3578.785714285714, 3601.3714285714286, 3623.9571428571426, 3646.542857142857, 3669.1285714285714, 3691.714285714286, 3714.3, 3736.885714285714, 3759.4714285714285, 3782.057142857143, 3804.6428571428573, 3827.2285714285717, 3849.8142857142857, 3872.4], \"y\": [1469.84, 1443.972857142857, 1418.1057142857142, 1392.2385714285713, 1366.3714285714286, 1340.5042857142857, 1314.6371428571429, 1288.77, 1262.902857142857, 1237.0357142857142, 1211.1685714285713, 1185.3014285714285, 1159.4342857142858, 1133.567142857143, 1107.7]}, {\"hoverinfo\": \"text\", \"line\": {\"color\": \"brown\", \"width\": 0.6239722624771209}, \"mode\": \"lines\", \"name\": \"0.6239722624771209\", \"opacity\": 0.6239722624771209, \"text\": \"Edge: ('sophiebits', 'sebmarkbage')    <br>Weight: 0.62\", \"type\": \"scatter\", \"x\": [1634.74, 1715.2014285714286, 1795.662857142857, 1876.1242857142856, 1956.5857142857142, 2037.0471428571427, 2117.5085714285715, 2197.97, 2278.4314285714286, 2358.892857142857, 2439.3542857142857, 2519.815714285714, 2600.2771428571427, 2680.738571428571, 2761.2], \"y\": [1407.1, 1404.4314285714286, 1401.762857142857, 1399.0942857142857, 1396.4257142857143, 1393.7571428571428, 1391.0885714285714, 1388.42, 1385.7514285714285, 1383.0828571428572, 1380.4142857142856, 1377.7457142857143, 1375.077142857143, 1372.4085714285713, 1369.74]}, {\"hoverinfo\": \"text\", \"line\": {\"color\": \"brown\", \"width\": 0.6178758136482333}, \"mode\": \"lines\", \"name\": \"0.6178758136482333\", \"opacity\": 0.6178758136482333, \"text\": \"Edge: ('sophiebits', 'petehunt')    <br>Weight: 0.62\", \"type\": \"scatter\", \"x\": [1634.74, 1599.2371428571428, 1563.7342857142858, 1528.2314285714285, 1492.7285714285715, 1457.2257142857143, 1421.7228571428573, 1386.22, 1350.7171428571428, 1315.2142857142858, 1279.7114285714288, 1244.2085714285715, 1208.7057142857143, 1173.2028571428573, 1137.7], \"y\": [1407.1, 1382.5014285714285, 1357.902857142857, 1333.3042857142857, 1308.7057142857143, 1284.107142857143, 1259.5085714285715, 1234.9099999999999, 1210.3114285714285, 1185.712857142857, 1161.1142857142856, 1136.5157142857142, 1111.9171428571428, 1087.3185714285714, 1062.72]}, {\"hoverinfo\": \"text\", \"line\": {\"color\": \"brown\", \"width\": 0.6007779103686233}, \"mode\": \"lines\", \"name\": \"0.6007779103686233\", \"opacity\": 0.6007779103686233, \"text\": \"Edge: ('sophiebits', 'chenglou')    <br>Weight: 0.6\", \"type\": \"scatter\", \"x\": [1634.74, 1592.0357142857142, 1549.3314285714287, 1506.6271428571429, 1463.922857142857, 1421.2185714285715, 1378.5142857142857, 1335.81, 1293.1057142857144, 1250.4014285714286, 1207.6971428571428, 1164.9928571428572, 1122.2885714285715, 1079.5842857142857, 1036.88], \"y\": [1407.1, 1396.6699999999998, 1386.24, 1375.81, 1365.3799999999999, 1354.9499999999998, 1344.52, 1334.09, 1323.6599999999999, 1313.23, 1302.8, 1292.37, 1281.94, 1271.51, 1261.08]}, {\"hoverinfo\": \"text\", \"line\": {\"color\": \"brown\", \"width\": 0.6485151689048804}, \"mode\": \"lines\", \"name\": \"0.6485151689048804\", \"opacity\": 0.6485151689048804, \"text\": \"Edge: ('sophiebits', 'vjeux')    <br>Weight: 0.65\", \"type\": \"scatter\", \"x\": [1634.74, 1630.8742857142856, 1627.0085714285715, 1623.142857142857, 1619.2771428571427, 1615.4114285714286, 1611.5457142857142, 1607.6799999999998, 1603.8142857142857, 1599.9485714285713, 1596.0828571428572, 1592.2171428571428, 1588.3514285714284, 1584.4857142857143, 1580.62], \"y\": [1407.1, 1385.2114285714285, 1363.3228571428572, 1341.4342857142856, 1319.5457142857142, 1297.6571428571428, 1275.7685714285715, 1253.88, 1231.9914285714285, 1210.1028571428571, 1188.2142857142858, 1166.3257142857144, 1144.437142857143, 1122.5485714285714, 1100.66]}, {\"hoverinfo\": \"text\", \"line\": {\"color\": \"brown\", \"width\": 0.6607861083325806}, \"mode\": \"lines\", \"name\": \"0.6607861083325806\", \"opacity\": 0.6607861083325806, \"text\": \"Edge: ('sophiebits', 'yungsters')    <br>Weight: 0.66\", \"type\": \"scatter\", \"x\": [1634.74, 1618.9357142857143, 1603.1314285714286, 1587.327142857143, 1571.5228571428572, 1555.7185714285715, 1539.9142857142858, 1524.1100000000001, 1508.3057142857142, 1492.5014285714285, 1476.6971428571428, 1460.892857142857, 1445.0885714285714, 1429.2842857142857, 1413.48], \"y\": [1407.1, 1382.702857142857, 1358.3057142857142, 1333.9085714285713, 1309.5114285714285, 1285.1142857142856, 1260.7171428571428, 1236.32, 1211.922857142857, 1187.5257142857142, 1163.1285714285714, 1138.7314285714285, 1114.3342857142857, 1089.9371428571428, 1065.54]}, {\"hoverinfo\": \"text\", \"line\": {\"color\": \"brown\", \"width\": 0.6085369075709081}, \"mode\": \"lines\", \"name\": \"0.6085369075709081\", \"opacity\": 0.6085369075709081, \"text\": \"Edge: ('sophiebits', 'cpojer')    <br>Weight: 0.61\", \"type\": \"scatter\", \"x\": [1634.74, 1625.93, 1617.1200000000001, 1608.31, 1599.5, 1590.69, 1581.88, 1573.0700000000002, 1564.26, 1555.45, 1546.64, 1537.8300000000002, 1529.02, 1520.21, 1511.4], \"y\": [1407.1, 1425.175714285714, 1443.2514285714285, 1461.327142857143, 1479.402857142857, 1497.4785714285713, 1515.5542857142857, 1533.63, 1551.7057142857143, 1569.7814285714285, 1587.857142857143, 1605.9328571428573, 1624.0085714285715, 1642.0842857142857, 1660.16]}, {\"hoverinfo\": \"text\", \"line\": {\"color\": \"brown\", \"width\": 0.6553080930080228}, \"mode\": \"lines\", \"name\": \"0.6553080930080228\", \"opacity\": 0.6553080930080228, \"text\": \"Edge: ('sophiebits', 'joshduck')    <br>Weight: 0.66\", \"type\": \"scatter\", \"x\": [1634.74, 1610.3628571428571, 1585.9857142857143, 1561.6085714285714, 1537.2314285714285, 1512.8542857142857, 1488.477142857143, 1464.1, 1439.7228571428573, 1415.3457142857144, 1390.9685714285715, 1366.5914285714287, 1342.2142857142858, 1317.837142857143, 1293.46], \"y\": [1407.1, 1376.0142857142857, 1344.9285714285713, 1313.8428571428572, 1282.7571428571428, 1251.6714285714286, 1220.5857142857142, 1189.5, 1158.4142857142856, 1127.3285714285714, 1096.242857142857, 1065.1571428571428, 1034.0714285714284, 1002.9857142857143, 971.9]}, {\"hoverinfo\": \"text\", \"line\": {\"color\": \"brown\", \"width\": 0.6462699842898603}, \"mode\": \"lines\", \"name\": \"0.6462699842898603\", \"opacity\": 0.6462699842898603, \"text\": \"Edge: ('sophiebits', 'Daniel15')    <br>Weight: 0.65\", \"type\": \"scatter\", \"x\": [1634.74, 1599.5414285714287, 1564.3428571428572, 1529.1442857142856, 1493.9457142857143, 1458.747142857143, 1423.5485714285714, 1388.35, 1353.1514285714286, 1317.9528571428573, 1282.7542857142857, 1247.5557142857142, 1212.357142857143, 1177.1585714285716, 1141.96], \"y\": [1407.1, 1442.5471428571427, 1477.9942857142855, 1513.4414285714286, 1548.8885714285714, 1584.3357142857142, 1619.782857142857, 1655.23, 1690.6771428571428, 1726.1242857142856, 1761.5714285714284, 1797.0185714285712, 1832.465714285714, 1867.912857142857, 1903.36]}, {\"hoverinfo\": \"text\", \"line\": {\"color\": \"brown\", \"width\": 0.7025262450944673}, \"mode\": \"lines\", \"name\": \"0.7025262450944673\", \"opacity\": 0.7025262450944673, \"text\": \"Edge: ('sophiebits', 'fisherwebdev')    <br>Weight: 0.7\", \"type\": \"scatter\", \"x\": [1634.74, 1620.5985714285714, 1606.4571428571428, 1592.3157142857142, 1578.1742857142858, 1564.0328571428572, 1549.8914285714286, 1535.75, 1521.6085714285714, 1507.4671428571428, 1493.3257142857142, 1479.1842857142856, 1465.0428571428572, 1450.9014285714286, 1436.76], \"y\": [1407.1, 1437.1871428571428, 1467.2742857142857, 1497.3614285714284, 1527.4485714285713, 1557.5357142857142, 1587.6228571428571, 1617.71, 1647.7971428571427, 1677.8842857142856, 1707.9714285714285, 1738.0585714285712, 1768.1457142857143, 1798.232857142857, 1828.32]}, {\"hoverinfo\": \"text\", \"line\": {\"color\": \"brown\", \"width\": 0.6149804156647043}, \"mode\": \"lines\", \"name\": \"0.6149804156647043\", \"opacity\": 0.6149804156647043, \"text\": \"Edge: ('sophiebits', 'arkist')    <br>Weight: 0.61\", \"type\": \"scatter\", \"x\": [1634.74, 1596.06, 1557.38, 1518.7, 1480.02, 1441.34, 1402.66, 1363.98, 1325.3, 1286.62, 1247.94, 1209.26, 1170.58, 1131.9, 1093.22], \"y\": [1407.1, 1418.4199999999998, 1429.74, 1441.06, 1452.3799999999999, 1463.6999999999998, 1475.02, 1486.34, 1497.6599999999999, 1508.98, 1520.3, 1531.62, 1542.94, 1554.26, 1565.58]}, {\"hoverinfo\": \"text\", \"line\": {\"color\": \"brown\", \"width\": 0.676529445173782}, \"mode\": \"lines\", \"name\": \"0.676529445173782\", \"opacity\": 0.676529445173782, \"text\": \"Edge: ('acdlite', 'sebmarkbage')    <br>Weight: 0.68\", \"type\": \"scatter\", \"x\": [3254.0, 3218.8, 3183.6, 3148.4, 3113.2, 3078.0, 3042.8, 3007.6, 2972.4, 2937.2, 2902.0, 2866.7999999999997, 2831.6, 2796.3999999999996, 2761.2], \"y\": [1218.64, 1229.4328571428573, 1240.2257142857143, 1251.0185714285715, 1261.8114285714287, 1272.6042857142859, 1283.3971428571429, 1294.19, 1304.9828571428573, 1315.7757142857142, 1326.5685714285714, 1337.3614285714286, 1348.1542857142858, 1358.9471428571428, 1369.74]}, {\"hoverinfo\": \"text\", \"line\": {\"color\": \"brown\", \"width\": 0.6363572165525118}, \"mode\": \"lines\", \"name\": \"0.6363572165525118\", \"opacity\": 0.6363572165525118, \"text\": \"Edge: ('acdlite', 'trueadm')    <br>Weight: 0.64\", \"type\": \"scatter\", \"x\": [3254.0, 3263.6428571428573, 3273.285714285714, 3282.9285714285716, 3292.5714285714284, 3302.214285714286, 3311.8571428571427, 3321.5, 3331.1428571428573, 3340.785714285714, 3350.4285714285716, 3360.0714285714284, 3369.714285714286, 3379.3571428571427, 3389.0], \"y\": [1218.64, 1224.9785714285715, 1231.317142857143, 1237.6557142857143, 1243.9942857142858, 1250.3328571428572, 1256.6714285714286, 1263.0100000000002, 1269.3485714285716, 1275.687142857143, 1282.0257142857145, 1288.3642857142859, 1294.7028571428573, 1301.0414285714287, 1307.38]}, {\"hoverinfo\": \"text\", \"line\": {\"color\": \"brown\", \"width\": 0.6229615154740459}, \"mode\": \"lines\", \"name\": \"0.6229615154740459\", \"opacity\": 0.6229615154740459, \"text\": \"Edge: ('acdlite', 'rickhanlonii')    <br>Weight: 0.62\", \"type\": \"scatter\", \"x\": [3254.0, 3291.0142857142855, 3328.0285714285715, 3365.042857142857, 3402.057142857143, 3439.0714285714284, 3476.085714285714, 3513.1, 3550.1142857142854, 3587.1285714285714, 3624.142857142857, 3661.157142857143, 3698.1714285714284, 3735.1857142857143, 3772.2], \"y\": [1218.64, 1231.0642857142857, 1243.4885714285715, 1255.9128571428573, 1268.337142857143, 1280.7614285714285, 1293.1857142857143, 1305.6100000000001, 1318.0342857142857, 1330.4585714285713, 1342.8828571428571, 1355.307142857143, 1367.7314285714285, 1380.155714285714, 1392.58]}, {\"hoverinfo\": \"text\", \"line\": {\"color\": \"brown\", \"width\": 0.6570431385057813}, \"mode\": \"lines\", \"name\": \"0.6570431385057813\", \"opacity\": 0.6570431385057813, \"text\": \"Edge: ('acdlite', 'SimenB')    <br>Weight: 0.66\", \"type\": \"scatter\", \"x\": [3254.0, 3280.2285714285713, 3306.457142857143, 3332.6857142857143, 3358.9142857142856, 3385.142857142857, 3411.3714285714286, 3437.6, 3463.828571428571, 3490.057142857143, 3516.285714285714, 3542.5142857142855, 3568.7428571428572, 3594.9714285714285, 3621.2], \"y\": [1218.64, 1194.5357142857144, 1170.4314285714286, 1146.327142857143, 1122.2228571428573, 1098.1185714285714, 1074.0142857142857, 1049.91, 1025.8057142857142, 1001.7014285714286, 977.5971428571429, 953.4928571428571, 929.3885714285714, 905.2842857142857, 881.18]}, {\"hoverinfo\": \"text\", \"line\": {\"color\": \"brown\", \"width\": 0.6027800986849603}, \"mode\": \"lines\", \"name\": \"0.6027800986849603\", \"opacity\": 0.6027800986849603, \"text\": \"Edge: ('sebmarkbage', 'trueadm')    <br>Weight: 0.6\", \"type\": \"scatter\", \"x\": [2761.2, 2806.042857142857, 2850.885714285714, 2895.7285714285713, 2940.5714285714284, 2985.4142857142856, 3030.2571428571428, 3075.1, 3119.942857142857, 3164.785714285714, 3209.6285714285714, 3254.4714285714285, 3299.3142857142857, 3344.157142857143, 3389.0], \"y\": [1369.74, 1365.2857142857142, 1360.8314285714287, 1356.3771428571429, 1351.922857142857, 1347.4685714285715, 1343.0142857142857, 1338.56, 1334.1057142857144, 1329.6514285714286, 1325.197142857143, 1320.7428571428572, 1316.2885714285715, 1311.834285714286, 1307.38]}, {\"hoverinfo\": \"text\", \"line\": {\"color\": \"brown\", \"width\": 0.7352475401324551}, \"mode\": \"lines\", \"name\": \"0.7352475401324551\", \"opacity\": 0.7352475401324551, \"text\": \"Edge: ('jimfb', 'marocchino')    <br>Weight: 0.74\", \"type\": \"scatter\", \"x\": [1252.5, 1222.8742857142856, 1193.2485714285715, 1163.6228571428571, 1133.9971428571428, 1104.3714285714286, 1074.7457142857143, 1045.12, 1015.4942857142858, 985.8685714285714, 956.2428571428571, 926.6171428571429, 896.9914285714285, 867.3657142857144, 837.74], \"y\": [1612.24, 1613.1042857142857, 1613.9685714285715, 1614.8328571428572, 1615.6971428571428, 1616.5614285714285, 1617.4257142857143, 1618.29, 1619.1542857142856, 1620.0185714285715, 1620.8828571428571, 1621.7471428571428, 1622.6114285714284, 1623.4757142857143, 1624.34]}, {\"hoverinfo\": \"text\", \"line\": {\"color\": \"brown\", \"width\": 0.7278998522107025}, \"mode\": \"lines\", \"name\": \"0.7278998522107025\", \"opacity\": 0.7278998522107025, \"text\": \"Edge: ('jimfb', 'kohei-takata')    <br>Weight: 0.73\", \"type\": \"scatter\", \"x\": [1252.5, 1229.4285714285713, 1206.357142857143, 1183.2857142857142, 1160.2142857142858, 1137.142857142857, 1114.0714285714284, 1091.0, 1067.9285714285713, 1044.857142857143, 1021.7857142857142, 998.7142857142857, 975.6428571428571, 952.5714285714286, 929.5], \"y\": [1612.24, 1627.1957142857143, 1642.1514285714286, 1657.107142857143, 1672.0628571428572, 1687.0185714285715, 1701.9742857142858, 1716.9299999999998, 1731.8857142857141, 1746.8414285714284, 1761.7971428571427, 1776.752857142857, 1791.7085714285713, 1806.6642857142856, 1821.62]}, {\"hoverinfo\": \"text\", \"line\": {\"color\": \"brown\", \"width\": 0.68098890139367}, \"mode\": \"lines\", \"name\": \"0.68098890139367\", \"opacity\": 0.68098890139367, \"text\": \"Edge: ('jimfb', 'Daniel15')    <br>Weight: 0.68\", \"type\": \"scatter\", \"x\": [1252.5, 1244.6042857142857, 1236.7085714285715, 1228.8128571428572, 1220.9171428571428, 1213.0214285714285, 1205.1257142857144, 1197.23, 1189.3342857142857, 1181.4385714285715, 1173.5428571428572, 1165.6471428571429, 1157.7514285714285, 1149.8557142857144, 1141.96], \"y\": [1612.24, 1633.0342857142857, 1653.8285714285714, 1674.6228571428571, 1695.4171428571428, 1716.2114285714285, 1737.0057142857142, 1757.8, 1778.5942857142857, 1799.3885714285714, 1820.182857142857, 1840.9771428571428, 1861.7714285714285, 1882.5657142857142, 1903.36]}, {\"hoverinfo\": \"text\", \"line\": {\"color\": \"brown\", \"width\": 0.763726549262467}, \"mode\": \"lines\", \"name\": \"0.763726549262467\", \"opacity\": 0.763726549262467, \"text\": \"Edge: ('jimfb', 'arkist')    <br>Weight: 0.76\", \"type\": \"scatter\", \"x\": [1252.5, 1241.1228571428571, 1229.7457142857143, 1218.3685714285714, 1206.9914285714285, 1195.6142857142856, 1184.2371428571428, 1172.8600000000001, 1161.4828571428573, 1150.1057142857144, 1138.7285714285715, 1127.3514285714286, 1115.9742857142858, 1104.597142857143, 1093.22], \"y\": [1612.24, 1608.9071428571428, 1605.5742857142857, 1602.2414285714285, 1598.9085714285713, 1595.5757142857142, 1592.242857142857, 1588.9099999999999, 1585.577142857143, 1582.2442857142858, 1578.9114285714286, 1575.5785714285714, 1572.2457142857143, 1568.912857142857, 1565.58]}, {\"hoverinfo\": \"text\", \"line\": {\"color\": \"brown\", \"width\": 0.6560048263496235}, \"mode\": \"lines\", \"name\": \"0.6560048263496235\", \"opacity\": 0.6560048263496235, \"text\": \"Edge: ('jimfb', 'cody')    <br>Weight: 0.66\", \"type\": \"scatter\", \"x\": [1252.5, 1289.5342857142857, 1326.5685714285714, 1363.6028571428571, 1400.6371428571429, 1437.6714285714286, 1474.7057142857143, 1511.74, 1548.7742857142857, 1585.8085714285714, 1622.8428571428572, 1659.8771428571429, 1696.9114285714286, 1733.9457142857143, 1770.98], \"y\": [1612.24, 1589.2371428571428, 1566.2342857142858, 1543.2314285714285, 1520.2285714285715, 1497.2257142857143, 1474.2228571428573, 1451.22, 1428.2171428571428, 1405.2142857142858, 1382.2114285714285, 1359.2085714285715, 1336.2057142857143, 1313.2028571428573, 1290.2]}, {\"hoverinfo\": \"text\", \"line\": {\"color\": \"brown\", \"width\": 0.6305128598152162}, \"mode\": \"lines\", \"name\": \"0.6305128598152162\", \"opacity\": 0.6305128598152162, \"text\": \"Edge: ('jimfb', 'iamchenxin')    <br>Weight: 0.63\", \"type\": \"scatter\", \"x\": [1252.5, 1214.4157142857143, 1176.3314285714287, 1138.2471428571428, 1100.162857142857, 1062.0785714285714, 1023.9942857142858, 985.9100000000001, 947.8257142857143, 909.7414285714285, 871.6571428571428, 833.5728571428572, 795.4885714285715, 757.4042857142857, 719.32], \"y\": [1612.24, 1620.892857142857, 1629.5457142857142, 1638.1985714285715, 1646.8514285714286, 1655.5042857142857, 1664.1571428571428, 1672.81, 1681.4628571428573, 1690.1157142857144, 1698.7685714285715, 1707.4214285714286, 1716.074285714286, 1724.727142857143, 1733.38]}, {\"hoverinfo\": \"text\", \"line\": {\"color\": \"brown\", \"width\": 0.7236797531172205}, \"mode\": \"lines\", \"name\": \"0.7236797531172205\", \"opacity\": 0.7236797531172205, \"text\": \"Edge: ('trueadm', 'necolas')    <br>Weight: 0.72\", \"type\": \"scatter\", \"x\": [3389.0, 3408.614285714286, 3428.2285714285713, 3447.842857142857, 3467.457142857143, 3487.0714285714284, 3506.6857142857143, 3526.3, 3545.9142857142856, 3565.5285714285715, 3585.142857142857, 3604.7571428571428, 3624.3714285714286, 3643.985714285714, 3663.6], \"y\": [1307.38, 1327.9628571428573, 1348.5457142857144, 1369.1285714285716, 1389.7114285714285, 1410.2942857142857, 1430.8771428571429, 1451.46, 1472.0428571428572, 1492.6257142857144, 1513.2085714285715, 1533.7914285714287, 1554.3742857142856, 1574.9571428571428, 1595.54]}, {\"hoverinfo\": \"text\", \"line\": {\"color\": \"brown\", \"width\": 0.653014756817781}, \"mode\": \"lines\", \"name\": \"0.653014756817781\", \"opacity\": 0.653014756817781, \"text\": \"Edge: ('trueadm', 'aweary')    <br>Weight: 0.65\", \"type\": \"scatter\", \"x\": [3389.0, 3363.942857142857, 3338.885714285714, 3313.828571428571, 3288.7714285714287, 3263.714285714286, 3238.657142857143, 3213.6, 3188.542857142857, 3163.485714285714, 3138.428571428571, 3113.3714285714286, 3088.3142857142857, 3063.2571428571428, 3038.2], \"y\": [1307.38, 1283.7557142857145, 1260.1314285714286, 1236.507142857143, 1212.8828571428571, 1189.2585714285715, 1165.6342857142859, 1142.01, 1118.3857142857144, 1094.7614285714285, 1071.1371428571429, 1047.5128571428572, 1023.8885714285714, 1000.2642857142857, 976.64]}, {\"hoverinfo\": \"text\", \"line\": {\"color\": \"brown\", \"width\": 0.6021469042245009}, \"mode\": \"lines\", \"name\": \"0.6021469042245009\", \"opacity\": 0.6021469042245009, \"text\": \"Edge: ('trueadm', 'eps1lon')    <br>Weight: 0.6\", \"type\": \"scatter\", \"x\": [3389.0, 3410.2714285714287, 3431.542857142857, 3452.8142857142857, 3474.0857142857144, 3495.357142857143, 3516.6285714285714, 3537.9, 3559.171428571429, 3580.442857142857, 3601.714285714286, 3622.9857142857145, 3644.2571428571428, 3665.5285714285715, 3686.8], \"y\": [1307.38, 1295.4742857142858, 1283.5685714285714, 1271.6628571428573, 1259.757142857143, 1247.8514285714286, 1235.9457142857143, 1224.04, 1212.1342857142859, 1200.2285714285715, 1188.3228571428572, 1176.4171428571428, 1164.5114285714285, 1152.6057142857144, 1140.7]}, {\"hoverinfo\": \"text\", \"line\": {\"color\": \"brown\", \"width\": 0.6168766405174038}, \"mode\": \"lines\", \"name\": \"0.6168766405174038\", \"opacity\": 0.6168766405174038, \"text\": \"Edge: ('trueadm', 'sompylasar')    <br>Weight: 0.62\", \"type\": \"scatter\", \"x\": [3389.0, 3433.3, 3477.6, 3521.9, 3566.2, 3610.5, 3654.8, 3699.1, 3743.4, 3787.7, 3832.0, 3876.2999999999997, 3920.6, 3964.8999999999996, 4009.2], \"y\": [1307.38, 1299.4814285714288, 1291.5828571428572, 1283.6842857142858, 1275.7857142857144, 1267.8871428571429, 1259.9885714285715, 1252.0900000000001, 1244.1914285714286, 1236.2928571428572, 1228.3942857142856, 1220.4957142857143, 1212.597142857143, 1204.6985714285713, 1196.8]}, {\"hoverinfo\": \"text\", \"line\": {\"color\": \"brown\", \"width\": 0.681448374139174}, \"mode\": \"lines\", \"name\": \"0.681448374139174\", \"opacity\": 0.681448374139174, \"text\": \"Edge: ('petehunt', 'chenglou')    <br>Weight: 0.68\", \"type\": \"scatter\", \"x\": [1137.7, 1130.4985714285715, 1123.297142857143, 1116.0957142857144, 1108.8942857142858, 1101.6928571428573, 1094.4914285714287, 1087.29, 1080.0885714285714, 1072.8871428571429, 1065.6857142857143, 1058.4842857142858, 1051.2828571428572, 1044.0814285714287, 1036.88], \"y\": [1062.72, 1076.8885714285714, 1091.057142857143, 1105.2257142857143, 1119.3942857142856, 1133.5628571428572, 1147.7314285714285, 1161.9, 1176.0685714285714, 1190.2371428571428, 1204.4057142857143, 1218.5742857142857, 1232.742857142857, 1246.9114285714286, 1261.08]}, {\"hoverinfo\": \"text\", \"line\": {\"color\": \"brown\", \"width\": 0.6342076750358349}, \"mode\": \"lines\", \"name\": \"0.6342076750358349\", \"opacity\": 0.6342076750358349, \"text\": \"Edge: ('petehunt', 'benjamn')    <br>Weight: 0.63\", \"type\": \"scatter\", \"x\": [1137.7, 1133.9585714285715, 1130.2171428571428, 1126.4757142857143, 1122.7342857142858, 1118.9928571428572, 1115.2514285714285, 1111.51, 1107.7685714285715, 1104.0271428571427, 1100.2857142857142, 1096.5442857142857, 1092.8028571428572, 1089.0614285714285, 1085.32], \"y\": [1062.72, 1042.7214285714285, 1022.7228571428572, 1002.7242857142858, 982.7257142857143, 962.7271428571429, 942.7285714285714, 922.73, 902.7314285714285, 882.7328571428571, 862.7342857142858, 842.7357142857143, 822.7371428571429, 802.7385714285715, 782.74]}, {\"hoverinfo\": \"text\", \"line\": {\"color\": \"brown\", \"width\": 0.6779944236156472}, \"mode\": \"lines\", \"name\": \"0.6779944236156472\", \"opacity\": 0.6779944236156472, \"text\": \"Edge: ('petehunt', 'subtleGradient')    <br>Weight: 0.68\", \"type\": \"scatter\", \"x\": [1137.7, 1103.7071428571428, 1069.7142857142858, 1035.7214285714285, 1001.7285714285715, 967.7357142857143, 933.7428571428571, 899.75, 865.7571428571429, 831.7642857142857, 797.7714285714286, 763.7785714285715, 729.7857142857142, 695.7928571428572, 661.8], \"y\": [1062.72, 1049.9757142857143, 1037.2314285714285, 1024.4871428571428, 1011.7428571428571, 998.9985714285714, 986.2542857142857, 973.51, 960.7657142857142, 948.0214285714285, 935.2771428571428, 922.5328571428571, 909.7885714285715, 897.0442857142857, 884.3]}, {\"hoverinfo\": \"text\", \"line\": {\"color\": \"brown\", \"width\": 0.6269304830837928}, \"mode\": \"lines\", \"name\": \"0.6269304830837928\", \"opacity\": 0.6269304830837928, \"text\": \"Edge: ('petehunt', 'syranide')    <br>Weight: 0.63\", \"type\": \"scatter\", \"x\": [1137.7, 1118.5128571428572, 1099.3257142857144, 1080.1385714285716, 1060.9514285714286, 1041.7642857142857, 1022.5771428571429, 1003.3900000000001, 984.2028571428572, 965.0157142857144, 945.8285714285714, 926.6414285714286, 907.4542857142858, 888.267142857143, 869.08], \"y\": [1062.72, 1058.5142857142857, 1054.3085714285714, 1050.1028571428571, 1045.8971428571429, 1041.6914285714286, 1037.4857142857143, 1033.28, 1029.0742857142857, 1024.8685714285714, 1020.6628571428572, 1016.4571428571429, 1012.2514285714286, 1008.0457142857143, 1003.84]}, {\"hoverinfo\": \"text\", \"line\": {\"color\": \"brown\", \"width\": 0.6733060561003386}, \"mode\": \"lines\", \"name\": \"0.6733060561003386\", \"opacity\": 0.6733060561003386, \"text\": \"Edge: ('petehunt', 'joshduck')    <br>Weight: 0.67\", \"type\": \"scatter\", \"x\": [1137.7, 1148.8257142857144, 1159.9514285714286, 1171.077142857143, 1182.2028571428573, 1193.3285714285714, 1204.4542857142858, 1215.58, 1226.7057142857143, 1237.8314285714287, 1248.9571428571428, 1260.0828571428572, 1271.2085714285715, 1282.3342857142857, 1293.46], \"y\": [1062.72, 1056.2328571428573, 1049.7457142857143, 1043.2585714285715, 1036.7714285714285, 1030.2842857142857, 1023.7971428571428, 1017.31, 1010.8228571428572, 1004.3357142857143, 997.8485714285714, 991.3614285714285, 984.8742857142856, 978.3871428571429, 971.9]}, {\"hoverinfo\": \"text\", \"line\": {\"color\": \"brown\", \"width\": 0.6343896697657267}, \"mode\": \"lines\", \"name\": \"0.6343896697657267\", \"opacity\": 0.6343896697657267, \"text\": \"Edge: ('petehunt', 'jordwalke')    <br>Weight: 0.63\", \"type\": \"scatter\", \"x\": [1137.7, 1121.94, 1106.18, 1090.42, 1074.66, 1058.9, 1043.14, 1027.38, 1011.62, 995.86, 980.0999999999999, 964.3399999999999, 948.5799999999999, 932.8199999999999, 917.06], \"y\": [1062.72, 1049.057142857143, 1035.3942857142858, 1021.7314285714286, 1008.0685714285714, 994.4057142857143, 980.7428571428572, 967.08, 953.417142857143, 939.7542857142857, 926.0914285714287, 912.4285714285714, 898.7657142857144, 885.1028571428571, 871.44]}, {\"hoverinfo\": \"text\", \"line\": {\"color\": \"brown\", \"width\": 0.6225073783176072}, \"mode\": \"lines\", \"name\": \"0.6225073783176072\", \"opacity\": 0.6225073783176072, \"text\": \"Edge: ('chenglou', 'syranide')    <br>Weight: 0.62\", \"type\": \"scatter\", \"x\": [1036.88, 1024.8942857142858, 1012.9085714285716, 1000.9228571428572, 988.9371428571429, 976.9514285714287, 964.9657142857144, 952.98, 940.9942857142858, 929.0085714285715, 917.0228571428572, 905.037142857143, 893.0514285714287, 881.0657142857143, 869.08], \"y\": [1261.08, 1242.7057142857143, 1224.3314285714284, 1205.9571428571428, 1187.5828571428572, 1169.2085714285713, 1150.8342857142857, 1132.46, 1114.0857142857142, 1095.7114285714285, 1077.337142857143, 1058.962857142857, 1040.5885714285714, 1022.2142857142858, 1003.84]}, {\"hoverinfo\": \"text\", \"line\": {\"color\": \"brown\", \"width\": 0.9532896875453069}, \"mode\": \"lines\", \"name\": \"0.9532896875453069\", \"opacity\": 0.9532896875453069, \"text\": \"Edge: ('chenglou', 'mcsheffrey')    <br>Weight: 0.95\", \"type\": \"scatter\", \"x\": [1036.88, 1006.667142857143, 976.4542857142858, 946.2414285714286, 916.0285714285715, 885.8157142857143, 855.6028571428571, 825.3900000000001, 795.1771428571428, 764.9642857142858, 734.7514285714285, 704.5385714285715, 674.3257142857143, 644.1128571428571, 613.9], \"y\": [1261.08, 1265.9514285714286, 1270.8228571428572, 1275.6942857142856, 1280.5657142857142, 1285.4371428571428, 1290.3085714285714, 1295.1799999999998, 1300.0514285714285, 1304.922857142857, 1309.7942857142857, 1314.6657142857143, 1319.5371428571427, 1324.4085714285713, 1329.28]}, {\"hoverinfo\": \"text\", \"line\": {\"color\": \"brown\", \"width\": 0.6302124989422783}, \"mode\": \"lines\", \"name\": \"0.6302124989422783\", \"opacity\": 0.6302124989422783, \"text\": \"Edge: ('chenglou', 'arkist')    <br>Weight: 0.63\", \"type\": \"scatter\", \"x\": [1036.88, 1040.9042857142858, 1044.9285714285716, 1048.9528571428573, 1052.977142857143, 1057.0014285714287, 1061.0257142857145, 1065.0500000000002, 1069.0742857142857, 1073.0985714285714, 1077.1228571428571, 1081.1471428571429, 1085.1714285714286, 1089.1957142857143, 1093.22], \"y\": [1261.08, 1282.83, 1304.58, 1326.33, 1348.08, 1369.83, 1391.58, 1413.33, 1435.08, 1456.83, 1478.58, 1500.33, 1522.08, 1543.83, 1565.58]}, {\"hoverinfo\": \"text\", \"line\": {\"color\": \"brown\", \"width\": 0.6552678181367331}, \"mode\": \"lines\", \"name\": \"0.6552678181367331\", \"opacity\": 0.6552678181367331, \"text\": \"Edge: ('vjeux', 'joshduck')    <br>Weight: 0.66\", \"type\": \"scatter\", \"x\": [1580.62, 1560.1085714285714, 1539.5971428571427, 1519.0857142857142, 1498.5742857142857, 1478.0628571428572, 1457.5514285714285, 1437.04, 1416.5285714285715, 1396.017142857143, 1375.5057142857142, 1354.9942857142858, 1334.4828571428573, 1313.9714285714285, 1293.46], \"y\": [1100.66, 1091.4628571428573, 1082.2657142857142, 1073.0685714285714, 1063.8714285714286, 1054.6742857142858, 1045.477142857143, 1036.28, 1027.0828571428572, 1017.8857142857144, 1008.6885714285714, 999.4914285714285, 990.2942857142857, 981.0971428571429, 971.9]}, {\"hoverinfo\": \"text\", \"line\": {\"color\": \"brown\", \"width\": 0.6691374456174527}, \"mode\": \"lines\", \"name\": \"0.6691374456174527\", \"opacity\": 0.6691374456174527, \"text\": \"Edge: ('vjeux', 'cody')    <br>Weight: 0.67\", \"type\": \"scatter\", \"x\": [1580.62, 1594.2171428571428, 1607.8142857142857, 1621.4114285714286, 1635.0085714285713, 1648.6057142857142, 1662.202857142857, 1675.8, 1689.3971428571429, 1702.9942857142858, 1716.5914285714287, 1730.1885714285713, 1743.7857142857142, 1757.3828571428571, 1770.98], \"y\": [1100.66, 1114.1985714285715, 1127.737142857143, 1141.2757142857145, 1154.8142857142857, 1168.3528571428571, 1181.8914285714286, 1195.43, 1208.9685714285715, 1222.507142857143, 1236.0457142857144, 1249.5842857142857, 1263.1228571428571, 1276.6614285714286, 1290.2]}, {\"hoverinfo\": \"text\", \"line\": {\"color\": \"brown\", \"width\": 0.6769140757530065}, \"mode\": \"lines\", \"name\": \"0.6769140757530065\", \"opacity\": 0.6769140757530065, \"text\": \"Edge: ('benjamn', 'subtleGradient')    <br>Weight: 0.68\", \"type\": \"scatter\", \"x\": [1085.32, 1055.0685714285714, 1024.8171428571427, 994.5657142857142, 964.3142857142857, 934.0628571428571, 903.8114285714285, 873.56, 843.3085714285714, 813.0571428571428, 782.8057142857142, 752.5542857142857, 722.3028571428571, 692.0514285714285, 661.8], \"y\": [782.74, 789.9942857142858, 797.2485714285714, 804.5028571428571, 811.7571428571429, 819.0114285714286, 826.2657142857142, 833.52, 840.7742857142857, 848.0285714285714, 855.2828571428571, 862.5371428571428, 869.7914285714285, 877.0457142857142, 884.3]}, {\"hoverinfo\": \"text\", \"line\": {\"color\": \"brown\", \"width\": 0.6145350648903352}, \"mode\": \"lines\", \"name\": \"0.6145350648903352\", \"opacity\": 0.6145350648903352, \"text\": \"Edge: ('benjamn', 'joshduck')    <br>Weight: 0.61\", \"type\": \"scatter\", \"x\": [1085.32, 1100.1871428571428, 1115.0542857142857, 1129.9214285714286, 1144.7885714285715, 1159.6557142857143, 1174.5228571428572, 1189.3899999999999, 1204.2571428571428, 1219.1242857142856, 1233.9914285714285, 1248.8585714285714, 1263.7257142857143, 1278.5928571428572, 1293.46], \"y\": [782.74, 796.2514285714286, 809.7628571428571, 823.2742857142857, 836.7857142857143, 850.2971428571428, 863.8085714285714, 877.3199999999999, 890.8314285714285, 904.3428571428572, 917.8542857142857, 931.3657142857143, 944.8771428571429, 958.3885714285714, 971.9]}, {\"hoverinfo\": \"text\", \"line\": {\"color\": \"brown\", \"width\": 0.6067825669403287}, \"mode\": \"lines\", \"name\": \"0.6067825669403287\", \"opacity\": 0.6067825669403287, \"text\": \"Edge: ('benjamn', 'jordwalke')    <br>Weight: 0.61\", \"type\": \"scatter\", \"x\": [1085.32, 1073.3014285714285, 1061.282857142857, 1049.2642857142857, 1037.2457142857143, 1025.2271428571428, 1013.2085714285713, 1001.1899999999999, 989.1714285714285, 977.1528571428571, 965.1342857142856, 953.1157142857143, 941.0971428571428, 929.0785714285714, 917.06], \"y\": [782.74, 789.0757142857143, 795.4114285714286, 801.7471428571429, 808.0828571428572, 814.4185714285715, 820.7542857142857, 827.09, 833.4257142857143, 839.7614285714286, 846.0971428571429, 852.4328571428572, 858.7685714285715, 865.1042857142858, 871.44]}, {\"hoverinfo\": \"text\", \"line\": {\"color\": \"brown\", \"width\": 0.6281691998316704}, \"mode\": \"lines\", \"name\": \"0.6281691998316704\", \"opacity\": 0.6281691998316704, \"text\": \"Edge: ('yungsters', 'joshduck')    <br>Weight: 0.63\", \"type\": \"scatter\", \"x\": [1413.48, 1404.9071428571428, 1396.3342857142857, 1387.7614285714285, 1379.1885714285715, 1370.6157142857144, 1362.0428571428572, 1353.47, 1344.8971428571429, 1336.3242857142857, 1327.7514285714285, 1319.1785714285716, 1310.6057142857144, 1302.0328571428572, 1293.46], \"y\": [1065.54, 1058.8514285714286, 1052.162857142857, 1045.4742857142858, 1038.7857142857142, 1032.097142857143, 1025.4085714285713, 1018.72, 1012.0314285714286, 1005.3428571428572, 998.6542857142857, 991.9657142857143, 985.2771428571428, 978.5885714285714, 971.9]}, {\"hoverinfo\": \"text\", \"line\": {\"color\": \"brown\", \"width\": 0.6105263131452907}, \"mode\": \"lines\", \"name\": \"0.6105263131452907\", \"opacity\": 0.6105263131452907, \"text\": \"Edge: ('subtleGradient', 'chicoxyzzy')    <br>Weight: 0.61\", \"type\": \"scatter\", \"x\": [661.8, 673.7542857142856, 685.7085714285714, 697.6628571428571, 709.6171428571428, 721.5714285714286, 733.5257142857142, 745.48, 757.4342857142857, 769.3885714285714, 781.3428571428572, 793.2971428571428, 805.2514285714285, 817.2057142857143, 829.16], \"y\": [884.3, 907.99, 931.68, 955.37, 979.06, 1002.75, 1026.44, 1050.13, 1073.82, 1097.51, 1121.2, 1144.8899999999999, 1168.58, 1192.27, 1215.96]}, {\"hoverinfo\": \"text\", \"line\": {\"color\": \"brown\", \"width\": 0.6041681947049306}, \"mode\": \"lines\", \"name\": \"0.6041681947049306\", \"opacity\": 0.6041681947049306, \"text\": \"Edge: ('subtleGradient', 'fabiomcosta')    <br>Weight: 0.6\", \"type\": \"scatter\", \"x\": [661.8, 622.5531428571428, 583.3062857142857, 544.0594285714285, 504.8125714285714, 465.56571428571425, 426.31885714285715, 387.072, 347.82514285714285, 308.5782857142857, 269.33142857142855, 230.08457142857145, 190.8377142857143, 151.59085714285715, 112.344], \"y\": [884.3, 859.18, 834.06, 808.9399999999999, 783.8199999999999, 758.6999999999999, 733.5799999999999, 708.46, 683.3399999999999, 658.22, 633.0999999999999, 607.98, 582.86, 557.74, 532.62]}, {\"hoverinfo\": \"text\", \"line\": {\"color\": \"brown\", \"width\": 0.7227812322991857}, \"mode\": \"lines\", \"name\": \"0.7227812322991857\", \"opacity\": 0.7227812322991857, \"text\": \"Edge: ('subtleGradient', 'jordwalke')    <br>Weight: 0.72\", \"type\": \"scatter\", \"x\": [661.8, 680.0328571428571, 698.2657142857142, 716.4985714285714, 734.7314285714285, 752.9642857142857, 771.1971428571428, 789.43, 807.6628571428571, 825.8957142857142, 844.1285714285714, 862.3614285714285, 880.5942857142857, 898.8271428571428, 917.06], \"y\": [884.3, 883.3814285714285, 882.4628571428572, 881.5442857142857, 880.6257142857143, 879.7071428571428, 878.7885714285715, 877.87, 876.9514285714286, 876.0328571428572, 875.1142857142858, 874.1957142857143, 873.2771428571428, 872.3585714285715, 871.44]}, {\"hoverinfo\": \"text\", \"line\": {\"color\": \"brown\", \"width\": 0.7446507496988276}, \"mode\": \"lines\", \"name\": \"0.7446507496988276\", \"opacity\": 0.7446507496988276, \"text\": \"Edge: ('nhunzaker', 'aweary')    <br>Weight: 0.74\", \"type\": \"scatter\", \"x\": [3076.2, 3073.485714285714, 3070.7714285714283, 3068.0571428571425, 3065.342857142857, 3062.6285714285714, 3059.9142857142856, 3057.2, 3054.485714285714, 3051.7714285714283, 3049.0571428571425, 3046.342857142857, 3043.6285714285714, 3040.9142857142856, 3038.2], \"y\": [834.7, 844.8385714285714, 854.9771428571429, 865.1157142857144, 875.2542857142857, 885.3928571428571, 895.5314285714286, 905.6700000000001, 915.8085714285714, 925.9471428571428, 936.0857142857143, 946.2242857142858, 956.3628571428571, 966.5014285714285, 976.64]}, {\"hoverinfo\": \"text\", \"line\": {\"color\": \"brown\", \"width\": 0.7332922125341923}, \"mode\": \"lines\", \"name\": \"0.7332922125341923\", \"opacity\": 0.7332922125341923, \"text\": \"Edge: ('nhunzaker', 'jquense')    <br>Weight: 0.73\", \"type\": \"scatter\", \"x\": [3076.2, 3032.8571428571427, 2989.5142857142855, 2946.1714285714284, 2902.828571428571, 2859.485714285714, 2816.142857142857, 2772.8, 2729.457142857143, 2686.114285714286, 2642.7714285714287, 2599.4285714285716, 2556.0857142857144, 2512.7428571428572, 2469.4], \"y\": [834.7, 849.61, 864.5200000000001, 879.4300000000001, 894.34, 909.25, 924.1600000000001, 939.07, 953.98, 968.8900000000001, 983.8000000000001, 998.71, 1013.6200000000001, 1028.53, 1043.44]}, {\"hoverinfo\": \"text\", \"line\": {\"color\": \"brown\", \"width\": 0.6153685646300352}, \"mode\": \"lines\", \"name\": \"0.6153685646300352\", \"opacity\": 0.6153685646300352, \"text\": \"Edge: ('nhunzaker', 'SimenB')    <br>Weight: 0.62\", \"type\": \"scatter\", \"x\": [3076.2, 3115.1285714285714, 3154.0571428571425, 3192.985714285714, 3231.9142857142856, 3270.842857142857, 3309.7714285714283, 3348.7, 3387.6285714285714, 3426.557142857143, 3465.485714285714, 3504.4142857142856, 3543.342857142857, 3582.2714285714283, 3621.2], \"y\": [834.7, 838.02, 841.34, 844.6600000000001, 847.98, 851.3, 854.62, 857.94, 861.26, 864.5799999999999, 867.9, 871.22, 874.54, 877.8599999999999, 881.18]}, {\"hoverinfo\": \"text\", \"line\": {\"color\": \"brown\", \"width\": 0.6119337770480838}, \"mode\": \"lines\", \"name\": \"0.6119337770480838\", \"opacity\": 0.6119337770480838, \"text\": \"Edge: ('nhunzaker', 'raphamorim')    <br>Weight: 0.61\", \"type\": \"scatter\", \"x\": [3076.2, 3097.8999999999996, 3119.6, 3141.2999999999997, 3163.0, 3184.7, 3206.4, 3228.1, 3249.7999999999997, 3271.5, 3293.2, 3314.9, 3336.6, 3358.3, 3380.0], \"y\": [834.7, 816.3842857142857, 798.0685714285714, 779.7528571428572, 761.4371428571429, 743.1214285714286, 724.8057142857143, 706.49, 688.1742857142857, 669.8585714285714, 651.5428571428572, 633.2271428571429, 614.9114285714286, 596.5957142857143, 578.28]}, {\"hoverinfo\": \"text\", \"line\": {\"color\": \"brown\", \"width\": 0.6551396817404147}, \"mode\": \"lines\", \"name\": \"0.6551396817404147\", \"opacity\": 0.6551396817404147, \"text\": \"Edge: ('syranide', 'joshduck')    <br>Weight: 0.66\", \"type\": \"scatter\", \"x\": [869.08, 899.3928571428572, 929.7057142857143, 960.0185714285715, 990.3314285714287, 1020.6442857142857, 1050.957142857143, 1081.27, 1111.5828571428572, 1141.8957142857143, 1172.2085714285715, 1202.5214285714287, 1232.8342857142857, 1263.1471428571429, 1293.46], \"y\": [1003.84, 1001.5585714285714, 999.2771428571428, 996.9957142857143, 994.7142857142858, 992.4328571428572, 990.1514285714286, 987.87, 985.5885714285714, 983.3071428571428, 981.0257142857142, 978.7442857142858, 976.4628571428572, 974.1814285714286, 971.9]}, {\"hoverinfo\": \"text\", \"line\": {\"color\": \"brown\", \"width\": 0.6053392751621074}, \"mode\": \"lines\", \"name\": \"0.6053392751621074\", \"opacity\": 0.6053392751621074, \"text\": \"Edge: ('syranide', 'jordwalke')    <br>Weight: 0.61\", \"type\": \"scatter\", \"x\": [869.08, 872.5071428571429, 875.9342857142857, 879.3614285714286, 882.7885714285715, 886.2157142857143, 889.6428571428571, 893.0699999999999, 896.4971428571429, 899.9242857142857, 903.3514285714285, 906.7785714285714, 910.2057142857143, 913.6328571428571, 917.06], \"y\": [1003.84, 994.3828571428571, 984.9257142857143, 975.4685714285715, 966.0114285714286, 956.5542857142857, 947.0971428571429, 937.6400000000001, 928.1828571428572, 918.7257142857143, 909.2685714285715, 899.8114285714287, 890.3542857142858, 880.8971428571429, 871.44]}, {\"hoverinfo\": \"text\", \"line\": {\"color\": \"brown\", \"width\": 0.8924655965786988}, \"mode\": \"lines\", \"name\": \"0.8924655965786988\", \"opacity\": 0.8924655965786988, \"text\": \"Edge: ('flarnie', 'sompylasar')    <br>Weight: 0.89\", \"type\": \"scatter\", \"x\": [4554.0, 4515.085714285714, 4476.171428571429, 4437.257142857143, 4398.342857142857, 4359.428571428572, 4320.5142857142855, 4281.6, 4242.685714285714, 4203.771428571428, 4164.857142857143, 4125.942857142857, 4087.0285714285715, 4048.1142857142854, 4009.2], \"y\": [1048.46, 1059.0557142857142, 1069.6514285714286, 1080.247142857143, 1090.8428571428572, 1101.4385714285713, 1112.0342857142857, 1122.63, 1133.2257142857143, 1143.8214285714284, 1154.4171428571428, 1165.0128571428572, 1175.6085714285714, 1186.2042857142856, 1196.8]}, {\"hoverinfo\": \"text\", \"line\": {\"color\": \"brown\", \"width\": 0.6398925493336245}, \"mode\": \"lines\", \"name\": \"0.6398925493336245\", \"opacity\": 0.6398925493336245, \"text\": \"Edge: ('koba04', 'Daniel15')    <br>Weight: 0.64\", \"type\": \"scatter\", \"x\": [827.4, 849.8685714285714, 872.3371428571428, 894.8057142857143, 917.2742857142857, 939.7428571428571, 962.2114285714285, 984.6800000000001, 1007.1485714285715, 1029.6171428571429, 1052.0857142857144, 1074.5542857142857, 1097.0228571428572, 1119.4914285714285, 1141.96], \"y\": [2380.8, 2346.697142857143, 2312.594285714286, 2278.4914285714285, 2244.3885714285716, 2210.285714285714, 2176.1828571428573, 2142.08, 2107.977142857143, 2073.8742857142856, 2039.7714285714287, 2005.6685714285713, 1971.5657142857142, 1937.462857142857, 1903.36]}, {\"hoverinfo\": \"text\", \"line\": {\"color\": \"brown\", \"width\": 0.7082083861295889}, \"mode\": \"lines\", \"name\": \"0.7082083861295889\", \"opacity\": 0.7082083861295889, \"text\": \"Edge: ('aweary', 'jquense')    <br>Weight: 0.71\", \"type\": \"scatter\", \"x\": [3038.2, 2997.5714285714284, 2956.942857142857, 2916.3142857142857, 2875.6857142857143, 2835.057142857143, 2794.4285714285716, 2753.8, 2713.1714285714284, 2672.542857142857, 2631.9142857142856, 2591.285714285714, 2550.657142857143, 2510.0285714285715, 2469.4], \"y\": [976.64, 981.4114285714286, 986.1828571428572, 990.9542857142857, 995.7257142857143, 1000.4971428571429, 1005.2685714285715, 1010.04, 1014.8114285714286, 1019.5828571428572, 1024.3542857142857, 1029.1257142857144, 1033.8971428571429, 1038.6685714285716, 1043.44]}, {\"hoverinfo\": \"text\", \"line\": {\"color\": \"brown\", \"width\": 0.6042189106972743}, \"mode\": \"lines\", \"name\": \"0.6042189106972743\", \"opacity\": 0.6042189106972743, \"text\": \"Edge: ('aweary', 'raphamorim')    <br>Weight: 0.6\", \"type\": \"scatter\", \"x\": [3038.2, 3062.6142857142854, 3087.0285714285715, 3111.442857142857, 3135.8571428571427, 3160.2714285714283, 3184.6857142857143, 3209.1, 3233.5142857142855, 3257.9285714285716, 3282.342857142857, 3306.7571428571428, 3331.171428571429, 3355.5857142857144, 3380.0], \"y\": [976.64, 948.1857142857143, 919.7314285714285, 891.2771428571428, 862.8228571428572, 834.3685714285714, 805.9142857142857, 777.46, 749.0057142857142, 720.5514285714286, 692.0971428571429, 663.6428571428571, 635.1885714285714, 606.7342857142858, 578.28]}, {\"hoverinfo\": \"text\", \"line\": {\"color\": \"brown\", \"width\": 0.7247467994025996}, \"mode\": \"lines\", \"name\": \"0.7247467994025996\", \"opacity\": 0.7247467994025996, \"text\": \"Edge: ('rickhanlonii', 'eps1lon')    <br>Weight: 0.72\", \"type\": \"scatter\", \"x\": [3772.2, 3766.1, 3760.0, 3753.9, 3747.7999999999997, 3741.7, 3735.6, 3729.5, 3723.4, 3717.3, 3711.2000000000003, 3705.1, 3699.0, 3692.9, 3686.8], \"y\": [1392.58, 1374.5885714285714, 1356.597142857143, 1338.6057142857142, 1320.6142857142856, 1302.6228571428571, 1284.6314285714286, 1266.6399999999999, 1248.6485714285714, 1230.6571428571428, 1212.6657142857143, 1194.6742857142858, 1176.682857142857, 1158.6914285714286, 1140.7]}, {\"hoverinfo\": \"text\", \"line\": {\"color\": \"brown\", \"width\": 0.6664018888107169}, \"mode\": \"lines\", \"name\": \"0.6664018888107169\", \"opacity\": 0.6664018888107169, \"text\": \"Edge: ('rickhanlonii', 'sompylasar')    <br>Weight: 0.67\", \"type\": \"scatter\", \"x\": [3772.2, 3789.1285714285714, 3806.0571428571425, 3822.985714285714, 3839.9142857142856, 3856.842857142857, 3873.7714285714283, 3890.7, 3907.6285714285714, 3924.5571428571425, 3941.485714285714, 3958.4142857142856, 3975.3428571428567, 3992.2714285714283, 4009.2], \"y\": [1392.58, 1378.5957142857142, 1364.6114285714284, 1350.6271428571429, 1336.642857142857, 1322.6585714285713, 1308.6742857142856, 1294.69, 1280.7057142857143, 1266.7214285714285, 1252.7371428571428, 1238.752857142857, 1224.7685714285712, 1210.7842857142857, 1196.8]}, {\"hoverinfo\": \"text\", \"line\": {\"color\": \"brown\", \"width\": 0.6775859470363493}, \"mode\": \"lines\", \"name\": \"0.6775859470363493\", \"opacity\": 0.6775859470363493, \"text\": \"Edge: ('marocchino', 'kohei-takata')    <br>Weight: 0.68\", \"type\": \"scatter\", \"x\": [837.74, 844.2942857142857, 850.8485714285714, 857.4028571428571, 863.9571428571429, 870.5114285714286, 877.0657142857143, 883.62, 890.1742857142857, 896.7285714285714, 903.2828571428571, 909.8371428571429, 916.3914285714286, 922.9457142857143, 929.5], \"y\": [1624.34, 1638.4314285714286, 1652.522857142857, 1666.6142857142856, 1680.7057142857143, 1694.7971428571427, 1708.8885714285714, 1722.98, 1737.0714285714284, 1751.162857142857, 1765.2542857142855, 1779.3457142857142, 1793.4371428571428, 1807.5285714285712, 1821.62]}, {\"hoverinfo\": \"text\", \"line\": {\"color\": \"brown\", \"width\": 0.6782237511368694}, \"mode\": \"lines\", \"name\": \"0.6782237511368694\", \"opacity\": 0.6782237511368694, \"text\": \"Edge: ('marocchino', 'chicoxyzzy')    <br>Weight: 0.68\", \"type\": \"scatter\", \"x\": [837.74, 837.1271428571429, 836.5142857142857, 835.9014285714286, 835.2885714285715, 834.6757142857143, 834.0628571428572, 833.45, 832.8371428571428, 832.2242857142857, 831.6114285714285, 830.9985714285714, 830.3857142857142, 829.7728571428571, 829.16], \"y\": [1624.34, 1595.1699999999998, 1566.0, 1536.83, 1507.6599999999999, 1478.49, 1449.32, 1420.15, 1390.98, 1361.81, 1332.6399999999999, 1303.47, 1274.3, 1245.13, 1215.96]}, {\"hoverinfo\": \"text\", \"line\": {\"color\": \"brown\", \"width\": 0.6625097589747317}, \"mode\": \"lines\", \"name\": \"0.6625097589747317\", \"opacity\": 0.6625097589747317, \"text\": \"Edge: ('marocchino', 'Daniel15')    <br>Weight: 0.66\", \"type\": \"scatter\", \"x\": [837.74, 859.47, 881.2, 902.9300000000001, 924.66, 946.39, 968.12, 989.85, 1011.58, 1033.31, 1055.04, 1076.77, 1098.5, 1120.23, 1141.96], \"y\": [1624.34, 1644.27, 1664.1999999999998, 1684.1299999999999, 1704.06, 1723.99, 1743.9199999999998, 1763.85, 1783.78, 1803.71, 1823.6399999999999, 1843.57, 1863.5, 1883.4299999999998, 1903.36]}, {\"hoverinfo\": \"text\", \"line\": {\"color\": \"brown\", \"width\": 0.7712415791181313}, \"mode\": \"lines\", \"name\": \"0.7712415791181313\", \"opacity\": 0.7712415791181313, \"text\": \"Edge: ('marocchino', 'arkist')    <br>Weight: 0.77\", \"type\": \"scatter\", \"x\": [837.74, 855.9885714285714, 874.2371428571429, 892.4857142857143, 910.7342857142858, 928.9828571428571, 947.2314285714286, 965.48, 983.7285714285715, 1001.9771428571429, 1020.2257142857143, 1038.4742857142858, 1056.7228571428573, 1074.9714285714285, 1093.22], \"y\": [1624.34, 1620.142857142857, 1615.9457142857143, 1611.7485714285713, 1607.5514285714285, 1603.3542857142857, 1599.1571428571428, 1594.96, 1590.762857142857, 1586.5657142857142, 1582.3685714285714, 1578.1714285714286, 1573.9742857142855, 1569.7771428571427, 1565.58]}, {\"hoverinfo\": \"text\", \"line\": {\"color\": \"brown\", \"width\": 0.6406444540421773}, \"mode\": \"lines\", \"name\": \"0.6406444540421773\", \"opacity\": 0.6406444540421773, \"text\": \"Edge: ('kohei-takata', 'Daniel15')    <br>Weight: 0.64\", \"type\": \"scatter\", \"x\": [929.5, 944.6757142857143, 959.8514285714285, 975.0271428571428, 990.2028571428572, 1005.3785714285715, 1020.5542857142857, 1035.73, 1050.9057142857143, 1066.0814285714287, 1081.257142857143, 1096.4328571428573, 1111.6085714285714, 1126.7842857142857, 1141.96], \"y\": [1821.62, 1827.4585714285713, 1833.2971428571427, 1839.1357142857141, 1844.9742857142855, 1850.812857142857, 1856.6514285714284, 1862.4899999999998, 1868.3285714285714, 1874.1671428571428, 1880.0057142857142, 1885.8442857142857, 1891.682857142857, 1897.5214285714285, 1903.36]}, {\"hoverinfo\": \"text\", \"line\": {\"color\": \"brown\", \"width\": 0.6970907800360665}, \"mode\": \"lines\", \"name\": \"0.6970907800360665\", \"opacity\": 0.6970907800360665, \"text\": \"Edge: ('kohei-takata', 'arkist')    <br>Weight: 0.7\", \"type\": \"scatter\", \"x\": [929.5, 941.1942857142857, 952.8885714285715, 964.5828571428572, 976.2771428571428, 987.9714285714285, 999.6657142857143, 1011.36, 1023.0542857142857, 1034.7485714285715, 1046.442857142857, 1058.1371428571429, 1069.8314285714287, 1081.5257142857142, 1093.22], \"y\": [1821.62, 1803.3314285714284, 1785.042857142857, 1766.7542857142855, 1748.4657142857143, 1730.1771428571428, 1711.8885714285714, 1693.6, 1675.3114285714285, 1657.022857142857, 1638.7342857142855, 1620.445714285714, 1602.1571428571428, 1583.8685714285714, 1565.58]}, {\"hoverinfo\": \"text\", \"line\": {\"color\": \"brown\", \"width\": 0.6107921942382658}, \"mode\": \"lines\", \"name\": \"0.6107921942382658\", \"opacity\": 0.6107921942382658, \"text\": \"Edge: ('kohei-takata', 'iamchenxin')    <br>Weight: 0.61\", \"type\": \"scatter\", \"x\": [929.5, 914.4871428571429, 899.4742857142858, 884.4614285714285, 869.4485714285714, 854.4357142857143, 839.4228571428572, 824.4100000000001, 809.3971428571429, 794.3842857142857, 779.3714285714286, 764.3585714285714, 749.3457142857144, 734.3328571428572, 719.32], \"y\": [1821.62, 1815.3171428571427, 1809.0142857142857, 1802.7114285714285, 1796.4085714285713, 1790.1057142857142, 1783.8028571428572, 1777.5, 1771.1971428571428, 1764.8942857142858, 1758.5914285714287, 1752.2885714285715, 1745.9857142857143, 1739.6828571428573, 1733.38]}, {\"hoverinfo\": \"text\", \"line\": {\"color\": \"brown\", \"width\": 0.6456493367707559}, \"mode\": \"lines\", \"name\": \"0.6456493367707559\", \"opacity\": 0.6456493367707559, \"text\": \"Edge: ('TheSavior', 'raphamorim')    <br>Weight: 0.65\", \"type\": \"scatter\", \"x\": [3607.2, 3590.9714285714285, 3574.742857142857, 3558.5142857142855, 3542.285714285714, 3526.057142857143, 3509.828571428571, 3493.6, 3477.3714285714286, 3461.142857142857, 3444.9142857142856, 3428.6857142857143, 3412.4571428571426, 3396.2285714285713, 3380.0], \"y\": [35.33, 74.11214285714286, 112.8942857142857, 151.67642857142857, 190.45857142857142, 229.24071428571426, 268.0228571428571, 306.80499999999995, 345.5871428571428, 384.36928571428564, 423.1514285714285, 461.9335714285713, 500.7157142857142, 539.4978571428571, 578.28]}, {\"hoverinfo\": \"text\", \"line\": {\"color\": \"brown\", \"width\": 1.0}, \"mode\": \"lines\", \"name\": \"1.0\", \"opacity\": 1.0, \"text\": \"Edge: ('chicoxyzzy', 'mcsheffrey')    <br>Weight: 1.0\", \"type\": \"scatter\", \"x\": [829.16, 813.7842857142857, 798.4085714285713, 783.0328571428571, 767.6571428571428, 752.2814285714286, 736.9057142857142, 721.53, 706.1542857142857, 690.7785714285715, 675.4028571428571, 660.0271428571428, 644.6514285714286, 629.2757142857142, 613.9], \"y\": [1215.96, 1224.0542857142857, 1232.1485714285714, 1240.2428571428572, 1248.337142857143, 1256.4314285714286, 1264.5257142857142, 1272.62, 1280.7142857142858, 1288.8085714285714, 1296.902857142857, 1304.9971428571428, 1313.0914285714284, 1321.1857142857143, 1329.28]}, {\"hoverinfo\": \"text\", \"line\": {\"color\": \"brown\", \"width\": 0.7171561820021768}, \"mode\": \"lines\", \"name\": \"0.7171561820021768\", \"opacity\": 0.7171561820021768, \"text\": \"Edge: ('chicoxyzzy', 'joshduck')    <br>Weight: 0.72\", \"type\": \"scatter\", \"x\": [829.16, 862.3242857142857, 895.4885714285714, 928.6528571428571, 961.8171428571428, 994.9814285714285, 1028.1457142857143, 1061.31, 1094.4742857142858, 1127.6385714285714, 1160.8028571428572, 1193.9671428571428, 1227.1314285714286, 1260.2957142857144, 1293.46], \"y\": [1215.96, 1198.527142857143, 1181.0942857142857, 1163.6614285714286, 1146.2285714285715, 1128.7957142857142, 1111.3628571428571, 1093.93, 1076.4971428571428, 1059.0642857142857, 1041.6314285714286, 1024.1985714285713, 1006.7657142857142, 989.3328571428572, 971.9]}, {\"hoverinfo\": \"text\", \"line\": {\"color\": \"brown\", \"width\": 0.6274624018723586}, \"mode\": \"lines\", \"name\": \"0.6274624018723586\", \"opacity\": 0.6274624018723586, \"text\": \"Edge: ('chicoxyzzy', 'jordwalke')    <br>Weight: 0.63\", \"type\": \"scatter\", \"x\": [829.16, 835.4385714285714, 841.7171428571428, 847.9957142857143, 854.2742857142857, 860.5528571428571, 866.8314285714285, 873.1099999999999, 879.3885714285714, 885.6671428571428, 891.9457142857142, 898.2242857142857, 904.5028571428571, 910.7814285714285, 917.06], \"y\": [1215.96, 1191.3514285714286, 1166.7428571428572, 1142.1342857142859, 1117.5257142857142, 1092.9171428571428, 1068.3085714285714, 1043.7, 1019.0914285714287, 994.4828571428573, 969.8742857142857, 945.2657142857144, 920.6571428571428, 896.0485714285714, 871.44]}, {\"hoverinfo\": \"text\", \"line\": {\"color\": \"brown\", \"width\": 0.6809733171404255}, \"mode\": \"lines\", \"name\": \"0.6809733171404255\", \"opacity\": 0.6809733171404255, \"text\": \"Edge: ('chicoxyzzy', 'arkist')    <br>Weight: 0.68\", \"type\": \"scatter\", \"x\": [829.16, 848.0214285714285, 866.8828571428571, 885.7442857142858, 904.6057142857143, 923.4671428571428, 942.3285714285714, 961.19, 980.0514285714286, 998.9128571428571, 1017.7742857142857, 1036.6357142857144, 1055.497142857143, 1074.3585714285714, 1093.22], \"y\": [1215.96, 1240.932857142857, 1265.9057142857143, 1290.8785714285714, 1315.8514285714286, 1340.8242857142857, 1365.7971428571427, 1390.77, 1415.742857142857, 1440.7157142857143, 1465.6885714285713, 1490.6614285714286, 1515.6342857142856, 1540.6071428571427, 1565.58]}, {\"hoverinfo\": \"text\", \"line\": {\"color\": \"brown\", \"width\": 0.6332116010375535}, \"mode\": \"lines\", \"name\": \"0.6332116010375535\", \"opacity\": 0.6332116010375535, \"text\": \"Edge: ('keyz', 'Daniel15')    <br>Weight: 0.63\", \"type\": \"scatter\", \"x\": [1077.42, 1082.03, 1086.64, 1091.25, 1095.8600000000001, 1100.47, 1105.0800000000002, 1109.69, 1114.3, 1118.91, 1123.52, 1128.13, 1132.74, 1137.3500000000001, 1141.96], \"y\": [2431.2, 2393.4971428571425, 2355.7942857142857, 2318.0914285714284, 2280.388571428571, 2242.6857142857143, 2204.982857142857, 2167.2799999999997, 2129.577142857143, 2091.8742857142856, 2054.1714285714284, 2016.4685714285713, 1978.7657142857142, 1941.062857142857, 1903.36]}, {\"hoverinfo\": \"text\", \"line\": {\"color\": \"brown\", \"width\": 0.7530103295252888}, \"mode\": \"lines\", \"name\": \"0.7530103295252888\", \"opacity\": 0.7530103295252888, \"text\": \"Edge: ('eps1lon', 'bl00mber')    <br>Weight: 0.75\", \"type\": \"scatter\", \"x\": [3686.8, 3700.057142857143, 3713.3142857142857, 3726.571428571429, 3739.8285714285716, 3753.0857142857144, 3766.342857142857, 3779.6000000000004, 3792.857142857143, 3806.114285714286, 3819.3714285714286, 3832.6285714285714, 3845.8857142857146, 3859.1428571428573, 3872.4], \"y\": [1140.7, 1138.3428571428572, 1135.9857142857143, 1133.6285714285714, 1131.2714285714287, 1128.9142857142858, 1126.557142857143, 1124.2, 1121.8428571428572, 1119.4857142857143, 1117.1285714285714, 1114.7714285714287, 1112.4142857142858, 1110.057142857143, 1107.7]}, {\"hoverinfo\": \"text\", \"line\": {\"color\": \"brown\", \"width\": 0.6146924090600359}, \"mode\": \"lines\", \"name\": \"0.6146924090600359\", \"opacity\": 0.6146924090600359, \"text\": \"Edge: ('bgw', 'iamchenxin')    <br>Weight: 0.61\", \"type\": \"scatter\", \"x\": [213.44, 249.5742857142857, 285.7085714285714, 321.84285714285716, 357.9771428571429, 394.1114285714286, 430.2457142857143, 466.38, 502.51428571428573, 538.6485714285715, 574.7828571428572, 610.9171428571428, 647.0514285714287, 683.1857142857143, 719.32], \"y\": [1978.74, 1961.2142857142858, 1943.6885714285715, 1926.162857142857, 1908.6371428571429, 1891.1114285714286, 1873.5857142857144, 1856.06, 1838.5342857142857, 1821.0085714285715, 1803.4828571428573, 1785.957142857143, 1768.4314285714286, 1750.9057142857143, 1733.38]}, {\"hoverinfo\": \"text\", \"line\": {\"color\": \"brown\", \"width\": 0.6103364575126095}, \"mode\": \"lines\", \"name\": \"0.6103364575126095\", \"opacity\": 0.6103364575126095, \"text\": \"Edge: ('NE-SmallTown', 'SimenB')    <br>Weight: 0.61\", \"type\": \"scatter\", \"x\": [4158.6, 4120.214285714286, 4081.8285714285716, 4043.4428571428575, 4005.057142857143, 3966.671428571429, 3928.2857142857147, 3889.9, 3851.514285714286, 3813.1285714285714, 3774.7428571428572, 3736.3571428571427, 3697.9714285714285, 3659.585714285714, 3621.2], \"y\": [701.16, 714.0185714285714, 726.8771428571429, 739.7357142857143, 752.5942857142857, 765.452857142857, 778.3114285714286, 791.17, 804.0285714285714, 816.8871428571429, 829.7457142857143, 842.6042857142857, 855.462857142857, 868.3214285714286, 881.18]}, {\"hoverinfo\": \"text\", \"line\": {\"color\": \"brown\", \"width\": 0.792226780072224}, \"mode\": \"lines\", \"name\": \"0.792226780072224\", \"opacity\": 0.792226780072224, \"text\": \"Edge: ('NE-SmallTown', 'sompylasar')    <br>Weight: 0.79\", \"type\": \"scatter\", \"x\": [4158.6, 4147.928571428572, 4137.257142857143, 4126.585714285715, 4115.914285714286, 4105.242857142857, 4094.571428571429, 4083.9, 4073.2285714285713, 4062.557142857143, 4051.885714285714, 4041.214285714286, 4030.542857142857, 4019.8714285714286, 4009.2], \"y\": [701.16, 736.5628571428571, 771.9657142857143, 807.3685714285714, 842.7714285714285, 878.1742857142857, 913.5771428571428, 948.98, 984.3828571428571, 1019.7857142857142, 1055.1885714285713, 1090.5914285714284, 1125.9942857142858, 1161.3971428571429, 1196.8]}, {\"hoverinfo\": \"text\", \"line\": {\"color\": \"brown\", \"width\": 0.6142326156891721}, \"mode\": \"lines\", \"name\": \"0.6142326156891721\", \"opacity\": 0.6142326156891721, \"text\": \"Edge: ('joshduck', 'jordwalke')    <br>Weight: 0.61\", \"type\": \"scatter\", \"x\": [1293.46, 1266.5742857142857, 1239.6885714285715, 1212.8028571428572, 1185.9171428571428, 1159.0314285714285, 1132.1457142857143, 1105.26, 1078.3742857142856, 1051.4885714285715, 1024.6028571428571, 997.7171428571428, 970.8314285714285, 943.9457142857143, 917.06], \"y\": [971.9, 964.7242857142857, 957.5485714285714, 950.3728571428571, 943.1971428571428, 936.0214285714286, 928.8457142857143, 921.6700000000001, 914.4942857142858, 907.3185714285714, 900.1428571428572, 892.9671428571429, 885.7914285714286, 878.6157142857144, 871.44]}, {\"hoverinfo\": \"text\", \"line\": {\"color\": \"brown\", \"width\": 0.9917356337607353}, \"mode\": \"lines\", \"name\": \"0.9917356337607353\", \"opacity\": 0.9917356337607353, \"text\": \"Edge: ('jquense', 'cody')    <br>Weight: 0.99\", \"type\": \"scatter\", \"x\": [2469.4, 2419.5128571428572, 2369.6257142857144, 2319.7385714285715, 2269.8514285714286, 2219.964285714286, 2170.077142857143, 2120.19, 2070.302857142857, 2020.4157142857143, 1970.5285714285715, 1920.6414285714286, 1870.7542857142857, 1820.8671428571429, 1770.98], \"y\": [1043.44, 1061.0657142857144, 1078.6914285714286, 1096.317142857143, 1113.9428571428573, 1131.5685714285714, 1149.1942857142858, 1166.8200000000002, 1184.4457142857143, 1202.0714285714287, 1219.6971428571428, 1237.3228571428572, 1254.9485714285715, 1272.5742857142857, 1290.2]}, {\"hoverinfo\": \"text\", \"line\": {\"color\": \"brown\", \"width\": 0.6326456243993493}, \"mode\": \"lines\", \"name\": \"0.6326456243993493\", \"opacity\": 0.6326456243993493, \"text\": \"Edge: ('SimenB', 'sompylasar')    <br>Weight: 0.63\", \"type\": \"scatter\", \"x\": [3621.2, 3648.9142857142856, 3676.6285714285714, 3704.342857142857, 3732.0571428571425, 3759.7714285714283, 3787.485714285714, 3815.2, 3842.9142857142856, 3870.6285714285714, 3898.342857142857, 3926.057142857143, 3953.7714285714283, 3981.485714285714, 4009.2], \"y\": [881.18, 903.7242857142857, 926.2685714285714, 948.8128571428571, 971.3571428571428, 993.9014285714285, 1016.4457142857143, 1038.99, 1061.5342857142857, 1084.0785714285714, 1106.6228571428571, 1129.1671428571428, 1151.7114285714285, 1174.2557142857142, 1196.8]}, {\"hoverinfo\": \"text\", \"line\": {\"color\": \"brown\", \"width\": 0.7034210554503234}, \"mode\": \"lines\", \"name\": \"0.7034210554503234\", \"opacity\": 0.7034210554503234, \"text\": \"Edge: ('philipp-spiess', 'sompylasar')    <br>Weight: 0.7\", \"type\": \"scatter\", \"x\": [4643.6, 4598.285714285715, 4552.971428571429, 4507.657142857143, 4462.342857142858, 4417.028571428572, 4371.714285714286, 4326.4, 4281.085714285714, 4235.771428571428, 4190.457142857143, 4145.142857142857, 4099.828571428571, 4054.5142857142855, 4009.2], \"y\": [1308.94, 1300.93, 1292.92, 1284.91, 1276.9, 1268.89, 1260.88, 1252.87, 1244.86, 1236.85, 1228.84, 1220.83, 1212.82, 1204.81, 1196.8]}, {\"hoverinfo\": \"text\", \"line\": {\"color\": \"brown\", \"width\": 0.603784340975915}, \"mode\": \"lines\", \"name\": \"0.603784340975915\", \"opacity\": 0.603784340975915, \"text\": \"Edge: ('Daniel15', 'fisherwebdev')    <br>Weight: 0.6\", \"type\": \"scatter\", \"x\": [1141.96, 1163.017142857143, 1184.0742857142857, 1205.1314285714286, 1226.1885714285715, 1247.2457142857143, 1268.3028571428572, 1289.3600000000001, 1310.4171428571428, 1331.4742857142858, 1352.5314285714285, 1373.5885714285714, 1394.6457142857143, 1415.702857142857, 1436.76], \"y\": [1903.36, 1898.0, 1892.6399999999999, 1887.28, 1881.9199999999998, 1876.56, 1871.1999999999998, 1865.84, 1860.48, 1855.12, 1849.76, 1844.3999999999999, 1839.04, 1833.6799999999998, 1828.32]}, {\"hoverinfo\": \"text\", \"line\": {\"color\": \"brown\", \"width\": 0.6577912265852228}, \"mode\": \"lines\", \"name\": \"0.6577912265852228\", \"opacity\": 0.6577912265852228, \"text\": \"Edge: ('Daniel15', 'arkist')    <br>Weight: 0.66\", \"type\": \"scatter\", \"x\": [1141.96, 1138.4785714285715, 1134.997142857143, 1131.5157142857142, 1128.0342857142857, 1124.5528571428572, 1121.0714285714287, 1117.5900000000001, 1114.1085714285714, 1110.6271428571429, 1107.1457142857143, 1103.6642857142858, 1100.182857142857, 1096.7014285714286, 1093.22], \"y\": [1903.36, 1879.232857142857, 1855.1057142857142, 1830.9785714285713, 1806.8514285714284, 1782.7242857142855, 1758.597142857143, 1734.4699999999998, 1710.3428571428572, 1686.2157142857143, 1662.0885714285714, 1637.9614285714285, 1613.8342857142857, 1589.7071428571428, 1565.58]}, {\"hoverinfo\": \"text\", \"line\": {\"color\": \"brown\", \"width\": 0.6080354169991918}, \"mode\": \"lines\", \"name\": \"0.6080354169991918\", \"opacity\": 0.6080354169991918, \"text\": \"Edge: ('Daniel15', 'iamchenxin')    <br>Weight: 0.61\", \"type\": \"scatter\", \"x\": [1141.96, 1111.7714285714287, 1081.5828571428572, 1051.3942857142858, 1021.2057142857143, 991.0171428571429, 960.8285714285714, 930.6400000000001, 900.4514285714286, 870.2628571428572, 840.0742857142857, 809.8857142857144, 779.6971428571429, 749.5085714285715, 719.32], \"y\": [1903.36, 1891.2185714285713, 1879.0771428571427, 1866.9357142857143, 1854.7942857142857, 1842.652857142857, 1830.5114285714285, 1818.37, 1806.2285714285715, 1794.087142857143, 1781.9457142857143, 1769.8042857142857, 1757.6628571428573, 1745.5214285714287, 1733.38]}, {\"hoverinfo\": \"text\", \"line\": {\"color\": \"brown\", \"width\": 0.9057542432250564}, \"mode\": \"lines\", \"name\": \"0.9057542432250564\", \"opacity\": 0.9057542432250564, \"text\": \"Edge: ('threepointone', 'sompylasar')    <br>Weight: 0.91\", \"type\": \"scatter\", \"x\": [4127.2, 4118.771428571428, 4110.342857142857, 4101.914285714285, 4093.485714285714, 4085.0571428571425, 4076.6285714285714, 4068.2, 4059.7714285714283, 4051.342857142857, 4042.9142857142856, 4034.485714285714, 4026.0571428571425, 4017.6285714285714, 4009.2], \"y\": [1639.5, 1607.8785714285714, 1576.2571428571428, 1544.6357142857144, 1513.0142857142857, 1481.392857142857, 1449.7714285714285, 1418.15, 1386.5285714285715, 1354.9071428571428, 1323.2857142857142, 1291.6642857142856, 1260.042857142857, 1228.4214285714286, 1196.8]}, {\"hoverinfo\": \"text\", \"line\": {\"color\": \"brown\", \"width\": 0.7712126638082482}, \"mode\": \"lines\", \"name\": \"0.7712126638082482\", \"opacity\": 0.7712126638082482, \"text\": \"Edge: ('arkist', 'iamchenxin')    <br>Weight: 0.77\", \"type\": \"scatter\", \"x\": [1093.22, 1066.5128571428572, 1039.8057142857142, 1013.0985714285714, 986.3914285714286, 959.6842857142858, 932.9771428571429, 906.27, 879.5628571428572, 852.8557142857144, 826.1485714285715, 799.4414285714286, 772.7342857142858, 746.027142857143, 719.32], \"y\": [1565.58, 1577.5657142857142, 1589.5514285714285, 1601.5371428571427, 1613.5228571428572, 1625.5085714285715, 1637.4942857142858, 1649.48, 1661.4657142857143, 1673.4514285714286, 1685.4371428571428, 1697.422857142857, 1709.4085714285716, 1721.3942857142858, 1733.38]}, {\"hoverinfo\": \"text\", \"marker\": {\"color\": [21, 13, 11, 11, 6, 5, 7, 8, 8, 6, 4, 5, 3, 6, 5, 3, 5, 2, 1, 1, 5, 4, 6, 6, 1, 1, 7, 1, 3, 5, 1, 2, 9, 0, 3, 5, 1, 10, 1, 2, 0, 3, 1, 9, 7, 4, 9, 4, 6, 3], \"colorbar\": {\"thickness\": 15, \"title\": {\"side\": \"right\", \"text\": \"Adjacency num\"}, \"xanchor\": \"left\"}, \"colorscale\": [[0.0, \"rgb(253, 253, 204)\"], [0.09090909090909091, \"rgb(206, 236, 179)\"], [0.18181818181818182, \"rgb(156, 219, 165)\"], [0.2727272727272727, \"rgb(111, 201, 163)\"], [0.36363636363636365, \"rgb(86, 177, 163)\"], [0.45454545454545453, \"rgb(76, 153, 160)\"], [0.5454545454545454, \"rgb(68, 130, 155)\"], [0.6363636363636364, \"rgb(62, 108, 150)\"], [0.7272727272727273, \"rgb(62, 82, 143)\"], [0.8181818181818182, \"rgb(64, 60, 115)\"], [0.9090909090909091, \"rgb(54, 43, 77)\"], [1.0, \"rgb(39, 26, 44)\"]], \"line\": {\"color\": \"red\", \"width\": 1}, \"showscale\": true, \"size\": [31.168048229088168, 40.0, 19.72871137905049, 21.26601356443105, 13.805576488319517, 32.56970610399397, 12.0, 16.51846269781462, 12.0, 12.0, 12.0, 12.0, 12.0, 12.0, 12.0, 12.0, 12.0, 12.0, 12.0, 12.0, 12.0, 12.0, 12.0, 12.0, 12.0, 12.0, 12.0, 12.0, 12.0, 12.0, 12.0, 12.0, 12.0, 12.0, 12.0, 12.0, 12.0, 12.0, 12.0, 12.0, 12.0, 12.0, 12.0, 12.0, 12.0, 12.0, 12.0, 12.0, 12.0, 12.0]}, \"mode\": \"markers\", \"text\": [\"Username: zpao                     <br>Files changed: 2086                     <br>Activity interval: [2013. 2016.]                     <br>Adjacency num: 21\", \"Username: gaearon                     <br>Files changed: 2672                     <br>Activity interval: [2015. 2021.]                     <br>Adjacency num: 13\", \"Username: bvaughn                     <br>Files changed: 1327                     <br>Activity interval: [2018. 2020.]                     <br>Adjacency num: 11\", \"Username: sophiebits                     <br>Files changed: 1429                     <br>Activity interval: [2013. 2017.]                     <br>Adjacency num: 11\", \"Username: acdlite                     <br>Files changed: 934                     <br>Activity interval: [2015. 2021.]                     <br>Adjacency num: 6\", \"Username: sebmarkbage                     <br>Files changed: 2179                     <br>Activity interval: [2013 2021]                     <br>Adjacency num: 5\", \"Username: jimfb                     <br>Files changed: 489                     <br>Activity interval: [2014. 2016.]                     <br>Adjacency num: 7\", \"Username: trueadm                     <br>Files changed: 1114                     <br>Activity interval: [2017. 2021.]                     <br>Adjacency num: 8\", \"Username: petehunt                     <br>Files changed: 594                     <br>Activity interval: [2013. 2014.]                     <br>Adjacency num: 8\", \"Username: chenglou                     <br>Files changed: 279                     <br>Activity interval: [2013. 2015.]                     <br>Adjacency num: 6\", \"Username: vjeux                     <br>Files changed: 392                     <br>Activity interval: [2013. 2017.]                     <br>Adjacency num: 4\", \"Username: benjamn                     <br>Files changed: 106                     <br>Activity interval: [2013. 2014.]                     <br>Adjacency num: 5\", \"Username: yungsters                     <br>Files changed: 350                     <br>Activity interval: [2013. 2018.]                     <br>Adjacency num: 3\", \"Username: subtleGradient                     <br>Files changed: 70                     <br>Activity interval: [2013. 2014.]                     <br>Adjacency num: 6\", \"Username: nhunzaker                     <br>Files changed: 244                     <br>Activity interval: [2015. 2019.]                     <br>Adjacency num: 5\", \"Username: necolas                     <br>Files changed: 181                     <br>Activity interval: [2019. 2020.]                     <br>Adjacency num: 3\", \"Username: syranide                     <br>Files changed: 99                     <br>Activity interval: [2013. 2015.]                     <br>Adjacency num: 5\", \"Username: cpojer                     <br>Files changed: 213                     <br>Activity interval: [2013. 2018.]                     <br>Adjacency num: 2\", \"Username: flarnie                     <br>Files changed: 139                     <br>Activity interval: [2016. 2018.]                     <br>Adjacency num: 1\", \"Username: koba04                     <br>Files changed: 116                     <br>Activity interval: [2014. 2020.]                     <br>Adjacency num: 1\", \"Username: aweary                     <br>Files changed: 229                     <br>Activity interval: [2016. 2019.]                     <br>Adjacency num: 5\", \"Username: rickhanlonii                     <br>Files changed: 227                     <br>Activity interval: [2019. 2021.]                     <br>Adjacency num: 4\", \"Username: marocchino                     <br>Files changed: 51                     <br>Activity interval: [2015. 2015.]                     <br>Adjacency num: 6\", \"Username: kohei-takata                     <br>Files changed: 43                     <br>Activity interval: [2015. 2015.]                     <br>Adjacency num: 6\", \"Username: lunaruan                     <br>Files changed: 134                     <br>Activity interval: [2019. 2021.]                     <br>Adjacency num: 1\", \"Username: TheSavior                     <br>Files changed: 43                     <br>Activity interval: [2018. 2020.]                     <br>Adjacency num: 1\", \"Username: chicoxyzzy                     <br>Files changed: 118                     <br>Activity interval: [2014. 2016.]                     <br>Adjacency num: 7\", \"Username: keyz                     <br>Files changed: 120                     <br>Activity interval: [2015. 2017.]                     <br>Adjacency num: 1\", \"Username: mcsheffrey                     <br>Files changed: 89                     <br>Activity interval: [2013. 2013.]                     <br>Adjacency num: 3\", \"Username: eps1lon                     <br>Files changed: 108                     <br>Activity interval: [2019. 2021.]                     <br>Adjacency num: 5\", \"Username: bgw                     <br>Files changed: 237                     <br>Activity interval: [2015. 2015.]                     <br>Adjacency num: 1\", \"Username: NE-SmallTown                     <br>Files changed: 22                     <br>Activity interval: [2017. 2020.]                     <br>Adjacency num: 2\", \"Username: joshduck                     <br>Files changed: 25                     <br>Activity interval: [2013. 2014.]                     <br>Adjacency num: 9\", \"Username: aickin                     <br>Files changed: 29                     <br>Activity interval: [2016. 2018.]                     <br>Adjacency num: 0\", \"Username: jquense                     <br>Files changed: 67                     <br>Activity interval: [2015. 2019.]                     <br>Adjacency num: 3\", \"Username: SimenB                     <br>Files changed: 70                     <br>Activity interval: [2015. 2021.]                     <br>Adjacency num: 5\", \"Username: philipp-spiess                     <br>Files changed: 96                     <br>Activity interval: [2017. 2020.]                     <br>Adjacency num: 1\", \"Username: Daniel15                     <br>Files changed: 268                     <br>Activity interval: [2013. 2019.]                     <br>Adjacency num: 10\", \"Username: iamdustan                     <br>Files changed: 98                     <br>Activity interval: [2015. 2019.]                     <br>Adjacency num: 1\", \"Username: threepointone                     <br>Files changed: 169                     <br>Activity interval: [2019. 2020.]                     <br>Adjacency num: 2\", \"Username: Simek                     <br>Files changed: 18                     <br>Activity interval: [2013. 2018.]                     <br>Adjacency num: 0\", \"Username: fisherwebdev                     <br>Files changed: 32                     <br>Activity interval: [2014. 2015.]                     <br>Adjacency num: 3\", \"Username: fabiomcosta                     <br>Files changed: 18                     <br>Activity interval: [2013. 2015.]                     <br>Adjacency num: 1\", \"Username: sompylasar                     <br>Files changed: 46                     <br>Activity interval: [2018. 2020.]                     <br>Adjacency num: 9\", \"Username: jordwalke                     <br>Files changed: 42                     <br>Activity interval: [2013. 2014.]                     <br>Adjacency num: 7\", \"Username: raphamorim                     <br>Files changed: 269                     <br>Activity interval: [2018. 2018.]                     <br>Adjacency num: 4\", \"Username: arkist                     <br>Files changed: 41                     <br>Activity interval: [2015. 2015.]                     <br>Adjacency num: 9\", \"Username: cody                     <br>Files changed: 21                     <br>Activity interval: [2014. 2016.]                     <br>Adjacency num: 4\", \"Username: iamchenxin                     <br>Files changed: 343                     <br>Activity interval: [2015. 2016.]                     <br>Adjacency num: 6\", \"Username: bl00mber                     <br>Files changed: 52                     <br>Activity interval: [2018. 2021.]                     <br>Adjacency num: 3\"], \"type\": \"scatter\", \"x\": [1177.74, 3417.8, 3556.2, 1634.74, 3254.0, 2761.2, 1252.5, 3389.0, 1137.7, 1036.88, 1580.62, 1085.32, 1413.48, 661.8, 3076.2, 3663.6, 869.08, 1511.4, 4554.0, 827.4, 3038.2, 3772.2, 837.74, 929.5, 3873.0, 3607.2, 829.16, 1077.42, 613.9, 3686.8, 213.44, 4158.6, 1293.46, 2396.2, 2469.4, 3621.2, 4643.6, 1141.96, 3421.6, 4127.2, 2822.2, 1436.76, 112.344, 4009.2, 917.06, 3380.0, 1093.22, 1770.98, 719.32, 3872.4], \"y\": [1351.8, 1166.8, 1469.84, 1407.1, 1218.64, 1369.74, 1612.24, 1307.38, 1062.72, 1261.08, 1100.66, 782.74, 1065.54, 884.3, 834.7, 1595.54, 1003.84, 1660.16, 1048.46, 2380.8, 976.64, 1392.58, 1624.34, 1821.62, 1948.7, 35.33, 1215.96, 2431.2, 1329.28, 1140.7, 1978.74, 701.16, 971.9, 1732.6, 1043.44, 881.18, 1308.94, 1903.36, 1720.72, 1639.5, 1732.6, 1828.32, 532.62, 1196.8, 871.44, 578.28, 1565.58, 1290.2, 1733.38, 1107.7]}],                        {\"annotations\": [{\"showarrow\": false, \"text\": \"Params: {'file_coef': 1, 'time_coef': -0.5}, min_value_for_edge: 0.6\", \"x\": 0.005, \"xref\": \"paper\", \"y\": -0.002, \"yref\": \"paper\"}], \"margin\": {\"b\": 20, \"l\": 5, \"r\": 5, \"t\": 40}, \"plot_bgcolor\": \"whitesmoke\", \"showlegend\": false, \"template\": {\"data\": {\"bar\": [{\"error_x\": {\"color\": \"#2a3f5f\"}, \"error_y\": {\"color\": \"#2a3f5f\"}, \"marker\": {\"line\": {\"color\": \"#E5ECF6\", \"width\": 0.5}}, \"type\": \"bar\"}], \"barpolar\": [{\"marker\": {\"line\": {\"color\": \"#E5ECF6\", \"width\": 0.5}}, \"type\": \"barpolar\"}], \"carpet\": [{\"aaxis\": {\"endlinecolor\": \"#2a3f5f\", \"gridcolor\": \"white\", \"linecolor\": \"white\", \"minorgridcolor\": \"white\", \"startlinecolor\": \"#2a3f5f\"}, \"baxis\": {\"endlinecolor\": \"#2a3f5f\", \"gridcolor\": \"white\", \"linecolor\": \"white\", \"minorgridcolor\": \"white\", \"startlinecolor\": \"#2a3f5f\"}, \"type\": \"carpet\"}], \"choropleth\": [{\"colorbar\": {\"outlinewidth\": 0, \"ticks\": \"\"}, \"type\": \"choropleth\"}], \"contour\": [{\"colorbar\": {\"outlinewidth\": 0, \"ticks\": \"\"}, \"colorscale\": [[0.0, \"#0d0887\"], [0.1111111111111111, \"#46039f\"], [0.2222222222222222, \"#7201a8\"], [0.3333333333333333, \"#9c179e\"], [0.4444444444444444, \"#bd3786\"], [0.5555555555555556, \"#d8576b\"], [0.6666666666666666, \"#ed7953\"], [0.7777777777777778, \"#fb9f3a\"], [0.8888888888888888, \"#fdca26\"], [1.0, \"#f0f921\"]], \"type\": \"contour\"}], \"contourcarpet\": [{\"colorbar\": {\"outlinewidth\": 0, \"ticks\": \"\"}, \"type\": \"contourcarpet\"}], \"heatmap\": [{\"colorbar\": {\"outlinewidth\": 0, \"ticks\": \"\"}, \"colorscale\": [[0.0, \"#0d0887\"], [0.1111111111111111, \"#46039f\"], [0.2222222222222222, \"#7201a8\"], [0.3333333333333333, \"#9c179e\"], [0.4444444444444444, \"#bd3786\"], [0.5555555555555556, \"#d8576b\"], [0.6666666666666666, \"#ed7953\"], [0.7777777777777778, \"#fb9f3a\"], [0.8888888888888888, \"#fdca26\"], [1.0, \"#f0f921\"]], \"type\": \"heatmap\"}], \"heatmapgl\": [{\"colorbar\": {\"outlinewidth\": 0, \"ticks\": \"\"}, \"colorscale\": [[0.0, \"#0d0887\"], [0.1111111111111111, \"#46039f\"], [0.2222222222222222, \"#7201a8\"], [0.3333333333333333, \"#9c179e\"], [0.4444444444444444, \"#bd3786\"], [0.5555555555555556, \"#d8576b\"], [0.6666666666666666, \"#ed7953\"], [0.7777777777777778, \"#fb9f3a\"], [0.8888888888888888, \"#fdca26\"], [1.0, \"#f0f921\"]], \"type\": \"heatmapgl\"}], \"histogram\": [{\"marker\": {\"colorbar\": {\"outlinewidth\": 0, \"ticks\": \"\"}}, \"type\": \"histogram\"}], \"histogram2d\": [{\"colorbar\": {\"outlinewidth\": 0, \"ticks\": \"\"}, \"colorscale\": [[0.0, \"#0d0887\"], [0.1111111111111111, \"#46039f\"], [0.2222222222222222, \"#7201a8\"], [0.3333333333333333, \"#9c179e\"], [0.4444444444444444, \"#bd3786\"], [0.5555555555555556, \"#d8576b\"], [0.6666666666666666, \"#ed7953\"], [0.7777777777777778, \"#fb9f3a\"], [0.8888888888888888, \"#fdca26\"], [1.0, \"#f0f921\"]], \"type\": \"histogram2d\"}], \"histogram2dcontour\": [{\"colorbar\": {\"outlinewidth\": 0, \"ticks\": \"\"}, \"colorscale\": [[0.0, \"#0d0887\"], [0.1111111111111111, \"#46039f\"], [0.2222222222222222, \"#7201a8\"], [0.3333333333333333, \"#9c179e\"], [0.4444444444444444, \"#bd3786\"], [0.5555555555555556, \"#d8576b\"], [0.6666666666666666, \"#ed7953\"], [0.7777777777777778, \"#fb9f3a\"], [0.8888888888888888, \"#fdca26\"], [1.0, \"#f0f921\"]], \"type\": \"histogram2dcontour\"}], \"mesh3d\": [{\"colorbar\": {\"outlinewidth\": 0, \"ticks\": \"\"}, \"type\": \"mesh3d\"}], \"parcoords\": [{\"line\": {\"colorbar\": {\"outlinewidth\": 0, \"ticks\": \"\"}}, \"type\": \"parcoords\"}], \"pie\": [{\"automargin\": true, \"type\": \"pie\"}], \"scatter\": [{\"marker\": {\"colorbar\": {\"outlinewidth\": 0, \"ticks\": \"\"}}, \"type\": \"scatter\"}], \"scatter3d\": [{\"line\": {\"colorbar\": {\"outlinewidth\": 0, \"ticks\": \"\"}}, \"marker\": {\"colorbar\": {\"outlinewidth\": 0, \"ticks\": \"\"}}, \"type\": \"scatter3d\"}], \"scattercarpet\": [{\"marker\": {\"colorbar\": {\"outlinewidth\": 0, \"ticks\": \"\"}}, \"type\": \"scattercarpet\"}], \"scattergeo\": [{\"marker\": {\"colorbar\": {\"outlinewidth\": 0, \"ticks\": \"\"}}, \"type\": \"scattergeo\"}], \"scattergl\": [{\"marker\": {\"colorbar\": {\"outlinewidth\": 0, \"ticks\": \"\"}}, \"type\": \"scattergl\"}], \"scattermapbox\": [{\"marker\": {\"colorbar\": {\"outlinewidth\": 0, \"ticks\": \"\"}}, \"type\": \"scattermapbox\"}], \"scatterpolar\": [{\"marker\": {\"colorbar\": {\"outlinewidth\": 0, \"ticks\": \"\"}}, \"type\": \"scatterpolar\"}], \"scatterpolargl\": [{\"marker\": {\"colorbar\": {\"outlinewidth\": 0, \"ticks\": \"\"}}, \"type\": \"scatterpolargl\"}], \"scatterternary\": [{\"marker\": {\"colorbar\": {\"outlinewidth\": 0, \"ticks\": \"\"}}, \"type\": \"scatterternary\"}], \"surface\": [{\"colorbar\": {\"outlinewidth\": 0, \"ticks\": \"\"}, \"colorscale\": [[0.0, \"#0d0887\"], [0.1111111111111111, \"#46039f\"], [0.2222222222222222, \"#7201a8\"], [0.3333333333333333, \"#9c179e\"], [0.4444444444444444, \"#bd3786\"], [0.5555555555555556, \"#d8576b\"], [0.6666666666666666, \"#ed7953\"], [0.7777777777777778, \"#fb9f3a\"], [0.8888888888888888, \"#fdca26\"], [1.0, \"#f0f921\"]], \"type\": \"surface\"}], \"table\": [{\"cells\": {\"fill\": {\"color\": \"#EBF0F8\"}, \"line\": {\"color\": \"white\"}}, \"header\": {\"fill\": {\"color\": \"#C8D4E3\"}, \"line\": {\"color\": \"white\"}}, \"type\": \"table\"}]}, \"layout\": {\"annotationdefaults\": {\"arrowcolor\": \"#2a3f5f\", \"arrowhead\": 0, \"arrowwidth\": 1}, \"autotypenumbers\": \"strict\", \"coloraxis\": {\"colorbar\": {\"outlinewidth\": 0, \"ticks\": \"\"}}, \"colorscale\": {\"diverging\": [[0, \"#8e0152\"], [0.1, \"#c51b7d\"], [0.2, \"#de77ae\"], [0.3, \"#f1b6da\"], [0.4, \"#fde0ef\"], [0.5, \"#f7f7f7\"], [0.6, \"#e6f5d0\"], [0.7, \"#b8e186\"], [0.8, \"#7fbc41\"], [0.9, \"#4d9221\"], [1, \"#276419\"]], \"sequential\": [[0.0, \"#0d0887\"], [0.1111111111111111, \"#46039f\"], [0.2222222222222222, \"#7201a8\"], [0.3333333333333333, \"#9c179e\"], [0.4444444444444444, \"#bd3786\"], [0.5555555555555556, \"#d8576b\"], [0.6666666666666666, \"#ed7953\"], [0.7777777777777778, \"#fb9f3a\"], [0.8888888888888888, \"#fdca26\"], [1.0, \"#f0f921\"]], \"sequentialminus\": [[0.0, \"#0d0887\"], [0.1111111111111111, \"#46039f\"], [0.2222222222222222, \"#7201a8\"], [0.3333333333333333, \"#9c179e\"], [0.4444444444444444, \"#bd3786\"], [0.5555555555555556, \"#d8576b\"], [0.6666666666666666, \"#ed7953\"], [0.7777777777777778, \"#fb9f3a\"], [0.8888888888888888, \"#fdca26\"], [1.0, \"#f0f921\"]]}, \"colorway\": [\"#636efa\", \"#EF553B\", \"#00cc96\", \"#ab63fa\", \"#FFA15A\", \"#19d3f3\", \"#FF6692\", \"#B6E880\", \"#FF97FF\", \"#FECB52\"], \"font\": {\"color\": \"#2a3f5f\"}, \"geo\": {\"bgcolor\": \"white\", \"lakecolor\": \"white\", \"landcolor\": \"#E5ECF6\", \"showlakes\": true, \"showland\": true, \"subunitcolor\": \"white\"}, \"hoverlabel\": {\"align\": \"left\"}, \"hovermode\": \"closest\", \"mapbox\": {\"style\": \"light\"}, \"paper_bgcolor\": \"white\", \"plot_bgcolor\": \"#E5ECF6\", \"polar\": {\"angularaxis\": {\"gridcolor\": \"white\", \"linecolor\": \"white\", \"ticks\": \"\"}, \"bgcolor\": \"#E5ECF6\", \"radialaxis\": {\"gridcolor\": \"white\", \"linecolor\": \"white\", \"ticks\": \"\"}}, \"scene\": {\"xaxis\": {\"backgroundcolor\": \"#E5ECF6\", \"gridcolor\": \"white\", \"gridwidth\": 2, \"linecolor\": \"white\", \"showbackground\": true, \"ticks\": \"\", \"zerolinecolor\": \"white\"}, \"yaxis\": {\"backgroundcolor\": \"#E5ECF6\", \"gridcolor\": \"white\", \"gridwidth\": 2, \"linecolor\": \"white\", \"showbackground\": true, \"ticks\": \"\", \"zerolinecolor\": \"white\"}, \"zaxis\": {\"backgroundcolor\": \"#E5ECF6\", \"gridcolor\": \"white\", \"gridwidth\": 2, \"linecolor\": \"white\", \"showbackground\": true, \"ticks\": \"\", \"zerolinecolor\": \"white\"}}, \"shapedefaults\": {\"line\": {\"color\": \"#2a3f5f\"}}, \"ternary\": {\"aaxis\": {\"gridcolor\": \"white\", \"linecolor\": \"white\", \"ticks\": \"\"}, \"baxis\": {\"gridcolor\": \"white\", \"linecolor\": \"white\", \"ticks\": \"\"}, \"bgcolor\": \"#E5ECF6\", \"caxis\": {\"gridcolor\": \"white\", \"linecolor\": \"white\", \"ticks\": \"\"}}, \"title\": {\"x\": 0.05}, \"xaxis\": {\"automargin\": true, \"gridcolor\": \"white\", \"linecolor\": \"white\", \"ticks\": \"\", \"title\": {\"standoff\": 15}, \"zerolinecolor\": \"white\", \"zerolinewidth\": 2}, \"yaxis\": {\"automargin\": true, \"gridcolor\": \"white\", \"linecolor\": \"white\", \"ticks\": \"\", \"title\": {\"standoff\": 15}, \"zerolinecolor\": \"white\", \"zerolinewidth\": 2}}}, \"title\": {\"font\": {\"size\": 16}, \"text\": \"Social graph of React developers\"}, \"xaxis\": {\"showgrid\": false, \"showticklabels\": false, \"zeroline\": false}, \"yaxis\": {\"showgrid\": false, \"showticklabels\": false, \"zeroline\": false}},                        {\"responsive\": true}                    ).then(function(){\n",
       "                            \n",
       "var gd = document.getElementById('896bd66f-e7ea-4bae-9da9-13aff88942a8');\n",
       "var x = new MutationObserver(function (mutations, observer) {{\n",
       "        var display = window.getComputedStyle(gd).display;\n",
       "        if (!display || display === 'none') {{\n",
       "            console.log([gd, 'removed!']);\n",
       "            Plotly.purge(gd);\n",
       "            observer.disconnect();\n",
       "        }}\n",
       "}});\n",
       "\n",
       "// Listen for the removal of the full notebook cells\n",
       "var notebookContainer = gd.closest('#notebook-container');\n",
       "if (notebookContainer) {{\n",
       "    x.observe(notebookContainer, {childList: true});\n",
       "}}\n",
       "\n",
       "// Listen for the clearing of the current output cell\n",
       "var outputEl = gd.closest('.output');\n",
       "if (outputEl) {{\n",
       "    x.observe(outputEl, {childList: true});\n",
       "}}\n",
       "\n",
       "                        })                };                });            </script>        </div>"
      ]
     },
     "metadata": {},
     "output_type": "display_data"
    }
   ],
   "source": [
    "fig = go.Figure(trace,\n",
    "                layout=go.Layout(\n",
    "                plot_bgcolor='whitesmoke',\n",
    "                title='Social graph of React developers',\n",
    "                titlefont_size=16,\n",
    "                showlegend=False,\n",
    "                margin=dict(b=20,l=5,r=5,t=40),\n",
    "                annotations=[ dict(\n",
    "                    text=f\"Params: {weights_params}, min_value_for_edge: {min_value_for_edge}\",\n",
    "                    showarrow=False,\n",
    "                    xref=\"paper\", yref=\"paper\",\n",
    "                    x=0.005, y=-0.002 ) ],\n",
    "                xaxis=dict(showgrid=False, zeroline=False, showticklabels=False),\n",
    "                yaxis=dict(showgrid=False, zeroline=False, showticklabels=False)))\n",
    "\n",
    "fig"
   ]
  },
  {
   "cell_type": "code",
   "execution_count": null,
   "id": "greater-validation",
   "metadata": {},
   "outputs": [],
   "source": []
  },
  {
   "cell_type": "code",
   "execution_count": null,
   "id": "domestic-mongolia",
   "metadata": {},
   "outputs": [],
   "source": []
  }
 ],
 "metadata": {
  "kernelspec": {
   "display_name": "Python 3",
   "language": "python",
   "name": "python3"
  },
  "language_info": {
   "codemirror_mode": {
    "name": "ipython",
    "version": 3
   },
   "file_extension": ".py",
   "mimetype": "text/x-python",
   "name": "python",
   "nbconvert_exporter": "python",
   "pygments_lexer": "ipython3",
   "version": "3.7.4"
  }
 },
 "nbformat": 4,
 "nbformat_minor": 5
}

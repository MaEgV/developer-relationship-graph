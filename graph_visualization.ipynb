{
 "cells": [
  {
   "cell_type": "markdown",
   "id": "equipped-alarm",
   "metadata": {},
   "source": [
    "# Developer social graph vizualization"
   ]
  },
  {
   "cell_type": "markdown",
   "id": "incident-allen",
   "metadata": {},
   "source": [
    "This code builds and visualizes the social graph of developers based on data in .csv format  \n",
    "\n",
    "* **Networkx** is used to create and process the graph  \n",
    "* **Plotly** is used for visualization. It can be combined with the Dash web framework"
   ]
  },
  {
   "cell_type": "markdown",
   "id": "olympic-distinction",
   "metadata": {},
   "source": [
    "## 1) Import, helper functions and constants defining"
   ]
  },
  {
   "cell_type": "code",
   "execution_count": 49,
   "id": "after-crystal",
   "metadata": {},
   "outputs": [],
   "source": [
    "import plotly.graph_objects as go\n",
    "import plotly.express as px\n",
    "import pandas as pd\n",
    "import networkx as nx\n",
    "import numpy as np\n",
    "from itertools import combinations\n",
    "from sklearn import preprocessing\n",
    "from ast import literal_eval as le\n",
    "import math\n",
    "\n",
    "\n",
    "# Parameters:\n",
    "min_value_for_edge = 0.6\n",
    "weights_params = {'file_coef': 1, 'time_coef': -0.5}  # Parameters for edges creating\n",
    "node_size_coef, edge_width_coef = 40, 1\n",
    "\n",
    "# Constants:\n",
    "first_date = [2013, 5, 26]  # repository was created (min date)\n",
    "last_date = [2021, 4, 7]  # data was loaded (max date)\n",
    "users_filename = 'data/users/users.csv'  # A file that contains information about developers\n",
    "changes_path = 'data/changes/'  # Information about changes in files from each developer\n",
    "commits_path = 'data/commits/'  # Information about commits of developers\n",
    "\n",
    "# Helper functions\n",
    "def min_max(iterable):\n",
    "    # minmax normalization\n",
    "    m, M = min(iterable), max(iterable)\n",
    "    denominator = (M - m)\n",
    "    return list(map(lambda x: (x - m) / denominator, iterable))\n",
    "\n",
    "def get_min_max(m: float, M: float):\n",
    "    # Returns minmax function for non iterable object (it should be used in map function)\n",
    "    denominator = (M - m)\n",
    "    return lambda x: (x - m) / denominator\n",
    "\n",
    "def get_interval(sigmas_num: float, data):\n",
    "    # Returns (mean - std, mean + std) interval\n",
    "    sigma = np.std(data) * sigmas_num\n",
    "    mean = np.mean(data)\n",
    "    return np.array([max(mean - sigma, 0), min(mean + sigma, 1)])"
   ]
  },
  {
   "cell_type": "markdown",
   "id": "universal-arbor",
   "metadata": {},
   "source": [
    "## 2) Graph creating"
   ]
  },
  {
   "cell_type": "code",
   "execution_count": 40,
   "id": "legislative-therapist",
   "metadata": {},
   "outputs": [],
   "source": [
    "G = nx.Graph()\n",
    "\n",
    "users = pd.read_csv(users_filename)['login']\n",
    "G.add_nodes_from(users)"
   ]
  },
  {
   "cell_type": "markdown",
   "id": "formed-allergy",
   "metadata": {},
   "source": [
    "## 3) Data proccessing"
   ]
  },
  {
   "cell_type": "code",
   "execution_count": 41,
   "id": "legal-history",
   "metadata": {},
   "outputs": [],
   "source": [
    "# Weights creating:\n",
    "edges = [edge for edge in combinations(users, 2)]  # Pairs of users"
   ]
  },
  {
   "cell_type": "markdown",
   "id": "educated-yellow",
   "metadata": {},
   "source": [
    "### 3.1) Data loading, parsing and converting in *pre-feature* condition"
   ]
  },
  {
   "cell_type": "code",
   "execution_count": 42,
   "id": "coordinated-columbia",
   "metadata": {},
   "outputs": [],
   "source": [
    "# Files intersections:\n",
    "users_changes = dict()\n",
    "files_frequency = dict()\n",
    "for user in users:\n",
    "    users_changes[user] = set(pd.read_csv(changes_path + user + '_files.csv')['filename'])  # Load changes and link them with author\n",
    "    for file in users_changes[user]:\n",
    "        files_frequency[file] = files_frequency.get(file, 0) + 1  # Count frequency to reduce the impact of popular files(like tests, docx or readme)\n",
    "\n",
    "        \n",
    "# Dates intersections:\n",
    "to_days = lambda x: round(x[0] * 365.25 + x[1] * 30 + x[2])  # approximate number of days since the birth of Christ\n",
    "custom_min_max = get_min_max(to_days(first_date), to_days(last_date))\n",
    "\n",
    "main_activity_interval = dict()\n",
    "for user in users:\n",
    "    commits_in_str = list(pd.read_csv(commits_path + user + '_commits.csv')['commit'])  # Long string from the file\n",
    "    commits_in_dict = list(map(le, commits_in_str))  # ---------------------------------- Dictionary representation\n",
    "    times = list(map(lambda x: x['author']['date'], commits_in_dict))  # ---------------- Get time: ---------------- 2019-08-29T23:04:47Z\n",
    "    dates = list(map(lambda x: x.split('T')[0], times))  # ------------------------------ Just date: --------------- 2019-08-29T23:04:47Z -> 2019-08-29\n",
    "    splited_dates = list(map(lambda x: [int(elem) for elem in x.split('-')], dates))  # - Date in a convenient form: 2019-08-29 -> [2019, 8, 29]\n",
    "    date_in_days = list(map(to_days, splited_dates))  # --------------------------------- Date in days form: ------- [2019, 8, 29] -> 737709\n",
    "    normilized_date = list(map(custom_min_max, date_in_days))\n",
    "    main_activity_interval[user] = get_interval(2, normilized_date)\n"
   ]
  },
  {
   "cell_type": "markdown",
   "id": "entire-emerald",
   "metadata": {},
   "source": [
    "### 3.2) Feature creating"
   ]
  },
  {
   "cell_type": "code",
   "execution_count": 43,
   "id": "consistent-subscription",
   "metadata": {},
   "outputs": [],
   "source": [
    "features_matrix = list()\n",
    "# Files feature:\n",
    "file_feature = list()\n",
    "for edge in edges:\n",
    "    files_intersection = users_changes[edge[0]].intersection(users_changes[edge[1]])  # Overlapping files for a pair of developers\n",
    "    if files_intersection:\n",
    "        file_feature.append(len(files_intersection) / sum([files_frequency[file] for file in files_intersection]))  # Remember about the frequency of files from prev block\n",
    "    else:\n",
    "        file_feature.append(0)  # No intersections = no links\n",
    "                                                             \n",
    "features_matrix.append(min_max(file_feature))\n",
    "                       \n",
    "    \n",
    "# Time feature:\n",
    "time_feature = list()\n",
    "for edge in edges:\n",
    "    time_intersection = np.absolute(main_activity_interval[edge[0]] - main_activity_interval[edge[1]])\n",
    "    time_feature.append(sum(time_intersection))\n",
    "                                                        \n",
    "features_matrix.append(min_max(time_feature))"
   ]
  },
  {
   "cell_type": "markdown",
   "id": "nominated-costs",
   "metadata": {},
   "source": [
    "## 4) Adding fetures in graph"
   ]
  },
  {
   "cell_type": "code",
   "execution_count": 44,
   "id": "understood-emperor",
   "metadata": {},
   "outputs": [],
   "source": [
    "# Weights creating:\n",
    "weights_vector = np.array(list(weights_params.values())).dot(np.array(features_matrix))  # Ax = b, where A - feature\n",
    "                                                         \n",
    "# Weights normalization:\n",
    "normilized_weights = min_max(weights_vector)\n",
    "    \n",
    "# Edges creating:\n",
    "for pair in zip(edges, normilized_weights):\n",
    "    edge, weight = pair\n",
    "    if weight > min_value_for_edge:  # Сheck discards minor links from the graff\n",
    "        G.add_edge(edge[0], edge[1], weight=weight)"
   ]
  },
  {
   "cell_type": "markdown",
   "id": "bibliographic-apache",
   "metadata": {},
   "source": [
    "## 5) Graph rendering"
   ]
  },
  {
   "cell_type": "code",
   "execution_count": 45,
   "id": "satellite-closure",
   "metadata": {},
   "outputs": [],
   "source": [
    "pos = nx.drawing.nx_agraph.graphviz_layout(G, prog='fdp')  # Nodes positions\n",
    "trace = []  # Traces container"
   ]
  },
  {
   "cell_type": "markdown",
   "id": "broke-delicious",
   "metadata": {},
   "source": [
    "### 5.1) Edge proccessing"
   ]
  },
  {
   "cell_type": "code",
   "execution_count": 46,
   "id": "elegant-camping",
   "metadata": {},
   "outputs": [],
   "source": [
    "for edge in G.edges():\n",
    "    x0, y0 = pos[edge[0]]\n",
    "    x1, y1 = pos[edge[1]]\n",
    "    edge_text.append(str(weight))\n",
    "    weight = G.edges[edge]['weight']\n",
    "    trace.append(go.Scatter(x=tuple([x0*2, x1*2, None]), y=tuple([y0*2, y1*2, None]),\n",
    "                            opacity=weight,\n",
    "                            mode='lines',\n",
    "                            line={'width': weight * edge_width_coef, 'color': 'darkgreen'}))\n",
    "    "
   ]
  },
  {
   "cell_type": "markdown",
   "id": "accepting-crest",
   "metadata": {},
   "source": [
    "### 5.2) Nodes proccessing"
   ]
  },
  {
   "cell_type": "code",
   "execution_count": 47,
   "id": "offensive-timber",
   "metadata": {},
   "outputs": [],
   "source": [
    "node_x = []\n",
    "node_y = []\n",
    "for node in G.nodes():\n",
    "    x, y = pos[node]\n",
    "    node_x.append(x*2)\n",
    "    node_y.append(y*2)\n",
    "    \n",
    "# Creating sizes for nodes\n",
    "size_list = list(map(len, users_changes.values()))\n",
    "normilized_sizes = np.array(list(map(lambda x: max(0.3, x), min_max(size_list))))\n",
    "\n",
    "node_trace = go.Scatter(\n",
    "    x=node_x, y=node_y,\n",
    "    mode='markers',\n",
    "    hoverinfo='text',\n",
    "    marker=dict(\n",
    "        showscale=True,\n",
    "        colorscale='balance',\n",
    "        reversescale=True,\n",
    "        size=normilized_sizes * node_size_coef,\n",
    "        colorbar=dict(\n",
    "            thickness=15,\n",
    "            title='Adjacency num',\n",
    "            xanchor='left',\n",
    "            titleside='right'\n",
    "        ),\n",
    "        line_width=1))\n",
    "\n",
    "trace.append(node_trace)\n",
    "\n",
    "# Hover label creating:\n",
    "node_adjacencies = []\n",
    "node_text = []\n",
    "for node, adjacencies in enumerate(G.adjacency()):\n",
    "    node_adjacencies.append(len(adjacencies[1]))\n",
    "    node_text.append(f'Username: {adjacencies[0]}\\\n",
    "                     <br>Files changed: {len(users_changes[adjacencies[0]])}\\\n",
    "                     <br>Activity interval: {np.round(main_activity_interval[adjacencies[0]] * (last_date[0] - first_date[0]) + first_date[0])}\\\n",
    "                     <br>Adjacency num: {len(adjacencies[1])}')\n",
    "\n",
    "# Hover label adding:\n",
    "node_trace.marker.color = node_adjacencies\n",
    "node_trace.text = node_text"
   ]
  },
  {
   "cell_type": "markdown",
   "id": "intended-monday",
   "metadata": {},
   "source": [
    "### 5.3) Figure creating and rendering"
   ]
  },
  {
   "cell_type": "code",
   "execution_count": 48,
   "id": "mysterious-shirt",
   "metadata": {},
   "outputs": [
    {
     "data": {
      "application/vnd.plotly.v1+json": {
       "config": {
        "plotlyServerURL": "https://plot.ly"
       },
       "data": [
        {
         "line": {
          "color": "darkgreen",
          "width": 0.721866504926751
         },
         "mode": "lines",
         "opacity": 0.721866504926751,
         "type": "scatter",
         "x": [
          1136.14,
          1630.62,
          null
         ],
         "y": [
          1575.86,
          1518.82,
          null
         ]
        },
        {
         "line": {
          "color": "darkgreen",
          "width": 0.6730728622454369
         },
         "mode": "lines",
         "opacity": 0.6730728622454369,
         "type": "scatter",
         "x": [
          1136.14,
          1258.22,
          null
         ],
         "y": [
          1575.86,
          1185.12,
          null
         ]
        },
        {
         "line": {
          "color": "darkgreen",
          "width": 0.7980304576724391
         },
         "mode": "lines",
         "opacity": 0.7980304576724391,
         "type": "scatter",
         "x": [
          1136.14,
          1154.84,
          null
         ],
         "y": [
          1575.86,
          1938.66,
          null
         ]
        },
        {
         "line": {
          "color": "darkgreen",
          "width": 0.6759632329197748
         },
         "mode": "lines",
         "opacity": 0.6759632329197748,
         "type": "scatter",
         "x": [
          1136.14,
          1063.46,
          null
         ],
         "y": [
          1575.86,
          1667.5,
          null
         ]
        },
        {
         "line": {
          "color": "darkgreen",
          "width": 0.6576017037405144
         },
         "mode": "lines",
         "opacity": 0.6576017037405144,
         "type": "scatter",
         "x": [
          1136.14,
          1456.14,
          null
         ],
         "y": [
          1575.86,
          1556.5,
          null
         ]
        },
        {
         "line": {
          "color": "darkgreen",
          "width": 0.6787780236818317
         },
         "mode": "lines",
         "opacity": 0.6787780236818317,
         "type": "scatter",
         "x": [
          1136.14,
          1004.72,
          null
         ],
         "y": [
          1575.86,
          2127.8,
          null
         ]
        },
        {
         "line": {
          "color": "darkgreen",
          "width": 0.8236385310379191
         },
         "mode": "lines",
         "opacity": 0.8236385310379191,
         "type": "scatter",
         "x": [
          1136.14,
          1560.02,
          null
         ],
         "y": [
          1575.86,
          1865.2,
          null
         ]
        },
        {
         "line": {
          "color": "darkgreen",
          "width": 0.6468822877047982
         },
         "mode": "lines",
         "opacity": 0.6468822877047982,
         "type": "scatter",
         "x": [
          1136.14,
          630.44,
          null
         ],
         "y": [
          1575.86,
          2049.4,
          null
         ]
        },
        {
         "line": {
          "color": "darkgreen",
          "width": 0.6446083235864589
         },
         "mode": "lines",
         "opacity": 0.6446083235864589,
         "type": "scatter",
         "x": [
          1136.14,
          816.54,
          null
         ],
         "y": [
          1575.86,
          1886.42,
          null
         ]
        },
        {
         "line": {
          "color": "darkgreen",
          "width": 0.6249196275914777
         },
         "mode": "lines",
         "opacity": 0.6249196275914777,
         "type": "scatter",
         "x": [
          1136.14,
          1402.42,
          null
         ],
         "y": [
          1575.86,
          1954.44,
          null
         ]
        },
        {
         "line": {
          "color": "darkgreen",
          "width": 0.7214208481489884
         },
         "mode": "lines",
         "opacity": 0.7214208481489884,
         "type": "scatter",
         "x": [
          1136.14,
          866.2,
          null
         ],
         "y": [
          1575.86,
          1236.28,
          null
         ]
        },
        {
         "line": {
          "color": "darkgreen",
          "width": 0.6907012468238405
         },
         "mode": "lines",
         "opacity": 0.6907012468238405,
         "type": "scatter",
         "x": [
          1136.14,
          1295.88,
          null
         ],
         "y": [
          1575.86,
          1085.18,
          null
         ]
        },
        {
         "line": {
          "color": "darkgreen",
          "width": 0.6800999356858285
         },
         "mode": "lines",
         "opacity": 0.6800999356858285,
         "type": "scatter",
         "x": [
          1136.14,
          813.56,
          null
         ],
         "y": [
          1575.86,
          1643.16,
          null
         ]
        },
        {
         "line": {
          "color": "darkgreen",
          "width": 0.6202442472137893
         },
         "mode": "lines",
         "opacity": 0.6202442472137893,
         "type": "scatter",
         "x": [
          1136.14,
          590.6,
          null
         ],
         "y": [
          1575.86,
          1623.72,
          null
         ]
        },
        {
         "line": {
          "color": "darkgreen",
          "width": 0.7027394419160228
         },
         "mode": "lines",
         "opacity": 0.7027394419160228,
         "type": "scatter",
         "x": [
          1136.14,
          1217.68,
          null
         ],
         "y": [
          1575.86,
          1838.34,
          null
         ]
        },
        {
         "line": {
          "color": "darkgreen",
          "width": 0.7856565277083414
         },
         "mode": "lines",
         "opacity": 0.7856565277083414,
         "type": "scatter",
         "x": [
          1136.14,
          1087.36,
          null
         ],
         "y": [
          1575.86,
          1009.1,
          null
         ]
        },
        {
         "line": {
          "color": "darkgreen",
          "width": 0.7449017988477188
         },
         "mode": "lines",
         "opacity": 0.7449017988477188,
         "type": "scatter",
         "x": [
          1136.14,
          1007.88,
          null
         ],
         "y": [
          1575.86,
          1342.6,
          null
         ]
        },
        {
         "line": {
          "color": "darkgreen",
          "width": 0.6363878725694069
         },
         "mode": "lines",
         "opacity": 0.6363878725694069,
         "type": "scatter",
         "x": [
          1136.14,
          868.54,
          null
         ],
         "y": [
          1575.86,
          2021,
          null
         ]
        },
        {
         "line": {
          "color": "darkgreen",
          "width": 0.7288981690527697
         },
         "mode": "lines",
         "opacity": 0.7288981690527697,
         "type": "scatter",
         "x": [
          1136.14,
          1205.78,
          null
         ],
         "y": [
          1575.86,
          1345.12,
          null
         ]
        },
        {
         "line": {
          "color": "darkgreen",
          "width": 0.6756027458310533
         },
         "mode": "lines",
         "opacity": 0.6756027458310533,
         "type": "scatter",
         "x": [
          1136.14,
          1725.92,
          null
         ],
         "y": [
          1575.86,
          1262.64,
          null
         ]
        },
        {
         "line": {
          "color": "darkgreen",
          "width": 0.6154271552102899
         },
         "mode": "lines",
         "opacity": 0.6154271552102899,
         "type": "scatter",
         "x": [
          1136.14,
          815.38,
          null
         ],
         "y": [
          1575.86,
          1092.04,
          null
         ]
        },
        {
         "line": {
          "color": "darkgreen",
          "width": 0.7001388023593837
         },
         "mode": "lines",
         "opacity": 0.7001388023593837,
         "type": "scatter",
         "x": [
          3415.8,
          3592.8,
          null
         ],
         "y": [
          1165.2,
          1529,
          null
         ]
        },
        {
         "line": {
          "color": "darkgreen",
          "width": 0.7425489766109225
         },
         "mode": "lines",
         "opacity": 0.7425489766109225,
         "type": "scatter",
         "x": [
          3415.8,
          3378.6,
          null
         ],
         "y": [
          1165.2,
          1410.12,
          null
         ]
        },
        {
         "line": {
          "color": "darkgreen",
          "width": 0.7205017800684788
         },
         "mode": "lines",
         "opacity": 0.7205017800684788,
         "type": "scatter",
         "x": [
          3415.8,
          2786,
          null
         ],
         "y": [
          1165.2,
          1435.92,
          null
         ]
        },
        {
         "line": {
          "color": "darkgreen",
          "width": 0.6962116636437916
         },
         "mode": "lines",
         "opacity": 0.6962116636437916,
         "type": "scatter",
         "x": [
          3415.8,
          3403,
          null
         ],
         "y": [
          1165.2,
          1271.52,
          null
         ]
        },
        {
         "line": {
          "color": "darkgreen",
          "width": 0.706258242403718
         },
         "mode": "lines",
         "opacity": 0.706258242403718,
         "type": "scatter",
         "x": [
          3415.8,
          3066,
          null
         ],
         "y": [
          1165.2,
          853.32,
          null
         ]
        },
        {
         "line": {
          "color": "darkgreen",
          "width": 0.6090473160656117
         },
         "mode": "lines",
         "opacity": 0.6090473160656117,
         "type": "scatter",
         "x": [
          3415.8,
          3752.8,
          null
         ],
         "y": [
          1165.2,
          1427.3,
          null
         ]
        },
        {
         "line": {
          "color": "darkgreen",
          "width": 0.6725490578179311
         },
         "mode": "lines",
         "opacity": 0.6725490578179311,
         "type": "scatter",
         "x": [
          3415.8,
          3018.8,
          null
         ],
         "y": [
          1165.2,
          978.4,
          null
         ]
        },
        {
         "line": {
          "color": "darkgreen",
          "width": 0.656140059493398
         },
         "mode": "lines",
         "opacity": 0.656140059493398,
         "type": "scatter",
         "x": [
          3415.8,
          3793.6,
          null
         ],
         "y": [
          1165.2,
          1279.36,
          null
         ]
        },
        {
         "line": {
          "color": "darkgreen",
          "width": 0.6974702436453097
         },
         "mode": "lines",
         "opacity": 0.6974702436453097,
         "type": "scatter",
         "x": [
          3415.8,
          3620.4,
          null
         ],
         "y": [
          1165.2,
          938.62,
          null
         ]
        },
        {
         "line": {
          "color": "darkgreen",
          "width": 0.6082307888038548
         },
         "mode": "lines",
         "opacity": 0.6082307888038548,
         "type": "scatter",
         "x": [
          3415.8,
          3409.8,
          null
         ],
         "y": [
          1165.2,
          1713.8,
          null
         ]
        },
        {
         "line": {
          "color": "darkgreen",
          "width": 0.6833957441320856
         },
         "mode": "lines",
         "opacity": 0.6833957441320856,
         "type": "scatter",
         "x": [
          3415.8,
          4012,
          null
         ],
         "y": [
          1165.2,
          1206,
          null
         ]
        },
        {
         "line": {
          "color": "darkgreen",
          "width": 0.7365183618438045
         },
         "mode": "lines",
         "opacity": 0.7365183618438045,
         "type": "scatter",
         "x": [
          3415.8,
          3355.6,
          null
         ],
         "y": [
          1165.2,
          580.7,
          null
         ]
        },
        {
         "line": {
          "color": "darkgreen",
          "width": 0.6249689160064585
         },
         "mode": "lines",
         "opacity": 0.6249689160064585,
         "type": "scatter",
         "x": [
          3415.8,
          3840.4,
          null
         ],
         "y": [
          1165.2,
          1096.56,
          null
         ]
        },
        {
         "line": {
          "color": "darkgreen",
          "width": 0.6200369432494158
         },
         "mode": "lines",
         "opacity": 0.6200369432494158,
         "type": "scatter",
         "x": [
          3592.8,
          3378.6,
          null
         ],
         "y": [
          1529,
          1410.12,
          null
         ]
        },
        {
         "line": {
          "color": "darkgreen",
          "width": 0.6254127642857159
         },
         "mode": "lines",
         "opacity": 0.6254127642857159,
         "type": "scatter",
         "x": [
          3592.8,
          2786,
          null
         ],
         "y": [
          1529,
          1435.92,
          null
         ]
        },
        {
         "line": {
          "color": "darkgreen",
          "width": 0.6337269605495808
         },
         "mode": "lines",
         "opacity": 0.6337269605495808,
         "type": "scatter",
         "x": [
          3592.8,
          3403,
          null
         ],
         "y": [
          1529,
          1271.52,
          null
         ]
        },
        {
         "line": {
          "color": "darkgreen",
          "width": 0.6927009619223248
         },
         "mode": "lines",
         "opacity": 0.6927009619223248,
         "type": "scatter",
         "x": [
          3592.8,
          3752.8,
          null
         ],
         "y": [
          1529,
          1427.3,
          null
         ]
        },
        {
         "line": {
          "color": "darkgreen",
          "width": 0.6580529010954961
         },
         "mode": "lines",
         "opacity": 0.6580529010954961,
         "type": "scatter",
         "x": [
          3592.8,
          3878.4,
          null
         ],
         "y": [
          1529,
          1617.34,
          null
         ]
        },
        {
         "line": {
          "color": "darkgreen",
          "width": 0.6193920458860286
         },
         "mode": "lines",
         "opacity": 0.6193920458860286,
         "type": "scatter",
         "x": [
          3592.8,
          3888.6,
          null
         ],
         "y": [
          1529,
          2012,
          null
         ]
        },
        {
         "line": {
          "color": "darkgreen",
          "width": 0.8149671979115443
         },
         "mode": "lines",
         "opacity": 0.8149671979115443,
         "type": "scatter",
         "x": [
          3592.8,
          3793.6,
          null
         ],
         "y": [
          1529,
          1279.36,
          null
         ]
        },
        {
         "line": {
          "color": "darkgreen",
          "width": 0.783367131449665
         },
         "mode": "lines",
         "opacity": 0.783367131449665,
         "type": "scatter",
         "x": [
          3592.8,
          4173.4,
          null
         ],
         "y": [
          1529,
          1653.84,
          null
         ]
        },
        {
         "line": {
          "color": "darkgreen",
          "width": 0.9461247482828622
         },
         "mode": "lines",
         "opacity": 0.9461247482828622,
         "type": "scatter",
         "x": [
          3592.8,
          4012,
          null
         ],
         "y": [
          1529,
          1206,
          null
         ]
        },
        {
         "line": {
          "color": "darkgreen",
          "width": 0.8302387433430958
         },
         "mode": "lines",
         "opacity": 0.8302387433430958,
         "type": "scatter",
         "x": [
          3592.8,
          3840.4,
          null
         ],
         "y": [
          1529,
          1096.56,
          null
         ]
        },
        {
         "line": {
          "color": "darkgreen",
          "width": 0.6239722624771209
         },
         "mode": "lines",
         "opacity": 0.6239722624771209,
         "type": "scatter",
         "x": [
          1630.62,
          2786,
          null
         ],
         "y": [
          1518.82,
          1435.92,
          null
         ]
        },
        {
         "line": {
          "color": "darkgreen",
          "width": 0.6178758136482333
         },
         "mode": "lines",
         "opacity": 0.6178758136482333,
         "type": "scatter",
         "x": [
          1630.62,
          1154.84,
          null
         ],
         "y": [
          1518.82,
          1938.66,
          null
         ]
        },
        {
         "line": {
          "color": "darkgreen",
          "width": 0.6007779103686233
         },
         "mode": "lines",
         "opacity": 0.6007779103686233,
         "type": "scatter",
         "x": [
          1630.62,
          1063.46,
          null
         ],
         "y": [
          1518.82,
          1667.5,
          null
         ]
        },
        {
         "line": {
          "color": "darkgreen",
          "width": 0.6485151689048804
         },
         "mode": "lines",
         "opacity": 0.6485151689048804,
         "type": "scatter",
         "x": [
          1630.62,
          1456.14,
          null
         ],
         "y": [
          1518.82,
          1556.5,
          null
         ]
        },
        {
         "line": {
          "color": "darkgreen",
          "width": 0.6607861083325806
         },
         "mode": "lines",
         "opacity": 0.6607861083325806,
         "type": "scatter",
         "x": [
          1630.62,
          1560.02,
          null
         ],
         "y": [
          1518.82,
          1865.2,
          null
         ]
        },
        {
         "line": {
          "color": "darkgreen",
          "width": 0.6085369075709081
         },
         "mode": "lines",
         "opacity": 0.6085369075709081,
         "type": "scatter",
         "x": [
          1630.62,
          1402.42,
          null
         ],
         "y": [
          1518.82,
          1954.44,
          null
         ]
        },
        {
         "line": {
          "color": "darkgreen",
          "width": 0.6553080930080228
         },
         "mode": "lines",
         "opacity": 0.6553080930080228,
         "type": "scatter",
         "x": [
          1630.62,
          1217.68,
          null
         ],
         "y": [
          1518.82,
          1838.34,
          null
         ]
        },
        {
         "line": {
          "color": "darkgreen",
          "width": 0.6462699842898603
         },
         "mode": "lines",
         "opacity": 0.6462699842898603,
         "type": "scatter",
         "x": [
          1630.62,
          1087.36,
          null
         ],
         "y": [
          1518.82,
          1009.1,
          null
         ]
        },
        {
         "line": {
          "color": "darkgreen",
          "width": 0.7025262450944673
         },
         "mode": "lines",
         "opacity": 0.7025262450944673,
         "type": "scatter",
         "x": [
          1630.62,
          1007.88,
          null
         ],
         "y": [
          1518.82,
          1342.6,
          null
         ]
        },
        {
         "line": {
          "color": "darkgreen",
          "width": 0.6149804156647043
         },
         "mode": "lines",
         "opacity": 0.6149804156647043,
         "type": "scatter",
         "x": [
          1630.62,
          1205.78,
          null
         ],
         "y": [
          1518.82,
          1345.12,
          null
         ]
        },
        {
         "line": {
          "color": "darkgreen",
          "width": 0.676529445173782
         },
         "mode": "lines",
         "opacity": 0.676529445173782,
         "type": "scatter",
         "x": [
          3378.6,
          2786,
          null
         ],
         "y": [
          1410.12,
          1435.92,
          null
         ]
        },
        {
         "line": {
          "color": "darkgreen",
          "width": 0.6363572165525118
         },
         "mode": "lines",
         "opacity": 0.6363572165525118,
         "type": "scatter",
         "x": [
          3378.6,
          3403,
          null
         ],
         "y": [
          1410.12,
          1271.52,
          null
         ]
        },
        {
         "line": {
          "color": "darkgreen",
          "width": 0.6229615154740459
         },
         "mode": "lines",
         "opacity": 0.6229615154740459,
         "type": "scatter",
         "x": [
          3378.6,
          3878.4,
          null
         ],
         "y": [
          1410.12,
          1617.34,
          null
         ]
        },
        {
         "line": {
          "color": "darkgreen",
          "width": 0.6570431385057813
         },
         "mode": "lines",
         "opacity": 0.6570431385057813,
         "type": "scatter",
         "x": [
          3378.6,
          3620.4,
          null
         ],
         "y": [
          1410.12,
          938.62,
          null
         ]
        },
        {
         "line": {
          "color": "darkgreen",
          "width": 0.6027800986849603
         },
         "mode": "lines",
         "opacity": 0.6027800986849603,
         "type": "scatter",
         "x": [
          2786,
          3403,
          null
         ],
         "y": [
          1435.92,
          1271.52,
          null
         ]
        },
        {
         "line": {
          "color": "darkgreen",
          "width": 0.7352475401324551
         },
         "mode": "lines",
         "opacity": 0.7352475401324551,
         "type": "scatter",
         "x": [
          1258.22,
          866.2,
          null
         ],
         "y": [
          1185.12,
          1236.28,
          null
         ]
        },
        {
         "line": {
          "color": "darkgreen",
          "width": 0.7278998522107025
         },
         "mode": "lines",
         "opacity": 0.7278998522107025,
         "type": "scatter",
         "x": [
          1258.22,
          1295.88,
          null
         ],
         "y": [
          1185.12,
          1085.18,
          null
         ]
        },
        {
         "line": {
          "color": "darkgreen",
          "width": 0.68098890139367
         },
         "mode": "lines",
         "opacity": 0.68098890139367,
         "type": "scatter",
         "x": [
          1258.22,
          1087.36,
          null
         ],
         "y": [
          1185.12,
          1009.1,
          null
         ]
        },
        {
         "line": {
          "color": "darkgreen",
          "width": 0.763726549262467
         },
         "mode": "lines",
         "opacity": 0.763726549262467,
         "type": "scatter",
         "x": [
          1258.22,
          1205.78,
          null
         ],
         "y": [
          1185.12,
          1345.12,
          null
         ]
        },
        {
         "line": {
          "color": "darkgreen",
          "width": 0.6560048263496235
         },
         "mode": "lines",
         "opacity": 0.6560048263496235,
         "type": "scatter",
         "x": [
          1258.22,
          1725.92,
          null
         ],
         "y": [
          1185.12,
          1262.64,
          null
         ]
        },
        {
         "line": {
          "color": "darkgreen",
          "width": 0.6305128598152162
         },
         "mode": "lines",
         "opacity": 0.6305128598152162,
         "type": "scatter",
         "x": [
          1258.22,
          815.38,
          null
         ],
         "y": [
          1185.12,
          1092.04,
          null
         ]
        },
        {
         "line": {
          "color": "darkgreen",
          "width": 0.7236797531172205
         },
         "mode": "lines",
         "opacity": 0.7236797531172205,
         "type": "scatter",
         "x": [
          3403,
          3752.8,
          null
         ],
         "y": [
          1271.52,
          1427.3,
          null
         ]
        },
        {
         "line": {
          "color": "darkgreen",
          "width": 0.653014756817781
         },
         "mode": "lines",
         "opacity": 0.653014756817781,
         "type": "scatter",
         "x": [
          3403,
          3018.8,
          null
         ],
         "y": [
          1271.52,
          978.4,
          null
         ]
        },
        {
         "line": {
          "color": "darkgreen",
          "width": 0.6021469042245009
         },
         "mode": "lines",
         "opacity": 0.6021469042245009,
         "type": "scatter",
         "x": [
          3403,
          3793.6,
          null
         ],
         "y": [
          1271.52,
          1279.36,
          null
         ]
        },
        {
         "line": {
          "color": "darkgreen",
          "width": 0.6168766405174038
         },
         "mode": "lines",
         "opacity": 0.6168766405174038,
         "type": "scatter",
         "x": [
          3403,
          4012,
          null
         ],
         "y": [
          1271.52,
          1206,
          null
         ]
        },
        {
         "line": {
          "color": "darkgreen",
          "width": 0.681448374139174
         },
         "mode": "lines",
         "opacity": 0.681448374139174,
         "type": "scatter",
         "x": [
          1154.84,
          1063.46,
          null
         ],
         "y": [
          1938.66,
          1667.5,
          null
         ]
        },
        {
         "line": {
          "color": "darkgreen",
          "width": 0.6342076750358349
         },
         "mode": "lines",
         "opacity": 0.6342076750358349,
         "type": "scatter",
         "x": [
          1154.84,
          1004.72,
          null
         ],
         "y": [
          1938.66,
          2127.8,
          null
         ]
        },
        {
         "line": {
          "color": "darkgreen",
          "width": 0.6779944236156472
         },
         "mode": "lines",
         "opacity": 0.6779944236156472,
         "type": "scatter",
         "x": [
          1154.84,
          630.44,
          null
         ],
         "y": [
          1938.66,
          2049.4,
          null
         ]
        },
        {
         "line": {
          "color": "darkgreen",
          "width": 0.6269304830837928
         },
         "mode": "lines",
         "opacity": 0.6269304830837928,
         "type": "scatter",
         "x": [
          1154.84,
          816.54,
          null
         ],
         "y": [
          1938.66,
          1886.42,
          null
         ]
        },
        {
         "line": {
          "color": "darkgreen",
          "width": 0.6733060561003386
         },
         "mode": "lines",
         "opacity": 0.6733060561003386,
         "type": "scatter",
         "x": [
          1154.84,
          1217.68,
          null
         ],
         "y": [
          1938.66,
          1838.34,
          null
         ]
        },
        {
         "line": {
          "color": "darkgreen",
          "width": 0.6343896697657267
         },
         "mode": "lines",
         "opacity": 0.6343896697657267,
         "type": "scatter",
         "x": [
          1154.84,
          868.54,
          null
         ],
         "y": [
          1938.66,
          2021,
          null
         ]
        },
        {
         "line": {
          "color": "darkgreen",
          "width": 0.6225073783176072
         },
         "mode": "lines",
         "opacity": 0.6225073783176072,
         "type": "scatter",
         "x": [
          1063.46,
          816.54,
          null
         ],
         "y": [
          1667.5,
          1886.42,
          null
         ]
        },
        {
         "line": {
          "color": "darkgreen",
          "width": 0.9532896875453069
         },
         "mode": "lines",
         "opacity": 0.9532896875453069,
         "type": "scatter",
         "x": [
          1063.46,
          590.6,
          null
         ],
         "y": [
          1667.5,
          1623.72,
          null
         ]
        },
        {
         "line": {
          "color": "darkgreen",
          "width": 0.6302124989422783
         },
         "mode": "lines",
         "opacity": 0.6302124989422783,
         "type": "scatter",
         "x": [
          1063.46,
          1205.78,
          null
         ],
         "y": [
          1667.5,
          1345.12,
          null
         ]
        },
        {
         "line": {
          "color": "darkgreen",
          "width": 0.6552678181367331
         },
         "mode": "lines",
         "opacity": 0.6552678181367331,
         "type": "scatter",
         "x": [
          1456.14,
          1217.68,
          null
         ],
         "y": [
          1556.5,
          1838.34,
          null
         ]
        },
        {
         "line": {
          "color": "darkgreen",
          "width": 0.6691374456174527
         },
         "mode": "lines",
         "opacity": 0.6691374456174527,
         "type": "scatter",
         "x": [
          1456.14,
          1725.92,
          null
         ],
         "y": [
          1556.5,
          1262.64,
          null
         ]
        },
        {
         "line": {
          "color": "darkgreen",
          "width": 0.6769140757530065
         },
         "mode": "lines",
         "opacity": 0.6769140757530065,
         "type": "scatter",
         "x": [
          1004.72,
          630.44,
          null
         ],
         "y": [
          2127.8,
          2049.4,
          null
         ]
        },
        {
         "line": {
          "color": "darkgreen",
          "width": 0.6145350648903352
         },
         "mode": "lines",
         "opacity": 0.6145350648903352,
         "type": "scatter",
         "x": [
          1004.72,
          1217.68,
          null
         ],
         "y": [
          2127.8,
          1838.34,
          null
         ]
        },
        {
         "line": {
          "color": "darkgreen",
          "width": 0.6067825669403287
         },
         "mode": "lines",
         "opacity": 0.6067825669403287,
         "type": "scatter",
         "x": [
          1004.72,
          868.54,
          null
         ],
         "y": [
          2127.8,
          2021,
          null
         ]
        },
        {
         "line": {
          "color": "darkgreen",
          "width": 0.6281691998316704
         },
         "mode": "lines",
         "opacity": 0.6281691998316704,
         "type": "scatter",
         "x": [
          1560.02,
          1217.68,
          null
         ],
         "y": [
          1865.2,
          1838.34,
          null
         ]
        },
        {
         "line": {
          "color": "darkgreen",
          "width": 0.6105263131452907
         },
         "mode": "lines",
         "opacity": 0.6105263131452907,
         "type": "scatter",
         "x": [
          630.44,
          813.56,
          null
         ],
         "y": [
          2049.4,
          1643.16,
          null
         ]
        },
        {
         "line": {
          "color": "darkgreen",
          "width": 0.6041681947049306
         },
         "mode": "lines",
         "opacity": 0.6041681947049306,
         "type": "scatter",
         "x": [
          630.44,
          112.374,
          null
         ],
         "y": [
          2049.4,
          2435.4,
          null
         ]
        },
        {
         "line": {
          "color": "darkgreen",
          "width": 0.7227812322991857
         },
         "mode": "lines",
         "opacity": 0.7227812322991857,
         "type": "scatter",
         "x": [
          630.44,
          868.54,
          null
         ],
         "y": [
          2049.4,
          2021,
          null
         ]
        },
        {
         "line": {
          "color": "darkgreen",
          "width": 0.7446507496988276
         },
         "mode": "lines",
         "opacity": 0.7446507496988276,
         "type": "scatter",
         "x": [
          3066,
          3018.8,
          null
         ],
         "y": [
          853.32,
          978.4,
          null
         ]
        },
        {
         "line": {
          "color": "darkgreen",
          "width": 0.7332922125341923
         },
         "mode": "lines",
         "opacity": 0.7332922125341923,
         "type": "scatter",
         "x": [
          3066,
          2443.4,
          null
         ],
         "y": [
          853.32,
          1030.4,
          null
         ]
        },
        {
         "line": {
          "color": "darkgreen",
          "width": 0.6153685646300352
         },
         "mode": "lines",
         "opacity": 0.6153685646300352,
         "type": "scatter",
         "x": [
          3066,
          3620.4,
          null
         ],
         "y": [
          853.32,
          938.62,
          null
         ]
        },
        {
         "line": {
          "color": "darkgreen",
          "width": 0.6119337770480838
         },
         "mode": "lines",
         "opacity": 0.6119337770480838,
         "type": "scatter",
         "x": [
          3066,
          3355.6,
          null
         ],
         "y": [
          853.32,
          580.7,
          null
         ]
        },
        {
         "line": {
          "color": "darkgreen",
          "width": 0.6551396817404147
         },
         "mode": "lines",
         "opacity": 0.6551396817404147,
         "type": "scatter",
         "x": [
          816.54,
          1217.68,
          null
         ],
         "y": [
          1886.42,
          1838.34,
          null
         ]
        },
        {
         "line": {
          "color": "darkgreen",
          "width": 0.6053392751621074
         },
         "mode": "lines",
         "opacity": 0.6053392751621074,
         "type": "scatter",
         "x": [
          816.54,
          868.54,
          null
         ],
         "y": [
          1886.42,
          2021,
          null
         ]
        },
        {
         "line": {
          "color": "darkgreen",
          "width": 0.8924655965786988
         },
         "mode": "lines",
         "opacity": 0.8924655965786988,
         "type": "scatter",
         "x": [
          4571.2,
          4012,
          null
         ],
         "y": [
          1269.26,
          1206,
          null
         ]
        },
        {
         "line": {
          "color": "darkgreen",
          "width": 0.6398925493336245
         },
         "mode": "lines",
         "opacity": 0.6398925493336245,
         "type": "scatter",
         "x": [
          951.04,
          1087.36,
          null
         ],
         "y": [
          465.9,
          1009.1,
          null
         ]
        },
        {
         "line": {
          "color": "darkgreen",
          "width": 0.7082083861295889
         },
         "mode": "lines",
         "opacity": 0.7082083861295889,
         "type": "scatter",
         "x": [
          3018.8,
          2443.4,
          null
         ],
         "y": [
          978.4,
          1030.4,
          null
         ]
        },
        {
         "line": {
          "color": "darkgreen",
          "width": 0.6042189106972743
         },
         "mode": "lines",
         "opacity": 0.6042189106972743,
         "type": "scatter",
         "x": [
          3018.8,
          3355.6,
          null
         ],
         "y": [
          978.4,
          580.7,
          null
         ]
        },
        {
         "line": {
          "color": "darkgreen",
          "width": 0.7247467994025996
         },
         "mode": "lines",
         "opacity": 0.7247467994025996,
         "type": "scatter",
         "x": [
          3878.4,
          3793.6,
          null
         ],
         "y": [
          1617.34,
          1279.36,
          null
         ]
        },
        {
         "line": {
          "color": "darkgreen",
          "width": 0.6664018888107169
         },
         "mode": "lines",
         "opacity": 0.6664018888107169,
         "type": "scatter",
         "x": [
          3878.4,
          4012,
          null
         ],
         "y": [
          1617.34,
          1206,
          null
         ]
        },
        {
         "line": {
          "color": "darkgreen",
          "width": 0.6775859470363493
         },
         "mode": "lines",
         "opacity": 0.6775859470363493,
         "type": "scatter",
         "x": [
          866.2,
          1295.88,
          null
         ],
         "y": [
          1236.28,
          1085.18,
          null
         ]
        },
        {
         "line": {
          "color": "darkgreen",
          "width": 0.6782237511368694
         },
         "mode": "lines",
         "opacity": 0.6782237511368694,
         "type": "scatter",
         "x": [
          866.2,
          813.56,
          null
         ],
         "y": [
          1236.28,
          1643.16,
          null
         ]
        },
        {
         "line": {
          "color": "darkgreen",
          "width": 0.6625097589747317
         },
         "mode": "lines",
         "opacity": 0.6625097589747317,
         "type": "scatter",
         "x": [
          866.2,
          1087.36,
          null
         ],
         "y": [
          1236.28,
          1009.1,
          null
         ]
        },
        {
         "line": {
          "color": "darkgreen",
          "width": 0.7712415791181313
         },
         "mode": "lines",
         "opacity": 0.7712415791181313,
         "type": "scatter",
         "x": [
          866.2,
          1205.78,
          null
         ],
         "y": [
          1236.28,
          1345.12,
          null
         ]
        },
        {
         "line": {
          "color": "darkgreen",
          "width": 0.6406444540421773
         },
         "mode": "lines",
         "opacity": 0.6406444540421773,
         "type": "scatter",
         "x": [
          1295.88,
          1087.36,
          null
         ],
         "y": [
          1085.18,
          1009.1,
          null
         ]
        },
        {
         "line": {
          "color": "darkgreen",
          "width": 0.6970907800360665
         },
         "mode": "lines",
         "opacity": 0.6970907800360665,
         "type": "scatter",
         "x": [
          1295.88,
          1205.78,
          null
         ],
         "y": [
          1085.18,
          1345.12,
          null
         ]
        },
        {
         "line": {
          "color": "darkgreen",
          "width": 0.6107921942382658
         },
         "mode": "lines",
         "opacity": 0.6107921942382658,
         "type": "scatter",
         "x": [
          1295.88,
          815.38,
          null
         ],
         "y": [
          1085.18,
          1092.04,
          null
         ]
        },
        {
         "line": {
          "color": "darkgreen",
          "width": 0.6456493367707559
         },
         "mode": "lines",
         "opacity": 0.6456493367707559,
         "type": "scatter",
         "x": [
          3555.6,
          3355.6,
          null
         ],
         "y": [
          35.478,
          580.7,
          null
         ]
        },
        {
         "line": {
          "color": "darkgreen",
          "width": 1
         },
         "mode": "lines",
         "opacity": 1,
         "type": "scatter",
         "x": [
          813.56,
          590.6,
          null
         ],
         "y": [
          1643.16,
          1623.72,
          null
         ]
        },
        {
         "line": {
          "color": "darkgreen",
          "width": 0.7171561820021768
         },
         "mode": "lines",
         "opacity": 0.7171561820021768,
         "type": "scatter",
         "x": [
          813.56,
          1217.68,
          null
         ],
         "y": [
          1643.16,
          1838.34,
          null
         ]
        },
        {
         "line": {
          "color": "darkgreen",
          "width": 0.6274624018723586
         },
         "mode": "lines",
         "opacity": 0.6274624018723586,
         "type": "scatter",
         "x": [
          813.56,
          868.54,
          null
         ],
         "y": [
          1643.16,
          2021,
          null
         ]
        },
        {
         "line": {
          "color": "darkgreen",
          "width": 0.6809733171404255
         },
         "mode": "lines",
         "opacity": 0.6809733171404255,
         "type": "scatter",
         "x": [
          813.56,
          1205.78,
          null
         ],
         "y": [
          1643.16,
          1345.12,
          null
         ]
        },
        {
         "line": {
          "color": "darkgreen",
          "width": 0.6332116010375535
         },
         "mode": "lines",
         "opacity": 0.6332116010375535,
         "type": "scatter",
         "x": [
          738.84,
          1087.36,
          null
         ],
         "y": [
          594.08,
          1009.1,
          null
         ]
        },
        {
         "line": {
          "color": "darkgreen",
          "width": 0.7530103295252888
         },
         "mode": "lines",
         "opacity": 0.7530103295252888,
         "type": "scatter",
         "x": [
          3793.6,
          3840.4,
          null
         ],
         "y": [
          1279.36,
          1096.56,
          null
         ]
        },
        {
         "line": {
          "color": "darkgreen",
          "width": 0.6146924090600359
         },
         "mode": "lines",
         "opacity": 0.6146924090600359,
         "type": "scatter",
         "x": [
          308.72,
          815.38,
          null
         ],
         "y": [
          836.54,
          1092.04,
          null
         ]
        },
        {
         "line": {
          "color": "darkgreen",
          "width": 0.6103364575126095
         },
         "mode": "lines",
         "opacity": 0.6103364575126095,
         "type": "scatter",
         "x": [
          4136.4,
          3620.4,
          null
         ],
         "y": [
          713.44,
          938.62,
          null
         ]
        },
        {
         "line": {
          "color": "darkgreen",
          "width": 0.792226780072224
         },
         "mode": "lines",
         "opacity": 0.792226780072224,
         "type": "scatter",
         "x": [
          4136.4,
          4012,
          null
         ],
         "y": [
          713.44,
          1206,
          null
         ]
        },
        {
         "line": {
          "color": "darkgreen",
          "width": 0.6142326156891721
         },
         "mode": "lines",
         "opacity": 0.6142326156891721,
         "type": "scatter",
         "x": [
          1217.68,
          868.54,
          null
         ],
         "y": [
          1838.34,
          2021,
          null
         ]
        },
        {
         "line": {
          "color": "darkgreen",
          "width": 0.9917356337607353
         },
         "mode": "lines",
         "opacity": 0.9917356337607353,
         "type": "scatter",
         "x": [
          2443.4,
          1725.92,
          null
         ],
         "y": [
          1030.4,
          1262.64,
          null
         ]
        },
        {
         "line": {
          "color": "darkgreen",
          "width": 0.6326456243993493
         },
         "mode": "lines",
         "opacity": 0.6326456243993493,
         "type": "scatter",
         "x": [
          3620.4,
          4012,
          null
         ],
         "y": [
          938.62,
          1206,
          null
         ]
        },
        {
         "line": {
          "color": "darkgreen",
          "width": 0.7034210554503234
         },
         "mode": "lines",
         "opacity": 0.7034210554503234,
         "type": "scatter",
         "x": [
          4617.6,
          4012,
          null
         ],
         "y": [
          999.96,
          1206,
          null
         ]
        },
        {
         "line": {
          "color": "darkgreen",
          "width": 0.603784340975915
         },
         "mode": "lines",
         "opacity": 0.603784340975915,
         "type": "scatter",
         "x": [
          1087.36,
          1007.88,
          null
         ],
         "y": [
          1009.1,
          1342.6,
          null
         ]
        },
        {
         "line": {
          "color": "darkgreen",
          "width": 0.6577912265852228
         },
         "mode": "lines",
         "opacity": 0.6577912265852228,
         "type": "scatter",
         "x": [
          1087.36,
          1205.78,
          null
         ],
         "y": [
          1009.1,
          1345.12,
          null
         ]
        },
        {
         "line": {
          "color": "darkgreen",
          "width": 0.6080354169991918
         },
         "mode": "lines",
         "opacity": 0.6080354169991918,
         "type": "scatter",
         "x": [
          1087.36,
          815.38,
          null
         ],
         "y": [
          1009.1,
          1092.04,
          null
         ]
        },
        {
         "line": {
          "color": "darkgreen",
          "width": 0.9057542432250564
         },
         "mode": "lines",
         "opacity": 0.9057542432250564,
         "type": "scatter",
         "x": [
          4173.4,
          4012,
          null
         ],
         "y": [
          1653.84,
          1206,
          null
         ]
        },
        {
         "line": {
          "color": "darkgreen",
          "width": 0.7712126638082482
         },
         "mode": "lines",
         "opacity": 0.7712126638082482,
         "type": "scatter",
         "x": [
          1205.78,
          815.38,
          null
         ],
         "y": [
          1345.12,
          1092.04,
          null
         ]
        },
        {
         "hoverinfo": "text",
         "marker": {
          "color": [
           21,
           13,
           11,
           11,
           6,
           5,
           7,
           8,
           8,
           6,
           4,
           5,
           3,
           6,
           5,
           3,
           5,
           2,
           1,
           1,
           5,
           4,
           6,
           6,
           1,
           1,
           7,
           1,
           3,
           5,
           1,
           2,
           9,
           0,
           3,
           5,
           1,
           10,
           1,
           2,
           0,
           3,
           1,
           9,
           7,
           4,
           9,
           4,
           6,
           3
          ],
          "colorbar": {
           "thickness": 15,
           "title": {
            "side": "right",
            "text": "Adjacency num"
           },
           "xanchor": "left"
          },
          "colorscale": [
           [
            0,
            "rgb(23, 28, 66)"
           ],
           [
            0.09090909090909091,
            "rgb(41, 58, 143)"
           ],
           [
            0.18181818181818182,
            "rgb(11, 102, 189)"
           ],
           [
            0.2727272727272727,
            "rgb(69, 144, 185)"
           ],
           [
            0.36363636363636365,
            "rgb(142, 181, 194)"
           ],
           [
            0.45454545454545453,
            "rgb(210, 216, 219)"
           ],
           [
            0.5454545454545454,
            "rgb(230, 210, 204)"
           ],
           [
            0.6363636363636364,
            "rgb(213, 157, 137)"
           ],
           [
            0.7272727272727273,
            "rgb(196, 101, 72)"
           ],
           [
            0.8181818181818182,
            "rgb(172, 43, 36)"
           ],
           [
            0.9090909090909091,
            "rgb(120, 14, 40)"
           ],
           [
            1,
            "rgb(60, 9, 17)"
           ]
          ],
          "line": {
           "width": 1
          },
          "reversescale": true,
          "showscale": true,
          "size": [
           31.168048229088168,
           40,
           19.72871137905049,
           21.26601356443105,
           13.805576488319517,
           32.56970610399397,
           12,
           16.51846269781462,
           12,
           12,
           12,
           12,
           12,
           12,
           12,
           12,
           12,
           12,
           12,
           12,
           12,
           12,
           12,
           12,
           12,
           12,
           12,
           12,
           12,
           12,
           12,
           12,
           12,
           12,
           12,
           12,
           12,
           12,
           12,
           12,
           12,
           12,
           12,
           12,
           12,
           12,
           12,
           12,
           12,
           12
          ]
         },
         "mode": "markers",
         "text": [
          "Username: zpao                     <br>Files changed: 2086                     <br>Activity interval: [2013. 2016.]                     <br>Adjacency num: 21",
          "Username: gaearon                     <br>Files changed: 2672                     <br>Activity interval: [2015. 2021.]                     <br>Adjacency num: 13",
          "Username: bvaughn                     <br>Files changed: 1327                     <br>Activity interval: [2018. 2020.]                     <br>Adjacency num: 11",
          "Username: sophiebits                     <br>Files changed: 1429                     <br>Activity interval: [2013. 2017.]                     <br>Adjacency num: 11",
          "Username: acdlite                     <br>Files changed: 934                     <br>Activity interval: [2015. 2021.]                     <br>Adjacency num: 6",
          "Username: sebmarkbage                     <br>Files changed: 2179                     <br>Activity interval: [2013 2021]                     <br>Adjacency num: 5",
          "Username: jimfb                     <br>Files changed: 489                     <br>Activity interval: [2014. 2016.]                     <br>Adjacency num: 7",
          "Username: trueadm                     <br>Files changed: 1114                     <br>Activity interval: [2017. 2021.]                     <br>Adjacency num: 8",
          "Username: petehunt                     <br>Files changed: 594                     <br>Activity interval: [2013. 2014.]                     <br>Adjacency num: 8",
          "Username: chenglou                     <br>Files changed: 279                     <br>Activity interval: [2013. 2015.]                     <br>Adjacency num: 6",
          "Username: vjeux                     <br>Files changed: 392                     <br>Activity interval: [2013. 2017.]                     <br>Adjacency num: 4",
          "Username: benjamn                     <br>Files changed: 106                     <br>Activity interval: [2013. 2014.]                     <br>Adjacency num: 5",
          "Username: yungsters                     <br>Files changed: 350                     <br>Activity interval: [2013. 2018.]                     <br>Adjacency num: 3",
          "Username: subtleGradient                     <br>Files changed: 70                     <br>Activity interval: [2013. 2014.]                     <br>Adjacency num: 6",
          "Username: nhunzaker                     <br>Files changed: 244                     <br>Activity interval: [2015. 2019.]                     <br>Adjacency num: 5",
          "Username: necolas                     <br>Files changed: 181                     <br>Activity interval: [2019. 2020.]                     <br>Adjacency num: 3",
          "Username: syranide                     <br>Files changed: 99                     <br>Activity interval: [2013. 2015.]                     <br>Adjacency num: 5",
          "Username: cpojer                     <br>Files changed: 213                     <br>Activity interval: [2013. 2018.]                     <br>Adjacency num: 2",
          "Username: flarnie                     <br>Files changed: 139                     <br>Activity interval: [2016. 2018.]                     <br>Adjacency num: 1",
          "Username: koba04                     <br>Files changed: 116                     <br>Activity interval: [2014. 2020.]                     <br>Adjacency num: 1",
          "Username: aweary                     <br>Files changed: 229                     <br>Activity interval: [2016. 2019.]                     <br>Adjacency num: 5",
          "Username: rickhanlonii                     <br>Files changed: 227                     <br>Activity interval: [2019. 2021.]                     <br>Adjacency num: 4",
          "Username: marocchino                     <br>Files changed: 51                     <br>Activity interval: [2015. 2015.]                     <br>Adjacency num: 6",
          "Username: kohei-takata                     <br>Files changed: 43                     <br>Activity interval: [2015. 2015.]                     <br>Adjacency num: 6",
          "Username: lunaruan                     <br>Files changed: 134                     <br>Activity interval: [2019. 2021.]                     <br>Adjacency num: 1",
          "Username: TheSavior                     <br>Files changed: 43                     <br>Activity interval: [2018. 2020.]                     <br>Adjacency num: 1",
          "Username: chicoxyzzy                     <br>Files changed: 118                     <br>Activity interval: [2014. 2016.]                     <br>Adjacency num: 7",
          "Username: keyz                     <br>Files changed: 120                     <br>Activity interval: [2015. 2017.]                     <br>Adjacency num: 1",
          "Username: mcsheffrey                     <br>Files changed: 89                     <br>Activity interval: [2013. 2013.]                     <br>Adjacency num: 3",
          "Username: eps1lon                     <br>Files changed: 108                     <br>Activity interval: [2019. 2021.]                     <br>Adjacency num: 5",
          "Username: bgw                     <br>Files changed: 237                     <br>Activity interval: [2015. 2015.]                     <br>Adjacency num: 1",
          "Username: NE-SmallTown                     <br>Files changed: 22                     <br>Activity interval: [2017. 2020.]                     <br>Adjacency num: 2",
          "Username: joshduck                     <br>Files changed: 25                     <br>Activity interval: [2013. 2014.]                     <br>Adjacency num: 9",
          "Username: aickin                     <br>Files changed: 29                     <br>Activity interval: [2016. 2018.]                     <br>Adjacency num: 0",
          "Username: jquense                     <br>Files changed: 67                     <br>Activity interval: [2015. 2019.]                     <br>Adjacency num: 3",
          "Username: SimenB                     <br>Files changed: 70                     <br>Activity interval: [2015. 2021.]                     <br>Adjacency num: 5",
          "Username: philipp-spiess                     <br>Files changed: 96                     <br>Activity interval: [2017. 2020.]                     <br>Adjacency num: 1",
          "Username: Daniel15                     <br>Files changed: 268                     <br>Activity interval: [2013. 2019.]                     <br>Adjacency num: 10",
          "Username: iamdustan                     <br>Files changed: 98                     <br>Activity interval: [2015. 2019.]                     <br>Adjacency num: 1",
          "Username: threepointone                     <br>Files changed: 169                     <br>Activity interval: [2019. 2020.]                     <br>Adjacency num: 2",
          "Username: Simek                     <br>Files changed: 18                     <br>Activity interval: [2013. 2018.]                     <br>Adjacency num: 0",
          "Username: fisherwebdev                     <br>Files changed: 32                     <br>Activity interval: [2014. 2015.]                     <br>Adjacency num: 3",
          "Username: fabiomcosta                     <br>Files changed: 18                     <br>Activity interval: [2013. 2015.]                     <br>Adjacency num: 1",
          "Username: sompylasar                     <br>Files changed: 46                     <br>Activity interval: [2018. 2020.]                     <br>Adjacency num: 9",
          "Username: jordwalke                     <br>Files changed: 42                     <br>Activity interval: [2013. 2014.]                     <br>Adjacency num: 7",
          "Username: raphamorim                     <br>Files changed: 269                     <br>Activity interval: [2018. 2018.]                     <br>Adjacency num: 4",
          "Username: arkist                     <br>Files changed: 41                     <br>Activity interval: [2015. 2015.]                     <br>Adjacency num: 9",
          "Username: cody                     <br>Files changed: 21                     <br>Activity interval: [2014. 2016.]                     <br>Adjacency num: 4",
          "Username: iamchenxin                     <br>Files changed: 343                     <br>Activity interval: [2015. 2016.]                     <br>Adjacency num: 6",
          "Username: bl00mber                     <br>Files changed: 52                     <br>Activity interval: [2018. 2021.]                     <br>Adjacency num: 3"
         ],
         "type": "scatter",
         "x": [
          1136.14,
          3415.8,
          3592.8,
          1630.62,
          3378.6,
          2786,
          1258.22,
          3403,
          1154.84,
          1063.46,
          1456.14,
          1004.72,
          1560.02,
          630.44,
          3066,
          3752.8,
          816.54,
          1402.42,
          4571.2,
          951.04,
          3018.8,
          3878.4,
          866.2,
          1295.88,
          3888.6,
          3555.6,
          813.56,
          738.84,
          590.6,
          3793.6,
          308.72,
          4136.4,
          1217.68,
          1972.28,
          2443.4,
          3620.4,
          4617.6,
          1087.36,
          3409.8,
          4173.4,
          2398.2,
          1007.88,
          112.374,
          4012,
          868.54,
          3355.6,
          1205.78,
          1725.92,
          815.38,
          3840.4
         ],
         "y": [
          1575.86,
          1165.2,
          1529,
          1518.82,
          1410.12,
          1435.92,
          1185.12,
          1271.52,
          1938.66,
          1667.5,
          1556.5,
          2127.8,
          1865.2,
          2049.4,
          853.32,
          1427.3,
          1886.42,
          1954.44,
          1269.26,
          465.9,
          978.4,
          1617.34,
          1236.28,
          1085.18,
          2012,
          35.478,
          1643.16,
          594.08,
          1623.72,
          1279.36,
          836.54,
          713.44,
          1838.34,
          884.6,
          1030.4,
          938.62,
          999.96,
          1009.1,
          1713.8,
          1653.84,
          672.6,
          1342.6,
          2435.4,
          1206,
          2021,
          580.7,
          1345.12,
          1262.64,
          1092.04,
          1096.56
         ]
        }
       ],
       "layout": {
        "annotations": [
         {
          "showarrow": false,
          "text": "Params: {'file_coef': 1, 'time_coef': -0.5}, min_value_for_edge: 0.6",
          "x": 0.005,
          "xref": "paper",
          "y": -0.002,
          "yref": "paper"
         }
        ],
        "autosize": true,
        "margin": {
         "b": 20,
         "l": 5,
         "r": 5,
         "t": 40
        },
        "showlegend": false,
        "template": {
         "data": {
          "bar": [
           {
            "error_x": {
             "color": "#2a3f5f"
            },
            "error_y": {
             "color": "#2a3f5f"
            },
            "marker": {
             "line": {
              "color": "#E5ECF6",
              "width": 0.5
             }
            },
            "type": "bar"
           }
          ],
          "barpolar": [
           {
            "marker": {
             "line": {
              "color": "#E5ECF6",
              "width": 0.5
             }
            },
            "type": "barpolar"
           }
          ],
          "carpet": [
           {
            "aaxis": {
             "endlinecolor": "#2a3f5f",
             "gridcolor": "white",
             "linecolor": "white",
             "minorgridcolor": "white",
             "startlinecolor": "#2a3f5f"
            },
            "baxis": {
             "endlinecolor": "#2a3f5f",
             "gridcolor": "white",
             "linecolor": "white",
             "minorgridcolor": "white",
             "startlinecolor": "#2a3f5f"
            },
            "type": "carpet"
           }
          ],
          "choropleth": [
           {
            "colorbar": {
             "outlinewidth": 0,
             "ticks": ""
            },
            "type": "choropleth"
           }
          ],
          "contour": [
           {
            "colorbar": {
             "outlinewidth": 0,
             "ticks": ""
            },
            "colorscale": [
             [
              0,
              "#0d0887"
             ],
             [
              0.1111111111111111,
              "#46039f"
             ],
             [
              0.2222222222222222,
              "#7201a8"
             ],
             [
              0.3333333333333333,
              "#9c179e"
             ],
             [
              0.4444444444444444,
              "#bd3786"
             ],
             [
              0.5555555555555556,
              "#d8576b"
             ],
             [
              0.6666666666666666,
              "#ed7953"
             ],
             [
              0.7777777777777778,
              "#fb9f3a"
             ],
             [
              0.8888888888888888,
              "#fdca26"
             ],
             [
              1,
              "#f0f921"
             ]
            ],
            "type": "contour"
           }
          ],
          "contourcarpet": [
           {
            "colorbar": {
             "outlinewidth": 0,
             "ticks": ""
            },
            "type": "contourcarpet"
           }
          ],
          "heatmap": [
           {
            "colorbar": {
             "outlinewidth": 0,
             "ticks": ""
            },
            "colorscale": [
             [
              0,
              "#0d0887"
             ],
             [
              0.1111111111111111,
              "#46039f"
             ],
             [
              0.2222222222222222,
              "#7201a8"
             ],
             [
              0.3333333333333333,
              "#9c179e"
             ],
             [
              0.4444444444444444,
              "#bd3786"
             ],
             [
              0.5555555555555556,
              "#d8576b"
             ],
             [
              0.6666666666666666,
              "#ed7953"
             ],
             [
              0.7777777777777778,
              "#fb9f3a"
             ],
             [
              0.8888888888888888,
              "#fdca26"
             ],
             [
              1,
              "#f0f921"
             ]
            ],
            "type": "heatmap"
           }
          ],
          "heatmapgl": [
           {
            "colorbar": {
             "outlinewidth": 0,
             "ticks": ""
            },
            "colorscale": [
             [
              0,
              "#0d0887"
             ],
             [
              0.1111111111111111,
              "#46039f"
             ],
             [
              0.2222222222222222,
              "#7201a8"
             ],
             [
              0.3333333333333333,
              "#9c179e"
             ],
             [
              0.4444444444444444,
              "#bd3786"
             ],
             [
              0.5555555555555556,
              "#d8576b"
             ],
             [
              0.6666666666666666,
              "#ed7953"
             ],
             [
              0.7777777777777778,
              "#fb9f3a"
             ],
             [
              0.8888888888888888,
              "#fdca26"
             ],
             [
              1,
              "#f0f921"
             ]
            ],
            "type": "heatmapgl"
           }
          ],
          "histogram": [
           {
            "marker": {
             "colorbar": {
              "outlinewidth": 0,
              "ticks": ""
             }
            },
            "type": "histogram"
           }
          ],
          "histogram2d": [
           {
            "colorbar": {
             "outlinewidth": 0,
             "ticks": ""
            },
            "colorscale": [
             [
              0,
              "#0d0887"
             ],
             [
              0.1111111111111111,
              "#46039f"
             ],
             [
              0.2222222222222222,
              "#7201a8"
             ],
             [
              0.3333333333333333,
              "#9c179e"
             ],
             [
              0.4444444444444444,
              "#bd3786"
             ],
             [
              0.5555555555555556,
              "#d8576b"
             ],
             [
              0.6666666666666666,
              "#ed7953"
             ],
             [
              0.7777777777777778,
              "#fb9f3a"
             ],
             [
              0.8888888888888888,
              "#fdca26"
             ],
             [
              1,
              "#f0f921"
             ]
            ],
            "type": "histogram2d"
           }
          ],
          "histogram2dcontour": [
           {
            "colorbar": {
             "outlinewidth": 0,
             "ticks": ""
            },
            "colorscale": [
             [
              0,
              "#0d0887"
             ],
             [
              0.1111111111111111,
              "#46039f"
             ],
             [
              0.2222222222222222,
              "#7201a8"
             ],
             [
              0.3333333333333333,
              "#9c179e"
             ],
             [
              0.4444444444444444,
              "#bd3786"
             ],
             [
              0.5555555555555556,
              "#d8576b"
             ],
             [
              0.6666666666666666,
              "#ed7953"
             ],
             [
              0.7777777777777778,
              "#fb9f3a"
             ],
             [
              0.8888888888888888,
              "#fdca26"
             ],
             [
              1,
              "#f0f921"
             ]
            ],
            "type": "histogram2dcontour"
           }
          ],
          "mesh3d": [
           {
            "colorbar": {
             "outlinewidth": 0,
             "ticks": ""
            },
            "type": "mesh3d"
           }
          ],
          "parcoords": [
           {
            "line": {
             "colorbar": {
              "outlinewidth": 0,
              "ticks": ""
             }
            },
            "type": "parcoords"
           }
          ],
          "pie": [
           {
            "automargin": true,
            "type": "pie"
           }
          ],
          "scatter": [
           {
            "marker": {
             "colorbar": {
              "outlinewidth": 0,
              "ticks": ""
             }
            },
            "type": "scatter"
           }
          ],
          "scatter3d": [
           {
            "line": {
             "colorbar": {
              "outlinewidth": 0,
              "ticks": ""
             }
            },
            "marker": {
             "colorbar": {
              "outlinewidth": 0,
              "ticks": ""
             }
            },
            "type": "scatter3d"
           }
          ],
          "scattercarpet": [
           {
            "marker": {
             "colorbar": {
              "outlinewidth": 0,
              "ticks": ""
             }
            },
            "type": "scattercarpet"
           }
          ],
          "scattergeo": [
           {
            "marker": {
             "colorbar": {
              "outlinewidth": 0,
              "ticks": ""
             }
            },
            "type": "scattergeo"
           }
          ],
          "scattergl": [
           {
            "marker": {
             "colorbar": {
              "outlinewidth": 0,
              "ticks": ""
             }
            },
            "type": "scattergl"
           }
          ],
          "scattermapbox": [
           {
            "marker": {
             "colorbar": {
              "outlinewidth": 0,
              "ticks": ""
             }
            },
            "type": "scattermapbox"
           }
          ],
          "scatterpolar": [
           {
            "marker": {
             "colorbar": {
              "outlinewidth": 0,
              "ticks": ""
             }
            },
            "type": "scatterpolar"
           }
          ],
          "scatterpolargl": [
           {
            "marker": {
             "colorbar": {
              "outlinewidth": 0,
              "ticks": ""
             }
            },
            "type": "scatterpolargl"
           }
          ],
          "scatterternary": [
           {
            "marker": {
             "colorbar": {
              "outlinewidth": 0,
              "ticks": ""
             }
            },
            "type": "scatterternary"
           }
          ],
          "surface": [
           {
            "colorbar": {
             "outlinewidth": 0,
             "ticks": ""
            },
            "colorscale": [
             [
              0,
              "#0d0887"
             ],
             [
              0.1111111111111111,
              "#46039f"
             ],
             [
              0.2222222222222222,
              "#7201a8"
             ],
             [
              0.3333333333333333,
              "#9c179e"
             ],
             [
              0.4444444444444444,
              "#bd3786"
             ],
             [
              0.5555555555555556,
              "#d8576b"
             ],
             [
              0.6666666666666666,
              "#ed7953"
             ],
             [
              0.7777777777777778,
              "#fb9f3a"
             ],
             [
              0.8888888888888888,
              "#fdca26"
             ],
             [
              1,
              "#f0f921"
             ]
            ],
            "type": "surface"
           }
          ],
          "table": [
           {
            "cells": {
             "fill": {
              "color": "#EBF0F8"
             },
             "line": {
              "color": "white"
             }
            },
            "header": {
             "fill": {
              "color": "#C8D4E3"
             },
             "line": {
              "color": "white"
             }
            },
            "type": "table"
           }
          ]
         },
         "layout": {
          "annotationdefaults": {
           "arrowcolor": "#2a3f5f",
           "arrowhead": 0,
           "arrowwidth": 1
          },
          "autotypenumbers": "strict",
          "coloraxis": {
           "colorbar": {
            "outlinewidth": 0,
            "ticks": ""
           }
          },
          "colorscale": {
           "diverging": [
            [
             0,
             "#8e0152"
            ],
            [
             0.1,
             "#c51b7d"
            ],
            [
             0.2,
             "#de77ae"
            ],
            [
             0.3,
             "#f1b6da"
            ],
            [
             0.4,
             "#fde0ef"
            ],
            [
             0.5,
             "#f7f7f7"
            ],
            [
             0.6,
             "#e6f5d0"
            ],
            [
             0.7,
             "#b8e186"
            ],
            [
             0.8,
             "#7fbc41"
            ],
            [
             0.9,
             "#4d9221"
            ],
            [
             1,
             "#276419"
            ]
           ],
           "sequential": [
            [
             0,
             "#0d0887"
            ],
            [
             0.1111111111111111,
             "#46039f"
            ],
            [
             0.2222222222222222,
             "#7201a8"
            ],
            [
             0.3333333333333333,
             "#9c179e"
            ],
            [
             0.4444444444444444,
             "#bd3786"
            ],
            [
             0.5555555555555556,
             "#d8576b"
            ],
            [
             0.6666666666666666,
             "#ed7953"
            ],
            [
             0.7777777777777778,
             "#fb9f3a"
            ],
            [
             0.8888888888888888,
             "#fdca26"
            ],
            [
             1,
             "#f0f921"
            ]
           ],
           "sequentialminus": [
            [
             0,
             "#0d0887"
            ],
            [
             0.1111111111111111,
             "#46039f"
            ],
            [
             0.2222222222222222,
             "#7201a8"
            ],
            [
             0.3333333333333333,
             "#9c179e"
            ],
            [
             0.4444444444444444,
             "#bd3786"
            ],
            [
             0.5555555555555556,
             "#d8576b"
            ],
            [
             0.6666666666666666,
             "#ed7953"
            ],
            [
             0.7777777777777778,
             "#fb9f3a"
            ],
            [
             0.8888888888888888,
             "#fdca26"
            ],
            [
             1,
             "#f0f921"
            ]
           ]
          },
          "colorway": [
           "#636efa",
           "#EF553B",
           "#00cc96",
           "#ab63fa",
           "#FFA15A",
           "#19d3f3",
           "#FF6692",
           "#B6E880",
           "#FF97FF",
           "#FECB52"
          ],
          "font": {
           "color": "#2a3f5f"
          },
          "geo": {
           "bgcolor": "white",
           "lakecolor": "white",
           "landcolor": "#E5ECF6",
           "showlakes": true,
           "showland": true,
           "subunitcolor": "white"
          },
          "hoverlabel": {
           "align": "left"
          },
          "hovermode": "closest",
          "mapbox": {
           "style": "light"
          },
          "paper_bgcolor": "white",
          "plot_bgcolor": "#E5ECF6",
          "polar": {
           "angularaxis": {
            "gridcolor": "white",
            "linecolor": "white",
            "ticks": ""
           },
           "bgcolor": "#E5ECF6",
           "radialaxis": {
            "gridcolor": "white",
            "linecolor": "white",
            "ticks": ""
           }
          },
          "scene": {
           "xaxis": {
            "backgroundcolor": "#E5ECF6",
            "gridcolor": "white",
            "gridwidth": 2,
            "linecolor": "white",
            "showbackground": true,
            "ticks": "",
            "zerolinecolor": "white"
           },
           "yaxis": {
            "backgroundcolor": "#E5ECF6",
            "gridcolor": "white",
            "gridwidth": 2,
            "linecolor": "white",
            "showbackground": true,
            "ticks": "",
            "zerolinecolor": "white"
           },
           "zaxis": {
            "backgroundcolor": "#E5ECF6",
            "gridcolor": "white",
            "gridwidth": 2,
            "linecolor": "white",
            "showbackground": true,
            "ticks": "",
            "zerolinecolor": "white"
           }
          },
          "shapedefaults": {
           "line": {
            "color": "#2a3f5f"
           }
          },
          "ternary": {
           "aaxis": {
            "gridcolor": "white",
            "linecolor": "white",
            "ticks": ""
           },
           "baxis": {
            "gridcolor": "white",
            "linecolor": "white",
            "ticks": ""
           },
           "bgcolor": "#E5ECF6",
           "caxis": {
            "gridcolor": "white",
            "linecolor": "white",
            "ticks": ""
           }
          },
          "title": {
           "x": 0.05
          },
          "xaxis": {
           "automargin": true,
           "gridcolor": "white",
           "linecolor": "white",
           "ticks": "",
           "title": {
            "standoff": 15
           },
           "zerolinecolor": "white",
           "zerolinewidth": 2
          },
          "yaxis": {
           "automargin": true,
           "gridcolor": "white",
           "linecolor": "white",
           "ticks": "",
           "title": {
            "standoff": 15
           },
           "zerolinecolor": "white",
           "zerolinewidth": 2
          }
         }
        },
        "title": {
         "font": {
          "size": 16
         },
         "text": "Social graph of React developers"
        },
        "xaxis": {
         "autorange": true,
         "range": [
          -172.4963738601825,
          4902.470373860183
         ],
         "showgrid": false,
         "showticklabels": false,
         "type": "linear",
         "zeroline": false
        },
        "yaxis": {
         "autorange": true,
         "range": [
          -157.372875,
          2628.250875
         ],
         "showgrid": false,
         "showticklabels": false,
         "type": "linear",
         "zeroline": false
        }
       }
      },
      "image/png": "[encoded data removed]",
      "text/html": [
       "<div>                            <div id=\"f748a48e-7589-463b-b50a-f285dc331088\" class=\"plotly-graph-div\" style=\"height:525px; width:100%;\"></div>            <script type=\"text/javascript\">                require([\"plotly\"], function(Plotly) {                    window.PLOTLYENV=window.PLOTLYENV || {};                                    if (document.getElementById(\"f748a48e-7589-463b-b50a-f285dc331088\")) {                    Plotly.newPlot(                        \"f748a48e-7589-463b-b50a-f285dc331088\",                        [{\"line\": {\"color\": \"darkgreen\", \"width\": 0.721866504926751}, \"mode\": \"lines\", \"opacity\": 0.721866504926751, \"type\": \"scatter\", \"x\": [1136.14, 1630.62, null], \"y\": [1575.86, 1518.82, null]}, {\"line\": {\"color\": \"darkgreen\", \"width\": 0.6730728622454369}, \"mode\": \"lines\", \"opacity\": 0.6730728622454369, \"type\": \"scatter\", \"x\": [1136.14, 1258.22, null], \"y\": [1575.86, 1185.12, null]}, {\"line\": {\"color\": \"darkgreen\", \"width\": 0.7980304576724391}, \"mode\": \"lines\", \"opacity\": 0.7980304576724391, \"type\": \"scatter\", \"x\": [1136.14, 1154.84, null], \"y\": [1575.86, 1938.66, null]}, {\"line\": {\"color\": \"darkgreen\", \"width\": 0.6759632329197748}, \"mode\": \"lines\", \"opacity\": 0.6759632329197748, \"type\": \"scatter\", \"x\": [1136.14, 1063.46, null], \"y\": [1575.86, 1667.5, null]}, {\"line\": {\"color\": \"darkgreen\", \"width\": 0.6576017037405144}, \"mode\": \"lines\", \"opacity\": 0.6576017037405144, \"type\": \"scatter\", \"x\": [1136.14, 1456.14, null], \"y\": [1575.86, 1556.5, null]}, {\"line\": {\"color\": \"darkgreen\", \"width\": 0.6787780236818317}, \"mode\": \"lines\", \"opacity\": 0.6787780236818317, \"type\": \"scatter\", \"x\": [1136.14, 1004.72, null], \"y\": [1575.86, 2127.8, null]}, {\"line\": {\"color\": \"darkgreen\", \"width\": 0.8236385310379191}, \"mode\": \"lines\", \"opacity\": 0.8236385310379191, \"type\": \"scatter\", \"x\": [1136.14, 1560.02, null], \"y\": [1575.86, 1865.2, null]}, {\"line\": {\"color\": \"darkgreen\", \"width\": 0.6468822877047982}, \"mode\": \"lines\", \"opacity\": 0.6468822877047982, \"type\": \"scatter\", \"x\": [1136.14, 630.44, null], \"y\": [1575.86, 2049.4, null]}, {\"line\": {\"color\": \"darkgreen\", \"width\": 0.6446083235864589}, \"mode\": \"lines\", \"opacity\": 0.6446083235864589, \"type\": \"scatter\", \"x\": [1136.14, 816.54, null], \"y\": [1575.86, 1886.42, null]}, {\"line\": {\"color\": \"darkgreen\", \"width\": 0.6249196275914777}, \"mode\": \"lines\", \"opacity\": 0.6249196275914777, \"type\": \"scatter\", \"x\": [1136.14, 1402.42, null], \"y\": [1575.86, 1954.44, null]}, {\"line\": {\"color\": \"darkgreen\", \"width\": 0.7214208481489884}, \"mode\": \"lines\", \"opacity\": 0.7214208481489884, \"type\": \"scatter\", \"x\": [1136.14, 866.2, null], \"y\": [1575.86, 1236.28, null]}, {\"line\": {\"color\": \"darkgreen\", \"width\": 0.6907012468238405}, \"mode\": \"lines\", \"opacity\": 0.6907012468238405, \"type\": \"scatter\", \"x\": [1136.14, 1295.88, null], \"y\": [1575.86, 1085.18, null]}, {\"line\": {\"color\": \"darkgreen\", \"width\": 0.6800999356858285}, \"mode\": \"lines\", \"opacity\": 0.6800999356858285, \"type\": \"scatter\", \"x\": [1136.14, 813.56, null], \"y\": [1575.86, 1643.16, null]}, {\"line\": {\"color\": \"darkgreen\", \"width\": 0.6202442472137893}, \"mode\": \"lines\", \"opacity\": 0.6202442472137893, \"type\": \"scatter\", \"x\": [1136.14, 590.6, null], \"y\": [1575.86, 1623.72, null]}, {\"line\": {\"color\": \"darkgreen\", \"width\": 0.7027394419160228}, \"mode\": \"lines\", \"opacity\": 0.7027394419160228, \"type\": \"scatter\", \"x\": [1136.14, 1217.68, null], \"y\": [1575.86, 1838.34, null]}, {\"line\": {\"color\": \"darkgreen\", \"width\": 0.7856565277083414}, \"mode\": \"lines\", \"opacity\": 0.7856565277083414, \"type\": \"scatter\", \"x\": [1136.14, 1087.36, null], \"y\": [1575.86, 1009.1, null]}, {\"line\": {\"color\": \"darkgreen\", \"width\": 0.7449017988477188}, \"mode\": \"lines\", \"opacity\": 0.7449017988477188, \"type\": \"scatter\", \"x\": [1136.14, 1007.88, null], \"y\": [1575.86, 1342.6, null]}, {\"line\": {\"color\": \"darkgreen\", \"width\": 0.6363878725694069}, \"mode\": \"lines\", \"opacity\": 0.6363878725694069, \"type\": \"scatter\", \"x\": [1136.14, 868.54, null], \"y\": [1575.86, 2021.0, null]}, {\"line\": {\"color\": \"darkgreen\", \"width\": 0.7288981690527697}, \"mode\": \"lines\", \"opacity\": 0.7288981690527697, \"type\": \"scatter\", \"x\": [1136.14, 1205.78, null], \"y\": [1575.86, 1345.12, null]}, {\"line\": {\"color\": \"darkgreen\", \"width\": 0.6756027458310533}, \"mode\": \"lines\", \"opacity\": 0.6756027458310533, \"type\": \"scatter\", \"x\": [1136.14, 1725.92, null], \"y\": [1575.86, 1262.64, null]}, {\"line\": {\"color\": \"darkgreen\", \"width\": 0.6154271552102899}, \"mode\": \"lines\", \"opacity\": 0.6154271552102899, \"type\": \"scatter\", \"x\": [1136.14, 815.38, null], \"y\": [1575.86, 1092.04, null]}, {\"line\": {\"color\": \"darkgreen\", \"width\": 0.7001388023593837}, \"mode\": \"lines\", \"opacity\": 0.7001388023593837, \"type\": \"scatter\", \"x\": [3415.8, 3592.8, null], \"y\": [1165.2, 1529.0, null]}, {\"line\": {\"color\": \"darkgreen\", \"width\": 0.7425489766109225}, \"mode\": \"lines\", \"opacity\": 0.7425489766109225, \"type\": \"scatter\", \"x\": [3415.8, 3378.6, null], \"y\": [1165.2, 1410.12, null]}, {\"line\": {\"color\": \"darkgreen\", \"width\": 0.7205017800684788}, \"mode\": \"lines\", \"opacity\": 0.7205017800684788, \"type\": \"scatter\", \"x\": [3415.8, 2786.0, null], \"y\": [1165.2, 1435.92, null]}, {\"line\": {\"color\": \"darkgreen\", \"width\": 0.6962116636437916}, \"mode\": \"lines\", \"opacity\": 0.6962116636437916, \"type\": \"scatter\", \"x\": [3415.8, 3403.0, null], \"y\": [1165.2, 1271.52, null]}, {\"line\": {\"color\": \"darkgreen\", \"width\": 0.706258242403718}, \"mode\": \"lines\", \"opacity\": 0.706258242403718, \"type\": \"scatter\", \"x\": [3415.8, 3066.0, null], \"y\": [1165.2, 853.32, null]}, {\"line\": {\"color\": \"darkgreen\", \"width\": 0.6090473160656117}, \"mode\": \"lines\", \"opacity\": 0.6090473160656117, \"type\": \"scatter\", \"x\": [3415.8, 3752.8, null], \"y\": [1165.2, 1427.3, null]}, {\"line\": {\"color\": \"darkgreen\", \"width\": 0.6725490578179311}, \"mode\": \"lines\", \"opacity\": 0.6725490578179311, \"type\": \"scatter\", \"x\": [3415.8, 3018.8, null], \"y\": [1165.2, 978.4, null]}, {\"line\": {\"color\": \"darkgreen\", \"width\": 0.656140059493398}, \"mode\": \"lines\", \"opacity\": 0.656140059493398, \"type\": \"scatter\", \"x\": [3415.8, 3793.6, null], \"y\": [1165.2, 1279.36, null]}, {\"line\": {\"color\": \"darkgreen\", \"width\": 0.6974702436453097}, \"mode\": \"lines\", \"opacity\": 0.6974702436453097, \"type\": \"scatter\", \"x\": [3415.8, 3620.4, null], \"y\": [1165.2, 938.62, null]}, {\"line\": {\"color\": \"darkgreen\", \"width\": 0.6082307888038548}, \"mode\": \"lines\", \"opacity\": 0.6082307888038548, \"type\": \"scatter\", \"x\": [3415.8, 3409.8, null], \"y\": [1165.2, 1713.8, null]}, {\"line\": {\"color\": \"darkgreen\", \"width\": 0.6833957441320856}, \"mode\": \"lines\", \"opacity\": 0.6833957441320856, \"type\": \"scatter\", \"x\": [3415.8, 4012.0, null], \"y\": [1165.2, 1206.0, null]}, {\"line\": {\"color\": \"darkgreen\", \"width\": 0.7365183618438045}, \"mode\": \"lines\", \"opacity\": 0.7365183618438045, \"type\": \"scatter\", \"x\": [3415.8, 3355.6, null], \"y\": [1165.2, 580.7, null]}, {\"line\": {\"color\": \"darkgreen\", \"width\": 0.6249689160064585}, \"mode\": \"lines\", \"opacity\": 0.6249689160064585, \"type\": \"scatter\", \"x\": [3415.8, 3840.4, null], \"y\": [1165.2, 1096.56, null]}, {\"line\": {\"color\": \"darkgreen\", \"width\": 0.6200369432494158}, \"mode\": \"lines\", \"opacity\": 0.6200369432494158, \"type\": \"scatter\", \"x\": [3592.8, 3378.6, null], \"y\": [1529.0, 1410.12, null]}, {\"line\": {\"color\": \"darkgreen\", \"width\": 0.6254127642857159}, \"mode\": \"lines\", \"opacity\": 0.6254127642857159, \"type\": \"scatter\", \"x\": [3592.8, 2786.0, null], \"y\": [1529.0, 1435.92, null]}, {\"line\": {\"color\": \"darkgreen\", \"width\": 0.6337269605495808}, \"mode\": \"lines\", \"opacity\": 0.6337269605495808, \"type\": \"scatter\", \"x\": [3592.8, 3403.0, null], \"y\": [1529.0, 1271.52, null]}, {\"line\": {\"color\": \"darkgreen\", \"width\": 0.6927009619223248}, \"mode\": \"lines\", \"opacity\": 0.6927009619223248, \"type\": \"scatter\", \"x\": [3592.8, 3752.8, null], \"y\": [1529.0, 1427.3, null]}, {\"line\": {\"color\": \"darkgreen\", \"width\": 0.6580529010954961}, \"mode\": \"lines\", \"opacity\": 0.6580529010954961, \"type\": \"scatter\", \"x\": [3592.8, 3878.4, null], \"y\": [1529.0, 1617.34, null]}, {\"line\": {\"color\": \"darkgreen\", \"width\": 0.6193920458860286}, \"mode\": \"lines\", \"opacity\": 0.6193920458860286, \"type\": \"scatter\", \"x\": [3592.8, 3888.6, null], \"y\": [1529.0, 2012.0, null]}, {\"line\": {\"color\": \"darkgreen\", \"width\": 0.8149671979115443}, \"mode\": \"lines\", \"opacity\": 0.8149671979115443, \"type\": \"scatter\", \"x\": [3592.8, 3793.6, null], \"y\": [1529.0, 1279.36, null]}, {\"line\": {\"color\": \"darkgreen\", \"width\": 0.783367131449665}, \"mode\": \"lines\", \"opacity\": 0.783367131449665, \"type\": \"scatter\", \"x\": [3592.8, 4173.4, null], \"y\": [1529.0, 1653.84, null]}, {\"line\": {\"color\": \"darkgreen\", \"width\": 0.9461247482828622}, \"mode\": \"lines\", \"opacity\": 0.9461247482828622, \"type\": \"scatter\", \"x\": [3592.8, 4012.0, null], \"y\": [1529.0, 1206.0, null]}, {\"line\": {\"color\": \"darkgreen\", \"width\": 0.8302387433430958}, \"mode\": \"lines\", \"opacity\": 0.8302387433430958, \"type\": \"scatter\", \"x\": [3592.8, 3840.4, null], \"y\": [1529.0, 1096.56, null]}, {\"line\": {\"color\": \"darkgreen\", \"width\": 0.6239722624771209}, \"mode\": \"lines\", \"opacity\": 0.6239722624771209, \"type\": \"scatter\", \"x\": [1630.62, 2786.0, null], \"y\": [1518.82, 1435.92, null]}, {\"line\": {\"color\": \"darkgreen\", \"width\": 0.6178758136482333}, \"mode\": \"lines\", \"opacity\": 0.6178758136482333, \"type\": \"scatter\", \"x\": [1630.62, 1154.84, null], \"y\": [1518.82, 1938.66, null]}, {\"line\": {\"color\": \"darkgreen\", \"width\": 0.6007779103686233}, \"mode\": \"lines\", \"opacity\": 0.6007779103686233, \"type\": \"scatter\", \"x\": [1630.62, 1063.46, null], \"y\": [1518.82, 1667.5, null]}, {\"line\": {\"color\": \"darkgreen\", \"width\": 0.6485151689048804}, \"mode\": \"lines\", \"opacity\": 0.6485151689048804, \"type\": \"scatter\", \"x\": [1630.62, 1456.14, null], \"y\": [1518.82, 1556.5, null]}, {\"line\": {\"color\": \"darkgreen\", \"width\": 0.6607861083325806}, \"mode\": \"lines\", \"opacity\": 0.6607861083325806, \"type\": \"scatter\", \"x\": [1630.62, 1560.02, null], \"y\": [1518.82, 1865.2, null]}, {\"line\": {\"color\": \"darkgreen\", \"width\": 0.6085369075709081}, \"mode\": \"lines\", \"opacity\": 0.6085369075709081, \"type\": \"scatter\", \"x\": [1630.62, 1402.42, null], \"y\": [1518.82, 1954.44, null]}, {\"line\": {\"color\": \"darkgreen\", \"width\": 0.6553080930080228}, \"mode\": \"lines\", \"opacity\": 0.6553080930080228, \"type\": \"scatter\", \"x\": [1630.62, 1217.68, null], \"y\": [1518.82, 1838.34, null]}, {\"line\": {\"color\": \"darkgreen\", \"width\": 0.6462699842898603}, \"mode\": \"lines\", \"opacity\": 0.6462699842898603, \"type\": \"scatter\", \"x\": [1630.62, 1087.36, null], \"y\": [1518.82, 1009.1, null]}, {\"line\": {\"color\": \"darkgreen\", \"width\": 0.7025262450944673}, \"mode\": \"lines\", \"opacity\": 0.7025262450944673, \"type\": \"scatter\", \"x\": [1630.62, 1007.88, null], \"y\": [1518.82, 1342.6, null]}, {\"line\": {\"color\": \"darkgreen\", \"width\": 0.6149804156647043}, \"mode\": \"lines\", \"opacity\": 0.6149804156647043, \"type\": \"scatter\", \"x\": [1630.62, 1205.78, null], \"y\": [1518.82, 1345.12, null]}, {\"line\": {\"color\": \"darkgreen\", \"width\": 0.676529445173782}, \"mode\": \"lines\", \"opacity\": 0.676529445173782, \"type\": \"scatter\", \"x\": [3378.6, 2786.0, null], \"y\": [1410.12, 1435.92, null]}, {\"line\": {\"color\": \"darkgreen\", \"width\": 0.6363572165525118}, \"mode\": \"lines\", \"opacity\": 0.6363572165525118, \"type\": \"scatter\", \"x\": [3378.6, 3403.0, null], \"y\": [1410.12, 1271.52, null]}, {\"line\": {\"color\": \"darkgreen\", \"width\": 0.6229615154740459}, \"mode\": \"lines\", \"opacity\": 0.6229615154740459, \"type\": \"scatter\", \"x\": [3378.6, 3878.4, null], \"y\": [1410.12, 1617.34, null]}, {\"line\": {\"color\": \"darkgreen\", \"width\": 0.6570431385057813}, \"mode\": \"lines\", \"opacity\": 0.6570431385057813, \"type\": \"scatter\", \"x\": [3378.6, 3620.4, null], \"y\": [1410.12, 938.62, null]}, {\"line\": {\"color\": \"darkgreen\", \"width\": 0.6027800986849603}, \"mode\": \"lines\", \"opacity\": 0.6027800986849603, \"type\": \"scatter\", \"x\": [2786.0, 3403.0, null], \"y\": [1435.92, 1271.52, null]}, {\"line\": {\"color\": \"darkgreen\", \"width\": 0.7352475401324551}, \"mode\": \"lines\", \"opacity\": 0.7352475401324551, \"type\": \"scatter\", \"x\": [1258.22, 866.2, null], \"y\": [1185.12, 1236.28, null]}, {\"line\": {\"color\": \"darkgreen\", \"width\": 0.7278998522107025}, \"mode\": \"lines\", \"opacity\": 0.7278998522107025, \"type\": \"scatter\", \"x\": [1258.22, 1295.88, null], \"y\": [1185.12, 1085.18, null]}, {\"line\": {\"color\": \"darkgreen\", \"width\": 0.68098890139367}, \"mode\": \"lines\", \"opacity\": 0.68098890139367, \"type\": \"scatter\", \"x\": [1258.22, 1087.36, null], \"y\": [1185.12, 1009.1, null]}, {\"line\": {\"color\": \"darkgreen\", \"width\": 0.763726549262467}, \"mode\": \"lines\", \"opacity\": 0.763726549262467, \"type\": \"scatter\", \"x\": [1258.22, 1205.78, null], \"y\": [1185.12, 1345.12, null]}, {\"line\": {\"color\": \"darkgreen\", \"width\": 0.6560048263496235}, \"mode\": \"lines\", \"opacity\": 0.6560048263496235, \"type\": \"scatter\", \"x\": [1258.22, 1725.92, null], \"y\": [1185.12, 1262.64, null]}, {\"line\": {\"color\": \"darkgreen\", \"width\": 0.6305128598152162}, \"mode\": \"lines\", \"opacity\": 0.6305128598152162, \"type\": \"scatter\", \"x\": [1258.22, 815.38, null], \"y\": [1185.12, 1092.04, null]}, {\"line\": {\"color\": \"darkgreen\", \"width\": 0.7236797531172205}, \"mode\": \"lines\", \"opacity\": 0.7236797531172205, \"type\": \"scatter\", \"x\": [3403.0, 3752.8, null], \"y\": [1271.52, 1427.3, null]}, {\"line\": {\"color\": \"darkgreen\", \"width\": 0.653014756817781}, \"mode\": \"lines\", \"opacity\": 0.653014756817781, \"type\": \"scatter\", \"x\": [3403.0, 3018.8, null], \"y\": [1271.52, 978.4, null]}, {\"line\": {\"color\": \"darkgreen\", \"width\": 0.6021469042245009}, \"mode\": \"lines\", \"opacity\": 0.6021469042245009, \"type\": \"scatter\", \"x\": [3403.0, 3793.6, null], \"y\": [1271.52, 1279.36, null]}, {\"line\": {\"color\": \"darkgreen\", \"width\": 0.6168766405174038}, \"mode\": \"lines\", \"opacity\": 0.6168766405174038, \"type\": \"scatter\", \"x\": [3403.0, 4012.0, null], \"y\": [1271.52, 1206.0, null]}, {\"line\": {\"color\": \"darkgreen\", \"width\": 0.681448374139174}, \"mode\": \"lines\", \"opacity\": 0.681448374139174, \"type\": \"scatter\", \"x\": [1154.84, 1063.46, null], \"y\": [1938.66, 1667.5, null]}, {\"line\": {\"color\": \"darkgreen\", \"width\": 0.6342076750358349}, \"mode\": \"lines\", \"opacity\": 0.6342076750358349, \"type\": \"scatter\", \"x\": [1154.84, 1004.72, null], \"y\": [1938.66, 2127.8, null]}, {\"line\": {\"color\": \"darkgreen\", \"width\": 0.6779944236156472}, \"mode\": \"lines\", \"opacity\": 0.6779944236156472, \"type\": \"scatter\", \"x\": [1154.84, 630.44, null], \"y\": [1938.66, 2049.4, null]}, {\"line\": {\"color\": \"darkgreen\", \"width\": 0.6269304830837928}, \"mode\": \"lines\", \"opacity\": 0.6269304830837928, \"type\": \"scatter\", \"x\": [1154.84, 816.54, null], \"y\": [1938.66, 1886.42, null]}, {\"line\": {\"color\": \"darkgreen\", \"width\": 0.6733060561003386}, \"mode\": \"lines\", \"opacity\": 0.6733060561003386, \"type\": \"scatter\", \"x\": [1154.84, 1217.68, null], \"y\": [1938.66, 1838.34, null]}, {\"line\": {\"color\": \"darkgreen\", \"width\": 0.6343896697657267}, \"mode\": \"lines\", \"opacity\": 0.6343896697657267, \"type\": \"scatter\", \"x\": [1154.84, 868.54, null], \"y\": [1938.66, 2021.0, null]}, {\"line\": {\"color\": \"darkgreen\", \"width\": 0.6225073783176072}, \"mode\": \"lines\", \"opacity\": 0.6225073783176072, \"type\": \"scatter\", \"x\": [1063.46, 816.54, null], \"y\": [1667.5, 1886.42, null]}, {\"line\": {\"color\": \"darkgreen\", \"width\": 0.9532896875453069}, \"mode\": \"lines\", \"opacity\": 0.9532896875453069, \"type\": \"scatter\", \"x\": [1063.46, 590.6, null], \"y\": [1667.5, 1623.72, null]}, {\"line\": {\"color\": \"darkgreen\", \"width\": 0.6302124989422783}, \"mode\": \"lines\", \"opacity\": 0.6302124989422783, \"type\": \"scatter\", \"x\": [1063.46, 1205.78, null], \"y\": [1667.5, 1345.12, null]}, {\"line\": {\"color\": \"darkgreen\", \"width\": 0.6552678181367331}, \"mode\": \"lines\", \"opacity\": 0.6552678181367331, \"type\": \"scatter\", \"x\": [1456.14, 1217.68, null], \"y\": [1556.5, 1838.34, null]}, {\"line\": {\"color\": \"darkgreen\", \"width\": 0.6691374456174527}, \"mode\": \"lines\", \"opacity\": 0.6691374456174527, \"type\": \"scatter\", \"x\": [1456.14, 1725.92, null], \"y\": [1556.5, 1262.64, null]}, {\"line\": {\"color\": \"darkgreen\", \"width\": 0.6769140757530065}, \"mode\": \"lines\", \"opacity\": 0.6769140757530065, \"type\": \"scatter\", \"x\": [1004.72, 630.44, null], \"y\": [2127.8, 2049.4, null]}, {\"line\": {\"color\": \"darkgreen\", \"width\": 0.6145350648903352}, \"mode\": \"lines\", \"opacity\": 0.6145350648903352, \"type\": \"scatter\", \"x\": [1004.72, 1217.68, null], \"y\": [2127.8, 1838.34, null]}, {\"line\": {\"color\": \"darkgreen\", \"width\": 0.6067825669403287}, \"mode\": \"lines\", \"opacity\": 0.6067825669403287, \"type\": \"scatter\", \"x\": [1004.72, 868.54, null], \"y\": [2127.8, 2021.0, null]}, {\"line\": {\"color\": \"darkgreen\", \"width\": 0.6281691998316704}, \"mode\": \"lines\", \"opacity\": 0.6281691998316704, \"type\": \"scatter\", \"x\": [1560.02, 1217.68, null], \"y\": [1865.2, 1838.34, null]}, {\"line\": {\"color\": \"darkgreen\", \"width\": 0.6105263131452907}, \"mode\": \"lines\", \"opacity\": 0.6105263131452907, \"type\": \"scatter\", \"x\": [630.44, 813.56, null], \"y\": [2049.4, 1643.16, null]}, {\"line\": {\"color\": \"darkgreen\", \"width\": 0.6041681947049306}, \"mode\": \"lines\", \"opacity\": 0.6041681947049306, \"type\": \"scatter\", \"x\": [630.44, 112.374, null], \"y\": [2049.4, 2435.4, null]}, {\"line\": {\"color\": \"darkgreen\", \"width\": 0.7227812322991857}, \"mode\": \"lines\", \"opacity\": 0.7227812322991857, \"type\": \"scatter\", \"x\": [630.44, 868.54, null], \"y\": [2049.4, 2021.0, null]}, {\"line\": {\"color\": \"darkgreen\", \"width\": 0.7446507496988276}, \"mode\": \"lines\", \"opacity\": 0.7446507496988276, \"type\": \"scatter\", \"x\": [3066.0, 3018.8, null], \"y\": [853.32, 978.4, null]}, {\"line\": {\"color\": \"darkgreen\", \"width\": 0.7332922125341923}, \"mode\": \"lines\", \"opacity\": 0.7332922125341923, \"type\": \"scatter\", \"x\": [3066.0, 2443.4, null], \"y\": [853.32, 1030.4, null]}, {\"line\": {\"color\": \"darkgreen\", \"width\": 0.6153685646300352}, \"mode\": \"lines\", \"opacity\": 0.6153685646300352, \"type\": \"scatter\", \"x\": [3066.0, 3620.4, null], \"y\": [853.32, 938.62, null]}, {\"line\": {\"color\": \"darkgreen\", \"width\": 0.6119337770480838}, \"mode\": \"lines\", \"opacity\": 0.6119337770480838, \"type\": \"scatter\", \"x\": [3066.0, 3355.6, null], \"y\": [853.32, 580.7, null]}, {\"line\": {\"color\": \"darkgreen\", \"width\": 0.6551396817404147}, \"mode\": \"lines\", \"opacity\": 0.6551396817404147, \"type\": \"scatter\", \"x\": [816.54, 1217.68, null], \"y\": [1886.42, 1838.34, null]}, {\"line\": {\"color\": \"darkgreen\", \"width\": 0.6053392751621074}, \"mode\": \"lines\", \"opacity\": 0.6053392751621074, \"type\": \"scatter\", \"x\": [816.54, 868.54, null], \"y\": [1886.42, 2021.0, null]}, {\"line\": {\"color\": \"darkgreen\", \"width\": 0.8924655965786988}, \"mode\": \"lines\", \"opacity\": 0.8924655965786988, \"type\": \"scatter\", \"x\": [4571.2, 4012.0, null], \"y\": [1269.26, 1206.0, null]}, {\"line\": {\"color\": \"darkgreen\", \"width\": 0.6398925493336245}, \"mode\": \"lines\", \"opacity\": 0.6398925493336245, \"type\": \"scatter\", \"x\": [951.04, 1087.36, null], \"y\": [465.9, 1009.1, null]}, {\"line\": {\"color\": \"darkgreen\", \"width\": 0.7082083861295889}, \"mode\": \"lines\", \"opacity\": 0.7082083861295889, \"type\": \"scatter\", \"x\": [3018.8, 2443.4, null], \"y\": [978.4, 1030.4, null]}, {\"line\": {\"color\": \"darkgreen\", \"width\": 0.6042189106972743}, \"mode\": \"lines\", \"opacity\": 0.6042189106972743, \"type\": \"scatter\", \"x\": [3018.8, 3355.6, null], \"y\": [978.4, 580.7, null]}, {\"line\": {\"color\": \"darkgreen\", \"width\": 0.7247467994025996}, \"mode\": \"lines\", \"opacity\": 0.7247467994025996, \"type\": \"scatter\", \"x\": [3878.4, 3793.6, null], \"y\": [1617.34, 1279.36, null]}, {\"line\": {\"color\": \"darkgreen\", \"width\": 0.6664018888107169}, \"mode\": \"lines\", \"opacity\": 0.6664018888107169, \"type\": \"scatter\", \"x\": [3878.4, 4012.0, null], \"y\": [1617.34, 1206.0, null]}, {\"line\": {\"color\": \"darkgreen\", \"width\": 0.6775859470363493}, \"mode\": \"lines\", \"opacity\": 0.6775859470363493, \"type\": \"scatter\", \"x\": [866.2, 1295.88, null], \"y\": [1236.28, 1085.18, null]}, {\"line\": {\"color\": \"darkgreen\", \"width\": 0.6782237511368694}, \"mode\": \"lines\", \"opacity\": 0.6782237511368694, \"type\": \"scatter\", \"x\": [866.2, 813.56, null], \"y\": [1236.28, 1643.16, null]}, {\"line\": {\"color\": \"darkgreen\", \"width\": 0.6625097589747317}, \"mode\": \"lines\", \"opacity\": 0.6625097589747317, \"type\": \"scatter\", \"x\": [866.2, 1087.36, null], \"y\": [1236.28, 1009.1, null]}, {\"line\": {\"color\": \"darkgreen\", \"width\": 0.7712415791181313}, \"mode\": \"lines\", \"opacity\": 0.7712415791181313, \"type\": \"scatter\", \"x\": [866.2, 1205.78, null], \"y\": [1236.28, 1345.12, null]}, {\"line\": {\"color\": \"darkgreen\", \"width\": 0.6406444540421773}, \"mode\": \"lines\", \"opacity\": 0.6406444540421773, \"type\": \"scatter\", \"x\": [1295.88, 1087.36, null], \"y\": [1085.18, 1009.1, null]}, {\"line\": {\"color\": \"darkgreen\", \"width\": 0.6970907800360665}, \"mode\": \"lines\", \"opacity\": 0.6970907800360665, \"type\": \"scatter\", \"x\": [1295.88, 1205.78, null], \"y\": [1085.18, 1345.12, null]}, {\"line\": {\"color\": \"darkgreen\", \"width\": 0.6107921942382658}, \"mode\": \"lines\", \"opacity\": 0.6107921942382658, \"type\": \"scatter\", \"x\": [1295.88, 815.38, null], \"y\": [1085.18, 1092.04, null]}, {\"line\": {\"color\": \"darkgreen\", \"width\": 0.6456493367707559}, \"mode\": \"lines\", \"opacity\": 0.6456493367707559, \"type\": \"scatter\", \"x\": [3555.6, 3355.6, null], \"y\": [35.478, 580.7, null]}, {\"line\": {\"color\": \"darkgreen\", \"width\": 1.0}, \"mode\": \"lines\", \"opacity\": 1.0, \"type\": \"scatter\", \"x\": [813.56, 590.6, null], \"y\": [1643.16, 1623.72, null]}, {\"line\": {\"color\": \"darkgreen\", \"width\": 0.7171561820021768}, \"mode\": \"lines\", \"opacity\": 0.7171561820021768, \"type\": \"scatter\", \"x\": [813.56, 1217.68, null], \"y\": [1643.16, 1838.34, null]}, {\"line\": {\"color\": \"darkgreen\", \"width\": 0.6274624018723586}, \"mode\": \"lines\", \"opacity\": 0.6274624018723586, \"type\": \"scatter\", \"x\": [813.56, 868.54, null], \"y\": [1643.16, 2021.0, null]}, {\"line\": {\"color\": \"darkgreen\", \"width\": 0.6809733171404255}, \"mode\": \"lines\", \"opacity\": 0.6809733171404255, \"type\": \"scatter\", \"x\": [813.56, 1205.78, null], \"y\": [1643.16, 1345.12, null]}, {\"line\": {\"color\": \"darkgreen\", \"width\": 0.6332116010375535}, \"mode\": \"lines\", \"opacity\": 0.6332116010375535, \"type\": \"scatter\", \"x\": [738.84, 1087.36, null], \"y\": [594.08, 1009.1, null]}, {\"line\": {\"color\": \"darkgreen\", \"width\": 0.7530103295252888}, \"mode\": \"lines\", \"opacity\": 0.7530103295252888, \"type\": \"scatter\", \"x\": [3793.6, 3840.4, null], \"y\": [1279.36, 1096.56, null]}, {\"line\": {\"color\": \"darkgreen\", \"width\": 0.6146924090600359}, \"mode\": \"lines\", \"opacity\": 0.6146924090600359, \"type\": \"scatter\", \"x\": [308.72, 815.38, null], \"y\": [836.54, 1092.04, null]}, {\"line\": {\"color\": \"darkgreen\", \"width\": 0.6103364575126095}, \"mode\": \"lines\", \"opacity\": 0.6103364575126095, \"type\": \"scatter\", \"x\": [4136.4, 3620.4, null], \"y\": [713.44, 938.62, null]}, {\"line\": {\"color\": \"darkgreen\", \"width\": 0.792226780072224}, \"mode\": \"lines\", \"opacity\": 0.792226780072224, \"type\": \"scatter\", \"x\": [4136.4, 4012.0, null], \"y\": [713.44, 1206.0, null]}, {\"line\": {\"color\": \"darkgreen\", \"width\": 0.6142326156891721}, \"mode\": \"lines\", \"opacity\": 0.6142326156891721, \"type\": \"scatter\", \"x\": [1217.68, 868.54, null], \"y\": [1838.34, 2021.0, null]}, {\"line\": {\"color\": \"darkgreen\", \"width\": 0.9917356337607353}, \"mode\": \"lines\", \"opacity\": 0.9917356337607353, \"type\": \"scatter\", \"x\": [2443.4, 1725.92, null], \"y\": [1030.4, 1262.64, null]}, {\"line\": {\"color\": \"darkgreen\", \"width\": 0.6326456243993493}, \"mode\": \"lines\", \"opacity\": 0.6326456243993493, \"type\": \"scatter\", \"x\": [3620.4, 4012.0, null], \"y\": [938.62, 1206.0, null]}, {\"line\": {\"color\": \"darkgreen\", \"width\": 0.7034210554503234}, \"mode\": \"lines\", \"opacity\": 0.7034210554503234, \"type\": \"scatter\", \"x\": [4617.6, 4012.0, null], \"y\": [999.96, 1206.0, null]}, {\"line\": {\"color\": \"darkgreen\", \"width\": 0.603784340975915}, \"mode\": \"lines\", \"opacity\": 0.603784340975915, \"type\": \"scatter\", \"x\": [1087.36, 1007.88, null], \"y\": [1009.1, 1342.6, null]}, {\"line\": {\"color\": \"darkgreen\", \"width\": 0.6577912265852228}, \"mode\": \"lines\", \"opacity\": 0.6577912265852228, \"type\": \"scatter\", \"x\": [1087.36, 1205.78, null], \"y\": [1009.1, 1345.12, null]}, {\"line\": {\"color\": \"darkgreen\", \"width\": 0.6080354169991918}, \"mode\": \"lines\", \"opacity\": 0.6080354169991918, \"type\": \"scatter\", \"x\": [1087.36, 815.38, null], \"y\": [1009.1, 1092.04, null]}, {\"line\": {\"color\": \"darkgreen\", \"width\": 0.9057542432250564}, \"mode\": \"lines\", \"opacity\": 0.9057542432250564, \"type\": \"scatter\", \"x\": [4173.4, 4012.0, null], \"y\": [1653.84, 1206.0, null]}, {\"line\": {\"color\": \"darkgreen\", \"width\": 0.7712126638082482}, \"mode\": \"lines\", \"opacity\": 0.7712126638082482, \"type\": \"scatter\", \"x\": [1205.78, 815.38, null], \"y\": [1345.12, 1092.04, null]}, {\"hoverinfo\": \"text\", \"marker\": {\"color\": [21, 13, 11, 11, 6, 5, 7, 8, 8, 6, 4, 5, 3, 6, 5, 3, 5, 2, 1, 1, 5, 4, 6, 6, 1, 1, 7, 1, 3, 5, 1, 2, 9, 0, 3, 5, 1, 10, 1, 2, 0, 3, 1, 9, 7, 4, 9, 4, 6, 3], \"colorbar\": {\"thickness\": 15, \"title\": {\"side\": \"right\", \"text\": \"Adjacency num\"}, \"xanchor\": \"left\"}, \"colorscale\": [[0.0, \"rgb(23, 28, 66)\"], [0.09090909090909091, \"rgb(41, 58, 143)\"], [0.18181818181818182, \"rgb(11, 102, 189)\"], [0.2727272727272727, \"rgb(69, 144, 185)\"], [0.36363636363636365, \"rgb(142, 181, 194)\"], [0.45454545454545453, \"rgb(210, 216, 219)\"], [0.5454545454545454, \"rgb(230, 210, 204)\"], [0.6363636363636364, \"rgb(213, 157, 137)\"], [0.7272727272727273, \"rgb(196, 101, 72)\"], [0.8181818181818182, \"rgb(172, 43, 36)\"], [0.9090909090909091, \"rgb(120, 14, 40)\"], [1.0, \"rgb(60, 9, 17)\"]], \"line\": {\"width\": 1}, \"reversescale\": true, \"showscale\": true, \"size\": [31.168048229088168, 40.0, 19.72871137905049, 21.26601356443105, 13.805576488319517, 32.56970610399397, 12.0, 16.51846269781462, 12.0, 12.0, 12.0, 12.0, 12.0, 12.0, 12.0, 12.0, 12.0, 12.0, 12.0, 12.0, 12.0, 12.0, 12.0, 12.0, 12.0, 12.0, 12.0, 12.0, 12.0, 12.0, 12.0, 12.0, 12.0, 12.0, 12.0, 12.0, 12.0, 12.0, 12.0, 12.0, 12.0, 12.0, 12.0, 12.0, 12.0, 12.0, 12.0, 12.0, 12.0, 12.0]}, \"mode\": \"markers\", \"text\": [\"Username: zpao                     <br>Files changed: 2086                     <br>Activity interval: [2013. 2016.]                     <br>Adjacency num: 21\", \"Username: gaearon                     <br>Files changed: 2672                     <br>Activity interval: [2015. 2021.]                     <br>Adjacency num: 13\", \"Username: bvaughn                     <br>Files changed: 1327                     <br>Activity interval: [2018. 2020.]                     <br>Adjacency num: 11\", \"Username: sophiebits                     <br>Files changed: 1429                     <br>Activity interval: [2013. 2017.]                     <br>Adjacency num: 11\", \"Username: acdlite                     <br>Files changed: 934                     <br>Activity interval: [2015. 2021.]                     <br>Adjacency num: 6\", \"Username: sebmarkbage                     <br>Files changed: 2179                     <br>Activity interval: [2013 2021]                     <br>Adjacency num: 5\", \"Username: jimfb                     <br>Files changed: 489                     <br>Activity interval: [2014. 2016.]                     <br>Adjacency num: 7\", \"Username: trueadm                     <br>Files changed: 1114                     <br>Activity interval: [2017. 2021.]                     <br>Adjacency num: 8\", \"Username: petehunt                     <br>Files changed: 594                     <br>Activity interval: [2013. 2014.]                     <br>Adjacency num: 8\", \"Username: chenglou                     <br>Files changed: 279                     <br>Activity interval: [2013. 2015.]                     <br>Adjacency num: 6\", \"Username: vjeux                     <br>Files changed: 392                     <br>Activity interval: [2013. 2017.]                     <br>Adjacency num: 4\", \"Username: benjamn                     <br>Files changed: 106                     <br>Activity interval: [2013. 2014.]                     <br>Adjacency num: 5\", \"Username: yungsters                     <br>Files changed: 350                     <br>Activity interval: [2013. 2018.]                     <br>Adjacency num: 3\", \"Username: subtleGradient                     <br>Files changed: 70                     <br>Activity interval: [2013. 2014.]                     <br>Adjacency num: 6\", \"Username: nhunzaker                     <br>Files changed: 244                     <br>Activity interval: [2015. 2019.]                     <br>Adjacency num: 5\", \"Username: necolas                     <br>Files changed: 181                     <br>Activity interval: [2019. 2020.]                     <br>Adjacency num: 3\", \"Username: syranide                     <br>Files changed: 99                     <br>Activity interval: [2013. 2015.]                     <br>Adjacency num: 5\", \"Username: cpojer                     <br>Files changed: 213                     <br>Activity interval: [2013. 2018.]                     <br>Adjacency num: 2\", \"Username: flarnie                     <br>Files changed: 139                     <br>Activity interval: [2016. 2018.]                     <br>Adjacency num: 1\", \"Username: koba04                     <br>Files changed: 116                     <br>Activity interval: [2014. 2020.]                     <br>Adjacency num: 1\", \"Username: aweary                     <br>Files changed: 229                     <br>Activity interval: [2016. 2019.]                     <br>Adjacency num: 5\", \"Username: rickhanlonii                     <br>Files changed: 227                     <br>Activity interval: [2019. 2021.]                     <br>Adjacency num: 4\", \"Username: marocchino                     <br>Files changed: 51                     <br>Activity interval: [2015. 2015.]                     <br>Adjacency num: 6\", \"Username: kohei-takata                     <br>Files changed: 43                     <br>Activity interval: [2015. 2015.]                     <br>Adjacency num: 6\", \"Username: lunaruan                     <br>Files changed: 134                     <br>Activity interval: [2019. 2021.]                     <br>Adjacency num: 1\", \"Username: TheSavior                     <br>Files changed: 43                     <br>Activity interval: [2018. 2020.]                     <br>Adjacency num: 1\", \"Username: chicoxyzzy                     <br>Files changed: 118                     <br>Activity interval: [2014. 2016.]                     <br>Adjacency num: 7\", \"Username: keyz                     <br>Files changed: 120                     <br>Activity interval: [2015. 2017.]                     <br>Adjacency num: 1\", \"Username: mcsheffrey                     <br>Files changed: 89                     <br>Activity interval: [2013. 2013.]                     <br>Adjacency num: 3\", \"Username: eps1lon                     <br>Files changed: 108                     <br>Activity interval: [2019. 2021.]                     <br>Adjacency num: 5\", \"Username: bgw                     <br>Files changed: 237                     <br>Activity interval: [2015. 2015.]                     <br>Adjacency num: 1\", \"Username: NE-SmallTown                     <br>Files changed: 22                     <br>Activity interval: [2017. 2020.]                     <br>Adjacency num: 2\", \"Username: joshduck                     <br>Files changed: 25                     <br>Activity interval: [2013. 2014.]                     <br>Adjacency num: 9\", \"Username: aickin                     <br>Files changed: 29                     <br>Activity interval: [2016. 2018.]                     <br>Adjacency num: 0\", \"Username: jquense                     <br>Files changed: 67                     <br>Activity interval: [2015. 2019.]                     <br>Adjacency num: 3\", \"Username: SimenB                     <br>Files changed: 70                     <br>Activity interval: [2015. 2021.]                     <br>Adjacency num: 5\", \"Username: philipp-spiess                     <br>Files changed: 96                     <br>Activity interval: [2017. 2020.]                     <br>Adjacency num: 1\", \"Username: Daniel15                     <br>Files changed: 268                     <br>Activity interval: [2013. 2019.]                     <br>Adjacency num: 10\", \"Username: iamdustan                     <br>Files changed: 98                     <br>Activity interval: [2015. 2019.]                     <br>Adjacency num: 1\", \"Username: threepointone                     <br>Files changed: 169                     <br>Activity interval: [2019. 2020.]                     <br>Adjacency num: 2\", \"Username: Simek                     <br>Files changed: 18                     <br>Activity interval: [2013. 2018.]                     <br>Adjacency num: 0\", \"Username: fisherwebdev                     <br>Files changed: 32                     <br>Activity interval: [2014. 2015.]                     <br>Adjacency num: 3\", \"Username: fabiomcosta                     <br>Files changed: 18                     <br>Activity interval: [2013. 2015.]                     <br>Adjacency num: 1\", \"Username: sompylasar                     <br>Files changed: 46                     <br>Activity interval: [2018. 2020.]                     <br>Adjacency num: 9\", \"Username: jordwalke                     <br>Files changed: 42                     <br>Activity interval: [2013. 2014.]                     <br>Adjacency num: 7\", \"Username: raphamorim                     <br>Files changed: 269                     <br>Activity interval: [2018. 2018.]                     <br>Adjacency num: 4\", \"Username: arkist                     <br>Files changed: 41                     <br>Activity interval: [2015. 2015.]                     <br>Adjacency num: 9\", \"Username: cody                     <br>Files changed: 21                     <br>Activity interval: [2014. 2016.]                     <br>Adjacency num: 4\", \"Username: iamchenxin                     <br>Files changed: 343                     <br>Activity interval: [2015. 2016.]                     <br>Adjacency num: 6\", \"Username: bl00mber                     <br>Files changed: 52                     <br>Activity interval: [2018. 2021.]                     <br>Adjacency num: 3\"], \"type\": \"scatter\", \"x\": [1136.14, 3415.8, 3592.8, 1630.62, 3378.6, 2786.0, 1258.22, 3403.0, 1154.84, 1063.46, 1456.14, 1004.72, 1560.02, 630.44, 3066.0, 3752.8, 816.54, 1402.42, 4571.2, 951.04, 3018.8, 3878.4, 866.2, 1295.88, 3888.6, 3555.6, 813.56, 738.84, 590.6, 3793.6, 308.72, 4136.4, 1217.68, 1972.28, 2443.4, 3620.4, 4617.6, 1087.36, 3409.8, 4173.4, 2398.2, 1007.88, 112.374, 4012.0, 868.54, 3355.6, 1205.78, 1725.92, 815.38, 3840.4], \"y\": [1575.86, 1165.2, 1529.0, 1518.82, 1410.12, 1435.92, 1185.12, 1271.52, 1938.66, 1667.5, 1556.5, 2127.8, 1865.2, 2049.4, 853.32, 1427.3, 1886.42, 1954.44, 1269.26, 465.9, 978.4, 1617.34, 1236.28, 1085.18, 2012.0, 35.478, 1643.16, 594.08, 1623.72, 1279.36, 836.54, 713.44, 1838.34, 884.6, 1030.4, 938.62, 999.96, 1009.1, 1713.8, 1653.84, 672.6, 1342.6, 2435.4, 1206.0, 2021.0, 580.7, 1345.12, 1262.64, 1092.04, 1096.56]}],                        {\"annotations\": [{\"showarrow\": false, \"text\": \"Params: {'file_coef': 1, 'time_coef': -0.5}, min_value_for_edge: 0.6\", \"x\": 0.005, \"xref\": \"paper\", \"y\": -0.002, \"yref\": \"paper\"}], \"margin\": {\"b\": 20, \"l\": 5, \"r\": 5, \"t\": 40}, \"showlegend\": false, \"template\": {\"data\": {\"bar\": [{\"error_x\": {\"color\": \"#2a3f5f\"}, \"error_y\": {\"color\": \"#2a3f5f\"}, \"marker\": {\"line\": {\"color\": \"#E5ECF6\", \"width\": 0.5}}, \"type\": \"bar\"}], \"barpolar\": [{\"marker\": {\"line\": {\"color\": \"#E5ECF6\", \"width\": 0.5}}, \"type\": \"barpolar\"}], \"carpet\": [{\"aaxis\": {\"endlinecolor\": \"#2a3f5f\", \"gridcolor\": \"white\", \"linecolor\": \"white\", \"minorgridcolor\": \"white\", \"startlinecolor\": \"#2a3f5f\"}, \"baxis\": {\"endlinecolor\": \"#2a3f5f\", \"gridcolor\": \"white\", \"linecolor\": \"white\", \"minorgridcolor\": \"white\", \"startlinecolor\": \"#2a3f5f\"}, \"type\": \"carpet\"}], \"choropleth\": [{\"colorbar\": {\"outlinewidth\": 0, \"ticks\": \"\"}, \"type\": \"choropleth\"}], \"contour\": [{\"colorbar\": {\"outlinewidth\": 0, \"ticks\": \"\"}, \"colorscale\": [[0.0, \"#0d0887\"], [0.1111111111111111, \"#46039f\"], [0.2222222222222222, \"#7201a8\"], [0.3333333333333333, \"#9c179e\"], [0.4444444444444444, \"#bd3786\"], [0.5555555555555556, \"#d8576b\"], [0.6666666666666666, \"#ed7953\"], [0.7777777777777778, \"#fb9f3a\"], [0.8888888888888888, \"#fdca26\"], [1.0, \"#f0f921\"]], \"type\": \"contour\"}], \"contourcarpet\": [{\"colorbar\": {\"outlinewidth\": 0, \"ticks\": \"\"}, \"type\": \"contourcarpet\"}], \"heatmap\": [{\"colorbar\": {\"outlinewidth\": 0, \"ticks\": \"\"}, \"colorscale\": [[0.0, \"#0d0887\"], [0.1111111111111111, \"#46039f\"], [0.2222222222222222, \"#7201a8\"], [0.3333333333333333, \"#9c179e\"], [0.4444444444444444, \"#bd3786\"], [0.5555555555555556, \"#d8576b\"], [0.6666666666666666, \"#ed7953\"], [0.7777777777777778, \"#fb9f3a\"], [0.8888888888888888, \"#fdca26\"], [1.0, \"#f0f921\"]], \"type\": \"heatmap\"}], \"heatmapgl\": [{\"colorbar\": {\"outlinewidth\": 0, \"ticks\": \"\"}, \"colorscale\": [[0.0, \"#0d0887\"], [0.1111111111111111, \"#46039f\"], [0.2222222222222222, \"#7201a8\"], [0.3333333333333333, \"#9c179e\"], [0.4444444444444444, \"#bd3786\"], [0.5555555555555556, \"#d8576b\"], [0.6666666666666666, \"#ed7953\"], [0.7777777777777778, \"#fb9f3a\"], [0.8888888888888888, \"#fdca26\"], [1.0, \"#f0f921\"]], \"type\": \"heatmapgl\"}], \"histogram\": [{\"marker\": {\"colorbar\": {\"outlinewidth\": 0, \"ticks\": \"\"}}, \"type\": \"histogram\"}], \"histogram2d\": [{\"colorbar\": {\"outlinewidth\": 0, \"ticks\": \"\"}, \"colorscale\": [[0.0, \"#0d0887\"], [0.1111111111111111, \"#46039f\"], [0.2222222222222222, \"#7201a8\"], [0.3333333333333333, \"#9c179e\"], [0.4444444444444444, \"#bd3786\"], [0.5555555555555556, \"#d8576b\"], [0.6666666666666666, \"#ed7953\"], [0.7777777777777778, \"#fb9f3a\"], [0.8888888888888888, \"#fdca26\"], [1.0, \"#f0f921\"]], \"type\": \"histogram2d\"}], \"histogram2dcontour\": [{\"colorbar\": {\"outlinewidth\": 0, \"ticks\": \"\"}, \"colorscale\": [[0.0, \"#0d0887\"], [0.1111111111111111, \"#46039f\"], [0.2222222222222222, \"#7201a8\"], [0.3333333333333333, \"#9c179e\"], [0.4444444444444444, \"#bd3786\"], [0.5555555555555556, \"#d8576b\"], [0.6666666666666666, \"#ed7953\"], [0.7777777777777778, \"#fb9f3a\"], [0.8888888888888888, \"#fdca26\"], [1.0, \"#f0f921\"]], \"type\": \"histogram2dcontour\"}], \"mesh3d\": [{\"colorbar\": {\"outlinewidth\": 0, \"ticks\": \"\"}, \"type\": \"mesh3d\"}], \"parcoords\": [{\"line\": {\"colorbar\": {\"outlinewidth\": 0, \"ticks\": \"\"}}, \"type\": \"parcoords\"}], \"pie\": [{\"automargin\": true, \"type\": \"pie\"}], \"scatter\": [{\"marker\": {\"colorbar\": {\"outlinewidth\": 0, \"ticks\": \"\"}}, \"type\": \"scatter\"}], \"scatter3d\": [{\"line\": {\"colorbar\": {\"outlinewidth\": 0, \"ticks\": \"\"}}, \"marker\": {\"colorbar\": {\"outlinewidth\": 0, \"ticks\": \"\"}}, \"type\": \"scatter3d\"}], \"scattercarpet\": [{\"marker\": {\"colorbar\": {\"outlinewidth\": 0, \"ticks\": \"\"}}, \"type\": \"scattercarpet\"}], \"scattergeo\": [{\"marker\": {\"colorbar\": {\"outlinewidth\": 0, \"ticks\": \"\"}}, \"type\": \"scattergeo\"}], \"scattergl\": [{\"marker\": {\"colorbar\": {\"outlinewidth\": 0, \"ticks\": \"\"}}, \"type\": \"scattergl\"}], \"scattermapbox\": [{\"marker\": {\"colorbar\": {\"outlinewidth\": 0, \"ticks\": \"\"}}, \"type\": \"scattermapbox\"}], \"scatterpolar\": [{\"marker\": {\"colorbar\": {\"outlinewidth\": 0, \"ticks\": \"\"}}, \"type\": \"scatterpolar\"}], \"scatterpolargl\": [{\"marker\": {\"colorbar\": {\"outlinewidth\": 0, \"ticks\": \"\"}}, \"type\": \"scatterpolargl\"}], \"scatterternary\": [{\"marker\": {\"colorbar\": {\"outlinewidth\": 0, \"ticks\": \"\"}}, \"type\": \"scatterternary\"}], \"surface\": [{\"colorbar\": {\"outlinewidth\": 0, \"ticks\": \"\"}, \"colorscale\": [[0.0, \"#0d0887\"], [0.1111111111111111, \"#46039f\"], [0.2222222222222222, \"#7201a8\"], [0.3333333333333333, \"#9c179e\"], [0.4444444444444444, \"#bd3786\"], [0.5555555555555556, \"#d8576b\"], [0.6666666666666666, \"#ed7953\"], [0.7777777777777778, \"#fb9f3a\"], [0.8888888888888888, \"#fdca26\"], [1.0, \"#f0f921\"]], \"type\": \"surface\"}], \"table\": [{\"cells\": {\"fill\": {\"color\": \"#EBF0F8\"}, \"line\": {\"color\": \"white\"}}, \"header\": {\"fill\": {\"color\": \"#C8D4E3\"}, \"line\": {\"color\": \"white\"}}, \"type\": \"table\"}]}, \"layout\": {\"annotationdefaults\": {\"arrowcolor\": \"#2a3f5f\", \"arrowhead\": 0, \"arrowwidth\": 1}, \"autotypenumbers\": \"strict\", \"coloraxis\": {\"colorbar\": {\"outlinewidth\": 0, \"ticks\": \"\"}}, \"colorscale\": {\"diverging\": [[0, \"#8e0152\"], [0.1, \"#c51b7d\"], [0.2, \"#de77ae\"], [0.3, \"#f1b6da\"], [0.4, \"#fde0ef\"], [0.5, \"#f7f7f7\"], [0.6, \"#e6f5d0\"], [0.7, \"#b8e186\"], [0.8, \"#7fbc41\"], [0.9, \"#4d9221\"], [1, \"#276419\"]], \"sequential\": [[0.0, \"#0d0887\"], [0.1111111111111111, \"#46039f\"], [0.2222222222222222, \"#7201a8\"], [0.3333333333333333, \"#9c179e\"], [0.4444444444444444, \"#bd3786\"], [0.5555555555555556, \"#d8576b\"], [0.6666666666666666, \"#ed7953\"], [0.7777777777777778, \"#fb9f3a\"], [0.8888888888888888, \"#fdca26\"], [1.0, \"#f0f921\"]], \"sequentialminus\": [[0.0, \"#0d0887\"], [0.1111111111111111, \"#46039f\"], [0.2222222222222222, \"#7201a8\"], [0.3333333333333333, \"#9c179e\"], [0.4444444444444444, \"#bd3786\"], [0.5555555555555556, \"#d8576b\"], [0.6666666666666666, \"#ed7953\"], [0.7777777777777778, \"#fb9f3a\"], [0.8888888888888888, \"#fdca26\"], [1.0, \"#f0f921\"]]}, \"colorway\": [\"#636efa\", \"#EF553B\", \"#00cc96\", \"#ab63fa\", \"#FFA15A\", \"#19d3f3\", \"#FF6692\", \"#B6E880\", \"#FF97FF\", \"#FECB52\"], \"font\": {\"color\": \"#2a3f5f\"}, \"geo\": {\"bgcolor\": \"white\", \"lakecolor\": \"white\", \"landcolor\": \"#E5ECF6\", \"showlakes\": true, \"showland\": true, \"subunitcolor\": \"white\"}, \"hoverlabel\": {\"align\": \"left\"}, \"hovermode\": \"closest\", \"mapbox\": {\"style\": \"light\"}, \"paper_bgcolor\": \"white\", \"plot_bgcolor\": \"#E5ECF6\", \"polar\": {\"angularaxis\": {\"gridcolor\": \"white\", \"linecolor\": \"white\", \"ticks\": \"\"}, \"bgcolor\": \"#E5ECF6\", \"radialaxis\": {\"gridcolor\": \"white\", \"linecolor\": \"white\", \"ticks\": \"\"}}, \"scene\": {\"xaxis\": {\"backgroundcolor\": \"#E5ECF6\", \"gridcolor\": \"white\", \"gridwidth\": 2, \"linecolor\": \"white\", \"showbackground\": true, \"ticks\": \"\", \"zerolinecolor\": \"white\"}, \"yaxis\": {\"backgroundcolor\": \"#E5ECF6\", \"gridcolor\": \"white\", \"gridwidth\": 2, \"linecolor\": \"white\", \"showbackground\": true, \"ticks\": \"\", \"zerolinecolor\": \"white\"}, \"zaxis\": {\"backgroundcolor\": \"#E5ECF6\", \"gridcolor\": \"white\", \"gridwidth\": 2, \"linecolor\": \"white\", \"showbackground\": true, \"ticks\": \"\", \"zerolinecolor\": \"white\"}}, \"shapedefaults\": {\"line\": {\"color\": \"#2a3f5f\"}}, \"ternary\": {\"aaxis\": {\"gridcolor\": \"white\", \"linecolor\": \"white\", \"ticks\": \"\"}, \"baxis\": {\"gridcolor\": \"white\", \"linecolor\": \"white\", \"ticks\": \"\"}, \"bgcolor\": \"#E5ECF6\", \"caxis\": {\"gridcolor\": \"white\", \"linecolor\": \"white\", \"ticks\": \"\"}}, \"title\": {\"x\": 0.05}, \"xaxis\": {\"automargin\": true, \"gridcolor\": \"white\", \"linecolor\": \"white\", \"ticks\": \"\", \"title\": {\"standoff\": 15}, \"zerolinecolor\": \"white\", \"zerolinewidth\": 2}, \"yaxis\": {\"automargin\": true, \"gridcolor\": \"white\", \"linecolor\": \"white\", \"ticks\": \"\", \"title\": {\"standoff\": 15}, \"zerolinecolor\": \"white\", \"zerolinewidth\": 2}}}, \"title\": {\"font\": {\"size\": 16}, \"text\": \"Social graph of React developers\"}, \"xaxis\": {\"showgrid\": false, \"showticklabels\": false, \"zeroline\": false}, \"yaxis\": {\"showgrid\": false, \"showticklabels\": false, \"zeroline\": false}},                        {\"responsive\": true}                    ).then(function(){\n",
       "                            \n",
       "var gd = document.getElementById('f748a48e-7589-463b-b50a-f285dc331088');\n",
       "var x = new MutationObserver(function (mutations, observer) {{\n",
       "        var display = window.getComputedStyle(gd).display;\n",
       "        if (!display || display === 'none') {{\n",
       "            console.log([gd, 'removed!']);\n",
       "            Plotly.purge(gd);\n",
       "            observer.disconnect();\n",
       "        }}\n",
       "}});\n",
       "\n",
       "// Listen for the removal of the full notebook cells\n",
       "var notebookContainer = gd.closest('#notebook-container');\n",
       "if (notebookContainer) {{\n",
       "    x.observe(notebookContainer, {childList: true});\n",
       "}}\n",
       "\n",
       "// Listen for the clearing of the current output cell\n",
       "var outputEl = gd.closest('.output');\n",
       "if (outputEl) {{\n",
       "    x.observe(outputEl, {childList: true});\n",
       "}}\n",
       "\n",
       "                        })                };                });            </script>        </div>"
      ]
     },
     "metadata": {},
     "output_type": "display_data"
    }
   ],
   "source": [
    "fig = go.Figure(trace,\n",
    "                layout=go.Layout(\n",
    "                title='Social graph of React developers',\n",
    "                titlefont_size=16,\n",
    "                showlegend=False,\n",
    "                margin=dict(b=20,l=5,r=5,t=40),\n",
    "                annotations=[ dict(\n",
    "                    text=f\"Params: {weights_params}, min_value_for_edge: {min_value_for_edge}\",\n",
    "                    showarrow=False,\n",
    "                    xref=\"paper\", yref=\"paper\",\n",
    "                    x=0.005, y=-0.002 ) ],\n",
    "                xaxis=dict(showgrid=False, zeroline=False, showticklabels=False),\n",
    "                yaxis=dict(showgrid=False, zeroline=False, showticklabels=False)))\n",
    "fig.show()"
   ]
  },
  {
   "cell_type": "code",
   "execution_count": null,
   "id": "encouraging-circus",
   "metadata": {},
   "outputs": [],
   "source": []
  }
 ],
 "metadata": {
  "kernelspec": {
   "display_name": "Python 3",
   "language": "python",
   "name": "python3"
  },
  "language_info": {
   "codemirror_mode": {
    "name": "ipython",
    "version": 3
   },
   "file_extension": ".py",
   "mimetype": "text/x-python",
   "name": "python",
   "nbconvert_exporter": "python",
   "pygments_lexer": "ipython3",
   "version": "3.7.4"
  }
 },
 "nbformat": 4,
 "nbformat_minor": 5
}

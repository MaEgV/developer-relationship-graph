{
 "cells": [
  {
   "cell_type": "markdown",
   "id": "enabling-impossible",
   "metadata": {},
   "source": [
    "# Developer social graph vizualization"
   ]
  },
  {
   "cell_type": "markdown",
   "id": "deluxe-executive",
   "metadata": {},
   "source": [
    "This code builds and visualizes the social graph of developers based on data in .csv format  \n",
    "\n",
    "* **Networkx** is used to create and process the graph  \n",
    "* **Plotly** is used for visualization. It can be combined with the Dash web framework"
   ]
  },
  {
   "cell_type": "markdown",
   "id": "solar-jurisdiction",
   "metadata": {},
   "source": [
    "## 1) Import, helper functions and constants defining"
   ]
  },
  {
   "cell_type": "code",
   "execution_count": 52,
   "id": "lightweight-tourism",
   "metadata": {},
   "outputs": [],
   "source": [
    "import plotly.graph_objects as go\n",
    "import plotly.express as px\n",
    "import pandas as pd\n",
    "import networkx as nx\n",
    "import numpy as np\n",
    "from itertools import combinations\n",
    "from sklearn import preprocessing\n",
    "from ast import literal_eval as le\n",
    "import math\n",
    "\n",
    "\n",
    "# Parameters:\n",
    "min_value_for_edge = 0.6\n",
    "weights_params = {'file_coef': 1, 'time_coef': -0.5}  # Parameters for edges creating\n",
    "node_size_coef, edge_width_coef = 40, 1\n",
    "\n",
    "# Constants:\n",
    "first_date = [2013, 5, 26]  # repository was created (min date)\n",
    "last_date = [2021, 4, 7]  # data was loaded (max date)\n",
    "users_filename = 'data/users/users.csv'  # A file that contains information about developers\n",
    "changes_path = 'data/changes/'  # Information about changes in files from each developer\n",
    "commits_path = 'data/commits/'  # Information about commits of developers\n",
    "\n",
    "# Helper functions\n",
    "def min_max(iterable):\n",
    "    # minmax normalization\n",
    "    m, M = min(iterable), max(iterable)\n",
    "    denominator = (M - m)\n",
    "    return list(map(lambda x: (x - m) / denominator, iterable))\n",
    "\n",
    "def get_min_max(m: float, M: float):\n",
    "    # Returns minmax function for non iterable object (it should be used in map function)\n",
    "    denominator = (M - m)\n",
    "    return lambda x: (x - m) / denominator\n",
    "\n",
    "def get_interval(sigmas_num: float, data):\n",
    "    # Returns (mean - std, mean + std) interval\n",
    "    sigma = np.std(data) * sigmas_num\n",
    "    mean = np.mean(data)\n",
    "    return np.array([max(mean - sigma, 0), min(mean + sigma, 1)])"
   ]
  },
  {
   "cell_type": "markdown",
   "id": "fifth-intersection",
   "metadata": {},
   "source": [
    "## 2) Graph creating"
   ]
  },
  {
   "cell_type": "code",
   "execution_count": 53,
   "id": "earlier-palace",
   "metadata": {},
   "outputs": [],
   "source": [
    "G = nx.Graph()\n",
    "\n",
    "users = pd.read_csv(users_filename)['login']\n",
    "G.add_nodes_from(users)"
   ]
  },
  {
   "cell_type": "markdown",
   "id": "worse-mouse",
   "metadata": {},
   "source": [
    "## 3) Data proccessing"
   ]
  },
  {
   "cell_type": "code",
   "execution_count": 54,
   "id": "treated-stretch",
   "metadata": {},
   "outputs": [],
   "source": [
    "# Weights creating:\n",
    "edges = [edge for edge in combinations(users, 2)]  # Pairs of users"
   ]
  },
  {
   "cell_type": "markdown",
   "id": "failing-devon",
   "metadata": {},
   "source": [
    "### 3.1) Data loading, parsing and converting in *pre-feature* condition"
   ]
  },
  {
   "cell_type": "code",
   "execution_count": 55,
   "id": "velvet-corps",
   "metadata": {},
   "outputs": [],
   "source": [
    "# Files intersections:\n",
    "users_changes = dict()\n",
    "files_frequency = dict()\n",
    "for user in users:\n",
    "    users_changes[user] = set(pd.read_csv(changes_path + user + '_files.csv')['filename'])  # Load changes and link them with author\n",
    "    for file in users_changes[user]:\n",
    "        files_frequency[file] = files_frequency.get(file, 0) + 1  # Count frequency to reduce the impact of popular files(like tests, docx or readme)\n",
    "\n",
    "        \n",
    "# Dates intersections:\n",
    "to_days = lambda x: round(x[0] * 365.25 + x[1] * 30 + x[2])  # approximate number of days since the birth of Christ\n",
    "custom_min_max = get_min_max(to_days(first_date), to_days(last_date))\n",
    "\n",
    "main_activity_interval = dict()\n",
    "for user in users:\n",
    "    commits_in_str = list(pd.read_csv(commits_path + user + '_commits.csv')['commit'])  # Long string from the file\n",
    "    commits_in_dict = list(map(le, commits_in_str))  # ---------------------------------- Dictionary representation\n",
    "    times = list(map(lambda x: x['author']['date'], commits_in_dict))  # ---------------- Get time: ---------------- 2019-08-29T23:04:47Z\n",
    "    dates = list(map(lambda x: x.split('T')[0], times))  # ------------------------------ Just date: --------------- 2019-08-29T23:04:47Z -> 2019-08-29\n",
    "    splited_dates = list(map(lambda x: [int(elem) for elem in x.split('-')], dates))  # - Date in a convenient form: 2019-08-29 -> [2019, 8, 29]\n",
    "    date_in_days = list(map(to_days, splited_dates))  # --------------------------------- Date in days form: ------- [2019, 8, 29] -> 737709\n",
    "    normilized_date = list(map(custom_min_max, date_in_days))\n",
    "    main_activity_interval[user] = get_interval(2, normilized_date)\n"
   ]
  },
  {
   "cell_type": "markdown",
   "id": "bottom-consequence",
   "metadata": {},
   "source": [
    "### 3.2) Feature creating"
   ]
  },
  {
   "cell_type": "code",
   "execution_count": 56,
   "id": "guilty-repository",
   "metadata": {},
   "outputs": [],
   "source": [
    "features_matrix = list()\n",
    "# Files feature:\n",
    "file_feature = list()\n",
    "for edge in edges:\n",
    "    files_intersection = users_changes[edge[0]].intersection(users_changes[edge[1]])  # Overlapping files for a pair of developers\n",
    "    if files_intersection:\n",
    "        file_feature.append(len(files_intersection) / sum([files_frequency[file] for file in files_intersection]))  # Remember about the frequency of files from prev block\n",
    "    else:\n",
    "        file_feature.append(0)  # No intersections = no links\n",
    "                                                             \n",
    "features_matrix.append(min_max(file_feature))\n",
    "                       \n",
    "    \n",
    "# Time feature:\n",
    "time_feature = list()\n",
    "for edge in edges:\n",
    "    time_intersection = np.absolute(main_activity_interval[edge[0]] - main_activity_interval[edge[1]])\n",
    "    time_feature.append(sum(time_intersection))\n",
    "                                                        \n",
    "features_matrix.append(min_max(time_feature))"
   ]
  },
  {
   "cell_type": "markdown",
   "id": "passive-welsh",
   "metadata": {},
   "source": [
    "## 4) Adding fetures in graph"
   ]
  },
  {
   "cell_type": "code",
   "execution_count": 57,
   "id": "pending-friday",
   "metadata": {},
   "outputs": [],
   "source": [
    "# Weights creating:\n",
    "weights_vector = np.array(list(weights_params.values())).dot(np.array(features_matrix))  # Ax = b, where A - feature\n",
    "                                                         \n",
    "# Weights normalization:\n",
    "normilized_weights = min_max(weights_vector)\n",
    "    \n",
    "# Edges creating:\n",
    "for pair in zip(edges, normilized_weights):\n",
    "    edge, weight = pair\n",
    "    if weight > min_value_for_edge:  # Сheck discards minor links from the graff\n",
    "        G.add_edge(edge[0], edge[1], weight=weight)"
   ]
  },
  {
   "cell_type": "markdown",
   "id": "diagnostic-reflection",
   "metadata": {},
   "source": [
    "## 5) Graph rendering"
   ]
  },
  {
   "cell_type": "code",
   "execution_count": 58,
   "id": "constitutional-journal",
   "metadata": {},
   "outputs": [],
   "source": [
    "pos = nx.drawing.nx_agraph.graphviz_layout(G, prog='fdp')  # Nodes positions\n",
    "trace = []  # Traces container"
   ]
  },
  {
   "cell_type": "markdown",
   "id": "german-flashing",
   "metadata": {},
   "source": [
    "### 5.1) Edge proccessing"
   ]
  },
  {
   "cell_type": "code",
   "execution_count": 59,
   "id": "incorrect-complex",
   "metadata": {},
   "outputs": [],
   "source": [
    "for edge in G.edges():\n",
    "    x0, y0 = pos[edge[0]]\n",
    "    x1, y1 = pos[edge[1]]\n",
    "    edge_text.append(str(weight))\n",
    "    weight = G.edges[edge]['weight']\n",
    "    trace.append(go.Scatter(x=tuple([x0*2, x1*2, None]), y=tuple([y0*2, y1*2, None]),\n",
    "                            opacity=weight,\n",
    "                            mode='lines',\n",
    "                            line={'width': weight * edge_width_coef, 'color': 'darkgreen'}))\n",
    "    "
   ]
  },
  {
   "cell_type": "markdown",
   "id": "limited-travel",
   "metadata": {},
   "source": [
    "### 5.2) Nodes proccessing"
   ]
  },
  {
   "cell_type": "code",
   "execution_count": 60,
   "id": "special-break",
   "metadata": {},
   "outputs": [],
   "source": [
    "node_x = []\n",
    "node_y = []\n",
    "for node in G.nodes():\n",
    "    x, y = pos[node]\n",
    "    node_x.append(x*2)\n",
    "    node_y.append(y*2)\n",
    "    \n",
    "# Creating sizes for nodes\n",
    "size_list = list(map(len, users_changes.values()))\n",
    "normilized_sizes = np.array(list(map(lambda x: max(0.3, x), min_max(size_list))))\n",
    "\n",
    "node_trace = go.Scatter(\n",
    "    x=node_x, y=node_y,\n",
    "    mode='markers',\n",
    "    hoverinfo='text',\n",
    "    marker=dict(\n",
    "        showscale=True,\n",
    "        colorscale='balance',\n",
    "        reversescale=True,\n",
    "        size=normilized_sizes * node_size_coef,\n",
    "        colorbar=dict(\n",
    "            thickness=15,\n",
    "            title='Adjacency num',\n",
    "            xanchor='left',\n",
    "            titleside='right'\n",
    "        ),\n",
    "        line_width=1))\n",
    "\n",
    "trace.append(node_trace)\n",
    "\n",
    "# Hover label creating:\n",
    "node_adjacencies = []\n",
    "node_text = []\n",
    "for node, adjacencies in enumerate(G.adjacency()):\n",
    "    node_adjacencies.append(len(adjacencies[1]))\n",
    "    node_text.append(f'Username: {adjacencies[0]}\\\n",
    "                     <br>Files changed: {len(users_changes[adjacencies[0]])}\\\n",
    "                     <br>Activity interval: {np.round(main_activity_interval[adjacencies[0]] * (last_date[0] - first_date[0]) + first_date[0])}\\\n",
    "                     <br>Adjacency num: {len(adjacencies[1])}')\n",
    "\n",
    "# Hover label adding:\n",
    "node_trace.marker.color = node_adjacencies\n",
    "node_trace.text = node_text"
   ]
  },
  {
   "cell_type": "markdown",
   "id": "silent-selling",
   "metadata": {},
   "source": [
    "### 5.3) Figure creating and rendering"
   ]
  },
  {
   "cell_type": "code",
   "execution_count": 61,
   "id": "technological-thinking",
   "metadata": {},
   "outputs": [
    {
     "data": {
      "application/vnd.plotly.v1+json": {
       "config": {
        "plotlyServerURL": "https://plot.ly"
       },
       "data": [
        {
         "line": {
          "color": "darkgreen",
          "width": 0.721866504926751
         },
         "mode": "lines",
         "opacity": 0.721866504926751,
         "type": "scatter",
         "x": [
          1099.16,
          1566.32,
          null
         ],
         "y": [
          1753.76,
          1653.38,
          null
         ]
        },
        {
         "line": {
          "color": "darkgreen",
          "width": 0.6730728622454369
         },
         "mode": "lines",
         "opacity": 0.6730728622454369,
         "type": "scatter",
         "x": [
          1099.16,
          1097.36,
          null
         ],
         "y": [
          1753.76,
          1394.04,
          null
         ]
        },
        {
         "line": {
          "color": "darkgreen",
          "width": 0.7980304576724391
         },
         "mode": "lines",
         "opacity": 0.7980304576724391,
         "type": "scatter",
         "x": [
          1099.16,
          1064.2,
          null
         ],
         "y": [
          1753.76,
          2070,
          null
         ]
        },
        {
         "line": {
          "color": "darkgreen",
          "width": 0.6759632329197748
         },
         "mode": "lines",
         "opacity": 0.6759632329197748,
         "type": "scatter",
         "x": [
          1099.16,
          1094.52,
          null
         ],
         "y": [
          1753.76,
          1922.16,
          null
         ]
        },
        {
         "line": {
          "color": "darkgreen",
          "width": 0.6576017037405144
         },
         "mode": "lines",
         "opacity": 0.6576017037405144,
         "type": "scatter",
         "x": [
          1099.16,
          1489.54,
          null
         ],
         "y": [
          1753.76,
          1806.36,
          null
         ]
        },
        {
         "line": {
          "color": "darkgreen",
          "width": 0.6787780236818317
         },
         "mode": "lines",
         "opacity": 0.6787780236818317,
         "type": "scatter",
         "x": [
          1099.16,
          842.48,
          null
         ],
         "y": [
          1753.76,
          2216.4,
          null
         ]
        },
        {
         "line": {
          "color": "darkgreen",
          "width": 0.8236385310379191
         },
         "mode": "lines",
         "opacity": 0.8236385310379191,
         "type": "scatter",
         "x": [
          1099.16,
          1486.14,
          null
         ],
         "y": [
          1753.76,
          2075,
          null
         ]
        },
        {
         "line": {
          "color": "darkgreen",
          "width": 0.6468822877047982
         },
         "mode": "lines",
         "opacity": 0.6468822877047982,
         "type": "scatter",
         "x": [
          1099.16,
          588.98,
          null
         ],
         "y": [
          1753.76,
          2240,
          null
         ]
        },
        {
         "line": {
          "color": "darkgreen",
          "width": 0.6446083235864589
         },
         "mode": "lines",
         "opacity": 0.6446083235864589,
         "type": "scatter",
         "x": [
          1099.16,
          1137.88,
          null
         ],
         "y": [
          1753.76,
          2319.4,
          null
         ]
        },
        {
         "line": {
          "color": "darkgreen",
          "width": 0.6249196275914777
         },
         "mode": "lines",
         "opacity": 0.6249196275914777,
         "type": "scatter",
         "x": [
          1099.16,
          1326.72,
          null
         ],
         "y": [
          1753.76,
          1482.04,
          null
         ]
        },
        {
         "line": {
          "color": "darkgreen",
          "width": 0.7214208481489884
         },
         "mode": "lines",
         "opacity": 0.7214208481489884,
         "type": "scatter",
         "x": [
          1099.16,
          856.84,
          null
         ],
         "y": [
          1753.76,
          1444.26,
          null
         ]
        },
        {
         "line": {
          "color": "darkgreen",
          "width": 0.6907012468238405
         },
         "mode": "lines",
         "opacity": 0.6907012468238405,
         "type": "scatter",
         "x": [
          1099.16,
          657,
          null
         ],
         "y": [
          1753.76,
          1539.64,
          null
         ]
        },
        {
         "line": {
          "color": "darkgreen",
          "width": 0.6800999356858285
         },
         "mode": "lines",
         "opacity": 0.6800999356858285,
         "type": "scatter",
         "x": [
          1099.16,
          864.12,
          null
         ],
         "y": [
          1753.76,
          1943.6,
          null
         ]
        },
        {
         "line": {
          "color": "darkgreen",
          "width": 0.6202442472137893
         },
         "mode": "lines",
         "opacity": 0.6202442472137893,
         "type": "scatter",
         "x": [
          1099.16,
          599,
          null
         ],
         "y": [
          1753.76,
          1926.24,
          null
         ]
        },
        {
         "line": {
          "color": "darkgreen",
          "width": 0.7027394419160228
         },
         "mode": "lines",
         "opacity": 0.7027394419160228,
         "type": "scatter",
         "x": [
          1099.16,
          1288.88,
          null
         ],
         "y": [
          1753.76,
          2106.4,
          null
         ]
        },
        {
         "line": {
          "color": "darkgreen",
          "width": 0.7856565277083414
         },
         "mode": "lines",
         "opacity": 0.7856565277083414,
         "type": "scatter",
         "x": [
          1099.16,
          948.88,
          null
         ],
         "y": [
          1753.76,
          1230.4,
          null
         ]
        },
        {
         "line": {
          "color": "darkgreen",
          "width": 0.7449017988477188
         },
         "mode": "lines",
         "opacity": 0.7449017988477188,
         "type": "scatter",
         "x": [
          1099.16,
          1276.22,
          null
         ],
         "y": [
          1753.76,
          1283.98,
          null
         ]
        },
        {
         "line": {
          "color": "darkgreen",
          "width": 0.6363878725694069
         },
         "mode": "lines",
         "opacity": 0.6363878725694069,
         "type": "scatter",
         "x": [
          1099.16,
          924.22,
          null
         ],
         "y": [
          1753.76,
          2320.2,
          null
         ]
        },
        {
         "line": {
          "color": "darkgreen",
          "width": 0.7288981690527697
         },
         "mode": "lines",
         "opacity": 0.7288981690527697,
         "type": "scatter",
         "x": [
          1099.16,
          1011.1,
          null
         ],
         "y": [
          1753.76,
          1610.72,
          null
         ]
        },
        {
         "line": {
          "color": "darkgreen",
          "width": 0.6756027458310533
         },
         "mode": "lines",
         "opacity": 0.6756027458310533,
         "type": "scatter",
         "x": [
          1099.16,
          1584.72,
          null
         ],
         "y": [
          1753.76,
          1425.22,
          null
         ]
        },
        {
         "line": {
          "color": "darkgreen",
          "width": 0.6154271552102899
         },
         "mode": "lines",
         "opacity": 0.6154271552102899,
         "type": "scatter",
         "x": [
          1099.16,
          595.76,
          null
         ],
         "y": [
          1753.76,
          1412.34,
          null
         ]
        },
        {
         "line": {
          "color": "darkgreen",
          "width": 0.7001388023593837
         },
         "mode": "lines",
         "opacity": 0.7001388023593837,
         "type": "scatter",
         "x": [
          3244.8,
          3359,
          null
         ],
         "y": [
          1158.06,
          1480.32,
          null
         ]
        },
        {
         "line": {
          "color": "darkgreen",
          "width": 0.7425489766109225
         },
         "mode": "lines",
         "opacity": 0.7425489766109225,
         "type": "scatter",
         "x": [
          3244.8,
          3049.8,
          null
         ],
         "y": [
          1158.06,
          1208.34,
          null
         ]
        },
        {
         "line": {
          "color": "darkgreen",
          "width": 0.7205017800684788
         },
         "mode": "lines",
         "opacity": 0.7205017800684788,
         "type": "scatter",
         "x": [
          3244.8,
          2585,
          null
         ],
         "y": [
          1158.06,
          1461.92,
          null
         ]
        },
        {
         "line": {
          "color": "darkgreen",
          "width": 0.6962116636437916
         },
         "mode": "lines",
         "opacity": 0.6962116636437916,
         "type": "scatter",
         "x": [
          3244.8,
          3182.2,
          null
         ],
         "y": [
          1158.06,
          1299.66,
          null
         ]
        },
        {
         "line": {
          "color": "darkgreen",
          "width": 0.706258242403718
         },
         "mode": "lines",
         "opacity": 0.706258242403718,
         "type": "scatter",
         "x": [
          3244.8,
          2765.4,
          null
         ],
         "y": [
          1158.06,
          875.72,
          null
         ]
        },
        {
         "line": {
          "color": "darkgreen",
          "width": 0.6090473160656117
         },
         "mode": "lines",
         "opacity": 0.6090473160656117,
         "type": "scatter",
         "x": [
          3244.8,
          3555.4,
          null
         ],
         "y": [
          1158.06,
          1186.08,
          null
         ]
        },
        {
         "line": {
          "color": "darkgreen",
          "width": 0.6725490578179311
         },
         "mode": "lines",
         "opacity": 0.6725490578179311,
         "type": "scatter",
         "x": [
          3244.8,
          2775.6,
          null
         ],
         "y": [
          1158.06,
          1039.02,
          null
         ]
        },
        {
         "line": {
          "color": "darkgreen",
          "width": 0.656140059493398
         },
         "mode": "lines",
         "opacity": 0.656140059493398,
         "type": "scatter",
         "x": [
          3244.8,
          3380,
          null
         ],
         "y": [
          1158.06,
          1637.68,
          null
         ]
        },
        {
         "line": {
          "color": "darkgreen",
          "width": 0.6974702436453097
         },
         "mode": "lines",
         "opacity": 0.6974702436453097,
         "type": "scatter",
         "x": [
          3244.8,
          3313,
          null
         ],
         "y": [
          1158.06,
          810.94,
          null
         ]
        },
        {
         "line": {
          "color": "darkgreen",
          "width": 0.6082307888038548
         },
         "mode": "lines",
         "opacity": 0.6082307888038548,
         "type": "scatter",
         "x": [
          3244.8,
          3811,
          null
         ],
         "y": [
          1158.06,
          1128.1,
          null
         ]
        },
        {
         "line": {
          "color": "darkgreen",
          "width": 0.6833957441320856
         },
         "mode": "lines",
         "opacity": 0.6833957441320856,
         "type": "scatter",
         "x": [
          3244.8,
          3730,
          null
         ],
         "y": [
          1158.06,
          1033.22,
          null
         ]
        },
        {
         "line": {
          "color": "darkgreen",
          "width": 0.7365183618438045
         },
         "mode": "lines",
         "opacity": 0.7365183618438045,
         "type": "scatter",
         "x": [
          3244.8,
          3074.6,
          null
         ],
         "y": [
          1158.06,
          578.02,
          null
         ]
        },
        {
         "line": {
          "color": "darkgreen",
          "width": 0.6249689160064585
         },
         "mode": "lines",
         "opacity": 0.6249689160064585,
         "type": "scatter",
         "x": [
          3244.8,
          3620.6,
          null
         ],
         "y": [
          1158.06,
          1535.18,
          null
         ]
        },
        {
         "line": {
          "color": "darkgreen",
          "width": 0.6200369432494158
         },
         "mode": "lines",
         "opacity": 0.6200369432494158,
         "type": "scatter",
         "x": [
          3359,
          3049.8,
          null
         ],
         "y": [
          1480.32,
          1208.34,
          null
         ]
        },
        {
         "line": {
          "color": "darkgreen",
          "width": 0.6254127642857159
         },
         "mode": "lines",
         "opacity": 0.6254127642857159,
         "type": "scatter",
         "x": [
          3359,
          2585,
          null
         ],
         "y": [
          1480.32,
          1461.92,
          null
         ]
        },
        {
         "line": {
          "color": "darkgreen",
          "width": 0.6337269605495808
         },
         "mode": "lines",
         "opacity": 0.6337269605495808,
         "type": "scatter",
         "x": [
          3359,
          3182.2,
          null
         ],
         "y": [
          1480.32,
          1299.66,
          null
         ]
        },
        {
         "line": {
          "color": "darkgreen",
          "width": 0.6927009619223248
         },
         "mode": "lines",
         "opacity": 0.6927009619223248,
         "type": "scatter",
         "x": [
          3359,
          3555.4,
          null
         ],
         "y": [
          1480.32,
          1186.08,
          null
         ]
        },
        {
         "line": {
          "color": "darkgreen",
          "width": 0.6580529010954961
         },
         "mode": "lines",
         "opacity": 0.6580529010954961,
         "type": "scatter",
         "x": [
          3359,
          3506.4,
          null
         ],
         "y": [
          1480.32,
          1351.7,
          null
         ]
        },
        {
         "line": {
          "color": "darkgreen",
          "width": 0.6193920458860286
         },
         "mode": "lines",
         "opacity": 0.6193920458860286,
         "type": "scatter",
         "x": [
          3359,
          3678.2,
          null
         ],
         "y": [
          1480.32,
          1939.18,
          null
         ]
        },
        {
         "line": {
          "color": "darkgreen",
          "width": 0.8149671979115443
         },
         "mode": "lines",
         "opacity": 0.8149671979115443,
         "type": "scatter",
         "x": [
          3359,
          3380,
          null
         ],
         "y": [
          1480.32,
          1637.68,
          null
         ]
        },
        {
         "line": {
          "color": "darkgreen",
          "width": 0.783367131449665
         },
         "mode": "lines",
         "opacity": 0.783367131449665,
         "type": "scatter",
         "x": [
          3359,
          3923.8,
          null
         ],
         "y": [
          1480.32,
          1485.98,
          null
         ]
        },
        {
         "line": {
          "color": "darkgreen",
          "width": 0.9461247482828622
         },
         "mode": "lines",
         "opacity": 0.9461247482828622,
         "type": "scatter",
         "x": [
          3359,
          3730,
          null
         ],
         "y": [
          1480.32,
          1033.22,
          null
         ]
        },
        {
         "line": {
          "color": "darkgreen",
          "width": 0.8302387433430958
         },
         "mode": "lines",
         "opacity": 0.8302387433430958,
         "type": "scatter",
         "x": [
          3359,
          3620.6,
          null
         ],
         "y": [
          1480.32,
          1535.18,
          null
         ]
        },
        {
         "line": {
          "color": "darkgreen",
          "width": 0.6239722624771209
         },
         "mode": "lines",
         "opacity": 0.6239722624771209,
         "type": "scatter",
         "x": [
          1566.32,
          2585,
          null
         ],
         "y": [
          1653.38,
          1461.92,
          null
         ]
        },
        {
         "line": {
          "color": "darkgreen",
          "width": 0.6178758136482333
         },
         "mode": "lines",
         "opacity": 0.6178758136482333,
         "type": "scatter",
         "x": [
          1566.32,
          1064.2,
          null
         ],
         "y": [
          1653.38,
          2070,
          null
         ]
        },
        {
         "line": {
          "color": "darkgreen",
          "width": 0.6007779103686233
         },
         "mode": "lines",
         "opacity": 0.6007779103686233,
         "type": "scatter",
         "x": [
          1566.32,
          1094.52,
          null
         ],
         "y": [
          1653.38,
          1922.16,
          null
         ]
        },
        {
         "line": {
          "color": "darkgreen",
          "width": 0.6485151689048804
         },
         "mode": "lines",
         "opacity": 0.6485151689048804,
         "type": "scatter",
         "x": [
          1566.32,
          1489.54,
          null
         ],
         "y": [
          1653.38,
          1806.36,
          null
         ]
        },
        {
         "line": {
          "color": "darkgreen",
          "width": 0.6607861083325806
         },
         "mode": "lines",
         "opacity": 0.6607861083325806,
         "type": "scatter",
         "x": [
          1566.32,
          1486.14,
          null
         ],
         "y": [
          1653.38,
          2075,
          null
         ]
        },
        {
         "line": {
          "color": "darkgreen",
          "width": 0.6085369075709081
         },
         "mode": "lines",
         "opacity": 0.6085369075709081,
         "type": "scatter",
         "x": [
          1566.32,
          1326.72,
          null
         ],
         "y": [
          1653.38,
          1482.04,
          null
         ]
        },
        {
         "line": {
          "color": "darkgreen",
          "width": 0.6553080930080228
         },
         "mode": "lines",
         "opacity": 0.6553080930080228,
         "type": "scatter",
         "x": [
          1566.32,
          1288.88,
          null
         ],
         "y": [
          1653.38,
          2106.4,
          null
         ]
        },
        {
         "line": {
          "color": "darkgreen",
          "width": 0.6462699842898603
         },
         "mode": "lines",
         "opacity": 0.6462699842898603,
         "type": "scatter",
         "x": [
          1566.32,
          948.88,
          null
         ],
         "y": [
          1653.38,
          1230.4,
          null
         ]
        },
        {
         "line": {
          "color": "darkgreen",
          "width": 0.7025262450944673
         },
         "mode": "lines",
         "opacity": 0.7025262450944673,
         "type": "scatter",
         "x": [
          1566.32,
          1276.22,
          null
         ],
         "y": [
          1653.38,
          1283.98,
          null
         ]
        },
        {
         "line": {
          "color": "darkgreen",
          "width": 0.6149804156647043
         },
         "mode": "lines",
         "opacity": 0.6149804156647043,
         "type": "scatter",
         "x": [
          1566.32,
          1011.1,
          null
         ],
         "y": [
          1653.38,
          1610.72,
          null
         ]
        },
        {
         "line": {
          "color": "darkgreen",
          "width": 0.676529445173782
         },
         "mode": "lines",
         "opacity": 0.676529445173782,
         "type": "scatter",
         "x": [
          3049.8,
          2585,
          null
         ],
         "y": [
          1208.34,
          1461.92,
          null
         ]
        },
        {
         "line": {
          "color": "darkgreen",
          "width": 0.6363572165525118
         },
         "mode": "lines",
         "opacity": 0.6363572165525118,
         "type": "scatter",
         "x": [
          3049.8,
          3182.2,
          null
         ],
         "y": [
          1208.34,
          1299.66,
          null
         ]
        },
        {
         "line": {
          "color": "darkgreen",
          "width": 0.6229615154740459
         },
         "mode": "lines",
         "opacity": 0.6229615154740459,
         "type": "scatter",
         "x": [
          3049.8,
          3506.4,
          null
         ],
         "y": [
          1208.34,
          1351.7,
          null
         ]
        },
        {
         "line": {
          "color": "darkgreen",
          "width": 0.6570431385057813
         },
         "mode": "lines",
         "opacity": 0.6570431385057813,
         "type": "scatter",
         "x": [
          3049.8,
          3313,
          null
         ],
         "y": [
          1208.34,
          810.94,
          null
         ]
        },
        {
         "line": {
          "color": "darkgreen",
          "width": 0.6027800986849603
         },
         "mode": "lines",
         "opacity": 0.6027800986849603,
         "type": "scatter",
         "x": [
          2585,
          3182.2,
          null
         ],
         "y": [
          1461.92,
          1299.66,
          null
         ]
        },
        {
         "line": {
          "color": "darkgreen",
          "width": 0.7352475401324551
         },
         "mode": "lines",
         "opacity": 0.7352475401324551,
         "type": "scatter",
         "x": [
          1097.36,
          856.84,
          null
         ],
         "y": [
          1394.04,
          1444.26,
          null
         ]
        },
        {
         "line": {
          "color": "darkgreen",
          "width": 0.7278998522107025
         },
         "mode": "lines",
         "opacity": 0.7278998522107025,
         "type": "scatter",
         "x": [
          1097.36,
          657,
          null
         ],
         "y": [
          1394.04,
          1539.64,
          null
         ]
        },
        {
         "line": {
          "color": "darkgreen",
          "width": 0.68098890139367
         },
         "mode": "lines",
         "opacity": 0.68098890139367,
         "type": "scatter",
         "x": [
          1097.36,
          948.88,
          null
         ],
         "y": [
          1394.04,
          1230.4,
          null
         ]
        },
        {
         "line": {
          "color": "darkgreen",
          "width": 0.763726549262467
         },
         "mode": "lines",
         "opacity": 0.763726549262467,
         "type": "scatter",
         "x": [
          1097.36,
          1011.1,
          null
         ],
         "y": [
          1394.04,
          1610.72,
          null
         ]
        },
        {
         "line": {
          "color": "darkgreen",
          "width": 0.6560048263496235
         },
         "mode": "lines",
         "opacity": 0.6560048263496235,
         "type": "scatter",
         "x": [
          1097.36,
          1584.72,
          null
         ],
         "y": [
          1394.04,
          1425.22,
          null
         ]
        },
        {
         "line": {
          "color": "darkgreen",
          "width": 0.6305128598152162
         },
         "mode": "lines",
         "opacity": 0.6305128598152162,
         "type": "scatter",
         "x": [
          1097.36,
          595.76,
          null
         ],
         "y": [
          1394.04,
          1412.34,
          null
         ]
        },
        {
         "line": {
          "color": "darkgreen",
          "width": 0.7236797531172205
         },
         "mode": "lines",
         "opacity": 0.7236797531172205,
         "type": "scatter",
         "x": [
          3182.2,
          3555.4,
          null
         ],
         "y": [
          1299.66,
          1186.08,
          null
         ]
        },
        {
         "line": {
          "color": "darkgreen",
          "width": 0.653014756817781
         },
         "mode": "lines",
         "opacity": 0.653014756817781,
         "type": "scatter",
         "x": [
          3182.2,
          2775.6,
          null
         ],
         "y": [
          1299.66,
          1039.02,
          null
         ]
        },
        {
         "line": {
          "color": "darkgreen",
          "width": 0.6021469042245009
         },
         "mode": "lines",
         "opacity": 0.6021469042245009,
         "type": "scatter",
         "x": [
          3182.2,
          3380,
          null
         ],
         "y": [
          1299.66,
          1637.68,
          null
         ]
        },
        {
         "line": {
          "color": "darkgreen",
          "width": 0.6168766405174038
         },
         "mode": "lines",
         "opacity": 0.6168766405174038,
         "type": "scatter",
         "x": [
          3182.2,
          3730,
          null
         ],
         "y": [
          1299.66,
          1033.22,
          null
         ]
        },
        {
         "line": {
          "color": "darkgreen",
          "width": 0.681448374139174
         },
         "mode": "lines",
         "opacity": 0.681448374139174,
         "type": "scatter",
         "x": [
          1064.2,
          1094.52,
          null
         ],
         "y": [
          2070,
          1922.16,
          null
         ]
        },
        {
         "line": {
          "color": "darkgreen",
          "width": 0.6342076750358349
         },
         "mode": "lines",
         "opacity": 0.6342076750358349,
         "type": "scatter",
         "x": [
          1064.2,
          842.48,
          null
         ],
         "y": [
          2070,
          2216.4,
          null
         ]
        },
        {
         "line": {
          "color": "darkgreen",
          "width": 0.6779944236156472
         },
         "mode": "lines",
         "opacity": 0.6779944236156472,
         "type": "scatter",
         "x": [
          1064.2,
          588.98,
          null
         ],
         "y": [
          2070,
          2240,
          null
         ]
        },
        {
         "line": {
          "color": "darkgreen",
          "width": 0.6269304830837928
         },
         "mode": "lines",
         "opacity": 0.6269304830837928,
         "type": "scatter",
         "x": [
          1064.2,
          1137.88,
          null
         ],
         "y": [
          2070,
          2319.4,
          null
         ]
        },
        {
         "line": {
          "color": "darkgreen",
          "width": 0.6733060561003386
         },
         "mode": "lines",
         "opacity": 0.6733060561003386,
         "type": "scatter",
         "x": [
          1064.2,
          1288.88,
          null
         ],
         "y": [
          2070,
          2106.4,
          null
         ]
        },
        {
         "line": {
          "color": "darkgreen",
          "width": 0.6343896697657267
         },
         "mode": "lines",
         "opacity": 0.6343896697657267,
         "type": "scatter",
         "x": [
          1064.2,
          924.22,
          null
         ],
         "y": [
          2070,
          2320.2,
          null
         ]
        },
        {
         "line": {
          "color": "darkgreen",
          "width": 0.6225073783176072
         },
         "mode": "lines",
         "opacity": 0.6225073783176072,
         "type": "scatter",
         "x": [
          1094.52,
          1137.88,
          null
         ],
         "y": [
          1922.16,
          2319.4,
          null
         ]
        },
        {
         "line": {
          "color": "darkgreen",
          "width": 0.9532896875453069
         },
         "mode": "lines",
         "opacity": 0.9532896875453069,
         "type": "scatter",
         "x": [
          1094.52,
          599,
          null
         ],
         "y": [
          1922.16,
          1926.24,
          null
         ]
        },
        {
         "line": {
          "color": "darkgreen",
          "width": 0.6302124989422783
         },
         "mode": "lines",
         "opacity": 0.6302124989422783,
         "type": "scatter",
         "x": [
          1094.52,
          1011.1,
          null
         ],
         "y": [
          1922.16,
          1610.72,
          null
         ]
        },
        {
         "line": {
          "color": "darkgreen",
          "width": 0.6552678181367331
         },
         "mode": "lines",
         "opacity": 0.6552678181367331,
         "type": "scatter",
         "x": [
          1489.54,
          1288.88,
          null
         ],
         "y": [
          1806.36,
          2106.4,
          null
         ]
        },
        {
         "line": {
          "color": "darkgreen",
          "width": 0.6691374456174527
         },
         "mode": "lines",
         "opacity": 0.6691374456174527,
         "type": "scatter",
         "x": [
          1489.54,
          1584.72,
          null
         ],
         "y": [
          1806.36,
          1425.22,
          null
         ]
        },
        {
         "line": {
          "color": "darkgreen",
          "width": 0.6769140757530065
         },
         "mode": "lines",
         "opacity": 0.6769140757530065,
         "type": "scatter",
         "x": [
          842.48,
          588.98,
          null
         ],
         "y": [
          2216.4,
          2240,
          null
         ]
        },
        {
         "line": {
          "color": "darkgreen",
          "width": 0.6145350648903352
         },
         "mode": "lines",
         "opacity": 0.6145350648903352,
         "type": "scatter",
         "x": [
          842.48,
          1288.88,
          null
         ],
         "y": [
          2216.4,
          2106.4,
          null
         ]
        },
        {
         "line": {
          "color": "darkgreen",
          "width": 0.6067825669403287
         },
         "mode": "lines",
         "opacity": 0.6067825669403287,
         "type": "scatter",
         "x": [
          842.48,
          924.22,
          null
         ],
         "y": [
          2216.4,
          2320.2,
          null
         ]
        },
        {
         "line": {
          "color": "darkgreen",
          "width": 0.6281691998316704
         },
         "mode": "lines",
         "opacity": 0.6281691998316704,
         "type": "scatter",
         "x": [
          1486.14,
          1288.88,
          null
         ],
         "y": [
          2075,
          2106.4,
          null
         ]
        },
        {
         "line": {
          "color": "darkgreen",
          "width": 0.6105263131452907
         },
         "mode": "lines",
         "opacity": 0.6105263131452907,
         "type": "scatter",
         "x": [
          588.98,
          864.12,
          null
         ],
         "y": [
          2240,
          1943.6,
          null
         ]
        },
        {
         "line": {
          "color": "darkgreen",
          "width": 0.6041681947049306
         },
         "mode": "lines",
         "opacity": 0.6041681947049306,
         "type": "scatter",
         "x": [
          588.98,
          111.424,
          null
         ],
         "y": [
          2240,
          2624,
          null
         ]
        },
        {
         "line": {
          "color": "darkgreen",
          "width": 0.7227812322991857
         },
         "mode": "lines",
         "opacity": 0.7227812322991857,
         "type": "scatter",
         "x": [
          588.98,
          924.22,
          null
         ],
         "y": [
          2240,
          2320.2,
          null
         ]
        },
        {
         "line": {
          "color": "darkgreen",
          "width": 0.7446507496988276
         },
         "mode": "lines",
         "opacity": 0.7446507496988276,
         "type": "scatter",
         "x": [
          2765.4,
          2775.6,
          null
         ],
         "y": [
          875.72,
          1039.02,
          null
         ]
        },
        {
         "line": {
          "color": "darkgreen",
          "width": 0.7332922125341923
         },
         "mode": "lines",
         "opacity": 0.7332922125341923,
         "type": "scatter",
         "x": [
          2765.4,
          2234.4,
          null
         ],
         "y": [
          875.72,
          1121.46,
          null
         ]
        },
        {
         "line": {
          "color": "darkgreen",
          "width": 0.6153685646300352
         },
         "mode": "lines",
         "opacity": 0.6153685646300352,
         "type": "scatter",
         "x": [
          2765.4,
          3313,
          null
         ],
         "y": [
          875.72,
          810.94,
          null
         ]
        },
        {
         "line": {
          "color": "darkgreen",
          "width": 0.6119337770480838
         },
         "mode": "lines",
         "opacity": 0.6119337770480838,
         "type": "scatter",
         "x": [
          2765.4,
          3074.6,
          null
         ],
         "y": [
          875.72,
          578.02,
          null
         ]
        },
        {
         "line": {
          "color": "darkgreen",
          "width": 0.6551396817404147
         },
         "mode": "lines",
         "opacity": 0.6551396817404147,
         "type": "scatter",
         "x": [
          1137.88,
          1288.88,
          null
         ],
         "y": [
          2319.4,
          2106.4,
          null
         ]
        },
        {
         "line": {
          "color": "darkgreen",
          "width": 0.6053392751621074
         },
         "mode": "lines",
         "opacity": 0.6053392751621074,
         "type": "scatter",
         "x": [
          1137.88,
          924.22,
          null
         ],
         "y": [
          2319.4,
          2320.2,
          null
         ]
        },
        {
         "line": {
          "color": "darkgreen",
          "width": 0.8924655965786988
         },
         "mode": "lines",
         "opacity": 0.8924655965786988,
         "type": "scatter",
         "x": [
          4191,
          3730,
          null
         ],
         "y": [
          750.58,
          1033.22,
          null
         ]
        },
        {
         "line": {
          "color": "darkgreen",
          "width": 0.6398925493336245
         },
         "mode": "lines",
         "opacity": 0.6398925493336245,
         "type": "scatter",
         "x": [
          750.78,
          948.88,
          null
         ],
         "y": [
          739.98,
          1230.4,
          null
         ]
        },
        {
         "line": {
          "color": "darkgreen",
          "width": 0.7082083861295889
         },
         "mode": "lines",
         "opacity": 0.7082083861295889,
         "type": "scatter",
         "x": [
          2775.6,
          2234.4,
          null
         ],
         "y": [
          1039.02,
          1121.46,
          null
         ]
        },
        {
         "line": {
          "color": "darkgreen",
          "width": 0.6042189106972743
         },
         "mode": "lines",
         "opacity": 0.6042189106972743,
         "type": "scatter",
         "x": [
          2775.6,
          3074.6,
          null
         ],
         "y": [
          1039.02,
          578.02,
          null
         ]
        },
        {
         "line": {
          "color": "darkgreen",
          "width": 0.7247467994025996
         },
         "mode": "lines",
         "opacity": 0.7247467994025996,
         "type": "scatter",
         "x": [
          3506.4,
          3380,
          null
         ],
         "y": [
          1351.7,
          1637.68,
          null
         ]
        },
        {
         "line": {
          "color": "darkgreen",
          "width": 0.6664018888107169
         },
         "mode": "lines",
         "opacity": 0.6664018888107169,
         "type": "scatter",
         "x": [
          3506.4,
          3730,
          null
         ],
         "y": [
          1351.7,
          1033.22,
          null
         ]
        },
        {
         "line": {
          "color": "darkgreen",
          "width": 0.6775859470363493
         },
         "mode": "lines",
         "opacity": 0.6775859470363493,
         "type": "scatter",
         "x": [
          856.84,
          657,
          null
         ],
         "y": [
          1444.26,
          1539.64,
          null
         ]
        },
        {
         "line": {
          "color": "darkgreen",
          "width": 0.6782237511368694
         },
         "mode": "lines",
         "opacity": 0.6782237511368694,
         "type": "scatter",
         "x": [
          856.84,
          864.12,
          null
         ],
         "y": [
          1444.26,
          1943.6,
          null
         ]
        },
        {
         "line": {
          "color": "darkgreen",
          "width": 0.6625097589747317
         },
         "mode": "lines",
         "opacity": 0.6625097589747317,
         "type": "scatter",
         "x": [
          856.84,
          948.88,
          null
         ],
         "y": [
          1444.26,
          1230.4,
          null
         ]
        },
        {
         "line": {
          "color": "darkgreen",
          "width": 0.7712415791181313
         },
         "mode": "lines",
         "opacity": 0.7712415791181313,
         "type": "scatter",
         "x": [
          856.84,
          1011.1,
          null
         ],
         "y": [
          1444.26,
          1610.72,
          null
         ]
        },
        {
         "line": {
          "color": "darkgreen",
          "width": 0.6406444540421773
         },
         "mode": "lines",
         "opacity": 0.6406444540421773,
         "type": "scatter",
         "x": [
          657,
          948.88,
          null
         ],
         "y": [
          1539.64,
          1230.4,
          null
         ]
        },
        {
         "line": {
          "color": "darkgreen",
          "width": 0.6970907800360665
         },
         "mode": "lines",
         "opacity": 0.6970907800360665,
         "type": "scatter",
         "x": [
          657,
          1011.1,
          null
         ],
         "y": [
          1539.64,
          1610.72,
          null
         ]
        },
        {
         "line": {
          "color": "darkgreen",
          "width": 0.6107921942382658
         },
         "mode": "lines",
         "opacity": 0.6107921942382658,
         "type": "scatter",
         "x": [
          657,
          595.76,
          null
         ],
         "y": [
          1539.64,
          1412.34,
          null
         ]
        },
        {
         "line": {
          "color": "darkgreen",
          "width": 0.6456493367707559
         },
         "mode": "lines",
         "opacity": 0.6456493367707559,
         "type": "scatter",
         "x": [
          3205.2,
          3074.6,
          null
         ],
         "y": [
          36.204,
          578.02,
          null
         ]
        },
        {
         "line": {
          "color": "darkgreen",
          "width": 1
         },
         "mode": "lines",
         "opacity": 1,
         "type": "scatter",
         "x": [
          864.12,
          599,
          null
         ],
         "y": [
          1943.6,
          1926.24,
          null
         ]
        },
        {
         "line": {
          "color": "darkgreen",
          "width": 0.7171561820021768
         },
         "mode": "lines",
         "opacity": 0.7171561820021768,
         "type": "scatter",
         "x": [
          864.12,
          1288.88,
          null
         ],
         "y": [
          1943.6,
          2106.4,
          null
         ]
        },
        {
         "line": {
          "color": "darkgreen",
          "width": 0.6274624018723586
         },
         "mode": "lines",
         "opacity": 0.6274624018723586,
         "type": "scatter",
         "x": [
          864.12,
          924.22,
          null
         ],
         "y": [
          1943.6,
          2320.2,
          null
         ]
        },
        {
         "line": {
          "color": "darkgreen",
          "width": 0.6809733171404255
         },
         "mode": "lines",
         "opacity": 0.6809733171404255,
         "type": "scatter",
         "x": [
          864.12,
          1011.1,
          null
         ],
         "y": [
          1943.6,
          1610.72,
          null
         ]
        },
        {
         "line": {
          "color": "darkgreen",
          "width": 0.6332116010375535
         },
         "mode": "lines",
         "opacity": 0.6332116010375535,
         "type": "scatter",
         "x": [
          564.34,
          948.88,
          null
         ],
         "y": [
          892.62,
          1230.4,
          null
         ]
        },
        {
         "line": {
          "color": "darkgreen",
          "width": 0.7530103295252888
         },
         "mode": "lines",
         "opacity": 0.7530103295252888,
         "type": "scatter",
         "x": [
          3380,
          3620.6,
          null
         ],
         "y": [
          1637.68,
          1535.18,
          null
         ]
        },
        {
         "line": {
          "color": "darkgreen",
          "width": 0.6146924090600359
         },
         "mode": "lines",
         "opacity": 0.6146924090600359,
         "type": "scatter",
         "x": [
          71.408,
          595.76,
          null
         ],
         "y": [
          1270.12,
          1412.34,
          null
         ]
        },
        {
         "line": {
          "color": "darkgreen",
          "width": 0.6103364575126095
         },
         "mode": "lines",
         "opacity": 0.6103364575126095,
         "type": "scatter",
         "x": [
          3754.6,
          3313,
          null
         ],
         "y": [
          527.9,
          810.94,
          null
         ]
        },
        {
         "line": {
          "color": "darkgreen",
          "width": 0.792226780072224
         },
         "mode": "lines",
         "opacity": 0.792226780072224,
         "type": "scatter",
         "x": [
          3754.6,
          3730,
          null
         ],
         "y": [
          527.9,
          1033.22,
          null
         ]
        },
        {
         "line": {
          "color": "darkgreen",
          "width": 0.6142326156891721
         },
         "mode": "lines",
         "opacity": 0.6142326156891721,
         "type": "scatter",
         "x": [
          1288.88,
          924.22,
          null
         ],
         "y": [
          2106.4,
          2320.2,
          null
         ]
        },
        {
         "line": {
          "color": "darkgreen",
          "width": 0.9917356337607353
         },
         "mode": "lines",
         "opacity": 0.9917356337607353,
         "type": "scatter",
         "x": [
          2234.4,
          1584.72,
          null
         ],
         "y": [
          1121.46,
          1425.22,
          null
         ]
        },
        {
         "line": {
          "color": "darkgreen",
          "width": 0.6326456243993493
         },
         "mode": "lines",
         "opacity": 0.6326456243993493,
         "type": "scatter",
         "x": [
          3313,
          3730,
          null
         ],
         "y": [
          810.94,
          1033.22,
          null
         ]
        },
        {
         "line": {
          "color": "darkgreen",
          "width": 0.7034210554503234
         },
         "mode": "lines",
         "opacity": 0.7034210554503234,
         "type": "scatter",
         "x": [
          4340.8,
          3730,
          null
         ],
         "y": [
          981.44,
          1033.22,
          null
         ]
        },
        {
         "line": {
          "color": "darkgreen",
          "width": 0.603784340975915
         },
         "mode": "lines",
         "opacity": 0.603784340975915,
         "type": "scatter",
         "x": [
          948.88,
          1276.22,
          null
         ],
         "y": [
          1230.4,
          1283.98,
          null
         ]
        },
        {
         "line": {
          "color": "darkgreen",
          "width": 0.6577912265852228
         },
         "mode": "lines",
         "opacity": 0.6577912265852228,
         "type": "scatter",
         "x": [
          948.88,
          1011.1,
          null
         ],
         "y": [
          1230.4,
          1610.72,
          null
         ]
        },
        {
         "line": {
          "color": "darkgreen",
          "width": 0.6080354169991918
         },
         "mode": "lines",
         "opacity": 0.6080354169991918,
         "type": "scatter",
         "x": [
          948.88,
          595.76,
          null
         ],
         "y": [
          1230.4,
          1412.34,
          null
         ]
        },
        {
         "line": {
          "color": "darkgreen",
          "width": 0.9057542432250564
         },
         "mode": "lines",
         "opacity": 0.9057542432250564,
         "type": "scatter",
         "x": [
          3923.8,
          3730,
          null
         ],
         "y": [
          1485.98,
          1033.22,
          null
         ]
        },
        {
         "line": {
          "color": "darkgreen",
          "width": 0.7712126638082482
         },
         "mode": "lines",
         "opacity": 0.7712126638082482,
         "type": "scatter",
         "x": [
          1011.1,
          595.76,
          null
         ],
         "y": [
          1610.72,
          1412.34,
          null
         ]
        },
        {
         "hoverinfo": "text",
         "marker": {
          "color": [
           21,
           13,
           11,
           11,
           6,
           5,
           7,
           8,
           8,
           6,
           4,
           5,
           3,
           6,
           5,
           3,
           5,
           2,
           1,
           1,
           5,
           4,
           6,
           6,
           1,
           1,
           7,
           1,
           3,
           5,
           1,
           2,
           9,
           0,
           3,
           5,
           1,
           10,
           1,
           2,
           0,
           3,
           1,
           9,
           7,
           4,
           9,
           4,
           6,
           3
          ],
          "colorbar": {
           "thickness": 15,
           "title": {
            "side": "right",
            "text": "Adjacency num"
           },
           "xanchor": "left"
          },
          "colorscale": [
           [
            0,
            "rgb(23, 28, 66)"
           ],
           [
            0.09090909090909091,
            "rgb(41, 58, 143)"
           ],
           [
            0.18181818181818182,
            "rgb(11, 102, 189)"
           ],
           [
            0.2727272727272727,
            "rgb(69, 144, 185)"
           ],
           [
            0.36363636363636365,
            "rgb(142, 181, 194)"
           ],
           [
            0.45454545454545453,
            "rgb(210, 216, 219)"
           ],
           [
            0.5454545454545454,
            "rgb(230, 210, 204)"
           ],
           [
            0.6363636363636364,
            "rgb(213, 157, 137)"
           ],
           [
            0.7272727272727273,
            "rgb(196, 101, 72)"
           ],
           [
            0.8181818181818182,
            "rgb(172, 43, 36)"
           ],
           [
            0.9090909090909091,
            "rgb(120, 14, 40)"
           ],
           [
            1,
            "rgb(60, 9, 17)"
           ]
          ],
          "line": {
           "width": 1
          },
          "reversescale": true,
          "showscale": true,
          "size": [
           31.168048229088168,
           40,
           19.72871137905049,
           21.26601356443105,
           13.805576488319517,
           32.56970610399397,
           12,
           16.51846269781462,
           12,
           12,
           12,
           12,
           12,
           12,
           12,
           12,
           12,
           12,
           12,
           12,
           12,
           12,
           12,
           12,
           12,
           12,
           12,
           12,
           12,
           12,
           12,
           12,
           12,
           12,
           12,
           12,
           12,
           12,
           12,
           12,
           12,
           12,
           12,
           12,
           12,
           12,
           12,
           12,
           12,
           12
          ]
         },
         "mode": "markers",
         "text": [
          "Username: zpao                     <br>Files changed: 2086                     <br>Activity interval: [2013. 2016.]                     <br>Adjacency num: 21",
          "Username: gaearon                     <br>Files changed: 2672                     <br>Activity interval: [2015. 2021.]                     <br>Adjacency num: 13",
          "Username: bvaughn                     <br>Files changed: 1327                     <br>Activity interval: [2018. 2020.]                     <br>Adjacency num: 11",
          "Username: sophiebits                     <br>Files changed: 1429                     <br>Activity interval: [2013. 2017.]                     <br>Adjacency num: 11",
          "Username: acdlite                     <br>Files changed: 934                     <br>Activity interval: [2015. 2021.]                     <br>Adjacency num: 6",
          "Username: sebmarkbage                     <br>Files changed: 2179                     <br>Activity interval: [2013 2021]                     <br>Adjacency num: 5",
          "Username: jimfb                     <br>Files changed: 489                     <br>Activity interval: [2014. 2016.]                     <br>Adjacency num: 7",
          "Username: trueadm                     <br>Files changed: 1114                     <br>Activity interval: [2017. 2021.]                     <br>Adjacency num: 8",
          "Username: petehunt                     <br>Files changed: 594                     <br>Activity interval: [2013. 2014.]                     <br>Adjacency num: 8",
          "Username: chenglou                     <br>Files changed: 279                     <br>Activity interval: [2013. 2015.]                     <br>Adjacency num: 6",
          "Username: vjeux                     <br>Files changed: 392                     <br>Activity interval: [2013. 2017.]                     <br>Adjacency num: 4",
          "Username: benjamn                     <br>Files changed: 106                     <br>Activity interval: [2013. 2014.]                     <br>Adjacency num: 5",
          "Username: yungsters                     <br>Files changed: 350                     <br>Activity interval: [2013. 2018.]                     <br>Adjacency num: 3",
          "Username: subtleGradient                     <br>Files changed: 70                     <br>Activity interval: [2013. 2014.]                     <br>Adjacency num: 6",
          "Username: nhunzaker                     <br>Files changed: 244                     <br>Activity interval: [2015. 2019.]                     <br>Adjacency num: 5",
          "Username: necolas                     <br>Files changed: 181                     <br>Activity interval: [2019. 2020.]                     <br>Adjacency num: 3",
          "Username: syranide                     <br>Files changed: 99                     <br>Activity interval: [2013. 2015.]                     <br>Adjacency num: 5",
          "Username: cpojer                     <br>Files changed: 213                     <br>Activity interval: [2013. 2018.]                     <br>Adjacency num: 2",
          "Username: flarnie                     <br>Files changed: 139                     <br>Activity interval: [2016. 2018.]                     <br>Adjacency num: 1",
          "Username: koba04                     <br>Files changed: 116                     <br>Activity interval: [2014. 2020.]                     <br>Adjacency num: 1",
          "Username: aweary                     <br>Files changed: 229                     <br>Activity interval: [2016. 2019.]                     <br>Adjacency num: 5",
          "Username: rickhanlonii                     <br>Files changed: 227                     <br>Activity interval: [2019. 2021.]                     <br>Adjacency num: 4",
          "Username: marocchino                     <br>Files changed: 51                     <br>Activity interval: [2015. 2015.]                     <br>Adjacency num: 6",
          "Username: kohei-takata                     <br>Files changed: 43                     <br>Activity interval: [2015. 2015.]                     <br>Adjacency num: 6",
          "Username: lunaruan                     <br>Files changed: 134                     <br>Activity interval: [2019. 2021.]                     <br>Adjacency num: 1",
          "Username: TheSavior                     <br>Files changed: 43                     <br>Activity interval: [2018. 2020.]                     <br>Adjacency num: 1",
          "Username: chicoxyzzy                     <br>Files changed: 118                     <br>Activity interval: [2014. 2016.]                     <br>Adjacency num: 7",
          "Username: keyz                     <br>Files changed: 120                     <br>Activity interval: [2015. 2017.]                     <br>Adjacency num: 1",
          "Username: mcsheffrey                     <br>Files changed: 89                     <br>Activity interval: [2013. 2013.]                     <br>Adjacency num: 3",
          "Username: eps1lon                     <br>Files changed: 108                     <br>Activity interval: [2019. 2021.]                     <br>Adjacency num: 5",
          "Username: bgw                     <br>Files changed: 237                     <br>Activity interval: [2015. 2015.]                     <br>Adjacency num: 1",
          "Username: NE-SmallTown                     <br>Files changed: 22                     <br>Activity interval: [2017. 2020.]                     <br>Adjacency num: 2",
          "Username: joshduck                     <br>Files changed: 25                     <br>Activity interval: [2013. 2014.]                     <br>Adjacency num: 9",
          "Username: aickin                     <br>Files changed: 29                     <br>Activity interval: [2016. 2018.]                     <br>Adjacency num: 0",
          "Username: jquense                     <br>Files changed: 67                     <br>Activity interval: [2015. 2019.]                     <br>Adjacency num: 3",
          "Username: SimenB                     <br>Files changed: 70                     <br>Activity interval: [2015. 2021.]                     <br>Adjacency num: 5",
          "Username: philipp-spiess                     <br>Files changed: 96                     <br>Activity interval: [2017. 2020.]                     <br>Adjacency num: 1",
          "Username: Daniel15                     <br>Files changed: 268                     <br>Activity interval: [2013. 2019.]                     <br>Adjacency num: 10",
          "Username: iamdustan                     <br>Files changed: 98                     <br>Activity interval: [2015. 2019.]                     <br>Adjacency num: 1",
          "Username: threepointone                     <br>Files changed: 169                     <br>Activity interval: [2019. 2020.]                     <br>Adjacency num: 2",
          "Username: Simek                     <br>Files changed: 18                     <br>Activity interval: [2013. 2018.]                     <br>Adjacency num: 0",
          "Username: fisherwebdev                     <br>Files changed: 32                     <br>Activity interval: [2014. 2015.]                     <br>Adjacency num: 3",
          "Username: fabiomcosta                     <br>Files changed: 18                     <br>Activity interval: [2013. 2015.]                     <br>Adjacency num: 1",
          "Username: sompylasar                     <br>Files changed: 46                     <br>Activity interval: [2018. 2020.]                     <br>Adjacency num: 9",
          "Username: jordwalke                     <br>Files changed: 42                     <br>Activity interval: [2013. 2014.]                     <br>Adjacency num: 7",
          "Username: raphamorim                     <br>Files changed: 269                     <br>Activity interval: [2018. 2018.]                     <br>Adjacency num: 4",
          "Username: arkist                     <br>Files changed: 41                     <br>Activity interval: [2015. 2015.]                     <br>Adjacency num: 9",
          "Username: cody                     <br>Files changed: 21                     <br>Activity interval: [2014. 2016.]                     <br>Adjacency num: 4",
          "Username: iamchenxin                     <br>Files changed: 343                     <br>Activity interval: [2015. 2016.]                     <br>Adjacency num: 6",
          "Username: bl00mber                     <br>Files changed: 52                     <br>Activity interval: [2018. 2021.]                     <br>Adjacency num: 3"
         ],
         "type": "scatter",
         "x": [
          1099.16,
          3244.8,
          3359,
          1566.32,
          3049.8,
          2585,
          1097.36,
          3182.2,
          1064.2,
          1094.52,
          1489.54,
          842.48,
          1486.14,
          588.98,
          2765.4,
          3555.4,
          1137.88,
          1326.72,
          4191,
          750.78,
          2775.6,
          3506.4,
          856.84,
          657,
          3678.2,
          3205.2,
          864.12,
          564.34,
          599,
          3380,
          71.408,
          3754.6,
          1288.88,
          2396.2,
          2234.4,
          3313,
          4340.8,
          948.88,
          3811,
          3923.8,
          1974.28,
          1276.22,
          111.424,
          3730,
          924.22,
          3074.6,
          1011.1,
          1584.72,
          595.76,
          3620.6
         ],
         "y": [
          1753.76,
          1158.06,
          1480.32,
          1653.38,
          1208.34,
          1461.92,
          1394.04,
          1299.66,
          2070,
          1922.16,
          1806.36,
          2216.4,
          2075,
          2240,
          875.72,
          1186.08,
          2319.4,
          1482.04,
          750.58,
          739.98,
          1039.02,
          1351.7,
          1444.26,
          1539.64,
          1939.18,
          36.204,
          1943.6,
          892.62,
          1926.24,
          1637.68,
          1270.12,
          527.9,
          2106.4,
          884.6,
          1121.46,
          810.94,
          981.44,
          1230.4,
          1128.1,
          1485.98,
          884.6,
          1283.98,
          2624,
          1033.22,
          2320.2,
          578.02,
          1610.72,
          1425.22,
          1412.34,
          1535.18
         ]
        }
       ],
       "layout": {
        "annotations": [
         {
          "showarrow": false,
          "text": "Params: {'file_coef': 1, 'time_coef': -0.5}, min_value_for_edge: 0.6",
          "x": 0.005,
          "xref": "paper",
          "y": -0.002,
          "yref": "paper"
         }
        ],
        "autosize": true,
        "margin": {
         "b": 20,
         "l": 5,
         "r": 5,
         "t": 40
        },
        "showlegend": false,
        "template": {
         "data": {
          "bar": [
           {
            "error_x": {
             "color": "#2a3f5f"
            },
            "error_y": {
             "color": "#2a3f5f"
            },
            "marker": {
             "line": {
              "color": "#E5ECF6",
              "width": 0.5
             }
            },
            "type": "bar"
           }
          ],
          "barpolar": [
           {
            "marker": {
             "line": {
              "color": "#E5ECF6",
              "width": 0.5
             }
            },
            "type": "barpolar"
           }
          ],
          "carpet": [
           {
            "aaxis": {
             "endlinecolor": "#2a3f5f",
             "gridcolor": "white",
             "linecolor": "white",
             "minorgridcolor": "white",
             "startlinecolor": "#2a3f5f"
            },
            "baxis": {
             "endlinecolor": "#2a3f5f",
             "gridcolor": "white",
             "linecolor": "white",
             "minorgridcolor": "white",
             "startlinecolor": "#2a3f5f"
            },
            "type": "carpet"
           }
          ],
          "choropleth": [
           {
            "colorbar": {
             "outlinewidth": 0,
             "ticks": ""
            },
            "type": "choropleth"
           }
          ],
          "contour": [
           {
            "colorbar": {
             "outlinewidth": 0,
             "ticks": ""
            },
            "colorscale": [
             [
              0,
              "#0d0887"
             ],
             [
              0.1111111111111111,
              "#46039f"
             ],
             [
              0.2222222222222222,
              "#7201a8"
             ],
             [
              0.3333333333333333,
              "#9c179e"
             ],
             [
              0.4444444444444444,
              "#bd3786"
             ],
             [
              0.5555555555555556,
              "#d8576b"
             ],
             [
              0.6666666666666666,
              "#ed7953"
             ],
             [
              0.7777777777777778,
              "#fb9f3a"
             ],
             [
              0.8888888888888888,
              "#fdca26"
             ],
             [
              1,
              "#f0f921"
             ]
            ],
            "type": "contour"
           }
          ],
          "contourcarpet": [
           {
            "colorbar": {
             "outlinewidth": 0,
             "ticks": ""
            },
            "type": "contourcarpet"
           }
          ],
          "heatmap": [
           {
            "colorbar": {
             "outlinewidth": 0,
             "ticks": ""
            },
            "colorscale": [
             [
              0,
              "#0d0887"
             ],
             [
              0.1111111111111111,
              "#46039f"
             ],
             [
              0.2222222222222222,
              "#7201a8"
             ],
             [
              0.3333333333333333,
              "#9c179e"
             ],
             [
              0.4444444444444444,
              "#bd3786"
             ],
             [
              0.5555555555555556,
              "#d8576b"
             ],
             [
              0.6666666666666666,
              "#ed7953"
             ],
             [
              0.7777777777777778,
              "#fb9f3a"
             ],
             [
              0.8888888888888888,
              "#fdca26"
             ],
             [
              1,
              "#f0f921"
             ]
            ],
            "type": "heatmap"
           }
          ],
          "heatmapgl": [
           {
            "colorbar": {
             "outlinewidth": 0,
             "ticks": ""
            },
            "colorscale": [
             [
              0,
              "#0d0887"
             ],
             [
              0.1111111111111111,
              "#46039f"
             ],
             [
              0.2222222222222222,
              "#7201a8"
             ],
             [
              0.3333333333333333,
              "#9c179e"
             ],
             [
              0.4444444444444444,
              "#bd3786"
             ],
             [
              0.5555555555555556,
              "#d8576b"
             ],
             [
              0.6666666666666666,
              "#ed7953"
             ],
             [
              0.7777777777777778,
              "#fb9f3a"
             ],
             [
              0.8888888888888888,
              "#fdca26"
             ],
             [
              1,
              "#f0f921"
             ]
            ],
            "type": "heatmapgl"
           }
          ],
          "histogram": [
           {
            "marker": {
             "colorbar": {
              "outlinewidth": 0,
              "ticks": ""
             }
            },
            "type": "histogram"
           }
          ],
          "histogram2d": [
           {
            "colorbar": {
             "outlinewidth": 0,
             "ticks": ""
            },
            "colorscale": [
             [
              0,
              "#0d0887"
             ],
             [
              0.1111111111111111,
              "#46039f"
             ],
             [
              0.2222222222222222,
              "#7201a8"
             ],
             [
              0.3333333333333333,
              "#9c179e"
             ],
             [
              0.4444444444444444,
              "#bd3786"
             ],
             [
              0.5555555555555556,
              "#d8576b"
             ],
             [
              0.6666666666666666,
              "#ed7953"
             ],
             [
              0.7777777777777778,
              "#fb9f3a"
             ],
             [
              0.8888888888888888,
              "#fdca26"
             ],
             [
              1,
              "#f0f921"
             ]
            ],
            "type": "histogram2d"
           }
          ],
          "histogram2dcontour": [
           {
            "colorbar": {
             "outlinewidth": 0,
             "ticks": ""
            },
            "colorscale": [
             [
              0,
              "#0d0887"
             ],
             [
              0.1111111111111111,
              "#46039f"
             ],
             [
              0.2222222222222222,
              "#7201a8"
             ],
             [
              0.3333333333333333,
              "#9c179e"
             ],
             [
              0.4444444444444444,
              "#bd3786"
             ],
             [
              0.5555555555555556,
              "#d8576b"
             ],
             [
              0.6666666666666666,
              "#ed7953"
             ],
             [
              0.7777777777777778,
              "#fb9f3a"
             ],
             [
              0.8888888888888888,
              "#fdca26"
             ],
             [
              1,
              "#f0f921"
             ]
            ],
            "type": "histogram2dcontour"
           }
          ],
          "mesh3d": [
           {
            "colorbar": {
             "outlinewidth": 0,
             "ticks": ""
            },
            "type": "mesh3d"
           }
          ],
          "parcoords": [
           {
            "line": {
             "colorbar": {
              "outlinewidth": 0,
              "ticks": ""
             }
            },
            "type": "parcoords"
           }
          ],
          "pie": [
           {
            "automargin": true,
            "type": "pie"
           }
          ],
          "scatter": [
           {
            "marker": {
             "colorbar": {
              "outlinewidth": 0,
              "ticks": ""
             }
            },
            "type": "scatter"
           }
          ],
          "scatter3d": [
           {
            "line": {
             "colorbar": {
              "outlinewidth": 0,
              "ticks": ""
             }
            },
            "marker": {
             "colorbar": {
              "outlinewidth": 0,
              "ticks": ""
             }
            },
            "type": "scatter3d"
           }
          ],
          "scattercarpet": [
           {
            "marker": {
             "colorbar": {
              "outlinewidth": 0,
              "ticks": ""
             }
            },
            "type": "scattercarpet"
           }
          ],
          "scattergeo": [
           {
            "marker": {
             "colorbar": {
              "outlinewidth": 0,
              "ticks": ""
             }
            },
            "type": "scattergeo"
           }
          ],
          "scattergl": [
           {
            "marker": {
             "colorbar": {
              "outlinewidth": 0,
              "ticks": ""
             }
            },
            "type": "scattergl"
           }
          ],
          "scattermapbox": [
           {
            "marker": {
             "colorbar": {
              "outlinewidth": 0,
              "ticks": ""
             }
            },
            "type": "scattermapbox"
           }
          ],
          "scatterpolar": [
           {
            "marker": {
             "colorbar": {
              "outlinewidth": 0,
              "ticks": ""
             }
            },
            "type": "scatterpolar"
           }
          ],
          "scatterpolargl": [
           {
            "marker": {
             "colorbar": {
              "outlinewidth": 0,
              "ticks": ""
             }
            },
            "type": "scatterpolargl"
           }
          ],
          "scatterternary": [
           {
            "marker": {
             "colorbar": {
              "outlinewidth": 0,
              "ticks": ""
             }
            },
            "type": "scatterternary"
           }
          ],
          "surface": [
           {
            "colorbar": {
             "outlinewidth": 0,
             "ticks": ""
            },
            "colorscale": [
             [
              0,
              "#0d0887"
             ],
             [
              0.1111111111111111,
              "#46039f"
             ],
             [
              0.2222222222222222,
              "#7201a8"
             ],
             [
              0.3333333333333333,
              "#9c179e"
             ],
             [
              0.4444444444444444,
              "#bd3786"
             ],
             [
              0.5555555555555556,
              "#d8576b"
             ],
             [
              0.6666666666666666,
              "#ed7953"
             ],
             [
              0.7777777777777778,
              "#fb9f3a"
             ],
             [
              0.8888888888888888,
              "#fdca26"
             ],
             [
              1,
              "#f0f921"
             ]
            ],
            "type": "surface"
           }
          ],
          "table": [
           {
            "cells": {
             "fill": {
              "color": "#EBF0F8"
             },
             "line": {
              "color": "white"
             }
            },
            "header": {
             "fill": {
              "color": "#C8D4E3"
             },
             "line": {
              "color": "white"
             }
            },
            "type": "table"
           }
          ]
         },
         "layout": {
          "annotationdefaults": {
           "arrowcolor": "#2a3f5f",
           "arrowhead": 0,
           "arrowwidth": 1
          },
          "autotypenumbers": "strict",
          "coloraxis": {
           "colorbar": {
            "outlinewidth": 0,
            "ticks": ""
           }
          },
          "colorscale": {
           "diverging": [
            [
             0,
             "#8e0152"
            ],
            [
             0.1,
             "#c51b7d"
            ],
            [
             0.2,
             "#de77ae"
            ],
            [
             0.3,
             "#f1b6da"
            ],
            [
             0.4,
             "#fde0ef"
            ],
            [
             0.5,
             "#f7f7f7"
            ],
            [
             0.6,
             "#e6f5d0"
            ],
            [
             0.7,
             "#b8e186"
            ],
            [
             0.8,
             "#7fbc41"
            ],
            [
             0.9,
             "#4d9221"
            ],
            [
             1,
             "#276419"
            ]
           ],
           "sequential": [
            [
             0,
             "#0d0887"
            ],
            [
             0.1111111111111111,
             "#46039f"
            ],
            [
             0.2222222222222222,
             "#7201a8"
            ],
            [
             0.3333333333333333,
             "#9c179e"
            ],
            [
             0.4444444444444444,
             "#bd3786"
            ],
            [
             0.5555555555555556,
             "#d8576b"
            ],
            [
             0.6666666666666666,
             "#ed7953"
            ],
            [
             0.7777777777777778,
             "#fb9f3a"
            ],
            [
             0.8888888888888888,
             "#fdca26"
            ],
            [
             1,
             "#f0f921"
            ]
           ],
           "sequentialminus": [
            [
             0,
             "#0d0887"
            ],
            [
             0.1111111111111111,
             "#46039f"
            ],
            [
             0.2222222222222222,
             "#7201a8"
            ],
            [
             0.3333333333333333,
             "#9c179e"
            ],
            [
             0.4444444444444444,
             "#bd3786"
            ],
            [
             0.5555555555555556,
             "#d8576b"
            ],
            [
             0.6666666666666666,
             "#ed7953"
            ],
            [
             0.7777777777777778,
             "#fb9f3a"
            ],
            [
             0.8888888888888888,
             "#fdca26"
            ],
            [
             1,
             "#f0f921"
            ]
           ]
          },
          "colorway": [
           "#636efa",
           "#EF553B",
           "#00cc96",
           "#ab63fa",
           "#FFA15A",
           "#19d3f3",
           "#FF6692",
           "#B6E880",
           "#FF97FF",
           "#FECB52"
          ],
          "font": {
           "color": "#2a3f5f"
          },
          "geo": {
           "bgcolor": "white",
           "lakecolor": "white",
           "landcolor": "#E5ECF6",
           "showlakes": true,
           "showland": true,
           "subunitcolor": "white"
          },
          "hoverlabel": {
           "align": "left"
          },
          "hovermode": "closest",
          "mapbox": {
           "style": "light"
          },
          "paper_bgcolor": "white",
          "plot_bgcolor": "#E5ECF6",
          "polar": {
           "angularaxis": {
            "gridcolor": "white",
            "linecolor": "white",
            "ticks": ""
           },
           "bgcolor": "#E5ECF6",
           "radialaxis": {
            "gridcolor": "white",
            "linecolor": "white",
            "ticks": ""
           }
          },
          "scene": {
           "xaxis": {
            "backgroundcolor": "#E5ECF6",
            "gridcolor": "white",
            "gridwidth": 2,
            "linecolor": "white",
            "showbackground": true,
            "ticks": "",
            "zerolinecolor": "white"
           },
           "yaxis": {
            "backgroundcolor": "#E5ECF6",
            "gridcolor": "white",
            "gridwidth": 2,
            "linecolor": "white",
            "showbackground": true,
            "ticks": "",
            "zerolinecolor": "white"
           },
           "zaxis": {
            "backgroundcolor": "#E5ECF6",
            "gridcolor": "white",
            "gridwidth": 2,
            "linecolor": "white",
            "showbackground": true,
            "ticks": "",
            "zerolinecolor": "white"
           }
          },
          "shapedefaults": {
           "line": {
            "color": "#2a3f5f"
           }
          },
          "ternary": {
           "aaxis": {
            "gridcolor": "white",
            "linecolor": "white",
            "ticks": ""
           },
           "baxis": {
            "gridcolor": "white",
            "linecolor": "white",
            "ticks": ""
           },
           "bgcolor": "#E5ECF6",
           "caxis": {
            "gridcolor": "white",
            "linecolor": "white",
            "ticks": ""
           }
          },
          "title": {
           "x": 0.05
          },
          "xaxis": {
           "automargin": true,
           "gridcolor": "white",
           "linecolor": "white",
           "ticks": "",
           "title": {
            "standoff": 15
           },
           "zerolinecolor": "white",
           "zerolinewidth": 2
          },
          "yaxis": {
           "automargin": true,
           "gridcolor": "white",
           "linecolor": "white",
           "ticks": "",
           "title": {
            "standoff": 15
           },
           "zerolinecolor": "white",
           "zerolinewidth": 2
          }
         }
        },
        "title": {
         "font": {
          "size": 16
         },
         "text": "Social graph of React developers"
        },
        "xaxis": {
         "autorange": true,
         "range": [
          -198.5503317675233,
          4610.7583317675235
         ],
         "showgrid": false,
         "showticklabels": false,
         "type": "linear",
         "zeroline": false
        },
        "yaxis": {
         "autorange": true,
         "range": [
          -171.74389285714284,
          2831.947892857143
         ],
         "showgrid": false,
         "showticklabels": false,
         "type": "linear",
         "zeroline": false
        }
       }
      },
      "image/png": "[encoded data removed]",
      "text/html": [
       "<div>                            <div id=\"91a6b239-1891-4a6f-b4ee-b397807f0fc3\" class=\"plotly-graph-div\" style=\"height:525px; width:100%;\"></div>            <script type=\"text/javascript\">                require([\"plotly\"], function(Plotly) {                    window.PLOTLYENV=window.PLOTLYENV || {};                                    if (document.getElementById(\"91a6b239-1891-4a6f-b4ee-b397807f0fc3\")) {                    Plotly.newPlot(                        \"91a6b239-1891-4a6f-b4ee-b397807f0fc3\",                        [{\"line\": {\"color\": \"darkgreen\", \"width\": 0.721866504926751}, \"mode\": \"lines\", \"opacity\": 0.721866504926751, \"type\": \"scatter\", \"x\": [1099.16, 1566.32, null], \"y\": [1753.76, 1653.38, null]}, {\"line\": {\"color\": \"darkgreen\", \"width\": 0.6730728622454369}, \"mode\": \"lines\", \"opacity\": 0.6730728622454369, \"type\": \"scatter\", \"x\": [1099.16, 1097.36, null], \"y\": [1753.76, 1394.04, null]}, {\"line\": {\"color\": \"darkgreen\", \"width\": 0.7980304576724391}, \"mode\": \"lines\", \"opacity\": 0.7980304576724391, \"type\": \"scatter\", \"x\": [1099.16, 1064.2, null], \"y\": [1753.76, 2070.0, null]}, {\"line\": {\"color\": \"darkgreen\", \"width\": 0.6759632329197748}, \"mode\": \"lines\", \"opacity\": 0.6759632329197748, \"type\": \"scatter\", \"x\": [1099.16, 1094.52, null], \"y\": [1753.76, 1922.16, null]}, {\"line\": {\"color\": \"darkgreen\", \"width\": 0.6576017037405144}, \"mode\": \"lines\", \"opacity\": 0.6576017037405144, \"type\": \"scatter\", \"x\": [1099.16, 1489.54, null], \"y\": [1753.76, 1806.36, null]}, {\"line\": {\"color\": \"darkgreen\", \"width\": 0.6787780236818317}, \"mode\": \"lines\", \"opacity\": 0.6787780236818317, \"type\": \"scatter\", \"x\": [1099.16, 842.48, null], \"y\": [1753.76, 2216.4, null]}, {\"line\": {\"color\": \"darkgreen\", \"width\": 0.8236385310379191}, \"mode\": \"lines\", \"opacity\": 0.8236385310379191, \"type\": \"scatter\", \"x\": [1099.16, 1486.14, null], \"y\": [1753.76, 2075.0, null]}, {\"line\": {\"color\": \"darkgreen\", \"width\": 0.6468822877047982}, \"mode\": \"lines\", \"opacity\": 0.6468822877047982, \"type\": \"scatter\", \"x\": [1099.16, 588.98, null], \"y\": [1753.76, 2240.0, null]}, {\"line\": {\"color\": \"darkgreen\", \"width\": 0.6446083235864589}, \"mode\": \"lines\", \"opacity\": 0.6446083235864589, \"type\": \"scatter\", \"x\": [1099.16, 1137.88, null], \"y\": [1753.76, 2319.4, null]}, {\"line\": {\"color\": \"darkgreen\", \"width\": 0.6249196275914777}, \"mode\": \"lines\", \"opacity\": 0.6249196275914777, \"type\": \"scatter\", \"x\": [1099.16, 1326.72, null], \"y\": [1753.76, 1482.04, null]}, {\"line\": {\"color\": \"darkgreen\", \"width\": 0.7214208481489884}, \"mode\": \"lines\", \"opacity\": 0.7214208481489884, \"type\": \"scatter\", \"x\": [1099.16, 856.84, null], \"y\": [1753.76, 1444.26, null]}, {\"line\": {\"color\": \"darkgreen\", \"width\": 0.6907012468238405}, \"mode\": \"lines\", \"opacity\": 0.6907012468238405, \"type\": \"scatter\", \"x\": [1099.16, 657.0, null], \"y\": [1753.76, 1539.64, null]}, {\"line\": {\"color\": \"darkgreen\", \"width\": 0.6800999356858285}, \"mode\": \"lines\", \"opacity\": 0.6800999356858285, \"type\": \"scatter\", \"x\": [1099.16, 864.12, null], \"y\": [1753.76, 1943.6, null]}, {\"line\": {\"color\": \"darkgreen\", \"width\": 0.6202442472137893}, \"mode\": \"lines\", \"opacity\": 0.6202442472137893, \"type\": \"scatter\", \"x\": [1099.16, 599.0, null], \"y\": [1753.76, 1926.24, null]}, {\"line\": {\"color\": \"darkgreen\", \"width\": 0.7027394419160228}, \"mode\": \"lines\", \"opacity\": 0.7027394419160228, \"type\": \"scatter\", \"x\": [1099.16, 1288.88, null], \"y\": [1753.76, 2106.4, null]}, {\"line\": {\"color\": \"darkgreen\", \"width\": 0.7856565277083414}, \"mode\": \"lines\", \"opacity\": 0.7856565277083414, \"type\": \"scatter\", \"x\": [1099.16, 948.88, null], \"y\": [1753.76, 1230.4, null]}, {\"line\": {\"color\": \"darkgreen\", \"width\": 0.7449017988477188}, \"mode\": \"lines\", \"opacity\": 0.7449017988477188, \"type\": \"scatter\", \"x\": [1099.16, 1276.22, null], \"y\": [1753.76, 1283.98, null]}, {\"line\": {\"color\": \"darkgreen\", \"width\": 0.6363878725694069}, \"mode\": \"lines\", \"opacity\": 0.6363878725694069, \"type\": \"scatter\", \"x\": [1099.16, 924.22, null], \"y\": [1753.76, 2320.2, null]}, {\"line\": {\"color\": \"darkgreen\", \"width\": 0.7288981690527697}, \"mode\": \"lines\", \"opacity\": 0.7288981690527697, \"type\": \"scatter\", \"x\": [1099.16, 1011.1, null], \"y\": [1753.76, 1610.72, null]}, {\"line\": {\"color\": \"darkgreen\", \"width\": 0.6756027458310533}, \"mode\": \"lines\", \"opacity\": 0.6756027458310533, \"type\": \"scatter\", \"x\": [1099.16, 1584.72, null], \"y\": [1753.76, 1425.22, null]}, {\"line\": {\"color\": \"darkgreen\", \"width\": 0.6154271552102899}, \"mode\": \"lines\", \"opacity\": 0.6154271552102899, \"type\": \"scatter\", \"x\": [1099.16, 595.76, null], \"y\": [1753.76, 1412.34, null]}, {\"line\": {\"color\": \"darkgreen\", \"width\": 0.7001388023593837}, \"mode\": \"lines\", \"opacity\": 0.7001388023593837, \"type\": \"scatter\", \"x\": [3244.8, 3359.0, null], \"y\": [1158.06, 1480.32, null]}, {\"line\": {\"color\": \"darkgreen\", \"width\": 0.7425489766109225}, \"mode\": \"lines\", \"opacity\": 0.7425489766109225, \"type\": \"scatter\", \"x\": [3244.8, 3049.8, null], \"y\": [1158.06, 1208.34, null]}, {\"line\": {\"color\": \"darkgreen\", \"width\": 0.7205017800684788}, \"mode\": \"lines\", \"opacity\": 0.7205017800684788, \"type\": \"scatter\", \"x\": [3244.8, 2585.0, null], \"y\": [1158.06, 1461.92, null]}, {\"line\": {\"color\": \"darkgreen\", \"width\": 0.6962116636437916}, \"mode\": \"lines\", \"opacity\": 0.6962116636437916, \"type\": \"scatter\", \"x\": [3244.8, 3182.2, null], \"y\": [1158.06, 1299.66, null]}, {\"line\": {\"color\": \"darkgreen\", \"width\": 0.706258242403718}, \"mode\": \"lines\", \"opacity\": 0.706258242403718, \"type\": \"scatter\", \"x\": [3244.8, 2765.4, null], \"y\": [1158.06, 875.72, null]}, {\"line\": {\"color\": \"darkgreen\", \"width\": 0.6090473160656117}, \"mode\": \"lines\", \"opacity\": 0.6090473160656117, \"type\": \"scatter\", \"x\": [3244.8, 3555.4, null], \"y\": [1158.06, 1186.08, null]}, {\"line\": {\"color\": \"darkgreen\", \"width\": 0.6725490578179311}, \"mode\": \"lines\", \"opacity\": 0.6725490578179311, \"type\": \"scatter\", \"x\": [3244.8, 2775.6, null], \"y\": [1158.06, 1039.02, null]}, {\"line\": {\"color\": \"darkgreen\", \"width\": 0.656140059493398}, \"mode\": \"lines\", \"opacity\": 0.656140059493398, \"type\": \"scatter\", \"x\": [3244.8, 3380.0, null], \"y\": [1158.06, 1637.68, null]}, {\"line\": {\"color\": \"darkgreen\", \"width\": 0.6974702436453097}, \"mode\": \"lines\", \"opacity\": 0.6974702436453097, \"type\": \"scatter\", \"x\": [3244.8, 3313.0, null], \"y\": [1158.06, 810.94, null]}, {\"line\": {\"color\": \"darkgreen\", \"width\": 0.6082307888038548}, \"mode\": \"lines\", \"opacity\": 0.6082307888038548, \"type\": \"scatter\", \"x\": [3244.8, 3811.0, null], \"y\": [1158.06, 1128.1, null]}, {\"line\": {\"color\": \"darkgreen\", \"width\": 0.6833957441320856}, \"mode\": \"lines\", \"opacity\": 0.6833957441320856, \"type\": \"scatter\", \"x\": [3244.8, 3730.0, null], \"y\": [1158.06, 1033.22, null]}, {\"line\": {\"color\": \"darkgreen\", \"width\": 0.7365183618438045}, \"mode\": \"lines\", \"opacity\": 0.7365183618438045, \"type\": \"scatter\", \"x\": [3244.8, 3074.6, null], \"y\": [1158.06, 578.02, null]}, {\"line\": {\"color\": \"darkgreen\", \"width\": 0.6249689160064585}, \"mode\": \"lines\", \"opacity\": 0.6249689160064585, \"type\": \"scatter\", \"x\": [3244.8, 3620.6, null], \"y\": [1158.06, 1535.18, null]}, {\"line\": {\"color\": \"darkgreen\", \"width\": 0.6200369432494158}, \"mode\": \"lines\", \"opacity\": 0.6200369432494158, \"type\": \"scatter\", \"x\": [3359.0, 3049.8, null], \"y\": [1480.32, 1208.34, null]}, {\"line\": {\"color\": \"darkgreen\", \"width\": 0.6254127642857159}, \"mode\": \"lines\", \"opacity\": 0.6254127642857159, \"type\": \"scatter\", \"x\": [3359.0, 2585.0, null], \"y\": [1480.32, 1461.92, null]}, {\"line\": {\"color\": \"darkgreen\", \"width\": 0.6337269605495808}, \"mode\": \"lines\", \"opacity\": 0.6337269605495808, \"type\": \"scatter\", \"x\": [3359.0, 3182.2, null], \"y\": [1480.32, 1299.66, null]}, {\"line\": {\"color\": \"darkgreen\", \"width\": 0.6927009619223248}, \"mode\": \"lines\", \"opacity\": 0.6927009619223248, \"type\": \"scatter\", \"x\": [3359.0, 3555.4, null], \"y\": [1480.32, 1186.08, null]}, {\"line\": {\"color\": \"darkgreen\", \"width\": 0.6580529010954961}, \"mode\": \"lines\", \"opacity\": 0.6580529010954961, \"type\": \"scatter\", \"x\": [3359.0, 3506.4, null], \"y\": [1480.32, 1351.7, null]}, {\"line\": {\"color\": \"darkgreen\", \"width\": 0.6193920458860286}, \"mode\": \"lines\", \"opacity\": 0.6193920458860286, \"type\": \"scatter\", \"x\": [3359.0, 3678.2, null], \"y\": [1480.32, 1939.18, null]}, {\"line\": {\"color\": \"darkgreen\", \"width\": 0.8149671979115443}, \"mode\": \"lines\", \"opacity\": 0.8149671979115443, \"type\": \"scatter\", \"x\": [3359.0, 3380.0, null], \"y\": [1480.32, 1637.68, null]}, {\"line\": {\"color\": \"darkgreen\", \"width\": 0.783367131449665}, \"mode\": \"lines\", \"opacity\": 0.783367131449665, \"type\": \"scatter\", \"x\": [3359.0, 3923.8, null], \"y\": [1480.32, 1485.98, null]}, {\"line\": {\"color\": \"darkgreen\", \"width\": 0.9461247482828622}, \"mode\": \"lines\", \"opacity\": 0.9461247482828622, \"type\": \"scatter\", \"x\": [3359.0, 3730.0, null], \"y\": [1480.32, 1033.22, null]}, {\"line\": {\"color\": \"darkgreen\", \"width\": 0.8302387433430958}, \"mode\": \"lines\", \"opacity\": 0.8302387433430958, \"type\": \"scatter\", \"x\": [3359.0, 3620.6, null], \"y\": [1480.32, 1535.18, null]}, {\"line\": {\"color\": \"darkgreen\", \"width\": 0.6239722624771209}, \"mode\": \"lines\", \"opacity\": 0.6239722624771209, \"type\": \"scatter\", \"x\": [1566.32, 2585.0, null], \"y\": [1653.38, 1461.92, null]}, {\"line\": {\"color\": \"darkgreen\", \"width\": 0.6178758136482333}, \"mode\": \"lines\", \"opacity\": 0.6178758136482333, \"type\": \"scatter\", \"x\": [1566.32, 1064.2, null], \"y\": [1653.38, 2070.0, null]}, {\"line\": {\"color\": \"darkgreen\", \"width\": 0.6007779103686233}, \"mode\": \"lines\", \"opacity\": 0.6007779103686233, \"type\": \"scatter\", \"x\": [1566.32, 1094.52, null], \"y\": [1653.38, 1922.16, null]}, {\"line\": {\"color\": \"darkgreen\", \"width\": 0.6485151689048804}, \"mode\": \"lines\", \"opacity\": 0.6485151689048804, \"type\": \"scatter\", \"x\": [1566.32, 1489.54, null], \"y\": [1653.38, 1806.36, null]}, {\"line\": {\"color\": \"darkgreen\", \"width\": 0.6607861083325806}, \"mode\": \"lines\", \"opacity\": 0.6607861083325806, \"type\": \"scatter\", \"x\": [1566.32, 1486.14, null], \"y\": [1653.38, 2075.0, null]}, {\"line\": {\"color\": \"darkgreen\", \"width\": 0.6085369075709081}, \"mode\": \"lines\", \"opacity\": 0.6085369075709081, \"type\": \"scatter\", \"x\": [1566.32, 1326.72, null], \"y\": [1653.38, 1482.04, null]}, {\"line\": {\"color\": \"darkgreen\", \"width\": 0.6553080930080228}, \"mode\": \"lines\", \"opacity\": 0.6553080930080228, \"type\": \"scatter\", \"x\": [1566.32, 1288.88, null], \"y\": [1653.38, 2106.4, null]}, {\"line\": {\"color\": \"darkgreen\", \"width\": 0.6462699842898603}, \"mode\": \"lines\", \"opacity\": 0.6462699842898603, \"type\": \"scatter\", \"x\": [1566.32, 948.88, null], \"y\": [1653.38, 1230.4, null]}, {\"line\": {\"color\": \"darkgreen\", \"width\": 0.7025262450944673}, \"mode\": \"lines\", \"opacity\": 0.7025262450944673, \"type\": \"scatter\", \"x\": [1566.32, 1276.22, null], \"y\": [1653.38, 1283.98, null]}, {\"line\": {\"color\": \"darkgreen\", \"width\": 0.6149804156647043}, \"mode\": \"lines\", \"opacity\": 0.6149804156647043, \"type\": \"scatter\", \"x\": [1566.32, 1011.1, null], \"y\": [1653.38, 1610.72, null]}, {\"line\": {\"color\": \"darkgreen\", \"width\": 0.676529445173782}, \"mode\": \"lines\", \"opacity\": 0.676529445173782, \"type\": \"scatter\", \"x\": [3049.8, 2585.0, null], \"y\": [1208.34, 1461.92, null]}, {\"line\": {\"color\": \"darkgreen\", \"width\": 0.6363572165525118}, \"mode\": \"lines\", \"opacity\": 0.6363572165525118, \"type\": \"scatter\", \"x\": [3049.8, 3182.2, null], \"y\": [1208.34, 1299.66, null]}, {\"line\": {\"color\": \"darkgreen\", \"width\": 0.6229615154740459}, \"mode\": \"lines\", \"opacity\": 0.6229615154740459, \"type\": \"scatter\", \"x\": [3049.8, 3506.4, null], \"y\": [1208.34, 1351.7, null]}, {\"line\": {\"color\": \"darkgreen\", \"width\": 0.6570431385057813}, \"mode\": \"lines\", \"opacity\": 0.6570431385057813, \"type\": \"scatter\", \"x\": [3049.8, 3313.0, null], \"y\": [1208.34, 810.94, null]}, {\"line\": {\"color\": \"darkgreen\", \"width\": 0.6027800986849603}, \"mode\": \"lines\", \"opacity\": 0.6027800986849603, \"type\": \"scatter\", \"x\": [2585.0, 3182.2, null], \"y\": [1461.92, 1299.66, null]}, {\"line\": {\"color\": \"darkgreen\", \"width\": 0.7352475401324551}, \"mode\": \"lines\", \"opacity\": 0.7352475401324551, \"type\": \"scatter\", \"x\": [1097.36, 856.84, null], \"y\": [1394.04, 1444.26, null]}, {\"line\": {\"color\": \"darkgreen\", \"width\": 0.7278998522107025}, \"mode\": \"lines\", \"opacity\": 0.7278998522107025, \"type\": \"scatter\", \"x\": [1097.36, 657.0, null], \"y\": [1394.04, 1539.64, null]}, {\"line\": {\"color\": \"darkgreen\", \"width\": 0.68098890139367}, \"mode\": \"lines\", \"opacity\": 0.68098890139367, \"type\": \"scatter\", \"x\": [1097.36, 948.88, null], \"y\": [1394.04, 1230.4, null]}, {\"line\": {\"color\": \"darkgreen\", \"width\": 0.763726549262467}, \"mode\": \"lines\", \"opacity\": 0.763726549262467, \"type\": \"scatter\", \"x\": [1097.36, 1011.1, null], \"y\": [1394.04, 1610.72, null]}, {\"line\": {\"color\": \"darkgreen\", \"width\": 0.6560048263496235}, \"mode\": \"lines\", \"opacity\": 0.6560048263496235, \"type\": \"scatter\", \"x\": [1097.36, 1584.72, null], \"y\": [1394.04, 1425.22, null]}, {\"line\": {\"color\": \"darkgreen\", \"width\": 0.6305128598152162}, \"mode\": \"lines\", \"opacity\": 0.6305128598152162, \"type\": \"scatter\", \"x\": [1097.36, 595.76, null], \"y\": [1394.04, 1412.34, null]}, {\"line\": {\"color\": \"darkgreen\", \"width\": 0.7236797531172205}, \"mode\": \"lines\", \"opacity\": 0.7236797531172205, \"type\": \"scatter\", \"x\": [3182.2, 3555.4, null], \"y\": [1299.66, 1186.08, null]}, {\"line\": {\"color\": \"darkgreen\", \"width\": 0.653014756817781}, \"mode\": \"lines\", \"opacity\": 0.653014756817781, \"type\": \"scatter\", \"x\": [3182.2, 2775.6, null], \"y\": [1299.66, 1039.02, null]}, {\"line\": {\"color\": \"darkgreen\", \"width\": 0.6021469042245009}, \"mode\": \"lines\", \"opacity\": 0.6021469042245009, \"type\": \"scatter\", \"x\": [3182.2, 3380.0, null], \"y\": [1299.66, 1637.68, null]}, {\"line\": {\"color\": \"darkgreen\", \"width\": 0.6168766405174038}, \"mode\": \"lines\", \"opacity\": 0.6168766405174038, \"type\": \"scatter\", \"x\": [3182.2, 3730.0, null], \"y\": [1299.66, 1033.22, null]}, {\"line\": {\"color\": \"darkgreen\", \"width\": 0.681448374139174}, \"mode\": \"lines\", \"opacity\": 0.681448374139174, \"type\": \"scatter\", \"x\": [1064.2, 1094.52, null], \"y\": [2070.0, 1922.16, null]}, {\"line\": {\"color\": \"darkgreen\", \"width\": 0.6342076750358349}, \"mode\": \"lines\", \"opacity\": 0.6342076750358349, \"type\": \"scatter\", \"x\": [1064.2, 842.48, null], \"y\": [2070.0, 2216.4, null]}, {\"line\": {\"color\": \"darkgreen\", \"width\": 0.6779944236156472}, \"mode\": \"lines\", \"opacity\": 0.6779944236156472, \"type\": \"scatter\", \"x\": [1064.2, 588.98, null], \"y\": [2070.0, 2240.0, null]}, {\"line\": {\"color\": \"darkgreen\", \"width\": 0.6269304830837928}, \"mode\": \"lines\", \"opacity\": 0.6269304830837928, \"type\": \"scatter\", \"x\": [1064.2, 1137.88, null], \"y\": [2070.0, 2319.4, null]}, {\"line\": {\"color\": \"darkgreen\", \"width\": 0.6733060561003386}, \"mode\": \"lines\", \"opacity\": 0.6733060561003386, \"type\": \"scatter\", \"x\": [1064.2, 1288.88, null], \"y\": [2070.0, 2106.4, null]}, {\"line\": {\"color\": \"darkgreen\", \"width\": 0.6343896697657267}, \"mode\": \"lines\", \"opacity\": 0.6343896697657267, \"type\": \"scatter\", \"x\": [1064.2, 924.22, null], \"y\": [2070.0, 2320.2, null]}, {\"line\": {\"color\": \"darkgreen\", \"width\": 0.6225073783176072}, \"mode\": \"lines\", \"opacity\": 0.6225073783176072, \"type\": \"scatter\", \"x\": [1094.52, 1137.88, null], \"y\": [1922.16, 2319.4, null]}, {\"line\": {\"color\": \"darkgreen\", \"width\": 0.9532896875453069}, \"mode\": \"lines\", \"opacity\": 0.9532896875453069, \"type\": \"scatter\", \"x\": [1094.52, 599.0, null], \"y\": [1922.16, 1926.24, null]}, {\"line\": {\"color\": \"darkgreen\", \"width\": 0.6302124989422783}, \"mode\": \"lines\", \"opacity\": 0.6302124989422783, \"type\": \"scatter\", \"x\": [1094.52, 1011.1, null], \"y\": [1922.16, 1610.72, null]}, {\"line\": {\"color\": \"darkgreen\", \"width\": 0.6552678181367331}, \"mode\": \"lines\", \"opacity\": 0.6552678181367331, \"type\": \"scatter\", \"x\": [1489.54, 1288.88, null], \"y\": [1806.36, 2106.4, null]}, {\"line\": {\"color\": \"darkgreen\", \"width\": 0.6691374456174527}, \"mode\": \"lines\", \"opacity\": 0.6691374456174527, \"type\": \"scatter\", \"x\": [1489.54, 1584.72, null], \"y\": [1806.36, 1425.22, null]}, {\"line\": {\"color\": \"darkgreen\", \"width\": 0.6769140757530065}, \"mode\": \"lines\", \"opacity\": 0.6769140757530065, \"type\": \"scatter\", \"x\": [842.48, 588.98, null], \"y\": [2216.4, 2240.0, null]}, {\"line\": {\"color\": \"darkgreen\", \"width\": 0.6145350648903352}, \"mode\": \"lines\", \"opacity\": 0.6145350648903352, \"type\": \"scatter\", \"x\": [842.48, 1288.88, null], \"y\": [2216.4, 2106.4, null]}, {\"line\": {\"color\": \"darkgreen\", \"width\": 0.6067825669403287}, \"mode\": \"lines\", \"opacity\": 0.6067825669403287, \"type\": \"scatter\", \"x\": [842.48, 924.22, null], \"y\": [2216.4, 2320.2, null]}, {\"line\": {\"color\": \"darkgreen\", \"width\": 0.6281691998316704}, \"mode\": \"lines\", \"opacity\": 0.6281691998316704, \"type\": \"scatter\", \"x\": [1486.14, 1288.88, null], \"y\": [2075.0, 2106.4, null]}, {\"line\": {\"color\": \"darkgreen\", \"width\": 0.6105263131452907}, \"mode\": \"lines\", \"opacity\": 0.6105263131452907, \"type\": \"scatter\", \"x\": [588.98, 864.12, null], \"y\": [2240.0, 1943.6, null]}, {\"line\": {\"color\": \"darkgreen\", \"width\": 0.6041681947049306}, \"mode\": \"lines\", \"opacity\": 0.6041681947049306, \"type\": \"scatter\", \"x\": [588.98, 111.424, null], \"y\": [2240.0, 2624.0, null]}, {\"line\": {\"color\": \"darkgreen\", \"width\": 0.7227812322991857}, \"mode\": \"lines\", \"opacity\": 0.7227812322991857, \"type\": \"scatter\", \"x\": [588.98, 924.22, null], \"y\": [2240.0, 2320.2, null]}, {\"line\": {\"color\": \"darkgreen\", \"width\": 0.7446507496988276}, \"mode\": \"lines\", \"opacity\": 0.7446507496988276, \"type\": \"scatter\", \"x\": [2765.4, 2775.6, null], \"y\": [875.72, 1039.02, null]}, {\"line\": {\"color\": \"darkgreen\", \"width\": 0.7332922125341923}, \"mode\": \"lines\", \"opacity\": 0.7332922125341923, \"type\": \"scatter\", \"x\": [2765.4, 2234.4, null], \"y\": [875.72, 1121.46, null]}, {\"line\": {\"color\": \"darkgreen\", \"width\": 0.6153685646300352}, \"mode\": \"lines\", \"opacity\": 0.6153685646300352, \"type\": \"scatter\", \"x\": [2765.4, 3313.0, null], \"y\": [875.72, 810.94, null]}, {\"line\": {\"color\": \"darkgreen\", \"width\": 0.6119337770480838}, \"mode\": \"lines\", \"opacity\": 0.6119337770480838, \"type\": \"scatter\", \"x\": [2765.4, 3074.6, null], \"y\": [875.72, 578.02, null]}, {\"line\": {\"color\": \"darkgreen\", \"width\": 0.6551396817404147}, \"mode\": \"lines\", \"opacity\": 0.6551396817404147, \"type\": \"scatter\", \"x\": [1137.88, 1288.88, null], \"y\": [2319.4, 2106.4, null]}, {\"line\": {\"color\": \"darkgreen\", \"width\": 0.6053392751621074}, \"mode\": \"lines\", \"opacity\": 0.6053392751621074, \"type\": \"scatter\", \"x\": [1137.88, 924.22, null], \"y\": [2319.4, 2320.2, null]}, {\"line\": {\"color\": \"darkgreen\", \"width\": 0.8924655965786988}, \"mode\": \"lines\", \"opacity\": 0.8924655965786988, \"type\": \"scatter\", \"x\": [4191.0, 3730.0, null], \"y\": [750.58, 1033.22, null]}, {\"line\": {\"color\": \"darkgreen\", \"width\": 0.6398925493336245}, \"mode\": \"lines\", \"opacity\": 0.6398925493336245, \"type\": \"scatter\", \"x\": [750.78, 948.88, null], \"y\": [739.98, 1230.4, null]}, {\"line\": {\"color\": \"darkgreen\", \"width\": 0.7082083861295889}, \"mode\": \"lines\", \"opacity\": 0.7082083861295889, \"type\": \"scatter\", \"x\": [2775.6, 2234.4, null], \"y\": [1039.02, 1121.46, null]}, {\"line\": {\"color\": \"darkgreen\", \"width\": 0.6042189106972743}, \"mode\": \"lines\", \"opacity\": 0.6042189106972743, \"type\": \"scatter\", \"x\": [2775.6, 3074.6, null], \"y\": [1039.02, 578.02, null]}, {\"line\": {\"color\": \"darkgreen\", \"width\": 0.7247467994025996}, \"mode\": \"lines\", \"opacity\": 0.7247467994025996, \"type\": \"scatter\", \"x\": [3506.4, 3380.0, null], \"y\": [1351.7, 1637.68, null]}, {\"line\": {\"color\": \"darkgreen\", \"width\": 0.6664018888107169}, \"mode\": \"lines\", \"opacity\": 0.6664018888107169, \"type\": \"scatter\", \"x\": [3506.4, 3730.0, null], \"y\": [1351.7, 1033.22, null]}, {\"line\": {\"color\": \"darkgreen\", \"width\": 0.6775859470363493}, \"mode\": \"lines\", \"opacity\": 0.6775859470363493, \"type\": \"scatter\", \"x\": [856.84, 657.0, null], \"y\": [1444.26, 1539.64, null]}, {\"line\": {\"color\": \"darkgreen\", \"width\": 0.6782237511368694}, \"mode\": \"lines\", \"opacity\": 0.6782237511368694, \"type\": \"scatter\", \"x\": [856.84, 864.12, null], \"y\": [1444.26, 1943.6, null]}, {\"line\": {\"color\": \"darkgreen\", \"width\": 0.6625097589747317}, \"mode\": \"lines\", \"opacity\": 0.6625097589747317, \"type\": \"scatter\", \"x\": [856.84, 948.88, null], \"y\": [1444.26, 1230.4, null]}, {\"line\": {\"color\": \"darkgreen\", \"width\": 0.7712415791181313}, \"mode\": \"lines\", \"opacity\": 0.7712415791181313, \"type\": \"scatter\", \"x\": [856.84, 1011.1, null], \"y\": [1444.26, 1610.72, null]}, {\"line\": {\"color\": \"darkgreen\", \"width\": 0.6406444540421773}, \"mode\": \"lines\", \"opacity\": 0.6406444540421773, \"type\": \"scatter\", \"x\": [657.0, 948.88, null], \"y\": [1539.64, 1230.4, null]}, {\"line\": {\"color\": \"darkgreen\", \"width\": 0.6970907800360665}, \"mode\": \"lines\", \"opacity\": 0.6970907800360665, \"type\": \"scatter\", \"x\": [657.0, 1011.1, null], \"y\": [1539.64, 1610.72, null]}, {\"line\": {\"color\": \"darkgreen\", \"width\": 0.6107921942382658}, \"mode\": \"lines\", \"opacity\": 0.6107921942382658, \"type\": \"scatter\", \"x\": [657.0, 595.76, null], \"y\": [1539.64, 1412.34, null]}, {\"line\": {\"color\": \"darkgreen\", \"width\": 0.6456493367707559}, \"mode\": \"lines\", \"opacity\": 0.6456493367707559, \"type\": \"scatter\", \"x\": [3205.2, 3074.6, null], \"y\": [36.204, 578.02, null]}, {\"line\": {\"color\": \"darkgreen\", \"width\": 1.0}, \"mode\": \"lines\", \"opacity\": 1.0, \"type\": \"scatter\", \"x\": [864.12, 599.0, null], \"y\": [1943.6, 1926.24, null]}, {\"line\": {\"color\": \"darkgreen\", \"width\": 0.7171561820021768}, \"mode\": \"lines\", \"opacity\": 0.7171561820021768, \"type\": \"scatter\", \"x\": [864.12, 1288.88, null], \"y\": [1943.6, 2106.4, null]}, {\"line\": {\"color\": \"darkgreen\", \"width\": 0.6274624018723586}, \"mode\": \"lines\", \"opacity\": 0.6274624018723586, \"type\": \"scatter\", \"x\": [864.12, 924.22, null], \"y\": [1943.6, 2320.2, null]}, {\"line\": {\"color\": \"darkgreen\", \"width\": 0.6809733171404255}, \"mode\": \"lines\", \"opacity\": 0.6809733171404255, \"type\": \"scatter\", \"x\": [864.12, 1011.1, null], \"y\": [1943.6, 1610.72, null]}, {\"line\": {\"color\": \"darkgreen\", \"width\": 0.6332116010375535}, \"mode\": \"lines\", \"opacity\": 0.6332116010375535, \"type\": \"scatter\", \"x\": [564.34, 948.88, null], \"y\": [892.62, 1230.4, null]}, {\"line\": {\"color\": \"darkgreen\", \"width\": 0.7530103295252888}, \"mode\": \"lines\", \"opacity\": 0.7530103295252888, \"type\": \"scatter\", \"x\": [3380.0, 3620.6, null], \"y\": [1637.68, 1535.18, null]}, {\"line\": {\"color\": \"darkgreen\", \"width\": 0.6146924090600359}, \"mode\": \"lines\", \"opacity\": 0.6146924090600359, \"type\": \"scatter\", \"x\": [71.408, 595.76, null], \"y\": [1270.12, 1412.34, null]}, {\"line\": {\"color\": \"darkgreen\", \"width\": 0.6103364575126095}, \"mode\": \"lines\", \"opacity\": 0.6103364575126095, \"type\": \"scatter\", \"x\": [3754.6, 3313.0, null], \"y\": [527.9, 810.94, null]}, {\"line\": {\"color\": \"darkgreen\", \"width\": 0.792226780072224}, \"mode\": \"lines\", \"opacity\": 0.792226780072224, \"type\": \"scatter\", \"x\": [3754.6, 3730.0, null], \"y\": [527.9, 1033.22, null]}, {\"line\": {\"color\": \"darkgreen\", \"width\": 0.6142326156891721}, \"mode\": \"lines\", \"opacity\": 0.6142326156891721, \"type\": \"scatter\", \"x\": [1288.88, 924.22, null], \"y\": [2106.4, 2320.2, null]}, {\"line\": {\"color\": \"darkgreen\", \"width\": 0.9917356337607353}, \"mode\": \"lines\", \"opacity\": 0.9917356337607353, \"type\": \"scatter\", \"x\": [2234.4, 1584.72, null], \"y\": [1121.46, 1425.22, null]}, {\"line\": {\"color\": \"darkgreen\", \"width\": 0.6326456243993493}, \"mode\": \"lines\", \"opacity\": 0.6326456243993493, \"type\": \"scatter\", \"x\": [3313.0, 3730.0, null], \"y\": [810.94, 1033.22, null]}, {\"line\": {\"color\": \"darkgreen\", \"width\": 0.7034210554503234}, \"mode\": \"lines\", \"opacity\": 0.7034210554503234, \"type\": \"scatter\", \"x\": [4340.8, 3730.0, null], \"y\": [981.44, 1033.22, null]}, {\"line\": {\"color\": \"darkgreen\", \"width\": 0.603784340975915}, \"mode\": \"lines\", \"opacity\": 0.603784340975915, \"type\": \"scatter\", \"x\": [948.88, 1276.22, null], \"y\": [1230.4, 1283.98, null]}, {\"line\": {\"color\": \"darkgreen\", \"width\": 0.6577912265852228}, \"mode\": \"lines\", \"opacity\": 0.6577912265852228, \"type\": \"scatter\", \"x\": [948.88, 1011.1, null], \"y\": [1230.4, 1610.72, null]}, {\"line\": {\"color\": \"darkgreen\", \"width\": 0.6080354169991918}, \"mode\": \"lines\", \"opacity\": 0.6080354169991918, \"type\": \"scatter\", \"x\": [948.88, 595.76, null], \"y\": [1230.4, 1412.34, null]}, {\"line\": {\"color\": \"darkgreen\", \"width\": 0.9057542432250564}, \"mode\": \"lines\", \"opacity\": 0.9057542432250564, \"type\": \"scatter\", \"x\": [3923.8, 3730.0, null], \"y\": [1485.98, 1033.22, null]}, {\"line\": {\"color\": \"darkgreen\", \"width\": 0.7712126638082482}, \"mode\": \"lines\", \"opacity\": 0.7712126638082482, \"type\": \"scatter\", \"x\": [1011.1, 595.76, null], \"y\": [1610.72, 1412.34, null]}, {\"hoverinfo\": \"text\", \"marker\": {\"color\": [21, 13, 11, 11, 6, 5, 7, 8, 8, 6, 4, 5, 3, 6, 5, 3, 5, 2, 1, 1, 5, 4, 6, 6, 1, 1, 7, 1, 3, 5, 1, 2, 9, 0, 3, 5, 1, 10, 1, 2, 0, 3, 1, 9, 7, 4, 9, 4, 6, 3], \"colorbar\": {\"thickness\": 15, \"title\": {\"side\": \"right\", \"text\": \"Adjacency num\"}, \"xanchor\": \"left\"}, \"colorscale\": [[0.0, \"rgb(23, 28, 66)\"], [0.09090909090909091, \"rgb(41, 58, 143)\"], [0.18181818181818182, \"rgb(11, 102, 189)\"], [0.2727272727272727, \"rgb(69, 144, 185)\"], [0.36363636363636365, \"rgb(142, 181, 194)\"], [0.45454545454545453, \"rgb(210, 216, 219)\"], [0.5454545454545454, \"rgb(230, 210, 204)\"], [0.6363636363636364, \"rgb(213, 157, 137)\"], [0.7272727272727273, \"rgb(196, 101, 72)\"], [0.8181818181818182, \"rgb(172, 43, 36)\"], [0.9090909090909091, \"rgb(120, 14, 40)\"], [1.0, \"rgb(60, 9, 17)\"]], \"line\": {\"width\": 1}, \"reversescale\": true, \"showscale\": true, \"size\": [31.168048229088168, 40.0, 19.72871137905049, 21.26601356443105, 13.805576488319517, 32.56970610399397, 12.0, 16.51846269781462, 12.0, 12.0, 12.0, 12.0, 12.0, 12.0, 12.0, 12.0, 12.0, 12.0, 12.0, 12.0, 12.0, 12.0, 12.0, 12.0, 12.0, 12.0, 12.0, 12.0, 12.0, 12.0, 12.0, 12.0, 12.0, 12.0, 12.0, 12.0, 12.0, 12.0, 12.0, 12.0, 12.0, 12.0, 12.0, 12.0, 12.0, 12.0, 12.0, 12.0, 12.0, 12.0]}, \"mode\": \"markers\", \"text\": [\"Username: zpao                     <br>Files changed: 2086                     <br>Activity interval: [2013. 2016.]                     <br>Adjacency num: 21\", \"Username: gaearon                     <br>Files changed: 2672                     <br>Activity interval: [2015. 2021.]                     <br>Adjacency num: 13\", \"Username: bvaughn                     <br>Files changed: 1327                     <br>Activity interval: [2018. 2020.]                     <br>Adjacency num: 11\", \"Username: sophiebits                     <br>Files changed: 1429                     <br>Activity interval: [2013. 2017.]                     <br>Adjacency num: 11\", \"Username: acdlite                     <br>Files changed: 934                     <br>Activity interval: [2015. 2021.]                     <br>Adjacency num: 6\", \"Username: sebmarkbage                     <br>Files changed: 2179                     <br>Activity interval: [2013 2021]                     <br>Adjacency num: 5\", \"Username: jimfb                     <br>Files changed: 489                     <br>Activity interval: [2014. 2016.]                     <br>Adjacency num: 7\", \"Username: trueadm                     <br>Files changed: 1114                     <br>Activity interval: [2017. 2021.]                     <br>Adjacency num: 8\", \"Username: petehunt                     <br>Files changed: 594                     <br>Activity interval: [2013. 2014.]                     <br>Adjacency num: 8\", \"Username: chenglou                     <br>Files changed: 279                     <br>Activity interval: [2013. 2015.]                     <br>Adjacency num: 6\", \"Username: vjeux                     <br>Files changed: 392                     <br>Activity interval: [2013. 2017.]                     <br>Adjacency num: 4\", \"Username: benjamn                     <br>Files changed: 106                     <br>Activity interval: [2013. 2014.]                     <br>Adjacency num: 5\", \"Username: yungsters                     <br>Files changed: 350                     <br>Activity interval: [2013. 2018.]                     <br>Adjacency num: 3\", \"Username: subtleGradient                     <br>Files changed: 70                     <br>Activity interval: [2013. 2014.]                     <br>Adjacency num: 6\", \"Username: nhunzaker                     <br>Files changed: 244                     <br>Activity interval: [2015. 2019.]                     <br>Adjacency num: 5\", \"Username: necolas                     <br>Files changed: 181                     <br>Activity interval: [2019. 2020.]                     <br>Adjacency num: 3\", \"Username: syranide                     <br>Files changed: 99                     <br>Activity interval: [2013. 2015.]                     <br>Adjacency num: 5\", \"Username: cpojer                     <br>Files changed: 213                     <br>Activity interval: [2013. 2018.]                     <br>Adjacency num: 2\", \"Username: flarnie                     <br>Files changed: 139                     <br>Activity interval: [2016. 2018.]                     <br>Adjacency num: 1\", \"Username: koba04                     <br>Files changed: 116                     <br>Activity interval: [2014. 2020.]                     <br>Adjacency num: 1\", \"Username: aweary                     <br>Files changed: 229                     <br>Activity interval: [2016. 2019.]                     <br>Adjacency num: 5\", \"Username: rickhanlonii                     <br>Files changed: 227                     <br>Activity interval: [2019. 2021.]                     <br>Adjacency num: 4\", \"Username: marocchino                     <br>Files changed: 51                     <br>Activity interval: [2015. 2015.]                     <br>Adjacency num: 6\", \"Username: kohei-takata                     <br>Files changed: 43                     <br>Activity interval: [2015. 2015.]                     <br>Adjacency num: 6\", \"Username: lunaruan                     <br>Files changed: 134                     <br>Activity interval: [2019. 2021.]                     <br>Adjacency num: 1\", \"Username: TheSavior                     <br>Files changed: 43                     <br>Activity interval: [2018. 2020.]                     <br>Adjacency num: 1\", \"Username: chicoxyzzy                     <br>Files changed: 118                     <br>Activity interval: [2014. 2016.]                     <br>Adjacency num: 7\", \"Username: keyz                     <br>Files changed: 120                     <br>Activity interval: [2015. 2017.]                     <br>Adjacency num: 1\", \"Username: mcsheffrey                     <br>Files changed: 89                     <br>Activity interval: [2013. 2013.]                     <br>Adjacency num: 3\", \"Username: eps1lon                     <br>Files changed: 108                     <br>Activity interval: [2019. 2021.]                     <br>Adjacency num: 5\", \"Username: bgw                     <br>Files changed: 237                     <br>Activity interval: [2015. 2015.]                     <br>Adjacency num: 1\", \"Username: NE-SmallTown                     <br>Files changed: 22                     <br>Activity interval: [2017. 2020.]                     <br>Adjacency num: 2\", \"Username: joshduck                     <br>Files changed: 25                     <br>Activity interval: [2013. 2014.]                     <br>Adjacency num: 9\", \"Username: aickin                     <br>Files changed: 29                     <br>Activity interval: [2016. 2018.]                     <br>Adjacency num: 0\", \"Username: jquense                     <br>Files changed: 67                     <br>Activity interval: [2015. 2019.]                     <br>Adjacency num: 3\", \"Username: SimenB                     <br>Files changed: 70                     <br>Activity interval: [2015. 2021.]                     <br>Adjacency num: 5\", \"Username: philipp-spiess                     <br>Files changed: 96                     <br>Activity interval: [2017. 2020.]                     <br>Adjacency num: 1\", \"Username: Daniel15                     <br>Files changed: 268                     <br>Activity interval: [2013. 2019.]                     <br>Adjacency num: 10\", \"Username: iamdustan                     <br>Files changed: 98                     <br>Activity interval: [2015. 2019.]                     <br>Adjacency num: 1\", \"Username: threepointone                     <br>Files changed: 169                     <br>Activity interval: [2019. 2020.]                     <br>Adjacency num: 2\", \"Username: Simek                     <br>Files changed: 18                     <br>Activity interval: [2013. 2018.]                     <br>Adjacency num: 0\", \"Username: fisherwebdev                     <br>Files changed: 32                     <br>Activity interval: [2014. 2015.]                     <br>Adjacency num: 3\", \"Username: fabiomcosta                     <br>Files changed: 18                     <br>Activity interval: [2013. 2015.]                     <br>Adjacency num: 1\", \"Username: sompylasar                     <br>Files changed: 46                     <br>Activity interval: [2018. 2020.]                     <br>Adjacency num: 9\", \"Username: jordwalke                     <br>Files changed: 42                     <br>Activity interval: [2013. 2014.]                     <br>Adjacency num: 7\", \"Username: raphamorim                     <br>Files changed: 269                     <br>Activity interval: [2018. 2018.]                     <br>Adjacency num: 4\", \"Username: arkist                     <br>Files changed: 41                     <br>Activity interval: [2015. 2015.]                     <br>Adjacency num: 9\", \"Username: cody                     <br>Files changed: 21                     <br>Activity interval: [2014. 2016.]                     <br>Adjacency num: 4\", \"Username: iamchenxin                     <br>Files changed: 343                     <br>Activity interval: [2015. 2016.]                     <br>Adjacency num: 6\", \"Username: bl00mber                     <br>Files changed: 52                     <br>Activity interval: [2018. 2021.]                     <br>Adjacency num: 3\"], \"type\": \"scatter\", \"x\": [1099.16, 3244.8, 3359.0, 1566.32, 3049.8, 2585.0, 1097.36, 3182.2, 1064.2, 1094.52, 1489.54, 842.48, 1486.14, 588.98, 2765.4, 3555.4, 1137.88, 1326.72, 4191.0, 750.78, 2775.6, 3506.4, 856.84, 657.0, 3678.2, 3205.2, 864.12, 564.34, 599.0, 3380.0, 71.408, 3754.6, 1288.88, 2396.2, 2234.4, 3313.0, 4340.8, 948.88, 3811.0, 3923.8, 1974.28, 1276.22, 111.424, 3730.0, 924.22, 3074.6, 1011.1, 1584.72, 595.76, 3620.6], \"y\": [1753.76, 1158.06, 1480.32, 1653.38, 1208.34, 1461.92, 1394.04, 1299.66, 2070.0, 1922.16, 1806.36, 2216.4, 2075.0, 2240.0, 875.72, 1186.08, 2319.4, 1482.04, 750.58, 739.98, 1039.02, 1351.7, 1444.26, 1539.64, 1939.18, 36.204, 1943.6, 892.62, 1926.24, 1637.68, 1270.12, 527.9, 2106.4, 884.6, 1121.46, 810.94, 981.44, 1230.4, 1128.1, 1485.98, 884.6, 1283.98, 2624.0, 1033.22, 2320.2, 578.02, 1610.72, 1425.22, 1412.34, 1535.18]}],                        {\"annotations\": [{\"showarrow\": false, \"text\": \"Params: {'file_coef': 1, 'time_coef': -0.5}, min_value_for_edge: 0.6\", \"x\": 0.005, \"xref\": \"paper\", \"y\": -0.002, \"yref\": \"paper\"}], \"margin\": {\"b\": 20, \"l\": 5, \"r\": 5, \"t\": 40}, \"showlegend\": false, \"template\": {\"data\": {\"bar\": [{\"error_x\": {\"color\": \"#2a3f5f\"}, \"error_y\": {\"color\": \"#2a3f5f\"}, \"marker\": {\"line\": {\"color\": \"#E5ECF6\", \"width\": 0.5}}, \"type\": \"bar\"}], \"barpolar\": [{\"marker\": {\"line\": {\"color\": \"#E5ECF6\", \"width\": 0.5}}, \"type\": \"barpolar\"}], \"carpet\": [{\"aaxis\": {\"endlinecolor\": \"#2a3f5f\", \"gridcolor\": \"white\", \"linecolor\": \"white\", \"minorgridcolor\": \"white\", \"startlinecolor\": \"#2a3f5f\"}, \"baxis\": {\"endlinecolor\": \"#2a3f5f\", \"gridcolor\": \"white\", \"linecolor\": \"white\", \"minorgridcolor\": \"white\", \"startlinecolor\": \"#2a3f5f\"}, \"type\": \"carpet\"}], \"choropleth\": [{\"colorbar\": {\"outlinewidth\": 0, \"ticks\": \"\"}, \"type\": \"choropleth\"}], \"contour\": [{\"colorbar\": {\"outlinewidth\": 0, \"ticks\": \"\"}, \"colorscale\": [[0.0, \"#0d0887\"], [0.1111111111111111, \"#46039f\"], [0.2222222222222222, \"#7201a8\"], [0.3333333333333333, \"#9c179e\"], [0.4444444444444444, \"#bd3786\"], [0.5555555555555556, \"#d8576b\"], [0.6666666666666666, \"#ed7953\"], [0.7777777777777778, \"#fb9f3a\"], [0.8888888888888888, \"#fdca26\"], [1.0, \"#f0f921\"]], \"type\": \"contour\"}], \"contourcarpet\": [{\"colorbar\": {\"outlinewidth\": 0, \"ticks\": \"\"}, \"type\": \"contourcarpet\"}], \"heatmap\": [{\"colorbar\": {\"outlinewidth\": 0, \"ticks\": \"\"}, \"colorscale\": [[0.0, \"#0d0887\"], [0.1111111111111111, \"#46039f\"], [0.2222222222222222, \"#7201a8\"], [0.3333333333333333, \"#9c179e\"], [0.4444444444444444, \"#bd3786\"], [0.5555555555555556, \"#d8576b\"], [0.6666666666666666, \"#ed7953\"], [0.7777777777777778, \"#fb9f3a\"], [0.8888888888888888, \"#fdca26\"], [1.0, \"#f0f921\"]], \"type\": \"heatmap\"}], \"heatmapgl\": [{\"colorbar\": {\"outlinewidth\": 0, \"ticks\": \"\"}, \"colorscale\": [[0.0, \"#0d0887\"], [0.1111111111111111, \"#46039f\"], [0.2222222222222222, \"#7201a8\"], [0.3333333333333333, \"#9c179e\"], [0.4444444444444444, \"#bd3786\"], [0.5555555555555556, \"#d8576b\"], [0.6666666666666666, \"#ed7953\"], [0.7777777777777778, \"#fb9f3a\"], [0.8888888888888888, \"#fdca26\"], [1.0, \"#f0f921\"]], \"type\": \"heatmapgl\"}], \"histogram\": [{\"marker\": {\"colorbar\": {\"outlinewidth\": 0, \"ticks\": \"\"}}, \"type\": \"histogram\"}], \"histogram2d\": [{\"colorbar\": {\"outlinewidth\": 0, \"ticks\": \"\"}, \"colorscale\": [[0.0, \"#0d0887\"], [0.1111111111111111, \"#46039f\"], [0.2222222222222222, \"#7201a8\"], [0.3333333333333333, \"#9c179e\"], [0.4444444444444444, \"#bd3786\"], [0.5555555555555556, \"#d8576b\"], [0.6666666666666666, \"#ed7953\"], [0.7777777777777778, \"#fb9f3a\"], [0.8888888888888888, \"#fdca26\"], [1.0, \"#f0f921\"]], \"type\": \"histogram2d\"}], \"histogram2dcontour\": [{\"colorbar\": {\"outlinewidth\": 0, \"ticks\": \"\"}, \"colorscale\": [[0.0, \"#0d0887\"], [0.1111111111111111, \"#46039f\"], [0.2222222222222222, \"#7201a8\"], [0.3333333333333333, \"#9c179e\"], [0.4444444444444444, \"#bd3786\"], [0.5555555555555556, \"#d8576b\"], [0.6666666666666666, \"#ed7953\"], [0.7777777777777778, \"#fb9f3a\"], [0.8888888888888888, \"#fdca26\"], [1.0, \"#f0f921\"]], \"type\": \"histogram2dcontour\"}], \"mesh3d\": [{\"colorbar\": {\"outlinewidth\": 0, \"ticks\": \"\"}, \"type\": \"mesh3d\"}], \"parcoords\": [{\"line\": {\"colorbar\": {\"outlinewidth\": 0, \"ticks\": \"\"}}, \"type\": \"parcoords\"}], \"pie\": [{\"automargin\": true, \"type\": \"pie\"}], \"scatter\": [{\"marker\": {\"colorbar\": {\"outlinewidth\": 0, \"ticks\": \"\"}}, \"type\": \"scatter\"}], \"scatter3d\": [{\"line\": {\"colorbar\": {\"outlinewidth\": 0, \"ticks\": \"\"}}, \"marker\": {\"colorbar\": {\"outlinewidth\": 0, \"ticks\": \"\"}}, \"type\": \"scatter3d\"}], \"scattercarpet\": [{\"marker\": {\"colorbar\": {\"outlinewidth\": 0, \"ticks\": \"\"}}, \"type\": \"scattercarpet\"}], \"scattergeo\": [{\"marker\": {\"colorbar\": {\"outlinewidth\": 0, \"ticks\": \"\"}}, \"type\": \"scattergeo\"}], \"scattergl\": [{\"marker\": {\"colorbar\": {\"outlinewidth\": 0, \"ticks\": \"\"}}, \"type\": \"scattergl\"}], \"scattermapbox\": [{\"marker\": {\"colorbar\": {\"outlinewidth\": 0, \"ticks\": \"\"}}, \"type\": \"scattermapbox\"}], \"scatterpolar\": [{\"marker\": {\"colorbar\": {\"outlinewidth\": 0, \"ticks\": \"\"}}, \"type\": \"scatterpolar\"}], \"scatterpolargl\": [{\"marker\": {\"colorbar\": {\"outlinewidth\": 0, \"ticks\": \"\"}}, \"type\": \"scatterpolargl\"}], \"scatterternary\": [{\"marker\": {\"colorbar\": {\"outlinewidth\": 0, \"ticks\": \"\"}}, \"type\": \"scatterternary\"}], \"surface\": [{\"colorbar\": {\"outlinewidth\": 0, \"ticks\": \"\"}, \"colorscale\": [[0.0, \"#0d0887\"], [0.1111111111111111, \"#46039f\"], [0.2222222222222222, \"#7201a8\"], [0.3333333333333333, \"#9c179e\"], [0.4444444444444444, \"#bd3786\"], [0.5555555555555556, \"#d8576b\"], [0.6666666666666666, \"#ed7953\"], [0.7777777777777778, \"#fb9f3a\"], [0.8888888888888888, \"#fdca26\"], [1.0, \"#f0f921\"]], \"type\": \"surface\"}], \"table\": [{\"cells\": {\"fill\": {\"color\": \"#EBF0F8\"}, \"line\": {\"color\": \"white\"}}, \"header\": {\"fill\": {\"color\": \"#C8D4E3\"}, \"line\": {\"color\": \"white\"}}, \"type\": \"table\"}]}, \"layout\": {\"annotationdefaults\": {\"arrowcolor\": \"#2a3f5f\", \"arrowhead\": 0, \"arrowwidth\": 1}, \"autotypenumbers\": \"strict\", \"coloraxis\": {\"colorbar\": {\"outlinewidth\": 0, \"ticks\": \"\"}}, \"colorscale\": {\"diverging\": [[0, \"#8e0152\"], [0.1, \"#c51b7d\"], [0.2, \"#de77ae\"], [0.3, \"#f1b6da\"], [0.4, \"#fde0ef\"], [0.5, \"#f7f7f7\"], [0.6, \"#e6f5d0\"], [0.7, \"#b8e186\"], [0.8, \"#7fbc41\"], [0.9, \"#4d9221\"], [1, \"#276419\"]], \"sequential\": [[0.0, \"#0d0887\"], [0.1111111111111111, \"#46039f\"], [0.2222222222222222, \"#7201a8\"], [0.3333333333333333, \"#9c179e\"], [0.4444444444444444, \"#bd3786\"], [0.5555555555555556, \"#d8576b\"], [0.6666666666666666, \"#ed7953\"], [0.7777777777777778, \"#fb9f3a\"], [0.8888888888888888, \"#fdca26\"], [1.0, \"#f0f921\"]], \"sequentialminus\": [[0.0, \"#0d0887\"], [0.1111111111111111, \"#46039f\"], [0.2222222222222222, \"#7201a8\"], [0.3333333333333333, \"#9c179e\"], [0.4444444444444444, \"#bd3786\"], [0.5555555555555556, \"#d8576b\"], [0.6666666666666666, \"#ed7953\"], [0.7777777777777778, \"#fb9f3a\"], [0.8888888888888888, \"#fdca26\"], [1.0, \"#f0f921\"]]}, \"colorway\": [\"#636efa\", \"#EF553B\", \"#00cc96\", \"#ab63fa\", \"#FFA15A\", \"#19d3f3\", \"#FF6692\", \"#B6E880\", \"#FF97FF\", \"#FECB52\"], \"font\": {\"color\": \"#2a3f5f\"}, \"geo\": {\"bgcolor\": \"white\", \"lakecolor\": \"white\", \"landcolor\": \"#E5ECF6\", \"showlakes\": true, \"showland\": true, \"subunitcolor\": \"white\"}, \"hoverlabel\": {\"align\": \"left\"}, \"hovermode\": \"closest\", \"mapbox\": {\"style\": \"light\"}, \"paper_bgcolor\": \"white\", \"plot_bgcolor\": \"#E5ECF6\", \"polar\": {\"angularaxis\": {\"gridcolor\": \"white\", \"linecolor\": \"white\", \"ticks\": \"\"}, \"bgcolor\": \"#E5ECF6\", \"radialaxis\": {\"gridcolor\": \"white\", \"linecolor\": \"white\", \"ticks\": \"\"}}, \"scene\": {\"xaxis\": {\"backgroundcolor\": \"#E5ECF6\", \"gridcolor\": \"white\", \"gridwidth\": 2, \"linecolor\": \"white\", \"showbackground\": true, \"ticks\": \"\", \"zerolinecolor\": \"white\"}, \"yaxis\": {\"backgroundcolor\": \"#E5ECF6\", \"gridcolor\": \"white\", \"gridwidth\": 2, \"linecolor\": \"white\", \"showbackground\": true, \"ticks\": \"\", \"zerolinecolor\": \"white\"}, \"zaxis\": {\"backgroundcolor\": \"#E5ECF6\", \"gridcolor\": \"white\", \"gridwidth\": 2, \"linecolor\": \"white\", \"showbackground\": true, \"ticks\": \"\", \"zerolinecolor\": \"white\"}}, \"shapedefaults\": {\"line\": {\"color\": \"#2a3f5f\"}}, \"ternary\": {\"aaxis\": {\"gridcolor\": \"white\", \"linecolor\": \"white\", \"ticks\": \"\"}, \"baxis\": {\"gridcolor\": \"white\", \"linecolor\": \"white\", \"ticks\": \"\"}, \"bgcolor\": \"#E5ECF6\", \"caxis\": {\"gridcolor\": \"white\", \"linecolor\": \"white\", \"ticks\": \"\"}}, \"title\": {\"x\": 0.05}, \"xaxis\": {\"automargin\": true, \"gridcolor\": \"white\", \"linecolor\": \"white\", \"ticks\": \"\", \"title\": {\"standoff\": 15}, \"zerolinecolor\": \"white\", \"zerolinewidth\": 2}, \"yaxis\": {\"automargin\": true, \"gridcolor\": \"white\", \"linecolor\": \"white\", \"ticks\": \"\", \"title\": {\"standoff\": 15}, \"zerolinecolor\": \"white\", \"zerolinewidth\": 2}}}, \"title\": {\"font\": {\"size\": 16}, \"text\": \"Social graph of React developers\"}, \"xaxis\": {\"showgrid\": false, \"showticklabels\": false, \"zeroline\": false}, \"yaxis\": {\"showgrid\": false, \"showticklabels\": false, \"zeroline\": false}},                        {\"responsive\": true}                    ).then(function(){\n",
       "                            \n",
       "var gd = document.getElementById('91a6b239-1891-4a6f-b4ee-b397807f0fc3');\n",
       "var x = new MutationObserver(function (mutations, observer) {{\n",
       "        var display = window.getComputedStyle(gd).display;\n",
       "        if (!display || display === 'none') {{\n",
       "            console.log([gd, 'removed!']);\n",
       "            Plotly.purge(gd);\n",
       "            observer.disconnect();\n",
       "        }}\n",
       "}});\n",
       "\n",
       "// Listen for the removal of the full notebook cells\n",
       "var notebookContainer = gd.closest('#notebook-container');\n",
       "if (notebookContainer) {{\n",
       "    x.observe(notebookContainer, {childList: true});\n",
       "}}\n",
       "\n",
       "// Listen for the clearing of the current output cell\n",
       "var outputEl = gd.closest('.output');\n",
       "if (outputEl) {{\n",
       "    x.observe(outputEl, {childList: true});\n",
       "}}\n",
       "\n",
       "                        })                };                });            </script>        </div>"
      ]
     },
     "metadata": {},
     "output_type": "display_data"
    }
   ],
   "source": [
    "fig = go.Figure(trace,\n",
    "                layout=go.Layout(\n",
    "                title='Social graph of React developers',\n",
    "                titlefont_size=16,\n",
    "                showlegend=False,\n",
    "                margin=dict(b=20,l=5,r=5,t=40),\n",
    "                annotations=[ dict(\n",
    "                    text=f\"Params: {weights_params}, min_value_for_edge: {min_value_for_edge}\",\n",
    "                    showarrow=False,\n",
    "                    xref=\"paper\", yref=\"paper\",\n",
    "                    x=0.005, y=-0.002 ) ],\n",
    "                xaxis=dict(showgrid=False, zeroline=False, showticklabels=False),\n",
    "                yaxis=dict(showgrid=False, zeroline=False, showticklabels=False)))\n",
    "fig"
   ]
  },
  {
   "cell_type": "code",
   "execution_count": null,
   "id": "close-seattle",
   "metadata": {},
   "outputs": [],
   "source": []
  }
 ],
 "metadata": {
  "kernelspec": {
   "display_name": "Python 3",
   "language": "python",
   "name": "python3"
  },
  "language_info": {
   "codemirror_mode": {
    "name": "ipython",
    "version": 3
   },
   "file_extension": ".py",
   "mimetype": "text/x-python",
   "name": "python",
   "nbconvert_exporter": "python",
   "pygments_lexer": "ipython3",
   "version": "3.7.4"
  }
 },
 "nbformat": 4,
 "nbformat_minor": 5
}
